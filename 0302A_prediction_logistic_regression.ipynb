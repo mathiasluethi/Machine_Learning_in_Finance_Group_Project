{
 "cells": [
  {
   "cell_type": "markdown",
   "metadata": {},
   "source": [
    "# Introduction to Machine Learning, UZH 2018, Group Project\n",
    "### Group 2: Barbara Capl, Mathias Lüthi, Pamela Matias, Stefanie Rentsch\n",
    "##       \n",
    "# 3. Classification / Prediction \n",
    "# A. with Multiple Logistic Regression\n",
    "\n",
    "In this section we use the feature matrices and response vectors with features selected in chapter 2.  \n",
    "\n",
    "#### We use two different versions (created in chapter 1, features-selected in chapter 2):\n",
    "Version 1: Feature Matrix consists only of the Ratios                                                                        \n",
    "Version 2: Feature Matrix consists of Ratios + dummy variables for seasonality + other market data\n",
    "####  We will do Classification and Prediction with Single and Multiple Regression\n"
   ]
  },
  {
   "cell_type": "code",
   "execution_count": 1,
   "metadata": {},
   "outputs": [],
   "source": [
    "# hide unnecessary warnings (\"depreciation\" of packages etc.)\n",
    "import warnings\n",
    "warnings.filterwarnings('ignore')\n",
    "\n",
    "# Load Packages\n",
    "import pandas as pd\n",
    "import numpy as np\n",
    "import matplotlib.pyplot as plt\n",
    "import statsmodels.api as sm\n",
    "import statsmodels.formula.api as smf\n",
    "from sklearn import metrics\n",
    "\n",
    "plt.style.use(\"seaborn-whitegrid\")\n",
    "%matplotlib inline "
   ]
  },
  {
   "cell_type": "markdown",
   "metadata": {},
   "source": [
    "## 3.0. SETTINGS:"
   ]
  },
  {
   "cell_type": "markdown",
   "metadata": {},
   "source": [
    "### (1) Choose the Dataset Version you want\n",
    "\n",
    "##### Reduced Feature Matrix (Features pre-selected)\n",
    "VERSION = 1; Reduced Feature Matrix with only ratios                                  \n",
    "VERSION = 2;  Reduced Feature Matrix with ratios + saisonality + other market data"
   ]
  },
  {
   "cell_type": "code",
   "execution_count": 2,
   "metadata": {},
   "outputs": [
    {
     "name": "stdout",
     "output_type": "stream",
     "text": [
      "You chose VERSION 1.1 as working dataset. \n",
      "The following Classification/ Prediction will be therefore based on reduced Dataset with only Ratios as predictive Features.\n"
     ]
    }
   ],
   "source": [
    "### Choose which dataset version you want the selection of features and the prediction to be based on \n",
    "VERSION = 1.1\n",
    "\"\"\"\n",
    "INSERT NUMBER 1.1 or 2.1\n",
    "\"\"\"\n",
    "\n",
    "\n",
    "# Defining sel_state variable for usage later and printing text according to your choise   \n",
    "if VERSION == 1.1:\n",
    "    sel_version = 'based on reduced Dataset with only Ratios as predictive Features.'\n",
    "elif VERSION == 2.1:\n",
    "    sel_version = 'based on reduced Dataset with Ratios + Seasonality + other Market   Data as predictive Features.'\n",
    "else: raise ValueError('VERSION must be either 1.1 or 2.1')\n",
    "print('You chose VERSION '+str(VERSION)+' as working dataset. '+'\\n'+'The following Classification/ Prediction will be therefore ' \n",
    "          + sel_version)"
   ]
  },
  {
   "cell_type": "markdown",
   "metadata": {},
   "source": [
    "### (2) Choose which method you want to have the features been pre-selected with\n",
    "SELECTON  = RF ; Features pre-selected with Random Forest Classifier                                                           \n",
    "SELECTION = PCA; Features pre-selected with Principal Component Analysis (PCA)"
   ]
  },
  {
   "cell_type": "code",
   "execution_count": 3,
   "metadata": {},
   "outputs": [
    {
     "name": "stdout",
     "output_type": "stream",
     "text": [
      "You chose SELECTION method Principal Component Analysis (PCA).\n"
     ]
    }
   ],
   "source": [
    "### Choose whether you want the datasets with features selected with RF or PCA\n",
    "SELECTION = 'PCA'\n",
    "\"\"\"\n",
    "INSERT 'RF' OR 'PCA'\n",
    "\"\"\"\n",
    "\n",
    "\n",
    "# Define sel_state variable for easier printing out    \n",
    "if SELECTION == 'RF':\n",
    "    sel_feat = 'Random Forest (RF)'\n",
    "elif SELECTION == 'PCA':\n",
    "    sel_feat = 'Principal Component Analysis (PCA)'\n",
    "else: raise ValueError('SELECTION must be either RF or PCA')\n",
    "briefing = ('You chose dataset VERSION '+str(VERSION)+' and SELECTION method '+str(SELECTION)+'.'+'\\n'+'Features therefore pre-selected with '+str(sel_feat)+'.')\n",
    "#print(sel_feat)\n",
    "print('You chose SELECTION method '+str(sel_feat)+'.')"
   ]
  },
  {
   "cell_type": "markdown",
   "metadata": {},
   "source": [
    "### (3) SUMMARY OF SETTINGS"
   ]
  },
  {
   "cell_type": "code",
   "execution_count": 4,
   "metadata": {},
   "outputs": [
    {
     "name": "stdout",
     "output_type": "stream",
     "text": [
      "You chose dataset VERSION 1.1 and SELECTION method PCA.\n",
      "Features therefore pre-selected with Principal Component Analysis (PCA). \n",
      "\n",
      "VERSION 1.1 is based on reduced Dataset with only Ratios as predictive Features. \n",
      "\n",
      "You are now done with the Settings. You can run the whole Code now by Default.\n"
     ]
    }
   ],
   "source": [
    "print(briefing, '\\n')\n",
    "print('VERSION '+str(VERSION)+' is '+str(sel_version),'\\n')\n",
    "print('You are now done with the Settings. You can run the whole Code now by Default.')"
   ]
  },
  {
   "cell_type": "markdown",
   "metadata": {},
   "source": [
    "## 3.1. Preparation"
   ]
  },
  {
   "cell_type": "markdown",
   "metadata": {},
   "source": [
    "### 3.1.1. Import the Response Vector and the Feature Matrix"
   ]
  },
  {
   "cell_type": "code",
   "execution_count": 5,
   "metadata": {},
   "outputs": [],
   "source": [
    "# import Data (already splitted to train/test-data and selected features-> bc_randomforest_feature_selection)\n",
    "if VERSION == 1.1:\n",
    "    if SELECTION == 'RF':\n",
    "        X_train_s = pd.read_csv('Data/generated_splits/features_selected_randomforest/X1_train_f.csv', sep=',')\n",
    "        X_test_s = pd.read_csv('Data/generated_splits/features_selected_randomforest/X1_test_f.csv', sep=',')\n",
    "        y_train_s = pd.read_csv('Data/generated_splits/features_selected_randomforest/y1_train_f.csv', sep=',')\n",
    "        y_test_s = pd.read_csv('Data/generated_splits/features_selected_randomforest/y1_test_f.csv', sep=',')\n",
    "    elif SELECTION == 'PCA':\n",
    "        X_train_s = pd.read_csv('Data/generated_splits/features_selected_pca/X1_train_p.csv', sep=',', header=0)\n",
    "        X_test_s = pd.read_csv('Data/generated_splits/features_selected_pca/X1_test_p.csv', sep=',', header=0)\n",
    "        y_train_s = pd.read_csv('Data/generated_splits/features_selected_pca/y1_train_p.csv', sep=',', header=0)\n",
    "        y_test_s = pd.read_csv('Data/generated_splits/features_selected_pca/y1_test_p.csv', sep=',', header=0)\n",
    "elif VERSION == 2.1:\n",
    "    if SELECTION == 'RF':\n",
    "        X_train_s = pd.read_csv('Data/generated_splits/features_selected_randomforest/X2_train_f.csv', sep=',', header=0)\n",
    "        X_test_s = pd.read_csv('Data/generated_splits/features_selected_randomforest/X2_test_f.csv', sep=',', header=0)\n",
    "        y_train_s = pd.read_csv('Data/generated_splits/features_selected_randomforest/y2_train_f.csv', sep=',', header=0)\n",
    "        y_test_s = pd.read_csv('Data/generated_splits/features_selected_randomforest/y2_test_f.csv', sep=',', header=0)\n",
    "    elif SELECTION == 'PCA':\n",
    "        X_train_s = pd.read_csv('Data/generated_splits/features_selected_pca/X2_train_p.csv', sep=',', header=0)\n",
    "        X_test_s = pd.read_csv('Data/generated_splits/features_selected_pca/X2_test_p.csv', sep=',', header=0)\n",
    "        y_train_s = pd.read_csv('Data/generated_splits/features_selected_pca/y2_train_p.csv', sep=',', header=0)\n",
    "        y_test_s = pd.read_csv('Data/generated_splits/features_selected_pca/y2_test_p.csv', sep=',', header=0)\n",
    "else: raise ValueError('_VERSION_ value must be either 1.1 or 2.1, _SELECTION_ must be either RF or PCA')   "
   ]
  },
  {
   "cell_type": "markdown",
   "metadata": {},
   "source": [
    "### 3.1.2. Print out Shape and Form of Feature Matrix and Response Vector"
   ]
  },
  {
   "cell_type": "markdown",
   "metadata": {},
   "source": [
    "\n",
    "### Train Set"
   ]
  },
  {
   "cell_type": "code",
   "execution_count": 6,
   "metadata": {},
   "outputs": [
    {
     "name": "stdout",
     "output_type": "stream",
     "text": [
      "Features Selected with Principal Component Analysis (PCA)\n",
      "Version 1.1; based on reduced Dataset with only Ratios as predictive Features. \n",
      "\n",
      "Shape (rows, columns) of Feature Matrix X (Train) =(2836, 20) \n",
      "\n",
      "Feature Matrix X (Train) with Selected Features\n"
     ]
    },
    {
     "data": {
      "text/html": [
       "<div>\n",
       "<style scoped>\n",
       "    .dataframe tbody tr th:only-of-type {\n",
       "        vertical-align: middle;\n",
       "    }\n",
       "\n",
       "    .dataframe tbody tr th {\n",
       "        vertical-align: top;\n",
       "    }\n",
       "\n",
       "    .dataframe thead th {\n",
       "        text-align: right;\n",
       "    }\n",
       "</style>\n",
       "<table border=\"1\" class=\"dataframe\">\n",
       "  <thead>\n",
       "    <tr style=\"text-align: right;\">\n",
       "      <th></th>\n",
       "      <th>0</th>\n",
       "      <th>1</th>\n",
       "      <th>2</th>\n",
       "      <th>3</th>\n",
       "      <th>4</th>\n",
       "      <th>5</th>\n",
       "      <th>6</th>\n",
       "      <th>7</th>\n",
       "      <th>8</th>\n",
       "      <th>9</th>\n",
       "      <th>10</th>\n",
       "      <th>11</th>\n",
       "      <th>12</th>\n",
       "      <th>13</th>\n",
       "      <th>14</th>\n",
       "      <th>15</th>\n",
       "      <th>16</th>\n",
       "      <th>17</th>\n",
       "      <th>18</th>\n",
       "      <th>19</th>\n",
       "    </tr>\n",
       "  </thead>\n",
       "  <tbody>\n",
       "    <tr>\n",
       "      <th>0</th>\n",
       "      <td>-1.992491</td>\n",
       "      <td>-3.854058</td>\n",
       "      <td>-1.358215</td>\n",
       "      <td>0.890327</td>\n",
       "      <td>-1.684515</td>\n",
       "      <td>0.354582</td>\n",
       "      <td>0.985876</td>\n",
       "      <td>-1.014961</td>\n",
       "      <td>-0.450949</td>\n",
       "      <td>-1.154523</td>\n",
       "      <td>-0.575385</td>\n",
       "      <td>1.231744</td>\n",
       "      <td>-0.001642</td>\n",
       "      <td>0.184264</td>\n",
       "      <td>0.428175</td>\n",
       "      <td>-0.200128</td>\n",
       "      <td>-0.589276</td>\n",
       "      <td>1.031207</td>\n",
       "      <td>-0.245835</td>\n",
       "      <td>0.915196</td>\n",
       "    </tr>\n",
       "    <tr>\n",
       "      <th>1</th>\n",
       "      <td>3.623365</td>\n",
       "      <td>1.688617</td>\n",
       "      <td>-3.632058</td>\n",
       "      <td>1.759622</td>\n",
       "      <td>-2.073377</td>\n",
       "      <td>-0.236955</td>\n",
       "      <td>0.596057</td>\n",
       "      <td>-0.452289</td>\n",
       "      <td>0.272625</td>\n",
       "      <td>-0.160948</td>\n",
       "      <td>0.767959</td>\n",
       "      <td>-0.566013</td>\n",
       "      <td>0.264339</td>\n",
       "      <td>-1.212195</td>\n",
       "      <td>-0.071803</td>\n",
       "      <td>-0.456456</td>\n",
       "      <td>0.379755</td>\n",
       "      <td>-0.558656</td>\n",
       "      <td>-0.338545</td>\n",
       "      <td>0.588471</td>\n",
       "    </tr>\n",
       "    <tr>\n",
       "      <th>2</th>\n",
       "      <td>3.970356</td>\n",
       "      <td>-6.469188</td>\n",
       "      <td>0.335661</td>\n",
       "      <td>-1.871439</td>\n",
       "      <td>0.619278</td>\n",
       "      <td>-1.121073</td>\n",
       "      <td>-0.659667</td>\n",
       "      <td>-0.419784</td>\n",
       "      <td>1.375519</td>\n",
       "      <td>0.225101</td>\n",
       "      <td>-0.627626</td>\n",
       "      <td>1.031381</td>\n",
       "      <td>-2.009648</td>\n",
       "      <td>0.295378</td>\n",
       "      <td>-1.021045</td>\n",
       "      <td>-0.206973</td>\n",
       "      <td>-1.234521</td>\n",
       "      <td>1.231399</td>\n",
       "      <td>0.074544</td>\n",
       "      <td>-1.060889</td>\n",
       "    </tr>\n",
       "  </tbody>\n",
       "</table>\n",
       "</div>"
      ],
      "text/plain": [
       "          0         1         2         3         4         5         6  \\\n",
       "0 -1.992491 -3.854058 -1.358215  0.890327 -1.684515  0.354582  0.985876   \n",
       "1  3.623365  1.688617 -3.632058  1.759622 -2.073377 -0.236955  0.596057   \n",
       "2  3.970356 -6.469188  0.335661 -1.871439  0.619278 -1.121073 -0.659667   \n",
       "\n",
       "          7         8         9        10        11        12        13  \\\n",
       "0 -1.014961 -0.450949 -1.154523 -0.575385  1.231744 -0.001642  0.184264   \n",
       "1 -0.452289  0.272625 -0.160948  0.767959 -0.566013  0.264339 -1.212195   \n",
       "2 -0.419784  1.375519  0.225101 -0.627626  1.031381 -2.009648  0.295378   \n",
       "\n",
       "         14        15        16        17        18        19  \n",
       "0  0.428175 -0.200128 -0.589276  1.031207 -0.245835  0.915196  \n",
       "1 -0.071803 -0.456456  0.379755 -0.558656 -0.338545  0.588471  \n",
       "2 -1.021045 -0.206973 -1.234521  1.231399  0.074544 -1.060889  "
      ]
     },
     "metadata": {},
     "output_type": "display_data"
    },
    {
     "name": "stdout",
     "output_type": "stream",
     "text": [
      "\n",
      "Response Vector y (Train) after Feature Selection\n"
     ]
    },
    {
     "data": {
      "text/html": [
       "<div>\n",
       "<style scoped>\n",
       "    .dataframe tbody tr th:only-of-type {\n",
       "        vertical-align: middle;\n",
       "    }\n",
       "\n",
       "    .dataframe tbody tr th {\n",
       "        vertical-align: top;\n",
       "    }\n",
       "\n",
       "    .dataframe thead th {\n",
       "        text-align: right;\n",
       "    }\n",
       "</style>\n",
       "<table border=\"1\" class=\"dataframe\">\n",
       "  <thead>\n",
       "    <tr style=\"text-align: right;\">\n",
       "      <th></th>\n",
       "      <th>0</th>\n",
       "    </tr>\n",
       "  </thead>\n",
       "  <tbody>\n",
       "    <tr>\n",
       "      <th>0</th>\n",
       "      <td>0</td>\n",
       "    </tr>\n",
       "    <tr>\n",
       "      <th>1</th>\n",
       "      <td>1</td>\n",
       "    </tr>\n",
       "    <tr>\n",
       "      <th>2</th>\n",
       "      <td>0</td>\n",
       "    </tr>\n",
       "  </tbody>\n",
       "</table>\n",
       "</div>"
      ],
      "text/plain": [
       "   0\n",
       "0  0\n",
       "1  1\n",
       "2  0"
      ]
     },
     "metadata": {},
     "output_type": "display_data"
    },
    {
     "name": "stdout",
     "output_type": "stream",
     "text": [
      "\n"
     ]
    }
   ],
   "source": [
    "# print status\n",
    "print('Features Selected with ' + str(sel_feat))\n",
    "print('Version ' + str(VERSION) + '; ' + str(sel_version),'\\n')\n",
    "\n",
    "# print properties and head of datasets\n",
    "print('Shape (rows, columns) of Feature Matrix X (Train) ' + '=' + str(X_train_s.shape),'\\n')\n",
    "print('Feature Matrix X (Train) with Selected Features')\n",
    "display(X_train_s[0:3])\n",
    "print(\"\")\n",
    "print('Response Vector y (Train) after Feature Selection')\n",
    "display(y_train_s[0:3])\n",
    "print(\"\")"
   ]
  },
  {
   "cell_type": "markdown",
   "metadata": {},
   "source": [
    "### Test Set"
   ]
  },
  {
   "cell_type": "code",
   "execution_count": 7,
   "metadata": {},
   "outputs": [
    {
     "name": "stdout",
     "output_type": "stream",
     "text": [
      "Features Selected with Principal Component Analysis (PCA)\n",
      "Version 1.1; based on reduced Dataset with only Ratios as predictive Features. \n",
      "\n",
      "Shape (rows, columns) of Feature Matrix X (Test) =(710, 20) \n",
      "\n",
      "Feature Matrix X (Train) with Selected Features\n"
     ]
    },
    {
     "data": {
      "text/html": [
       "<div>\n",
       "<style scoped>\n",
       "    .dataframe tbody tr th:only-of-type {\n",
       "        vertical-align: middle;\n",
       "    }\n",
       "\n",
       "    .dataframe tbody tr th {\n",
       "        vertical-align: top;\n",
       "    }\n",
       "\n",
       "    .dataframe thead th {\n",
       "        text-align: right;\n",
       "    }\n",
       "</style>\n",
       "<table border=\"1\" class=\"dataframe\">\n",
       "  <thead>\n",
       "    <tr style=\"text-align: right;\">\n",
       "      <th></th>\n",
       "      <th>0</th>\n",
       "      <th>1</th>\n",
       "      <th>2</th>\n",
       "      <th>3</th>\n",
       "      <th>4</th>\n",
       "      <th>5</th>\n",
       "      <th>6</th>\n",
       "      <th>7</th>\n",
       "      <th>8</th>\n",
       "      <th>9</th>\n",
       "      <th>10</th>\n",
       "      <th>11</th>\n",
       "      <th>12</th>\n",
       "      <th>13</th>\n",
       "      <th>14</th>\n",
       "      <th>15</th>\n",
       "      <th>16</th>\n",
       "      <th>17</th>\n",
       "      <th>18</th>\n",
       "      <th>19</th>\n",
       "    </tr>\n",
       "  </thead>\n",
       "  <tbody>\n",
       "    <tr>\n",
       "      <th>0</th>\n",
       "      <td>-4.398996</td>\n",
       "      <td>-0.251344</td>\n",
       "      <td>1.228421</td>\n",
       "      <td>1.329040</td>\n",
       "      <td>1.541763</td>\n",
       "      <td>-0.887472</td>\n",
       "      <td>-0.672034</td>\n",
       "      <td>0.404906</td>\n",
       "      <td>-0.127137</td>\n",
       "      <td>1.289256</td>\n",
       "      <td>0.782215</td>\n",
       "      <td>-0.317004</td>\n",
       "      <td>-0.155777</td>\n",
       "      <td>1.665708</td>\n",
       "      <td>-0.545484</td>\n",
       "      <td>-0.595885</td>\n",
       "      <td>-0.311746</td>\n",
       "      <td>0.256147</td>\n",
       "      <td>-0.102956</td>\n",
       "      <td>0.596696</td>\n",
       "    </tr>\n",
       "    <tr>\n",
       "      <th>1</th>\n",
       "      <td>4.547781</td>\n",
       "      <td>-2.110889</td>\n",
       "      <td>1.280300</td>\n",
       "      <td>0.458220</td>\n",
       "      <td>0.257100</td>\n",
       "      <td>0.256832</td>\n",
       "      <td>-0.347967</td>\n",
       "      <td>-0.575476</td>\n",
       "      <td>-0.683411</td>\n",
       "      <td>0.455061</td>\n",
       "      <td>0.746221</td>\n",
       "      <td>0.845377</td>\n",
       "      <td>1.345798</td>\n",
       "      <td>0.919980</td>\n",
       "      <td>-0.666636</td>\n",
       "      <td>-0.541558</td>\n",
       "      <td>-0.264367</td>\n",
       "      <td>0.821406</td>\n",
       "      <td>-0.328575</td>\n",
       "      <td>-0.660287</td>\n",
       "    </tr>\n",
       "    <tr>\n",
       "      <th>2</th>\n",
       "      <td>-2.589346</td>\n",
       "      <td>-3.531489</td>\n",
       "      <td>-0.962613</td>\n",
       "      <td>0.668408</td>\n",
       "      <td>-1.822950</td>\n",
       "      <td>0.761607</td>\n",
       "      <td>1.144378</td>\n",
       "      <td>-0.859776</td>\n",
       "      <td>0.626761</td>\n",
       "      <td>-1.481275</td>\n",
       "      <td>-0.905210</td>\n",
       "      <td>-0.126703</td>\n",
       "      <td>-0.411628</td>\n",
       "      <td>0.844952</td>\n",
       "      <td>-0.330264</td>\n",
       "      <td>0.022627</td>\n",
       "      <td>-0.027291</td>\n",
       "      <td>0.077469</td>\n",
       "      <td>0.641487</td>\n",
       "      <td>-0.394016</td>\n",
       "    </tr>\n",
       "  </tbody>\n",
       "</table>\n",
       "</div>"
      ],
      "text/plain": [
       "          0         1         2         3         4         5         6  \\\n",
       "0 -4.398996 -0.251344  1.228421  1.329040  1.541763 -0.887472 -0.672034   \n",
       "1  4.547781 -2.110889  1.280300  0.458220  0.257100  0.256832 -0.347967   \n",
       "2 -2.589346 -3.531489 -0.962613  0.668408 -1.822950  0.761607  1.144378   \n",
       "\n",
       "          7         8         9        10        11        12        13  \\\n",
       "0  0.404906 -0.127137  1.289256  0.782215 -0.317004 -0.155777  1.665708   \n",
       "1 -0.575476 -0.683411  0.455061  0.746221  0.845377  1.345798  0.919980   \n",
       "2 -0.859776  0.626761 -1.481275 -0.905210 -0.126703 -0.411628  0.844952   \n",
       "\n",
       "         14        15        16        17        18        19  \n",
       "0 -0.545484 -0.595885 -0.311746  0.256147 -0.102956  0.596696  \n",
       "1 -0.666636 -0.541558 -0.264367  0.821406 -0.328575 -0.660287  \n",
       "2 -0.330264  0.022627 -0.027291  0.077469  0.641487 -0.394016  "
      ]
     },
     "metadata": {},
     "output_type": "display_data"
    },
    {
     "name": "stdout",
     "output_type": "stream",
     "text": [
      "\n",
      "Response Vector y (Test) after Feature Selection\n"
     ]
    },
    {
     "data": {
      "text/html": [
       "<div>\n",
       "<style scoped>\n",
       "    .dataframe tbody tr th:only-of-type {\n",
       "        vertical-align: middle;\n",
       "    }\n",
       "\n",
       "    .dataframe tbody tr th {\n",
       "        vertical-align: top;\n",
       "    }\n",
       "\n",
       "    .dataframe thead th {\n",
       "        text-align: right;\n",
       "    }\n",
       "</style>\n",
       "<table border=\"1\" class=\"dataframe\">\n",
       "  <thead>\n",
       "    <tr style=\"text-align: right;\">\n",
       "      <th></th>\n",
       "      <th>0</th>\n",
       "    </tr>\n",
       "  </thead>\n",
       "  <tbody>\n",
       "    <tr>\n",
       "      <th>0</th>\n",
       "      <td>1</td>\n",
       "    </tr>\n",
       "    <tr>\n",
       "      <th>1</th>\n",
       "      <td>0</td>\n",
       "    </tr>\n",
       "    <tr>\n",
       "      <th>2</th>\n",
       "      <td>1</td>\n",
       "    </tr>\n",
       "  </tbody>\n",
       "</table>\n",
       "</div>"
      ],
      "text/plain": [
       "   0\n",
       "0  1\n",
       "1  0\n",
       "2  1"
      ]
     },
     "metadata": {},
     "output_type": "display_data"
    },
    {
     "name": "stdout",
     "output_type": "stream",
     "text": [
      "\n"
     ]
    }
   ],
   "source": [
    "# print status\n",
    "print('Features Selected with ' + str(sel_feat))\n",
    "print('Version ' + str(VERSION) + '; ' + str(sel_version),'\\n')\n",
    "\n",
    "# print properties and head of datasets\n",
    "print('Shape (rows, columns) of Feature Matrix X (Test) ' + '=' + str(X_test_s.shape),'\\n')\n",
    "print('Feature Matrix X (Train) with Selected Features')\n",
    "display(X_test_s[0:3])\n",
    "print(\"\")\n",
    "print('Response Vector y (Test) after Feature Selection')\n",
    "display(y_test_s[0:3])\n",
    "print(\"\")"
   ]
  },
  {
   "cell_type": "markdown",
   "metadata": {},
   "source": [
    "## 3.2. Simple Logistic Regression (statsmodels) (SLM)"
   ]
  },
  {
   "cell_type": "markdown",
   "metadata": {},
   "source": [
    "### 3.2.1. Preparation and fitting (on Training Set) , define BEST FEATURE (SLM)"
   ]
  },
  {
   "cell_type": "code",
   "execution_count": 8,
   "metadata": {},
   "outputs": [
    {
     "data": {
      "text/plain": [
       "'0'"
      ]
     },
     "metadata": {},
     "output_type": "display_data"
    }
   ],
   "source": [
    "# best feature selection taking the column name\n",
    "colNms = X_train_s.columns.values\n",
    "display(colNms[0])"
   ]
  },
  {
   "cell_type": "code",
   "execution_count": 9,
   "metadata": {},
   "outputs": [
    {
     "name": "stdout",
     "output_type": "stream",
     "text": [
      "Features Selected with Principal Component Analysis (PCA)\n",
      "Version 1.1; based on reduced Dataset with only Ratios as predictive Features. \n",
      "\n",
      "ERROR: PCA best feature not defined (PCA is unlabeled)! Thus no Simple Regression available.\n",
      "Proceed to Multiple Regression in chapter 3.3.\n"
     ]
    }
   ],
   "source": [
    "# print status\n",
    "print('Features Selected with ' + str(sel_feat))\n",
    "print('Version ' + str(VERSION) + '; ' + str(sel_version),'\\n')\n",
    "\n",
    "# Run Simple Logistic Regression\n",
    "# Logistic Regression (with the most important feature from feature selection)\n",
    "# Assign \"best_feature\" to matrix X and response to y, acording to chosen Version of datasets and feature Selection method\n",
    "pca_error = ('ERROR: PCA best feature not defined (PCA is unlabeled)! Thus no Simple Regression available.'+'\\n'+'Proceed to Multiple Regression in chapter 3.3.')\n",
    "if VERSION == 1.1:\n",
    "    if SELECTION == 'RF':\n",
    "        best_feature = colNms[0]\n",
    "        logReg = sm.Logit(endog = y_train_s, exog= sm.add_constant(X_train_s[best_feature])).fit()\n",
    "    elif SELECTION == 'PCA':\n",
    "        print(pca_error)\n",
    "elif VERSION == 2.1:\n",
    "    if SELECTION == 'RF':\n",
    "        best_feature = colNms[0]\n",
    "        logReg = sm.Logit(endog = y_train_s, exog= sm.add_constant(X_train_s[best_feature])).fit()\n",
    "    elif SELECTION == 'PCA':\n",
    "        print(pca_error)\n",
    "else: raise ValueError('VERSION value must be either 1 or 2, SELECTION must be either RF or PCA')"
   ]
  },
  {
   "cell_type": "markdown",
   "metadata": {},
   "source": [
    "### 3.2.2. Summary (SLM)"
   ]
  },
  {
   "cell_type": "code",
   "execution_count": 10,
   "metadata": {},
   "outputs": [],
   "source": [
    "# Workaround solution for error (\"AttributeError: module 'scipy.stats' has no attribute 'chisqprob'\")\n",
    "from scipy import stats\n",
    "stats.chisqprob = lambda chisq, df: stats.chi2.sf(chisq, df)"
   ]
  },
  {
   "cell_type": "code",
   "execution_count": 11,
   "metadata": {},
   "outputs": [
    {
     "name": "stdout",
     "output_type": "stream",
     "text": [
      "ERROR: PCA best feature not defined (PCA is unlabeled)! Thus no Simple Regression available.\n",
      "Proceed to Multiple Regression in chapter 3.3.\n"
     ]
    }
   ],
   "source": [
    "# LogReg with only one feature as exogen variable\n",
    "if SELECTION == 'RF':\n",
    "    print(logReg.summary(),'\\n')\n",
    "    print('logReg pvalues: '+'\\n')\n",
    "    print(logReg.pvalues)\n",
    "elif SELECTION == 'PCA':\n",
    "    print(pca_error)\n",
    "else: raise ValueError('VERSION value must be either 1 or 2, SELECTION must be either RF or PCA')"
   ]
  },
  {
   "cell_type": "markdown",
   "metadata": {},
   "source": [
    "### 3.2.3. Assessing Output (SLM)\n",
    "\n",
    "### Hypothesis testing / Confidence Interval"
   ]
  },
  {
   "cell_type": "code",
   "execution_count": 12,
   "metadata": {},
   "outputs": [
    {
     "name": "stdout",
     "output_type": "stream",
     "text": [
      "ERROR: PCA best feature not defined (PCA is unlabeled)! Thus no Simple Regression available.\n",
      "Proceed to Multiple Regression in chapter 3.3.\n"
     ]
    }
   ],
   "source": [
    "significance_level = 0.01\n",
    "\n",
    "if SELECTION == 'RF':\n",
    "    print(str(int(100 - significance_level*100)) + '% Confidence Interval (Significance Level ' \n",
    "          + str(int(significance_level*100)) + '%)')\n",
    "    display(logReg.conf_int(alpha=significance_level))\n",
    "elif SELECTION == 'PCA':\n",
    "    print(pca_error)\n",
    "else: raise ValueError('VERSION value must be either 1 or 2, SELECTION must be either RF or PCA')"
   ]
  },
  {
   "cell_type": "markdown",
   "metadata": {},
   "source": [
    "### 3.2.2. Prediction (SML)\n",
    "\n",
    "### I: In-sample Prediction of probability for returns going UP in the next period (predict y_train)\n"
   ]
  },
  {
   "cell_type": "markdown",
   "metadata": {},
   "source": [
    "#### Prediction of whole Response Vector (Train) based on all available values of the single chosen feature (Train)"
   ]
  },
  {
   "cell_type": "code",
   "execution_count": 13,
   "metadata": {},
   "outputs": [
    {
     "name": "stdout",
     "output_type": "stream",
     "text": [
      "Features Selected with Principal Component Analysis (PCA)\n",
      "Version 1.1; based on reduced Dataset with only Ratios as predictive Features. \n",
      "\n",
      "ERROR: PCA best feature not defined (PCA is unlabeled)! Thus no Simple Regression available.\n",
      "Proceed to Multiple Regression in chapter 3.3.\n"
     ]
    }
   ],
   "source": [
    "# print status\n",
    "print('Features Selected with ' + str(sel_feat))\n",
    "print('Version ' + str(VERSION) + '; ' + str(sel_version),'\\n')\n",
    "\n",
    "# X must include 1 in first column for intercept\n",
    "# we wish to get the probability of 'UP' (=1) for the whole test set\n",
    "if SELECTION == 'RF':\n",
    "    pred_train_all = logReg.predict(sm.add_constant(X_train_s[best_feature]))\n",
    "    print('Predicted probability of price going UP for whole Feature Train Set is: ')\n",
    "    display(pred_train_all.head(3))\n",
    "    print('Actual Response Vector y_train is:')\n",
    "    display(y_train_s.head(3))\n",
    "elif SELECTION == 'PCA':\n",
    "    print(pca_error)\n",
    "else: raise ValueError('VERSION value must be either 1 or 2, SELECTION must be either RF or PCA')"
   ]
  },
  {
   "cell_type": "markdown",
   "metadata": {},
   "source": [
    "### ii: New-sample Prediction of probability for returns going UP in the next period (predict y_test)\n",
    "\n",
    "#### ONE prediction For ONE specific chosen value of predictive variable\n"
   ]
  },
  {
   "cell_type": "code",
   "execution_count": 14,
   "metadata": {},
   "outputs": [
    {
     "name": "stdout",
     "output_type": "stream",
     "text": [
      "Features Selected with Principal Component Analysis (PCA)\n",
      "Version 1.1; based on reduced Dataset with only Ratios as predictive Features. \n",
      "\n"
     ]
    },
    {
     "ename": "NameError",
     "evalue": "name 'best_feature' is not defined",
     "output_type": "error",
     "traceback": [
      "\u001b[0;31m---------------------------------------\u001b[0m",
      "\u001b[0;31mNameError\u001b[0mTraceback (most recent call last)",
      "\u001b[0;32m<ipython-input-14-0d7ee71eb7d4>\u001b[0m in \u001b[0;36m<module>\u001b[0;34m()\u001b[0m\n\u001b[1;32m      2\u001b[0m \u001b[0mprint\u001b[0m\u001b[0;34m(\u001b[0m\u001b[0;34m'Features Selected with '\u001b[0m \u001b[0;34m+\u001b[0m \u001b[0mstr\u001b[0m\u001b[0;34m(\u001b[0m\u001b[0msel_feat\u001b[0m\u001b[0;34m)\u001b[0m\u001b[0;34m)\u001b[0m\u001b[0;34m\u001b[0m\u001b[0m\n\u001b[1;32m      3\u001b[0m \u001b[0mprint\u001b[0m\u001b[0;34m(\u001b[0m\u001b[0;34m'Version '\u001b[0m \u001b[0;34m+\u001b[0m \u001b[0mstr\u001b[0m\u001b[0;34m(\u001b[0m\u001b[0mVERSION\u001b[0m\u001b[0;34m)\u001b[0m \u001b[0;34m+\u001b[0m \u001b[0;34m'; '\u001b[0m \u001b[0;34m+\u001b[0m \u001b[0mstr\u001b[0m\u001b[0;34m(\u001b[0m\u001b[0msel_version\u001b[0m\u001b[0;34m)\u001b[0m\u001b[0;34m,\u001b[0m\u001b[0;34m'\\n'\u001b[0m\u001b[0;34m)\u001b[0m\u001b[0;34m\u001b[0m\u001b[0m\n\u001b[0;32m----> 4\u001b[0;31m \u001b[0mprint\u001b[0m\u001b[0;34m(\u001b[0m\u001b[0;34m'Chosen best feature = '\u001b[0m \u001b[0;34m+\u001b[0m \u001b[0mstr\u001b[0m\u001b[0;34m(\u001b[0m\u001b[0mbest_feature\u001b[0m\u001b[0;34m)\u001b[0m\u001b[0;34m)\u001b[0m\u001b[0;34m\u001b[0m\u001b[0m\n\u001b[0m\u001b[1;32m      5\u001b[0m \u001b[0;34m\u001b[0m\u001b[0m\n\u001b[1;32m      6\u001b[0m \u001b[0;34m\u001b[0m\u001b[0m\n",
      "\u001b[0;31mNameError\u001b[0m: name 'best_feature' is not defined"
     ]
    }
   ],
   "source": [
    "# print status\n",
    "print('Features Selected with ' + str(sel_feat))\n",
    "print('Version ' + str(VERSION) + '; ' + str(sel_version),'\\n')\n",
    "print('Chosen best feature = ' + str(best_feature))\n",
    "\n",
    "\n",
    "# Loop for Version differenciation\n",
    "# X must include 1 in first column for intercept\n",
    "# we wish to get the probability of 'UP' (=1) for a best_feature_value of USD 15\n",
    "if VERSION == 1.1:\n",
    "    if SELECTION == 'RF':\n",
    "        #### Choose value fo chosen best feature manually\n",
    "        # Here: chosen median of feature values + /3 of median of feature values\n",
    "        bfv = np.median(X_train_s[best_feature])+ np.median(X_train_s[best_feature])/3\n",
    "        #bfv = np.mean(X_train_s[best_feature])\n",
    "        #bfv = np.median(X_train_s[best_feature])\n",
    "        best_feature_value = bfv\n",
    "        print('Chosen value of best feature = ' + str(best_feature_value),'\\n')\n",
    "        pred_test_one = logReg.predict([1, best_feature_value])\n",
    "        ratio_response_train = y_train_s.sum() / y_train_s.size\n",
    "        print('Predicted probability of price going UP with chosen ' + str(best_feature) + ' value is: '\n",
    "              + str(\"%.4f\" % round(float(pred_test_one*100),4)) + '%'+'\\n')\n",
    "        print('Actual Ratio of \"UP\" (Train)  =  ' + str(\"%.4f\" % round(float(ratio_response_train*100),4)) + '%')\n",
    "    elif SELECTION == 'PCA':\n",
    "        print(pca_error)  \n",
    "elif VERSION == 2.1:\n",
    "    if SELECTION == 'RF':\n",
    "        #### Choose value fo chosen best feature manually\n",
    "        # Here: chosen median of feature values + /3 of median of feature values\n",
    "        bfv = np.median(X_train_s[best_feature])+ np.median(X_train_s[best_feature])/3\n",
    "        #bfv = np.mean(X_train_s[best_feature])\n",
    "        #bfv = np.median(X_train_s[best_feature])\n",
    "        best_feature_value = bfv\n",
    "        print('Chosen value of best feature = ' + str(best_feature_value),'\\n')\n",
    "        pred_test_one = logReg.predict([1, best_feature_value])\n",
    "        ratio_response_train = y_train_s.sum() / y_train_s.size\n",
    "        print('Predicted probability of price going UP with chosen ' + str(best_feature) + ' value is: '\n",
    "              + str(\"%.4f\" % round(float(pred_test_one*100),4)) + '%')\n",
    "        print('Ratio of \"UP\" (Train)  =  ' + str(\"%.4f\" % round(float(ratio_response_train*100),4)) + '%')\n",
    "    elif SELECTION == 'PCA':\n",
    "        print(pca_error)\n",
    "else: raise ValueError('VERSION value must be either 1 or 2, SELECTION must be either RF or PCA.')"
   ]
  },
  {
   "cell_type": "markdown",
   "metadata": {},
   "source": [
    "#### Prediction of whole Response Vector (Test) based on all available values of the single chosen feature (Test)"
   ]
  },
  {
   "cell_type": "code",
   "execution_count": null,
   "metadata": {},
   "outputs": [],
   "source": [
    "# print status\n",
    "print('Features Selected with ' + str(sel_feat))\n",
    "print('Version ' + str(VERSION) + '; ' + str(sel_version),'\\n')\n",
    "\n",
    "# we wish to get the probability of 'UP' (=1) for the whole test set\n",
    "if SELECTION == 'RF':\n",
    "    pred_test_all = logReg.predict(sm.add_constant(X_test_s[best_feature]))\n",
    "    print('Predicted probability of price going UP for whole Feature Test Set is: '+'\\n')\n",
    "    display(pred_test_all.head(3))\n",
    "    print('Actual Response Vector y_train is:')\n",
    "    display(y_test_s.head(3))\n",
    "elif SELECTION == 'PCA':\n",
    "    print(pca_error)\n",
    "else: raise ValueError('VERSION value must be either 1 or 2, SELECTION must be either RF or PCA')    "
   ]
  },
  {
   "cell_type": "markdown",
   "metadata": {},
   "source": [
    "### 3.2.3. Plot Results for Training Set (SLM)"
   ]
  },
  {
   "cell_type": "code",
   "execution_count": null,
   "metadata": {},
   "outputs": [],
   "source": [
    "# print status\n",
    "print('Features Selected with ' + str(sel_feat))\n",
    "print('Version ' + str(VERSION) + '; ' + str(sel_version),'\\n')\n",
    "print('Chosen best feature = ' + str(best_feature))\n",
    "\n",
    "display(logReg.predict())\n",
    "# Plot scatter and log.Reg\n",
    "if SELECTION == 'RF':\n",
    "    \n",
    "    # Transfer best_feature column an prediction for response vector in a newly made dataframe \"res\"\n",
    "    res = pd.DataFrame()\n",
    "    res['best_feature'] = X_train_s[best_feature]\n",
    "    res['probability'] = logReg.predict()\n",
    "    # Sort results by values of the best_feature column\n",
    "    res = res.sort_values('best_feature')\n",
    "\n",
    "    # Plot\n",
    "    plt.figure(figsize =(8,5))\n",
    "    plt.title(str(best_feature) + ' vs. probability of returns going UP in the next period');\n",
    "    plt.scatter(X_train_s[best_feature], y_train_s, marker ='.')\n",
    "    plt.plot(res.best_feature, res.probability, c = 'k')\n",
    "    plt.axhline(y=0, color = \"gray\", linestyle = \"dashed\")\n",
    "    plt.axhline(y=1, color = \"gray\", linestyle = \"dashed\")\n",
    "    plt.ylabel(\"Probability of UP (=1)\", fontsize =12)\n",
    "    plt.xlabel(str(best_feature), fontsize =12)\n",
    "    \n",
    "elif SELECTION == 'PCA':\n",
    "    print(pca_error)\n",
    "    \n",
    "else: raise ValueError('VERSION value must be either 1 or 2, SELECTION must be either RF or PCA')  "
   ]
  },
  {
   "cell_type": "markdown",
   "metadata": {},
   "source": [
    "###   \n",
    "###   \n",
    "## 3.3. Multiple Logistic Regression with n pre-selected features (MLR1)"
   ]
  },
  {
   "cell_type": "markdown",
   "metadata": {},
   "source": [
    "### 3.3.1. Preparation and fitting (on Training Set) (MLR1)"
   ]
  },
  {
   "cell_type": "code",
   "execution_count": null,
   "metadata": {},
   "outputs": [],
   "source": [
    "## Multiple Log. Regression (with all n best features chosen in Chapter 2 in the feature selection process)\n",
    "logReg_m = sm.Logit(endog = y_train_s, exog = sm.add_constant(X_train_s)).fit() "
   ]
  },
  {
   "cell_type": "markdown",
   "metadata": {},
   "source": [
    "### 3.3.2. Summary (MLR1)"
   ]
  },
  {
   "cell_type": "code",
   "execution_count": null,
   "metadata": {},
   "outputs": [],
   "source": [
    "# print status\n",
    "print('Features Selected with ' + str(sel_feat))\n",
    "print('Version ' + str(VERSION) + '; ' + str(sel_version),'\\n')\n",
    "print(\"Multiple Logistic Regression with all selected features\"+'\\n')\n",
    "\n",
    "# Workaround solution for error (\"AttributeError: module 'scipy.stats' has no attribute 'chisqprob'\")\n",
    "from scipy import stats\n",
    "stats.chisqprob = lambda chisq, df: stats.chi2.sf(chisq, df)\n",
    "\n",
    "# Run Multiple Logistic Regression\n",
    "print(logReg_m.summary().tables[0])\n",
    "print(logReg_m.summary().tables[1])"
   ]
  },
  {
   "cell_type": "markdown",
   "metadata": {},
   "source": [
    "### 3.3.3. Assessing Output (MLR1)\n",
    "\n",
    "### Hypothesis testing / Confidence Interval"
   ]
  },
  {
   "cell_type": "code",
   "execution_count": null,
   "metadata": {},
   "outputs": [],
   "source": [
    "significance_level = 0.01\n",
    "\n",
    "# Print Confidence Interval with Title\n",
    "print(str(int(100 - significance_level*100)) + '% Confidence Interval (Significance Level ' \n",
    "      + str(int(significance_level*100)) + '%)')\n",
    "display(logReg_m.conf_int(alpha=significance_level))"
   ]
  },
  {
   "cell_type": "markdown",
   "metadata": {},
   "source": [
    "### 3.3.4. Prediction (MLR1)\n",
    "Multiple Logistic Regression 1 (pre-selected features with RandomForest in Chapter 2) \n",
    "\n",
    "### I: In-sample Prediction of probability for returns going UP in the next period (predict y_train)\n",
    "\n",
    "#### For whole Training Set\n"
   ]
  },
  {
   "cell_type": "code",
   "execution_count": null,
   "metadata": {},
   "outputs": [],
   "source": [
    "# print status\n",
    "print('Features Selected with ' + str(sel_feat))\n",
    "print('Version ' + str(VERSION) + '; ' + str(sel_version),'\\n')\n",
    "\n",
    "# Get the probability of 'UP' (=1) for the whole training set\n",
    "pred_train_all = logReg_m.predict(sm.add_constant(X_train_s))\n",
    "\n",
    "# Print Prediction and Response Vector, with Title\n",
    "print('Predicted probabilities of price going UP for whole Feature Set (Train) are: ')\n",
    "display(pred_train_all[0:3])\n",
    "print(\"\")\n",
    "print('Response Vector (Train): ')\n",
    "display(y_train_s[0:3])"
   ]
  },
  {
   "cell_type": "markdown",
   "metadata": {},
   "source": [
    "### II: New-sample Prediction of probability for returns going UP in the next period (predict y_test)\n",
    "\n",
    "#### For whole Test Set\n"
   ]
  },
  {
   "cell_type": "code",
   "execution_count": null,
   "metadata": {},
   "outputs": [],
   "source": [
    "# print status\n",
    "print('Features Selected with ' + str(sel_feat))\n",
    "print('Version ' + str(VERSION) + '; ' + str(sel_version),'\\n')\n",
    "\n",
    "# Get the probability of 'UP' (=1) for the whole test set\n",
    "pred_test_all = logReg_m.predict(sm.add_constant(X_test_s))\n",
    "\n",
    "# Print Prediction and Response Vector, with Title\n",
    "print('Predicted probability of price going UP for whole Feature Set (Test) is: ')\n",
    "display(pred_test_all.head(3))\n",
    "print(\"\")\n",
    "print('Response Vector (Test): ')\n",
    "display(y_test_s.head(3))"
   ]
  },
  {
   "cell_type": "markdown",
   "metadata": {},
   "source": [
    "###   \n",
    "###   \n",
    "## 3.4. Multiple Logistic Regression with only significant features (MLR2)\n",
    "\n",
    "Apply an other multiple logistic regression on a transformed dataset with only all significant values from LogReg_m (above)"
   ]
  },
  {
   "cell_type": "markdown",
   "metadata": {},
   "source": [
    "### 3.4.1. Extract significant features (MLR2)"
   ]
  },
  {
   "cell_type": "code",
   "execution_count": null,
   "metadata": {},
   "outputs": [],
   "source": [
    "# extracting significant features with an alpha-boundery of 0.05\n",
    "condition = np.where(logReg_m.pvalues < 0.05)\n",
    "print('\"Condition\" array with index starting with intercept:')\n",
    "display(condition)\n",
    "\n",
    "# Subtract '1' fom every entry in the numpy array \"condition\", because in logReg index 0 starts with the intercept\n",
    "# but in the X_train_s set the index 0 starts with the first feature already\n",
    "# otherwise there would be an error \"index out of range\" when we would try to apply the condition to the X_train_s set\n",
    "condition_sub = np.subtract(condition, 1)\n",
    "print('\"Condition\" array with index starting with the first feature, leaving intercept out of the counting:')\n",
    "display(condition_sub)\n",
    "\n",
    "# extract significant features\n",
    "sign_features = X_train_s.columns.values[condition_sub].tolist()[0]\n",
    "print('Features that were significant in the previous MLR in chapter 3.3.:')\n",
    "print(sign_features)"
   ]
  },
  {
   "cell_type": "markdown",
   "metadata": {},
   "source": [
    "### 3.4.2. Preparation and fitting (on Training Set) (MLR2)"
   ]
  },
  {
   "cell_type": "code",
   "execution_count": null,
   "metadata": {},
   "outputs": [],
   "source": [
    "## Multiple Log. Regression (with significant features from logreg above)\n",
    "# Assign features to X and response vector y\n",
    "\n",
    "if SELECTION == 'RF':\n",
    "    logReg_mm = sm.Logit(endog = y_train_s, exog=sm.add_constant(X_train_s[sign_features])).fit()\n",
    "elif SELECTION == 'PCA':\n",
    "    logReg_mm = sm.Logit(endog = y_train_s, exog=sm.add_constant(X_train_s[sign_features])).fit()\n",
    "else: raise ValueError('SELECTION must be either RF or PCA')"
   ]
  },
  {
   "cell_type": "markdown",
   "metadata": {},
   "source": [
    "### 3.4.3. Summary (MLR2)"
   ]
  },
  {
   "cell_type": "code",
   "execution_count": null,
   "metadata": {},
   "outputs": [],
   "source": [
    "if SELECTION == 'RF':\n",
    "    print(\"Multiple Logistic Regression with selected significant features\"+'\\n')\n",
    "    print(logReg_mm.summary().tables[0])\n",
    "    print(logReg_mm.summary().tables[1])\n",
    "elif SELECTION == 'PCA':\n",
    "    print(\"Multiple Logistic Regression with selected significant features\"+'\\n')\n",
    "    print(logReg_mm.summary().tables[0])\n",
    "    print(logReg_mm.summary().tables[1])\n",
    "else: raise ValueError('SELECTION must be either RF or PCA')"
   ]
  },
  {
   "cell_type": "markdown",
   "metadata": {},
   "source": [
    "### 3.4.4. Assessing Output (MLR2)\n",
    "\n",
    "### Hypothesis testing / Confidence Interval"
   ]
  },
  {
   "cell_type": "code",
   "execution_count": null,
   "metadata": {},
   "outputs": [],
   "source": [
    "significance_level = 0.01\n",
    "\n",
    "# Print Confidence Interval with Title\n",
    "print(str(int(100 - significance_level*100)) + '% Confidence Interval (Significance Level ' \n",
    "      + str(int(significance_level*100)) + '%)')\n",
    "display(logReg_mm.conf_int(alpha=significance_level))"
   ]
  },
  {
   "cell_type": "markdown",
   "metadata": {},
   "source": [
    "### 3.4.5. Prediction (MLR2)\n",
    "Multiple Logistic Regression 1 (pre-selected features with RandomForest in Chapter 2) \n",
    "\n",
    "### I: In-sample Prediction of probability for returns going UP in the next period (predict y_train)\n",
    "\n",
    "#### For whole Training Set\n"
   ]
  },
  {
   "cell_type": "code",
   "execution_count": null,
   "metadata": {},
   "outputs": [],
   "source": [
    "# print status\n",
    "print('Features Selected with ' + str(sel_feat))\n",
    "print('Version ' + str(VERSION) + '; ' + str(sel_version),'\\n')\n",
    "\n",
    "# Get the probability of 'UP' (=1) for the whole training set\n",
    "pred_train_all = logReg_mm.predict(sm.add_constant(X_train_s[sign_features]))\n",
    "\n",
    "# Print Prediction and Response Vector, with Title\n",
    "print('Predicted probabilities of price going UP for whole Feature Set (Train) are: ')\n",
    "display(pred_train_all[0:3])\n",
    "print(\"\")\n",
    "print('Response Vector (Train): ')\n",
    "display(y_train_s[0:3])"
   ]
  },
  {
   "cell_type": "markdown",
   "metadata": {},
   "source": [
    "### II: New-sample Prediction of probability for returns going UP in the next period (predict y_test)\n",
    "\n",
    "#### For whole Test Set\n"
   ]
  },
  {
   "cell_type": "code",
   "execution_count": null,
   "metadata": {},
   "outputs": [],
   "source": [
    "# print status\n",
    "print('Features Selected with ' + str(sel_feat))\n",
    "print('Version ' + str(VERSION) + '; ' + str(sel_version),'\\n')\n",
    "\n",
    "# Get the probability of 'UP' (=1) for the whole test set\n",
    "pred_test_all = logReg_mm.predict(sm.add_constant(X_train_s[sign_features]))\n",
    "\n",
    "# Print Prediction and Response Vector, with Title\n",
    "print('Predicted probability of price going UP for whole Feature Set (Test) is: ')\n",
    "display(pred_test_all.head(3))\n",
    "print(\"\")\n",
    "print('Response Vector (Test): ')\n",
    "display(y_test_s.head(3))"
   ]
  }
 ],
 "metadata": {
  "kernelspec": {
   "display_name": "Python 3",
   "language": "python",
   "name": "python3"
  },
  "language_info": {
   "codemirror_mode": {
    "name": "ipython",
    "version": 3
   },
   "file_extension": ".py",
   "mimetype": "text/x-python",
   "name": "python",
   "nbconvert_exporter": "python",
   "pygments_lexer": "ipython3",
   "version": "3.6.4"
  }
 },
 "nbformat": 4,
 "nbformat_minor": 2
}
