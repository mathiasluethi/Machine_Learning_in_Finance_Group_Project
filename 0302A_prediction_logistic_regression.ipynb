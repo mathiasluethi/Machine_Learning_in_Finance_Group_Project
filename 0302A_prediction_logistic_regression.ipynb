{
 "cells": [
  {
   "cell_type": "markdown",
   "metadata": {},
   "source": [
    "# Introduction to Machine Learning, UZH 2018, Group Project\n",
    "### Group 2: Barbara Capl, Mathias Lüthi, Pamela Matias, Stefanie Rentsch\n",
    "##       \n",
    "# 3. Classification / Prediction \n",
    "# A. with Single and Multiple Logistic Regression\n",
    "\n",
    "In this section we use the feature matrices and response vectors with features selected in chapter 2.  \n",
    "\n",
    "#### We use two different versions (created in chapter 1, features-selected in chapter 2):\n",
    "Version 1: Feature Matrix consists only of the Ratios                                                                        \n",
    "Version 2: Feature Matrix consists of Ratios + dummy variables for seasonality + other market data\n",
    "####  We will do Classification and Prediction with Single and Multiple Regression\n"
   ]
  },
  {
   "cell_type": "code",
   "execution_count": 1,
   "metadata": {},
   "outputs": [],
   "source": [
    "# hide unnecessary warnings (\"depreciation\" of packages etc.)\n",
    "import warnings\n",
    "warnings.filterwarnings('ignore')\n",
    "\n",
    "# Load Packages\n",
    "import pandas as pd\n",
    "import numpy as np\n",
    "import statsmodels.api as sm\n",
    "import statsmodels.formula.api as smf\n",
    "from sklearn import metrics"
   ]
  },
  {
   "cell_type": "markdown",
   "metadata": {},
   "source": [
    "###   \n",
    "###   \n",
    "## 3.0. SETTINGS:"
   ]
  },
  {
   "cell_type": "markdown",
   "metadata": {},
   "source": [
    "### (1) Choose the Dataset Version you want\n",
    "\n",
    "##### Reduced Feature Matrix (Features pre-selected)\n",
    "VERSION = 1.1; Reduced Feature Matrix with only ratios                                  \n",
    "VERSION = 2.1;  Reduced Feature Matrix with ratios + saisonality + other market data"
   ]
  },
  {
   "cell_type": "code",
   "execution_count": 2,
   "metadata": {},
   "outputs": [
    {
     "name": "stdout",
     "output_type": "stream",
     "text": [
      "You chose VERSION 1.1 as working dataset. \n",
      "The following Classification/ Prediction will be therefore based on reduced Dataset with only Ratios as predictive Features.\n"
     ]
    }
   ],
   "source": [
    "### Choose which dataset version you want the selection of features and the prediction to be based on \n",
    "VERSION = 1.1\n",
    "\"\"\"\n",
    "INSERT NUMBER 1.1 or 2.1\n",
    "\"\"\"\n",
    "\n",
    "\n",
    "# Defining sel_state variable for usage later and printing text according to your choise   \n",
    "if VERSION == 1.1:\n",
    "    sel_version = 'based on reduced Dataset with only Ratios as predictive Features.'\n",
    "elif VERSION == 2.1:\n",
    "    sel_version = 'based on reduced Dataset with Ratios + Seasonality + other Market   Data as predictive Features.'\n",
    "else: raise ValueError('VERSION must be either 1.1 or 2.1')\n",
    "print('You chose VERSION '+str(VERSION)+' as working dataset. '+'\\n'+'The following Classification/ Prediction will be therefore ' \n",
    "          + sel_version)"
   ]
  },
  {
   "cell_type": "markdown",
   "metadata": {},
   "source": [
    "### (2) Choose which method you want to have the features been pre-selected with\n",
    "SELECTON  = RF ; Features pre-selected with Random Forest Classifier                                                           \n",
    "SELECTION = PCA; Features pre-selected with Principal Component Analysis (PCA)"
   ]
  },
  {
   "cell_type": "code",
   "execution_count": 3,
   "metadata": {},
   "outputs": [
    {
     "name": "stdout",
     "output_type": "stream",
     "text": [
      "You chose SELECTION method Random Forest (RF).\n"
     ]
    }
   ],
   "source": [
    "### Choose whether you want the datasets with features selected with RF or PCA\n",
    "SELECTION = 'RF'\n",
    "\"\"\"\n",
    "INSERT 'RF' OR 'PCA'\n",
    "\"\"\"\n",
    "\n",
    "\n",
    "# Define sel_state variable for easier printing out    \n",
    "if SELECTION == 'RF':\n",
    "    sel_feat = 'Random Forest (RF)'\n",
    "elif SELECTION == 'PCA':\n",
    "    sel_feat = 'Principal Component Analysis (PCA)'\n",
    "else: raise ValueError('SELECTION must be either RF or PCA')\n",
    "briefing = ('You chose dataset VERSION '+str(VERSION)+' and SELECTION method '+str(SELECTION)+'.'+'\\n'+'Features therefore pre-selected with '+str(sel_feat)+'.')\n",
    "#print(sel_feat)\n",
    "print('You chose SELECTION method '+str(sel_feat)+'.')"
   ]
  },
  {
   "cell_type": "markdown",
   "metadata": {},
   "source": [
    "### (3) SUMMARY OF SETTINGS"
   ]
  },
  {
   "cell_type": "code",
   "execution_count": 4,
   "metadata": {},
   "outputs": [
    {
     "name": "stdout",
     "output_type": "stream",
     "text": [
      "You chose dataset VERSION 1.1 and SELECTION method RF.\n",
      "Features therefore pre-selected with Random Forest (RF). \n",
      "\n",
      "VERSION 1.1 is based on reduced Dataset with only Ratios as predictive Features. \n",
      "\n",
      "You are now done with the Settings. You can run the whole Code now by Default.\n"
     ]
    }
   ],
   "source": [
    "print(briefing, '\\n')\n",
    "print('VERSION '+str(VERSION)+' is '+str(sel_version),'\\n')\n",
    "print('You are now done with the Settings. You can run the whole Code now by Default.')"
   ]
  },
  {
   "cell_type": "markdown",
   "metadata": {},
   "source": [
    "###   \n",
    "###   \n",
    "## 3.1. Preparation"
   ]
  },
  {
   "cell_type": "markdown",
   "metadata": {},
   "source": [
    "### 3.1.1. Import the Response Vector and the Feature Matrix"
   ]
  },
  {
   "cell_type": "code",
   "execution_count": 5,
   "metadata": {},
   "outputs": [],
   "source": [
    "# import Data (already splitted to train/test-data and selected features-> bc_randomforest_feature_selection)\n",
    "if VERSION == 1.1:\n",
    "    if SELECTION == 'RF':\n",
    "        X_train_s = pd.read_csv('Data/generated_splits/features_selected_randomforest/X1_train_f.csv', sep=',')\n",
    "        X_test_s = pd.read_csv('Data/generated_splits/features_selected_randomforest/X1_test_f.csv', sep=',')\n",
    "        y_train_s = pd.read_csv('Data/generated_splits/features_selected_randomforest/y1_train_f.csv', sep=',')\n",
    "        y_test_s = pd.read_csv('Data/generated_splits/features_selected_randomforest/y1_test_f.csv', sep=',')\n",
    "    elif SELECTION == 'PCA':\n",
    "        X_train_s = pd.read_csv('Data/generated_splits/features_selected_pca/X1_train_p.csv', sep=',', header=0)\n",
    "        X_test_s = pd.read_csv('Data/generated_splits/features_selected_pca/X1_test_p.csv', sep=',', header=0)\n",
    "        y_train_s = pd.read_csv('Data/generated_splits/features_selected_pca/y1_train_p.csv', sep=',', header=0)\n",
    "        y_test_s = pd.read_csv('Data/generated_splits/features_selected_pca/y1_test_p.csv', sep=',', header=0)\n",
    "elif VERSION == 2.1:\n",
    "    if SELECTION == 'RF':\n",
    "        X_train_s = pd.read_csv('Data/generated_splits/features_selected_randomforest/X2_train_f.csv', sep=',', header=0)\n",
    "        X_test_s = pd.read_csv('Data/generated_splits/features_selected_randomforest/X2_test_f.csv', sep=',', header=0)\n",
    "        y_train_s = pd.read_csv('Data/generated_splits/features_selected_randomforest/y2_train_f.csv', sep=',', header=0)\n",
    "        y_test_s = pd.read_csv('Data/generated_splits/features_selected_randomforest/y2_test_f.csv', sep=',', header=0)\n",
    "    elif SELECTION == 'PCA':\n",
    "        X_train_s = pd.read_csv('Data/generated_splits/features_selected_pca/X2_train_p.csv', sep=',', header=0)\n",
    "        X_test_s = pd.read_csv('Data/generated_splits/features_selected_pca/X2_test_p.csv', sep=',', header=0)\n",
    "        y_train_s = pd.read_csv('Data/generated_splits/features_selected_pca/y2_train_p.csv', sep=',', header=0)\n",
    "        y_test_s = pd.read_csv('Data/generated_splits/features_selected_pca/y2_test_p.csv', sep=',', header=0)\n",
    "else: raise ValueError('_VERSION_ value must be either 1.1 or 2.1, _SELECTION_ must be either RF or PCA')   "
   ]
  },
  {
   "cell_type": "markdown",
   "metadata": {},
   "source": [
    "### 3.1.2. Print out Shape and Form of Feature Matrix and Response Vector"
   ]
  },
  {
   "cell_type": "markdown",
   "metadata": {},
   "source": [
    "\n",
    "### Train Set"
   ]
  },
  {
   "cell_type": "code",
   "execution_count": 6,
   "metadata": {},
   "outputs": [
    {
     "name": "stdout",
     "output_type": "stream",
     "text": [
      "Features Selected with Random Forest (RF)\n",
      "Version 1.1; based on reduced Dataset with only Ratios as predictive Features. \n",
      "\n",
      "Shape (rows, columns) of Feature Matrix X (Train) =(2836, 20) \n",
      "\n",
      "Feature Matrix X (Train) with Selected Features\n"
     ]
    },
    {
     "data": {
      "text/html": [
       "<div>\n",
       "<style scoped>\n",
       "    .dataframe tbody tr th:only-of-type {\n",
       "        vertical-align: middle;\n",
       "    }\n",
       "\n",
       "    .dataframe tbody tr th {\n",
       "        vertical-align: top;\n",
       "    }\n",
       "\n",
       "    .dataframe thead th {\n",
       "        text-align: right;\n",
       "    }\n",
       "</style>\n",
       "<table border=\"1\" class=\"dataframe\">\n",
       "  <thead>\n",
       "    <tr style=\"text-align: right;\">\n",
       "      <th></th>\n",
       "      <th>pe_op_dil</th>\n",
       "      <th>CAPEI</th>\n",
       "      <th>pe_op_basic</th>\n",
       "      <th>divyield</th>\n",
       "      <th>pe_exi</th>\n",
       "      <th>pcf</th>\n",
       "      <th>ptb</th>\n",
       "      <th>PEG_ltgforward</th>\n",
       "      <th>bm</th>\n",
       "      <th>evm</th>\n",
       "      <th>ps</th>\n",
       "      <th>pe_inc</th>\n",
       "      <th>PEG_1yrforward</th>\n",
       "      <th>PEG_trailing</th>\n",
       "      <th>dpr</th>\n",
       "      <th>GProf</th>\n",
       "      <th>roe</th>\n",
       "      <th>short_debt</th>\n",
       "      <th>invt_act</th>\n",
       "      <th>roce</th>\n",
       "    </tr>\n",
       "  </thead>\n",
       "  <tbody>\n",
       "    <tr>\n",
       "      <th>0</th>\n",
       "      <td>15.633</td>\n",
       "      <td>20.773</td>\n",
       "      <td>15.468</td>\n",
       "      <td>0.0354</td>\n",
       "      <td>18.484</td>\n",
       "      <td>9.957</td>\n",
       "      <td>1.811</td>\n",
       "      <td>5.963</td>\n",
       "      <td>0.547</td>\n",
       "      <td>10.644</td>\n",
       "      <td>3.703</td>\n",
       "      <td>18.484</td>\n",
       "      <td>13.678</td>\n",
       "      <td>1.181</td>\n",
       "      <td>0.623</td>\n",
       "      <td>0.245</td>\n",
       "      <td>0.102</td>\n",
       "      <td>0.173</td>\n",
       "      <td>0.108</td>\n",
       "      <td>0.140</td>\n",
       "    </tr>\n",
       "    <tr>\n",
       "      <th>1</th>\n",
       "      <td>17.296</td>\n",
       "      <td>25.089</td>\n",
       "      <td>17.203</td>\n",
       "      <td>0.0398</td>\n",
       "      <td>39.232</td>\n",
       "      <td>8.509</td>\n",
       "      <td>2.189</td>\n",
       "      <td>5.702</td>\n",
       "      <td>0.461</td>\n",
       "      <td>9.246</td>\n",
       "      <td>0.689</td>\n",
       "      <td>39.232</td>\n",
       "      <td>1.521</td>\n",
       "      <td>0.668</td>\n",
       "      <td>2.175</td>\n",
       "      <td>0.164</td>\n",
       "      <td>0.067</td>\n",
       "      <td>0.084</td>\n",
       "      <td>0.368</td>\n",
       "      <td>0.105</td>\n",
       "    </tr>\n",
       "    <tr>\n",
       "      <th>2</th>\n",
       "      <td>9.209</td>\n",
       "      <td>12.337</td>\n",
       "      <td>9.135</td>\n",
       "      <td>0.0268</td>\n",
       "      <td>13.062</td>\n",
       "      <td>1.993</td>\n",
       "      <td>1.076</td>\n",
       "      <td>2.248</td>\n",
       "      <td>0.911</td>\n",
       "      <td>12.474</td>\n",
       "      <td>2.034</td>\n",
       "      <td>13.062</td>\n",
       "      <td>0.380</td>\n",
       "      <td>3.048</td>\n",
       "      <td>0.337</td>\n",
       "      <td>0.040</td>\n",
       "      <td>0.091</td>\n",
       "      <td>0.532</td>\n",
       "      <td>0.152</td>\n",
       "      <td>0.075</td>\n",
       "    </tr>\n",
       "  </tbody>\n",
       "</table>\n",
       "</div>"
      ],
      "text/plain": [
       "   pe_op_dil   CAPEI  pe_op_basic  divyield  pe_exi    pcf    ptb  \\\n",
       "0     15.633  20.773       15.468    0.0354  18.484  9.957  1.811   \n",
       "1     17.296  25.089       17.203    0.0398  39.232  8.509  2.189   \n",
       "2      9.209  12.337        9.135    0.0268  13.062  1.993  1.076   \n",
       "\n",
       "   PEG_ltgforward     bm     evm     ps  pe_inc  PEG_1yrforward  PEG_trailing  \\\n",
       "0           5.963  0.547  10.644  3.703  18.484          13.678         1.181   \n",
       "1           5.702  0.461   9.246  0.689  39.232           1.521         0.668   \n",
       "2           2.248  0.911  12.474  2.034  13.062           0.380         3.048   \n",
       "\n",
       "     dpr  GProf    roe  short_debt  invt_act   roce  \n",
       "0  0.623  0.245  0.102       0.173     0.108  0.140  \n",
       "1  2.175  0.164  0.067       0.084     0.368  0.105  \n",
       "2  0.337  0.040  0.091       0.532     0.152  0.075  "
      ]
     },
     "metadata": {},
     "output_type": "display_data"
    },
    {
     "name": "stdout",
     "output_type": "stream",
     "text": [
      "\n",
      "Response Vector y (Train) after Feature Selection\n"
     ]
    },
    {
     "data": {
      "text/html": [
       "<div>\n",
       "<style scoped>\n",
       "    .dataframe tbody tr th:only-of-type {\n",
       "        vertical-align: middle;\n",
       "    }\n",
       "\n",
       "    .dataframe tbody tr th {\n",
       "        vertical-align: top;\n",
       "    }\n",
       "\n",
       "    .dataframe thead th {\n",
       "        text-align: right;\n",
       "    }\n",
       "</style>\n",
       "<table border=\"1\" class=\"dataframe\">\n",
       "  <thead>\n",
       "    <tr style=\"text-align: right;\">\n",
       "      <th></th>\n",
       "      <th>0</th>\n",
       "    </tr>\n",
       "  </thead>\n",
       "  <tbody>\n",
       "    <tr>\n",
       "      <th>0</th>\n",
       "      <td>0</td>\n",
       "    </tr>\n",
       "    <tr>\n",
       "      <th>1</th>\n",
       "      <td>1</td>\n",
       "    </tr>\n",
       "    <tr>\n",
       "      <th>2</th>\n",
       "      <td>0</td>\n",
       "    </tr>\n",
       "  </tbody>\n",
       "</table>\n",
       "</div>"
      ],
      "text/plain": [
       "   0\n",
       "0  0\n",
       "1  1\n",
       "2  0"
      ]
     },
     "metadata": {},
     "output_type": "display_data"
    },
    {
     "name": "stdout",
     "output_type": "stream",
     "text": [
      "\n"
     ]
    }
   ],
   "source": [
    "# print status\n",
    "print('Features Selected with ' + str(sel_feat))\n",
    "print('Version ' + str(VERSION) + '; ' + str(sel_version),'\\n')\n",
    "\n",
    "# print properties and head of datasets\n",
    "print('Shape (rows, columns) of Feature Matrix X (Train) ' + '=' + str(X_train_s.shape),'\\n')\n",
    "print('Feature Matrix X (Train) with Selected Features')\n",
    "display(X_train_s[0:3])\n",
    "print(\"\")\n",
    "print('Response Vector y (Train) after Feature Selection')\n",
    "display(y_train_s[0:3])\n",
    "print(\"\")"
   ]
  },
  {
   "cell_type": "markdown",
   "metadata": {},
   "source": [
    "### Test Set"
   ]
  },
  {
   "cell_type": "code",
   "execution_count": 7,
   "metadata": {},
   "outputs": [
    {
     "name": "stdout",
     "output_type": "stream",
     "text": [
      "Features Selected with Random Forest (RF)\n",
      "Version 1.1; based on reduced Dataset with only Ratios as predictive Features. \n",
      "\n",
      "Shape (rows, columns) of Feature Matrix X (Test) =(710, 20) \n",
      "\n",
      "Feature Matrix X (Train) with Selected Features\n"
     ]
    },
    {
     "data": {
      "text/html": [
       "<div>\n",
       "<style scoped>\n",
       "    .dataframe tbody tr th:only-of-type {\n",
       "        vertical-align: middle;\n",
       "    }\n",
       "\n",
       "    .dataframe tbody tr th {\n",
       "        vertical-align: top;\n",
       "    }\n",
       "\n",
       "    .dataframe thead th {\n",
       "        text-align: right;\n",
       "    }\n",
       "</style>\n",
       "<table border=\"1\" class=\"dataframe\">\n",
       "  <thead>\n",
       "    <tr style=\"text-align: right;\">\n",
       "      <th></th>\n",
       "      <th>pe_op_dil</th>\n",
       "      <th>CAPEI</th>\n",
       "      <th>pe_op_basic</th>\n",
       "      <th>divyield</th>\n",
       "      <th>pe_exi</th>\n",
       "      <th>pcf</th>\n",
       "      <th>ptb</th>\n",
       "      <th>PEG_ltgforward</th>\n",
       "      <th>bm</th>\n",
       "      <th>evm</th>\n",
       "      <th>ps</th>\n",
       "      <th>pe_inc</th>\n",
       "      <th>PEG_1yrforward</th>\n",
       "      <th>PEG_trailing</th>\n",
       "      <th>dpr</th>\n",
       "      <th>GProf</th>\n",
       "      <th>roe</th>\n",
       "      <th>short_debt</th>\n",
       "      <th>invt_act</th>\n",
       "      <th>roce</th>\n",
       "    </tr>\n",
       "  </thead>\n",
       "  <tbody>\n",
       "    <tr>\n",
       "      <th>0</th>\n",
       "      <td>16.224</td>\n",
       "      <td>20.983</td>\n",
       "      <td>16.127</td>\n",
       "      <td>0.0187</td>\n",
       "      <td>16.224</td>\n",
       "      <td>10.484</td>\n",
       "      <td>4.189</td>\n",
       "      <td>1.330</td>\n",
       "      <td>0.254</td>\n",
       "      <td>8.585</td>\n",
       "      <td>3.318</td>\n",
       "      <td>16.224</td>\n",
       "      <td>1.414</td>\n",
       "      <td>1.022</td>\n",
       "      <td>0.287</td>\n",
       "      <td>0.354</td>\n",
       "      <td>0.272</td>\n",
       "      <td>0.025</td>\n",
       "      <td>0.025</td>\n",
       "      <td>0.364</td>\n",
       "    </tr>\n",
       "    <tr>\n",
       "      <th>1</th>\n",
       "      <td>16.489</td>\n",
       "      <td>21.663</td>\n",
       "      <td>16.311</td>\n",
       "      <td>0.0122</td>\n",
       "      <td>18.555</td>\n",
       "      <td>7.709</td>\n",
       "      <td>4.281</td>\n",
       "      <td>1.572</td>\n",
       "      <td>0.235</td>\n",
       "      <td>13.619</td>\n",
       "      <td>2.379</td>\n",
       "      <td>18.555</td>\n",
       "      <td>1.737</td>\n",
       "      <td>1.147</td>\n",
       "      <td>0.199</td>\n",
       "      <td>0.062</td>\n",
       "      <td>0.238</td>\n",
       "      <td>0.106</td>\n",
       "      <td>0.157</td>\n",
       "      <td>0.108</td>\n",
       "    </tr>\n",
       "    <tr>\n",
       "      <th>2</th>\n",
       "      <td>9.520</td>\n",
       "      <td>16.327</td>\n",
       "      <td>9.520</td>\n",
       "      <td>0.0343</td>\n",
       "      <td>15.681</td>\n",
       "      <td>8.490</td>\n",
       "      <td>2.198</td>\n",
       "      <td>6.149</td>\n",
       "      <td>0.513</td>\n",
       "      <td>6.716</td>\n",
       "      <td>3.293</td>\n",
       "      <td>15.550</td>\n",
       "      <td>-0.973</td>\n",
       "      <td>1.022</td>\n",
       "      <td>0.792</td>\n",
       "      <td>0.321</td>\n",
       "      <td>0.124</td>\n",
       "      <td>0.253</td>\n",
       "      <td>0.078</td>\n",
       "      <td>0.196</td>\n",
       "    </tr>\n",
       "  </tbody>\n",
       "</table>\n",
       "</div>"
      ],
      "text/plain": [
       "   pe_op_dil   CAPEI  pe_op_basic  divyield  pe_exi     pcf    ptb  \\\n",
       "0     16.224  20.983       16.127    0.0187  16.224  10.484  4.189   \n",
       "1     16.489  21.663       16.311    0.0122  18.555   7.709  4.281   \n",
       "2      9.520  16.327        9.520    0.0343  15.681   8.490  2.198   \n",
       "\n",
       "   PEG_ltgforward     bm     evm     ps  pe_inc  PEG_1yrforward  PEG_trailing  \\\n",
       "0           1.330  0.254   8.585  3.318  16.224           1.414         1.022   \n",
       "1           1.572  0.235  13.619  2.379  18.555           1.737         1.147   \n",
       "2           6.149  0.513   6.716  3.293  15.550          -0.973         1.022   \n",
       "\n",
       "     dpr  GProf    roe  short_debt  invt_act   roce  \n",
       "0  0.287  0.354  0.272       0.025     0.025  0.364  \n",
       "1  0.199  0.062  0.238       0.106     0.157  0.108  \n",
       "2  0.792  0.321  0.124       0.253     0.078  0.196  "
      ]
     },
     "metadata": {},
     "output_type": "display_data"
    },
    {
     "name": "stdout",
     "output_type": "stream",
     "text": [
      "\n",
      "Response Vector y (Test) after Feature Selection\n"
     ]
    },
    {
     "data": {
      "text/html": [
       "<div>\n",
       "<style scoped>\n",
       "    .dataframe tbody tr th:only-of-type {\n",
       "        vertical-align: middle;\n",
       "    }\n",
       "\n",
       "    .dataframe tbody tr th {\n",
       "        vertical-align: top;\n",
       "    }\n",
       "\n",
       "    .dataframe thead th {\n",
       "        text-align: right;\n",
       "    }\n",
       "</style>\n",
       "<table border=\"1\" class=\"dataframe\">\n",
       "  <thead>\n",
       "    <tr style=\"text-align: right;\">\n",
       "      <th></th>\n",
       "      <th>0</th>\n",
       "    </tr>\n",
       "  </thead>\n",
       "  <tbody>\n",
       "    <tr>\n",
       "      <th>0</th>\n",
       "      <td>1</td>\n",
       "    </tr>\n",
       "    <tr>\n",
       "      <th>1</th>\n",
       "      <td>0</td>\n",
       "    </tr>\n",
       "    <tr>\n",
       "      <th>2</th>\n",
       "      <td>1</td>\n",
       "    </tr>\n",
       "  </tbody>\n",
       "</table>\n",
       "</div>"
      ],
      "text/plain": [
       "   0\n",
       "0  1\n",
       "1  0\n",
       "2  1"
      ]
     },
     "metadata": {},
     "output_type": "display_data"
    },
    {
     "name": "stdout",
     "output_type": "stream",
     "text": [
      "\n"
     ]
    }
   ],
   "source": [
    "# print status\n",
    "print('Features Selected with ' + str(sel_feat))\n",
    "print('Version ' + str(VERSION) + '; ' + str(sel_version),'\\n')\n",
    "\n",
    "# print properties and head of datasets\n",
    "print('Shape (rows, columns) of Feature Matrix X (Test) ' + '=' + str(X_test_s.shape),'\\n')\n",
    "print('Feature Matrix X (Train) with Selected Features')\n",
    "display(X_test_s[0:3])\n",
    "print(\"\")\n",
    "print('Response Vector y (Test) after Feature Selection')\n",
    "display(y_test_s[0:3])\n",
    "print(\"\")"
   ]
  },
  {
   "cell_type": "markdown",
   "metadata": {},
   "source": [
    "###   \n",
    "###   \n",
    "## 3.2. Simple Logistic Regression (statsmodels) (SLM)"
   ]
  },
  {
   "cell_type": "markdown",
   "metadata": {},
   "source": [
    "### 3.2.1. Preparation and fitting (on Training Set) , define BEST FEATURE (SLM)"
   ]
  },
  {
   "cell_type": "code",
   "execution_count": 8,
   "metadata": {},
   "outputs": [
    {
     "data": {
      "text/plain": [
       "'pe_op_dil'"
      ]
     },
     "metadata": {},
     "output_type": "display_data"
    }
   ],
   "source": [
    "# best feature selection taking the column name\n",
    "colNms = X_train_s.columns.values\n",
    "display(colNms[0])"
   ]
  },
  {
   "cell_type": "code",
   "execution_count": 9,
   "metadata": {},
   "outputs": [
    {
     "name": "stdout",
     "output_type": "stream",
     "text": [
      "Features Selected with Random Forest (RF)\n",
      "Version 1.1; based on reduced Dataset with only Ratios as predictive Features. \n",
      "\n",
      "Optimization terminated successfully.\n",
      "         Current function value: 0.676443\n",
      "         Iterations 6\n"
     ]
    }
   ],
   "source": [
    "# print status\n",
    "print('Features Selected with ' + str(sel_feat))\n",
    "print('Version ' + str(VERSION) + '; ' + str(sel_version),'\\n')\n",
    "\n",
    "# Run Simple Logistic Regression\n",
    "# Logistic Regression (with the most important feature from feature selection)\n",
    "# Assign \"best_feature\" to matrix X and response to y, acording to chosen Version of datasets and feature Selection method\n",
    "pca_error = ('ERROR: PCA best feature not defined (PCA is unlabeled)! Thus no Simple Regression available.'+'\\n'+'Proceed to Multiple Regression in chapter 3.3.')\n",
    "if VERSION == 1.1:\n",
    "    if SELECTION == 'RF':\n",
    "        best_feature = colNms[0]\n",
    "        logReg = sm.Logit(endog = y_train_s, exog= sm.add_constant(X_train_s[best_feature])).fit()\n",
    "    elif SELECTION == 'PCA':\n",
    "        print(pca_error)\n",
    "elif VERSION == 2.1:\n",
    "    if SELECTION == 'RF':\n",
    "        best_feature = colNms[0]\n",
    "        logReg = sm.Logit(endog = y_train_s, exog= sm.add_constant(X_train_s[best_feature])).fit()\n",
    "    elif SELECTION == 'PCA':\n",
    "        print(pca_error)\n",
    "else: raise ValueError('VERSION value must be either 1 or 2, SELECTION must be either RF or PCA')"
   ]
  },
  {
   "cell_type": "markdown",
   "metadata": {},
   "source": [
    "### 3.2.2. Summary (SLM)"
   ]
  },
  {
   "cell_type": "code",
   "execution_count": 10,
   "metadata": {},
   "outputs": [],
   "source": [
    "# Workaround solution for error (\"AttributeError: module 'scipy.stats' has no attribute 'chisqprob'\")\n",
    "from scipy import stats\n",
    "stats.chisqprob = lambda chisq, df: stats.chi2.sf(chisq, df)"
   ]
  },
  {
   "cell_type": "code",
   "execution_count": 11,
   "metadata": {},
   "outputs": [
    {
     "name": "stdout",
     "output_type": "stream",
     "text": [
      "                           Logit Regression Results                           \n",
      "==============================================================================\n",
      "Dep. Variable:                      0   No. Observations:                 2836\n",
      "Model:                          Logit   Df Residuals:                     2834\n",
      "Method:                           MLE   Df Model:                            1\n",
      "Date:                Tue, 17 Apr 2018   Pseudo R-squ.:                0.005303\n",
      "Time:                        12:23:11   Log-Likelihood:                -1918.4\n",
      "converged:                       True   LL-Null:                       -1928.6\n",
      "                                        LLR p-value:                 6.106e-06\n",
      "==============================================================================\n",
      "                 coef    std err          z      P>|z|      [0.025      0.975]\n",
      "------------------------------------------------------------------------------\n",
      "const          0.0120      0.088      0.136      0.892      -0.161       0.185\n",
      "pe_op_dil      0.0206      0.005      3.889      0.000       0.010       0.031\n",
      "============================================================================== \n",
      "\n",
      "logReg pvalues: \n",
      "\n",
      "const        0.891694\n",
      "pe_op_dil    0.000101\n",
      "dtype: float64\n"
     ]
    }
   ],
   "source": [
    "# LogReg with only one feature as exogen variable\n",
    "if SELECTION == 'RF':\n",
    "    print(logReg.summary(),'\\n')\n",
    "    print('logReg pvalues: '+'\\n')\n",
    "    print(logReg.pvalues)\n",
    "elif SELECTION == 'PCA':\n",
    "    print(pca_error)\n",
    "else: raise ValueError('VERSION value must be either 1 or 2, SELECTION must be either RF or PCA')"
   ]
  },
  {
   "cell_type": "markdown",
   "metadata": {},
   "source": [
    "### 3.2.3. Assessing Output (SLM)\n",
    "\n",
    "### Hypothesis testing / Confidence Interval"
   ]
  },
  {
   "cell_type": "code",
   "execution_count": 12,
   "metadata": {},
   "outputs": [
    {
     "name": "stdout",
     "output_type": "stream",
     "text": [
      "99% Confidence Interval (Significance Level 1%)\n"
     ]
    },
    {
     "data": {
      "text/html": [
       "<div>\n",
       "<style scoped>\n",
       "    .dataframe tbody tr th:only-of-type {\n",
       "        vertical-align: middle;\n",
       "    }\n",
       "\n",
       "    .dataframe tbody tr th {\n",
       "        vertical-align: top;\n",
       "    }\n",
       "\n",
       "    .dataframe thead th {\n",
       "        text-align: right;\n",
       "    }\n",
       "</style>\n",
       "<table border=\"1\" class=\"dataframe\">\n",
       "  <thead>\n",
       "    <tr style=\"text-align: right;\">\n",
       "      <th></th>\n",
       "      <th>0</th>\n",
       "      <th>1</th>\n",
       "    </tr>\n",
       "  </thead>\n",
       "  <tbody>\n",
       "    <tr>\n",
       "      <th>const</th>\n",
       "      <td>-0.215386</td>\n",
       "      <td>0.239428</td>\n",
       "    </tr>\n",
       "    <tr>\n",
       "      <th>pe_op_dil</th>\n",
       "      <td>0.006959</td>\n",
       "      <td>0.034256</td>\n",
       "    </tr>\n",
       "  </tbody>\n",
       "</table>\n",
       "</div>"
      ],
      "text/plain": [
       "                  0         1\n",
       "const     -0.215386  0.239428\n",
       "pe_op_dil  0.006959  0.034256"
      ]
     },
     "metadata": {},
     "output_type": "display_data"
    }
   ],
   "source": [
    "significance_level = 0.01\n",
    "\n",
    "if SELECTION == 'RF':\n",
    "    print(str(int(100 - significance_level*100)) + '% Confidence Interval (Significance Level ' \n",
    "          + str(int(significance_level*100)) + '%)')\n",
    "    display(logReg.conf_int(alpha=significance_level))\n",
    "elif SELECTION == 'PCA':\n",
    "    print(pca_error)\n",
    "else: raise ValueError('VERSION value must be either 1 or 2, SELECTION must be either RF or PCA')"
   ]
  },
  {
   "cell_type": "markdown",
   "metadata": {},
   "source": [
    "### 3.2.2. Prediction (SML)\n",
    "\n",
    "### I: In-sample Prediction of probability for returns going UP in the next period (predict y_train)\n"
   ]
  },
  {
   "cell_type": "markdown",
   "metadata": {},
   "source": [
    "#### Prediction of whole Response Vector (Train) based on all available values of the single chosen feature (Train)"
   ]
  },
  {
   "cell_type": "code",
   "execution_count": 13,
   "metadata": {},
   "outputs": [
    {
     "name": "stdout",
     "output_type": "stream",
     "text": [
      "Features Selected with Random Forest (RF)\n",
      "Version 1.1; based on reduced Dataset with only Ratios as predictive Features. \n",
      "\n",
      "Predicted probability of price going UP for whole Feature Train Set is: \n"
     ]
    },
    {
     "data": {
      "text/plain": [
       "0    0.582776\n",
       "1    0.591085\n",
       "2    0.550279\n",
       "dtype: float64"
      ]
     },
     "metadata": {},
     "output_type": "display_data"
    },
    {
     "name": "stdout",
     "output_type": "stream",
     "text": [
      "Actual Response Vector y_train is:\n"
     ]
    },
    {
     "data": {
      "text/html": [
       "<div>\n",
       "<style scoped>\n",
       "    .dataframe tbody tr th:only-of-type {\n",
       "        vertical-align: middle;\n",
       "    }\n",
       "\n",
       "    .dataframe tbody tr th {\n",
       "        vertical-align: top;\n",
       "    }\n",
       "\n",
       "    .dataframe thead th {\n",
       "        text-align: right;\n",
       "    }\n",
       "</style>\n",
       "<table border=\"1\" class=\"dataframe\">\n",
       "  <thead>\n",
       "    <tr style=\"text-align: right;\">\n",
       "      <th></th>\n",
       "      <th>0</th>\n",
       "    </tr>\n",
       "  </thead>\n",
       "  <tbody>\n",
       "    <tr>\n",
       "      <th>0</th>\n",
       "      <td>0</td>\n",
       "    </tr>\n",
       "    <tr>\n",
       "      <th>1</th>\n",
       "      <td>1</td>\n",
       "    </tr>\n",
       "    <tr>\n",
       "      <th>2</th>\n",
       "      <td>0</td>\n",
       "    </tr>\n",
       "  </tbody>\n",
       "</table>\n",
       "</div>"
      ],
      "text/plain": [
       "   0\n",
       "0  0\n",
       "1  1\n",
       "2  0"
      ]
     },
     "metadata": {},
     "output_type": "display_data"
    }
   ],
   "source": [
    "# print status\n",
    "print('Features Selected with ' + str(sel_feat))\n",
    "print('Version ' + str(VERSION) + '; ' + str(sel_version),'\\n')\n",
    "\n",
    "# X must include 1 in first column for intercept\n",
    "# we wish to get the probability of 'UP' (=1) for the whole test set\n",
    "if SELECTION == 'RF':\n",
    "    pred_train_all = logReg.predict(sm.add_constant(X_train_s[best_feature]))\n",
    "    print('Predicted probability of price going UP for whole Feature Train Set is: ')\n",
    "    display(pred_train_all.head(3))\n",
    "    print('Actual Response Vector y_train is:')\n",
    "    display(y_train_s.head(3))\n",
    "elif SELECTION == 'PCA':\n",
    "    print(pca_error)\n",
    "else: raise ValueError('VERSION value must be either 1 or 2, SELECTION must be either RF or PCA')"
   ]
  },
  {
   "cell_type": "markdown",
   "metadata": {},
   "source": [
    "### ii: New-sample Prediction of probability for returns going UP in the next period (predict y_test)\n",
    "\n",
    "#### ONE prediction For ONE specific chosen value of predictive variable\n"
   ]
  },
  {
   "cell_type": "code",
   "execution_count": 14,
   "metadata": {},
   "outputs": [
    {
     "name": "stdout",
     "output_type": "stream",
     "text": [
      "Features Selected with Random Forest (RF)\n",
      "Version 1.1; based on reduced Dataset with only Ratios as predictive Features. \n",
      "\n",
      "Chosen best feature = pe_op_dil\n",
      "Chosen value of best feature = 19.801333333333336 \n",
      "\n",
      "Predicted probability of price going UP with chosen pe_op_dil value is: 60.3503%\n",
      "\n",
      "Actual Ratio of \"UP\" (Train)  =  58.0748%\n"
     ]
    }
   ],
   "source": [
    "# print status\n",
    "print('Features Selected with ' + str(sel_feat))\n",
    "print('Version ' + str(VERSION) + '; ' + str(sel_version),'\\n')\n",
    "\n",
    "\n",
    "# Loop for Version differenciation\n",
    "# X must include 1 in first column for intercept\n",
    "# we wish to get the probability of 'UP' (=1) for a best_feature_value of USD 15\n",
    "if VERSION == 1.1:\n",
    "    if SELECTION == 'RF':\n",
    "        print('Chosen best feature = ' + str(best_feature))\n",
    "        #### Choose value fo chosen best feature manually\n",
    "        # Here: chosen median of feature values + /3 of median of feature values\n",
    "        bfv = np.median(X_train_s[best_feature])+ np.median(X_train_s[best_feature])/3\n",
    "        #bfv = np.mean(X_train_s[best_feature])\n",
    "        #bfv = np.median(X_train_s[best_feature])\n",
    "        best_feature_value = bfv\n",
    "        print('Chosen value of best feature = ' + str(best_feature_value),'\\n')\n",
    "        pred_test_one = logReg.predict([1, best_feature_value])\n",
    "        ratio_response_train = y_train_s.sum() / y_train_s.size\n",
    "        print('Predicted probability of price going UP with chosen ' + str(best_feature) + ' value is: '\n",
    "              + str(\"%.4f\" % round(float(pred_test_one*100),4)) + '%'+'\\n')\n",
    "        print('Actual Ratio of \"UP\" (Train)  =  ' + str(\"%.4f\" % round(float(ratio_response_train*100),4)) + '%')\n",
    "    elif SELECTION == 'PCA':\n",
    "        print(pca_error)  \n",
    "elif VERSION == 2.1:\n",
    "    if SELECTION == 'RF':\n",
    "        #### Choose value fo chosen best feature manually\n",
    "        # Here: chosen median of feature values + /3 of median of feature values\n",
    "        bfv = np.median(X_train_s[best_feature])+ np.median(X_train_s[best_feature])/3\n",
    "        #bfv = np.mean(X_train_s[best_feature])\n",
    "        #bfv = np.median(X_train_s[best_feature])\n",
    "        best_feature_value = bfv\n",
    "        print('Chosen value of best feature = ' + str(best_feature_value),'\\n')\n",
    "        pred_test_one = logReg.predict([1, best_feature_value])\n",
    "        ratio_response_train = y_train_s.sum() / y_train_s.size\n",
    "        print('Predicted probability of price going UP with chosen ' + str(best_feature) + ' value is: '\n",
    "              + str(\"%.4f\" % round(float(pred_test_one*100),4)) + '%')\n",
    "        print('Ratio of \"UP\" (Train)  =  ' + str(\"%.4f\" % round(float(ratio_response_train*100),4)) + '%')\n",
    "    elif SELECTION == 'PCA':\n",
    "        print(pca_error)\n",
    "else: raise ValueError('VERSION value must be either 1 or 2, SELECTION must be either RF or PCA.')"
   ]
  },
  {
   "cell_type": "markdown",
   "metadata": {},
   "source": [
    "#### Prediction of whole Response Vector (Test) based on all available values of the single chosen feature (Test)"
   ]
  },
  {
   "cell_type": "code",
   "execution_count": 15,
   "metadata": {},
   "outputs": [
    {
     "name": "stdout",
     "output_type": "stream",
     "text": [
      "Features Selected with Random Forest (RF)\n",
      "Version 1.1; based on reduced Dataset with only Ratios as predictive Features. \n",
      "\n",
      "Predicted probability of price going UP for whole Feature Test Set is: \n",
      "\n"
     ]
    },
    {
     "data": {
      "text/plain": [
       "0    0.585735\n",
       "1    0.587059\n",
       "2    0.551864\n",
       "dtype: float64"
      ]
     },
     "metadata": {},
     "output_type": "display_data"
    },
    {
     "name": "stdout",
     "output_type": "stream",
     "text": [
      "Actual Response Vector y_train is:\n"
     ]
    },
    {
     "data": {
      "text/html": [
       "<div>\n",
       "<style scoped>\n",
       "    .dataframe tbody tr th:only-of-type {\n",
       "        vertical-align: middle;\n",
       "    }\n",
       "\n",
       "    .dataframe tbody tr th {\n",
       "        vertical-align: top;\n",
       "    }\n",
       "\n",
       "    .dataframe thead th {\n",
       "        text-align: right;\n",
       "    }\n",
       "</style>\n",
       "<table border=\"1\" class=\"dataframe\">\n",
       "  <thead>\n",
       "    <tr style=\"text-align: right;\">\n",
       "      <th></th>\n",
       "      <th>0</th>\n",
       "    </tr>\n",
       "  </thead>\n",
       "  <tbody>\n",
       "    <tr>\n",
       "      <th>0</th>\n",
       "      <td>1</td>\n",
       "    </tr>\n",
       "    <tr>\n",
       "      <th>1</th>\n",
       "      <td>0</td>\n",
       "    </tr>\n",
       "    <tr>\n",
       "      <th>2</th>\n",
       "      <td>1</td>\n",
       "    </tr>\n",
       "  </tbody>\n",
       "</table>\n",
       "</div>"
      ],
      "text/plain": [
       "   0\n",
       "0  1\n",
       "1  0\n",
       "2  1"
      ]
     },
     "metadata": {},
     "output_type": "display_data"
    }
   ],
   "source": [
    "# print status\n",
    "print('Features Selected with ' + str(sel_feat))\n",
    "print('Version ' + str(VERSION) + '; ' + str(sel_version),'\\n')\n",
    "\n",
    "# we wish to get the probability of 'UP' (=1) for the whole test set\n",
    "if SELECTION == 'RF':\n",
    "    pred_test_all = logReg.predict(sm.add_constant(X_test_s[best_feature]))\n",
    "    print('Predicted probability of price going UP for whole Feature Test Set is: '+'\\n')\n",
    "    display(pred_test_all.head(3))\n",
    "    print('Actual Response Vector y_train is:')\n",
    "    display(y_test_s.head(3))\n",
    "elif SELECTION == 'PCA':\n",
    "    print(pca_error)\n",
    "else: raise ValueError('VERSION value must be either 1 or 2, SELECTION must be either RF or PCA')    "
   ]
  },
  {
   "cell_type": "markdown",
   "metadata": {},
   "source": [
    "###   \n",
    "###   \n",
    "## 3.3. Multiple Logistic Regression with n pre-selected features (MLR1)"
   ]
  },
  {
   "cell_type": "markdown",
   "metadata": {},
   "source": [
    "### 3.3.1. Preparation and fitting (on Training Set) (MLR1)"
   ]
  },
  {
   "cell_type": "code",
   "execution_count": 16,
   "metadata": {},
   "outputs": [
    {
     "name": "stdout",
     "output_type": "stream",
     "text": [
      "Optimization terminated successfully.\n",
      "         Current function value: 0.649547\n",
      "         Iterations 9\n"
     ]
    }
   ],
   "source": [
    "## Multiple Log. Regression (with all n best features chosen in Chapter 2 in the feature selection process)\n",
    "logReg_m = sm.Logit(endog = y_train_s, exog = sm.add_constant(X_train_s)).fit() "
   ]
  },
  {
   "cell_type": "markdown",
   "metadata": {},
   "source": [
    "### 3.3.2. Summary (MLR1)"
   ]
  },
  {
   "cell_type": "code",
   "execution_count": 17,
   "metadata": {},
   "outputs": [
    {
     "name": "stdout",
     "output_type": "stream",
     "text": [
      "Features Selected with Random Forest (RF)\n",
      "Version 1.1; based on reduced Dataset with only Ratios as predictive Features. \n",
      "\n",
      "Multiple Logistic Regression with all selected features\n",
      "\n",
      "                           Logit Regression Results                           \n",
      "==============================================================================\n",
      "Dep. Variable:                      0   No. Observations:                 2836\n",
      "Model:                          Logit   Df Residuals:                     2815\n",
      "Method:                           MLE   Df Model:                           20\n",
      "Date:                Tue, 17 Apr 2018   Pseudo R-squ.:                 0.04485\n",
      "Time:                        12:23:12   Log-Likelihood:                -1842.1\n",
      "converged:                       True   LL-Null:                       -1928.6\n",
      "                                        LLR p-value:                 2.249e-26\n",
      "==============================================================================\n",
      "==================================================================================\n",
      "                     coef    std err          z      P>|z|      [0.025      0.975]\n",
      "----------------------------------------------------------------------------------\n",
      "const             -0.2216      0.356     -0.623      0.533      -0.919       0.476\n",
      "pe_op_dil          0.0700      0.120      0.582      0.560      -0.166       0.306\n",
      "CAPEI              0.0071      0.003      2.169      0.030       0.001       0.014\n",
      "pe_op_basic       -0.0584      0.119     -0.493      0.622      -0.291       0.174\n",
      "divyield         -19.8178      4.213     -4.704      0.000     -28.075     -11.560\n",
      "pe_exi             0.0095      0.005      2.045      0.041       0.000       0.019\n",
      "pcf                0.0026      0.004      0.592      0.554      -0.006       0.011\n",
      "ptb                0.2217      0.039      5.681      0.000       0.145       0.298\n",
      "PEG_ltgforward     0.0122      0.013      0.932      0.351      -0.014       0.038\n",
      "bm                 1.9155      0.297      6.444      0.000       1.333       2.498\n",
      "evm               -0.0699      0.011     -6.090      0.000      -0.092      -0.047\n",
      "ps                 0.1918      0.044      4.386      0.000       0.106       0.277\n",
      "pe_inc            -0.0130      0.004     -3.084      0.002      -0.021      -0.005\n",
      "PEG_1yrforward     0.0120      0.007      1.829      0.067      -0.001       0.025\n",
      "PEG_trailing       0.0040      0.007      0.547      0.584      -0.010       0.018\n",
      "dpr               -0.0128      0.128     -0.100      0.921      -0.264       0.239\n",
      "GProf              0.6327      0.341      1.856      0.063      -0.035       1.301\n",
      "roe               -1.1140      0.570     -1.954      0.051      -2.232       0.004\n",
      "short_debt         0.1149      0.250      0.460      0.645      -0.374       0.604\n",
      "invt_act          -0.0954      0.275     -0.346      0.729      -0.635       0.444\n",
      "roce              -1.9823      0.645     -3.074      0.002      -3.246      -0.718\n",
      "==================================================================================\n"
     ]
    }
   ],
   "source": [
    "# print status\n",
    "print('Features Selected with ' + str(sel_feat))\n",
    "print('Version ' + str(VERSION) + '; ' + str(sel_version),'\\n')\n",
    "print(\"Multiple Logistic Regression with all selected features\"+'\\n')\n",
    "\n",
    "# Workaround solution for error (\"AttributeError: module 'scipy.stats' has no attribute 'chisqprob'\")\n",
    "from scipy import stats\n",
    "stats.chisqprob = lambda chisq, df: stats.chi2.sf(chisq, df)\n",
    "\n",
    "# Run Multiple Logistic Regression\n",
    "print(logReg_m.summary().tables[0])\n",
    "print(logReg_m.summary().tables[1])"
   ]
  },
  {
   "cell_type": "markdown",
   "metadata": {},
   "source": [
    "### 3.3.3. Assessing Output (MLR1)\n",
    "\n",
    "### Hypothesis testing / Confidence Interval"
   ]
  },
  {
   "cell_type": "code",
   "execution_count": 18,
   "metadata": {},
   "outputs": [
    {
     "name": "stdout",
     "output_type": "stream",
     "text": [
      "99% Confidence Interval (Significance Level 1%)\n"
     ]
    },
    {
     "data": {
      "text/html": [
       "<div>\n",
       "<style scoped>\n",
       "    .dataframe tbody tr th:only-of-type {\n",
       "        vertical-align: middle;\n",
       "    }\n",
       "\n",
       "    .dataframe tbody tr th {\n",
       "        vertical-align: top;\n",
       "    }\n",
       "\n",
       "    .dataframe thead th {\n",
       "        text-align: right;\n",
       "    }\n",
       "</style>\n",
       "<table border=\"1\" class=\"dataframe\">\n",
       "  <thead>\n",
       "    <tr style=\"text-align: right;\">\n",
       "      <th></th>\n",
       "      <th>0</th>\n",
       "      <th>1</th>\n",
       "    </tr>\n",
       "  </thead>\n",
       "  <tbody>\n",
       "    <tr>\n",
       "      <th>const</th>\n",
       "      <td>-1.138048</td>\n",
       "      <td>0.694829</td>\n",
       "    </tr>\n",
       "    <tr>\n",
       "      <th>pe_op_dil</th>\n",
       "      <td>-0.239576</td>\n",
       "      <td>0.379588</td>\n",
       "    </tr>\n",
       "    <tr>\n",
       "      <th>CAPEI</th>\n",
       "      <td>-0.001339</td>\n",
       "      <td>0.015616</td>\n",
       "    </tr>\n",
       "    <tr>\n",
       "      <th>pe_op_basic</th>\n",
       "      <td>-0.363709</td>\n",
       "      <td>0.246856</td>\n",
       "    </tr>\n",
       "    <tr>\n",
       "      <th>divyield</th>\n",
       "      <td>-30.670050</td>\n",
       "      <td>-8.965604</td>\n",
       "    </tr>\n",
       "    <tr>\n",
       "      <th>pe_exi</th>\n",
       "      <td>-0.002473</td>\n",
       "      <td>0.021532</td>\n",
       "    </tr>\n",
       "    <tr>\n",
       "      <th>pcf</th>\n",
       "      <td>-0.008719</td>\n",
       "      <td>0.013924</td>\n",
       "    </tr>\n",
       "    <tr>\n",
       "      <th>ptb</th>\n",
       "      <td>0.121196</td>\n",
       "      <td>0.322282</td>\n",
       "    </tr>\n",
       "    <tr>\n",
       "      <th>PEG_ltgforward</th>\n",
       "      <td>-0.021600</td>\n",
       "      <td>0.046097</td>\n",
       "    </tr>\n",
       "    <tr>\n",
       "      <th>bm</th>\n",
       "      <td>1.149794</td>\n",
       "      <td>2.681268</td>\n",
       "    </tr>\n",
       "    <tr>\n",
       "      <th>evm</th>\n",
       "      <td>-0.099448</td>\n",
       "      <td>-0.040330</td>\n",
       "    </tr>\n",
       "    <tr>\n",
       "      <th>ps</th>\n",
       "      <td>0.079153</td>\n",
       "      <td>0.304427</td>\n",
       "    </tr>\n",
       "    <tr>\n",
       "      <th>pe_inc</th>\n",
       "      <td>-0.023850</td>\n",
       "      <td>-0.002142</td>\n",
       "    </tr>\n",
       "    <tr>\n",
       "      <th>PEG_1yrforward</th>\n",
       "      <td>-0.004911</td>\n",
       "      <td>0.028947</td>\n",
       "    </tr>\n",
       "    <tr>\n",
       "      <th>PEG_trailing</th>\n",
       "      <td>-0.014910</td>\n",
       "      <td>0.022951</td>\n",
       "    </tr>\n",
       "    <tr>\n",
       "      <th>dpr</th>\n",
       "      <td>-0.343290</td>\n",
       "      <td>0.317736</td>\n",
       "    </tr>\n",
       "    <tr>\n",
       "      <th>GProf</th>\n",
       "      <td>-0.245261</td>\n",
       "      <td>1.510709</td>\n",
       "    </tr>\n",
       "    <tr>\n",
       "      <th>roe</th>\n",
       "      <td>-2.582656</td>\n",
       "      <td>0.354682</td>\n",
       "    </tr>\n",
       "    <tr>\n",
       "      <th>short_debt</th>\n",
       "      <td>-0.528216</td>\n",
       "      <td>0.757990</td>\n",
       "    </tr>\n",
       "    <tr>\n",
       "      <th>invt_act</th>\n",
       "      <td>-0.804778</td>\n",
       "      <td>0.614022</td>\n",
       "    </tr>\n",
       "    <tr>\n",
       "      <th>roce</th>\n",
       "      <td>-3.643478</td>\n",
       "      <td>-0.321116</td>\n",
       "    </tr>\n",
       "  </tbody>\n",
       "</table>\n",
       "</div>"
      ],
      "text/plain": [
       "                        0         1\n",
       "const           -1.138048  0.694829\n",
       "pe_op_dil       -0.239576  0.379588\n",
       "CAPEI           -0.001339  0.015616\n",
       "pe_op_basic     -0.363709  0.246856\n",
       "divyield       -30.670050 -8.965604\n",
       "pe_exi          -0.002473  0.021532\n",
       "pcf             -0.008719  0.013924\n",
       "ptb              0.121196  0.322282\n",
       "PEG_ltgforward  -0.021600  0.046097\n",
       "bm               1.149794  2.681268\n",
       "evm             -0.099448 -0.040330\n",
       "ps               0.079153  0.304427\n",
       "pe_inc          -0.023850 -0.002142\n",
       "PEG_1yrforward  -0.004911  0.028947\n",
       "PEG_trailing    -0.014910  0.022951\n",
       "dpr             -0.343290  0.317736\n",
       "GProf           -0.245261  1.510709\n",
       "roe             -2.582656  0.354682\n",
       "short_debt      -0.528216  0.757990\n",
       "invt_act        -0.804778  0.614022\n",
       "roce            -3.643478 -0.321116"
      ]
     },
     "metadata": {},
     "output_type": "display_data"
    }
   ],
   "source": [
    "significance_level = 0.01\n",
    "\n",
    "# Print Confidence Interval with Title\n",
    "print(str(int(100 - significance_level*100)) + '% Confidence Interval (Significance Level ' \n",
    "      + str(int(significance_level*100)) + '%)')\n",
    "display(logReg_m.conf_int(alpha=significance_level))"
   ]
  },
  {
   "cell_type": "markdown",
   "metadata": {},
   "source": [
    "### 3.3.4. Prediction (MLR1)\n",
    "Multiple Logistic Regression 1 (pre-selected features with RandomForest in Chapter 2) \n",
    "\n",
    "### I: In-sample Prediction of probability for returns going UP in the next period (predict y_train)\n",
    "\n",
    "#### For whole Training Set\n"
   ]
  },
  {
   "cell_type": "code",
   "execution_count": 19,
   "metadata": {},
   "outputs": [
    {
     "name": "stdout",
     "output_type": "stream",
     "text": [
      "Features Selected with Random Forest (RF)\n",
      "Version 1.1; based on reduced Dataset with only Ratios as predictive Features. \n",
      "\n",
      "Predicted probabilities of price going UP for whole Feature Set (Train) are: \n"
     ]
    },
    {
     "data": {
      "text/plain": [
       "0    0.690178\n",
       "1    0.493392\n",
       "2    0.683541\n",
       "dtype: float64"
      ]
     },
     "metadata": {},
     "output_type": "display_data"
    },
    {
     "name": "stdout",
     "output_type": "stream",
     "text": [
      "\n",
      "Response Vector (Train): \n"
     ]
    },
    {
     "data": {
      "text/html": [
       "<div>\n",
       "<style scoped>\n",
       "    .dataframe tbody tr th:only-of-type {\n",
       "        vertical-align: middle;\n",
       "    }\n",
       "\n",
       "    .dataframe tbody tr th {\n",
       "        vertical-align: top;\n",
       "    }\n",
       "\n",
       "    .dataframe thead th {\n",
       "        text-align: right;\n",
       "    }\n",
       "</style>\n",
       "<table border=\"1\" class=\"dataframe\">\n",
       "  <thead>\n",
       "    <tr style=\"text-align: right;\">\n",
       "      <th></th>\n",
       "      <th>0</th>\n",
       "    </tr>\n",
       "  </thead>\n",
       "  <tbody>\n",
       "    <tr>\n",
       "      <th>0</th>\n",
       "      <td>0</td>\n",
       "    </tr>\n",
       "    <tr>\n",
       "      <th>1</th>\n",
       "      <td>1</td>\n",
       "    </tr>\n",
       "    <tr>\n",
       "      <th>2</th>\n",
       "      <td>0</td>\n",
       "    </tr>\n",
       "  </tbody>\n",
       "</table>\n",
       "</div>"
      ],
      "text/plain": [
       "   0\n",
       "0  0\n",
       "1  1\n",
       "2  0"
      ]
     },
     "metadata": {},
     "output_type": "display_data"
    }
   ],
   "source": [
    "# print status\n",
    "print('Features Selected with ' + str(sel_feat))\n",
    "print('Version ' + str(VERSION) + '; ' + str(sel_version),'\\n')\n",
    "\n",
    "# Get the probability of 'UP' (=1) for the whole training set\n",
    "pred_train_all = logReg_m.predict(sm.add_constant(X_train_s))\n",
    "\n",
    "# Print Prediction and Response Vector, with Title\n",
    "print('Predicted probabilities of price going UP for whole Feature Set (Train) are: ')\n",
    "display(pred_train_all[0:3])\n",
    "print(\"\")\n",
    "print('Response Vector (Train): ')\n",
    "display(y_train_s[0:3])"
   ]
  },
  {
   "cell_type": "markdown",
   "metadata": {},
   "source": [
    "### II: New-sample Prediction of probability for returns going UP in the next period (predict y_test)\n",
    "\n",
    "#### For whole Test Set\n"
   ]
  },
  {
   "cell_type": "code",
   "execution_count": 20,
   "metadata": {},
   "outputs": [
    {
     "name": "stdout",
     "output_type": "stream",
     "text": [
      "Features Selected with Random Forest (RF)\n",
      "Version 1.1; based on reduced Dataset with only Ratios as predictive Features. \n",
      "\n",
      "Predicted probability of price going UP for whole Feature Set (Test) is: \n"
     ]
    },
    {
     "data": {
      "text/plain": [
       "0    0.600507\n",
       "1    0.587009\n",
       "2    0.664361\n",
       "dtype: float64"
      ]
     },
     "metadata": {},
     "output_type": "display_data"
    },
    {
     "name": "stdout",
     "output_type": "stream",
     "text": [
      "\n",
      "Response Vector (Test): \n"
     ]
    },
    {
     "data": {
      "text/html": [
       "<div>\n",
       "<style scoped>\n",
       "    .dataframe tbody tr th:only-of-type {\n",
       "        vertical-align: middle;\n",
       "    }\n",
       "\n",
       "    .dataframe tbody tr th {\n",
       "        vertical-align: top;\n",
       "    }\n",
       "\n",
       "    .dataframe thead th {\n",
       "        text-align: right;\n",
       "    }\n",
       "</style>\n",
       "<table border=\"1\" class=\"dataframe\">\n",
       "  <thead>\n",
       "    <tr style=\"text-align: right;\">\n",
       "      <th></th>\n",
       "      <th>0</th>\n",
       "    </tr>\n",
       "  </thead>\n",
       "  <tbody>\n",
       "    <tr>\n",
       "      <th>0</th>\n",
       "      <td>1</td>\n",
       "    </tr>\n",
       "    <tr>\n",
       "      <th>1</th>\n",
       "      <td>0</td>\n",
       "    </tr>\n",
       "    <tr>\n",
       "      <th>2</th>\n",
       "      <td>1</td>\n",
       "    </tr>\n",
       "  </tbody>\n",
       "</table>\n",
       "</div>"
      ],
      "text/plain": [
       "   0\n",
       "0  1\n",
       "1  0\n",
       "2  1"
      ]
     },
     "metadata": {},
     "output_type": "display_data"
    }
   ],
   "source": [
    "# print status\n",
    "print('Features Selected with ' + str(sel_feat))\n",
    "print('Version ' + str(VERSION) + '; ' + str(sel_version),'\\n')\n",
    "\n",
    "# Get the probability of 'UP' (=1) for the whole test set\n",
    "pred_test_all = logReg_m.predict(sm.add_constant(X_test_s))\n",
    "\n",
    "# Print Prediction and Response Vector, with Title\n",
    "print('Predicted probability of price going UP for whole Feature Set (Test) is: ')\n",
    "display(pred_test_all.head(3))\n",
    "print(\"\")\n",
    "print('Response Vector (Test): ')\n",
    "display(y_test_s.head(3))"
   ]
  },
  {
   "cell_type": "markdown",
   "metadata": {},
   "source": [
    "###   \n",
    "###   \n",
    "## 3.4. Multiple Logistic Regression with only significant features (MLR2)\n",
    "\n",
    "Apply an other multiple logistic regression on a transformed dataset with only all significant values from LogReg_m (above)"
   ]
  },
  {
   "cell_type": "markdown",
   "metadata": {},
   "source": [
    "### 3.4.1. Extract significant features (MLR2)"
   ]
  },
  {
   "cell_type": "code",
   "execution_count": 21,
   "metadata": {},
   "outputs": [
    {
     "name": "stdout",
     "output_type": "stream",
     "text": [
      "\"Condition\" array with index starting with intercept:\n"
     ]
    },
    {
     "data": {
      "text/plain": [
       "(array([ 2,  4,  5,  7,  9, 10, 11, 12, 20]),)"
      ]
     },
     "metadata": {},
     "output_type": "display_data"
    },
    {
     "name": "stdout",
     "output_type": "stream",
     "text": [
      "\"Condition\" array with index starting with the first feature, leaving intercept out of the counting:\n"
     ]
    },
    {
     "data": {
      "text/plain": [
       "array([[ 1,  3,  4,  6,  8,  9, 10, 11, 19]])"
      ]
     },
     "metadata": {},
     "output_type": "display_data"
    },
    {
     "name": "stdout",
     "output_type": "stream",
     "text": [
      "Features that were significant in the previous MLR in chapter 3.3.:\n",
      "['CAPEI', 'divyield', 'pe_exi', 'ptb', 'bm', 'evm', 'ps', 'pe_inc', 'roce']\n"
     ]
    }
   ],
   "source": [
    "# extracting significant features with an alpha-boundery of 0.05\n",
    "condition = np.where(logReg_m.pvalues < 0.05)\n",
    "print('\"Condition\" array with index starting with intercept:')\n",
    "display(condition)\n",
    "\n",
    "# Subtract '1' fom every entry in the numpy array \"condition\", because in logReg index 0 starts with the intercept\n",
    "# but in the X_train_s set the index 0 starts with the first feature already\n",
    "# otherwise there would be an error \"index out of range\" when we would try to apply the condition to the X_train_s set\n",
    "condition_sub = np.subtract(condition, 1)\n",
    "print('\"Condition\" array with index starting with the first feature, leaving intercept out of the counting:')\n",
    "display(condition_sub)\n",
    "\n",
    "# extract significant features\n",
    "sign_features = X_train_s.columns.values[condition_sub].tolist()[0]\n",
    "print('Features that were significant in the previous MLR in chapter 3.3.:')\n",
    "print(sign_features)"
   ]
  },
  {
   "cell_type": "markdown",
   "metadata": {},
   "source": [
    "### 3.4.2. Preparation and fitting (on Training Set) (MLR2)"
   ]
  },
  {
   "cell_type": "code",
   "execution_count": 22,
   "metadata": {},
   "outputs": [
    {
     "name": "stdout",
     "output_type": "stream",
     "text": [
      "Optimization terminated successfully.\n",
      "         Current function value: 0.654051\n",
      "         Iterations 6\n"
     ]
    }
   ],
   "source": [
    "## Multiple Log. Regression (with significant features from logreg above)\n",
    "# Assign features to X and response vector y\n",
    "\n",
    "if SELECTION == 'RF':\n",
    "    logReg_mm = sm.Logit(endog = y_train_s, exog=sm.add_constant(X_train_s[sign_features])).fit()\n",
    "elif SELECTION == 'PCA':\n",
    "    logReg_mm = sm.Logit(endog = y_train_s, exog=sm.add_constant(X_train_s[sign_features])).fit()\n",
    "else: raise ValueError('SELECTION must be either RF or PCA')"
   ]
  },
  {
   "cell_type": "markdown",
   "metadata": {},
   "source": [
    "### 3.4.3. Summary (MLR2)"
   ]
  },
  {
   "cell_type": "code",
   "execution_count": 23,
   "metadata": {},
   "outputs": [
    {
     "name": "stdout",
     "output_type": "stream",
     "text": [
      "Multiple Logistic Regression with selected significant features\n",
      "\n",
      "                           Logit Regression Results                           \n",
      "==============================================================================\n",
      "Dep. Variable:                      0   No. Observations:                 2836\n",
      "Model:                          Logit   Df Residuals:                     2826\n",
      "Method:                           MLE   Df Model:                            9\n",
      "Date:                Tue, 17 Apr 2018   Pseudo R-squ.:                 0.03823\n",
      "Time:                        12:23:12   Log-Likelihood:                -1854.9\n",
      "converged:                       True   LL-Null:                       -1928.6\n",
      "                                        LLR p-value:                 2.957e-27\n",
      "==============================================================================\n",
      "==============================================================================\n",
      "                 coef    std err          z      P>|z|      [0.025      0.975]\n",
      "------------------------------------------------------------------------------\n",
      "const          0.2240      0.275      0.814      0.416      -0.316       0.764\n",
      "CAPEI          0.0086      0.003      2.511      0.012       0.002       0.015\n",
      "divyield     -19.8671      3.556     -5.587      0.000     -26.837     -12.897\n",
      "pe_exi         0.0120      0.004      3.141      0.002       0.004       0.019\n",
      "ptb            0.1649      0.026      6.414      0.000       0.114       0.215\n",
      "bm             1.6156      0.258      6.266      0.000       1.110       2.121\n",
      "evm           -0.0696      0.010     -6.730      0.000      -0.090      -0.049\n",
      "ps             0.2315      0.035      6.553      0.000       0.162       0.301\n",
      "pe_inc        -0.0134      0.004     -3.458      0.001      -0.021      -0.006\n",
      "roce          -2.2753      0.484     -4.699      0.000      -3.224      -1.326\n",
      "==============================================================================\n"
     ]
    }
   ],
   "source": [
    "if SELECTION == 'RF':\n",
    "    print(\"Multiple Logistic Regression with selected significant features\"+'\\n')\n",
    "    print(logReg_mm.summary().tables[0])\n",
    "    print(logReg_mm.summary().tables[1])\n",
    "elif SELECTION == 'PCA':\n",
    "    print(\"Multiple Logistic Regression with selected significant features\"+'\\n')\n",
    "    print(logReg_mm.summary().tables[0])\n",
    "    print(logReg_mm.summary().tables[1])\n",
    "else: raise ValueError('SELECTION must be either RF or PCA')"
   ]
  },
  {
   "cell_type": "markdown",
   "metadata": {},
   "source": [
    "### 3.4.4. Assessing Output (MLR2)\n",
    "\n",
    "### Hypothesis testing / Confidence Interval"
   ]
  },
  {
   "cell_type": "code",
   "execution_count": 24,
   "metadata": {},
   "outputs": [
    {
     "name": "stdout",
     "output_type": "stream",
     "text": [
      "99% Confidence Interval (Significance Level 1%)\n"
     ]
    },
    {
     "data": {
      "text/html": [
       "<div>\n",
       "<style scoped>\n",
       "    .dataframe tbody tr th:only-of-type {\n",
       "        vertical-align: middle;\n",
       "    }\n",
       "\n",
       "    .dataframe tbody tr th {\n",
       "        vertical-align: top;\n",
       "    }\n",
       "\n",
       "    .dataframe thead th {\n",
       "        text-align: right;\n",
       "    }\n",
       "</style>\n",
       "<table border=\"1\" class=\"dataframe\">\n",
       "  <thead>\n",
       "    <tr style=\"text-align: right;\">\n",
       "      <th></th>\n",
       "      <th>0</th>\n",
       "      <th>1</th>\n",
       "    </tr>\n",
       "  </thead>\n",
       "  <tbody>\n",
       "    <tr>\n",
       "      <th>const</th>\n",
       "      <td>-0.485118</td>\n",
       "      <td>0.933038</td>\n",
       "    </tr>\n",
       "    <tr>\n",
       "      <th>CAPEI</th>\n",
       "      <td>-0.000223</td>\n",
       "      <td>0.017500</td>\n",
       "    </tr>\n",
       "    <tr>\n",
       "      <th>divyield</th>\n",
       "      <td>-29.026741</td>\n",
       "      <td>-10.707485</td>\n",
       "    </tr>\n",
       "    <tr>\n",
       "      <th>pe_exi</th>\n",
       "      <td>0.002153</td>\n",
       "      <td>0.021765</td>\n",
       "    </tr>\n",
       "    <tr>\n",
       "      <th>ptb</th>\n",
       "      <td>0.098666</td>\n",
       "      <td>0.231097</td>\n",
       "    </tr>\n",
       "    <tr>\n",
       "      <th>bm</th>\n",
       "      <td>0.951481</td>\n",
       "      <td>2.279658</td>\n",
       "    </tr>\n",
       "    <tr>\n",
       "      <th>evm</th>\n",
       "      <td>-0.096223</td>\n",
       "      <td>-0.042952</td>\n",
       "    </tr>\n",
       "    <tr>\n",
       "      <th>ps</th>\n",
       "      <td>0.140482</td>\n",
       "      <td>0.322429</td>\n",
       "    </tr>\n",
       "    <tr>\n",
       "      <th>pe_inc</th>\n",
       "      <td>-0.023347</td>\n",
       "      <td>-0.003412</td>\n",
       "    </tr>\n",
       "    <tr>\n",
       "      <th>roce</th>\n",
       "      <td>-3.522549</td>\n",
       "      <td>-1.028149</td>\n",
       "    </tr>\n",
       "  </tbody>\n",
       "</table>\n",
       "</div>"
      ],
      "text/plain": [
       "                  0          1\n",
       "const     -0.485118   0.933038\n",
       "CAPEI     -0.000223   0.017500\n",
       "divyield -29.026741 -10.707485\n",
       "pe_exi     0.002153   0.021765\n",
       "ptb        0.098666   0.231097\n",
       "bm         0.951481   2.279658\n",
       "evm       -0.096223  -0.042952\n",
       "ps         0.140482   0.322429\n",
       "pe_inc    -0.023347  -0.003412\n",
       "roce      -3.522549  -1.028149"
      ]
     },
     "metadata": {},
     "output_type": "display_data"
    }
   ],
   "source": [
    "significance_level = 0.01\n",
    "\n",
    "# Print Confidence Interval with Title\n",
    "print(str(int(100 - significance_level*100)) + '% Confidence Interval (Significance Level ' \n",
    "      + str(int(significance_level*100)) + '%)')\n",
    "display(logReg_mm.conf_int(alpha=significance_level))"
   ]
  },
  {
   "cell_type": "markdown",
   "metadata": {},
   "source": [
    "### 3.4.5. Prediction (MLR2)\n",
    "Multiple Logistic Regression 1 (pre-selected features with RandomForest in Chapter 2) \n",
    "\n",
    "### I: In-sample Prediction of probability for returns going UP in the next period (predict y_train)\n",
    "\n",
    "#### For whole Training Set\n"
   ]
  },
  {
   "cell_type": "code",
   "execution_count": 25,
   "metadata": {},
   "outputs": [
    {
     "name": "stdout",
     "output_type": "stream",
     "text": [
      "Features Selected with Random Forest (RF)\n",
      "Version 1.1; based on reduced Dataset with only Ratios as predictive Features. \n",
      "\n",
      "Predicted probabilities of price going UP for whole Feature Set (Train) are: \n"
     ]
    },
    {
     "data": {
      "text/plain": [
       "0    0.657915\n",
       "1    0.494279\n",
       "2    0.702835\n",
       "dtype: float64"
      ]
     },
     "metadata": {},
     "output_type": "display_data"
    },
    {
     "name": "stdout",
     "output_type": "stream",
     "text": [
      "\n",
      "Response Vector (Train): \n"
     ]
    },
    {
     "data": {
      "text/html": [
       "<div>\n",
       "<style scoped>\n",
       "    .dataframe tbody tr th:only-of-type {\n",
       "        vertical-align: middle;\n",
       "    }\n",
       "\n",
       "    .dataframe tbody tr th {\n",
       "        vertical-align: top;\n",
       "    }\n",
       "\n",
       "    .dataframe thead th {\n",
       "        text-align: right;\n",
       "    }\n",
       "</style>\n",
       "<table border=\"1\" class=\"dataframe\">\n",
       "  <thead>\n",
       "    <tr style=\"text-align: right;\">\n",
       "      <th></th>\n",
       "      <th>0</th>\n",
       "    </tr>\n",
       "  </thead>\n",
       "  <tbody>\n",
       "    <tr>\n",
       "      <th>0</th>\n",
       "      <td>0</td>\n",
       "    </tr>\n",
       "    <tr>\n",
       "      <th>1</th>\n",
       "      <td>1</td>\n",
       "    </tr>\n",
       "    <tr>\n",
       "      <th>2</th>\n",
       "      <td>0</td>\n",
       "    </tr>\n",
       "  </tbody>\n",
       "</table>\n",
       "</div>"
      ],
      "text/plain": [
       "   0\n",
       "0  0\n",
       "1  1\n",
       "2  0"
      ]
     },
     "metadata": {},
     "output_type": "display_data"
    }
   ],
   "source": [
    "# print status\n",
    "print('Features Selected with ' + str(sel_feat))\n",
    "print('Version ' + str(VERSION) + '; ' + str(sel_version),'\\n')\n",
    "\n",
    "# Get the probability of 'UP' (=1) for the whole training set\n",
    "pred_train_all = logReg_mm.predict(sm.add_constant(X_train_s[sign_features]))\n",
    "\n",
    "# Print Prediction and Response Vector, with Title\n",
    "print('Predicted probabilities of price going UP for whole Feature Set (Train) are: ')\n",
    "display(pred_train_all[0:3])\n",
    "print(\"\")\n",
    "print('Response Vector (Train): ')\n",
    "display(y_train_s[0:3])"
   ]
  },
  {
   "cell_type": "markdown",
   "metadata": {},
   "source": [
    "### II: New-sample Prediction of probability for returns going UP in the next period (predict y_test)\n",
    "\n",
    "#### For whole Test Set\n"
   ]
  },
  {
   "cell_type": "code",
   "execution_count": 26,
   "metadata": {},
   "outputs": [
    {
     "name": "stdout",
     "output_type": "stream",
     "text": [
      "Features Selected with Random Forest (RF)\n",
      "Version 1.1; based on reduced Dataset with only Ratios as predictive Features. \n",
      "\n",
      "Predicted probability of price going UP for whole Feature Set (Test) is: \n"
     ]
    },
    {
     "data": {
      "text/plain": [
       "0    0.657915\n",
       "1    0.494279\n",
       "2    0.702835\n",
       "dtype: float64"
      ]
     },
     "metadata": {},
     "output_type": "display_data"
    },
    {
     "name": "stdout",
     "output_type": "stream",
     "text": [
      "\n",
      "Response Vector (Test): \n"
     ]
    },
    {
     "data": {
      "text/html": [
       "<div>\n",
       "<style scoped>\n",
       "    .dataframe tbody tr th:only-of-type {\n",
       "        vertical-align: middle;\n",
       "    }\n",
       "\n",
       "    .dataframe tbody tr th {\n",
       "        vertical-align: top;\n",
       "    }\n",
       "\n",
       "    .dataframe thead th {\n",
       "        text-align: right;\n",
       "    }\n",
       "</style>\n",
       "<table border=\"1\" class=\"dataframe\">\n",
       "  <thead>\n",
       "    <tr style=\"text-align: right;\">\n",
       "      <th></th>\n",
       "      <th>0</th>\n",
       "    </tr>\n",
       "  </thead>\n",
       "  <tbody>\n",
       "    <tr>\n",
       "      <th>0</th>\n",
       "      <td>1</td>\n",
       "    </tr>\n",
       "    <tr>\n",
       "      <th>1</th>\n",
       "      <td>0</td>\n",
       "    </tr>\n",
       "    <tr>\n",
       "      <th>2</th>\n",
       "      <td>1</td>\n",
       "    </tr>\n",
       "  </tbody>\n",
       "</table>\n",
       "</div>"
      ],
      "text/plain": [
       "   0\n",
       "0  1\n",
       "1  0\n",
       "2  1"
      ]
     },
     "metadata": {},
     "output_type": "display_data"
    }
   ],
   "source": [
    "# print status\n",
    "print('Features Selected with ' + str(sel_feat))\n",
    "print('Version ' + str(VERSION) + '; ' + str(sel_version),'\\n')\n",
    "\n",
    "# Get the probability of 'UP' (=1) for the whole test set\n",
    "pred_test_all = logReg_mm.predict(sm.add_constant(X_train_s[sign_features]))\n",
    "\n",
    "# Print Prediction and Response Vector, with Title\n",
    "print('Predicted probability of price going UP for whole Feature Set (Test) is: ')\n",
    "display(pred_test_all.head(3))\n",
    "print(\"\")\n",
    "print('Response Vector (Test): ')\n",
    "display(y_test_s.head(3))"
   ]
  }
 ],
 "metadata": {
  "kernelspec": {
   "display_name": "Python 3",
   "language": "python",
   "name": "python3"
  },
  "language_info": {
   "codemirror_mode": {
    "name": "ipython",
    "version": 3
   },
   "file_extension": ".py",
   "mimetype": "text/x-python",
   "name": "python",
   "nbconvert_exporter": "python",
   "pygments_lexer": "ipython3",
   "version": "3.6.4"
  }
 },
 "nbformat": 4,
 "nbformat_minor": 2
}
