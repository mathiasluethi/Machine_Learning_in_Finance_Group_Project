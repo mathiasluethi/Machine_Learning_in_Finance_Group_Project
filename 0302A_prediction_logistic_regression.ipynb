{
 "cells": [
  {
   "cell_type": "markdown",
   "metadata": {},
   "source": [
    "# Introduction to Machine Learning, UZH 2018, Group Project\n",
    "### Group 2: Barbara Capl, Mathias Lüthi, Pamela Matias, Stefanie Rentsch\n",
    "##       \n",
    "# 3. Classification / Prediction \n",
    "# A. with Single and Multiple Logistic Regression\n",
    "\n",
    "In this section we use the feature matrices and response vectors with features selected in chapter 2.  \n",
    "\n",
    "#### We use two different versions (created in chapter 1, features-selected in chapter 2):\n",
    "Version 1: Feature Matrix consists only of the Ratios                                                                        \n",
    "Version 2: Feature Matrix consists of Ratios + dummy variables for seasonality + other market data\n",
    "####  We will do Classification and Prediction with Single and Multiple Regression\n"
   ]
  },
  {
   "cell_type": "code",
   "execution_count": 1,
   "metadata": {},
   "outputs": [],
   "source": [
    "# hide unnecessary warnings (\"depreciation\" of packages etc.)\n",
    "import warnings\n",
    "warnings.filterwarnings('ignore')\n",
    "\n",
    "# Load Packages\n",
    "import pandas as pd\n",
    "import numpy as np\n",
    "import matplotlib.pyplot as plt\n",
    "import statsmodels.api as sm\n",
    "import statsmodels.formula.api as smf\n",
    "from sklearn import metrics\n",
    "\n",
    "plt.style.use(\"seaborn-whitegrid\")\n",
    "%matplotlib inline "
   ]
  },
  {
   "cell_type": "markdown",
   "metadata": {},
   "source": [
    "###   \n",
    "###   \n",
    "## 3.0. SETTINGS:"
   ]
  },
  {
   "cell_type": "markdown",
   "metadata": {},
   "source": [
    "### (1) Choose the Dataset Version you want\n",
    "\n",
    "##### Reduced Feature Matrix (Features pre-selected)\n",
    "VERSION = 1.1; Reduced Feature Matrix with only ratios                                  \n",
    "VERSION = 2.1;  Reduced Feature Matrix with ratios + saisonality + other market data"
   ]
  },
  {
   "cell_type": "code",
   "execution_count": 2,
   "metadata": {},
   "outputs": [
    {
     "name": "stdout",
     "output_type": "stream",
     "text": [
      "You chose VERSION 1.1 as working dataset. \n",
      "The following Classification/ Prediction will be therefore based on reduced Dataset with only Ratios as predictive Features.\n"
     ]
    }
   ],
   "source": [
    "### Choose which dataset version you want the selection of features and the prediction to be based on \n",
    "VERSION = 1.1\n",
    "\"\"\"\n",
    "INSERT NUMBER 1.1 or 2.1\n",
    "\"\"\"\n",
    "\n",
    "\n",
    "# Defining sel_state variable for usage later and printing text according to your choise   \n",
    "if VERSION == 1.1:\n",
    "    sel_version = 'based on reduced Dataset with only Ratios as predictive Features.'\n",
    "elif VERSION == 2.1:\n",
    "    sel_version = 'based on reduced Dataset with Ratios + Seasonality + other Market   Data as predictive Features.'\n",
    "else: raise ValueError('VERSION must be either 1.1 or 2.1')\n",
    "print('You chose VERSION '+str(VERSION)+' as working dataset. '+'\\n'+'The following Classification/ Prediction will be therefore ' \n",
    "          + sel_version)"
   ]
  },
  {
   "cell_type": "markdown",
   "metadata": {},
   "source": [
    "### (2) Choose which method you want to have the features been pre-selected with\n",
    "SELECTON  = RF ; Features pre-selected with Random Forest Classifier                                                           \n",
    "SELECTION = PCA; Features pre-selected with Principal Component Analysis (PCA)"
   ]
  },
  {
   "cell_type": "code",
   "execution_count": 3,
   "metadata": {},
   "outputs": [
    {
     "name": "stdout",
     "output_type": "stream",
     "text": [
      "You chose SELECTION method Principal Component Analysis (PCA).\n"
     ]
    }
   ],
   "source": [
    "### Choose whether you want the datasets with features selected with RF or PCA\n",
    "SELECTION = 'PCA'\n",
    "\"\"\"\n",
    "INSERT 'RF' OR 'PCA'\n",
    "\"\"\"\n",
    "\n",
    "\n",
    "# Define sel_state variable for easier printing out    \n",
    "if SELECTION == 'RF':\n",
    "    sel_feat = 'Random Forest (RF)'\n",
    "elif SELECTION == 'PCA':\n",
    "    sel_feat = 'Principal Component Analysis (PCA)'\n",
    "else: raise ValueError('SELECTION must be either RF or PCA')\n",
    "briefing = ('You chose dataset VERSION '+str(VERSION)+' and SELECTION method '+str(SELECTION)+'.'+'\\n'+'Features therefore pre-selected with '+str(sel_feat)+'.')\n",
    "#print(sel_feat)\n",
    "print('You chose SELECTION method '+str(sel_feat)+'.')"
   ]
  },
  {
   "cell_type": "markdown",
   "metadata": {},
   "source": [
    "### (3) SUMMARY OF SETTINGS"
   ]
  },
  {
   "cell_type": "code",
   "execution_count": 4,
   "metadata": {},
   "outputs": [
    {
     "name": "stdout",
     "output_type": "stream",
     "text": [
      "You chose dataset VERSION 1.1 and SELECTION method PCA.\n",
      "Features therefore pre-selected with Principal Component Analysis (PCA). \n",
      "\n",
      "VERSION 1.1 is based on reduced Dataset with only Ratios as predictive Features. \n",
      "\n",
      "You are now done with the Settings. You can run the whole Code now by Default.\n"
     ]
    }
   ],
   "source": [
    "print(briefing, '\\n')\n",
    "print('VERSION '+str(VERSION)+' is '+str(sel_version),'\\n')\n",
    "print('You are now done with the Settings. You can run the whole Code now by Default.')"
   ]
  },
  {
   "cell_type": "markdown",
   "metadata": {},
   "source": [
    "###   \n",
    "###   \n",
    "## 3.1. Preparation"
   ]
  },
  {
   "cell_type": "markdown",
   "metadata": {},
   "source": [
    "### 3.1.1. Import the Response Vector and the Feature Matrix"
   ]
  },
  {
   "cell_type": "code",
   "execution_count": 5,
   "metadata": {},
   "outputs": [],
   "source": [
    "# import Data (already splitted to train/test-data and selected features-> bc_randomforest_feature_selection)\n",
    "if VERSION == 1.1:\n",
    "    if SELECTION == 'RF':\n",
    "        X_train_s = pd.read_csv('Data/generated_splits/features_selected_randomforest/X1_train_f.csv', sep=',')\n",
    "        X_test_s = pd.read_csv('Data/generated_splits/features_selected_randomforest/X1_test_f.csv', sep=',')\n",
    "        y_train_s = pd.read_csv('Data/generated_splits/features_selected_randomforest/y1_train_f.csv', sep=',')\n",
    "        y_test_s = pd.read_csv('Data/generated_splits/features_selected_randomforest/y1_test_f.csv', sep=',')\n",
    "    elif SELECTION == 'PCA':\n",
    "        X_train_s = pd.read_csv('Data/generated_splits/features_selected_pca/X1_train_p.csv', sep=',', header=0)\n",
    "        X_test_s = pd.read_csv('Data/generated_splits/features_selected_pca/X1_test_p.csv', sep=',', header=0)\n",
    "        y_train_s = pd.read_csv('Data/generated_splits/features_selected_pca/y1_train_p.csv', sep=',', header=0)\n",
    "        y_test_s = pd.read_csv('Data/generated_splits/features_selected_pca/y1_test_p.csv', sep=',', header=0)\n",
    "elif VERSION == 2.1:\n",
    "    if SELECTION == 'RF':\n",
    "        X_train_s = pd.read_csv('Data/generated_splits/features_selected_randomforest/X2_train_f.csv', sep=',', header=0)\n",
    "        X_test_s = pd.read_csv('Data/generated_splits/features_selected_randomforest/X2_test_f.csv', sep=',', header=0)\n",
    "        y_train_s = pd.read_csv('Data/generated_splits/features_selected_randomforest/y2_train_f.csv', sep=',', header=0)\n",
    "        y_test_s = pd.read_csv('Data/generated_splits/features_selected_randomforest/y2_test_f.csv', sep=',', header=0)\n",
    "    elif SELECTION == 'PCA':\n",
    "        X_train_s = pd.read_csv('Data/generated_splits/features_selected_pca/X2_train_p.csv', sep=',', header=0)\n",
    "        X_test_s = pd.read_csv('Data/generated_splits/features_selected_pca/X2_test_p.csv', sep=',', header=0)\n",
    "        y_train_s = pd.read_csv('Data/generated_splits/features_selected_pca/y2_train_p.csv', sep=',', header=0)\n",
    "        y_test_s = pd.read_csv('Data/generated_splits/features_selected_pca/y2_test_p.csv', sep=',', header=0)\n",
    "else: raise ValueError('_VERSION_ value must be either 1.1 or 2.1, _SELECTION_ must be either RF or PCA')   "
   ]
  },
  {
   "cell_type": "markdown",
   "metadata": {},
   "source": [
    "### 3.1.2. Print out Shape and Form of Feature Matrix and Response Vector"
   ]
  },
  {
   "cell_type": "markdown",
   "metadata": {},
   "source": [
    "\n",
    "### Train Set"
   ]
  },
  {
   "cell_type": "code",
   "execution_count": 6,
   "metadata": {},
   "outputs": [
    {
     "name": "stdout",
     "output_type": "stream",
     "text": [
      "Features Selected with Principal Component Analysis (PCA)\n",
      "Version 1.1; based on reduced Dataset with only Ratios as predictive Features. \n",
      "\n",
      "Shape (rows, columns) of Feature Matrix X (Train) =(2836, 20) \n",
      "\n",
      "Feature Matrix X (Train) with Selected Features\n"
     ]
    },
    {
     "data": {
      "text/html": [
       "<div>\n",
       "<style scoped>\n",
       "    .dataframe tbody tr th:only-of-type {\n",
       "        vertical-align: middle;\n",
       "    }\n",
       "\n",
       "    .dataframe tbody tr th {\n",
       "        vertical-align: top;\n",
       "    }\n",
       "\n",
       "    .dataframe thead th {\n",
       "        text-align: right;\n",
       "    }\n",
       "</style>\n",
       "<table border=\"1\" class=\"dataframe\">\n",
       "  <thead>\n",
       "    <tr style=\"text-align: right;\">\n",
       "      <th></th>\n",
       "      <th>0</th>\n",
       "      <th>1</th>\n",
       "      <th>2</th>\n",
       "      <th>3</th>\n",
       "      <th>4</th>\n",
       "      <th>5</th>\n",
       "      <th>6</th>\n",
       "      <th>7</th>\n",
       "      <th>8</th>\n",
       "      <th>9</th>\n",
       "      <th>10</th>\n",
       "      <th>11</th>\n",
       "      <th>12</th>\n",
       "      <th>13</th>\n",
       "      <th>14</th>\n",
       "      <th>15</th>\n",
       "      <th>16</th>\n",
       "      <th>17</th>\n",
       "      <th>18</th>\n",
       "      <th>19</th>\n",
       "    </tr>\n",
       "  </thead>\n",
       "  <tbody>\n",
       "    <tr>\n",
       "      <th>0</th>\n",
       "      <td>-1.992491</td>\n",
       "      <td>-3.854060</td>\n",
       "      <td>-1.358204</td>\n",
       "      <td>0.890380</td>\n",
       "      <td>-1.684496</td>\n",
       "      <td>0.354549</td>\n",
       "      <td>0.986454</td>\n",
       "      <td>-1.015037</td>\n",
       "      <td>-0.450643</td>\n",
       "      <td>-1.154817</td>\n",
       "      <td>-0.573204</td>\n",
       "      <td>1.232898</td>\n",
       "      <td>0.001745</td>\n",
       "      <td>0.183939</td>\n",
       "      <td>0.424976</td>\n",
       "      <td>-0.216462</td>\n",
       "      <td>-0.549513</td>\n",
       "      <td>1.02304</td>\n",
       "      <td>-0.278264</td>\n",
       "      <td>0.923140</td>\n",
       "    </tr>\n",
       "    <tr>\n",
       "      <th>1</th>\n",
       "      <td>3.623364</td>\n",
       "      <td>1.688616</td>\n",
       "      <td>-3.632053</td>\n",
       "      <td>1.759653</td>\n",
       "      <td>-2.073282</td>\n",
       "      <td>-0.237232</td>\n",
       "      <td>0.595880</td>\n",
       "      <td>-0.452608</td>\n",
       "      <td>0.272523</td>\n",
       "      <td>-0.162172</td>\n",
       "      <td>0.766160</td>\n",
       "      <td>-0.569759</td>\n",
       "      <td>0.272826</td>\n",
       "      <td>-1.216684</td>\n",
       "      <td>-0.068929</td>\n",
       "      <td>-0.461294</td>\n",
       "      <td>0.374833</td>\n",
       "      <td>-0.59817</td>\n",
       "      <td>-0.360279</td>\n",
       "      <td>0.577018</td>\n",
       "    </tr>\n",
       "    <tr>\n",
       "      <th>2</th>\n",
       "      <td>3.970356</td>\n",
       "      <td>-6.469188</td>\n",
       "      <td>0.335654</td>\n",
       "      <td>-1.871450</td>\n",
       "      <td>0.619309</td>\n",
       "      <td>-1.121082</td>\n",
       "      <td>-0.659719</td>\n",
       "      <td>-0.419824</td>\n",
       "      <td>1.375489</td>\n",
       "      <td>0.224935</td>\n",
       "      <td>-0.628303</td>\n",
       "      <td>1.030774</td>\n",
       "      <td>-2.009131</td>\n",
       "      <td>0.295148</td>\n",
       "      <td>-1.018053</td>\n",
       "      <td>-0.206144</td>\n",
       "      <td>-1.237567</td>\n",
       "      <td>1.22549</td>\n",
       "      <td>0.081133</td>\n",
       "      <td>-1.067794</td>\n",
       "    </tr>\n",
       "  </tbody>\n",
       "</table>\n",
       "</div>"
      ],
      "text/plain": [
       "          0         1         2         3         4         5         6  \\\n",
       "0 -1.992491 -3.854060 -1.358204  0.890380 -1.684496  0.354549  0.986454   \n",
       "1  3.623364  1.688616 -3.632053  1.759653 -2.073282 -0.237232  0.595880   \n",
       "2  3.970356 -6.469188  0.335654 -1.871450  0.619309 -1.121082 -0.659719   \n",
       "\n",
       "          7         8         9        10        11        12        13  \\\n",
       "0 -1.015037 -0.450643 -1.154817 -0.573204  1.232898  0.001745  0.183939   \n",
       "1 -0.452608  0.272523 -0.162172  0.766160 -0.569759  0.272826 -1.216684   \n",
       "2 -0.419824  1.375489  0.224935 -0.628303  1.030774 -2.009131  0.295148   \n",
       "\n",
       "         14        15        16       17        18        19  \n",
       "0  0.424976 -0.216462 -0.549513  1.02304 -0.278264  0.923140  \n",
       "1 -0.068929 -0.461294  0.374833 -0.59817 -0.360279  0.577018  \n",
       "2 -1.018053 -0.206144 -1.237567  1.22549  0.081133 -1.067794  "
      ]
     },
     "metadata": {},
     "output_type": "display_data"
    },
    {
     "name": "stdout",
     "output_type": "stream",
     "text": [
      "\n",
      "Response Vector y (Train) after Feature Selection\n"
     ]
    },
    {
     "data": {
      "text/html": [
       "<div>\n",
       "<style scoped>\n",
       "    .dataframe tbody tr th:only-of-type {\n",
       "        vertical-align: middle;\n",
       "    }\n",
       "\n",
       "    .dataframe tbody tr th {\n",
       "        vertical-align: top;\n",
       "    }\n",
       "\n",
       "    .dataframe thead th {\n",
       "        text-align: right;\n",
       "    }\n",
       "</style>\n",
       "<table border=\"1\" class=\"dataframe\">\n",
       "  <thead>\n",
       "    <tr style=\"text-align: right;\">\n",
       "      <th></th>\n",
       "      <th>0</th>\n",
       "    </tr>\n",
       "  </thead>\n",
       "  <tbody>\n",
       "    <tr>\n",
       "      <th>0</th>\n",
       "      <td>0</td>\n",
       "    </tr>\n",
       "    <tr>\n",
       "      <th>1</th>\n",
       "      <td>1</td>\n",
       "    </tr>\n",
       "    <tr>\n",
       "      <th>2</th>\n",
       "      <td>0</td>\n",
       "    </tr>\n",
       "  </tbody>\n",
       "</table>\n",
       "</div>"
      ],
      "text/plain": [
       "   0\n",
       "0  0\n",
       "1  1\n",
       "2  0"
      ]
     },
     "metadata": {},
     "output_type": "display_data"
    },
    {
     "name": "stdout",
     "output_type": "stream",
     "text": [
      "\n"
     ]
    }
   ],
   "source": [
    "# print status\n",
    "print('Features Selected with ' + str(sel_feat))\n",
    "print('Version ' + str(VERSION) + '; ' + str(sel_version),'\\n')\n",
    "\n",
    "# print properties and head of datasets\n",
    "print('Shape (rows, columns) of Feature Matrix X (Train) ' + '=' + str(X_train_s.shape),'\\n')\n",
    "print('Feature Matrix X (Train) with Selected Features')\n",
    "display(X_train_s[0:3])\n",
    "print(\"\")\n",
    "print('Response Vector y (Train) after Feature Selection')\n",
    "display(y_train_s[0:3])\n",
    "print(\"\")"
   ]
  },
  {
   "cell_type": "markdown",
   "metadata": {},
   "source": [
    "### Test Set"
   ]
  },
  {
   "cell_type": "code",
   "execution_count": 7,
   "metadata": {},
   "outputs": [
    {
     "name": "stdout",
     "output_type": "stream",
     "text": [
      "Features Selected with Principal Component Analysis (PCA)\n",
      "Version 1.1; based on reduced Dataset with only Ratios as predictive Features. \n",
      "\n",
      "Shape (rows, columns) of Feature Matrix X (Test) =(710, 20) \n",
      "\n",
      "Feature Matrix X (Train) with Selected Features\n"
     ]
    },
    {
     "data": {
      "text/html": [
       "<div>\n",
       "<style scoped>\n",
       "    .dataframe tbody tr th:only-of-type {\n",
       "        vertical-align: middle;\n",
       "    }\n",
       "\n",
       "    .dataframe tbody tr th {\n",
       "        vertical-align: top;\n",
       "    }\n",
       "\n",
       "    .dataframe thead th {\n",
       "        text-align: right;\n",
       "    }\n",
       "</style>\n",
       "<table border=\"1\" class=\"dataframe\">\n",
       "  <thead>\n",
       "    <tr style=\"text-align: right;\">\n",
       "      <th></th>\n",
       "      <th>0</th>\n",
       "      <th>1</th>\n",
       "      <th>2</th>\n",
       "      <th>3</th>\n",
       "      <th>4</th>\n",
       "      <th>5</th>\n",
       "      <th>6</th>\n",
       "      <th>7</th>\n",
       "      <th>8</th>\n",
       "      <th>9</th>\n",
       "      <th>10</th>\n",
       "      <th>11</th>\n",
       "      <th>12</th>\n",
       "      <th>13</th>\n",
       "      <th>14</th>\n",
       "      <th>15</th>\n",
       "      <th>16</th>\n",
       "      <th>17</th>\n",
       "      <th>18</th>\n",
       "      <th>19</th>\n",
       "    </tr>\n",
       "  </thead>\n",
       "  <tbody>\n",
       "    <tr>\n",
       "      <th>0</th>\n",
       "      <td>-4.398996</td>\n",
       "      <td>-0.251344</td>\n",
       "      <td>1.228421</td>\n",
       "      <td>1.329040</td>\n",
       "      <td>1.541763</td>\n",
       "      <td>-0.887496</td>\n",
       "      <td>-0.672064</td>\n",
       "      <td>0.404861</td>\n",
       "      <td>-0.127133</td>\n",
       "      <td>1.289273</td>\n",
       "      <td>0.781945</td>\n",
       "      <td>-0.317685</td>\n",
       "      <td>-0.155794</td>\n",
       "      <td>1.666383</td>\n",
       "      <td>-0.544083</td>\n",
       "      <td>-0.596954</td>\n",
       "      <td>-0.313696</td>\n",
       "      <td>0.252133</td>\n",
       "      <td>-0.103663</td>\n",
       "      <td>0.590255</td>\n",
       "    </tr>\n",
       "    <tr>\n",
       "      <th>1</th>\n",
       "      <td>4.547781</td>\n",
       "      <td>-2.110889</td>\n",
       "      <td>1.280301</td>\n",
       "      <td>0.458220</td>\n",
       "      <td>0.257096</td>\n",
       "      <td>0.256817</td>\n",
       "      <td>-0.347985</td>\n",
       "      <td>-0.575497</td>\n",
       "      <td>-0.683416</td>\n",
       "      <td>0.455107</td>\n",
       "      <td>0.746177</td>\n",
       "      <td>0.845192</td>\n",
       "      <td>1.345523</td>\n",
       "      <td>0.920076</td>\n",
       "      <td>-0.666151</td>\n",
       "      <td>-0.541286</td>\n",
       "      <td>-0.266770</td>\n",
       "      <td>0.819455</td>\n",
       "      <td>-0.324576</td>\n",
       "      <td>-0.659120</td>\n",
       "    </tr>\n",
       "    <tr>\n",
       "      <th>2</th>\n",
       "      <td>-2.589346</td>\n",
       "      <td>-3.531489</td>\n",
       "      <td>-0.962611</td>\n",
       "      <td>0.668413</td>\n",
       "      <td>-1.822954</td>\n",
       "      <td>0.761581</td>\n",
       "      <td>1.144429</td>\n",
       "      <td>-0.859820</td>\n",
       "      <td>0.626828</td>\n",
       "      <td>-1.481243</td>\n",
       "      <td>-0.905016</td>\n",
       "      <td>-0.126899</td>\n",
       "      <td>-0.411559</td>\n",
       "      <td>0.845867</td>\n",
       "      <td>-0.329681</td>\n",
       "      <td>0.017180</td>\n",
       "      <td>-0.016959</td>\n",
       "      <td>0.074038</td>\n",
       "      <td>0.636780</td>\n",
       "      <td>-0.392010</td>\n",
       "    </tr>\n",
       "  </tbody>\n",
       "</table>\n",
       "</div>"
      ],
      "text/plain": [
       "          0         1         2         3         4         5         6  \\\n",
       "0 -4.398996 -0.251344  1.228421  1.329040  1.541763 -0.887496 -0.672064   \n",
       "1  4.547781 -2.110889  1.280301  0.458220  0.257096  0.256817 -0.347985   \n",
       "2 -2.589346 -3.531489 -0.962611  0.668413 -1.822954  0.761581  1.144429   \n",
       "\n",
       "          7         8         9        10        11        12        13  \\\n",
       "0  0.404861 -0.127133  1.289273  0.781945 -0.317685 -0.155794  1.666383   \n",
       "1 -0.575497 -0.683416  0.455107  0.746177  0.845192  1.345523  0.920076   \n",
       "2 -0.859820  0.626828 -1.481243 -0.905016 -0.126899 -0.411559  0.845867   \n",
       "\n",
       "         14        15        16        17        18        19  \n",
       "0 -0.544083 -0.596954 -0.313696  0.252133 -0.103663  0.590255  \n",
       "1 -0.666151 -0.541286 -0.266770  0.819455 -0.324576 -0.659120  \n",
       "2 -0.329681  0.017180 -0.016959  0.074038  0.636780 -0.392010  "
      ]
     },
     "metadata": {},
     "output_type": "display_data"
    },
    {
     "name": "stdout",
     "output_type": "stream",
     "text": [
      "\n",
      "Response Vector y (Test) after Feature Selection\n"
     ]
    },
    {
     "data": {
      "text/html": [
       "<div>\n",
       "<style scoped>\n",
       "    .dataframe tbody tr th:only-of-type {\n",
       "        vertical-align: middle;\n",
       "    }\n",
       "\n",
       "    .dataframe tbody tr th {\n",
       "        vertical-align: top;\n",
       "    }\n",
       "\n",
       "    .dataframe thead th {\n",
       "        text-align: right;\n",
       "    }\n",
       "</style>\n",
       "<table border=\"1\" class=\"dataframe\">\n",
       "  <thead>\n",
       "    <tr style=\"text-align: right;\">\n",
       "      <th></th>\n",
       "      <th>0</th>\n",
       "    </tr>\n",
       "  </thead>\n",
       "  <tbody>\n",
       "    <tr>\n",
       "      <th>0</th>\n",
       "      <td>1</td>\n",
       "    </tr>\n",
       "    <tr>\n",
       "      <th>1</th>\n",
       "      <td>0</td>\n",
       "    </tr>\n",
       "    <tr>\n",
       "      <th>2</th>\n",
       "      <td>1</td>\n",
       "    </tr>\n",
       "  </tbody>\n",
       "</table>\n",
       "</div>"
      ],
      "text/plain": [
       "   0\n",
       "0  1\n",
       "1  0\n",
       "2  1"
      ]
     },
     "metadata": {},
     "output_type": "display_data"
    },
    {
     "name": "stdout",
     "output_type": "stream",
     "text": [
      "\n"
     ]
    }
   ],
   "source": [
    "# print status\n",
    "print('Features Selected with ' + str(sel_feat))\n",
    "print('Version ' + str(VERSION) + '; ' + str(sel_version),'\\n')\n",
    "\n",
    "# print properties and head of datasets\n",
    "print('Shape (rows, columns) of Feature Matrix X (Test) ' + '=' + str(X_test_s.shape),'\\n')\n",
    "print('Feature Matrix X (Train) with Selected Features')\n",
    "display(X_test_s[0:3])\n",
    "print(\"\")\n",
    "print('Response Vector y (Test) after Feature Selection')\n",
    "display(y_test_s[0:3])\n",
    "print(\"\")"
   ]
  },
  {
   "cell_type": "markdown",
   "metadata": {},
   "source": [
    "###   \n",
    "###   \n",
    "## 3.2. Simple Logistic Regression (statsmodels) (SLM)"
   ]
  },
  {
   "cell_type": "markdown",
   "metadata": {},
   "source": [
    "### 3.2.1. Preparation and fitting (on Training Set) , define BEST FEATURE (SLM)"
   ]
  },
  {
   "cell_type": "code",
   "execution_count": 8,
   "metadata": {},
   "outputs": [
    {
     "data": {
      "text/plain": [
       "'0'"
      ]
     },
     "metadata": {},
     "output_type": "display_data"
    }
   ],
   "source": [
    "# best feature selection taking the column name\n",
    "colNms = X_train_s.columns.values\n",
    "display(colNms[0])"
   ]
  },
  {
   "cell_type": "code",
   "execution_count": 9,
   "metadata": {},
   "outputs": [
    {
     "name": "stdout",
     "output_type": "stream",
     "text": [
      "Features Selected with Principal Component Analysis (PCA)\n",
      "Version 1.1; based on reduced Dataset with only Ratios as predictive Features. \n",
      "\n",
      "ERROR: PCA best feature not defined (PCA is unlabeled)! Thus no Simple Regression available.\n",
      "Proceed to Multiple Regression in chapter 3.3.\n"
     ]
    }
   ],
   "source": [
    "# print status\n",
    "print('Features Selected with ' + str(sel_feat))\n",
    "print('Version ' + str(VERSION) + '; ' + str(sel_version),'\\n')\n",
    "\n",
    "# Run Simple Logistic Regression\n",
    "# Logistic Regression (with the most important feature from feature selection)\n",
    "# Assign \"best_feature\" to matrix X and response to y, acording to chosen Version of datasets and feature Selection method\n",
    "pca_error = ('ERROR: PCA best feature not defined (PCA is unlabeled)! Thus no Simple Regression available.'+'\\n'+'Proceed to Multiple Regression in chapter 3.3.')\n",
    "if VERSION == 1.1:\n",
    "    if SELECTION == 'RF':\n",
    "        best_feature = colNms[0]\n",
    "        logReg = sm.Logit(endog = y_train_s, exog= sm.add_constant(X_train_s[best_feature])).fit()\n",
    "    elif SELECTION == 'PCA':\n",
    "        print(pca_error)\n",
    "elif VERSION == 2.1:\n",
    "    if SELECTION == 'RF':\n",
    "        best_feature = colNms[0]\n",
    "        logReg = sm.Logit(endog = y_train_s, exog= sm.add_constant(X_train_s[best_feature])).fit()\n",
    "    elif SELECTION == 'PCA':\n",
    "        print(pca_error)\n",
    "else: raise ValueError('VERSION value must be either 1 or 2, SELECTION must be either RF or PCA')"
   ]
  },
  {
   "cell_type": "markdown",
   "metadata": {},
   "source": [
    "### 3.2.2. Summary (SLM)"
   ]
  },
  {
   "cell_type": "code",
   "execution_count": 10,
   "metadata": {},
   "outputs": [],
   "source": [
    "# Workaround solution for error (\"AttributeError: module 'scipy.stats' has no attribute 'chisqprob'\")\n",
    "from scipy import stats\n",
    "stats.chisqprob = lambda chisq, df: stats.chi2.sf(chisq, df)"
   ]
  },
  {
   "cell_type": "code",
   "execution_count": 11,
   "metadata": {},
   "outputs": [
    {
     "name": "stdout",
     "output_type": "stream",
     "text": [
      "ERROR: PCA best feature not defined (PCA is unlabeled)! Thus no Simple Regression available.\n",
      "Proceed to Multiple Regression in chapter 3.3.\n"
     ]
    }
   ],
   "source": [
    "# LogReg with only one feature as exogen variable\n",
    "if SELECTION == 'RF':\n",
    "    print(logReg.summary(),'\\n')\n",
    "    print('logReg pvalues: '+'\\n')\n",
    "    print(logReg.pvalues)\n",
    "elif SELECTION == 'PCA':\n",
    "    print(pca_error)\n",
    "else: raise ValueError('VERSION value must be either 1 or 2, SELECTION must be either RF or PCA')"
   ]
  },
  {
   "cell_type": "markdown",
   "metadata": {},
   "source": [
    "### 3.2.3. Assessing Output (SLM)\n",
    "\n",
    "### Hypothesis testing / Confidence Interval"
   ]
  },
  {
   "cell_type": "code",
   "execution_count": 12,
   "metadata": {},
   "outputs": [
    {
     "name": "stdout",
     "output_type": "stream",
     "text": [
      "ERROR: PCA best feature not defined (PCA is unlabeled)! Thus no Simple Regression available.\n",
      "Proceed to Multiple Regression in chapter 3.3.\n"
     ]
    }
   ],
   "source": [
    "significance_level = 0.01\n",
    "\n",
    "if SELECTION == 'RF':\n",
    "    print(str(int(100 - significance_level*100)) + '% Confidence Interval (Significance Level ' \n",
    "          + str(int(significance_level*100)) + '%)')\n",
    "    display(logReg.conf_int(alpha=significance_level))\n",
    "elif SELECTION == 'PCA':\n",
    "    print(pca_error)\n",
    "else: raise ValueError('VERSION value must be either 1 or 2, SELECTION must be either RF or PCA')"
   ]
  },
  {
   "cell_type": "markdown",
   "metadata": {},
   "source": [
    "### 3.2.2. Prediction (SML)\n",
    "\n",
    "### I: In-sample Prediction of probability for returns going UP in the next period (predict y_train)\n"
   ]
  },
  {
   "cell_type": "markdown",
   "metadata": {},
   "source": [
    "#### Prediction of whole Response Vector (Train) based on all available values of the single chosen feature (Train)"
   ]
  },
  {
   "cell_type": "code",
   "execution_count": 13,
   "metadata": {},
   "outputs": [
    {
     "name": "stdout",
     "output_type": "stream",
     "text": [
      "Features Selected with Principal Component Analysis (PCA)\n",
      "Version 1.1; based on reduced Dataset with only Ratios as predictive Features. \n",
      "\n",
      "ERROR: PCA best feature not defined (PCA is unlabeled)! Thus no Simple Regression available.\n",
      "Proceed to Multiple Regression in chapter 3.3.\n"
     ]
    }
   ],
   "source": [
    "# print status\n",
    "print('Features Selected with ' + str(sel_feat))\n",
    "print('Version ' + str(VERSION) + '; ' + str(sel_version),'\\n')\n",
    "\n",
    "# X must include 1 in first column for intercept\n",
    "# we wish to get the probability of 'UP' (=1) for the whole test set\n",
    "if SELECTION == 'RF':\n",
    "    pred_train_all = logReg.predict(sm.add_constant(X_train_s[best_feature]))\n",
    "    print('Predicted probability of price going UP for whole Feature Train Set is: ')\n",
    "    display(pred_train_all.head(3))\n",
    "    print('Actual Response Vector y_train is:')\n",
    "    display(y_train_s.head(3))\n",
    "elif SELECTION == 'PCA':\n",
    "    print(pca_error)\n",
    "else: raise ValueError('VERSION value must be either 1 or 2, SELECTION must be either RF or PCA')"
   ]
  },
  {
   "cell_type": "markdown",
   "metadata": {},
   "source": [
    "### ii: New-sample Prediction of probability for returns going UP in the next period (predict y_test)\n",
    "\n",
    "#### ONE prediction For ONE specific chosen value of predictive variable\n"
   ]
  },
  {
   "cell_type": "code",
   "execution_count": 14,
   "metadata": {},
   "outputs": [
    {
     "name": "stdout",
     "output_type": "stream",
     "text": [
      "Features Selected with Principal Component Analysis (PCA)\n",
      "Version 1.1; based on reduced Dataset with only Ratios as predictive Features. \n",
      "\n",
      "ERROR: PCA best feature not defined (PCA is unlabeled)! Thus no Simple Regression available.\n",
      "Proceed to Multiple Regression in chapter 3.3.\n"
     ]
    }
   ],
   "source": [
    "# print status\n",
    "print('Features Selected with ' + str(sel_feat))\n",
    "print('Version ' + str(VERSION) + '; ' + str(sel_version),'\\n')\n",
    "\n",
    "\n",
    "# Loop for Version differenciation\n",
    "# X must include 1 in first column for intercept\n",
    "# we wish to get the probability of 'UP' (=1) for a best_feature_value of USD 15\n",
    "if VERSION == 1.1:\n",
    "    if SELECTION == 'RF':\n",
    "        print('Chosen best feature = ' + str(best_feature))\n",
    "        #### Choose value fo chosen best feature manually\n",
    "        # Here: chosen median of feature values + /3 of median of feature values\n",
    "        bfv = np.median(X_train_s[best_feature])+ np.median(X_train_s[best_feature])/3\n",
    "        #bfv = np.mean(X_train_s[best_feature])\n",
    "        #bfv = np.median(X_train_s[best_feature])\n",
    "        best_feature_value = bfv\n",
    "        print('Chosen value of best feature = ' + str(best_feature_value),'\\n')\n",
    "        pred_test_one = logReg.predict([1, best_feature_value])\n",
    "        ratio_response_train = y_train_s.sum() / y_train_s.size\n",
    "        print('Predicted probability of price going UP with chosen ' + str(best_feature) + ' value is: '\n",
    "              + str(\"%.4f\" % round(float(pred_test_one*100),4)) + '%'+'\\n')\n",
    "        print('Actual Ratio of \"UP\" (Train)  =  ' + str(\"%.4f\" % round(float(ratio_response_train*100),4)) + '%')\n",
    "    elif SELECTION == 'PCA':\n",
    "        print(pca_error)  \n",
    "elif VERSION == 2.1:\n",
    "    if SELECTION == 'RF':\n",
    "        #### Choose value fo chosen best feature manually\n",
    "        # Here: chosen median of feature values + /3 of median of feature values\n",
    "        bfv = np.median(X_train_s[best_feature])+ np.median(X_train_s[best_feature])/3\n",
    "        #bfv = np.mean(X_train_s[best_feature])\n",
    "        #bfv = np.median(X_train_s[best_feature])\n",
    "        best_feature_value = bfv\n",
    "        print('Chosen value of best feature = ' + str(best_feature_value),'\\n')\n",
    "        pred_test_one = logReg.predict([1, best_feature_value])\n",
    "        ratio_response_train = y_train_s.sum() / y_train_s.size\n",
    "        print('Predicted probability of price going UP with chosen ' + str(best_feature) + ' value is: '\n",
    "              + str(\"%.4f\" % round(float(pred_test_one*100),4)) + '%')\n",
    "        print('Ratio of \"UP\" (Train)  =  ' + str(\"%.4f\" % round(float(ratio_response_train*100),4)) + '%')\n",
    "    elif SELECTION == 'PCA':\n",
    "        print(pca_error)\n",
    "else: raise ValueError('VERSION value must be either 1 or 2, SELECTION must be either RF or PCA.')"
   ]
  },
  {
   "cell_type": "markdown",
   "metadata": {},
   "source": [
    "#### Prediction of whole Response Vector (Test) based on all available values of the single chosen feature (Test)"
   ]
  },
  {
   "cell_type": "code",
   "execution_count": 15,
   "metadata": {},
   "outputs": [
    {
     "name": "stdout",
     "output_type": "stream",
     "text": [
      "Features Selected with Principal Component Analysis (PCA)\n",
      "Version 1.1; based on reduced Dataset with only Ratios as predictive Features. \n",
      "\n",
      "ERROR: PCA best feature not defined (PCA is unlabeled)! Thus no Simple Regression available.\n",
      "Proceed to Multiple Regression in chapter 3.3.\n"
     ]
    }
   ],
   "source": [
    "# print status\n",
    "print('Features Selected with ' + str(sel_feat))\n",
    "print('Version ' + str(VERSION) + '; ' + str(sel_version),'\\n')\n",
    "\n",
    "# we wish to get the probability of 'UP' (=1) for the whole test set\n",
    "if SELECTION == 'RF':\n",
    "    pred_test_all = logReg.predict(sm.add_constant(X_test_s[best_feature]))\n",
    "    print('Predicted probability of price going UP for whole Feature Test Set is: '+'\\n')\n",
    "    display(pred_test_all.head(3))\n",
    "    print('Actual Response Vector y_train is:')\n",
    "    display(y_test_s.head(3))\n",
    "elif SELECTION == 'PCA':\n",
    "    print(pca_error)\n",
    "else: raise ValueError('VERSION value must be either 1 or 2, SELECTION must be either RF or PCA')    "
   ]
  },
  {
   "cell_type": "markdown",
   "metadata": {},
   "source": [
    "### 3.2.3. Plot Results for Training Set (SLM)"
   ]
  },
  {
   "cell_type": "code",
   "execution_count": 16,
   "metadata": {},
   "outputs": [
    {
     "name": "stdout",
     "output_type": "stream",
     "text": [
      "Features Selected with Principal Component Analysis (PCA)\n",
      "Version 1.1; based on reduced Dataset with only Ratios as predictive Features. \n",
      "\n",
      "ERROR: PCA best feature not defined (PCA is unlabeled)! Thus no Simple Regression available.\n",
      "Proceed to Multiple Regression in chapter 3.3.\n"
     ]
    }
   ],
   "source": [
    "# print status\n",
    "print('Features Selected with ' + str(sel_feat))\n",
    "print('Version ' + str(VERSION) + '; ' + str(sel_version),'\\n')\n",
    "\n",
    "# Plot scatter and log.Reg\n",
    "if SELECTION == 'RF':\n",
    "    print('Chosen best feature = ' + str(best_feature))\n",
    "    display(logReg.predict())\n",
    "    # Transfer best_feature column an prediction for response vector in a newly made dataframe \"res\"\n",
    "    res = pd.DataFrame()\n",
    "    res['best_feature'] = X_train_s[best_feature]\n",
    "    res['probability'] = logReg.predict()\n",
    "    # Sort results by values of the best_feature column\n",
    "    res = res.sort_values('best_feature')\n",
    "\n",
    "    # Plot\n",
    "    plt.figure(figsize =(8,5))\n",
    "    plt.title(str(best_feature) + ' vs. probability of returns going UP in the next period');\n",
    "    plt.scatter(X_train_s[best_feature], y_train_s, marker ='.')\n",
    "    plt.plot(res.best_feature, res.probability, c = 'k')\n",
    "    plt.axhline(y=0, color = \"gray\", linestyle = \"dashed\")\n",
    "    plt.axhline(y=1, color = \"gray\", linestyle = \"dashed\")\n",
    "    plt.ylabel(\"Probability of UP (=1)\", fontsize =12)\n",
    "    plt.xlabel(str(best_feature), fontsize =12)\n",
    "    \n",
    "elif SELECTION == 'PCA':\n",
    "    print(pca_error)\n",
    "    \n",
    "else: raise ValueError('VERSION value must be either 1 or 2, SELECTION must be either RF or PCA')  "
   ]
  },
  {
   "cell_type": "markdown",
   "metadata": {},
   "source": [
    "###   \n",
    "###   \n",
    "## 3.3. Multiple Logistic Regression with n pre-selected features (MLR1)"
   ]
  },
  {
   "cell_type": "markdown",
   "metadata": {},
   "source": [
    "### 3.3.1. Preparation and fitting (on Training Set) (MLR1)"
   ]
  },
  {
   "cell_type": "code",
   "execution_count": 17,
   "metadata": {},
   "outputs": [
    {
     "name": "stdout",
     "output_type": "stream",
     "text": [
      "Optimization terminated successfully.\n",
      "         Current function value: 0.669721\n",
      "         Iterations 6\n"
     ]
    }
   ],
   "source": [
    "## Multiple Log. Regression (with all n best features chosen in Chapter 2 in the feature selection process)\n",
    "logReg_m = sm.Logit(endog = y_train_s, exog = sm.add_constant(X_train_s)).fit() "
   ]
  },
  {
   "cell_type": "markdown",
   "metadata": {},
   "source": [
    "### 3.3.2. Summary (MLR1)"
   ]
  },
  {
   "cell_type": "code",
   "execution_count": 18,
   "metadata": {},
   "outputs": [
    {
     "name": "stdout",
     "output_type": "stream",
     "text": [
      "Features Selected with Principal Component Analysis (PCA)\n",
      "Version 1.1; based on reduced Dataset with only Ratios as predictive Features. \n",
      "\n",
      "Multiple Logistic Regression with all selected features\n",
      "\n",
      "                           Logit Regression Results                           \n",
      "==============================================================================\n",
      "Dep. Variable:                      0   No. Observations:                 2836\n",
      "Model:                          Logit   Df Residuals:                     2815\n",
      "Method:                           MLE   Df Model:                           20\n",
      "Date:                Tue, 17 Apr 2018   Pseudo R-squ.:                 0.01519\n",
      "Time:                        12:03:55   Log-Likelihood:                -1899.3\n",
      "converged:                       True   LL-Null:                       -1928.6\n",
      "                                        LLR p-value:                 1.178e-05\n",
      "==============================================================================\n",
      "==============================================================================\n",
      "                 coef    std err          z      P>|z|      [0.025      0.975]\n",
      "------------------------------------------------------------------------------\n",
      "const          0.3393      0.039      8.789      0.000       0.264       0.415\n",
      "0             -0.0096      0.010     -0.944      0.345      -0.030       0.010\n",
      "1             -0.0184      0.012     -1.491      0.136      -0.043       0.006\n",
      "2             -0.0152      0.017     -0.905      0.365      -0.048       0.018\n",
      "3              0.0261      0.019      1.365      0.172      -0.011       0.064\n",
      "4             -0.0465      0.023     -2.016      0.044      -0.092      -0.001\n",
      "5              0.0416      0.026      1.592      0.111      -0.010       0.093\n",
      "6              0.0071      0.025      0.285      0.775      -0.042       0.056\n",
      "7              0.0860      0.033      2.641      0.008       0.022       0.150\n",
      "8             -0.1200      0.027     -4.507      0.000      -0.172      -0.068\n",
      "9              0.1296      0.033      3.932      0.000       0.065       0.194\n",
      "10             0.0869      0.031      2.819      0.005       0.026       0.147\n",
      "11             0.0991      0.033      2.968      0.003       0.034       0.164\n",
      "12            -0.0220      0.036     -0.609      0.543      -0.093       0.049\n",
      "13            -0.0109      0.033     -0.326      0.745      -0.077       0.055\n",
      "14             0.0307      0.043      0.721      0.471      -0.053       0.114\n",
      "15            -0.0122      0.039     -0.314      0.754      -0.088       0.064\n",
      "16            -0.0008      0.039     -0.020      0.984      -0.077       0.076\n",
      "17             0.0184      0.039      0.467      0.640      -0.059       0.096\n",
      "18            -0.0590      0.042     -1.415      0.157      -0.141       0.023\n",
      "19            -0.0928      0.044     -2.130      0.033      -0.178      -0.007\n",
      "==============================================================================\n"
     ]
    }
   ],
   "source": [
    "# print status\n",
    "print('Features Selected with ' + str(sel_feat))\n",
    "print('Version ' + str(VERSION) + '; ' + str(sel_version),'\\n')\n",
    "print(\"Multiple Logistic Regression with all selected features\"+'\\n')\n",
    "\n",
    "# Workaround solution for error (\"AttributeError: module 'scipy.stats' has no attribute 'chisqprob'\")\n",
    "from scipy import stats\n",
    "stats.chisqprob = lambda chisq, df: stats.chi2.sf(chisq, df)\n",
    "\n",
    "# Run Multiple Logistic Regression\n",
    "print(logReg_m.summary().tables[0])\n",
    "print(logReg_m.summary().tables[1])"
   ]
  },
  {
   "cell_type": "markdown",
   "metadata": {},
   "source": [
    "### 3.3.3. Assessing Output (MLR1)\n",
    "\n",
    "### Hypothesis testing / Confidence Interval"
   ]
  },
  {
   "cell_type": "code",
   "execution_count": 19,
   "metadata": {},
   "outputs": [
    {
     "name": "stdout",
     "output_type": "stream",
     "text": [
      "99% Confidence Interval (Significance Level 1%)\n"
     ]
    },
    {
     "data": {
      "text/html": [
       "<div>\n",
       "<style scoped>\n",
       "    .dataframe tbody tr th:only-of-type {\n",
       "        vertical-align: middle;\n",
       "    }\n",
       "\n",
       "    .dataframe tbody tr th {\n",
       "        vertical-align: top;\n",
       "    }\n",
       "\n",
       "    .dataframe thead th {\n",
       "        text-align: right;\n",
       "    }\n",
       "</style>\n",
       "<table border=\"1\" class=\"dataframe\">\n",
       "  <thead>\n",
       "    <tr style=\"text-align: right;\">\n",
       "      <th></th>\n",
       "      <th>0</th>\n",
       "      <th>1</th>\n",
       "    </tr>\n",
       "  </thead>\n",
       "  <tbody>\n",
       "    <tr>\n",
       "      <th>const</th>\n",
       "      <td>0.239840</td>\n",
       "      <td>0.438704</td>\n",
       "    </tr>\n",
       "    <tr>\n",
       "      <th>0</th>\n",
       "      <td>-0.035948</td>\n",
       "      <td>0.016673</td>\n",
       "    </tr>\n",
       "    <tr>\n",
       "      <th>1</th>\n",
       "      <td>-0.050235</td>\n",
       "      <td>0.013406</td>\n",
       "    </tr>\n",
       "    <tr>\n",
       "      <th>2</th>\n",
       "      <td>-0.058623</td>\n",
       "      <td>0.028130</td>\n",
       "    </tr>\n",
       "    <tr>\n",
       "      <th>3</th>\n",
       "      <td>-0.023205</td>\n",
       "      <td>0.075492</td>\n",
       "    </tr>\n",
       "    <tr>\n",
       "      <th>4</th>\n",
       "      <td>-0.105998</td>\n",
       "      <td>0.012933</td>\n",
       "    </tr>\n",
       "    <tr>\n",
       "      <th>5</th>\n",
       "      <td>-0.025695</td>\n",
       "      <td>0.108910</td>\n",
       "    </tr>\n",
       "    <tr>\n",
       "      <th>6</th>\n",
       "      <td>-0.057360</td>\n",
       "      <td>0.071659</td>\n",
       "    </tr>\n",
       "    <tr>\n",
       "      <th>7</th>\n",
       "      <td>0.002134</td>\n",
       "      <td>0.169865</td>\n",
       "    </tr>\n",
       "    <tr>\n",
       "      <th>8</th>\n",
       "      <td>-0.188641</td>\n",
       "      <td>-0.051425</td>\n",
       "    </tr>\n",
       "    <tr>\n",
       "      <th>9</th>\n",
       "      <td>0.044685</td>\n",
       "      <td>0.214421</td>\n",
       "    </tr>\n",
       "    <tr>\n",
       "      <th>10</th>\n",
       "      <td>0.007504</td>\n",
       "      <td>0.166203</td>\n",
       "    </tr>\n",
       "    <tr>\n",
       "      <th>11</th>\n",
       "      <td>0.013094</td>\n",
       "      <td>0.185014</td>\n",
       "    </tr>\n",
       "    <tr>\n",
       "      <th>12</th>\n",
       "      <td>-0.115134</td>\n",
       "      <td>0.071128</td>\n",
       "    </tr>\n",
       "    <tr>\n",
       "      <th>13</th>\n",
       "      <td>-0.097161</td>\n",
       "      <td>0.075344</td>\n",
       "    </tr>\n",
       "    <tr>\n",
       "      <th>14</th>\n",
       "      <td>-0.079006</td>\n",
       "      <td>0.140402</td>\n",
       "    </tr>\n",
       "    <tr>\n",
       "      <th>15</th>\n",
       "      <td>-0.111970</td>\n",
       "      <td>0.087643</td>\n",
       "    </tr>\n",
       "    <tr>\n",
       "      <th>16</th>\n",
       "      <td>-0.101167</td>\n",
       "      <td>0.099625</td>\n",
       "    </tr>\n",
       "    <tr>\n",
       "      <th>17</th>\n",
       "      <td>-0.082999</td>\n",
       "      <td>0.119779</td>\n",
       "    </tr>\n",
       "    <tr>\n",
       "      <th>18</th>\n",
       "      <td>-0.166536</td>\n",
       "      <td>0.048460</td>\n",
       "    </tr>\n",
       "    <tr>\n",
       "      <th>19</th>\n",
       "      <td>-0.205105</td>\n",
       "      <td>0.019431</td>\n",
       "    </tr>\n",
       "  </tbody>\n",
       "</table>\n",
       "</div>"
      ],
      "text/plain": [
       "              0         1\n",
       "const  0.239840  0.438704\n",
       "0     -0.035948  0.016673\n",
       "1     -0.050235  0.013406\n",
       "2     -0.058623  0.028130\n",
       "3     -0.023205  0.075492\n",
       "4     -0.105998  0.012933\n",
       "5     -0.025695  0.108910\n",
       "6     -0.057360  0.071659\n",
       "7      0.002134  0.169865\n",
       "8     -0.188641 -0.051425\n",
       "9      0.044685  0.214421\n",
       "10     0.007504  0.166203\n",
       "11     0.013094  0.185014\n",
       "12    -0.115134  0.071128\n",
       "13    -0.097161  0.075344\n",
       "14    -0.079006  0.140402\n",
       "15    -0.111970  0.087643\n",
       "16    -0.101167  0.099625\n",
       "17    -0.082999  0.119779\n",
       "18    -0.166536  0.048460\n",
       "19    -0.205105  0.019431"
      ]
     },
     "metadata": {},
     "output_type": "display_data"
    }
   ],
   "source": [
    "significance_level = 0.01\n",
    "\n",
    "# Print Confidence Interval with Title\n",
    "print(str(int(100 - significance_level*100)) + '% Confidence Interval (Significance Level ' \n",
    "      + str(int(significance_level*100)) + '%)')\n",
    "display(logReg_m.conf_int(alpha=significance_level))"
   ]
  },
  {
   "cell_type": "markdown",
   "metadata": {},
   "source": [
    "### 3.3.4. Prediction (MLR1)\n",
    "Multiple Logistic Regression 1 (pre-selected features with RandomForest in Chapter 2) \n",
    "\n",
    "### I: In-sample Prediction of probability for returns going UP in the next period (predict y_train)\n",
    "\n",
    "#### For whole Training Set\n"
   ]
  },
  {
   "cell_type": "code",
   "execution_count": 20,
   "metadata": {},
   "outputs": [
    {
     "name": "stdout",
     "output_type": "stream",
     "text": [
      "Features Selected with Principal Component Analysis (PCA)\n",
      "Version 1.1; based on reduced Dataset with only Ratios as predictive Features. \n",
      "\n",
      "Predicted probabilities of price going UP for whole Feature Set (Train) are: \n"
     ]
    },
    {
     "data": {
      "text/plain": [
       "0    0.605096\n",
       "1    0.586651\n",
       "2    0.572351\n",
       "dtype: float64"
      ]
     },
     "metadata": {},
     "output_type": "display_data"
    },
    {
     "name": "stdout",
     "output_type": "stream",
     "text": [
      "\n",
      "Response Vector (Train): \n"
     ]
    },
    {
     "data": {
      "text/html": [
       "<div>\n",
       "<style scoped>\n",
       "    .dataframe tbody tr th:only-of-type {\n",
       "        vertical-align: middle;\n",
       "    }\n",
       "\n",
       "    .dataframe tbody tr th {\n",
       "        vertical-align: top;\n",
       "    }\n",
       "\n",
       "    .dataframe thead th {\n",
       "        text-align: right;\n",
       "    }\n",
       "</style>\n",
       "<table border=\"1\" class=\"dataframe\">\n",
       "  <thead>\n",
       "    <tr style=\"text-align: right;\">\n",
       "      <th></th>\n",
       "      <th>0</th>\n",
       "    </tr>\n",
       "  </thead>\n",
       "  <tbody>\n",
       "    <tr>\n",
       "      <th>0</th>\n",
       "      <td>0</td>\n",
       "    </tr>\n",
       "    <tr>\n",
       "      <th>1</th>\n",
       "      <td>1</td>\n",
       "    </tr>\n",
       "    <tr>\n",
       "      <th>2</th>\n",
       "      <td>0</td>\n",
       "    </tr>\n",
       "  </tbody>\n",
       "</table>\n",
       "</div>"
      ],
      "text/plain": [
       "   0\n",
       "0  0\n",
       "1  1\n",
       "2  0"
      ]
     },
     "metadata": {},
     "output_type": "display_data"
    }
   ],
   "source": [
    "# print status\n",
    "print('Features Selected with ' + str(sel_feat))\n",
    "print('Version ' + str(VERSION) + '; ' + str(sel_version),'\\n')\n",
    "\n",
    "# Get the probability of 'UP' (=1) for the whole training set\n",
    "pred_train_all = logReg_m.predict(sm.add_constant(X_train_s))\n",
    "\n",
    "# Print Prediction and Response Vector, with Title\n",
    "print('Predicted probabilities of price going UP for whole Feature Set (Train) are: ')\n",
    "display(pred_train_all[0:3])\n",
    "print(\"\")\n",
    "print('Response Vector (Train): ')\n",
    "display(y_train_s[0:3])"
   ]
  },
  {
   "cell_type": "markdown",
   "metadata": {},
   "source": [
    "### II: New-sample Prediction of probability for returns going UP in the next period (predict y_test)\n",
    "\n",
    "#### For whole Test Set\n"
   ]
  },
  {
   "cell_type": "code",
   "execution_count": 21,
   "metadata": {},
   "outputs": [
    {
     "name": "stdout",
     "output_type": "stream",
     "text": [
      "Features Selected with Principal Component Analysis (PCA)\n",
      "Version 1.1; based on reduced Dataset with only Ratios as predictive Features. \n",
      "\n",
      "Predicted probability of price going UP for whole Feature Set (Test) is: \n"
     ]
    },
    {
     "data": {
      "text/plain": [
       "0    0.616426\n",
       "1    0.646835\n",
       "2    0.535818\n",
       "dtype: float64"
      ]
     },
     "metadata": {},
     "output_type": "display_data"
    },
    {
     "name": "stdout",
     "output_type": "stream",
     "text": [
      "\n",
      "Response Vector (Test): \n"
     ]
    },
    {
     "data": {
      "text/html": [
       "<div>\n",
       "<style scoped>\n",
       "    .dataframe tbody tr th:only-of-type {\n",
       "        vertical-align: middle;\n",
       "    }\n",
       "\n",
       "    .dataframe tbody tr th {\n",
       "        vertical-align: top;\n",
       "    }\n",
       "\n",
       "    .dataframe thead th {\n",
       "        text-align: right;\n",
       "    }\n",
       "</style>\n",
       "<table border=\"1\" class=\"dataframe\">\n",
       "  <thead>\n",
       "    <tr style=\"text-align: right;\">\n",
       "      <th></th>\n",
       "      <th>0</th>\n",
       "    </tr>\n",
       "  </thead>\n",
       "  <tbody>\n",
       "    <tr>\n",
       "      <th>0</th>\n",
       "      <td>1</td>\n",
       "    </tr>\n",
       "    <tr>\n",
       "      <th>1</th>\n",
       "      <td>0</td>\n",
       "    </tr>\n",
       "    <tr>\n",
       "      <th>2</th>\n",
       "      <td>1</td>\n",
       "    </tr>\n",
       "  </tbody>\n",
       "</table>\n",
       "</div>"
      ],
      "text/plain": [
       "   0\n",
       "0  1\n",
       "1  0\n",
       "2  1"
      ]
     },
     "metadata": {},
     "output_type": "display_data"
    }
   ],
   "source": [
    "# print status\n",
    "print('Features Selected with ' + str(sel_feat))\n",
    "print('Version ' + str(VERSION) + '; ' + str(sel_version),'\\n')\n",
    "\n",
    "# Get the probability of 'UP' (=1) for the whole test set\n",
    "pred_test_all = logReg_m.predict(sm.add_constant(X_test_s))\n",
    "\n",
    "# Print Prediction and Response Vector, with Title\n",
    "print('Predicted probability of price going UP for whole Feature Set (Test) is: ')\n",
    "display(pred_test_all.head(3))\n",
    "print(\"\")\n",
    "print('Response Vector (Test): ')\n",
    "display(y_test_s.head(3))"
   ]
  },
  {
   "cell_type": "markdown",
   "metadata": {},
   "source": [
    "###   \n",
    "###   \n",
    "## 3.4. Multiple Logistic Regression with only significant features (MLR2)\n",
    "\n",
    "Apply an other multiple logistic regression on a transformed dataset with only all significant values from LogReg_m (above)"
   ]
  },
  {
   "cell_type": "markdown",
   "metadata": {},
   "source": [
    "### 3.4.1. Extract significant features (MLR2)"
   ]
  },
  {
   "cell_type": "code",
   "execution_count": 22,
   "metadata": {},
   "outputs": [
    {
     "name": "stdout",
     "output_type": "stream",
     "text": [
      "\"Condition\" array with index starting with intercept:\n"
     ]
    },
    {
     "data": {
      "text/plain": [
       "(array([ 0,  5,  8,  9, 10, 11, 12, 20]),)"
      ]
     },
     "metadata": {},
     "output_type": "display_data"
    },
    {
     "name": "stdout",
     "output_type": "stream",
     "text": [
      "\"Condition\" array with index starting with the first feature, leaving intercept out of the counting:\n"
     ]
    },
    {
     "data": {
      "text/plain": [
       "array([[-1,  4,  7,  8,  9, 10, 11, 19]])"
      ]
     },
     "metadata": {},
     "output_type": "display_data"
    },
    {
     "name": "stdout",
     "output_type": "stream",
     "text": [
      "Features that were significant in the previous MLR in chapter 3.3.:\n",
      "['19', '4', '7', '8', '9', '10', '11', '19']\n"
     ]
    }
   ],
   "source": [
    "# extracting significant features with an alpha-boundery of 0.05\n",
    "condition = np.where(logReg_m.pvalues < 0.05)\n",
    "print('\"Condition\" array with index starting with intercept:')\n",
    "display(condition)\n",
    "\n",
    "# Subtract '1' fom every entry in the numpy array \"condition\", because in logReg index 0 starts with the intercept\n",
    "# but in the X_train_s set the index 0 starts with the first feature already\n",
    "# otherwise there would be an error \"index out of range\" when we would try to apply the condition to the X_train_s set\n",
    "condition_sub = np.subtract(condition, 1)\n",
    "print('\"Condition\" array with index starting with the first feature, leaving intercept out of the counting:')\n",
    "display(condition_sub)\n",
    "\n",
    "# extract significant features\n",
    "sign_features = X_train_s.columns.values[condition_sub].tolist()[0]\n",
    "print('Features that were significant in the previous MLR in chapter 3.3.:')\n",
    "print(sign_features)"
   ]
  },
  {
   "cell_type": "markdown",
   "metadata": {},
   "source": [
    "### 3.4.2. Preparation and fitting (on Training Set) (MLR2)"
   ]
  },
  {
   "cell_type": "code",
   "execution_count": 23,
   "metadata": {},
   "outputs": [
    {
     "name": "stdout",
     "output_type": "stream",
     "text": [
      "Optimization terminated successfully.\n",
      "         Current function value: 0.671742\n",
      "         Iterations 7\n"
     ]
    }
   ],
   "source": [
    "## Multiple Log. Regression (with significant features from logreg above)\n",
    "# Assign features to X and response vector y\n",
    "\n",
    "if SELECTION == 'RF':\n",
    "    logReg_mm = sm.Logit(endog = y_train_s, exog=sm.add_constant(X_train_s[sign_features])).fit()\n",
    "elif SELECTION == 'PCA':\n",
    "    logReg_mm = sm.Logit(endog = y_train_s, exog=sm.add_constant(X_train_s[sign_features])).fit()\n",
    "else: raise ValueError('SELECTION must be either RF or PCA')"
   ]
  },
  {
   "cell_type": "markdown",
   "metadata": {},
   "source": [
    "### 3.4.3. Summary (MLR2)"
   ]
  },
  {
   "cell_type": "code",
   "execution_count": 24,
   "metadata": {},
   "outputs": [
    {
     "name": "stdout",
     "output_type": "stream",
     "text": [
      "Multiple Logistic Regression with selected significant features\n",
      "\n",
      "                           Logit Regression Results                           \n",
      "==============================================================================\n",
      "Dep. Variable:                      0   No. Observations:                 2836\n",
      "Model:                          Logit   Df Residuals:                     2828\n",
      "Method:                           MLE   Df Model:                            7\n",
      "Date:                Tue, 17 Apr 2018   Pseudo R-squ.:                 0.01222\n",
      "Time:                        12:03:55   Log-Likelihood:                -1905.1\n",
      "converged:                       True   LL-Null:                       -1928.6\n",
      "                                        LLR p-value:                 5.292e-08\n",
      "==============================================================================\n",
      "==============================================================================\n",
      "                 coef    std err          z      P>|z|      [0.025      0.975]\n",
      "------------------------------------------------------------------------------\n",
      "const          0.3352      0.038      8.717      0.000       0.260       0.411\n",
      "19            -0.0391        nan        nan        nan         nan         nan\n",
      "4             -0.0419      0.022     -1.924      0.054      -0.085       0.001\n",
      "7              0.0676      0.028      2.376      0.018       0.012       0.123\n",
      "8             -0.1123      0.026     -4.321      0.000      -0.163      -0.061\n",
      "9              0.1138      0.030      3.781      0.000       0.055       0.173\n",
      "10             0.0771      0.030      2.607      0.009       0.019       0.135\n",
      "11             0.0897      0.033      2.745      0.006       0.026       0.154\n",
      "19            -0.0391        nan        nan        nan         nan         nan\n",
      "==============================================================================\n"
     ]
    }
   ],
   "source": [
    "if SELECTION == 'RF':\n",
    "    print(\"Multiple Logistic Regression with selected significant features\"+'\\n')\n",
    "    print(logReg_mm.summary().tables[0])\n",
    "    print(logReg_mm.summary().tables[1])\n",
    "elif SELECTION == 'PCA':\n",
    "    print(\"Multiple Logistic Regression with selected significant features\"+'\\n')\n",
    "    print(logReg_mm.summary().tables[0])\n",
    "    print(logReg_mm.summary().tables[1])\n",
    "else: raise ValueError('SELECTION must be either RF or PCA')"
   ]
  },
  {
   "cell_type": "markdown",
   "metadata": {},
   "source": [
    "### 3.4.4. Assessing Output (MLR2)\n",
    "\n",
    "### Hypothesis testing / Confidence Interval"
   ]
  },
  {
   "cell_type": "code",
   "execution_count": 25,
   "metadata": {},
   "outputs": [
    {
     "name": "stdout",
     "output_type": "stream",
     "text": [
      "99% Confidence Interval (Significance Level 1%)\n"
     ]
    },
    {
     "data": {
      "text/html": [
       "<div>\n",
       "<style scoped>\n",
       "    .dataframe tbody tr th:only-of-type {\n",
       "        vertical-align: middle;\n",
       "    }\n",
       "\n",
       "    .dataframe tbody tr th {\n",
       "        vertical-align: top;\n",
       "    }\n",
       "\n",
       "    .dataframe thead th {\n",
       "        text-align: right;\n",
       "    }\n",
       "</style>\n",
       "<table border=\"1\" class=\"dataframe\">\n",
       "  <thead>\n",
       "    <tr style=\"text-align: right;\">\n",
       "      <th></th>\n",
       "      <th>0</th>\n",
       "      <th>1</th>\n",
       "    </tr>\n",
       "  </thead>\n",
       "  <tbody>\n",
       "    <tr>\n",
       "      <th>const</th>\n",
       "      <td>0.236128</td>\n",
       "      <td>0.434217</td>\n",
       "    </tr>\n",
       "    <tr>\n",
       "      <th>19</th>\n",
       "      <td>NaN</td>\n",
       "      <td>NaN</td>\n",
       "    </tr>\n",
       "    <tr>\n",
       "      <th>4</th>\n",
       "      <td>-0.097944</td>\n",
       "      <td>0.014199</td>\n",
       "    </tr>\n",
       "    <tr>\n",
       "      <th>7</th>\n",
       "      <td>-0.005694</td>\n",
       "      <td>0.140894</td>\n",
       "    </tr>\n",
       "    <tr>\n",
       "      <th>8</th>\n",
       "      <td>-0.179208</td>\n",
       "      <td>-0.045354</td>\n",
       "    </tr>\n",
       "    <tr>\n",
       "      <th>9</th>\n",
       "      <td>0.036282</td>\n",
       "      <td>0.191385</td>\n",
       "    </tr>\n",
       "    <tr>\n",
       "      <th>10</th>\n",
       "      <td>0.000933</td>\n",
       "      <td>0.153198</td>\n",
       "    </tr>\n",
       "    <tr>\n",
       "      <th>11</th>\n",
       "      <td>0.005523</td>\n",
       "      <td>0.173810</td>\n",
       "    </tr>\n",
       "    <tr>\n",
       "      <th>19</th>\n",
       "      <td>NaN</td>\n",
       "      <td>NaN</td>\n",
       "    </tr>\n",
       "  </tbody>\n",
       "</table>\n",
       "</div>"
      ],
      "text/plain": [
       "              0         1\n",
       "const  0.236128  0.434217\n",
       "19          NaN       NaN\n",
       "4     -0.097944  0.014199\n",
       "7     -0.005694  0.140894\n",
       "8     -0.179208 -0.045354\n",
       "9      0.036282  0.191385\n",
       "10     0.000933  0.153198\n",
       "11     0.005523  0.173810\n",
       "19          NaN       NaN"
      ]
     },
     "metadata": {},
     "output_type": "display_data"
    }
   ],
   "source": [
    "significance_level = 0.01\n",
    "\n",
    "# Print Confidence Interval with Title\n",
    "print(str(int(100 - significance_level*100)) + '% Confidence Interval (Significance Level ' \n",
    "      + str(int(significance_level*100)) + '%)')\n",
    "display(logReg_mm.conf_int(alpha=significance_level))"
   ]
  },
  {
   "cell_type": "markdown",
   "metadata": {},
   "source": [
    "### 3.4.5. Prediction (MLR2)\n",
    "Multiple Logistic Regression 1 (pre-selected features with RandomForest in Chapter 2) \n",
    "\n",
    "### I: In-sample Prediction of probability for returns going UP in the next period (predict y_train)\n",
    "\n",
    "#### For whole Training Set\n"
   ]
  },
  {
   "cell_type": "code",
   "execution_count": 26,
   "metadata": {},
   "outputs": [
    {
     "name": "stdout",
     "output_type": "stream",
     "text": [
      "Features Selected with Principal Component Analysis (PCA)\n",
      "Version 1.1; based on reduced Dataset with only Ratios as predictive Features. \n",
      "\n",
      "Predicted probabilities of price going UP for whole Feature Set (Train) are: \n"
     ]
    },
    {
     "data": {
      "text/plain": [
       "0    0.562290\n",
       "1    0.575711\n",
       "2    0.569419\n",
       "dtype: float64"
      ]
     },
     "metadata": {},
     "output_type": "display_data"
    },
    {
     "name": "stdout",
     "output_type": "stream",
     "text": [
      "\n",
      "Response Vector (Train): \n"
     ]
    },
    {
     "data": {
      "text/html": [
       "<div>\n",
       "<style scoped>\n",
       "    .dataframe tbody tr th:only-of-type {\n",
       "        vertical-align: middle;\n",
       "    }\n",
       "\n",
       "    .dataframe tbody tr th {\n",
       "        vertical-align: top;\n",
       "    }\n",
       "\n",
       "    .dataframe thead th {\n",
       "        text-align: right;\n",
       "    }\n",
       "</style>\n",
       "<table border=\"1\" class=\"dataframe\">\n",
       "  <thead>\n",
       "    <tr style=\"text-align: right;\">\n",
       "      <th></th>\n",
       "      <th>0</th>\n",
       "    </tr>\n",
       "  </thead>\n",
       "  <tbody>\n",
       "    <tr>\n",
       "      <th>0</th>\n",
       "      <td>0</td>\n",
       "    </tr>\n",
       "    <tr>\n",
       "      <th>1</th>\n",
       "      <td>1</td>\n",
       "    </tr>\n",
       "    <tr>\n",
       "      <th>2</th>\n",
       "      <td>0</td>\n",
       "    </tr>\n",
       "  </tbody>\n",
       "</table>\n",
       "</div>"
      ],
      "text/plain": [
       "   0\n",
       "0  0\n",
       "1  1\n",
       "2  0"
      ]
     },
     "metadata": {},
     "output_type": "display_data"
    }
   ],
   "source": [
    "# print status\n",
    "print('Features Selected with ' + str(sel_feat))\n",
    "print('Version ' + str(VERSION) + '; ' + str(sel_version),'\\n')\n",
    "\n",
    "# Get the probability of 'UP' (=1) for the whole training set\n",
    "pred_train_all = logReg_mm.predict(sm.add_constant(X_train_s[sign_features]))\n",
    "\n",
    "# Print Prediction and Response Vector, with Title\n",
    "print('Predicted probabilities of price going UP for whole Feature Set (Train) are: ')\n",
    "display(pred_train_all[0:3])\n",
    "print(\"\")\n",
    "print('Response Vector (Train): ')\n",
    "display(y_train_s[0:3])"
   ]
  },
  {
   "cell_type": "markdown",
   "metadata": {},
   "source": [
    "### II: New-sample Prediction of probability for returns going UP in the next period (predict y_test)\n",
    "\n",
    "#### For whole Test Set\n"
   ]
  },
  {
   "cell_type": "code",
   "execution_count": 27,
   "metadata": {},
   "outputs": [
    {
     "name": "stdout",
     "output_type": "stream",
     "text": [
      "Features Selected with Principal Component Analysis (PCA)\n",
      "Version 1.1; based on reduced Dataset with only Ratios as predictive Features. \n",
      "\n",
      "Predicted probability of price going UP for whole Feature Set (Test) is: \n"
     ]
    },
    {
     "data": {
      "text/plain": [
       "0    0.562290\n",
       "1    0.575711\n",
       "2    0.569419\n",
       "dtype: float64"
      ]
     },
     "metadata": {},
     "output_type": "display_data"
    },
    {
     "name": "stdout",
     "output_type": "stream",
     "text": [
      "\n",
      "Response Vector (Test): \n"
     ]
    },
    {
     "data": {
      "text/html": [
       "<div>\n",
       "<style scoped>\n",
       "    .dataframe tbody tr th:only-of-type {\n",
       "        vertical-align: middle;\n",
       "    }\n",
       "\n",
       "    .dataframe tbody tr th {\n",
       "        vertical-align: top;\n",
       "    }\n",
       "\n",
       "    .dataframe thead th {\n",
       "        text-align: right;\n",
       "    }\n",
       "</style>\n",
       "<table border=\"1\" class=\"dataframe\">\n",
       "  <thead>\n",
       "    <tr style=\"text-align: right;\">\n",
       "      <th></th>\n",
       "      <th>0</th>\n",
       "    </tr>\n",
       "  </thead>\n",
       "  <tbody>\n",
       "    <tr>\n",
       "      <th>0</th>\n",
       "      <td>1</td>\n",
       "    </tr>\n",
       "    <tr>\n",
       "      <th>1</th>\n",
       "      <td>0</td>\n",
       "    </tr>\n",
       "    <tr>\n",
       "      <th>2</th>\n",
       "      <td>1</td>\n",
       "    </tr>\n",
       "  </tbody>\n",
       "</table>\n",
       "</div>"
      ],
      "text/plain": [
       "   0\n",
       "0  1\n",
       "1  0\n",
       "2  1"
      ]
     },
     "metadata": {},
     "output_type": "display_data"
    }
   ],
   "source": [
    "# print status\n",
    "print('Features Selected with ' + str(sel_feat))\n",
    "print('Version ' + str(VERSION) + '; ' + str(sel_version),'\\n')\n",
    "\n",
    "# Get the probability of 'UP' (=1) for the whole test set\n",
    "pred_test_all = logReg_mm.predict(sm.add_constant(X_train_s[sign_features]))\n",
    "\n",
    "# Print Prediction and Response Vector, with Title\n",
    "print('Predicted probability of price going UP for whole Feature Set (Test) is: ')\n",
    "display(pred_test_all.head(3))\n",
    "print(\"\")\n",
    "print('Response Vector (Test): ')\n",
    "display(y_test_s.head(3))"
   ]
  }
 ],
 "metadata": {
  "kernelspec": {
   "display_name": "Python 3",
   "language": "python",
   "name": "python3"
  },
  "language_info": {
   "codemirror_mode": {
    "name": "ipython",
    "version": 3
   },
   "file_extension": ".py",
   "mimetype": "text/x-python",
   "name": "python",
   "nbconvert_exporter": "python",
   "pygments_lexer": "ipython3",
   "version": "3.6.4"
  }
 },
 "nbformat": 4,
 "nbformat_minor": 2
}
