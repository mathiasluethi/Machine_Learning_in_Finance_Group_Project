{
 "cells": [
  {
   "cell_type": "markdown",
   "metadata": {},
   "source": [
    "# Introduction to Machine Learning, UZH 2018, Group Project\n",
    "### Group 2: Barbara Capl, Mathias Lüthi, Pamela Matias, Stefanie Rentsch\n",
    "##       \n",
    "# 2. Feature Selection \n",
    "# A. with RandomForestClassifier (RF)\n",
    "\n",
    "###        \n",
    "In this section we use the feature matrices and the response vector that we prepared in chapter 1.  \n",
    "\n",
    "#### We use two different versions (created in chapter 1):\n",
    "Version 1: Feature Matrix consists only of the Ratios                                                                        \n",
    "Version 2: Feature Matrix consists of Ratios + dummy variables for seasonality + other market data\n",
    "####  We will do Feature Selection and generate feature matrices with only selected n features for each Version above\n"
   ]
  },
  {
   "cell_type": "code",
   "execution_count": 1,
   "metadata": {
    "collapsed": true
   },
   "outputs": [],
   "source": [
    "# hide unnecessary warnings (\"depreciation\" of packages etc.)\n",
    "import warnings\n",
    "warnings.filterwarnings('ignore')\n",
    "\n",
    "# import packages\n",
    "import numpy as np\n",
    "import pandas as pd\n",
    "import matplotlib.pyplot as plt\n",
    "%matplotlib inline\n",
    "from sklearn import preprocessing\n",
    "from sklearn.model_selection import train_test_split\n",
    "from sklearn.preprocessing import Imputer\n",
    "from sklearn.ensemble import RandomForestClassifier"
   ]
  },
  {
   "cell_type": "markdown",
   "metadata": {},
   "source": [
    "## 2.0. SETTINGS: choose which Feature Matrix (Version 1 or 2) you want to use"
   ]
  },
  {
   "cell_type": "markdown",
   "metadata": {},
   "source": [
    "#### Choose the Dataset Version you want\n",
    "VERSION = 1; Feature Matrix with only ratios                                  \n",
    "VERSION = 2;  Feature Matrix with ratios + saisonality + other market data\n"
   ]
  },
  {
   "cell_type": "code",
   "execution_count": 2,
   "metadata": {},
   "outputs": [
    {
     "name": "stdout",
     "output_type": "stream",
     "text": [
      "You chose VERSION 1 as working dataset. The following Feature Selection will be therefore based on Dataset with only the Ratios Dataset as predicive Features.\n"
     ]
    }
   ],
   "source": [
    "############### CHOOSE\n",
    "VERSION = 1\n",
    "\"\"\"\n",
    "INSERT NUMBER 1 or 2    \n",
    "\"\"\"\n",
    "\n",
    "\n",
    "\n",
    "# Defining sel_state variable for usage later and printing text according to your choise   \n",
    "if VERSION == 1:\n",
    "    sel_version = 'based on Dataset with only the Ratios Dataset as predicive Features.'\n",
    "    print('You chose VERSION 1 as working dataset. The following Feature Selection will be therefore ' + sel_version)\n",
    "elif VERSION == 2:\n",
    "    sel_version = 'based on Dataset with Ratios + Seasonality + other Market Data as predictive Features.'\n",
    "    print('You chose VERSION 2 as working dataset. The following Feature Selection will be therefore ' + sel_version)\n",
    "else: raise ValueError('VERSION must be either 1 or 2')"
   ]
  },
  {
   "cell_type": "markdown",
   "metadata": {},
   "source": [
    "## 2.1. Preparation"
   ]
  },
  {
   "cell_type": "markdown",
   "metadata": {},
   "source": [
    "### 2.1.1 Import the Response Vector and the Feature Matrices"
   ]
  },
  {
   "cell_type": "code",
   "execution_count": 3,
   "metadata": {
    "collapsed": true
   },
   "outputs": [],
   "source": [
    "# Load in the response vector pre-generated in Chater 1 (Preparation of Data)\n",
    "y = pd.read_csv('Data/generated_datasets/response_1.csv', sep=',', header=0)"
   ]
  },
  {
   "cell_type": "code",
   "execution_count": 4,
   "metadata": {
    "collapsed": true
   },
   "outputs": [],
   "source": [
    "# Load in te feature matrix according to the version you chose in section 2.0. above\n",
    "if VERSION == 1:\n",
    "    X = pd.read_csv('Data/generated_datasets/features_ratios_1.csv', sep=',', header=0)\n",
    "elif VERSION == 2:\n",
    "    X = pd.read_csv('Data/generated_datasets/features_additional_1.csv', sep=',', header=0)\n",
    "else: raise ValueError('VERSION value must be either 1 or 2')"
   ]
  },
  {
   "cell_type": "markdown",
   "metadata": {},
   "source": [
    "### 2.1.2. Train/ Test Split and fill missing values with median\n",
    "\n",
    "Note: Standardization is not done here because it is not necessary for Random Forest.                                        "
   ]
  },
  {
   "cell_type": "markdown",
   "metadata": {},
   "source": [
    "### Train/ Test Split\n",
    "\n",
    "Apply on chosen unsplitted, unimputed and unstandardized feature matrix and response vector."
   ]
  },
  {
   "cell_type": "code",
   "execution_count": 5,
   "metadata": {},
   "outputs": [
    {
     "name": "stdout",
     "output_type": "stream",
     "text": [
      "Chosen features:\n"
     ]
    },
    {
     "data": {
      "text/plain": [
       "array(['CAPEI', 'bm', 'evm', 'pe_op_basic', 'pe_op_dil', 'pe_exi',\n",
       "       'pe_inc', 'ps', 'pcf', 'dpr', 'npm', 'opmbd', 'opmad', 'gpm',\n",
       "       'ptpm', 'cfm', 'roa', 'roe', 'roce', 'efftax', 'aftret_eq',\n",
       "       'aftret_invcapx', 'aftret_equity', 'pretret_noa', 'pretret_earnat',\n",
       "       'GProf', 'equity_invcap', 'debt_invcap', 'totdebt_invcap',\n",
       "       'capital_ratio', 'int_debt', 'int_totdebt', 'cash_lt', 'invt_act',\n",
       "       'rect_act', 'debt_at', 'debt_ebitda', 'short_debt', 'curr_debt',\n",
       "       'lt_debt', 'profit_lct', 'ocf_lct', 'cash_debt', 'fcf_ocf',\n",
       "       'lt_ppent', 'dltt_be', 'debt_assets', 'debt_capital', 'de_ratio',\n",
       "       'intcov', 'intcov_ratio', 'cash_ratio', 'quick_ratio', 'curr_ratio',\n",
       "       'cash_conversion', 'inv_turn', 'at_turn', 'rect_turn', 'pay_turn',\n",
       "       'sale_invcap', 'sale_equity', 'sale_nwc', 'rd_sale', 'adv_sale',\n",
       "       'staff_sale', 'accrual', 'ptb', 'PEG_trailing', 'divyield',\n",
       "       'PEG_1yrforward', 'PEG_ltgforward'],\n",
       "      dtype='<U15')"
      ]
     },
     "metadata": {},
     "output_type": "display_data"
    }
   ],
   "source": [
    "# Train/test split, into 20% test size and 80% train size because it is a relatively small dataset\n",
    "X_train, X_test, y_train, y_test = train_test_split(X, y, test_size=0.2, random_state=0)\n",
    "\n",
    "# Extract all the feature labels for the respective chosen version\n",
    "feature_labels = list(X)\n",
    "\n",
    "print('Chosen features:')\n",
    "display(np.array(feature_labels))"
   ]
  },
  {
   "cell_type": "markdown",
   "metadata": {},
   "source": [
    "### Filling missing values (NaN)\n",
    "\n",
    "We use Imputer to fill missing entries with median only AFTER the split, to circumvent the bias that both splits would include information of each other."
   ]
  },
  {
   "cell_type": "code",
   "execution_count": 6,
   "metadata": {
    "collapsed": true
   },
   "outputs": [],
   "source": [
    "# Use a median fill for train set\n",
    "imp = Imputer(missing_values=np.nan, strategy = 'median' , axis=0)\n",
    "imputed_dataset = pd.DataFrame(imp.fit_transform(X_train))\n",
    "imputed_dataset.columns = X_train.columns\n",
    "imputed_dataset.index = X_train.index\n",
    "X_train = imputed_dataset\n",
    "\n",
    "# Use a median fill for the test set\n",
    "imputed_dataset = pd.DataFrame(imp.fit_transform(X_test))\n",
    "imputed_dataset.columns = X_test.columns\n",
    "imputed_dataset.index = X_test.index\n",
    "X_test = imputed_dataset"
   ]
  },
  {
   "cell_type": "markdown",
   "metadata": {},
   "source": [
    "### 2.2.3. Print out Shape and Form of Feature Matrix and Response Vector"
   ]
  },
  {
   "cell_type": "markdown",
   "metadata": {},
   "source": [
    "### Train set"
   ]
  },
  {
   "cell_type": "code",
   "execution_count": 7,
   "metadata": {},
   "outputs": [
    {
     "name": "stdout",
     "output_type": "stream",
     "text": [
      "Ratio of \"UP\" (Train) = 58.07% \n",
      "\n",
      "Shape of Feature Matrix X_train = (2836, 71) \n",
      "\n",
      "Feature Matrix X_train: (below)\n"
     ]
    },
    {
     "data": {
      "text/html": [
       "<div>\n",
       "<style>\n",
       "    .dataframe thead tr:only-child th {\n",
       "        text-align: right;\n",
       "    }\n",
       "\n",
       "    .dataframe thead th {\n",
       "        text-align: left;\n",
       "    }\n",
       "\n",
       "    .dataframe tbody tr th {\n",
       "        vertical-align: top;\n",
       "    }\n",
       "</style>\n",
       "<table border=\"1\" class=\"dataframe\">\n",
       "  <thead>\n",
       "    <tr style=\"text-align: right;\">\n",
       "      <th></th>\n",
       "      <th>CAPEI</th>\n",
       "      <th>bm</th>\n",
       "      <th>evm</th>\n",
       "      <th>pe_op_basic</th>\n",
       "      <th>pe_op_dil</th>\n",
       "      <th>pe_exi</th>\n",
       "      <th>pe_inc</th>\n",
       "      <th>ps</th>\n",
       "      <th>pcf</th>\n",
       "      <th>dpr</th>\n",
       "      <th>...</th>\n",
       "      <th>sale_nwc</th>\n",
       "      <th>rd_sale</th>\n",
       "      <th>adv_sale</th>\n",
       "      <th>staff_sale</th>\n",
       "      <th>accrual</th>\n",
       "      <th>ptb</th>\n",
       "      <th>PEG_trailing</th>\n",
       "      <th>divyield</th>\n",
       "      <th>PEG_1yrforward</th>\n",
       "      <th>PEG_ltgforward</th>\n",
       "    </tr>\n",
       "  </thead>\n",
       "  <tbody>\n",
       "    <tr>\n",
       "      <th>1530</th>\n",
       "      <td>20.773</td>\n",
       "      <td>0.547</td>\n",
       "      <td>10.644</td>\n",
       "      <td>15.468</td>\n",
       "      <td>15.633</td>\n",
       "      <td>18.484</td>\n",
       "      <td>18.484</td>\n",
       "      <td>3.703</td>\n",
       "      <td>9.957</td>\n",
       "      <td>0.623</td>\n",
       "      <td>...</td>\n",
       "      <td>1.4240</td>\n",
       "      <td>0.136</td>\n",
       "      <td>0.058</td>\n",
       "      <td>0.000</td>\n",
       "      <td>0.048</td>\n",
       "      <td>1.811</td>\n",
       "      <td>1.181</td>\n",
       "      <td>0.0354</td>\n",
       "      <td>13.678</td>\n",
       "      <td>5.963</td>\n",
       "    </tr>\n",
       "    <tr>\n",
       "      <th>1397</th>\n",
       "      <td>25.089</td>\n",
       "      <td>0.461</td>\n",
       "      <td>9.246</td>\n",
       "      <td>17.203</td>\n",
       "      <td>17.296</td>\n",
       "      <td>39.232</td>\n",
       "      <td>39.232</td>\n",
       "      <td>0.689</td>\n",
       "      <td>8.509</td>\n",
       "      <td>2.175</td>\n",
       "      <td>...</td>\n",
       "      <td>4.9910</td>\n",
       "      <td>0.031</td>\n",
       "      <td>0.000</td>\n",
       "      <td>0.000</td>\n",
       "      <td>0.047</td>\n",
       "      <td>2.189</td>\n",
       "      <td>0.668</td>\n",
       "      <td>0.0398</td>\n",
       "      <td>1.521</td>\n",
       "      <td>5.702</td>\n",
       "    </tr>\n",
       "    <tr>\n",
       "      <th>2238</th>\n",
       "      <td>12.337</td>\n",
       "      <td>0.911</td>\n",
       "      <td>12.474</td>\n",
       "      <td>9.135</td>\n",
       "      <td>9.209</td>\n",
       "      <td>13.062</td>\n",
       "      <td>13.062</td>\n",
       "      <td>2.034</td>\n",
       "      <td>1.993</td>\n",
       "      <td>0.337</td>\n",
       "      <td>...</td>\n",
       "      <td>5.8105</td>\n",
       "      <td>0.000</td>\n",
       "      <td>0.024</td>\n",
       "      <td>0.291</td>\n",
       "      <td>0.038</td>\n",
       "      <td>1.076</td>\n",
       "      <td>3.048</td>\n",
       "      <td>0.0268</td>\n",
       "      <td>0.380</td>\n",
       "      <td>2.248</td>\n",
       "    </tr>\n",
       "  </tbody>\n",
       "</table>\n",
       "<p>3 rows × 71 columns</p>\n",
       "</div>"
      ],
      "text/plain": [
       "       CAPEI     bm     evm  pe_op_basic  pe_op_dil  pe_exi  pe_inc     ps  \\\n",
       "1530  20.773  0.547  10.644       15.468     15.633  18.484  18.484  3.703   \n",
       "1397  25.089  0.461   9.246       17.203     17.296  39.232  39.232  0.689   \n",
       "2238  12.337  0.911  12.474        9.135      9.209  13.062  13.062  2.034   \n",
       "\n",
       "        pcf    dpr       ...        sale_nwc  rd_sale  adv_sale  staff_sale  \\\n",
       "1530  9.957  0.623       ...          1.4240    0.136     0.058       0.000   \n",
       "1397  8.509  2.175       ...          4.9910    0.031     0.000       0.000   \n",
       "2238  1.993  0.337       ...          5.8105    0.000     0.024       0.291   \n",
       "\n",
       "      accrual    ptb  PEG_trailing  divyield  PEG_1yrforward  PEG_ltgforward  \n",
       "1530    0.048  1.811         1.181    0.0354          13.678           5.963  \n",
       "1397    0.047  2.189         0.668    0.0398           1.521           5.702  \n",
       "2238    0.038  1.076         3.048    0.0268           0.380           2.248  \n",
       "\n",
       "[3 rows x 71 columns]"
      ]
     },
     "metadata": {},
     "output_type": "display_data"
    },
    {
     "name": "stdout",
     "output_type": "stream",
     "text": [
      "\n",
      "\n",
      "Response Vector y_train, Shape = (2836, 1)\n"
     ]
    },
    {
     "data": {
      "text/html": [
       "<div>\n",
       "<style>\n",
       "    .dataframe thead tr:only-child th {\n",
       "        text-align: right;\n",
       "    }\n",
       "\n",
       "    .dataframe thead th {\n",
       "        text-align: left;\n",
       "    }\n",
       "\n",
       "    .dataframe tbody tr th {\n",
       "        vertical-align: top;\n",
       "    }\n",
       "</style>\n",
       "<table border=\"1\" class=\"dataframe\">\n",
       "  <thead>\n",
       "    <tr style=\"text-align: right;\">\n",
       "      <th></th>\n",
       "      <th>0</th>\n",
       "    </tr>\n",
       "  </thead>\n",
       "  <tbody>\n",
       "    <tr>\n",
       "      <th>1530</th>\n",
       "      <td>0</td>\n",
       "    </tr>\n",
       "    <tr>\n",
       "      <th>1397</th>\n",
       "      <td>1</td>\n",
       "    </tr>\n",
       "    <tr>\n",
       "      <th>2238</th>\n",
       "      <td>0</td>\n",
       "    </tr>\n",
       "  </tbody>\n",
       "</table>\n",
       "</div>"
      ],
      "text/plain": [
       "      0\n",
       "1530  0\n",
       "1397  1\n",
       "2238  0"
      ]
     },
     "metadata": {},
     "output_type": "display_data"
    }
   ],
   "source": [
    "# Check if there is the approximately same percentage of '1' the train response vector\n",
    "print('Ratio of \"UP\" (Train) = ' + str(round(y_train['0'].sum() / y_train.size, 4)*100) + '%', '\\n')\n",
    "\n",
    "# Print and display properties and head of the training set we will use in the following\n",
    "print('Shape of Feature Matrix X_train = ' + str(X_train.shape), '\\n')\n",
    "print('Feature Matrix X_train: (below)')\n",
    "display(X_train.head(3))\n",
    "print('\\n')\n",
    "print('Response Vector y_train, Shape = '+str(y_train.shape))\n",
    "display(y_train.head(3))"
   ]
  },
  {
   "cell_type": "markdown",
   "metadata": {},
   "source": [
    "### Test set"
   ]
  },
  {
   "cell_type": "code",
   "execution_count": 8,
   "metadata": {},
   "outputs": [
    {
     "name": "stdout",
     "output_type": "stream",
     "text": [
      "Ratio of \"UP\" (Test)  =  57.04% \n",
      "\n",
      "Shape of Feature Matrix X_test = (710, 71) \n",
      "\n",
      "Feature Matrix X_test\n"
     ]
    },
    {
     "data": {
      "text/html": [
       "<div>\n",
       "<style>\n",
       "    .dataframe thead tr:only-child th {\n",
       "        text-align: right;\n",
       "    }\n",
       "\n",
       "    .dataframe thead th {\n",
       "        text-align: left;\n",
       "    }\n",
       "\n",
       "    .dataframe tbody tr th {\n",
       "        vertical-align: top;\n",
       "    }\n",
       "</style>\n",
       "<table border=\"1\" class=\"dataframe\">\n",
       "  <thead>\n",
       "    <tr style=\"text-align: right;\">\n",
       "      <th></th>\n",
       "      <th>CAPEI</th>\n",
       "      <th>bm</th>\n",
       "      <th>evm</th>\n",
       "      <th>pe_op_basic</th>\n",
       "      <th>pe_op_dil</th>\n",
       "      <th>pe_exi</th>\n",
       "      <th>pe_inc</th>\n",
       "      <th>ps</th>\n",
       "      <th>pcf</th>\n",
       "      <th>dpr</th>\n",
       "      <th>...</th>\n",
       "      <th>sale_nwc</th>\n",
       "      <th>rd_sale</th>\n",
       "      <th>adv_sale</th>\n",
       "      <th>staff_sale</th>\n",
       "      <th>accrual</th>\n",
       "      <th>ptb</th>\n",
       "      <th>PEG_trailing</th>\n",
       "      <th>divyield</th>\n",
       "      <th>PEG_1yrforward</th>\n",
       "      <th>PEG_ltgforward</th>\n",
       "    </tr>\n",
       "  </thead>\n",
       "  <tbody>\n",
       "    <tr>\n",
       "      <th>817</th>\n",
       "      <td>20.983</td>\n",
       "      <td>0.254</td>\n",
       "      <td>8.585</td>\n",
       "      <td>16.127</td>\n",
       "      <td>16.224</td>\n",
       "      <td>16.224</td>\n",
       "      <td>16.224</td>\n",
       "      <td>3.318</td>\n",
       "      <td>10.484</td>\n",
       "      <td>0.287</td>\n",
       "      <td>...</td>\n",
       "      <td>6.768</td>\n",
       "      <td>0.031</td>\n",
       "      <td>0.006</td>\n",
       "      <td>0.000</td>\n",
       "      <td>0.084</td>\n",
       "      <td>4.189</td>\n",
       "      <td>1.022</td>\n",
       "      <td>0.0187</td>\n",
       "      <td>1.414</td>\n",
       "      <td>1.330</td>\n",
       "    </tr>\n",
       "    <tr>\n",
       "      <th>2592</th>\n",
       "      <td>21.663</td>\n",
       "      <td>0.235</td>\n",
       "      <td>13.619</td>\n",
       "      <td>16.311</td>\n",
       "      <td>16.489</td>\n",
       "      <td>18.555</td>\n",
       "      <td>18.555</td>\n",
       "      <td>2.379</td>\n",
       "      <td>7.709</td>\n",
       "      <td>0.199</td>\n",
       "      <td>...</td>\n",
       "      <td>7.169</td>\n",
       "      <td>0.000</td>\n",
       "      <td>0.000</td>\n",
       "      <td>0.195</td>\n",
       "      <td>0.039</td>\n",
       "      <td>4.281</td>\n",
       "      <td>1.147</td>\n",
       "      <td>0.0122</td>\n",
       "      <td>1.737</td>\n",
       "      <td>1.572</td>\n",
       "    </tr>\n",
       "    <tr>\n",
       "      <th>1475</th>\n",
       "      <td>16.327</td>\n",
       "      <td>0.513</td>\n",
       "      <td>6.716</td>\n",
       "      <td>9.520</td>\n",
       "      <td>9.520</td>\n",
       "      <td>15.681</td>\n",
       "      <td>15.550</td>\n",
       "      <td>3.293</td>\n",
       "      <td>8.490</td>\n",
       "      <td>0.792</td>\n",
       "      <td>...</td>\n",
       "      <td>1.286</td>\n",
       "      <td>0.162</td>\n",
       "      <td>0.054</td>\n",
       "      <td>0.000</td>\n",
       "      <td>0.077</td>\n",
       "      <td>2.198</td>\n",
       "      <td>1.022</td>\n",
       "      <td>0.0343</td>\n",
       "      <td>-0.973</td>\n",
       "      <td>6.149</td>\n",
       "    </tr>\n",
       "  </tbody>\n",
       "</table>\n",
       "<p>3 rows × 71 columns</p>\n",
       "</div>"
      ],
      "text/plain": [
       "       CAPEI     bm     evm  pe_op_basic  pe_op_dil  pe_exi  pe_inc     ps  \\\n",
       "817   20.983  0.254   8.585       16.127     16.224  16.224  16.224  3.318   \n",
       "2592  21.663  0.235  13.619       16.311     16.489  18.555  18.555  2.379   \n",
       "1475  16.327  0.513   6.716        9.520      9.520  15.681  15.550  3.293   \n",
       "\n",
       "         pcf    dpr       ...        sale_nwc  rd_sale  adv_sale  staff_sale  \\\n",
       "817   10.484  0.287       ...           6.768    0.031     0.006       0.000   \n",
       "2592   7.709  0.199       ...           7.169    0.000     0.000       0.195   \n",
       "1475   8.490  0.792       ...           1.286    0.162     0.054       0.000   \n",
       "\n",
       "      accrual    ptb  PEG_trailing  divyield  PEG_1yrforward  PEG_ltgforward  \n",
       "817     0.084  4.189         1.022    0.0187           1.414           1.330  \n",
       "2592    0.039  4.281         1.147    0.0122           1.737           1.572  \n",
       "1475    0.077  2.198         1.022    0.0343          -0.973           6.149  \n",
       "\n",
       "[3 rows x 71 columns]"
      ]
     },
     "metadata": {},
     "output_type": "display_data"
    },
    {
     "name": "stdout",
     "output_type": "stream",
     "text": [
      "\n",
      "\n",
      "Response Vector y_test, Shape = (710, 1)\n"
     ]
    },
    {
     "data": {
      "text/html": [
       "<div>\n",
       "<style>\n",
       "    .dataframe thead tr:only-child th {\n",
       "        text-align: right;\n",
       "    }\n",
       "\n",
       "    .dataframe thead th {\n",
       "        text-align: left;\n",
       "    }\n",
       "\n",
       "    .dataframe tbody tr th {\n",
       "        vertical-align: top;\n",
       "    }\n",
       "</style>\n",
       "<table border=\"1\" class=\"dataframe\">\n",
       "  <thead>\n",
       "    <tr style=\"text-align: right;\">\n",
       "      <th></th>\n",
       "      <th>0</th>\n",
       "    </tr>\n",
       "  </thead>\n",
       "  <tbody>\n",
       "    <tr>\n",
       "      <th>817</th>\n",
       "      <td>1</td>\n",
       "    </tr>\n",
       "    <tr>\n",
       "      <th>2592</th>\n",
       "      <td>0</td>\n",
       "    </tr>\n",
       "    <tr>\n",
       "      <th>1475</th>\n",
       "      <td>1</td>\n",
       "    </tr>\n",
       "  </tbody>\n",
       "</table>\n",
       "</div>"
      ],
      "text/plain": [
       "      0\n",
       "817   1\n",
       "2592  0\n",
       "1475  1"
      ]
     },
     "metadata": {},
     "output_type": "display_data"
    }
   ],
   "source": [
    "# Check if there is the approximately same percentage of '1' in the test response vector\n",
    "print('Ratio of \"UP\" (Test)  =  ' + str(round(y_test['0'].sum() / y_test.size, 4)*100) + '%', '\\n')\n",
    "\n",
    "# Print and display properties and head of the training set we will use in the following\n",
    "print('Shape of Feature Matrix X_test = ' + str(X_test.shape), '\\n')\n",
    "print('Feature Matrix X_test')\n",
    "display(X_test.head(3))\n",
    "print('\\n')\n",
    "print('Response Vector y_test, Shape = '+str(y_test.shape))\n",
    "display(y_test.head(3))"
   ]
  },
  {
   "cell_type": "markdown",
   "metadata": {},
   "source": [
    "###    \n",
    "## 2.2. Selecting & Extracting Features"
   ]
  },
  {
   "cell_type": "markdown",
   "metadata": {},
   "source": [
    "### 2.2.1.  Fit forest and show list of best 'n' features according to explanatory value"
   ]
  },
  {
   "cell_type": "markdown",
   "metadata": {},
   "source": [
    "### 2.2.2.  Plotting results"
   ]
  },
  {
   "cell_type": "code",
   "execution_count": 9,
   "metadata": {},
   "outputs": [
    {
     "name": "stdout",
     "output_type": "stream",
     "text": [
      "Most important features after 50 random states\n"
     ]
    },
    {
     "data": {
      "text/html": [
       "<div>\n",
       "<style>\n",
       "    .dataframe thead tr:only-child th {\n",
       "        text-align: right;\n",
       "    }\n",
       "\n",
       "    .dataframe thead th {\n",
       "        text-align: left;\n",
       "    }\n",
       "\n",
       "    .dataframe tbody tr th {\n",
       "        vertical-align: top;\n",
       "    }\n",
       "</style>\n",
       "<table border=\"1\" class=\"dataframe\">\n",
       "  <thead>\n",
       "    <tr style=\"text-align: right;\">\n",
       "      <th></th>\n",
       "      <th>labels</th>\n",
       "      <th>importances</th>\n",
       "    </tr>\n",
       "  </thead>\n",
       "  <tbody>\n",
       "    <tr>\n",
       "      <th>0</th>\n",
       "      <td>pe_op_dil</td>\n",
       "      <td>0.046592</td>\n",
       "    </tr>\n",
       "    <tr>\n",
       "      <th>1</th>\n",
       "      <td>CAPEI</td>\n",
       "      <td>0.045343</td>\n",
       "    </tr>\n",
       "    <tr>\n",
       "      <th>2</th>\n",
       "      <td>pe_op_basic</td>\n",
       "      <td>0.043868</td>\n",
       "    </tr>\n",
       "    <tr>\n",
       "      <th>3</th>\n",
       "      <td>divyield</td>\n",
       "      <td>0.037278</td>\n",
       "    </tr>\n",
       "    <tr>\n",
       "      <th>4</th>\n",
       "      <td>pe_exi</td>\n",
       "      <td>0.036326</td>\n",
       "    </tr>\n",
       "    <tr>\n",
       "      <th>5</th>\n",
       "      <td>pcf</td>\n",
       "      <td>0.034953</td>\n",
       "    </tr>\n",
       "    <tr>\n",
       "      <th>6</th>\n",
       "      <td>ptb</td>\n",
       "      <td>0.033772</td>\n",
       "    </tr>\n",
       "    <tr>\n",
       "      <th>7</th>\n",
       "      <td>PEG_ltgforward</td>\n",
       "      <td>0.033248</td>\n",
       "    </tr>\n",
       "    <tr>\n",
       "      <th>8</th>\n",
       "      <td>bm</td>\n",
       "      <td>0.030837</td>\n",
       "    </tr>\n",
       "    <tr>\n",
       "      <th>9</th>\n",
       "      <td>evm</td>\n",
       "      <td>0.030833</td>\n",
       "    </tr>\n",
       "    <tr>\n",
       "      <th>10</th>\n",
       "      <td>ps</td>\n",
       "      <td>0.028140</td>\n",
       "    </tr>\n",
       "    <tr>\n",
       "      <th>11</th>\n",
       "      <td>pe_inc</td>\n",
       "      <td>0.027817</td>\n",
       "    </tr>\n",
       "    <tr>\n",
       "      <th>12</th>\n",
       "      <td>PEG_1yrforward</td>\n",
       "      <td>0.023774</td>\n",
       "    </tr>\n",
       "    <tr>\n",
       "      <th>13</th>\n",
       "      <td>PEG_trailing</td>\n",
       "      <td>0.014908</td>\n",
       "    </tr>\n",
       "    <tr>\n",
       "      <th>14</th>\n",
       "      <td>dpr</td>\n",
       "      <td>0.013264</td>\n",
       "    </tr>\n",
       "    <tr>\n",
       "      <th>15</th>\n",
       "      <td>GProf</td>\n",
       "      <td>0.013242</td>\n",
       "    </tr>\n",
       "    <tr>\n",
       "      <th>16</th>\n",
       "      <td>roe</td>\n",
       "      <td>0.012003</td>\n",
       "    </tr>\n",
       "    <tr>\n",
       "      <th>17</th>\n",
       "      <td>short_debt</td>\n",
       "      <td>0.011815</td>\n",
       "    </tr>\n",
       "    <tr>\n",
       "      <th>18</th>\n",
       "      <td>invt_act</td>\n",
       "      <td>0.011704</td>\n",
       "    </tr>\n",
       "    <tr>\n",
       "      <th>19</th>\n",
       "      <td>roce</td>\n",
       "      <td>0.011452</td>\n",
       "    </tr>\n",
       "  </tbody>\n",
       "</table>\n",
       "</div>"
      ],
      "text/plain": [
       "            labels  importances\n",
       "0        pe_op_dil     0.046592\n",
       "1            CAPEI     0.045343\n",
       "2      pe_op_basic     0.043868\n",
       "3         divyield     0.037278\n",
       "4           pe_exi     0.036326\n",
       "5              pcf     0.034953\n",
       "6              ptb     0.033772\n",
       "7   PEG_ltgforward     0.033248\n",
       "8               bm     0.030837\n",
       "9              evm     0.030833\n",
       "10              ps     0.028140\n",
       "11          pe_inc     0.027817\n",
       "12  PEG_1yrforward     0.023774\n",
       "13    PEG_trailing     0.014908\n",
       "14             dpr     0.013264\n",
       "15           GProf     0.013242\n",
       "16             roe     0.012003\n",
       "17      short_debt     0.011815\n",
       "18        invt_act     0.011704\n",
       "19            roce     0.011452"
      ]
     },
     "metadata": {},
     "output_type": "display_data"
    }
   ],
   "source": [
    "# rs = first random state we choose, \n",
    "# n = number of best features we want to select out, \n",
    "# m = number of random states we want to have tried out\n",
    "rs = 0\n",
    "n = 20\n",
    "m = 50\n",
    "\n",
    "# define new empty lists\n",
    "if VERSION == 1:\n",
    "    feature_importances = [0] * 71\n",
    "else:\n",
    "    feature_importances = [0] * 181\n",
    "\n",
    "# Loop until random_state = rs = 10\n",
    "while rs < m:\n",
    "    forest = RandomForestClassifier(random_state = rs)\n",
    "    forest.max_depth = 6\n",
    "    forest.fit(X_train, y_train)\n",
    "    \n",
    "    # Apply forest fature importance to get an array of feature importances for each feature\n",
    "    feature_importances = forest.feature_importances_ + feature_importances\n",
    "        \n",
    "    rs += 1\n",
    "\n",
    "# sort features in line with their importance for the prediction (therefore ::-1)\n",
    "indices = np.argsort(feature_importances)[::-1]\n",
    "\n",
    "selected_labels = [feature_labels[i] for i in indices[:n]]\n",
    "selected_importances = sorted(feature_importances, reverse=True)[:n]\n",
    "selected_importances = [i / m for i in selected_importances]\n",
    "cumsum_importances = np.cumsum(selected_importances)\n",
    "\n",
    "# Create a dataframe\n",
    "important_features = pd.DataFrame({'labels':selected_labels, 'importances':selected_importances},\n",
    "                                  columns=['labels', 'importances'])\n",
    "\n",
    "print('Most important features after ' + str(rs) + ' random states')\n",
    "display(important_features)\n",
    "\n",
    "del rs, m"
   ]
  },
  {
   "cell_type": "code",
   "execution_count": 10,
   "metadata": {},
   "outputs": [
    {
     "data": {
      "image/png": "[encoded data removed]",
      "text/plain": [
       "<matplotlib.figure.Figure at 0x17bc22d7278>"
      ]
     },
     "metadata": {},
     "output_type": "display_data"
    },
    {
     "data": {
      "image/png": "[encoded data removed]",
      "text/plain": [
       "<matplotlib.figure.Figure at 0x17bc24218d0>"
      ]
     },
     "metadata": {},
     "output_type": "display_data"
    }
   ],
   "source": [
    "# Plot Feature Importance (both cumul., individual)\n",
    "plt.figure(figsize=(12, 8))\n",
    "plt.bar(range(n), selected_importances, align='center')\n",
    "plt.xticks(range(n), selected_labels, rotation=90)\n",
    "plt.xlim([-1, n])\n",
    "plt.xlabel('Feature')\n",
    "plt.ylabel('Rel. Feature Importance')\n",
    "plt.step(range(n), cumsum_importances, where='mid', \n",
    "         label='Cumulative importance')\n",
    "plt.title('Feature Importance Random Forest (best 20) Version ' + str(VERSION))\n",
    "plt.tight_layout();\n",
    "\n",
    "# Plot Feature Importance\n",
    "plt.rcdefaults()\n",
    "fig, ax = plt.subplots()\n",
    "\n",
    "# data preparation\n",
    "\n",
    "y_pos = np.arange(len(selected_labels))\n",
    "\n",
    "\n",
    "ax.barh(y_pos, selected_importances, align='center')\n",
    "ax.set_yticks(y_pos)\n",
    "ax.set_yticklabels(selected_labels)\n",
    "ax.invert_yaxis()  # labels read top-to-bottom\n",
    "ax.set_xlabel('Importance')\n",
    "ax.set_title('Feature Importance Random Forest (best 20) Version ' + str(VERSION))\n",
    "\n",
    "plt.show()"
   ]
  },
  {
   "cell_type": "markdown",
   "metadata": {},
   "source": [
    "### 2.2.3. Extract best 'n' Variables and save"
   ]
  },
  {
   "cell_type": "markdown",
   "metadata": {},
   "source": [
    "### Extract\n",
    "\n",
    "Automatically etract the chosen number n best variables directly from the feature matrices X_train and X_test into new ones X_train_f and X_test_f.                                                                                                                \n",
    "The f in the end stands for feature selection with random'f'orest.\n"
   ]
  },
  {
   "cell_type": "code",
   "execution_count": 11,
   "metadata": {},
   "outputs": [
    {
     "name": "stdout",
     "output_type": "stream",
     "text": [
      "\n",
      "Feature Matrix with selected Features (Train):\n"
     ]
    },
    {
     "data": {
      "text/html": [
       "<div>\n",
       "<style>\n",
       "    .dataframe thead tr:only-child th {\n",
       "        text-align: right;\n",
       "    }\n",
       "\n",
       "    .dataframe thead th {\n",
       "        text-align: left;\n",
       "    }\n",
       "\n",
       "    .dataframe tbody tr th {\n",
       "        vertical-align: top;\n",
       "    }\n",
       "</style>\n",
       "<table border=\"1\" class=\"dataframe\">\n",
       "  <thead>\n",
       "    <tr style=\"text-align: right;\">\n",
       "      <th></th>\n",
       "      <th>pe_op_dil</th>\n",
       "      <th>CAPEI</th>\n",
       "      <th>pe_op_basic</th>\n",
       "      <th>divyield</th>\n",
       "      <th>pe_exi</th>\n",
       "      <th>pcf</th>\n",
       "      <th>ptb</th>\n",
       "      <th>PEG_ltgforward</th>\n",
       "      <th>bm</th>\n",
       "      <th>evm</th>\n",
       "      <th>ps</th>\n",
       "      <th>pe_inc</th>\n",
       "      <th>PEG_1yrforward</th>\n",
       "      <th>PEG_trailing</th>\n",
       "      <th>dpr</th>\n",
       "      <th>GProf</th>\n",
       "      <th>roe</th>\n",
       "      <th>short_debt</th>\n",
       "      <th>invt_act</th>\n",
       "      <th>roce</th>\n",
       "    </tr>\n",
       "  </thead>\n",
       "  <tbody>\n",
       "    <tr>\n",
       "      <th>1530</th>\n",
       "      <td>15.633</td>\n",
       "      <td>20.773</td>\n",
       "      <td>15.468</td>\n",
       "      <td>0.0354</td>\n",
       "      <td>18.484</td>\n",
       "      <td>9.957</td>\n",
       "      <td>1.811</td>\n",
       "      <td>5.963</td>\n",
       "      <td>0.547</td>\n",
       "      <td>10.644</td>\n",
       "      <td>3.703</td>\n",
       "      <td>18.484</td>\n",
       "      <td>13.678</td>\n",
       "      <td>1.181</td>\n",
       "      <td>0.623</td>\n",
       "      <td>0.245</td>\n",
       "      <td>0.102</td>\n",
       "      <td>0.173</td>\n",
       "      <td>0.108</td>\n",
       "      <td>0.140</td>\n",
       "    </tr>\n",
       "    <tr>\n",
       "      <th>1397</th>\n",
       "      <td>17.296</td>\n",
       "      <td>25.089</td>\n",
       "      <td>17.203</td>\n",
       "      <td>0.0398</td>\n",
       "      <td>39.232</td>\n",
       "      <td>8.509</td>\n",
       "      <td>2.189</td>\n",
       "      <td>5.702</td>\n",
       "      <td>0.461</td>\n",
       "      <td>9.246</td>\n",
       "      <td>0.689</td>\n",
       "      <td>39.232</td>\n",
       "      <td>1.521</td>\n",
       "      <td>0.668</td>\n",
       "      <td>2.175</td>\n",
       "      <td>0.164</td>\n",
       "      <td>0.067</td>\n",
       "      <td>0.084</td>\n",
       "      <td>0.368</td>\n",
       "      <td>0.105</td>\n",
       "    </tr>\n",
       "  </tbody>\n",
       "</table>\n",
       "</div>"
      ],
      "text/plain": [
       "      pe_op_dil   CAPEI  pe_op_basic  divyield  pe_exi    pcf    ptb  \\\n",
       "1530     15.633  20.773       15.468    0.0354  18.484  9.957  1.811   \n",
       "1397     17.296  25.089       17.203    0.0398  39.232  8.509  2.189   \n",
       "\n",
       "      PEG_ltgforward     bm     evm     ps  pe_inc  PEG_1yrforward  \\\n",
       "1530           5.963  0.547  10.644  3.703  18.484          13.678   \n",
       "1397           5.702  0.461   9.246  0.689  39.232           1.521   \n",
       "\n",
       "      PEG_trailing    dpr  GProf    roe  short_debt  invt_act   roce  \n",
       "1530         1.181  0.623  0.245  0.102       0.173     0.108  0.140  \n",
       "1397         0.668  2.175  0.164  0.067       0.084     0.368  0.105  "
      ]
     },
     "metadata": {},
     "output_type": "display_data"
    },
    {
     "data": {
      "text/plain": [
       "(2836, 20)"
      ]
     },
     "metadata": {},
     "output_type": "display_data"
    },
    {
     "name": "stdout",
     "output_type": "stream",
     "text": [
      "\n",
      "Feature Matrix with selected Features (Test):\n"
     ]
    },
    {
     "data": {
      "text/html": [
       "<div>\n",
       "<style>\n",
       "    .dataframe thead tr:only-child th {\n",
       "        text-align: right;\n",
       "    }\n",
       "\n",
       "    .dataframe thead th {\n",
       "        text-align: left;\n",
       "    }\n",
       "\n",
       "    .dataframe tbody tr th {\n",
       "        vertical-align: top;\n",
       "    }\n",
       "</style>\n",
       "<table border=\"1\" class=\"dataframe\">\n",
       "  <thead>\n",
       "    <tr style=\"text-align: right;\">\n",
       "      <th></th>\n",
       "      <th>pe_op_dil</th>\n",
       "      <th>CAPEI</th>\n",
       "      <th>pe_op_basic</th>\n",
       "      <th>divyield</th>\n",
       "      <th>pe_exi</th>\n",
       "      <th>pcf</th>\n",
       "      <th>ptb</th>\n",
       "      <th>PEG_ltgforward</th>\n",
       "      <th>bm</th>\n",
       "      <th>evm</th>\n",
       "      <th>ps</th>\n",
       "      <th>pe_inc</th>\n",
       "      <th>PEG_1yrforward</th>\n",
       "      <th>PEG_trailing</th>\n",
       "      <th>dpr</th>\n",
       "      <th>GProf</th>\n",
       "      <th>roe</th>\n",
       "      <th>short_debt</th>\n",
       "      <th>invt_act</th>\n",
       "      <th>roce</th>\n",
       "    </tr>\n",
       "  </thead>\n",
       "  <tbody>\n",
       "    <tr>\n",
       "      <th>817</th>\n",
       "      <td>16.224</td>\n",
       "      <td>20.983</td>\n",
       "      <td>16.127</td>\n",
       "      <td>0.0187</td>\n",
       "      <td>16.224</td>\n",
       "      <td>10.484</td>\n",
       "      <td>4.189</td>\n",
       "      <td>1.330</td>\n",
       "      <td>0.254</td>\n",
       "      <td>8.585</td>\n",
       "      <td>3.318</td>\n",
       "      <td>16.224</td>\n",
       "      <td>1.414</td>\n",
       "      <td>1.022</td>\n",
       "      <td>0.287</td>\n",
       "      <td>0.354</td>\n",
       "      <td>0.272</td>\n",
       "      <td>0.025</td>\n",
       "      <td>0.025</td>\n",
       "      <td>0.364</td>\n",
       "    </tr>\n",
       "    <tr>\n",
       "      <th>2592</th>\n",
       "      <td>16.489</td>\n",
       "      <td>21.663</td>\n",
       "      <td>16.311</td>\n",
       "      <td>0.0122</td>\n",
       "      <td>18.555</td>\n",
       "      <td>7.709</td>\n",
       "      <td>4.281</td>\n",
       "      <td>1.572</td>\n",
       "      <td>0.235</td>\n",
       "      <td>13.619</td>\n",
       "      <td>2.379</td>\n",
       "      <td>18.555</td>\n",
       "      <td>1.737</td>\n",
       "      <td>1.147</td>\n",
       "      <td>0.199</td>\n",
       "      <td>0.062</td>\n",
       "      <td>0.238</td>\n",
       "      <td>0.106</td>\n",
       "      <td>0.157</td>\n",
       "      <td>0.108</td>\n",
       "    </tr>\n",
       "  </tbody>\n",
       "</table>\n",
       "</div>"
      ],
      "text/plain": [
       "      pe_op_dil   CAPEI  pe_op_basic  divyield  pe_exi     pcf    ptb  \\\n",
       "817      16.224  20.983       16.127    0.0187  16.224  10.484  4.189   \n",
       "2592     16.489  21.663       16.311    0.0122  18.555   7.709  4.281   \n",
       "\n",
       "      PEG_ltgforward     bm     evm     ps  pe_inc  PEG_1yrforward  \\\n",
       "817            1.330  0.254   8.585  3.318  16.224           1.414   \n",
       "2592           1.572  0.235  13.619  2.379  18.555           1.737   \n",
       "\n",
       "      PEG_trailing    dpr  GProf    roe  short_debt  invt_act   roce  \n",
       "817          1.022  0.287  0.354  0.272       0.025     0.025  0.364  \n",
       "2592         1.147  0.199  0.062  0.238       0.106     0.157  0.108  "
      ]
     },
     "metadata": {},
     "output_type": "display_data"
    },
    {
     "data": {
      "text/plain": [
       "(710, 20)"
      ]
     },
     "metadata": {},
     "output_type": "display_data"
    }
   ],
   "source": [
    "# extract features from feature matrix\n",
    "X_train_f = X_train[important_features['labels']]\n",
    "X_test_f = X_test[important_features['labels']]\n",
    "\n",
    "# Show feature matrices (train, test) after feature selection\n",
    "print(\"\")\n",
    "print('Feature Matrix with selected Features (Train):')\n",
    "display(X_train_f.head(2))\n",
    "display(X_train_f.shape)\n",
    "print(\"\")\n",
    "print('Feature Matrix with selected Features (Test):')\n",
    "display(X_test_f.head(2))\n",
    "display(X_test_f.shape)"
   ]
  },
  {
   "cell_type": "markdown",
   "metadata": {},
   "source": [
    "### Save\n",
    "\n",
    "Feature Matrices and Response Vectors after Train/Test Split and after Feature Selection are saved as csv:             \n",
    "Version 1 (ratios as explanatory variables)                                                                          \n",
    "Version 2 (ratios + seasonality + market data)."
   ]
  },
  {
   "cell_type": "code",
   "execution_count": 12,
   "metadata": {
    "collapsed": true
   },
   "outputs": [],
   "source": [
    "# Save generated splitted datasets (feature matrices and response vectors) after having relevant feature selected\n",
    "# The 'f' at the end of the name of the dataset stands for the fact that features have been selected with random'f'orest\n",
    "if VERSION == 1:\n",
    "    X_train_f.to_csv('Data/generated_splits/features_selected_randomforest/X1_train_f.csv', index = False)\n",
    "    X_test_f.to_csv('Data/generated_splits/features_selected_randomforest/X1_test_f.csv', index = False)\n",
    "    y_train.to_csv('Data/generated_splits/features_selected_randomforest/y1_train_f.csv', index = False)\n",
    "    y_test.to_csv('Data/generated_splits/features_selected_randomforest/y1_test_f.csv', index = False)\n",
    "elif VERSION == 2:\n",
    "    X_train_f.to_csv('Data/generated_splits/features_selected_randomforest/X2_train_f.csv', index = False)\n",
    "    X_test_f.to_csv('Data/generated_splits/features_selected_randomforest/X2_test_f.csv', index = False)\n",
    "    y_train.to_csv('Data/generated_splits/features_selected_randomforest/y2_train_f.csv', index = False)\n",
    "    y_test.to_csv('Data/generated_splits/features_selected_randomforest/y2_test_f.csv', index = False)\n",
    "else: raise ValueError('VERSION value must be either 1 or 2')"
   ]
  }
 ],
 "metadata": {
  "kernelspec": {
   "display_name": "Python 3",
   "language": "python",
   "name": "python3"
  },
  "language_info": {
   "codemirror_mode": {
    "name": "ipython",
    "version": 3
   },
   "file_extension": ".py",
   "mimetype": "text/x-python",
   "name": "python",
   "nbconvert_exporter": "python",
   "pygments_lexer": "ipython3",
   "version": "3.6.3"
  }
 },
 "nbformat": 4,
 "nbformat_minor": 2
}
