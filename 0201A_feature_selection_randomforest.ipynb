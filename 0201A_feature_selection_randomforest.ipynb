{
 "cells": [
  {
   "cell_type": "markdown",
   "metadata": {},
   "source": [
    "# Introduction to Machine Learning, UZH 2018, Group Project\n",
    "### Group 2: Barbara Capl, Mathias Lüthi, Pamela Matias, Stefanie Rentsch\n",
    "##       \n",
    "# 2. Feature Selection \n",
    "# A. with RandomForestClassifier (RF)\n",
    "\n",
    "###        \n",
    "In this section we use the feature matrices and the response vector that we prepared in chapter 1.  \n",
    "\n",
    "#### We use two different versions (created in chapter 1):\n",
    "Version 1: Feature Matrix consists only of the Ratios                                                                        \n",
    "Version 2: Feature Matrix consists of Ratios + dummy variables for seasonality + other market data\n",
    "####  We will do Feature Selection and generate feature matrices with only selected n features for each Version above\n"
   ]
  },
  {
   "cell_type": "code",
   "execution_count": 1,
   "metadata": {},
   "outputs": [],
   "source": [
    "# hide unnecessary warnings (\"depreciation\" of packages etc.)\n",
    "import warnings\n",
    "warnings.filterwarnings('ignore')\n",
    "\n",
    "# import packages\n",
    "import numpy as np\n",
    "import pandas as pd\n",
    "import matplotlib.pyplot as plt\n",
    "from sklearn import preprocessing\n",
    "from sklearn.model_selection import train_test_split\n",
    "from sklearn.preprocessing import Imputer\n",
    "from sklearn.ensemble import RandomForestClassifier"
   ]
  },
  {
   "cell_type": "markdown",
   "metadata": {},
   "source": [
    "## 2.0. SETTINGS: choose which Feature Matrix (Version 1 or 2) you want to use"
   ]
  },
  {
   "cell_type": "markdown",
   "metadata": {},
   "source": [
    "#### Choose the Dataset Version you want\n",
    "VERSION = 1; Feature Matrix with only ratios                                  \n",
    "VERSION = 2;  Feature Matrix with ratios + saisonality + other market data\n"
   ]
  },
  {
   "cell_type": "code",
   "execution_count": 2,
   "metadata": {},
   "outputs": [
    {
     "name": "stdout",
     "output_type": "stream",
     "text": [
      "You chose VERSION 1 as working dataset. The following Feature Selection will be thereforebased on Dataset with only the Ratios Dataset as predicive Features.\n"
     ]
    }
   ],
   "source": [
    "############### CHOOSE\n",
    "VERSION = 1\n",
    "\"\"\"\n",
    "INSERT NUMBER 1 or 2    \n",
    "\"\"\"\n",
    "\n",
    "\n",
    "\n",
    "# Defining sel_state variable for usage later and printing text according to your choise   \n",
    "if VERSION == 1:\n",
    "    sel_version = 'based on Dataset with only the Ratios Dataset as predicive Features.'\n",
    "    print('You chose VERSION 1 as working dataset. The following Feature Selection will be therefore' + sel_version)\n",
    "elif VERSION == 2:\n",
    "    sel_version = 'based on Dataset with Ratios + Seasonality + other Market Data as predictive Features.'\n",
    "    print('You chose VERSION 2 as working dataset. The following Feature Selection will be therefore ' + sel_version)\n",
    "else: raise ValueError('VERSION must be either 1 or 2')"
   ]
  },
  {
   "cell_type": "markdown",
   "metadata": {},
   "source": [
    "## 2.1. Preparation"
   ]
  },
  {
   "cell_type": "markdown",
   "metadata": {},
   "source": [
    "### 2.1.1 Import the Response Vector and the Feature Matrices"
   ]
  },
  {
   "cell_type": "code",
   "execution_count": 3,
   "metadata": {},
   "outputs": [],
   "source": [
    "# Load in the response vector pre-generated in Chater 1 (Preparation of Data)\n",
    "y = pd.read_csv('Data/generated_datasets/response_1.csv', sep=',', header=0)"
   ]
  },
  {
   "cell_type": "code",
   "execution_count": 4,
   "metadata": {},
   "outputs": [],
   "source": [
    "# Load in te feature matrix according to the version you chose in section 2.0. above\n",
    "if VERSION == 1:\n",
    "    X = pd.read_csv('Data/generated_datasets/features_ratios_1.csv', sep=',', header=0)\n",
    "elif VERSION == 2:\n",
    "    X = pd.read_csv('Data/generated_datasets/features_additional_1.csv', sep=',', header=0)\n",
    "else: raise ValueError('VERSION value must be either 1 or 2')"
   ]
  },
  {
   "cell_type": "markdown",
   "metadata": {},
   "source": [
    "### 2.1.2. Train/ Test Split and fill missing values with median\n",
    "\n",
    "Note: Standardization is not done here because it is not necessary for Random Forest.                                        "
   ]
  },
  {
   "cell_type": "markdown",
   "metadata": {},
   "source": [
    "### Train/ Test Split\n",
    "\n",
    "Apply on chosen unsplitted, unimputed and unstandardized feature matrix and response vector."
   ]
  },
  {
   "cell_type": "code",
   "execution_count": 5,
   "metadata": {},
   "outputs": [
    {
     "name": "stdout",
     "output_type": "stream",
     "text": [
      "Type of feature_labels = <class 'list'> \n",
      "\n"
     ]
    },
    {
     "data": {
      "text/plain": [
       "(2836, 71)"
      ]
     },
     "metadata": {},
     "output_type": "display_data"
    },
    {
     "data": {
      "text/plain": [
       "(710, 71)"
      ]
     },
     "metadata": {},
     "output_type": "display_data"
    }
   ],
   "source": [
    "# Train/test split, into 20% test size and 80% train size because it is a relatively small dataset\n",
    "X_train, X_test, y_train, y_test = train_test_split(X, y, test_size=0.2, random_state=0)\n",
    "\n",
    "# Extract all the feature labels for the respective chosen version\n",
    "feature_labels = list(X)\n",
    "print('Type of feature_labels = ' + str(type(feature_labels)), '\\n')\n",
    "#display(np.array(feature_labels))\n",
    "\n",
    "display(X_train.shape)\n",
    "display(X_test.shape)"
   ]
  },
  {
   "cell_type": "markdown",
   "metadata": {},
   "source": [
    "### Filling missing values (NaN)\n",
    "\n",
    "We use Imputer to fill missing entries with median only AFTER the split, to circumvent the bias that both splits would include information of each other."
   ]
  },
  {
   "cell_type": "code",
   "execution_count": 6,
   "metadata": {},
   "outputs": [
    {
     "data": {
      "text/plain": [
       "(2836, 71)"
      ]
     },
     "metadata": {},
     "output_type": "display_data"
    },
    {
     "data": {
      "text/plain": [
       "(710, 71)"
      ]
     },
     "metadata": {},
     "output_type": "display_data"
    }
   ],
   "source": [
    "# Use a median fill for train set\n",
    "imp = Imputer(missing_values=np.nan, strategy = 'median' , axis=0)\n",
    "imputed_dataset = pd.DataFrame(imp.fit_transform(X_train))\n",
    "imputed_dataset.columns = X_train.columns\n",
    "imputed_dataset.index = X_train.index\n",
    "X_train = imputed_dataset\n",
    "\n",
    "# Use a median fill for the test set\n",
    "imputed_dataset = pd.DataFrame(imp.fit_transform(X_test))\n",
    "imputed_dataset.columns = X_test.columns\n",
    "imputed_dataset.index = X_test.index\n",
    "X_test = imputed_dataset\n",
    "\n",
    "display(X_train.shape)\n",
    "display(X_test.shape)"
   ]
  },
  {
   "cell_type": "markdown",
   "metadata": {},
   "source": [
    "### 2.2.3. Print out Shape and Form of Feature Matrix and Response Vector"
   ]
  },
  {
   "cell_type": "markdown",
   "metadata": {},
   "source": [
    "### Train set"
   ]
  },
  {
   "cell_type": "code",
   "execution_count": 7,
   "metadata": {},
   "outputs": [
    {
     "name": "stdout",
     "output_type": "stream",
     "text": [
      "Ratio of \"UP\" (Train) = 58.07% \n",
      "\n",
      "Shape of Feature Matrix X_train = (2836, 71) \n",
      "\n",
      "Feature Matrix X_train: (below)\n"
     ]
    },
    {
     "data": {
      "text/html": [
       "<div>\n",
       "<style scoped>\n",
       "    .dataframe tbody tr th:only-of-type {\n",
       "        vertical-align: middle;\n",
       "    }\n",
       "\n",
       "    .dataframe tbody tr th {\n",
       "        vertical-align: top;\n",
       "    }\n",
       "\n",
       "    .dataframe thead th {\n",
       "        text-align: right;\n",
       "    }\n",
       "</style>\n",
       "<table border=\"1\" class=\"dataframe\">\n",
       "  <thead>\n",
       "    <tr style=\"text-align: right;\">\n",
       "      <th></th>\n",
       "      <th>CAPEI</th>\n",
       "      <th>bm</th>\n",
       "      <th>evm</th>\n",
       "      <th>pe_op_basic</th>\n",
       "      <th>pe_op_dil</th>\n",
       "      <th>pe_exi</th>\n",
       "      <th>pe_inc</th>\n",
       "      <th>ps</th>\n",
       "      <th>pcf</th>\n",
       "      <th>dpr</th>\n",
       "      <th>...</th>\n",
       "      <th>sale_nwc</th>\n",
       "      <th>rd_sale</th>\n",
       "      <th>adv_sale</th>\n",
       "      <th>staff_sale</th>\n",
       "      <th>accrual</th>\n",
       "      <th>ptb</th>\n",
       "      <th>PEG_trailing</th>\n",
       "      <th>divyield</th>\n",
       "      <th>PEG_1yrforward</th>\n",
       "      <th>PEG_ltgforward</th>\n",
       "    </tr>\n",
       "  </thead>\n",
       "  <tbody>\n",
       "    <tr>\n",
       "      <th>1530</th>\n",
       "      <td>20.773</td>\n",
       "      <td>0.547</td>\n",
       "      <td>10.644</td>\n",
       "      <td>15.468</td>\n",
       "      <td>15.633</td>\n",
       "      <td>18.484</td>\n",
       "      <td>18.484</td>\n",
       "      <td>3.703</td>\n",
       "      <td>9.957</td>\n",
       "      <td>0.623</td>\n",
       "      <td>...</td>\n",
       "      <td>1.4240</td>\n",
       "      <td>0.136</td>\n",
       "      <td>0.058</td>\n",
       "      <td>0.000</td>\n",
       "      <td>0.048</td>\n",
       "      <td>1.811</td>\n",
       "      <td>1.181</td>\n",
       "      <td>0.0354</td>\n",
       "      <td>13.678</td>\n",
       "      <td>5.963</td>\n",
       "    </tr>\n",
       "    <tr>\n",
       "      <th>1397</th>\n",
       "      <td>25.089</td>\n",
       "      <td>0.461</td>\n",
       "      <td>9.246</td>\n",
       "      <td>17.203</td>\n",
       "      <td>17.296</td>\n",
       "      <td>39.232</td>\n",
       "      <td>39.232</td>\n",
       "      <td>0.689</td>\n",
       "      <td>8.509</td>\n",
       "      <td>2.175</td>\n",
       "      <td>...</td>\n",
       "      <td>4.9910</td>\n",
       "      <td>0.031</td>\n",
       "      <td>0.000</td>\n",
       "      <td>0.000</td>\n",
       "      <td>0.047</td>\n",
       "      <td>2.189</td>\n",
       "      <td>0.668</td>\n",
       "      <td>0.0398</td>\n",
       "      <td>1.521</td>\n",
       "      <td>5.702</td>\n",
       "    </tr>\n",
       "    <tr>\n",
       "      <th>2238</th>\n",
       "      <td>12.337</td>\n",
       "      <td>0.911</td>\n",
       "      <td>12.474</td>\n",
       "      <td>9.135</td>\n",
       "      <td>9.209</td>\n",
       "      <td>13.062</td>\n",
       "      <td>13.062</td>\n",
       "      <td>2.034</td>\n",
       "      <td>1.993</td>\n",
       "      <td>0.337</td>\n",
       "      <td>...</td>\n",
       "      <td>5.8105</td>\n",
       "      <td>0.000</td>\n",
       "      <td>0.024</td>\n",
       "      <td>0.291</td>\n",
       "      <td>0.038</td>\n",
       "      <td>1.076</td>\n",
       "      <td>3.048</td>\n",
       "      <td>0.0268</td>\n",
       "      <td>0.380</td>\n",
       "      <td>2.248</td>\n",
       "    </tr>\n",
       "  </tbody>\n",
       "</table>\n",
       "<p>3 rows × 71 columns</p>\n",
       "</div>"
      ],
      "text/plain": [
       "       CAPEI     bm     evm  pe_op_basic  pe_op_dil  pe_exi  pe_inc     ps  \\\n",
       "1530  20.773  0.547  10.644       15.468     15.633  18.484  18.484  3.703   \n",
       "1397  25.089  0.461   9.246       17.203     17.296  39.232  39.232  0.689   \n",
       "2238  12.337  0.911  12.474        9.135      9.209  13.062  13.062  2.034   \n",
       "\n",
       "        pcf    dpr       ...        sale_nwc  rd_sale  adv_sale  staff_sale  \\\n",
       "1530  9.957  0.623       ...          1.4240    0.136     0.058       0.000   \n",
       "1397  8.509  2.175       ...          4.9910    0.031     0.000       0.000   \n",
       "2238  1.993  0.337       ...          5.8105    0.000     0.024       0.291   \n",
       "\n",
       "      accrual    ptb  PEG_trailing  divyield  PEG_1yrforward  PEG_ltgforward  \n",
       "1530    0.048  1.811         1.181    0.0354          13.678           5.963  \n",
       "1397    0.047  2.189         0.668    0.0398           1.521           5.702  \n",
       "2238    0.038  1.076         3.048    0.0268           0.380           2.248  \n",
       "\n",
       "[3 rows x 71 columns]"
      ]
     },
     "metadata": {},
     "output_type": "display_data"
    },
    {
     "name": "stdout",
     "output_type": "stream",
     "text": [
      "\n",
      "\n",
      "Response Vector y_train, Shape = (2836, 1)\n"
     ]
    },
    {
     "data": {
      "text/html": [
       "<div>\n",
       "<style scoped>\n",
       "    .dataframe tbody tr th:only-of-type {\n",
       "        vertical-align: middle;\n",
       "    }\n",
       "\n",
       "    .dataframe tbody tr th {\n",
       "        vertical-align: top;\n",
       "    }\n",
       "\n",
       "    .dataframe thead th {\n",
       "        text-align: right;\n",
       "    }\n",
       "</style>\n",
       "<table border=\"1\" class=\"dataframe\">\n",
       "  <thead>\n",
       "    <tr style=\"text-align: right;\">\n",
       "      <th></th>\n",
       "      <th>0</th>\n",
       "    </tr>\n",
       "  </thead>\n",
       "  <tbody>\n",
       "    <tr>\n",
       "      <th>1530</th>\n",
       "      <td>0</td>\n",
       "    </tr>\n",
       "    <tr>\n",
       "      <th>1397</th>\n",
       "      <td>1</td>\n",
       "    </tr>\n",
       "    <tr>\n",
       "      <th>2238</th>\n",
       "      <td>0</td>\n",
       "    </tr>\n",
       "  </tbody>\n",
       "</table>\n",
       "</div>"
      ],
      "text/plain": [
       "      0\n",
       "1530  0\n",
       "1397  1\n",
       "2238  0"
      ]
     },
     "metadata": {},
     "output_type": "display_data"
    }
   ],
   "source": [
    "# Check if there is the approximately same percentage of '1' the train response vector\n",
    "print('Ratio of \"UP\" (Train) = ' + str(round(y_train['0'].sum() / y_train.size, 4)*100) + '%', '\\n')\n",
    "\n",
    "# Print and display properties and head of the training set we will use in the following\n",
    "print('Shape of Feature Matrix X_train = ' + str(X_train.shape), '\\n')\n",
    "print('Feature Matrix X_train: (below)')\n",
    "display(X_train.head(3))\n",
    "print('\\n')\n",
    "print('Response Vector y_train, Shape = '+str(y_train.shape))\n",
    "display(y_train.head(3))"
   ]
  },
  {
   "cell_type": "markdown",
   "metadata": {},
   "source": [
    "### Test set"
   ]
  },
  {
   "cell_type": "code",
   "execution_count": 8,
   "metadata": {},
   "outputs": [
    {
     "name": "stdout",
     "output_type": "stream",
     "text": [
      "Ratio of \"UP\" (Test)  =  57.04% \n",
      "\n",
      "Shape of Feature Matrix X_test = (710, 71) \n",
      "\n",
      "Feature Matrix X_test\n"
     ]
    },
    {
     "data": {
      "text/html": [
       "<div>\n",
       "<style scoped>\n",
       "    .dataframe tbody tr th:only-of-type {\n",
       "        vertical-align: middle;\n",
       "    }\n",
       "\n",
       "    .dataframe tbody tr th {\n",
       "        vertical-align: top;\n",
       "    }\n",
       "\n",
       "    .dataframe thead th {\n",
       "        text-align: right;\n",
       "    }\n",
       "</style>\n",
       "<table border=\"1\" class=\"dataframe\">\n",
       "  <thead>\n",
       "    <tr style=\"text-align: right;\">\n",
       "      <th></th>\n",
       "      <th>CAPEI</th>\n",
       "      <th>bm</th>\n",
       "      <th>evm</th>\n",
       "      <th>pe_op_basic</th>\n",
       "      <th>pe_op_dil</th>\n",
       "      <th>pe_exi</th>\n",
       "      <th>pe_inc</th>\n",
       "      <th>ps</th>\n",
       "      <th>pcf</th>\n",
       "      <th>dpr</th>\n",
       "      <th>...</th>\n",
       "      <th>sale_nwc</th>\n",
       "      <th>rd_sale</th>\n",
       "      <th>adv_sale</th>\n",
       "      <th>staff_sale</th>\n",
       "      <th>accrual</th>\n",
       "      <th>ptb</th>\n",
       "      <th>PEG_trailing</th>\n",
       "      <th>divyield</th>\n",
       "      <th>PEG_1yrforward</th>\n",
       "      <th>PEG_ltgforward</th>\n",
       "    </tr>\n",
       "  </thead>\n",
       "  <tbody>\n",
       "    <tr>\n",
       "      <th>817</th>\n",
       "      <td>20.983</td>\n",
       "      <td>0.254</td>\n",
       "      <td>8.585</td>\n",
       "      <td>16.127</td>\n",
       "      <td>16.224</td>\n",
       "      <td>16.224</td>\n",
       "      <td>16.224</td>\n",
       "      <td>3.318</td>\n",
       "      <td>10.484</td>\n",
       "      <td>0.287</td>\n",
       "      <td>...</td>\n",
       "      <td>6.768</td>\n",
       "      <td>0.031</td>\n",
       "      <td>0.006</td>\n",
       "      <td>0.000</td>\n",
       "      <td>0.084</td>\n",
       "      <td>4.189</td>\n",
       "      <td>1.022</td>\n",
       "      <td>0.0187</td>\n",
       "      <td>1.414</td>\n",
       "      <td>1.330</td>\n",
       "    </tr>\n",
       "    <tr>\n",
       "      <th>2592</th>\n",
       "      <td>21.663</td>\n",
       "      <td>0.235</td>\n",
       "      <td>13.619</td>\n",
       "      <td>16.311</td>\n",
       "      <td>16.489</td>\n",
       "      <td>18.555</td>\n",
       "      <td>18.555</td>\n",
       "      <td>2.379</td>\n",
       "      <td>7.709</td>\n",
       "      <td>0.199</td>\n",
       "      <td>...</td>\n",
       "      <td>7.169</td>\n",
       "      <td>0.000</td>\n",
       "      <td>0.000</td>\n",
       "      <td>0.195</td>\n",
       "      <td>0.039</td>\n",
       "      <td>4.281</td>\n",
       "      <td>1.147</td>\n",
       "      <td>0.0122</td>\n",
       "      <td>1.737</td>\n",
       "      <td>1.572</td>\n",
       "    </tr>\n",
       "    <tr>\n",
       "      <th>1475</th>\n",
       "      <td>16.327</td>\n",
       "      <td>0.513</td>\n",
       "      <td>6.716</td>\n",
       "      <td>9.520</td>\n",
       "      <td>9.520</td>\n",
       "      <td>15.681</td>\n",
       "      <td>15.550</td>\n",
       "      <td>3.293</td>\n",
       "      <td>8.490</td>\n",
       "      <td>0.792</td>\n",
       "      <td>...</td>\n",
       "      <td>1.286</td>\n",
       "      <td>0.162</td>\n",
       "      <td>0.054</td>\n",
       "      <td>0.000</td>\n",
       "      <td>0.077</td>\n",
       "      <td>2.198</td>\n",
       "      <td>1.022</td>\n",
       "      <td>0.0343</td>\n",
       "      <td>-0.973</td>\n",
       "      <td>6.149</td>\n",
       "    </tr>\n",
       "  </tbody>\n",
       "</table>\n",
       "<p>3 rows × 71 columns</p>\n",
       "</div>"
      ],
      "text/plain": [
       "       CAPEI     bm     evm  pe_op_basic  pe_op_dil  pe_exi  pe_inc     ps  \\\n",
       "817   20.983  0.254   8.585       16.127     16.224  16.224  16.224  3.318   \n",
       "2592  21.663  0.235  13.619       16.311     16.489  18.555  18.555  2.379   \n",
       "1475  16.327  0.513   6.716        9.520      9.520  15.681  15.550  3.293   \n",
       "\n",
       "         pcf    dpr       ...        sale_nwc  rd_sale  adv_sale  staff_sale  \\\n",
       "817   10.484  0.287       ...           6.768    0.031     0.006       0.000   \n",
       "2592   7.709  0.199       ...           7.169    0.000     0.000       0.195   \n",
       "1475   8.490  0.792       ...           1.286    0.162     0.054       0.000   \n",
       "\n",
       "      accrual    ptb  PEG_trailing  divyield  PEG_1yrforward  PEG_ltgforward  \n",
       "817     0.084  4.189         1.022    0.0187           1.414           1.330  \n",
       "2592    0.039  4.281         1.147    0.0122           1.737           1.572  \n",
       "1475    0.077  2.198         1.022    0.0343          -0.973           6.149  \n",
       "\n",
       "[3 rows x 71 columns]"
      ]
     },
     "metadata": {},
     "output_type": "display_data"
    },
    {
     "name": "stdout",
     "output_type": "stream",
     "text": [
      "\n",
      "\n",
      "Response Vector y_test, Shape = (710, 1)\n"
     ]
    },
    {
     "data": {
      "text/html": [
       "<div>\n",
       "<style scoped>\n",
       "    .dataframe tbody tr th:only-of-type {\n",
       "        vertical-align: middle;\n",
       "    }\n",
       "\n",
       "    .dataframe tbody tr th {\n",
       "        vertical-align: top;\n",
       "    }\n",
       "\n",
       "    .dataframe thead th {\n",
       "        text-align: right;\n",
       "    }\n",
       "</style>\n",
       "<table border=\"1\" class=\"dataframe\">\n",
       "  <thead>\n",
       "    <tr style=\"text-align: right;\">\n",
       "      <th></th>\n",
       "      <th>0</th>\n",
       "    </tr>\n",
       "  </thead>\n",
       "  <tbody>\n",
       "    <tr>\n",
       "      <th>817</th>\n",
       "      <td>1</td>\n",
       "    </tr>\n",
       "    <tr>\n",
       "      <th>2592</th>\n",
       "      <td>0</td>\n",
       "    </tr>\n",
       "    <tr>\n",
       "      <th>1475</th>\n",
       "      <td>1</td>\n",
       "    </tr>\n",
       "  </tbody>\n",
       "</table>\n",
       "</div>"
      ],
      "text/plain": [
       "      0\n",
       "817   1\n",
       "2592  0\n",
       "1475  1"
      ]
     },
     "metadata": {},
     "output_type": "display_data"
    }
   ],
   "source": [
    "# Check if there is the approximately same percentage of '1' in the test response vector\n",
    "print('Ratio of \"UP\" (Test)  =  ' + str(round(y_test['0'].sum() / y_test.size, 4)*100) + '%', '\\n')\n",
    "\n",
    "# Print and display properties and head of the training set we will use in the following\n",
    "print('Shape of Feature Matrix X_test = ' + str(X_test.shape), '\\n')\n",
    "print('Feature Matrix X_test')\n",
    "display(X_test.head(3))\n",
    "print('\\n')\n",
    "print('Response Vector y_test, Shape = '+str(y_test.shape))\n",
    "display(y_test.head(3))"
   ]
  },
  {
   "cell_type": "markdown",
   "metadata": {},
   "source": [
    "###    \n",
    "## 2.2. Selecting & Extracting Features"
   ]
  },
  {
   "cell_type": "markdown",
   "metadata": {},
   "source": [
    "### 2.2.1.  Fit forest and show list of best 'n' features according to explanatory value"
   ]
  },
  {
   "cell_type": "markdown",
   "metadata": {},
   "source": [
    "# ===> MATHIAS LOOP FOR RUNNING THE CODE WITH  random_state 0 to 10 and then select best n features\n",
    "\n",
    "HEY MATHIAS I HA DUNGER VERSUECHT E LOOP Z MACHE, WEISS ABER NID OBS SO STIMMT^^.\n",
    "I HAS LEIDER NID SCHÖNER HEREBRACHT, VIU SPASS^^.                                                                            \n",
    "ACHJA UND ES PAAR COMMENTS CHAME GLOUB WEGCLEANE."
   ]
  },
  {
   "cell_type": "code",
   "execution_count": 9,
   "metadata": {},
   "outputs": [
    {
     "name": "stdout",
     "output_type": "stream",
     "text": [
      "At the end of the loop, rs = 10\n"
     ]
    },
    {
     "data": {
      "text/html": [
       "<div>\n",
       "<style scoped>\n",
       "    .dataframe tbody tr th:only-of-type {\n",
       "        vertical-align: middle;\n",
       "    }\n",
       "\n",
       "    .dataframe tbody tr th {\n",
       "        vertical-align: top;\n",
       "    }\n",
       "\n",
       "    .dataframe thead th {\n",
       "        text-align: right;\n",
       "    }\n",
       "</style>\n",
       "<table border=\"1\" class=\"dataframe\">\n",
       "  <thead>\n",
       "    <tr style=\"text-align: right;\">\n",
       "      <th></th>\n",
       "      <th>Feature_Label</th>\n",
       "      <th>Feature_Importance</th>\n",
       "    </tr>\n",
       "  </thead>\n",
       "  <tbody>\n",
       "    <tr>\n",
       "      <th>0</th>\n",
       "      <td>CAPEI</td>\n",
       "      <td>0.064183</td>\n",
       "    </tr>\n",
       "    <tr>\n",
       "      <th>1</th>\n",
       "      <td>pcf</td>\n",
       "      <td>0.064088</td>\n",
       "    </tr>\n",
       "    <tr>\n",
       "      <th>2</th>\n",
       "      <td>pe_op_basic</td>\n",
       "      <td>0.056039</td>\n",
       "    </tr>\n",
       "    <tr>\n",
       "      <th>3</th>\n",
       "      <td>bm</td>\n",
       "      <td>0.055255</td>\n",
       "    </tr>\n",
       "    <tr>\n",
       "      <th>4</th>\n",
       "      <td>ptb</td>\n",
       "      <td>0.040446</td>\n",
       "    </tr>\n",
       "  </tbody>\n",
       "</table>\n",
       "</div>"
      ],
      "text/plain": [
       "  Feature_Label  Feature_Importance\n",
       "0         CAPEI            0.064183\n",
       "1           pcf            0.064088\n",
       "2   pe_op_basic            0.056039\n",
       "3            bm            0.055255\n",
       "4           ptb            0.040446"
      ]
     },
     "metadata": {},
     "output_type": "display_data"
    }
   ],
   "source": [
    "################################## NEW\n",
    "##################################\n",
    "\n",
    "# rs = first random state we choose, \n",
    "# n = number of best features we want to select out, \n",
    "# m = number of random states we want to have tried out\n",
    "rs = 0\n",
    "n = 20\n",
    "m = 10\n",
    "\n",
    "# define new empty lists\n",
    "df_lab = []\n",
    "df_imp = []\n",
    "\n",
    "# Loop until random_state = rs = 10\n",
    "while rs < m:\n",
    "    forest = RandomForestClassifier(random_state = rs)\n",
    "    forest.max_depth = 6\n",
    "    forest.fit(X_train, y_train)\n",
    "    \n",
    "    # Apply forest fature importance to get an array of feature importances for each feature\n",
    "    feature_importances = forest.feature_importances_\n",
    "    #print('ALL FEATURE IMPORTANCES for respective random_state: ')\n",
    "    #display(feature_importances)\n",
    "    \n",
    "    # sort features in line with their importance for the prediction (therefore ::-1)\n",
    "    indices = np.argsort(feature_importances)[::-1]\n",
    "    #print('INDICES SORTED: ')\n",
    "    #display(indices)\n",
    "\n",
    "    # for loop to make usable fature_labels\n",
    "    for i in range(n):\n",
    "        \n",
    "        # This is a workaround method because feature_labels[indices[:n]] gives the following error message:\n",
    "        # TypeError: only integer scalar arrays can be converted to a scalar index\n",
    "        # therefore we make a loop to generate a listwhere the best n features labels are extracted into\n",
    "        # this list can be used in the plot in the following\n",
    "        selected_indices = indices[0+i]\n",
    "        \n",
    "        # feature_labels of selected indices\n",
    "        selected_labels = feature_labels[selected_indices]\n",
    "        # append all\n",
    "        df_lab.append(selected_labels)\n",
    "   \n",
    "\n",
    "    # for loop: i in range(n=15): we want to make datasets of all 15 best features\n",
    "    for j in range(n):\n",
    "        df_imp.append(feature_importances[indices[0+j]])\n",
    "\n",
    "    rs += 1\n",
    "\n",
    "\n",
    "print('At the end of the loop, rs = ' + str(rs))\n",
    "#display(np.array(df_lab))\n",
    "#display(np.array(df_imp))\n",
    "\n",
    "# Create Pandas DataFrame with the two extractes feature labels and respective feature importances\n",
    "best_features_overall = pd.DataFrame()\n",
    "best_features_overall['Feature_Label'] = df_lab\n",
    "best_features_overall['Feature_Importance'] = df_imp\n",
    "display(best_features_overall.head())\n",
    "\n",
    "del rs, m"
   ]
  },
  {
   "cell_type": "code",
   "execution_count": 10,
   "metadata": {},
   "outputs": [],
   "source": [
    "#### OLD, MAYBE USELESS NOW\n",
    "# print best n features\n",
    "#n = 15\n",
    "#for i in range(n):\n",
    " #   print('{0:2d} {1:7s} {2:6.4f}'.format(i + 1, feature_labels[indices[i]], \n",
    "                                     #     feature_importances[indices[i]]))\n",
    "#del i\n"
   ]
  },
  {
   "cell_type": "code",
   "execution_count": 11,
   "metadata": {},
   "outputs": [
    {
     "data": {
      "text/plain": [
       "Feature_Label           object\n",
       "Feat_Cum_Importance    float64\n",
       "dtype: object"
      ]
     },
     "metadata": {},
     "output_type": "display_data"
    },
    {
     "name": "stdout",
     "output_type": "stream",
     "text": [
      "This are the best features with their respective cumulative importance over all 10 random_states:\n"
     ]
    },
    {
     "data": {
      "text/html": [
       "<div>\n",
       "<style scoped>\n",
       "    .dataframe tbody tr th:only-of-type {\n",
       "        vertical-align: middle;\n",
       "    }\n",
       "\n",
       "    .dataframe tbody tr th {\n",
       "        vertical-align: top;\n",
       "    }\n",
       "\n",
       "    .dataframe thead th {\n",
       "        text-align: right;\n",
       "    }\n",
       "</style>\n",
       "<table border=\"1\" class=\"dataframe\">\n",
       "  <thead>\n",
       "    <tr style=\"text-align: right;\">\n",
       "      <th></th>\n",
       "      <th>Feature_Label</th>\n",
       "      <th>Feat_Cum_Importance</th>\n",
       "    </tr>\n",
       "  </thead>\n",
       "  <tbody>\n",
       "    <tr>\n",
       "      <th>0</th>\n",
       "      <td>pe_op_dil</td>\n",
       "      <td>0.521871</td>\n",
       "    </tr>\n",
       "    <tr>\n",
       "      <th>1</th>\n",
       "      <td>pe_op_basic</td>\n",
       "      <td>0.438832</td>\n",
       "    </tr>\n",
       "    <tr>\n",
       "      <th>2</th>\n",
       "      <td>CAPEI</td>\n",
       "      <td>0.412361</td>\n",
       "    </tr>\n",
       "    <tr>\n",
       "      <th>3</th>\n",
       "      <td>pe_exi</td>\n",
       "      <td>0.399039</td>\n",
       "    </tr>\n",
       "    <tr>\n",
       "      <th>4</th>\n",
       "      <td>pcf</td>\n",
       "      <td>0.372741</td>\n",
       "    </tr>\n",
       "    <tr>\n",
       "      <th>5</th>\n",
       "      <td>divyield</td>\n",
       "      <td>0.349554</td>\n",
       "    </tr>\n",
       "    <tr>\n",
       "      <th>6</th>\n",
       "      <td>bm</td>\n",
       "      <td>0.349037</td>\n",
       "    </tr>\n",
       "    <tr>\n",
       "      <th>7</th>\n",
       "      <td>PEG_ltgforward</td>\n",
       "      <td>0.324193</td>\n",
       "    </tr>\n",
       "    <tr>\n",
       "      <th>8</th>\n",
       "      <td>ptb</td>\n",
       "      <td>0.309132</td>\n",
       "    </tr>\n",
       "    <tr>\n",
       "      <th>9</th>\n",
       "      <td>pe_inc</td>\n",
       "      <td>0.251292</td>\n",
       "    </tr>\n",
       "    <tr>\n",
       "      <th>10</th>\n",
       "      <td>PEG_1yrforward</td>\n",
       "      <td>0.245762</td>\n",
       "    </tr>\n",
       "    <tr>\n",
       "      <th>11</th>\n",
       "      <td>evm</td>\n",
       "      <td>0.234632</td>\n",
       "    </tr>\n",
       "    <tr>\n",
       "      <th>12</th>\n",
       "      <td>ps</td>\n",
       "      <td>0.230544</td>\n",
       "    </tr>\n",
       "    <tr>\n",
       "      <th>13</th>\n",
       "      <td>fcf_ocf</td>\n",
       "      <td>0.095994</td>\n",
       "    </tr>\n",
       "    <tr>\n",
       "      <th>14</th>\n",
       "      <td>invt_act</td>\n",
       "      <td>0.081486</td>\n",
       "    </tr>\n",
       "    <tr>\n",
       "      <th>15</th>\n",
       "      <td>at_turn</td>\n",
       "      <td>0.075788</td>\n",
       "    </tr>\n",
       "    <tr>\n",
       "      <th>16</th>\n",
       "      <td>pretret_noa</td>\n",
       "      <td>0.072979</td>\n",
       "    </tr>\n",
       "    <tr>\n",
       "      <th>17</th>\n",
       "      <td>gpm</td>\n",
       "      <td>0.072917</td>\n",
       "    </tr>\n",
       "    <tr>\n",
       "      <th>18</th>\n",
       "      <td>dpr</td>\n",
       "      <td>0.071870</td>\n",
       "    </tr>\n",
       "    <tr>\n",
       "      <th>19</th>\n",
       "      <td>PEG_trailing</td>\n",
       "      <td>0.061782</td>\n",
       "    </tr>\n",
       "  </tbody>\n",
       "</table>\n",
       "</div>"
      ],
      "text/plain": [
       "     Feature_Label  Feat_Cum_Importance\n",
       "0        pe_op_dil             0.521871\n",
       "1      pe_op_basic             0.438832\n",
       "2            CAPEI             0.412361\n",
       "3           pe_exi             0.399039\n",
       "4              pcf             0.372741\n",
       "5         divyield             0.349554\n",
       "6               bm             0.349037\n",
       "7   PEG_ltgforward             0.324193\n",
       "8              ptb             0.309132\n",
       "9           pe_inc             0.251292\n",
       "10  PEG_1yrforward             0.245762\n",
       "11             evm             0.234632\n",
       "12              ps             0.230544\n",
       "13         fcf_ocf             0.095994\n",
       "14        invt_act             0.081486\n",
       "15         at_turn             0.075788\n",
       "16     pretret_noa             0.072979\n",
       "17             gpm             0.072917\n",
       "18             dpr             0.071870\n",
       "19    PEG_trailing             0.061782"
      ]
     },
     "metadata": {},
     "output_type": "display_data"
    },
    {
     "data": {
      "text/plain": [
       "Feature_Label         0.0\n",
       "Feature_Importance    0.0\n",
       "dtype: float64"
      ]
     },
     "metadata": {},
     "output_type": "display_data"
    }
   ],
   "source": [
    "################################## NEW\n",
    "##################################\n",
    "\n",
    "# Group the new dataframe by the labels of the features and sum up each importance for each feature\n",
    "best_features_cumsum = best_features_overall.groupby('Feature_Label')['Feature_Importance'].sum()\n",
    "best_features_cumsum = best_features_cumsum.reset_index()\n",
    "# Rename column\n",
    "best_features_cumsum.rename(columns= {'Feature_Importance':'Feat_Cum_Importance'},inplace = True)\n",
    "# Show types\n",
    "display(best_features_cumsum.dtypes)\n",
    "\n",
    "# Sort Feature Importance in \n",
    "best_features_cumsum.sort_values(by=['Feat_Cum_Importance'], ascending = False, inplace = True)\n",
    "best_features_cumsum.reset_index(drop=True, inplace = True)\n",
    "\n",
    "# Print the resulting dataframe\n",
    "print('This are the best features with their respective cumulative importance over all 10 random_states:')\n",
    "display(best_features_cumsum.head(n))\n",
    "\n",
    "##### Double Check if the results are correct: Insert the Feature you want to check (e.g. 'ASKHI')\n",
    "# Compare result with the result in the dataframe\n",
    "sum1 = best_features_overall.loc[best_features_overall['Feature_Label'] == 'ASKHI'].sum()\n",
    "display(sum1)\n",
    "\n"
   ]
  },
  {
   "cell_type": "markdown",
   "metadata": {},
   "source": [
    "# ! PROBLEM: THE OVERALL BEST 4 FEATURES ARE WEIGHTED RETURNS!\n"
   ]
  },
  {
   "cell_type": "markdown",
   "metadata": {},
   "source": [
    "### 2.2.2.  Plotting results"
   ]
  },
  {
   "cell_type": "markdown",
   "metadata": {},
   "source": [
    "HERE: FOR SELECTION INCLUDING WEIGHTED RETURNS\n",
    "    OTHERWISE SET n = 15 + 4"
   ]
  },
  {
   "cell_type": "code",
   "execution_count": 12,
   "metadata": {},
   "outputs": [
    {
     "name": "stdout",
     "output_type": "stream",
     "text": [
      "sum_fat_imp: \n"
     ]
    },
    {
     "data": {
      "text/plain": [
       "0     0.521871\n",
       "1     0.960703\n",
       "2     1.373065\n",
       "3     1.772103\n",
       "4     2.144845\n",
       "5     2.494399\n",
       "6     2.843436\n",
       "7     3.167629\n",
       "8     3.476761\n",
       "9     3.728054\n",
       "10    3.973816\n",
       "11    4.208448\n",
       "12    4.438992\n",
       "13    4.534986\n",
       "14    4.616472\n",
       "15    4.692260\n",
       "16    4.765239\n",
       "17    4.838156\n",
       "18    4.910026\n",
       "19    4.971808\n",
       "Name: Feat_Cum_Importance, dtype: float64"
      ]
     },
     "metadata": {},
     "output_type": "display_data"
    },
    {
     "name": "stdout",
     "output_type": "stream",
     "text": [
      "individual_feat_imp: \n"
     ]
    },
    {
     "data": {
      "text/plain": [
       "0     0.521871\n",
       "1     0.438832\n",
       "2     0.412361\n",
       "3     0.399039\n",
       "4     0.372741\n",
       "5     0.349554\n",
       "6     0.349037\n",
       "7     0.324193\n",
       "8     0.309132\n",
       "9     0.251292\n",
       "10    0.245762\n",
       "11    0.234632\n",
       "12    0.230544\n",
       "13    0.095994\n",
       "14    0.081486\n",
       "15    0.075788\n",
       "16    0.072979\n",
       "17    0.072917\n",
       "18    0.071870\n",
       "19    0.061782\n",
       "Name: Feat_Cum_Importance, dtype: float64"
      ]
     },
     "metadata": {},
     "output_type": "display_data"
    },
    {
     "data": {
      "image/png": "[encoded data removed]",
      "text/plain": [
       "<matplotlib.figure.Figure at 0x7f62fffbc860>"
      ]
     },
     "metadata": {},
     "output_type": "display_data"
    }
   ],
   "source": [
    "################################## NEW\n",
    "##################################\n",
    "n = n\n",
    "\n",
    "### OLD, when we made just one randomstate\n",
    "# Get cumsum of the n most important features\n",
    "#sum_feat_imp = np.cumsum(feature_importances)[:n]\n",
    "#display(sum_feat_imp)\n",
    "# Sort feature importances\n",
    "#feat_imp = np.sort(feature_importances)[::-1]\n",
    "#display(feat_imp)\n",
    "\n",
    "### NEW\n",
    "# Get cumulative importance of n most important features\n",
    "sum_feat_imp = np.cumsum(best_features_cumsum.Feat_Cum_Importance)[:n]\n",
    "print('sum_fat_imp: ')\n",
    "display(sum_feat_imp)\n",
    "individual_feat_imp = best_features_cumsum.Feat_Cum_Importance[:n]\n",
    "print('individual_feat_imp: ')\n",
    "display(individual_feat_imp)\n",
    "# Get corresponsing feature labels\n",
    "feat_lab = best_features_cumsum.Feature_Label[:n]\n",
    "\n",
    "# Plot Feature Importance (both cumulative and individual)\n",
    "plt.figure(figsize = (10, 5))\n",
    "plt.title('Feature Importances')\n",
    "plt.bar(range(n), individual_feat_imp, align = 'center')\n",
    "plt.xticks(range(n), feat_lab, rotation = 90)\n",
    "plt.xlim([-1, n])\n",
    "plt.xlabel('Features')\n",
    "plt.ylabel('Relative Feature Importance')\n",
    "plt.step(range(n), sum_feat_imp, where = 'mid', label = 'Cumulative Feature Importance')\n",
    "plt.tight_layout();"
   ]
  },
  {
   "cell_type": "markdown",
   "metadata": {},
   "source": [
    "### 2.2.3. Extract best 'n' Variables and save into new Feature Matrices\n"
   ]
  },
  {
   "cell_type": "markdown",
   "metadata": {},
   "source": [
    "### Extract\n",
    "\n",
    "Automatically etract the chosen number n best variables directly from the feature matrices X_train and X_test into new ones X_train_f and X_test_f.                                                                                                                \n",
    "The f in the end stands for feature selection with random'f'orest.\n"
   ]
  },
  {
   "cell_type": "code",
   "execution_count": 13,
   "metadata": {},
   "outputs": [
    {
     "name": "stdout",
     "output_type": "stream",
     "text": [
      "Selected Features including weighted returns:\n"
     ]
    },
    {
     "data": {
      "text/plain": [
       "0          pe_op_dil\n",
       "1        pe_op_basic\n",
       "2              CAPEI\n",
       "3             pe_exi\n",
       "4                pcf\n",
       "5           divyield\n",
       "6                 bm\n",
       "7     PEG_ltgforward\n",
       "8                ptb\n",
       "9             pe_inc\n",
       "10    PEG_1yrforward\n",
       "11               evm\n",
       "12                ps\n",
       "13           fcf_ocf\n",
       "14          invt_act\n",
       "15           at_turn\n",
       "16       pretret_noa\n",
       "17               gpm\n",
       "18               dpr\n",
       "19      PEG_trailing\n",
       "Name: Feature_Label, dtype: object"
      ]
     },
     "metadata": {},
     "output_type": "display_data"
    },
    {
     "name": "stdout",
     "output_type": "stream",
     "text": [
      "\n",
      "Selected Features without weighted returns:\n"
     ]
    },
    {
     "data": {
      "text/plain": [
       "0                pcf\n",
       "1           divyield\n",
       "2                 bm\n",
       "3     PEG_ltgforward\n",
       "4                ptb\n",
       "5             pe_inc\n",
       "6     PEG_1yrforward\n",
       "7                evm\n",
       "8                 ps\n",
       "9            fcf_ocf\n",
       "10          invt_act\n",
       "11           at_turn\n",
       "12       pretret_noa\n",
       "13               gpm\n",
       "14               dpr\n",
       "15      PEG_trailing\n",
       "16         curr_debt\n",
       "17        short_debt\n",
       "18              roce\n",
       "19             GProf\n",
       "Name: Feature_Label, dtype: object"
      ]
     },
     "metadata": {},
     "output_type": "display_data"
    }
   ],
   "source": [
    "################################## NEW\n",
    "##################################\n",
    "\n",
    "# Extract the overall n best features INCLUDING the weighted returns\n",
    "# remember, we set n = 15 in the beginning for the randomforest in section 2.2.1.\n",
    "final_selection1 = best_features_cumsum.Feature_Label[0:n]\n",
    "print('Selected Features including weighted returns:')\n",
    "display(final_selection1)\n",
    "print(\"\")\n",
    "# save as list for further use\n",
    "final_selection1 = list(final_selection1)\n",
    "\n",
    "\n",
    "# Extract the overall n best features EXCLUDING the weighted returns\n",
    "m = n + 4\n",
    "final_selection2 = best_features_cumsum.Feature_Label[4:m]\n",
    "final_selection2.reset_index(drop = True, inplace = True)\n",
    "print('Selected Features without weighted returns:')\n",
    "display(final_selection2)\n",
    "# save as list for further use\n",
    "final_selection2 = list(final_selection2)"
   ]
  },
  {
   "cell_type": "code",
   "execution_count": 14,
   "metadata": {},
   "outputs": [],
   "source": [
    "################################## NEW\n",
    "##################################\n",
    "\n",
    "# features including volume weighted returns\n",
    "best_features1 = final_selection1\n",
    "# feaures excluding volume weighted returns\n",
    "best_features2 = final_selection2\n",
    "\n",
    "# extract features from feature matrix\n",
    "X_train_f1 = X_train[best_features1]\n",
    "X_train_f = X_train[best_features2]\n",
    "X_test_f1 = X_test[best_features1]\n",
    "X_test_f = X_test[best_features2]\n",
    "\n",
    "#feature_labels_f = X_train_f.columns[:]"
   ]
  },
  {
   "cell_type": "code",
   "execution_count": 15,
   "metadata": {},
   "outputs": [],
   "source": [
    "#### OLD\n",
    "\n",
    "# generate new empty list for best features to be extracted into\n",
    "#best_features = []\n",
    "\n",
    "# loop to append best n features onto the new list best_features\n",
    "#n = 15\n",
    "#for i in range(n):\n",
    " #   best_features.append(feature_labels[indices[i]])\n",
    "#del i\n",
    "\n",
    "# extract data of train and test feature matrix where column names are the same as those of the n best features\n",
    "# The f at the end of the datasets refer to the fact that the features were selected with random'f'orest\n",
    "#X_train_f = X_train[best_features]\n",
    "#X_test_f = X_test[best_features]\n",
    "#feature_labels_f = X_train_f.columns[:]\n",
    "\n",
    "# display and print results\n",
    "#print('Best Features after Random Forest are: ', '\\n')\n",
    "#display(np.array(best_features))\n",
    "#print('Head of X_train_f is: (below) ', '\\n')\n",
    "#display(X_train_f.head(2))\n",
    "#print('\\n')\n",
    "#print('Extracted feature labels are: (below)')\n",
    "#display(feature_labels_f[:])"
   ]
  },
  {
   "cell_type": "code",
   "execution_count": 16,
   "metadata": {},
   "outputs": [
    {
     "name": "stdout",
     "output_type": "stream",
     "text": [
      "\n",
      "Feature Matrix with selected Features (Train):\n"
     ]
    },
    {
     "data": {
      "text/html": [
       "<div>\n",
       "<style scoped>\n",
       "    .dataframe tbody tr th:only-of-type {\n",
       "        vertical-align: middle;\n",
       "    }\n",
       "\n",
       "    .dataframe tbody tr th {\n",
       "        vertical-align: top;\n",
       "    }\n",
       "\n",
       "    .dataframe thead th {\n",
       "        text-align: right;\n",
       "    }\n",
       "</style>\n",
       "<table border=\"1\" class=\"dataframe\">\n",
       "  <thead>\n",
       "    <tr style=\"text-align: right;\">\n",
       "      <th></th>\n",
       "      <th>pe_op_dil</th>\n",
       "      <th>pe_op_basic</th>\n",
       "      <th>CAPEI</th>\n",
       "      <th>pe_exi</th>\n",
       "      <th>pcf</th>\n",
       "      <th>divyield</th>\n",
       "      <th>bm</th>\n",
       "      <th>PEG_ltgforward</th>\n",
       "      <th>ptb</th>\n",
       "      <th>pe_inc</th>\n",
       "      <th>PEG_1yrforward</th>\n",
       "      <th>evm</th>\n",
       "      <th>ps</th>\n",
       "      <th>fcf_ocf</th>\n",
       "      <th>invt_act</th>\n",
       "      <th>at_turn</th>\n",
       "      <th>pretret_noa</th>\n",
       "      <th>gpm</th>\n",
       "      <th>dpr</th>\n",
       "      <th>PEG_trailing</th>\n",
       "    </tr>\n",
       "  </thead>\n",
       "  <tbody>\n",
       "    <tr>\n",
       "      <th>1530</th>\n",
       "      <td>15.633</td>\n",
       "      <td>15.468</td>\n",
       "      <td>20.773</td>\n",
       "      <td>18.484</td>\n",
       "      <td>9.957</td>\n",
       "      <td>0.0354</td>\n",
       "      <td>0.547</td>\n",
       "      <td>5.963</td>\n",
       "      <td>1.811</td>\n",
       "      <td>18.484</td>\n",
       "      <td>13.678</td>\n",
       "      <td>10.644</td>\n",
       "      <td>3.703</td>\n",
       "      <td>0.932</td>\n",
       "      <td>0.108</td>\n",
       "      <td>0.291</td>\n",
       "      <td>0.332</td>\n",
       "      <td>0.843</td>\n",
       "      <td>0.623</td>\n",
       "      <td>1.181</td>\n",
       "    </tr>\n",
       "    <tr>\n",
       "      <th>1397</th>\n",
       "      <td>17.296</td>\n",
       "      <td>17.203</td>\n",
       "      <td>25.089</td>\n",
       "      <td>39.232</td>\n",
       "      <td>8.509</td>\n",
       "      <td>0.0398</td>\n",
       "      <td>0.461</td>\n",
       "      <td>5.702</td>\n",
       "      <td>2.189</td>\n",
       "      <td>39.232</td>\n",
       "      <td>1.521</td>\n",
       "      <td>9.246</td>\n",
       "      <td>0.689</td>\n",
       "      <td>0.441</td>\n",
       "      <td>0.368</td>\n",
       "      <td>0.815</td>\n",
       "      <td>0.146</td>\n",
       "      <td>0.201</td>\n",
       "      <td>2.175</td>\n",
       "      <td>0.668</td>\n",
       "    </tr>\n",
       "  </tbody>\n",
       "</table>\n",
       "</div>"
      ],
      "text/plain": [
       "      pe_op_dil  pe_op_basic   CAPEI  pe_exi    pcf  divyield     bm  \\\n",
       "1530     15.633       15.468  20.773  18.484  9.957    0.0354  0.547   \n",
       "1397     17.296       17.203  25.089  39.232  8.509    0.0398  0.461   \n",
       "\n",
       "      PEG_ltgforward    ptb  pe_inc  PEG_1yrforward     evm     ps  fcf_ocf  \\\n",
       "1530           5.963  1.811  18.484          13.678  10.644  3.703    0.932   \n",
       "1397           5.702  2.189  39.232           1.521   9.246  0.689    0.441   \n",
       "\n",
       "      invt_act  at_turn  pretret_noa    gpm    dpr  PEG_trailing  \n",
       "1530     0.108    0.291        0.332  0.843  0.623         1.181  \n",
       "1397     0.368    0.815        0.146  0.201  2.175         0.668  "
      ]
     },
     "metadata": {},
     "output_type": "display_data"
    },
    {
     "data": {
      "text/plain": [
       "(2836, 20)"
      ]
     },
     "metadata": {},
     "output_type": "display_data"
    },
    {
     "data": {
      "text/html": [
       "<div>\n",
       "<style scoped>\n",
       "    .dataframe tbody tr th:only-of-type {\n",
       "        vertical-align: middle;\n",
       "    }\n",
       "\n",
       "    .dataframe tbody tr th {\n",
       "        vertical-align: top;\n",
       "    }\n",
       "\n",
       "    .dataframe thead th {\n",
       "        text-align: right;\n",
       "    }\n",
       "</style>\n",
       "<table border=\"1\" class=\"dataframe\">\n",
       "  <thead>\n",
       "    <tr style=\"text-align: right;\">\n",
       "      <th></th>\n",
       "      <th>pcf</th>\n",
       "      <th>divyield</th>\n",
       "      <th>bm</th>\n",
       "      <th>PEG_ltgforward</th>\n",
       "      <th>ptb</th>\n",
       "      <th>pe_inc</th>\n",
       "      <th>PEG_1yrforward</th>\n",
       "      <th>evm</th>\n",
       "      <th>ps</th>\n",
       "      <th>fcf_ocf</th>\n",
       "      <th>invt_act</th>\n",
       "      <th>at_turn</th>\n",
       "      <th>pretret_noa</th>\n",
       "      <th>gpm</th>\n",
       "      <th>dpr</th>\n",
       "      <th>PEG_trailing</th>\n",
       "      <th>curr_debt</th>\n",
       "      <th>short_debt</th>\n",
       "      <th>roce</th>\n",
       "      <th>GProf</th>\n",
       "    </tr>\n",
       "  </thead>\n",
       "  <tbody>\n",
       "    <tr>\n",
       "      <th>1530</th>\n",
       "      <td>9.957</td>\n",
       "      <td>0.0354</td>\n",
       "      <td>0.547</td>\n",
       "      <td>5.963</td>\n",
       "      <td>1.811</td>\n",
       "      <td>18.484</td>\n",
       "      <td>13.678</td>\n",
       "      <td>10.644</td>\n",
       "      <td>3.703</td>\n",
       "      <td>0.932</td>\n",
       "      <td>0.108</td>\n",
       "      <td>0.291</td>\n",
       "      <td>0.332</td>\n",
       "      <td>0.843</td>\n",
       "      <td>0.623</td>\n",
       "      <td>1.181</td>\n",
       "      <td>0.237</td>\n",
       "      <td>0.173</td>\n",
       "      <td>0.140</td>\n",
       "      <td>0.245</td>\n",
       "    </tr>\n",
       "    <tr>\n",
       "      <th>1397</th>\n",
       "      <td>8.509</td>\n",
       "      <td>0.0398</td>\n",
       "      <td>0.461</td>\n",
       "      <td>5.702</td>\n",
       "      <td>2.189</td>\n",
       "      <td>39.232</td>\n",
       "      <td>1.521</td>\n",
       "      <td>9.246</td>\n",
       "      <td>0.689</td>\n",
       "      <td>0.441</td>\n",
       "      <td>0.368</td>\n",
       "      <td>0.815</td>\n",
       "      <td>0.146</td>\n",
       "      <td>0.201</td>\n",
       "      <td>2.175</td>\n",
       "      <td>0.668</td>\n",
       "      <td>0.269</td>\n",
       "      <td>0.084</td>\n",
       "      <td>0.105</td>\n",
       "      <td>0.164</td>\n",
       "    </tr>\n",
       "  </tbody>\n",
       "</table>\n",
       "</div>"
      ],
      "text/plain": [
       "        pcf  divyield     bm  PEG_ltgforward    ptb  pe_inc  PEG_1yrforward  \\\n",
       "1530  9.957    0.0354  0.547           5.963  1.811  18.484          13.678   \n",
       "1397  8.509    0.0398  0.461           5.702  2.189  39.232           1.521   \n",
       "\n",
       "         evm     ps  fcf_ocf  invt_act  at_turn  pretret_noa    gpm    dpr  \\\n",
       "1530  10.644  3.703    0.932     0.108    0.291        0.332  0.843  0.623   \n",
       "1397   9.246  0.689    0.441     0.368    0.815        0.146  0.201  2.175   \n",
       "\n",
       "      PEG_trailing  curr_debt  short_debt   roce  GProf  \n",
       "1530         1.181      0.237       0.173  0.140  0.245  \n",
       "1397         0.668      0.269       0.084  0.105  0.164  "
      ]
     },
     "metadata": {},
     "output_type": "display_data"
    },
    {
     "data": {
      "text/plain": [
       "(2836, 20)"
      ]
     },
     "metadata": {},
     "output_type": "display_data"
    },
    {
     "name": "stdout",
     "output_type": "stream",
     "text": [
      "\n",
      "Feature Matrix with selected Features (Test):\n"
     ]
    },
    {
     "data": {
      "text/html": [
       "<div>\n",
       "<style scoped>\n",
       "    .dataframe tbody tr th:only-of-type {\n",
       "        vertical-align: middle;\n",
       "    }\n",
       "\n",
       "    .dataframe tbody tr th {\n",
       "        vertical-align: top;\n",
       "    }\n",
       "\n",
       "    .dataframe thead th {\n",
       "        text-align: right;\n",
       "    }\n",
       "</style>\n",
       "<table border=\"1\" class=\"dataframe\">\n",
       "  <thead>\n",
       "    <tr style=\"text-align: right;\">\n",
       "      <th></th>\n",
       "      <th>pe_op_dil</th>\n",
       "      <th>pe_op_basic</th>\n",
       "      <th>CAPEI</th>\n",
       "      <th>pe_exi</th>\n",
       "      <th>pcf</th>\n",
       "      <th>divyield</th>\n",
       "      <th>bm</th>\n",
       "      <th>PEG_ltgforward</th>\n",
       "      <th>ptb</th>\n",
       "      <th>pe_inc</th>\n",
       "      <th>PEG_1yrforward</th>\n",
       "      <th>evm</th>\n",
       "      <th>ps</th>\n",
       "      <th>fcf_ocf</th>\n",
       "      <th>invt_act</th>\n",
       "      <th>at_turn</th>\n",
       "      <th>pretret_noa</th>\n",
       "      <th>gpm</th>\n",
       "      <th>dpr</th>\n",
       "      <th>PEG_trailing</th>\n",
       "    </tr>\n",
       "  </thead>\n",
       "  <tbody>\n",
       "    <tr>\n",
       "      <th>817</th>\n",
       "      <td>16.224</td>\n",
       "      <td>16.127</td>\n",
       "      <td>20.983</td>\n",
       "      <td>16.224</td>\n",
       "      <td>10.484</td>\n",
       "      <td>0.0187</td>\n",
       "      <td>0.254</td>\n",
       "      <td>1.330</td>\n",
       "      <td>4.189</td>\n",
       "      <td>16.224</td>\n",
       "      <td>1.414</td>\n",
       "      <td>8.585</td>\n",
       "      <td>3.318</td>\n",
       "      <td>0.863</td>\n",
       "      <td>0.025</td>\n",
       "      <td>0.828</td>\n",
       "      <td>1.148</td>\n",
       "      <td>0.428</td>\n",
       "      <td>0.287</td>\n",
       "      <td>1.022</td>\n",
       "    </tr>\n",
       "    <tr>\n",
       "      <th>2592</th>\n",
       "      <td>16.489</td>\n",
       "      <td>16.311</td>\n",
       "      <td>21.663</td>\n",
       "      <td>18.555</td>\n",
       "      <td>7.709</td>\n",
       "      <td>0.0122</td>\n",
       "      <td>0.235</td>\n",
       "      <td>1.572</td>\n",
       "      <td>4.281</td>\n",
       "      <td>18.555</td>\n",
       "      <td>1.737</td>\n",
       "      <td>13.619</td>\n",
       "      <td>2.379</td>\n",
       "      <td>0.902</td>\n",
       "      <td>0.157</td>\n",
       "      <td>0.223</td>\n",
       "      <td>0.358</td>\n",
       "      <td>0.279</td>\n",
       "      <td>0.199</td>\n",
       "      <td>1.147</td>\n",
       "    </tr>\n",
       "  </tbody>\n",
       "</table>\n",
       "</div>"
      ],
      "text/plain": [
       "      pe_op_dil  pe_op_basic   CAPEI  pe_exi     pcf  divyield     bm  \\\n",
       "817      16.224       16.127  20.983  16.224  10.484    0.0187  0.254   \n",
       "2592     16.489       16.311  21.663  18.555   7.709    0.0122  0.235   \n",
       "\n",
       "      PEG_ltgforward    ptb  pe_inc  PEG_1yrforward     evm     ps  fcf_ocf  \\\n",
       "817            1.330  4.189  16.224           1.414   8.585  3.318    0.863   \n",
       "2592           1.572  4.281  18.555           1.737  13.619  2.379    0.902   \n",
       "\n",
       "      invt_act  at_turn  pretret_noa    gpm    dpr  PEG_trailing  \n",
       "817      0.025    0.828        1.148  0.428  0.287         1.022  \n",
       "2592     0.157    0.223        0.358  0.279  0.199         1.147  "
      ]
     },
     "metadata": {},
     "output_type": "display_data"
    },
    {
     "data": {
      "text/plain": [
       "(710, 20)"
      ]
     },
     "metadata": {},
     "output_type": "display_data"
    },
    {
     "data": {
      "text/html": [
       "<div>\n",
       "<style scoped>\n",
       "    .dataframe tbody tr th:only-of-type {\n",
       "        vertical-align: middle;\n",
       "    }\n",
       "\n",
       "    .dataframe tbody tr th {\n",
       "        vertical-align: top;\n",
       "    }\n",
       "\n",
       "    .dataframe thead th {\n",
       "        text-align: right;\n",
       "    }\n",
       "</style>\n",
       "<table border=\"1\" class=\"dataframe\">\n",
       "  <thead>\n",
       "    <tr style=\"text-align: right;\">\n",
       "      <th></th>\n",
       "      <th>pcf</th>\n",
       "      <th>divyield</th>\n",
       "      <th>bm</th>\n",
       "      <th>PEG_ltgforward</th>\n",
       "      <th>ptb</th>\n",
       "      <th>pe_inc</th>\n",
       "      <th>PEG_1yrforward</th>\n",
       "      <th>evm</th>\n",
       "      <th>ps</th>\n",
       "      <th>fcf_ocf</th>\n",
       "      <th>invt_act</th>\n",
       "      <th>at_turn</th>\n",
       "      <th>pretret_noa</th>\n",
       "      <th>gpm</th>\n",
       "      <th>dpr</th>\n",
       "      <th>PEG_trailing</th>\n",
       "      <th>curr_debt</th>\n",
       "      <th>short_debt</th>\n",
       "      <th>roce</th>\n",
       "      <th>GProf</th>\n",
       "    </tr>\n",
       "  </thead>\n",
       "  <tbody>\n",
       "    <tr>\n",
       "      <th>817</th>\n",
       "      <td>10.484</td>\n",
       "      <td>0.0187</td>\n",
       "      <td>0.254</td>\n",
       "      <td>1.330</td>\n",
       "      <td>4.189</td>\n",
       "      <td>16.224</td>\n",
       "      <td>1.414</td>\n",
       "      <td>8.585</td>\n",
       "      <td>3.318</td>\n",
       "      <td>0.863</td>\n",
       "      <td>0.025</td>\n",
       "      <td>0.828</td>\n",
       "      <td>1.148</td>\n",
       "      <td>0.428</td>\n",
       "      <td>0.287</td>\n",
       "      <td>1.022</td>\n",
       "      <td>0.510</td>\n",
       "      <td>0.025</td>\n",
       "      <td>0.364</td>\n",
       "      <td>0.354</td>\n",
       "    </tr>\n",
       "    <tr>\n",
       "      <th>2592</th>\n",
       "      <td>7.709</td>\n",
       "      <td>0.0122</td>\n",
       "      <td>0.235</td>\n",
       "      <td>1.572</td>\n",
       "      <td>4.281</td>\n",
       "      <td>18.555</td>\n",
       "      <td>1.737</td>\n",
       "      <td>13.619</td>\n",
       "      <td>2.379</td>\n",
       "      <td>0.902</td>\n",
       "      <td>0.157</td>\n",
       "      <td>0.223</td>\n",
       "      <td>0.358</td>\n",
       "      <td>0.279</td>\n",
       "      <td>0.199</td>\n",
       "      <td>1.147</td>\n",
       "      <td>0.453</td>\n",
       "      <td>0.106</td>\n",
       "      <td>0.108</td>\n",
       "      <td>0.062</td>\n",
       "    </tr>\n",
       "  </tbody>\n",
       "</table>\n",
       "</div>"
      ],
      "text/plain": [
       "         pcf  divyield     bm  PEG_ltgforward    ptb  pe_inc  PEG_1yrforward  \\\n",
       "817   10.484    0.0187  0.254           1.330  4.189  16.224           1.414   \n",
       "2592   7.709    0.0122  0.235           1.572  4.281  18.555           1.737   \n",
       "\n",
       "         evm     ps  fcf_ocf  invt_act  at_turn  pretret_noa    gpm    dpr  \\\n",
       "817    8.585  3.318    0.863     0.025    0.828        1.148  0.428  0.287   \n",
       "2592  13.619  2.379    0.902     0.157    0.223        0.358  0.279  0.199   \n",
       "\n",
       "      PEG_trailing  curr_debt  short_debt   roce  GProf  \n",
       "817          1.022      0.510       0.025  0.364  0.354  \n",
       "2592         1.147      0.453       0.106  0.108  0.062  "
      ]
     },
     "metadata": {},
     "output_type": "display_data"
    },
    {
     "data": {
      "text/plain": [
       "(2836, 20)"
      ]
     },
     "metadata": {},
     "output_type": "display_data"
    }
   ],
   "source": [
    "################################## NEW\n",
    "##################################\n",
    "\n",
    "# Show feature matrices (train, test) after feature selection\n",
    "print(\"\")\n",
    "print('Feature Matrix with selected Features (Train):')\n",
    "display(X_train_f1.head(2))\n",
    "display(X_train_f1.shape)\n",
    "display(X_train_f.head(2))\n",
    "display(X_train_f.shape)\n",
    "\n",
    "\n",
    "print(\"\")\n",
    "print('Feature Matrix with selected Features (Test):')\n",
    "display(X_test_f1.head(2))\n",
    "display(X_test_f1.shape)\n",
    "display(X_test_f.head(2))\n",
    "display(X_train_f.shape)"
   ]
  },
  {
   "cell_type": "markdown",
   "metadata": {},
   "source": [
    "### Save\n",
    "\n",
    "Feature Matrices and Response Vectors after Train/Test Split and after Feature Selection are saved as csv:             \n",
    "Version 1 (ratios as explanatory variables)                                                                          \n",
    "Version 2 (ratios + seasonality + market data)."
   ]
  },
  {
   "cell_type": "code",
   "execution_count": 17,
   "metadata": {},
   "outputs": [],
   "source": [
    "# Save generated splitted datasets (feature matrices and response vectors) after having relevant feature selected\n",
    "# The 'f' at the end of the name of the dataset stands for the fact that features have been selected with random'f'orest\n",
    "if VERSION == 1:\n",
    "    X_train_f1.to_csv('Data/generated_splits/features_selected_randomforest/X1_train_f.csv', index = False)\n",
    "    X_test_f1.to_csv('Data/generated_splits/features_selected_randomforest/X1_test_f.csv', index = False)\n",
    "    y_train.to_csv('Data/generated_splits/features_selected_randomforest/y1_train_f.csv', index = False)\n",
    "    y_test.to_csv('Data/generated_splits/features_selected_randomforest/y1_test_f.csv', index = False)\n",
    "elif VERSION == 2:\n",
    "    X_train_f1.to_csv('Data/generated_splits/features_selected_randomforest/X2_train_f.csv', index = False)\n",
    "    X_test_f1.to_csv('Data/generated_splits/features_selected_randomforest/X2_test_f.csv', index = False)\n",
    "    y_train.to_csv('Data/generated_splits/features_selected_randomforest/y2_train_f.csv', index = False)\n",
    "    y_test.to_csv('Data/generated_splits/features_selected_randomforest/y2_test_f.csv', index = False)\n",
    "else: raise ValueError('VERSION value must be either 1 or 2')"
   ]
  },
  {
   "cell_type": "code",
   "execution_count": 18,
   "metadata": {},
   "outputs": [
    {
     "data": {
      "text/plain": [
       "(2836, 20)"
      ]
     },
     "metadata": {},
     "output_type": "display_data"
    },
    {
     "data": {
      "text/plain": [
       "(710, 20)"
      ]
     },
     "metadata": {},
     "output_type": "display_data"
    }
   ],
   "source": [
    "display(X_train_f1.shape)\n",
    "display(X_test_f1.shape)"
   ]
  }
 ],
 "metadata": {
  "kernelspec": {
   "display_name": "Python 3",
   "language": "python",
   "name": "python3"
  },
  "language_info": {
   "codemirror_mode": {
    "name": "ipython",
    "version": 3
   },
   "file_extension": ".py",
   "mimetype": "text/x-python",
   "name": "python",
   "nbconvert_exporter": "python",
   "pygments_lexer": "ipython3",
   "version": "3.6.4"
  }
 },
 "nbformat": 4,
 "nbformat_minor": 2
}
