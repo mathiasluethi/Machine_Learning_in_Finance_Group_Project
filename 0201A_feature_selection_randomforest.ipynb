{
 "cells": [
  {
   "cell_type": "markdown",
   "metadata": {},
   "source": [
    "# Introduction to Machine Learning, UZH 2018, Group Project\n",
    "### Group 2: Barbara Capl, Mathias Lüthi, Pamela Matias, Stefanie Rentsch\n",
    "##       \n",
    "# 2. Feature Selection \n",
    "# A. with RandomForestClassifier (RF)\n",
    "\n",
    "###        \n",
    "In this section we use the feature matrices and the response vector that we prepared in chapter 1.  \n",
    "\n",
    "#### We use two different versions (created in chapter 1):\n",
    "Version 1: Feature Matrix consists only of the Ratios                                                                        \n",
    "Version 2: Feature Matrix consists of Ratios + dummy variables for seasonality + other market data\n",
    "####  We will do Feature Selection and generate feature matrices with only selected n features for each Version above\n"
   ]
  },
  {
   "cell_type": "code",
   "execution_count": 1,
   "metadata": {
    "collapsed": true
   },
   "outputs": [],
   "source": [
    "# hide unnecessary warnings (\"depreciation\" of packages etc.)\n",
    "import warnings\n",
    "warnings.filterwarnings('ignore')\n",
    "\n",
    "# import packages\n",
    "import numpy as np\n",
    "import pandas as pd\n",
    "import matplotlib.pyplot as plt\n",
    "%matplotlib inline\n",
    "from sklearn import preprocessing\n",
    "from sklearn.model_selection import train_test_split\n",
    "from sklearn.preprocessing import Imputer\n",
    "from sklearn.ensemble import RandomForestClassifier"
   ]
  },
  {
   "cell_type": "markdown",
   "metadata": {},
   "source": [
    "## 2.0. SETTINGS: choose which Feature Matrix (Version 1 or 2) you want to use"
   ]
  },
  {
   "cell_type": "markdown",
   "metadata": {},
   "source": [
    "#### Choose the Dataset Version you want\n",
    "VERSION = 1; Feature Matrix with only ratios                                  \n",
    "VERSION = 2;  Feature Matrix with ratios + saisonality + other market data\n"
   ]
  },
  {
   "cell_type": "code",
   "execution_count": 2,
   "metadata": {},
   "outputs": [
    {
     "name": "stdout",
     "output_type": "stream",
     "text": [
      "You chose VERSION 1 as working dataset. The following Feature Selection will be therefore based on Dataset with only the Ratios Dataset as predicive Features.\n"
     ]
    }
   ],
   "source": [
    "############### CHOOSE\n",
    "VERSION = 1\n",
    "\"\"\"\n",
    "INSERT NUMBER 1 or 2    \n",
    "\"\"\"\n",
    "\n",
    "\n",
    "\n",
    "# Defining sel_state variable for usage later and printing text according to your choise   \n",
    "if VERSION == 1:\n",
    "    sel_version = 'based on Dataset with only the Ratios Dataset as predicive Features.'\n",
    "    print('You chose VERSION 1 as working dataset. The following Feature Selection will be therefore ' + sel_version)\n",
    "elif VERSION == 2:\n",
    "    sel_version = 'based on Dataset with Ratios + Seasonality + other Market Data as predictive Features.'\n",
    "    print('You chose VERSION 2 as working dataset. The following Feature Selection will be therefore ' + sel_version)\n",
    "else: raise ValueError('VERSION must be either 1 or 2')"
   ]
  },
  {
   "cell_type": "markdown",
   "metadata": {},
   "source": [
    "## 2.1. Preparation"
   ]
  },
  {
   "cell_type": "markdown",
   "metadata": {},
   "source": [
    "### 2.1.1 Import the Response Vector and the Feature Matrices"
   ]
  },
  {
   "cell_type": "code",
   "execution_count": 3,
   "metadata": {
    "collapsed": true
   },
   "outputs": [],
   "source": [
    "# Load in the response vector pre-generated in Chater 1 (Preparation of Data)\n",
    "y = pd.read_csv('Data/generated_datasets/response_1.csv', sep=',', header=0)"
   ]
  },
  {
   "cell_type": "code",
   "execution_count": 4,
   "metadata": {
    "collapsed": true
   },
   "outputs": [],
   "source": [
    "# Load in te feature matrix according to the version you chose in section 2.0. above\n",
    "if VERSION == 1:\n",
    "    X = pd.read_csv('Data/generated_datasets/features_ratios_1.csv', sep=',', header=0)\n",
    "elif VERSION == 2:\n",
    "    X = pd.read_csv('Data/generated_datasets/features_additional_1.csv', sep=',', header=0)\n",
    "else: raise ValueError('VERSION value must be either 1 or 2')"
   ]
  },
  {
   "cell_type": "markdown",
   "metadata": {},
   "source": [
    "### 2.1.2. Train/ Test Split and fill missing values with median\n",
    "\n",
    "Note: Standardization is not done here because it is not necessary for Random Forest.                                        "
   ]
  },
  {
   "cell_type": "markdown",
   "metadata": {},
   "source": [
    "### Train/ Test Split\n",
    "\n",
    "Apply on chosen unsplitted, unimputed and unstandardized feature matrix and response vector."
   ]
  },
  {
   "cell_type": "code",
   "execution_count": 5,
   "metadata": {},
   "outputs": [
    {
     "name": "stdout",
     "output_type": "stream",
     "text": [
      "Chosen features:\n"
     ]
    },
    {
     "data": {
      "text/plain": [
       "['CAPEI',\n",
       " 'bm',\n",
       " 'evm',\n",
       " 'pe_op_basic',\n",
       " 'pe_op_dil',\n",
       " 'pe_exi',\n",
       " 'pe_inc',\n",
       " 'ps',\n",
       " 'pcf',\n",
       " 'dpr',\n",
       " 'npm',\n",
       " 'opmbd',\n",
       " 'opmad',\n",
       " 'gpm',\n",
       " 'ptpm',\n",
       " 'cfm',\n",
       " 'roa',\n",
       " 'roe',\n",
       " 'roce',\n",
       " 'efftax',\n",
       " 'aftret_eq',\n",
       " 'aftret_invcapx',\n",
       " 'aftret_equity',\n",
       " 'pretret_noa',\n",
       " 'pretret_earnat',\n",
       " 'GProf',\n",
       " 'equity_invcap',\n",
       " 'debt_invcap',\n",
       " 'totdebt_invcap',\n",
       " 'capital_ratio',\n",
       " 'int_debt',\n",
       " 'int_totdebt',\n",
       " 'cash_lt',\n",
       " 'invt_act',\n",
       " 'rect_act',\n",
       " 'debt_at',\n",
       " 'debt_ebitda',\n",
       " 'short_debt',\n",
       " 'curr_debt',\n",
       " 'lt_debt',\n",
       " 'profit_lct',\n",
       " 'ocf_lct',\n",
       " 'cash_debt',\n",
       " 'fcf_ocf',\n",
       " 'lt_ppent',\n",
       " 'dltt_be',\n",
       " 'debt_assets',\n",
       " 'debt_capital',\n",
       " 'de_ratio',\n",
       " 'intcov',\n",
       " 'intcov_ratio',\n",
       " 'cash_ratio',\n",
       " 'quick_ratio',\n",
       " 'curr_ratio',\n",
       " 'cash_conversion',\n",
       " 'inv_turn',\n",
       " 'at_turn',\n",
       " 'rect_turn',\n",
       " 'pay_turn',\n",
       " 'sale_invcap',\n",
       " 'sale_equity',\n",
       " 'sale_nwc',\n",
       " 'rd_sale',\n",
       " 'adv_sale',\n",
       " 'staff_sale',\n",
       " 'accrual',\n",
       " 'ptb',\n",
       " 'PEG_trailing',\n",
       " 'divyield',\n",
       " 'PEG_1yrforward',\n",
       " 'PEG_ltgforward']"
      ]
     },
     "metadata": {},
     "output_type": "display_data"
    }
   ],
   "source": [
    "# Train/test split, into 20% test size and 80% train size because it is a relatively small dataset\n",
    "X_train, X_test, y_train, y_test = train_test_split(X, y, test_size=0.2, random_state=0)\n",
    "\n",
    "# Extract all the feature labels for the respective chosen version\n",
    "feature_labels = list(X)\n",
    "\n",
    "print('Chosen features:')\n",
    "display(feature_labels)"
   ]
  },
  {
   "cell_type": "markdown",
   "metadata": {},
   "source": [
    "### Filling missing values (NaN)\n",
    "\n",
    "We use Imputer to fill missing entries with median only AFTER the split, to circumvent the bias that both splits would include information of each other."
   ]
  },
  {
   "cell_type": "code",
   "execution_count": 6,
   "metadata": {},
   "outputs": [],
   "source": [
    "# Use a median fill for train set\n",
    "imp = Imputer(missing_values=np.nan, strategy = 'median' , axis=0)\n",
    "imputed_dataset = pd.DataFrame(imp.fit_transform(X_train))\n",
    "imputed_dataset.columns = X_train.columns\n",
    "imputed_dataset.index = X_train.index\n",
    "X_train = imputed_dataset\n",
    "\n",
    "# Use a median fill for the test set\n",
    "imputed_dataset = pd.DataFrame(imp.fit_transform(X_test))\n",
    "imputed_dataset.columns = X_test.columns\n",
    "imputed_dataset.index = X_test.index\n",
    "X_test = imputed_dataset"
   ]
  },
  {
   "cell_type": "markdown",
   "metadata": {},
   "source": [
    "### 2.2.3. Print out Shape and Form of Feature Matrix and Response Vector"
   ]
  },
  {
   "cell_type": "markdown",
   "metadata": {},
   "source": [
    "### Train set"
   ]
  },
  {
   "cell_type": "code",
   "execution_count": 7,
   "metadata": {},
   "outputs": [
    {
     "name": "stdout",
     "output_type": "stream",
     "text": [
      "Ratio of \"UP\" (Train) = 58.07% \n",
      "\n",
      "Shape of Feature Matrix X_train = (2836, 71) \n",
      "\n",
      "Feature Matrix X_train: (below)\n"
     ]
    },
    {
     "data": {
      "text/html": [
       "<div>\n",
       "<style>\n",
       "    .dataframe thead tr:only-child th {\n",
       "        text-align: right;\n",
       "    }\n",
       "\n",
       "    .dataframe thead th {\n",
       "        text-align: left;\n",
       "    }\n",
       "\n",
       "    .dataframe tbody tr th {\n",
       "        vertical-align: top;\n",
       "    }\n",
       "</style>\n",
       "<table border=\"1\" class=\"dataframe\">\n",
       "  <thead>\n",
       "    <tr style=\"text-align: right;\">\n",
       "      <th></th>\n",
       "      <th>CAPEI</th>\n",
       "      <th>bm</th>\n",
       "      <th>evm</th>\n",
       "      <th>pe_op_basic</th>\n",
       "      <th>pe_op_dil</th>\n",
       "      <th>pe_exi</th>\n",
       "      <th>pe_inc</th>\n",
       "      <th>ps</th>\n",
       "      <th>pcf</th>\n",
       "      <th>dpr</th>\n",
       "      <th>...</th>\n",
       "      <th>sale_nwc</th>\n",
       "      <th>rd_sale</th>\n",
       "      <th>adv_sale</th>\n",
       "      <th>staff_sale</th>\n",
       "      <th>accrual</th>\n",
       "      <th>ptb</th>\n",
       "      <th>PEG_trailing</th>\n",
       "      <th>divyield</th>\n",
       "      <th>PEG_1yrforward</th>\n",
       "      <th>PEG_ltgforward</th>\n",
       "    </tr>\n",
       "  </thead>\n",
       "  <tbody>\n",
       "    <tr>\n",
       "      <th>1530</th>\n",
       "      <td>20.773</td>\n",
       "      <td>0.547</td>\n",
       "      <td>10.644</td>\n",
       "      <td>15.468</td>\n",
       "      <td>15.633</td>\n",
       "      <td>18.484</td>\n",
       "      <td>18.484</td>\n",
       "      <td>3.703</td>\n",
       "      <td>9.957</td>\n",
       "      <td>0.623</td>\n",
       "      <td>...</td>\n",
       "      <td>1.4240</td>\n",
       "      <td>0.136</td>\n",
       "      <td>0.058</td>\n",
       "      <td>0.000</td>\n",
       "      <td>0.048</td>\n",
       "      <td>1.811</td>\n",
       "      <td>1.181</td>\n",
       "      <td>0.0354</td>\n",
       "      <td>13.678</td>\n",
       "      <td>5.963</td>\n",
       "    </tr>\n",
       "    <tr>\n",
       "      <th>1397</th>\n",
       "      <td>25.089</td>\n",
       "      <td>0.461</td>\n",
       "      <td>9.246</td>\n",
       "      <td>17.203</td>\n",
       "      <td>17.296</td>\n",
       "      <td>39.232</td>\n",
       "      <td>39.232</td>\n",
       "      <td>0.689</td>\n",
       "      <td>8.509</td>\n",
       "      <td>2.175</td>\n",
       "      <td>...</td>\n",
       "      <td>4.9910</td>\n",
       "      <td>0.031</td>\n",
       "      <td>0.000</td>\n",
       "      <td>0.000</td>\n",
       "      <td>0.047</td>\n",
       "      <td>2.189</td>\n",
       "      <td>0.668</td>\n",
       "      <td>0.0398</td>\n",
       "      <td>1.521</td>\n",
       "      <td>5.702</td>\n",
       "    </tr>\n",
       "    <tr>\n",
       "      <th>2238</th>\n",
       "      <td>12.337</td>\n",
       "      <td>0.911</td>\n",
       "      <td>12.474</td>\n",
       "      <td>9.135</td>\n",
       "      <td>9.209</td>\n",
       "      <td>13.062</td>\n",
       "      <td>13.062</td>\n",
       "      <td>2.034</td>\n",
       "      <td>1.993</td>\n",
       "      <td>0.337</td>\n",
       "      <td>...</td>\n",
       "      <td>5.8105</td>\n",
       "      <td>0.000</td>\n",
       "      <td>0.024</td>\n",
       "      <td>0.291</td>\n",
       "      <td>0.038</td>\n",
       "      <td>1.076</td>\n",
       "      <td>3.048</td>\n",
       "      <td>0.0268</td>\n",
       "      <td>0.380</td>\n",
       "      <td>2.248</td>\n",
       "    </tr>\n",
       "  </tbody>\n",
       "</table>\n",
       "<p>3 rows × 71 columns</p>\n",
       "</div>"
      ],
      "text/plain": [
       "       CAPEI     bm     evm  pe_op_basic  pe_op_dil  pe_exi  pe_inc     ps  \\\n",
       "1530  20.773  0.547  10.644       15.468     15.633  18.484  18.484  3.703   \n",
       "1397  25.089  0.461   9.246       17.203     17.296  39.232  39.232  0.689   \n",
       "2238  12.337  0.911  12.474        9.135      9.209  13.062  13.062  2.034   \n",
       "\n",
       "        pcf    dpr       ...        sale_nwc  rd_sale  adv_sale  staff_sale  \\\n",
       "1530  9.957  0.623       ...          1.4240    0.136     0.058       0.000   \n",
       "1397  8.509  2.175       ...          4.9910    0.031     0.000       0.000   \n",
       "2238  1.993  0.337       ...          5.8105    0.000     0.024       0.291   \n",
       "\n",
       "      accrual    ptb  PEG_trailing  divyield  PEG_1yrforward  PEG_ltgforward  \n",
       "1530    0.048  1.811         1.181    0.0354          13.678           5.963  \n",
       "1397    0.047  2.189         0.668    0.0398           1.521           5.702  \n",
       "2238    0.038  1.076         3.048    0.0268           0.380           2.248  \n",
       "\n",
       "[3 rows x 71 columns]"
      ]
     },
     "metadata": {},
     "output_type": "display_data"
    },
    {
     "name": "stdout",
     "output_type": "stream",
     "text": [
      "\n",
      "\n",
      "Response Vector y_train, Shape = (2836, 1)\n"
     ]
    },
    {
     "data": {
      "text/html": [
       "<div>\n",
       "<style>\n",
       "    .dataframe thead tr:only-child th {\n",
       "        text-align: right;\n",
       "    }\n",
       "\n",
       "    .dataframe thead th {\n",
       "        text-align: left;\n",
       "    }\n",
       "\n",
       "    .dataframe tbody tr th {\n",
       "        vertical-align: top;\n",
       "    }\n",
       "</style>\n",
       "<table border=\"1\" class=\"dataframe\">\n",
       "  <thead>\n",
       "    <tr style=\"text-align: right;\">\n",
       "      <th></th>\n",
       "      <th>0</th>\n",
       "    </tr>\n",
       "  </thead>\n",
       "  <tbody>\n",
       "    <tr>\n",
       "      <th>1530</th>\n",
       "      <td>0</td>\n",
       "    </tr>\n",
       "    <tr>\n",
       "      <th>1397</th>\n",
       "      <td>1</td>\n",
       "    </tr>\n",
       "    <tr>\n",
       "      <th>2238</th>\n",
       "      <td>0</td>\n",
       "    </tr>\n",
       "  </tbody>\n",
       "</table>\n",
       "</div>"
      ],
      "text/plain": [
       "      0\n",
       "1530  0\n",
       "1397  1\n",
       "2238  0"
      ]
     },
     "metadata": {},
     "output_type": "display_data"
    }
   ],
   "source": [
    "# Check if there is the approximately same percentage of '1' the train response vector\n",
    "print('Ratio of \"UP\" (Train) = ' + str(round(y_train['0'].sum() / y_train.size, 4)*100) + '%', '\\n')\n",
    "\n",
    "# Print and display properties and head of the training set we will use in the following\n",
    "print('Shape of Feature Matrix X_train = ' + str(X_train.shape), '\\n')\n",
    "print('Feature Matrix X_train: (below)')\n",
    "display(X_train.head(3))\n",
    "print('\\n')\n",
    "print('Response Vector y_train, Shape = '+str(y_train.shape))\n",
    "display(y_train.head(3))"
   ]
  },
  {
   "cell_type": "markdown",
   "metadata": {},
   "source": [
    "### Test set"
   ]
  },
  {
   "cell_type": "code",
   "execution_count": 8,
   "metadata": {},
   "outputs": [
    {
     "name": "stdout",
     "output_type": "stream",
     "text": [
      "Ratio of \"UP\" (Test)  =  57.04% \n",
      "\n",
      "Shape of Feature Matrix X_test = (710, 71) \n",
      "\n",
      "Feature Matrix X_test\n"
     ]
    },
    {
     "data": {
      "text/html": [
       "<div>\n",
       "<style>\n",
       "    .dataframe thead tr:only-child th {\n",
       "        text-align: right;\n",
       "    }\n",
       "\n",
       "    .dataframe thead th {\n",
       "        text-align: left;\n",
       "    }\n",
       "\n",
       "    .dataframe tbody tr th {\n",
       "        vertical-align: top;\n",
       "    }\n",
       "</style>\n",
       "<table border=\"1\" class=\"dataframe\">\n",
       "  <thead>\n",
       "    <tr style=\"text-align: right;\">\n",
       "      <th></th>\n",
       "      <th>CAPEI</th>\n",
       "      <th>bm</th>\n",
       "      <th>evm</th>\n",
       "      <th>pe_op_basic</th>\n",
       "      <th>pe_op_dil</th>\n",
       "      <th>pe_exi</th>\n",
       "      <th>pe_inc</th>\n",
       "      <th>ps</th>\n",
       "      <th>pcf</th>\n",
       "      <th>dpr</th>\n",
       "      <th>...</th>\n",
       "      <th>sale_nwc</th>\n",
       "      <th>rd_sale</th>\n",
       "      <th>adv_sale</th>\n",
       "      <th>staff_sale</th>\n",
       "      <th>accrual</th>\n",
       "      <th>ptb</th>\n",
       "      <th>PEG_trailing</th>\n",
       "      <th>divyield</th>\n",
       "      <th>PEG_1yrforward</th>\n",
       "      <th>PEG_ltgforward</th>\n",
       "    </tr>\n",
       "  </thead>\n",
       "  <tbody>\n",
       "    <tr>\n",
       "      <th>817</th>\n",
       "      <td>20.983</td>\n",
       "      <td>0.254</td>\n",
       "      <td>8.585</td>\n",
       "      <td>16.127</td>\n",
       "      <td>16.224</td>\n",
       "      <td>16.224</td>\n",
       "      <td>16.224</td>\n",
       "      <td>3.318</td>\n",
       "      <td>10.484</td>\n",
       "      <td>0.287</td>\n",
       "      <td>...</td>\n",
       "      <td>6.768</td>\n",
       "      <td>0.031</td>\n",
       "      <td>0.006</td>\n",
       "      <td>0.000</td>\n",
       "      <td>0.084</td>\n",
       "      <td>4.189</td>\n",
       "      <td>1.022</td>\n",
       "      <td>0.0187</td>\n",
       "      <td>1.414</td>\n",
       "      <td>1.330</td>\n",
       "    </tr>\n",
       "    <tr>\n",
       "      <th>2592</th>\n",
       "      <td>21.663</td>\n",
       "      <td>0.235</td>\n",
       "      <td>13.619</td>\n",
       "      <td>16.311</td>\n",
       "      <td>16.489</td>\n",
       "      <td>18.555</td>\n",
       "      <td>18.555</td>\n",
       "      <td>2.379</td>\n",
       "      <td>7.709</td>\n",
       "      <td>0.199</td>\n",
       "      <td>...</td>\n",
       "      <td>7.169</td>\n",
       "      <td>0.000</td>\n",
       "      <td>0.000</td>\n",
       "      <td>0.195</td>\n",
       "      <td>0.039</td>\n",
       "      <td>4.281</td>\n",
       "      <td>1.147</td>\n",
       "      <td>0.0122</td>\n",
       "      <td>1.737</td>\n",
       "      <td>1.572</td>\n",
       "    </tr>\n",
       "    <tr>\n",
       "      <th>1475</th>\n",
       "      <td>16.327</td>\n",
       "      <td>0.513</td>\n",
       "      <td>6.716</td>\n",
       "      <td>9.520</td>\n",
       "      <td>9.520</td>\n",
       "      <td>15.681</td>\n",
       "      <td>15.550</td>\n",
       "      <td>3.293</td>\n",
       "      <td>8.490</td>\n",
       "      <td>0.792</td>\n",
       "      <td>...</td>\n",
       "      <td>1.286</td>\n",
       "      <td>0.162</td>\n",
       "      <td>0.054</td>\n",
       "      <td>0.000</td>\n",
       "      <td>0.077</td>\n",
       "      <td>2.198</td>\n",
       "      <td>1.022</td>\n",
       "      <td>0.0343</td>\n",
       "      <td>-0.973</td>\n",
       "      <td>6.149</td>\n",
       "    </tr>\n",
       "  </tbody>\n",
       "</table>\n",
       "<p>3 rows × 71 columns</p>\n",
       "</div>"
      ],
      "text/plain": [
       "       CAPEI     bm     evm  pe_op_basic  pe_op_dil  pe_exi  pe_inc     ps  \\\n",
       "817   20.983  0.254   8.585       16.127     16.224  16.224  16.224  3.318   \n",
       "2592  21.663  0.235  13.619       16.311     16.489  18.555  18.555  2.379   \n",
       "1475  16.327  0.513   6.716        9.520      9.520  15.681  15.550  3.293   \n",
       "\n",
       "         pcf    dpr       ...        sale_nwc  rd_sale  adv_sale  staff_sale  \\\n",
       "817   10.484  0.287       ...           6.768    0.031     0.006       0.000   \n",
       "2592   7.709  0.199       ...           7.169    0.000     0.000       0.195   \n",
       "1475   8.490  0.792       ...           1.286    0.162     0.054       0.000   \n",
       "\n",
       "      accrual    ptb  PEG_trailing  divyield  PEG_1yrforward  PEG_ltgforward  \n",
       "817     0.084  4.189         1.022    0.0187           1.414           1.330  \n",
       "2592    0.039  4.281         1.147    0.0122           1.737           1.572  \n",
       "1475    0.077  2.198         1.022    0.0343          -0.973           6.149  \n",
       "\n",
       "[3 rows x 71 columns]"
      ]
     },
     "metadata": {},
     "output_type": "display_data"
    },
    {
     "name": "stdout",
     "output_type": "stream",
     "text": [
      "\n",
      "\n",
      "Response Vector y_test, Shape = (710, 1)\n"
     ]
    },
    {
     "data": {
      "text/html": [
       "<div>\n",
       "<style>\n",
       "    .dataframe thead tr:only-child th {\n",
       "        text-align: right;\n",
       "    }\n",
       "\n",
       "    .dataframe thead th {\n",
       "        text-align: left;\n",
       "    }\n",
       "\n",
       "    .dataframe tbody tr th {\n",
       "        vertical-align: top;\n",
       "    }\n",
       "</style>\n",
       "<table border=\"1\" class=\"dataframe\">\n",
       "  <thead>\n",
       "    <tr style=\"text-align: right;\">\n",
       "      <th></th>\n",
       "      <th>0</th>\n",
       "    </tr>\n",
       "  </thead>\n",
       "  <tbody>\n",
       "    <tr>\n",
       "      <th>817</th>\n",
       "      <td>1</td>\n",
       "    </tr>\n",
       "    <tr>\n",
       "      <th>2592</th>\n",
       "      <td>0</td>\n",
       "    </tr>\n",
       "    <tr>\n",
       "      <th>1475</th>\n",
       "      <td>1</td>\n",
       "    </tr>\n",
       "  </tbody>\n",
       "</table>\n",
       "</div>"
      ],
      "text/plain": [
       "      0\n",
       "817   1\n",
       "2592  0\n",
       "1475  1"
      ]
     },
     "metadata": {},
     "output_type": "display_data"
    }
   ],
   "source": [
    "# Check if there is the approximately same percentage of '1' in the test response vector\n",
    "print('Ratio of \"UP\" (Test)  =  ' + str(round(y_test['0'].sum() / y_test.size, 4)*100) + '%', '\\n')\n",
    "\n",
    "# Print and display properties and head of the training set we will use in the following\n",
    "print('Shape of Feature Matrix X_test = ' + str(X_test.shape), '\\n')\n",
    "print('Feature Matrix X_test')\n",
    "display(X_test.head(3))\n",
    "print('\\n')\n",
    "print('Response Vector y_test, Shape = '+str(y_test.shape))\n",
    "display(y_test.head(3))"
   ]
  },
  {
   "cell_type": "markdown",
   "metadata": {},
   "source": [
    "###    \n",
    "## 2.2. Selecting & Extracting Features"
   ]
  },
  {
   "cell_type": "markdown",
   "metadata": {},
   "source": [
    "### 2.2.1.  Fit forest and show list of best 'n' features according to explanatory value"
   ]
  },
  {
   "cell_type": "code",
   "execution_count": 9,
   "metadata": {},
   "outputs": [
    {
     "name": "stdout",
     "output_type": "stream",
     "text": [
      "Most important features after 50 random states\n"
     ]
    },
    {
     "data": {
      "text/html": [
       "<div>\n",
       "<style>\n",
       "    .dataframe thead tr:only-child th {\n",
       "        text-align: right;\n",
       "    }\n",
       "\n",
       "    .dataframe thead th {\n",
       "        text-align: left;\n",
       "    }\n",
       "\n",
       "    .dataframe tbody tr th {\n",
       "        vertical-align: top;\n",
       "    }\n",
       "</style>\n",
       "<table border=\"1\" class=\"dataframe\">\n",
       "  <thead>\n",
       "    <tr style=\"text-align: right;\">\n",
       "      <th></th>\n",
       "      <th>labels</th>\n",
       "      <th>importances</th>\n",
       "    </tr>\n",
       "  </thead>\n",
       "  <tbody>\n",
       "    <tr>\n",
       "      <th>0</th>\n",
       "      <td>pe_op_dil</td>\n",
       "      <td>2.329614</td>\n",
       "    </tr>\n",
       "    <tr>\n",
       "      <th>1</th>\n",
       "      <td>CAPEI</td>\n",
       "      <td>2.267174</td>\n",
       "    </tr>\n",
       "    <tr>\n",
       "      <th>2</th>\n",
       "      <td>pe_op_basic</td>\n",
       "      <td>2.193411</td>\n",
       "    </tr>\n",
       "    <tr>\n",
       "      <th>3</th>\n",
       "      <td>divyield</td>\n",
       "      <td>1.863889</td>\n",
       "    </tr>\n",
       "    <tr>\n",
       "      <th>4</th>\n",
       "      <td>pe_exi</td>\n",
       "      <td>1.816294</td>\n",
       "    </tr>\n",
       "    <tr>\n",
       "      <th>5</th>\n",
       "      <td>pcf</td>\n",
       "      <td>1.747672</td>\n",
       "    </tr>\n",
       "    <tr>\n",
       "      <th>6</th>\n",
       "      <td>ptb</td>\n",
       "      <td>1.688619</td>\n",
       "    </tr>\n",
       "    <tr>\n",
       "      <th>7</th>\n",
       "      <td>PEG_ltgforward</td>\n",
       "      <td>1.662415</td>\n",
       "    </tr>\n",
       "    <tr>\n",
       "      <th>8</th>\n",
       "      <td>bm</td>\n",
       "      <td>1.541856</td>\n",
       "    </tr>\n",
       "    <tr>\n",
       "      <th>9</th>\n",
       "      <td>evm</td>\n",
       "      <td>1.541651</td>\n",
       "    </tr>\n",
       "    <tr>\n",
       "      <th>10</th>\n",
       "      <td>ps</td>\n",
       "      <td>1.406988</td>\n",
       "    </tr>\n",
       "    <tr>\n",
       "      <th>11</th>\n",
       "      <td>pe_inc</td>\n",
       "      <td>1.390848</td>\n",
       "    </tr>\n",
       "    <tr>\n",
       "      <th>12</th>\n",
       "      <td>PEG_1yrforward</td>\n",
       "      <td>1.188710</td>\n",
       "    </tr>\n",
       "    <tr>\n",
       "      <th>13</th>\n",
       "      <td>PEG_trailing</td>\n",
       "      <td>0.745416</td>\n",
       "    </tr>\n",
       "    <tr>\n",
       "      <th>14</th>\n",
       "      <td>dpr</td>\n",
       "      <td>0.663208</td>\n",
       "    </tr>\n",
       "    <tr>\n",
       "      <th>15</th>\n",
       "      <td>GProf</td>\n",
       "      <td>0.662080</td>\n",
       "    </tr>\n",
       "    <tr>\n",
       "      <th>16</th>\n",
       "      <td>roe</td>\n",
       "      <td>0.600155</td>\n",
       "    </tr>\n",
       "    <tr>\n",
       "      <th>17</th>\n",
       "      <td>short_debt</td>\n",
       "      <td>0.590751</td>\n",
       "    </tr>\n",
       "    <tr>\n",
       "      <th>18</th>\n",
       "      <td>invt_act</td>\n",
       "      <td>0.585187</td>\n",
       "    </tr>\n",
       "    <tr>\n",
       "      <th>19</th>\n",
       "      <td>roce</td>\n",
       "      <td>0.572611</td>\n",
       "    </tr>\n",
       "  </tbody>\n",
       "</table>\n",
       "</div>"
      ],
      "text/plain": [
       "            labels  importances\n",
       "0        pe_op_dil     2.329614\n",
       "1            CAPEI     2.267174\n",
       "2      pe_op_basic     2.193411\n",
       "3         divyield     1.863889\n",
       "4           pe_exi     1.816294\n",
       "5              pcf     1.747672\n",
       "6              ptb     1.688619\n",
       "7   PEG_ltgforward     1.662415\n",
       "8               bm     1.541856\n",
       "9              evm     1.541651\n",
       "10              ps     1.406988\n",
       "11          pe_inc     1.390848\n",
       "12  PEG_1yrforward     1.188710\n",
       "13    PEG_trailing     0.745416\n",
       "14             dpr     0.663208\n",
       "15           GProf     0.662080\n",
       "16             roe     0.600155\n",
       "17      short_debt     0.590751\n",
       "18        invt_act     0.585187\n",
       "19            roce     0.572611"
      ]
     },
     "metadata": {},
     "output_type": "display_data"
    }
   ],
   "source": [
    "# rs = first random state we choose, \n",
    "# n = number of best features we want to select out, \n",
    "# m = number of random states we want to have tried out\n",
    "rs = 0\n",
    "n = 20\n",
    "m = 50\n",
    "\n",
    "# define new empty lists\n",
    "feature_importances = [0] * 71\n",
    "\n",
    "# Loop until random_state = rs = 10\n",
    "while rs < m:\n",
    "    forest = RandomForestClassifier(random_state = rs)\n",
    "    forest.max_depth = 6\n",
    "    forest.fit(X_train, y_train)\n",
    "    \n",
    "    # Apply forest fature importance to get an array of feature importances for each feature\n",
    "    feature_importances = forest.feature_importances_ + feature_importances\n",
    "        \n",
    "    rs += 1\n",
    "\n",
    "# sort features in line with their importance for the prediction (therefore ::-1)\n",
    "indices = np.argsort(feature_importances)[::-1]\n",
    "\n",
    "selected_labels = [feature_labels[i] for i in indices[:n]]\n",
    "selected_importances = sorted(feature_importances, reverse=True)[:n]\n",
    "\n",
    "important_features = pd.DataFrame({'labels':selected_labels, 'importances':selected_importances},\n",
    "                                  columns=['labels', 'importances'])\n",
    "\n",
    "print('Most important features after ' + str(rs) + ' random states')\n",
    "display(important_features)\n",
    "\n",
    "del rs, m"
   ]
  },
  {
   "cell_type": "markdown",
   "metadata": {},
   "source": [
    "### 2.2.2.  Plotting results"
   ]
  },
  {
   "cell_type": "code",
   "execution_count": 18,
   "metadata": {},
   "outputs": [
    {
     "data": {
      "image/png": "[encoded data removed]",
      "text/plain": [
       "<matplotlib.figure.Figure at 0x18c3beabf28>"
      ]
     },
     "metadata": {},
     "output_type": "display_data"
    }
   ],
   "source": [
    "# Plot Feature Importance\n",
    "\n",
    "plt.figure()\n",
    "plt.title('Random Forest Results')\n",
    "important_features['importances'].plot(kind='bar')\n",
    "plt.show()"
   ]
  },
  {
   "cell_type": "markdown",
   "metadata": {},
   "source": [
    "### 2.2.3. Extract best 'n' Variables and save into new Feature Matrices\n"
   ]
  },
  {
   "cell_type": "markdown",
   "metadata": {},
   "source": [
    "### Extract\n",
    "\n",
    "Automatically etract the chosen number n best variables directly from the feature matrices X_train and X_test into new ones X_train_f and X_test_f.                                                                                                                \n",
    "The f in the end stands for feature selection with random'f'orest.\n"
   ]
  },
  {
   "cell_type": "code",
   "execution_count": 11,
   "metadata": {},
   "outputs": [
    {
     "ename": "NameError",
     "evalue": "name 'best_features_cumsum' is not defined",
     "output_type": "error",
     "traceback": [
      "\u001b[1;31m---------------------------------------------------------------------------\u001b[0m",
      "\u001b[1;31mNameError\u001b[0m                                 Traceback (most recent call last)",
      "\u001b[1;32m<ipython-input-11-3e3329130b8b>\u001b[0m in \u001b[0;36m<module>\u001b[1;34m()\u001b[0m\n\u001b[0;32m      4\u001b[0m \u001b[1;31m# Extract the overall n best features INCLUDING the weighted returns\u001b[0m\u001b[1;33m\u001b[0m\u001b[1;33m\u001b[0m\u001b[0m\n\u001b[0;32m      5\u001b[0m \u001b[1;31m# remember, we set n = 15 in the beginning for the randomforest in section 2.2.1.\u001b[0m\u001b[1;33m\u001b[0m\u001b[1;33m\u001b[0m\u001b[0m\n\u001b[1;32m----> 6\u001b[1;33m \u001b[0mfinal_selection1\u001b[0m \u001b[1;33m=\u001b[0m \u001b[0mbest_features_cumsum\u001b[0m\u001b[1;33m.\u001b[0m\u001b[0mFeature_Label\u001b[0m\u001b[1;33m[\u001b[0m\u001b[1;36m0\u001b[0m\u001b[1;33m:\u001b[0m\u001b[0mn\u001b[0m\u001b[1;33m]\u001b[0m\u001b[1;33m\u001b[0m\u001b[0m\n\u001b[0m\u001b[0;32m      7\u001b[0m \u001b[0mprint\u001b[0m\u001b[1;33m(\u001b[0m\u001b[1;34m'Selected Features including weighted returns:'\u001b[0m\u001b[1;33m)\u001b[0m\u001b[1;33m\u001b[0m\u001b[0m\n\u001b[0;32m      8\u001b[0m \u001b[0mdisplay\u001b[0m\u001b[1;33m(\u001b[0m\u001b[0mfinal_selection1\u001b[0m\u001b[1;33m)\u001b[0m\u001b[1;33m\u001b[0m\u001b[0m\n",
      "\u001b[1;31mNameError\u001b[0m: name 'best_features_cumsum' is not defined"
     ]
    }
   ],
   "source": [
    "################################## NEW\n",
    "##################################\n",
    "\n",
    "# Extract the overall n best features INCLUDING the weighted returns\n",
    "# remember, we set n = 15 in the beginning for the randomforest in section 2.2.1.\n",
    "final_selection1 = best_features_cumsum.Feature_Label[0:n]\n",
    "print('Selected Features including weighted returns:')\n",
    "display(final_selection1)\n",
    "print(\"\")\n",
    "# save as list for further use\n",
    "final_selection1 = list(final_selection1)\n",
    "\n",
    "\n",
    "# Extract the overall n best features EXCLUDING the weighted returns\n",
    "m = n + 4\n",
    "final_selection2 = best_features_cumsum.Feature_Label[4:m]\n",
    "final_selection2.reset_index(drop = True, inplace = True)\n",
    "print('Selected Features without weighted returns:')\n",
    "display(final_selection2)\n",
    "# save as list for further use\n",
    "final_selection2 = list(final_selection2)"
   ]
  },
  {
   "cell_type": "code",
   "execution_count": null,
   "metadata": {
    "collapsed": true
   },
   "outputs": [],
   "source": [
    "################################## NEW\n",
    "##################################\n",
    "\n",
    "# features including volume weighted returns\n",
    "best_features1 = final_selection1\n",
    "# feaures excluding volume weighted returns\n",
    "best_features2 = final_selection2\n",
    "\n",
    "# extract features from feature matrix\n",
    "X_train_f1 = X_train[best_features1]\n",
    "X_train_f = X_train[best_features2]\n",
    "X_test_f1 = X_test[best_features1]\n",
    "X_test_f = X_test[best_features2]\n",
    "\n",
    "#feature_labels_f = X_train_f.columns[:]"
   ]
  },
  {
   "cell_type": "code",
   "execution_count": null,
   "metadata": {
    "collapsed": true
   },
   "outputs": [],
   "source": [
    "#### OLD\n",
    "\n",
    "# generate new empty list for best features to be extracted into\n",
    "#best_features = []\n",
    "\n",
    "# loop to append best n features onto the new list best_features\n",
    "#n = 15\n",
    "#for i in range(n):\n",
    " #   best_features.append(feature_labels[indices[i]])\n",
    "#del i\n",
    "\n",
    "# extract data of train and test feature matrix where column names are the same as those of the n best features\n",
    "# The f at the end of the datasets refer to the fact that the features were selected with random'f'orest\n",
    "#X_train_f = X_train[best_features]\n",
    "#X_test_f = X_test[best_features]\n",
    "#feature_labels_f = X_train_f.columns[:]\n",
    "\n",
    "# display and print results\n",
    "#print('Best Features after Random Forest are: ', '\\n')\n",
    "#display(np.array(best_features))\n",
    "#print('Head of X_train_f is: (below) ', '\\n')\n",
    "#display(X_train_f.head(2))\n",
    "#print('\\n')\n",
    "#print('Extracted feature labels are: (below)')\n",
    "#display(feature_labels_f[:])"
   ]
  },
  {
   "cell_type": "code",
   "execution_count": null,
   "metadata": {},
   "outputs": [],
   "source": [
    "################################## NEW\n",
    "##################################\n",
    "\n",
    "# Show feature matrices (train, test) after feature selection\n",
    "print(\"\")\n",
    "print('Feature Matrix with selected Features (Train):')\n",
    "display(X_train_f1.head(2))\n",
    "display(X_train_f1.shape)\n",
    "display(X_train_f.head(2))\n",
    "display(X_train_f.shape)\n",
    "\n",
    "\n",
    "print(\"\")\n",
    "print('Feature Matrix with selected Features (Test):')\n",
    "display(X_test_f1.head(2))\n",
    "display(X_test_f1.shape)\n",
    "display(X_test_f.head(2))\n",
    "display(X_train_f.shape)"
   ]
  },
  {
   "cell_type": "markdown",
   "metadata": {},
   "source": [
    "### Save\n",
    "\n",
    "Feature Matrices and Response Vectors after Train/Test Split and after Feature Selection are saved as csv:             \n",
    "Version 1 (ratios as explanatory variables)                                                                          \n",
    "Version 2 (ratios + seasonality + market data)."
   ]
  },
  {
   "cell_type": "code",
   "execution_count": null,
   "metadata": {
    "collapsed": true
   },
   "outputs": [],
   "source": [
    "# Save generated splitted datasets (feature matrices and response vectors) after having relevant feature selected\n",
    "# The 'f' at the end of the name of the dataset stands for the fact that features have been selected with random'f'orest\n",
    "if VERSION == 1:\n",
    "    X_train_f1.to_csv('Data/generated_splits/features_selected_randomforest/X1_train_f.csv', index = False)\n",
    "    X_test_f1.to_csv('Data/generated_splits/features_selected_randomforest/X1_test_f.csv', index = False)\n",
    "    y_train.to_csv('Data/generated_splits/features_selected_randomforest/y1_train_f.csv', index = False)\n",
    "    y_test.to_csv('Data/generated_splits/features_selected_randomforest/y1_test_f.csv', index = False)\n",
    "elif VERSION == 2:\n",
    "    X_train_f1.to_csv('Data/generated_splits/features_selected_randomforest/X2_train_f.csv', index = False)\n",
    "    X_test_f1.to_csv('Data/generated_splits/features_selected_randomforest/X2_test_f.csv', index = False)\n",
    "    y_train.to_csv('Data/generated_splits/features_selected_randomforest/y2_train_f.csv', index = False)\n",
    "    y_test.to_csv('Data/generated_splits/features_selected_randomforest/y2_test_f.csv', index = False)\n",
    "else: raise ValueError('VERSION value must be either 1 or 2')"
   ]
  },
  {
   "cell_type": "code",
   "execution_count": null,
   "metadata": {},
   "outputs": [],
   "source": [
    "display(X_train_f1.shape)\n",
    "display(X_test_f1.shape)"
   ]
  }
 ],
 "metadata": {
  "kernelspec": {
   "display_name": "Python 3",
   "language": "python",
   "name": "python3"
  },
  "language_info": {
   "codemirror_mode": {
    "name": "ipython",
    "version": 3
   },
   "file_extension": ".py",
   "mimetype": "text/x-python",
   "name": "python",
   "nbconvert_exporter": "python",
   "pygments_lexer": "ipython3",
   "version": "3.6.2"
  }
 },
 "nbformat": 4,
 "nbformat_minor": 2
}
