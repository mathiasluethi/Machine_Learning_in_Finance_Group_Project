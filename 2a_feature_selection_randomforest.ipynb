{
 "cells": [
  {
   "cell_type": "markdown",
   "metadata": {},
   "source": [
    "# Introduction to Machine Learning, UZH 2018, Group Project\n",
    "### Group 2: Barbara Capl, Mathias Lüthi, Pamela Matias, Stefanie Rentsch\n",
    "##       \n",
    "# 2a. Feature Selection with RandomForestClassifier\n",
    "\n",
    "In this section we use the feature matrices and the response vector that we prepared in chapter 1.  \n",
    "\n",
    "#### We use two different versions (created in chapter 1):\n",
    "Version 1: Feature Matrix, consists only of the Ratios                                                                        \n",
    "Version 2: Feature Matrix consists of Ratios + dummy variables for seasonality + other market data\n",
    "####  We will do Feature Selection and generate feature matrices with only selected n features for each Version above\n"
   ]
  },
  {
   "cell_type": "code",
   "execution_count": 115,
   "metadata": {},
   "outputs": [],
   "source": [
    "# hide unnecessary warnings (\"depreciation\" of packages etc.)\n",
    "import warnings\n",
    "warnings.filterwarnings('ignore')\n",
    "\n",
    "# import packages\n",
    "import numpy as np\n",
    "import pandas as pd\n",
    "import matplotlib.pyplot as plt\n",
    "from sklearn import preprocessing\n",
    "from sklearn.model_selection import train_test_split\n",
    "from sklearn.preprocessing import Imputer\n",
    "from sklearn.ensemble import RandomForestClassifier"
   ]
  },
  {
   "cell_type": "markdown",
   "metadata": {},
   "source": [
    "## 2.0. CHOOSE: which Feature Matrix (Version 1 or 2) you want to use"
   ]
  },
  {
   "cell_type": "markdown",
   "metadata": {},
   "source": [
    "#### Choose the Dataset Version you want\n",
    "VERSION = 1; Feature Matrix with only ratios                                  \n",
    "VERSION = 2;  Feature Matrix with ratios + saisonality + other market data\n"
   ]
  },
  {
   "cell_type": "code",
   "execution_count": 116,
   "metadata": {},
   "outputs": [
    {
     "name": "stdout",
     "output_type": "stream",
     "text": [
      "You chose Version 2 as working dataset. The Following Feature Selection will be Based on Dataset with Ratios, Seasonality & other Market Data as predictive Features\n"
     ]
    }
   ],
   "source": [
    "############### CHOOSE\n",
    "VERSION = 2\n",
    "\n",
    "\"\"\"\n",
    "INSERT NUMBER\n",
    "1 FOR VERSION 1\n",
    "2 FOR VERSION 2    \n",
    "\"\"\"\n",
    "###############\n",
    "\n",
    "# Defining sel_state variable for usage later and printing text according to your choise   \n",
    "if VERSION == 1:\n",
    "    sel_version = 'Based on Dataset with only the Ratios Dataset as predicive Features'\n",
    "    print('You chose Version 1 as working dataset. The Following Feature Selection will be ' + sel_version)\n",
    "elif VERSION == 2:\n",
    "    sel_version = 'Based on Dataset with Ratios, Seasonality & other Market Data as predictive Features'\n",
    "    print('You chose Version 2 as working dataset. The Following Feature Selection will be ' + sel_version)\n",
    "else: raise ValueError('VERSION must be either 1 or 2')"
   ]
  },
  {
   "cell_type": "markdown",
   "metadata": {},
   "source": [
    "## 2.1. Preparation"
   ]
  },
  {
   "cell_type": "markdown",
   "metadata": {},
   "source": [
    "### 2.1.1 Import the Response Vector and the Feature Matrices"
   ]
  },
  {
   "cell_type": "code",
   "execution_count": 117,
   "metadata": {},
   "outputs": [],
   "source": [
    "# Load in the response vector pre-generated in Chater 1 (Preparation of Data)\n",
    "y = pd.read_csv('Data/generated_datasets/response_1.csv', sep=',', header=0)"
   ]
  },
  {
   "cell_type": "code",
   "execution_count": 118,
   "metadata": {},
   "outputs": [],
   "source": [
    "# Load in te feature matrix according to the version you chose in section 2.0. above\n",
    "if VERSION == 1:\n",
    "    X = pd.read_csv('Data/generated_datasets/features_ratios_1.csv', sep=',', header=0)\n",
    "elif VERSION == 2:\n",
    "    X = pd.read_csv('Data/generated_datasets/features_additional_1.csv', sep=',', header=0)\n",
    "else: raise ValueError('VERSION value must be either 1 or 2')"
   ]
  },
  {
   "cell_type": "markdown",
   "metadata": {},
   "source": [
    "### 2.1.2. Train/ Test Split and fill missing values with median\n",
    "\n",
    "Note: Standardization is not done here because it is not necessary for Random Forest.                                        "
   ]
  },
  {
   "cell_type": "markdown",
   "metadata": {},
   "source": [
    "### Train/ Test Split\n",
    "\n",
    "Apply on chosen unsplitted, unimputed and unstandardized feature matrix and response vector."
   ]
  },
  {
   "cell_type": "code",
   "execution_count": 119,
   "metadata": {},
   "outputs": [
    {
     "name": "stdout",
     "output_type": "stream",
     "text": [
      "Type of feature_labels = <class 'list'> \n",
      "\n"
     ]
    }
   ],
   "source": [
    "# Train/test split, into 20% test size and 80% train size because it is a relatively small dataset\n",
    "X_train, X_test, y_train, y_test = train_test_split(X, y, test_size=0.2, random_state=0)\n",
    "\n",
    "# Extract all the feature labels for the respective chosen version\n",
    "feature_labels = list(X)\n",
    "print('Type of feature_labels = ' + str(type(feature_labels)), '\\n')\n",
    "#display(np.array(feature_labels))"
   ]
  },
  {
   "cell_type": "markdown",
   "metadata": {},
   "source": [
    "### Fill missing values (NaN)\n",
    "\n",
    "We use Imputer to fill missing entries with median only AFTER the split, to circumvent the bias that both splits would include information of each other."
   ]
  },
  {
   "cell_type": "code",
   "execution_count": 120,
   "metadata": {},
   "outputs": [],
   "source": [
    "# Use a median fill for train set\n",
    "imp = Imputer(missing_values=np.nan, strategy = 'median' , axis=0)\n",
    "imputed_dataset = pd.DataFrame(imp.fit_transform(X_train))\n",
    "imputed_dataset.columns = X_train.columns\n",
    "imputed_dataset.index = X_train.index\n",
    "X_train = imputed_dataset\n",
    "\n",
    "# Use a median fill for the test set\n",
    "imputed_dataset = pd.DataFrame(imp.fit_transform(X_test))\n",
    "imputed_dataset.columns = X_test.columns\n",
    "imputed_dataset.index = X_test.index\n",
    "X_test = imputed_dataset"
   ]
  },
  {
   "cell_type": "markdown",
   "metadata": {},
   "source": [
    "### 2.2.3. Print out Shape and Form of Feature Matrix and Response Vector"
   ]
  },
  {
   "cell_type": "markdown",
   "metadata": {},
   "source": [
    "### Train set"
   ]
  },
  {
   "cell_type": "code",
   "execution_count": 131,
   "metadata": {},
   "outputs": [
    {
     "name": "stdout",
     "output_type": "stream",
     "text": [
      "Ratio of \"UP\" (Train) = 58.07% \n",
      "\n",
      "Shape of Feature Matrix X_train = (2836, 181) \n",
      "\n",
      "Feature Matrix X_train: (below)\n"
     ]
    },
    {
     "data": {
      "text/html": [
       "<div>\n",
       "<style scoped>\n",
       "    .dataframe tbody tr th:only-of-type {\n",
       "        vertical-align: middle;\n",
       "    }\n",
       "\n",
       "    .dataframe tbody tr th {\n",
       "        vertical-align: top;\n",
       "    }\n",
       "\n",
       "    .dataframe thead th {\n",
       "        text-align: right;\n",
       "    }\n",
       "</style>\n",
       "<table border=\"1\" class=\"dataframe\">\n",
       "  <thead>\n",
       "    <tr style=\"text-align: right;\">\n",
       "      <th></th>\n",
       "      <th>SHRFLG</th>\n",
       "      <th>SHRENDDT</th>\n",
       "      <th>BIDLO</th>\n",
       "      <th>ASKHI</th>\n",
       "      <th>PRC</th>\n",
       "      <th>VOL</th>\n",
       "      <th>RET</th>\n",
       "      <th>BID</th>\n",
       "      <th>ASK</th>\n",
       "      <th>SHROUT</th>\n",
       "      <th>...</th>\n",
       "      <th>CUSIP_65410610</th>\n",
       "      <th>CUSIP_71708110</th>\n",
       "      <th>CUSIP_74271810</th>\n",
       "      <th>CUSIP_88579Y10</th>\n",
       "      <th>CUSIP_89417E10</th>\n",
       "      <th>CUSIP_91301710</th>\n",
       "      <th>CUSIP_91324P10</th>\n",
       "      <th>CUSIP_92343V10</th>\n",
       "      <th>CUSIP_92826C83</th>\n",
       "      <th>CUSIP_93114210</th>\n",
       "    </tr>\n",
       "  </thead>\n",
       "  <tbody>\n",
       "    <tr>\n",
       "      <th>1530</th>\n",
       "      <td>0.0</td>\n",
       "      <td>20140929.0</td>\n",
       "      <td>28.04</td>\n",
       "      <td>29.49</td>\n",
       "      <td>29.39</td>\n",
       "      <td>4611190.0</td>\n",
       "      <td>0.024042</td>\n",
       "      <td>29.40</td>\n",
       "      <td>29.41</td>\n",
       "      <td>6340863.0</td>\n",
       "      <td>...</td>\n",
       "      <td>0.0</td>\n",
       "      <td>1.0</td>\n",
       "      <td>0.0</td>\n",
       "      <td>0.0</td>\n",
       "      <td>0.0</td>\n",
       "      <td>0.0</td>\n",
       "      <td>0.0</td>\n",
       "      <td>0.0</td>\n",
       "      <td>0.0</td>\n",
       "      <td>0.0</td>\n",
       "    </tr>\n",
       "    <tr>\n",
       "      <th>1397</th>\n",
       "      <td>0.0</td>\n",
       "      <td>20130730.0</td>\n",
       "      <td>32.17</td>\n",
       "      <td>34.65</td>\n",
       "      <td>32.17</td>\n",
       "      <td>1296447.0</td>\n",
       "      <td>-0.057168</td>\n",
       "      <td>32.16</td>\n",
       "      <td>32.17</td>\n",
       "      <td>1209589.0</td>\n",
       "      <td>...</td>\n",
       "      <td>0.0</td>\n",
       "      <td>0.0</td>\n",
       "      <td>0.0</td>\n",
       "      <td>0.0</td>\n",
       "      <td>0.0</td>\n",
       "      <td>0.0</td>\n",
       "      <td>0.0</td>\n",
       "      <td>0.0</td>\n",
       "      <td>0.0</td>\n",
       "      <td>0.0</td>\n",
       "    </tr>\n",
       "    <tr>\n",
       "      <th>2238</th>\n",
       "      <td>0.0</td>\n",
       "      <td>20140330.0</td>\n",
       "      <td>54.31</td>\n",
       "      <td>58.49</td>\n",
       "      <td>56.82</td>\n",
       "      <td>3473222.0</td>\n",
       "      <td>0.026373</td>\n",
       "      <td>56.83</td>\n",
       "      <td>56.84</td>\n",
       "      <td>3786825.0</td>\n",
       "      <td>...</td>\n",
       "      <td>0.0</td>\n",
       "      <td>0.0</td>\n",
       "      <td>0.0</td>\n",
       "      <td>0.0</td>\n",
       "      <td>0.0</td>\n",
       "      <td>0.0</td>\n",
       "      <td>0.0</td>\n",
       "      <td>0.0</td>\n",
       "      <td>0.0</td>\n",
       "      <td>0.0</td>\n",
       "    </tr>\n",
       "  </tbody>\n",
       "</table>\n",
       "<p>3 rows × 181 columns</p>\n",
       "</div>"
      ],
      "text/plain": [
       "      SHRFLG    SHRENDDT  BIDLO  ASKHI    PRC        VOL       RET    BID  \\\n",
       "1530     0.0  20140929.0  28.04  29.49  29.39  4611190.0  0.024042  29.40   \n",
       "1397     0.0  20130730.0  32.17  34.65  32.17  1296447.0 -0.057168  32.16   \n",
       "2238     0.0  20140330.0  54.31  58.49  56.82  3473222.0  0.026373  56.83   \n",
       "\n",
       "        ASK     SHROUT       ...        CUSIP_65410610  CUSIP_71708110  \\\n",
       "1530  29.41  6340863.0       ...                   0.0             1.0   \n",
       "1397  32.17  1209589.0       ...                   0.0             0.0   \n",
       "2238  56.84  3786825.0       ...                   0.0             0.0   \n",
       "\n",
       "      CUSIP_74271810  CUSIP_88579Y10  CUSIP_89417E10  CUSIP_91301710  \\\n",
       "1530             0.0             0.0             0.0             0.0   \n",
       "1397             0.0             0.0             0.0             0.0   \n",
       "2238             0.0             0.0             0.0             0.0   \n",
       "\n",
       "      CUSIP_91324P10  CUSIP_92343V10  CUSIP_92826C83  CUSIP_93114210  \n",
       "1530             0.0             0.0             0.0             0.0  \n",
       "1397             0.0             0.0             0.0             0.0  \n",
       "2238             0.0             0.0             0.0             0.0  \n",
       "\n",
       "[3 rows x 181 columns]"
      ]
     },
     "metadata": {},
     "output_type": "display_data"
    },
    {
     "name": "stdout",
     "output_type": "stream",
     "text": [
      "\n",
      "\n",
      "Response Vector y_train: (below)\n"
     ]
    },
    {
     "data": {
      "text/html": [
       "<div>\n",
       "<style scoped>\n",
       "    .dataframe tbody tr th:only-of-type {\n",
       "        vertical-align: middle;\n",
       "    }\n",
       "\n",
       "    .dataframe tbody tr th {\n",
       "        vertical-align: top;\n",
       "    }\n",
       "\n",
       "    .dataframe thead th {\n",
       "        text-align: right;\n",
       "    }\n",
       "</style>\n",
       "<table border=\"1\" class=\"dataframe\">\n",
       "  <thead>\n",
       "    <tr style=\"text-align: right;\">\n",
       "      <th></th>\n",
       "      <th>0</th>\n",
       "    </tr>\n",
       "  </thead>\n",
       "  <tbody>\n",
       "    <tr>\n",
       "      <th>1530</th>\n",
       "      <td>0</td>\n",
       "    </tr>\n",
       "    <tr>\n",
       "      <th>1397</th>\n",
       "      <td>1</td>\n",
       "    </tr>\n",
       "    <tr>\n",
       "      <th>2238</th>\n",
       "      <td>0</td>\n",
       "    </tr>\n",
       "  </tbody>\n",
       "</table>\n",
       "</div>"
      ],
      "text/plain": [
       "      0\n",
       "1530  0\n",
       "1397  1\n",
       "2238  0"
      ]
     },
     "metadata": {},
     "output_type": "display_data"
    }
   ],
   "source": [
    "# Check if there is the approximately same percentage of '1' the train response vector\n",
    "print('Ratio of \"UP\" (Train) = ' + str(round(y_train['0'].sum() / y_train.size, 4)*100) + '%', '\\n')\n",
    "\n",
    "# Print and display properties and head of the training set we will use in the following\n",
    "print('Shape of Feature Matrix X_train = ' + str(X_train.shape), '\\n')\n",
    "print('Feature Matrix X_train: (below)')\n",
    "display(X_train.head(3))\n",
    "print('\\n')\n",
    "print('Response Vector y_train: (below)')\n",
    "display(y_train.head(3))"
   ]
  },
  {
   "cell_type": "markdown",
   "metadata": {},
   "source": [
    "### Test set"
   ]
  },
  {
   "cell_type": "code",
   "execution_count": 133,
   "metadata": {},
   "outputs": [
    {
     "name": "stdout",
     "output_type": "stream",
     "text": [
      "Ratio of \"UP\" (Test)  =  57.04% \n",
      "\n",
      "Shape of Feature Matrix X_test = (710, 181) \n",
      "\n",
      "Feature Matrix X_test\n"
     ]
    },
    {
     "data": {
      "text/html": [
       "<div>\n",
       "<style scoped>\n",
       "    .dataframe tbody tr th:only-of-type {\n",
       "        vertical-align: middle;\n",
       "    }\n",
       "\n",
       "    .dataframe tbody tr th {\n",
       "        vertical-align: top;\n",
       "    }\n",
       "\n",
       "    .dataframe thead th {\n",
       "        text-align: right;\n",
       "    }\n",
       "</style>\n",
       "<table border=\"1\" class=\"dataframe\">\n",
       "  <thead>\n",
       "    <tr style=\"text-align: right;\">\n",
       "      <th></th>\n",
       "      <th>SHRFLG</th>\n",
       "      <th>SHRENDDT</th>\n",
       "      <th>BIDLO</th>\n",
       "      <th>ASKHI</th>\n",
       "      <th>PRC</th>\n",
       "      <th>VOL</th>\n",
       "      <th>RET</th>\n",
       "      <th>BID</th>\n",
       "      <th>ASK</th>\n",
       "      <th>SHROUT</th>\n",
       "      <th>...</th>\n",
       "      <th>CUSIP_65410610</th>\n",
       "      <th>CUSIP_71708110</th>\n",
       "      <th>CUSIP_74271810</th>\n",
       "      <th>CUSIP_88579Y10</th>\n",
       "      <th>CUSIP_89417E10</th>\n",
       "      <th>CUSIP_91301710</th>\n",
       "      <th>CUSIP_91324P10</th>\n",
       "      <th>CUSIP_92343V10</th>\n",
       "      <th>CUSIP_92826C83</th>\n",
       "      <th>CUSIP_93114210</th>\n",
       "    </tr>\n",
       "  </thead>\n",
       "  <tbody>\n",
       "    <tr>\n",
       "      <th>817</th>\n",
       "      <td>0.0</td>\n",
       "      <td>20141009.0</td>\n",
       "      <td>97.87</td>\n",
       "      <td>103.30</td>\n",
       "      <td>100.75</td>\n",
       "      <td>15283673.0</td>\n",
       "      <td>-0.017073</td>\n",
       "      <td>100.75</td>\n",
       "      <td>100.76</td>\n",
       "      <td>5866161.0</td>\n",
       "      <td>...</td>\n",
       "      <td>0.0</td>\n",
       "      <td>0.0</td>\n",
       "      <td>0.0</td>\n",
       "      <td>0.0</td>\n",
       "      <td>0.0</td>\n",
       "      <td>0.0</td>\n",
       "      <td>0.0</td>\n",
       "      <td>0.0</td>\n",
       "      <td>0.0</td>\n",
       "      <td>0.0</td>\n",
       "    </tr>\n",
       "    <tr>\n",
       "      <th>2592</th>\n",
       "      <td>0.0</td>\n",
       "      <td>20131030.0</td>\n",
       "      <td>72.43</td>\n",
       "      <td>77.64</td>\n",
       "      <td>75.52</td>\n",
       "      <td>746229.0</td>\n",
       "      <td>0.050202</td>\n",
       "      <td>75.53</td>\n",
       "      <td>75.54</td>\n",
       "      <td>1078864.0</td>\n",
       "      <td>...</td>\n",
       "      <td>0.0</td>\n",
       "      <td>0.0</td>\n",
       "      <td>0.0</td>\n",
       "      <td>0.0</td>\n",
       "      <td>0.0</td>\n",
       "      <td>0.0</td>\n",
       "      <td>0.0</td>\n",
       "      <td>0.0</td>\n",
       "      <td>0.0</td>\n",
       "      <td>0.0</td>\n",
       "    </tr>\n",
       "    <tr>\n",
       "      <th>1475</th>\n",
       "      <td>0.0</td>\n",
       "      <td>20100225.0</td>\n",
       "      <td>18.53</td>\n",
       "      <td>20.00</td>\n",
       "      <td>18.66</td>\n",
       "      <td>10148052.0</td>\n",
       "      <td>0.025838</td>\n",
       "      <td>18.66</td>\n",
       "      <td>18.67</td>\n",
       "      <td>8069536.0</td>\n",
       "      <td>...</td>\n",
       "      <td>0.0</td>\n",
       "      <td>1.0</td>\n",
       "      <td>0.0</td>\n",
       "      <td>0.0</td>\n",
       "      <td>0.0</td>\n",
       "      <td>0.0</td>\n",
       "      <td>0.0</td>\n",
       "      <td>0.0</td>\n",
       "      <td>0.0</td>\n",
       "      <td>0.0</td>\n",
       "    </tr>\n",
       "  </tbody>\n",
       "</table>\n",
       "<p>3 rows × 181 columns</p>\n",
       "</div>"
      ],
      "text/plain": [
       "      SHRFLG    SHRENDDT  BIDLO   ASKHI     PRC         VOL       RET     BID  \\\n",
       "817      0.0  20141009.0  97.87  103.30  100.75  15283673.0 -0.017073  100.75   \n",
       "2592     0.0  20131030.0  72.43   77.64   75.52    746229.0  0.050202   75.53   \n",
       "1475     0.0  20100225.0  18.53   20.00   18.66  10148052.0  0.025838   18.66   \n",
       "\n",
       "         ASK     SHROUT       ...        CUSIP_65410610  CUSIP_71708110  \\\n",
       "817   100.76  5866161.0       ...                   0.0             0.0   \n",
       "2592   75.54  1078864.0       ...                   0.0             0.0   \n",
       "1475   18.67  8069536.0       ...                   0.0             1.0   \n",
       "\n",
       "      CUSIP_74271810  CUSIP_88579Y10  CUSIP_89417E10  CUSIP_91301710  \\\n",
       "817              0.0             0.0             0.0             0.0   \n",
       "2592             0.0             0.0             0.0             0.0   \n",
       "1475             0.0             0.0             0.0             0.0   \n",
       "\n",
       "      CUSIP_91324P10  CUSIP_92343V10  CUSIP_92826C83  CUSIP_93114210  \n",
       "817              0.0             0.0             0.0             0.0  \n",
       "2592             0.0             0.0             0.0             0.0  \n",
       "1475             0.0             0.0             0.0             0.0  \n",
       "\n",
       "[3 rows x 181 columns]"
      ]
     },
     "metadata": {},
     "output_type": "display_data"
    },
    {
     "name": "stdout",
     "output_type": "stream",
     "text": [
      "\n",
      "\n",
      "Response Vector y_test\n"
     ]
    },
    {
     "data": {
      "text/html": [
       "<div>\n",
       "<style scoped>\n",
       "    .dataframe tbody tr th:only-of-type {\n",
       "        vertical-align: middle;\n",
       "    }\n",
       "\n",
       "    .dataframe tbody tr th {\n",
       "        vertical-align: top;\n",
       "    }\n",
       "\n",
       "    .dataframe thead th {\n",
       "        text-align: right;\n",
       "    }\n",
       "</style>\n",
       "<table border=\"1\" class=\"dataframe\">\n",
       "  <thead>\n",
       "    <tr style=\"text-align: right;\">\n",
       "      <th></th>\n",
       "      <th>0</th>\n",
       "    </tr>\n",
       "  </thead>\n",
       "  <tbody>\n",
       "    <tr>\n",
       "      <th>817</th>\n",
       "      <td>1</td>\n",
       "    </tr>\n",
       "    <tr>\n",
       "      <th>2592</th>\n",
       "      <td>0</td>\n",
       "    </tr>\n",
       "    <tr>\n",
       "      <th>1475</th>\n",
       "      <td>1</td>\n",
       "    </tr>\n",
       "  </tbody>\n",
       "</table>\n",
       "</div>"
      ],
      "text/plain": [
       "      0\n",
       "817   1\n",
       "2592  0\n",
       "1475  1"
      ]
     },
     "metadata": {},
     "output_type": "display_data"
    }
   ],
   "source": [
    "# Check if there is the approximately same percentage of '1' in the test response vector\n",
    "print('Ratio of \"UP\" (Test)  =  ' + str(round(y_test['0'].sum() / y_test.size, 4)*100) + '%', '\\n')\n",
    "\n",
    "# Print and display properties and head of the training set we will use in the following\n",
    "print('Shape of Feature Matrix X_test = ' + str(X_test.shape), '\\n')\n",
    "print('Feature Matrix X_test')\n",
    "display(X_test.head(3))\n",
    "print('\\n')\n",
    "print('Response Vector y_test')\n",
    "display(y_test.head(3))"
   ]
  },
  {
   "cell_type": "markdown",
   "metadata": {},
   "source": [
    "###    \n",
    "## 2.2. Selecting & Extracting Features"
   ]
  },
  {
   "cell_type": "markdown",
   "metadata": {},
   "source": [
    "### 2.2.1.  Fit forest and show list of best 'n' features according to explanatory value"
   ]
  },
  {
   "cell_type": "markdown",
   "metadata": {},
   "source": [
    "# ===> MATHIAS LOOP FOR RUNNING THE CODE WITH  random_state 0 to 10 and then select best n features"
   ]
  },
  {
   "cell_type": "code",
   "execution_count": 227,
   "metadata": {},
   "outputs": [
    {
     "name": "stdout",
     "output_type": "stream",
     "text": [
      " 1 ewretx  0.0798\n",
      " 2 SHRENDDT 0.0488\n",
      " 3 vwretx  0.0479\n",
      " 4 vwretd  0.0453\n",
      " 5 sprtrn  0.0448\n",
      " 6 ewretd  0.0415\n",
      " 7 CAPEI   0.0298\n",
      " 8 pe_op_basic 0.0296\n",
      " 9 ALTPRCDT 0.0273\n",
      "10 VOL     0.0225\n",
      "11 RET     0.0194\n",
      "12 ASK     0.0172\n",
      "13 pe_inc  0.0158\n",
      "14 PEG_ltgforward 0.0157\n",
      "15 BIDLO   0.0148\n"
     ]
    },
    {
     "data": {
      "text/plain": [
       "array(['ewretx', 'SHRENDDT', 'vwretx', 'vwretd', 'sprtrn', 'ewretd',\n",
       "       'CAPEI', 'pe_op_basic', 'ALTPRCDT', 'VOL', 'RET', 'ASK', 'pe_inc',\n",
       "       'PEG_ltgforward', 'BIDLO'], dtype='<U14')"
      ]
     },
     "metadata": {},
     "output_type": "display_data"
    }
   ],
   "source": [
    "forest = RandomForestClassifier(random_state = 0)\n",
    "forest.max_depth = 6\n",
    "forest.fit(X_train, y_train)\n",
    "\n",
    "# Check features for their importance for the prediction\n",
    "feature_importances = forest.feature_importances_\n",
    "\n",
    "# sort features in line with their importance for the prediction (therefore ::-1)\n",
    "indices = np.argsort(feature_importances)[::-1]\n",
    "\n",
    "# print best n features\n",
    "n = 15\n",
    "for i in range(n):\n",
    "    print('{0:2d} {1:7s} {2:6.4f}'.format(i + 1, feature_labels[indices[i]], \n",
    "                                          feature_importances[indices[i]]))\n",
    "del i\n",
    "\n",
    "# feature_labels[indices[:n]] or similar is creating the following error: \n",
    "# TypeError: only integer scalar arrays can be converted to a scalar index\n",
    "# therefore we make a loop to generate a listwhere the best n features labels are extracted into\n",
    "# this list can be used in the plot in the following\n",
    "\n",
    "df_lab = []\n",
    "i= 0\n",
    "for i in range(n):\n",
    "    sel_ind = indices[0+i]\n",
    "    lab = feature_labels[sel_ind]\n",
    "    df_lab.append(lab)\n",
    "del i\n",
    "display(np.array(df_lab))"
   ]
  },
  {
   "cell_type": "markdown",
   "metadata": {},
   "source": [
    "### 2.2.2.  Plotting results"
   ]
  },
  {
   "cell_type": "code",
   "execution_count": 228,
   "metadata": {},
   "outputs": [
    {
     "data": {
      "image/png": "[encoded data removed]",
      "text/plain": [
       "<matplotlib.figure.Figure at 0x7f2f69bd6a20>"
      ]
     },
     "metadata": {},
     "output_type": "display_data"
    }
   ],
   "source": [
    "# Get cumsum of the n most important features\n",
    "feat_imp = np.sort(feature_importances)[::-1]\n",
    "sum_feat_imp = np.cumsum(feature_importances)[:n]\n",
    "\n",
    "# Plot Feature Importance (both cumulative and individual)\n",
    "plt.figure(figsize = (10, 5))\n",
    "plt.title('Feature Importances')\n",
    "plt.bar(range(n), feature_importances[indices[:n]], align = 'center')\n",
    "plt.xticks(range(n), df_lab, rotation = 90)\n",
    "plt.xlim([-1, n])\n",
    "plt.xlabel('Features')\n",
    "plt.ylabel('Relative Feature Importance')\n",
    "plt.step(range(n), sum_feat_imp, where = 'mid', label = 'Cumulative Feature Importance')\n",
    "plt.tight_layout();"
   ]
  },
  {
   "cell_type": "markdown",
   "metadata": {},
   "source": [
    "### 2.2.3. Extract best 'n' Variables and save into new Feature Matrices\n"
   ]
  },
  {
   "cell_type": "markdown",
   "metadata": {},
   "source": [
    "### Extract\n",
    "\n",
    "Automatically etract the chosen number n best variables directly from the feature matrices X_train and X_test into new ones X_train_f and X_test_f.                                                                                                                \n",
    "The f in the end stands for feature selection with random'f'orest.\n"
   ]
  },
  {
   "cell_type": "code",
   "execution_count": 229,
   "metadata": {},
   "outputs": [],
   "source": [
    "# generate new empty list for best features to be extracted into\n",
    "best_features = []\n",
    "\n",
    "# loop to append best n features onto the new list best_features\n",
    "n = 15\n",
    "for i in range(n):\n",
    "    best_features.append(feature_labels[indices[i]])\n",
    "del i\n",
    "\n",
    "# extract data of train and test feature matrix where column names are the same as those of the n best features\n",
    "# The f at the end of the datasets refer to the fact that the features were selected with random'f'orest\n",
    "X_train_f = X_train[best_features]\n",
    "X_test_f = X_test[best_features]\n",
    "feature_labels_f = X_train_f.columns[:]\n",
    "\n",
    "# display and print results\n",
    "#print('Best Features after Random Forest are: ', '\\n')\n",
    "#display(np.array(best_features))\n",
    "#print('Head of X_train_f is: (below) ', '\\n')\n",
    "#display(X_train_f.head(2))\n",
    "#print('\\n')\n",
    "#print('Extracted feature labels are: (below)')\n",
    "#display(feature_labels_f[:])"
   ]
  },
  {
   "cell_type": "code",
   "execution_count": 230,
   "metadata": {},
   "outputs": [
    {
     "name": "stdout",
     "output_type": "stream",
     "text": [
      "\n",
      "Feature Matrix with selected Features (Train):\n"
     ]
    },
    {
     "data": {
      "text/html": [
       "<div>\n",
       "<style scoped>\n",
       "    .dataframe tbody tr th:only-of-type {\n",
       "        vertical-align: middle;\n",
       "    }\n",
       "\n",
       "    .dataframe tbody tr th {\n",
       "        vertical-align: top;\n",
       "    }\n",
       "\n",
       "    .dataframe thead th {\n",
       "        text-align: right;\n",
       "    }\n",
       "</style>\n",
       "<table border=\"1\" class=\"dataframe\">\n",
       "  <thead>\n",
       "    <tr style=\"text-align: right;\">\n",
       "      <th></th>\n",
       "      <th>ewretx</th>\n",
       "      <th>SHRENDDT</th>\n",
       "      <th>vwretx</th>\n",
       "      <th>vwretd</th>\n",
       "      <th>sprtrn</th>\n",
       "      <th>ewretd</th>\n",
       "      <th>CAPEI</th>\n",
       "      <th>pe_op_basic</th>\n",
       "      <th>ALTPRCDT</th>\n",
       "      <th>VOL</th>\n",
       "      <th>RET</th>\n",
       "      <th>ASK</th>\n",
       "      <th>pe_inc</th>\n",
       "      <th>PEG_ltgforward</th>\n",
       "      <th>BIDLO</th>\n",
       "    </tr>\n",
       "  </thead>\n",
       "  <tbody>\n",
       "    <tr>\n",
       "      <th>1530</th>\n",
       "      <td>0.032156</td>\n",
       "      <td>20140929.0</td>\n",
       "      <td>0.038183</td>\n",
       "      <td>0.040186</td>\n",
       "      <td>0.037655</td>\n",
       "      <td>0.033697</td>\n",
       "      <td>20.773</td>\n",
       "      <td>15.468</td>\n",
       "      <td>20140829.0</td>\n",
       "      <td>4611190.0</td>\n",
       "      <td>0.024042</td>\n",
       "      <td>29.41</td>\n",
       "      <td>18.484</td>\n",
       "      <td>5.963</td>\n",
       "      <td>28.04</td>\n",
       "    </tr>\n",
       "    <tr>\n",
       "      <th>1397</th>\n",
       "      <td>-0.015631</td>\n",
       "      <td>20130730.0</td>\n",
       "      <td>-0.017055</td>\n",
       "      <td>-0.015039</td>\n",
       "      <td>-0.014999</td>\n",
       "      <td>-0.013012</td>\n",
       "      <td>25.089</td>\n",
       "      <td>17.203</td>\n",
       "      <td>20130628.0</td>\n",
       "      <td>1296447.0</td>\n",
       "      <td>-0.057168</td>\n",
       "      <td>32.17</td>\n",
       "      <td>39.232</td>\n",
       "      <td>5.702</td>\n",
       "      <td>32.17</td>\n",
       "    </tr>\n",
       "  </tbody>\n",
       "</table>\n",
       "</div>"
      ],
      "text/plain": [
       "        ewretx    SHRENDDT    vwretx    vwretd    sprtrn    ewretd   CAPEI  \\\n",
       "1530  0.032156  20140929.0  0.038183  0.040186  0.037655  0.033697  20.773   \n",
       "1397 -0.015631  20130730.0 -0.017055 -0.015039 -0.014999 -0.013012  25.089   \n",
       "\n",
       "      pe_op_basic    ALTPRCDT        VOL       RET    ASK  pe_inc  \\\n",
       "1530       15.468  20140829.0  4611190.0  0.024042  29.41  18.484   \n",
       "1397       17.203  20130628.0  1296447.0 -0.057168  32.17  39.232   \n",
       "\n",
       "      PEG_ltgforward  BIDLO  \n",
       "1530           5.963  28.04  \n",
       "1397           5.702  32.17  "
      ]
     },
     "metadata": {},
     "output_type": "display_data"
    },
    {
     "name": "stdout",
     "output_type": "stream",
     "text": [
      "\n",
      "Feature Matrix with selected Features (Test):\n"
     ]
    },
    {
     "data": {
      "text/html": [
       "<div>\n",
       "<style scoped>\n",
       "    .dataframe tbody tr th:only-of-type {\n",
       "        vertical-align: middle;\n",
       "    }\n",
       "\n",
       "    .dataframe tbody tr th {\n",
       "        vertical-align: top;\n",
       "    }\n",
       "\n",
       "    .dataframe thead th {\n",
       "        text-align: right;\n",
       "    }\n",
       "</style>\n",
       "<table border=\"1\" class=\"dataframe\">\n",
       "  <thead>\n",
       "    <tr style=\"text-align: right;\">\n",
       "      <th></th>\n",
       "      <th>ewretx</th>\n",
       "      <th>SHRENDDT</th>\n",
       "      <th>vwretx</th>\n",
       "      <th>vwretd</th>\n",
       "      <th>sprtrn</th>\n",
       "      <th>ewretd</th>\n",
       "      <th>CAPEI</th>\n",
       "      <th>pe_op_basic</th>\n",
       "      <th>ALTPRCDT</th>\n",
       "      <th>VOL</th>\n",
       "      <th>RET</th>\n",
       "      <th>ASK</th>\n",
       "      <th>pe_inc</th>\n",
       "      <th>PEG_ltgforward</th>\n",
       "      <th>BIDLO</th>\n",
       "    </tr>\n",
       "  </thead>\n",
       "  <tbody>\n",
       "    <tr>\n",
       "      <th>817</th>\n",
       "      <td>-0.046891</td>\n",
       "      <td>20141009.0</td>\n",
       "      <td>-0.026823</td>\n",
       "      <td>-0.025129</td>\n",
       "      <td>-0.015514</td>\n",
       "      <td>-0.044988</td>\n",
       "      <td>20.983</td>\n",
       "      <td>16.127</td>\n",
       "      <td>20140930.0</td>\n",
       "      <td>15283673.0</td>\n",
       "      <td>-0.017073</td>\n",
       "      <td>100.76</td>\n",
       "      <td>16.224</td>\n",
       "      <td>1.330</td>\n",
       "      <td>97.87</td>\n",
       "    </tr>\n",
       "    <tr>\n",
       "      <th>2592</th>\n",
       "      <td>0.049754</td>\n",
       "      <td>20131030.0</td>\n",
       "      <td>0.035682</td>\n",
       "      <td>0.037477</td>\n",
       "      <td>0.029749</td>\n",
       "      <td>0.051828</td>\n",
       "      <td>21.663</td>\n",
       "      <td>16.311</td>\n",
       "      <td>20130930.0</td>\n",
       "      <td>746229.0</td>\n",
       "      <td>0.050202</td>\n",
       "      <td>75.54</td>\n",
       "      <td>18.555</td>\n",
       "      <td>1.572</td>\n",
       "      <td>72.43</td>\n",
       "    </tr>\n",
       "  </tbody>\n",
       "</table>\n",
       "</div>"
      ],
      "text/plain": [
       "        ewretx    SHRENDDT    vwretx    vwretd    sprtrn    ewretd   CAPEI  \\\n",
       "817  -0.046891  20141009.0 -0.026823 -0.025129 -0.015514 -0.044988  20.983   \n",
       "2592  0.049754  20131030.0  0.035682  0.037477  0.029749  0.051828  21.663   \n",
       "\n",
       "      pe_op_basic    ALTPRCDT         VOL       RET     ASK  pe_inc  \\\n",
       "817        16.127  20140930.0  15283673.0 -0.017073  100.76  16.224   \n",
       "2592       16.311  20130930.0    746229.0  0.050202   75.54  18.555   \n",
       "\n",
       "      PEG_ltgforward  BIDLO  \n",
       "817            1.330  97.87  \n",
       "2592           1.572  72.43  "
      ]
     },
     "metadata": {},
     "output_type": "display_data"
    },
    {
     "name": "stdout",
     "output_type": "stream",
     "text": [
      "\n"
     ]
    }
   ],
   "source": [
    "# Show feature matrices (train, test) after feature selection\n",
    "print(\"\")\n",
    "print('Feature Matrix with selected Features (Train):')\n",
    "display(X_train_f.head(2))\n",
    "print(\"\")\n",
    "print('Feature Matrix with selected Features (Test):')\n",
    "display(X_test_f.head(2))\n",
    "print(\"\")"
   ]
  },
  {
   "cell_type": "markdown",
   "metadata": {},
   "source": [
    "### Save\n",
    "\n",
    "Feature Matrices and Response Vectors after Train/Test Split and after Feature Selection are saved as csv:             \n",
    "Version 1 (ratios as explanatory variables)                                                                          \n",
    "Version 2 (ratios + seasonality + market data)."
   ]
  },
  {
   "cell_type": "code",
   "execution_count": 231,
   "metadata": {},
   "outputs": [],
   "source": [
    "# Save generated splitted datasets (feature matrices and response vectors) after having relevant feature selected\n",
    "# The 'f' at the end of the name of the dataset stands for the fact that features have been selected with random'f'orest\n",
    "if VERSION == 1:\n",
    "    X_train_f.to_csv('Data/generated_splits/features_selected_randomforest/X1_train_f.csv', index = False)\n",
    "    X_test_f.to_csv('Data/generated_splits/features_selected_randomforest/X1_test_f.csv', index = False)\n",
    "    y_train.to_csv('Data/generated_splits/features_selected_randomforest/y1_train_f.csv', index = False)\n",
    "    y_test.to_csv('Data/generated_splits/features_selected_randomforest/y1_test_f.csv', index = False)\n",
    "elif VERSION == 2:\n",
    "    X_train_f.to_csv('Data/generated_splits/features_selected_randomforest/X2_train_f.csv', index = False)\n",
    "    X_test_f.to_csv('Data/generated_splits/features_selected_randomforest/X2_test_f.csv', index = False)\n",
    "    y_train.to_csv('Data/generated_splits/features_selected_randomforest/y2_train_f.csv', index = False)\n",
    "    y_test.to_csv('Data/generated_splits/features_selected_randomforest/y2_test_f.csv', index = False)\n",
    "else: raise ValueError('VERSION value must be either 1 or 2')"
   ]
  }
 ],
 "metadata": {
  "kernelspec": {
   "display_name": "Python 3",
   "language": "python",
   "name": "python3"
  },
  "language_info": {
   "codemirror_mode": {
    "name": "ipython",
    "version": 3
   },
   "file_extension": ".py",
   "mimetype": "text/x-python",
   "name": "python",
   "nbconvert_exporter": "python",
   "pygments_lexer": "ipython3",
   "version": "3.6.4"
  }
 },
 "nbformat": 4,
 "nbformat_minor": 2
}
