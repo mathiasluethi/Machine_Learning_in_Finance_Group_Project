{
 "cells": [
  {
   "cell_type": "markdown",
   "metadata": {},
   "source": [
    "# Introduction to Machine Learning, UZH 2018, Group Project\n",
    "### Group 2: Barbara Capl, Mathias Lüthi, Pamela Matias, Stefanie Rentsch\n",
    "##       \n",
    "# 3. Support Vector Machines (SVM)\n",
    "\n",
    "In this section we use the feature matrices and response vectors with features selected in chapter 2.  \n",
    "\n",
    "#### We use two different versions (created in chapter 1):\n",
    "Version 1: Feature Matrix consists only of the Ratios                                                                        \n",
    "Version 2: Feature Matrix consists of Ratios + dummy variables for seasonality + other market data\n",
    "####   "
   ]
  },
  {
   "cell_type": "code",
   "execution_count": 1,
   "metadata": {},
   "outputs": [],
   "source": [
    "# hide unnecessary warnings (\"depreciation\" of packages etc.)\n",
    "import warnings\n",
    "warnings.filterwarnings('ignore')\n",
    "\n",
    "# Load packages\n",
    "import numpy as np\n",
    "import pandas as pd\n",
    "import matplotlib.pyplot as plt\n",
    "import statsmodels.api as sm\n",
    "import statsmodels.formula.api as smf\n",
    "plt.style.use('seaborn-whitegrid')\n",
    "from sklearn.pipeline import Pipeline\n",
    "from sklearn.model_selection import GridSearchCV\n",
    "from sklearn.preprocessing import StandardScaler\n",
    "from sklearn import metrics\n",
    "from sklearn.svm import SVC\n",
    "from sklearn.linear_model import LogisticRegression\n",
    "from sklearn.model_selection import train_test_split"
   ]
  },
  {
   "cell_type": "markdown",
   "metadata": {},
   "source": [
    "## 3.0. Choose which Feature Matrix (Version 1 or 2) you want to load in by choosing the Case\n",
    "### Available are: Case 1 and Case 2"
   ]
  },
  {
   "cell_type": "code",
   "execution_count": 2,
   "metadata": {},
   "outputs": [],
   "source": [
    "# If case = 1, Feature Matrix Version 1 is used (see description above below title)\n",
    "# If case = 2, feature matrix Version 2 is used (see description above below title)\n",
    "\n",
    "_CASE_ = 1"
   ]
  },
  {
   "cell_type": "markdown",
   "metadata": {},
   "source": [
    "## 3.1. Preparation"
   ]
  },
  {
   "cell_type": "markdown",
   "metadata": {},
   "source": [
    "### 3.1.1. Import the Response Vector and the Feature Matrix"
   ]
  },
  {
   "cell_type": "code",
   "execution_count": 3,
   "metadata": {},
   "outputs": [
    {
     "data": {
      "text/html": [
       "<div>\n",
       "<style scoped>\n",
       "    .dataframe tbody tr th:only-of-type {\n",
       "        vertical-align: middle;\n",
       "    }\n",
       "\n",
       "    .dataframe tbody tr th {\n",
       "        vertical-align: top;\n",
       "    }\n",
       "\n",
       "    .dataframe thead th {\n",
       "        text-align: right;\n",
       "    }\n",
       "</style>\n",
       "<table border=\"1\" class=\"dataframe\">\n",
       "  <thead>\n",
       "    <tr style=\"text-align: right;\">\n",
       "      <th></th>\n",
       "      <th>CAPEI</th>\n",
       "      <th>pcf</th>\n",
       "      <th>divyield</th>\n",
       "      <th>pe_inc</th>\n",
       "      <th>evm</th>\n",
       "      <th>bm</th>\n",
       "      <th>pe_op_dil</th>\n",
       "      <th>PEG_ltgforward</th>\n",
       "      <th>pe_op_basic</th>\n",
       "      <th>ptb</th>\n",
       "      <th>aftret_equity</th>\n",
       "      <th>accrual</th>\n",
       "      <th>pe_exi</th>\n",
       "      <th>PEG_1yrforward</th>\n",
       "      <th>fcf_ocf</th>\n",
       "    </tr>\n",
       "  </thead>\n",
       "  <tbody>\n",
       "    <tr>\n",
       "      <th>0</th>\n",
       "      <td>20.773</td>\n",
       "      <td>9.957</td>\n",
       "      <td>0.0354</td>\n",
       "      <td>18.484</td>\n",
       "      <td>10.644</td>\n",
       "      <td>0.547</td>\n",
       "      <td>15.633</td>\n",
       "      <td>5.963</td>\n",
       "      <td>15.468</td>\n",
       "      <td>1.811</td>\n",
       "      <td>0.134</td>\n",
       "      <td>0.048</td>\n",
       "      <td>18.484</td>\n",
       "      <td>13.678</td>\n",
       "      <td>0.932</td>\n",
       "    </tr>\n",
       "    <tr>\n",
       "      <th>1</th>\n",
       "      <td>25.089</td>\n",
       "      <td>8.509</td>\n",
       "      <td>0.0398</td>\n",
       "      <td>39.232</td>\n",
       "      <td>9.246</td>\n",
       "      <td>0.461</td>\n",
       "      <td>17.296</td>\n",
       "      <td>5.702</td>\n",
       "      <td>17.203</td>\n",
       "      <td>2.189</td>\n",
       "      <td>0.058</td>\n",
       "      <td>0.047</td>\n",
       "      <td>39.232</td>\n",
       "      <td>1.521</td>\n",
       "      <td>0.441</td>\n",
       "    </tr>\n",
       "    <tr>\n",
       "      <th>2</th>\n",
       "      <td>12.337</td>\n",
       "      <td>1.993</td>\n",
       "      <td>0.0268</td>\n",
       "      <td>13.062</td>\n",
       "      <td>12.474</td>\n",
       "      <td>0.911</td>\n",
       "      <td>9.209</td>\n",
       "      <td>2.248</td>\n",
       "      <td>9.135</td>\n",
       "      <td>1.076</td>\n",
       "      <td>0.086</td>\n",
       "      <td>0.038</td>\n",
       "      <td>13.062</td>\n",
       "      <td>0.380</td>\n",
       "      <td>1.000</td>\n",
       "    </tr>\n",
       "  </tbody>\n",
       "</table>\n",
       "</div>"
      ],
      "text/plain": [
       "    CAPEI    pcf  divyield  pe_inc     evm     bm  pe_op_dil  PEG_ltgforward  \\\n",
       "0  20.773  9.957    0.0354  18.484  10.644  0.547     15.633           5.963   \n",
       "1  25.089  8.509    0.0398  39.232   9.246  0.461     17.296           5.702   \n",
       "2  12.337  1.993    0.0268  13.062  12.474  0.911      9.209           2.248   \n",
       "\n",
       "   pe_op_basic    ptb  aftret_equity  accrual  pe_exi  PEG_1yrforward  fcf_ocf  \n",
       "0       15.468  1.811          0.134    0.048  18.484          13.678    0.932  \n",
       "1       17.203  2.189          0.058    0.047  39.232           1.521    0.441  \n",
       "2        9.135  1.076          0.086    0.038  13.062           0.380    1.000  "
      ]
     },
     "metadata": {},
     "output_type": "display_data"
    },
    {
     "data": {
      "text/html": [
       "<div>\n",
       "<style scoped>\n",
       "    .dataframe tbody tr th:only-of-type {\n",
       "        vertical-align: middle;\n",
       "    }\n",
       "\n",
       "    .dataframe tbody tr th {\n",
       "        vertical-align: top;\n",
       "    }\n",
       "\n",
       "    .dataframe thead th {\n",
       "        text-align: right;\n",
       "    }\n",
       "</style>\n",
       "<table border=\"1\" class=\"dataframe\">\n",
       "  <thead>\n",
       "    <tr style=\"text-align: right;\">\n",
       "      <th></th>\n",
       "      <th>0</th>\n",
       "    </tr>\n",
       "  </thead>\n",
       "  <tbody>\n",
       "    <tr>\n",
       "      <th>0</th>\n",
       "      <td>1</td>\n",
       "    </tr>\n",
       "    <tr>\n",
       "      <th>1</th>\n",
       "      <td>0</td>\n",
       "    </tr>\n",
       "    <tr>\n",
       "      <th>2</th>\n",
       "      <td>1</td>\n",
       "    </tr>\n",
       "  </tbody>\n",
       "</table>\n",
       "</div>"
      ],
      "text/plain": [
       "   0\n",
       "0  1\n",
       "1  0\n",
       "2  1"
      ]
     },
     "metadata": {},
     "output_type": "display_data"
    }
   ],
   "source": [
    "# import Data (already splitted to train/test-data and selected features-> bc_randomforest_feature_selection)\n",
    "if _CASE_ == 1:\n",
    "    X_train_s = pd.read_csv('Data/generated_splits/X1_train_s.csv', sep=',', header=0)\n",
    "    X_test_s = pd.read_csv('Data/generated_splits/X1_test_s.csv', sep=',', header=0)\n",
    "    y_train_s = pd.read_csv('Data/generated_splits/y1_train_s.csv', sep=',', header=0)\n",
    "    y_test_s = pd.read_csv('Data/generated_splits/y1_test_s.csv', sep=',', header=0)\n",
    "elif _CASE_ == 2:\n",
    "    X_train_s = pd.read_csv('Data/generated_splits/X2_train_s.csv', sep=',', header=0)\n",
    "    X_test_s = pd.read_csv('Data/generated_splits/X2_test_s.csv', sep=',', header=0)\n",
    "    y_train_s = pd.read_csv('Data/generated_splits/y2_train_s.csv', sep=',', header=0)\n",
    "    y_test_s = pd.read_csv('Data/generated_splits/y2_test_s.csv', sep=',', header=0)\n",
    "else: raise ValueError('_CASE_ value must be either 1 or 2')\n",
    "\n",
    "##### <==== WARUM?\n",
    "#X1_train_s = X1_train.set_index([\"PERMNO\", \"DATE\"])\n",
    "#y1_train_s = y1_train.set_index([\"PERMNO\", \"DATE\"])\n",
    "#X1_test_s = X1_train.set_index([\"PERMNO\", \"DATE\"])\n",
    "#y1_test_s = y1_train.set_index([\"PERMNO\", \"DATE\"])\n",
    "\n",
    "\n",
    "display(X_train_s.head(3))\n",
    "display(y_train_s.head(3))"
   ]
  },
  {
   "cell_type": "markdown",
   "metadata": {},
   "source": [
    "### Set Index"
   ]
  },
  {
   "cell_type": "code",
   "execution_count": 4,
   "metadata": {},
   "outputs": [],
   "source": [
    "# rename column 1 from unnamed to index_number\n",
    "colNms_X_train = X_train_s.columns.values\n",
    "colNms_X_train[0] = \"index_number\"\n",
    "\n",
    "colNms_y_train = y_train_s.columns.values\n",
    "colNms_y_train[0] = \"index_number\"\n",
    "\n",
    "colNms_X_test = X_test_s.columns.values\n",
    "colNms_X_test[0] = \"index_number\"\n",
    "\n",
    "colNms_y_test = y_test_s.columns.values\n",
    "colNms_y_test[0] = \"index_number\"\n",
    "\n",
    "\n",
    "# set index\n",
    "X_train_s = X_train_s.set_index([\"index_number\"])\n",
    "y_train_s = y_train_s.set_index([\"index_number\"])\n",
    "X_test_s = X_test_s.set_index([\"index_number\"])\n",
    "y_test_s = y_test_s.set_index([\"index_number\"])"
   ]
  },
  {
   "cell_type": "markdown",
   "metadata": {},
   "source": [
    "### 3.1.2. Print out Shape and Form of Feature Matrix and Response Vector"
   ]
  },
  {
   "cell_type": "markdown",
   "metadata": {},
   "source": [
    "### Train Set"
   ]
  },
  {
   "cell_type": "code",
   "execution_count": 4,
   "metadata": {},
   "outputs": [
    {
     "name": "stdout",
     "output_type": "stream",
     "text": [
      "\n",
      "Shape (rows, columns) of Feature Matrix X (Train), Case 1  = (2836, 15)\n",
      "\n",
      "\n",
      "Feature Matrix X (Train) with selected Features, Case 1\n"
     ]
    },
    {
     "data": {
      "text/html": [
       "<div>\n",
       "<style scoped>\n",
       "    .dataframe tbody tr th:only-of-type {\n",
       "        vertical-align: middle;\n",
       "    }\n",
       "\n",
       "    .dataframe tbody tr th {\n",
       "        vertical-align: top;\n",
       "    }\n",
       "\n",
       "    .dataframe thead th {\n",
       "        text-align: right;\n",
       "    }\n",
       "</style>\n",
       "<table border=\"1\" class=\"dataframe\">\n",
       "  <thead>\n",
       "    <tr style=\"text-align: right;\">\n",
       "      <th></th>\n",
       "      <th>CAPEI</th>\n",
       "      <th>pcf</th>\n",
       "      <th>divyield</th>\n",
       "      <th>pe_inc</th>\n",
       "      <th>evm</th>\n",
       "      <th>bm</th>\n",
       "      <th>pe_op_dil</th>\n",
       "      <th>PEG_ltgforward</th>\n",
       "      <th>pe_op_basic</th>\n",
       "      <th>ptb</th>\n",
       "      <th>aftret_equity</th>\n",
       "      <th>accrual</th>\n",
       "      <th>pe_exi</th>\n",
       "      <th>PEG_1yrforward</th>\n",
       "      <th>fcf_ocf</th>\n",
       "    </tr>\n",
       "  </thead>\n",
       "  <tbody>\n",
       "    <tr>\n",
       "      <th>0</th>\n",
       "      <td>20.773</td>\n",
       "      <td>9.957</td>\n",
       "      <td>0.0354</td>\n",
       "      <td>18.484</td>\n",
       "      <td>10.644</td>\n",
       "      <td>0.547</td>\n",
       "      <td>15.633</td>\n",
       "      <td>5.963</td>\n",
       "      <td>15.468</td>\n",
       "      <td>1.811</td>\n",
       "      <td>0.134</td>\n",
       "      <td>0.048</td>\n",
       "      <td>18.484</td>\n",
       "      <td>13.678</td>\n",
       "      <td>0.932</td>\n",
       "    </tr>\n",
       "    <tr>\n",
       "      <th>1</th>\n",
       "      <td>25.089</td>\n",
       "      <td>8.509</td>\n",
       "      <td>0.0398</td>\n",
       "      <td>39.232</td>\n",
       "      <td>9.246</td>\n",
       "      <td>0.461</td>\n",
       "      <td>17.296</td>\n",
       "      <td>5.702</td>\n",
       "      <td>17.203</td>\n",
       "      <td>2.189</td>\n",
       "      <td>0.058</td>\n",
       "      <td>0.047</td>\n",
       "      <td>39.232</td>\n",
       "      <td>1.521</td>\n",
       "      <td>0.441</td>\n",
       "    </tr>\n",
       "    <tr>\n",
       "      <th>2</th>\n",
       "      <td>12.337</td>\n",
       "      <td>1.993</td>\n",
       "      <td>0.0268</td>\n",
       "      <td>13.062</td>\n",
       "      <td>12.474</td>\n",
       "      <td>0.911</td>\n",
       "      <td>9.209</td>\n",
       "      <td>2.248</td>\n",
       "      <td>9.135</td>\n",
       "      <td>1.076</td>\n",
       "      <td>0.086</td>\n",
       "      <td>0.038</td>\n",
       "      <td>13.062</td>\n",
       "      <td>0.380</td>\n",
       "      <td>1.000</td>\n",
       "    </tr>\n",
       "  </tbody>\n",
       "</table>\n",
       "</div>"
      ],
      "text/plain": [
       "    CAPEI    pcf  divyield  pe_inc     evm     bm  pe_op_dil  PEG_ltgforward  \\\n",
       "0  20.773  9.957    0.0354  18.484  10.644  0.547     15.633           5.963   \n",
       "1  25.089  8.509    0.0398  39.232   9.246  0.461     17.296           5.702   \n",
       "2  12.337  1.993    0.0268  13.062  12.474  0.911      9.209           2.248   \n",
       "\n",
       "   pe_op_basic    ptb  aftret_equity  accrual  pe_exi  PEG_1yrforward  fcf_ocf  \n",
       "0       15.468  1.811          0.134    0.048  18.484          13.678    0.932  \n",
       "1       17.203  2.189          0.058    0.047  39.232           1.521    0.441  \n",
       "2        9.135  1.076          0.086    0.038  13.062           0.380    1.000  "
      ]
     },
     "metadata": {},
     "output_type": "display_data"
    },
    {
     "name": "stdout",
     "output_type": "stream",
     "text": [
      "\n",
      "Response Vector y (Train) after Feature Selection, Case 1\n"
     ]
    },
    {
     "data": {
      "text/html": [
       "<div>\n",
       "<style scoped>\n",
       "    .dataframe tbody tr th:only-of-type {\n",
       "        vertical-align: middle;\n",
       "    }\n",
       "\n",
       "    .dataframe tbody tr th {\n",
       "        vertical-align: top;\n",
       "    }\n",
       "\n",
       "    .dataframe thead th {\n",
       "        text-align: right;\n",
       "    }\n",
       "</style>\n",
       "<table border=\"1\" class=\"dataframe\">\n",
       "  <thead>\n",
       "    <tr style=\"text-align: right;\">\n",
       "      <th></th>\n",
       "      <th>0</th>\n",
       "    </tr>\n",
       "  </thead>\n",
       "  <tbody>\n",
       "    <tr>\n",
       "      <th>0</th>\n",
       "      <td>1</td>\n",
       "    </tr>\n",
       "    <tr>\n",
       "      <th>1</th>\n",
       "      <td>0</td>\n",
       "    </tr>\n",
       "    <tr>\n",
       "      <th>2</th>\n",
       "      <td>1</td>\n",
       "    </tr>\n",
       "  </tbody>\n",
       "</table>\n",
       "</div>"
      ],
      "text/plain": [
       "   0\n",
       "0  1\n",
       "1  0\n",
       "2  1"
      ]
     },
     "metadata": {},
     "output_type": "display_data"
    },
    {
     "name": "stdout",
     "output_type": "stream",
     "text": [
      "\n"
     ]
    }
   ],
   "source": [
    "print(\"\")\n",
    "print('Shape (rows, columns) of Feature Matrix X (Train), Case ' + str(_CASE_), ' = ' + str(X_train_s.shape))\n",
    "print(\"\")\n",
    "print(\"\")\n",
    "print('Feature Matrix X (Train) with selected Features, Case ' + str(_CASE_))\n",
    "display(X_train_s.head(3))\n",
    "print(\"\")\n",
    "print('Response Vector y (Train) after Feature Selection, Case ' + str(_CASE_))\n",
    "display(y_train_s.head(3))\n",
    "print(\"\")"
   ]
  },
  {
   "cell_type": "markdown",
   "metadata": {},
   "source": [
    "### Test Set"
   ]
  },
  {
   "cell_type": "code",
   "execution_count": 5,
   "metadata": {},
   "outputs": [
    {
     "name": "stdout",
     "output_type": "stream",
     "text": [
      "\n",
      "Shape (rows, columns) of Feature Matrix X (Test), Case 1  = (710, 15)\n",
      "\n",
      "Feature Matrix X (Test) with selected Features, Case 1\n"
     ]
    },
    {
     "data": {
      "text/html": [
       "<div>\n",
       "<style scoped>\n",
       "    .dataframe tbody tr th:only-of-type {\n",
       "        vertical-align: middle;\n",
       "    }\n",
       "\n",
       "    .dataframe tbody tr th {\n",
       "        vertical-align: top;\n",
       "    }\n",
       "\n",
       "    .dataframe thead th {\n",
       "        text-align: right;\n",
       "    }\n",
       "</style>\n",
       "<table border=\"1\" class=\"dataframe\">\n",
       "  <thead>\n",
       "    <tr style=\"text-align: right;\">\n",
       "      <th></th>\n",
       "      <th>CAPEI</th>\n",
       "      <th>pcf</th>\n",
       "      <th>divyield</th>\n",
       "      <th>pe_inc</th>\n",
       "      <th>evm</th>\n",
       "      <th>bm</th>\n",
       "      <th>pe_op_dil</th>\n",
       "      <th>PEG_ltgforward</th>\n",
       "      <th>pe_op_basic</th>\n",
       "      <th>ptb</th>\n",
       "      <th>aftret_equity</th>\n",
       "      <th>accrual</th>\n",
       "      <th>pe_exi</th>\n",
       "      <th>PEG_1yrforward</th>\n",
       "      <th>fcf_ocf</th>\n",
       "    </tr>\n",
       "  </thead>\n",
       "  <tbody>\n",
       "    <tr>\n",
       "      <th>0</th>\n",
       "      <td>20.983</td>\n",
       "      <td>10.484</td>\n",
       "      <td>0.0187</td>\n",
       "      <td>16.224</td>\n",
       "      <td>8.585</td>\n",
       "      <td>0.254</td>\n",
       "      <td>16.224</td>\n",
       "      <td>1.330</td>\n",
       "      <td>16.127</td>\n",
       "      <td>4.189</td>\n",
       "      <td>0.310</td>\n",
       "      <td>0.084</td>\n",
       "      <td>16.224</td>\n",
       "      <td>1.414</td>\n",
       "      <td>0.863</td>\n",
       "    </tr>\n",
       "    <tr>\n",
       "      <th>1</th>\n",
       "      <td>21.663</td>\n",
       "      <td>7.709</td>\n",
       "      <td>0.0122</td>\n",
       "      <td>18.555</td>\n",
       "      <td>13.619</td>\n",
       "      <td>0.235</td>\n",
       "      <td>16.489</td>\n",
       "      <td>1.572</td>\n",
       "      <td>16.311</td>\n",
       "      <td>4.281</td>\n",
       "      <td>0.238</td>\n",
       "      <td>0.039</td>\n",
       "      <td>18.555</td>\n",
       "      <td>1.737</td>\n",
       "      <td>0.902</td>\n",
       "    </tr>\n",
       "    <tr>\n",
       "      <th>2</th>\n",
       "      <td>16.327</td>\n",
       "      <td>8.490</td>\n",
       "      <td>0.0343</td>\n",
       "      <td>15.550</td>\n",
       "      <td>6.716</td>\n",
       "      <td>0.513</td>\n",
       "      <td>9.520</td>\n",
       "      <td>6.149</td>\n",
       "      <td>9.520</td>\n",
       "      <td>2.198</td>\n",
       "      <td>0.130</td>\n",
       "      <td>0.077</td>\n",
       "      <td>15.681</td>\n",
       "      <td>-0.973</td>\n",
       "      <td>0.934</td>\n",
       "    </tr>\n",
       "  </tbody>\n",
       "</table>\n",
       "</div>"
      ],
      "text/plain": [
       "    CAPEI     pcf  divyield  pe_inc     evm     bm  pe_op_dil  PEG_ltgforward  \\\n",
       "0  20.983  10.484    0.0187  16.224   8.585  0.254     16.224           1.330   \n",
       "1  21.663   7.709    0.0122  18.555  13.619  0.235     16.489           1.572   \n",
       "2  16.327   8.490    0.0343  15.550   6.716  0.513      9.520           6.149   \n",
       "\n",
       "   pe_op_basic    ptb  aftret_equity  accrual  pe_exi  PEG_1yrforward  fcf_ocf  \n",
       "0       16.127  4.189          0.310    0.084  16.224           1.414    0.863  \n",
       "1       16.311  4.281          0.238    0.039  18.555           1.737    0.902  \n",
       "2        9.520  2.198          0.130    0.077  15.681          -0.973    0.934  "
      ]
     },
     "metadata": {},
     "output_type": "display_data"
    },
    {
     "name": "stdout",
     "output_type": "stream",
     "text": [
      "\n",
      "Response Vector y (Test) after Feature Selection, Case 1\n"
     ]
    },
    {
     "data": {
      "text/html": [
       "<div>\n",
       "<style scoped>\n",
       "    .dataframe tbody tr th:only-of-type {\n",
       "        vertical-align: middle;\n",
       "    }\n",
       "\n",
       "    .dataframe tbody tr th {\n",
       "        vertical-align: top;\n",
       "    }\n",
       "\n",
       "    .dataframe thead th {\n",
       "        text-align: right;\n",
       "    }\n",
       "</style>\n",
       "<table border=\"1\" class=\"dataframe\">\n",
       "  <thead>\n",
       "    <tr style=\"text-align: right;\">\n",
       "      <th></th>\n",
       "      <th>0</th>\n",
       "    </tr>\n",
       "  </thead>\n",
       "  <tbody>\n",
       "    <tr>\n",
       "      <th>0</th>\n",
       "      <td>0</td>\n",
       "    </tr>\n",
       "    <tr>\n",
       "      <th>1</th>\n",
       "      <td>1</td>\n",
       "    </tr>\n",
       "    <tr>\n",
       "      <th>2</th>\n",
       "      <td>1</td>\n",
       "    </tr>\n",
       "  </tbody>\n",
       "</table>\n",
       "</div>"
      ],
      "text/plain": [
       "   0\n",
       "0  0\n",
       "1  1\n",
       "2  1"
      ]
     },
     "metadata": {},
     "output_type": "display_data"
    }
   ],
   "source": [
    "print(\"\")\n",
    "print('Shape (rows, columns) of Feature Matrix X (Test), Case ' + str(_CASE_), ' = ' + str(X_test_s.shape))\n",
    "print(\"\")\n",
    "print('Feature Matrix X (Test) with selected Features, Case ' + str(_CASE_))\n",
    "display(X_test_s.head(3))\n",
    "print(\"\")\n",
    "print('Response Vector y (Test) after Feature Selection, Case ' + str(_CASE_))\n",
    "display(y_test_s.head(3))"
   ]
  },
  {
   "cell_type": "markdown",
   "metadata": {},
   "source": [
    "## 3.2. SVM\n",
    "\n",
    "### Two different SVM tests are applied:\n",
    "#### => SVM1 = SVM with random parameters\n",
    "#### => SVM2 = SVM with other parameters"
   ]
  },
  {
   "cell_type": "markdown",
   "metadata": {},
   "source": [
    "### 3.2.1. SVM1 : SVM with random parameters"
   ]
  },
  {
   "cell_type": "code",
   "execution_count": 6,
   "metadata": {},
   "outputs": [],
   "source": [
    "# Create pipeline object with standard scaler and SVC estimator\n",
    "# Standardscaler standardizes the input variables\n",
    "pipe1 = Pipeline([('scaler', StandardScaler()), \n",
    "                 ('classifier', SVC(random_state=0))])"
   ]
  },
  {
   "cell_type": "code",
   "execution_count": 7,
   "metadata": {},
   "outputs": [],
   "source": [
    "# Define parameter grid\n",
    "param_grid1 = [{'scaler': [StandardScaler()],\n",
    "               'classifier': [SVC(kernel='rbf')],\n",
    "               'classifier__gamma': [1, 10],\n",
    "               'classifier__C': [10, 100]},\n",
    "              {'scaler': [StandardScaler(), None],\n",
    "               'classifier': [LogisticRegression()],\n",
    "               'classifier__C': [10, 100]}]"
   ]
  },
  {
   "cell_type": "code",
   "execution_count": 8,
   "metadata": {},
   "outputs": [
    {
     "data": {
      "text/plain": [
       "GridSearchCV(cv=5, error_score='raise',\n",
       "       estimator=Pipeline(memory=None,\n",
       "     steps=[('scaler', StandardScaler(copy=True, with_mean=True, with_std=True)), ('classifier', SVC(C=1.0, cache_size=200, class_weight=None, coef0=0.0,\n",
       "  decision_function_shape='ovr', degree=3, gamma='auto', kernel='rbf',\n",
       "  max_iter=-1, probability=False, random_state=0, shrinking=True,\n",
       "  tol=0.001, verbose=False))]),\n",
       "       fit_params=None, iid=True, n_jobs=-1,\n",
       "       param_grid=[{'scaler': [StandardScaler(copy=True, with_mean=True, with_std=True)], 'classifier': [SVC(C=1.0, cache_size=200, class_weight=None, coef0=0.0,\n",
       "  decision_function_shape='ovr', degree=3, gamma='auto', kernel='rbf',\n",
       "  max_iter=-1, probability=False, random_state=None, shrinking=True,\n",
       "  tol...olver='liblinear', tol=0.0001,\n",
       "          verbose=0, warm_start=False)], 'classifier__C': [10, 100]}],\n",
       "       pre_dispatch='2*n_jobs', refit=True, return_train_score='warn',\n",
       "       scoring=None, verbose=0)"
      ]
     },
     "execution_count": 8,
     "metadata": {},
     "output_type": "execute_result"
    }
   ],
   "source": [
    "# Run grid search\n",
    "grid1 = GridSearchCV(pipe1, param_grid1, cv=5, n_jobs=-1)\n",
    "grid1.fit(X_train_s, y_train_s)"
   ]
  },
  {
   "cell_type": "code",
   "execution_count": 9,
   "metadata": {},
   "outputs": [
    {
     "name": "stdout",
     "output_type": "stream",
     "text": [
      "\n",
      "Observed probability of up/down?:  0.43\n",
      "\n",
      "Best CV accuracy: 0.59\n",
      "Test score:       0.62\n",
      "\n",
      "Best parameters: {'classifier': LogisticRegression(C=100, class_weight=None, dual=False, fit_intercept=True,\n",
      "          intercept_scaling=1, max_iter=100, multi_class='ovr', n_jobs=1,\n",
      "          penalty='l2', random_state=None, solver='liblinear', tol=0.0001,\n",
      "          verbose=0, warm_start=False), 'classifier__C': 100, 'scaler': None}\n"
     ]
    }
   ],
   "source": [
    "# Print results\n",
    "print(\"\")\n",
    "print(\"Observed probability of up/down?: {: .2f}\"\n",
    "       .format(np.count_nonzero(y_test_s==0)/len(y_test_s)))\n",
    "\n",
    "# Print results\n",
    "print(\"\")\n",
    "print('Best CV accuracy: {:.2f}'.format(grid1.best_score_))\n",
    "print('Test score:       {:.2f}'.format(grid1.score(X_test_s, y_test_s)))\n",
    "print(\"\")\n",
    "print('Best parameters: {}'.format(grid1.best_params_))"
   ]
  },
  {
   "cell_type": "code",
   "execution_count": 10,
   "metadata": {},
   "outputs": [
    {
     "data": {
      "text/plain": [
       "array([1, 1, 1, 0, 1, 1, 0, 0, 1, 0, 1, 1, 1, 0, 0, 0, 1, 1, 1, 0])"
      ]
     },
     "metadata": {},
     "output_type": "display_data"
    }
   ],
   "source": [
    "# Predict classes\n",
    "y_pred1 = grid1.predict(X_test_s)\n",
    "display(y_pred1[0:20])"
   ]
  },
  {
   "cell_type": "code",
   "execution_count": 11,
   "metadata": {},
   "outputs": [
    {
     "name": "stdout",
     "output_type": "stream",
     "text": [
      "\n",
      "Metrics of CLassification with SVM1 (random parameters):\n",
      "\n",
      "             precision    recall  f1-score   support\n",
      "\n",
      "          0       0.65      0.28      0.39       307\n",
      "          1       0.62      0.89      0.73       403\n",
      "\n",
      "avg / total       0.63      0.62      0.58       710\n",
      "\n",
      "[[ 86 221]\n",
      " [ 46 357]]\n"
     ]
    }
   ],
   "source": [
    "print(\"\")\n",
    "print('Metrics of CLassification with SVM1 (random parameters):')\n",
    "print(\"\")\n",
    "print(metrics.classification_report(y_test_s, y_pred1))\n",
    "print(metrics.confusion_matrix(y_test_s, y_pred1))"
   ]
  },
  {
   "cell_type": "markdown",
   "metadata": {},
   "source": [
    "### 3.2.1. SVM2 : SVM with other parameters"
   ]
  },
  {
   "cell_type": "code",
   "execution_count": 12,
   "metadata": {},
   "outputs": [],
   "source": [
    "# Create pipeline object with standard scaler and SVC estimator\n",
    "# Standardscaler standardizes the input variables\n",
    "pipe2 = Pipeline([('scaler', StandardScaler()), \n",
    "                 ('classifier', SVC(random_state=0))])"
   ]
  },
  {
   "cell_type": "code",
   "execution_count": null,
   "metadata": {},
   "outputs": [],
   "source": [
    "# Define parameter grid\n",
    "param_grid2 = [{'scaler': [StandardScaler()],\n",
    "               'classifier': [SVC(kernel='linear')],\n",
    "               'classifier__gamma': [1, 10],\n",
    "               'classifier__C': [10, 100]},\n",
    "              {'scaler': [StandardScaler(), None],\n",
    "               'classifier': [LogisticRegression()],\n",
    "               'classifier__C': [10, 100]}]"
   ]
  },
  {
   "cell_type": "code",
   "execution_count": null,
   "metadata": {},
   "outputs": [],
   "source": [
    "# Run grid search\n",
    "grid2 = GridSearchCV(pipe2, param_grid2, cv=5, n_jobs=-1)\n",
    "grid2.fit(X_train_s, y_train_s)"
   ]
  },
  {
   "cell_type": "code",
   "execution_count": null,
   "metadata": {},
   "outputs": [],
   "source": [
    "# Print results\n",
    "print(\"Observed probability of up/down?: {: .2f}\"\n",
    "       .format(np.count_nonzero(y==0)/len(y)))\n",
    "# Print results\n",
    "print('Best CV accuracy: {:.2f}'.format(grid2.best_score_))\n",
    "print('Test score:       {:.2f}'.format(grid2.score(X_test_s, y_test_s)))\n",
    "print('Best parameters: {}'.format(grid2.best_params_))"
   ]
  },
  {
   "cell_type": "code",
   "execution_count": null,
   "metadata": {},
   "outputs": [],
   "source": [
    "# Predict   classes\n",
    "y_pred2 = grid2.predict(X1_test_s)"
   ]
  },
  {
   "cell_type": "code",
   "execution_count": null,
   "metadata": {},
   "outputs": [],
   "source": [
    "print(metrics.classification_report(y1_test_s, y_pred2))\n",
    "print(metrics.confusion_matrix(y1_test_s, y_pred2))"
   ]
  },
  {
   "cell_type": "markdown",
   "metadata": {},
   "source": [
    "#### 2.1.3 Version 1 with other parameters (3)"
   ]
  },
  {
   "cell_type": "code",
   "execution_count": null,
   "metadata": {},
   "outputs": [],
   "source": [
    "# Create pipeline object with standard scaler and SVC estimator\n",
    "pipe3 = Pipeline([('scaler', StandardScaler()), \n",
    "                 ('classifier', SVC(random_state=0))])"
   ]
  },
  {
   "cell_type": "code",
   "execution_count": null,
   "metadata": {},
   "outputs": [],
   "source": [
    "# Define parameter grid\n",
    "param_grid3 = [{'scaler': [StandardScaler()],\n",
    "               'classifier': [SVC(kernel= \"poly\")],\n",
    "               'classifier__gamma': [1, 10],\n",
    "               'classifier__C': [10, 100]},\n",
    "              {'scaler': [StandardScaler(), None],\n",
    "               'classifier': [LogisticRegression()],\n",
    "               'classifier__C': [10, 100]}]"
   ]
  },
  {
   "cell_type": "code",
   "execution_count": null,
   "metadata": {},
   "outputs": [],
   "source": [
    "# Run grid search\n",
    "grid3 = GridSearchCV(pipe3, param_grid3, cv=5, n_jobs=-1)\n",
    "grid3.fit(X1_train_s, y1_train_s)"
   ]
  },
  {
   "cell_type": "code",
   "execution_count": null,
   "metadata": {},
   "outputs": [],
   "source": [
    "# Print results\n",
    "print(\"Observed probability of up/down?: {: .2f}\"\n",
    "       .format(np.count_nonzero(y==0)/len(y)))\n",
    "# Print results\n",
    "print('Best CV accuracy: {:.2f}'.format(grid3.best_score_))\n",
    "print('Test score:       {:.2f}'.format(grid3.score(X1_test_s, y1_test_s)))\n",
    "print('Best parameters: {}'.format(grid3.best_params_))"
   ]
  },
  {
   "cell_type": "code",
   "execution_count": null,
   "metadata": {},
   "outputs": [],
   "source": [
    "# Predict   classes\n",
    "y_pred3 = grid3.predict(X1_test_s)"
   ]
  },
  {
   "cell_type": "code",
   "execution_count": null,
   "metadata": {},
   "outputs": [],
   "source": [
    "print(metrics.classification_report(y1_test_s, y_pred3))\n",
    "print(metrics.confusion_matrix(y1_test_s, y_pred3))"
   ]
  },
  {
   "cell_type": "code",
   "execution_count": null,
   "metadata": {},
   "outputs": [],
   "source": [
    "# compare different svm versions with different parameters and try the best one with balanced data"
   ]
  },
  {
   "cell_type": "markdown",
   "metadata": {},
   "source": [
    "#### Best SVM with balanced data"
   ]
  },
  {
   "cell_type": "code",
   "execution_count": null,
   "metadata": {},
   "outputs": [],
   "source": [
    "# how can I automatically choose the best svm and use it for further \"research\"???"
   ]
  },
  {
   "cell_type": "code",
   "execution_count": null,
   "metadata": {},
   "outputs": [],
   "source": [
    "# Create pipeline object with standard scaler and SVC estimator\n",
    "# pipe4 = Pipeline([('scaler', StandardScaler()), \n",
    "                 #('classifier', SVC(random_state=0))])"
   ]
  },
  {
   "cell_type": "code",
   "execution_count": null,
   "metadata": {},
   "outputs": [],
   "source": [
    "# Define parameter grid\n",
    "# param_grid4 = [{'scaler': [StandardScaler()],\n",
    "              # 'classifier': [SVC(kernel= \"poly\", class_weight = \"balanced\")],\n",
    "             #  'classifier__gamma': [1, 10],\n",
    "              # 'classifier__C': [10, 100]},\n",
    "              #{'scaler': [StandardScaler(), None],\n",
    "               #'classifier': [LogisticRegression()],\n",
    "               #'classifier__C': [10, 100]}]"
   ]
  },
  {
   "cell_type": "code",
   "execution_count": null,
   "metadata": {},
   "outputs": [],
   "source": [
    "# Run grid search\n",
    "#grid4 = GridSearchCV(pipe4, param_grid4, cv=5, n_jobs=-1)\n",
    "#grid4.fit(X1_train_s, y1_train_s)"
   ]
  },
  {
   "cell_type": "code",
   "execution_count": null,
   "metadata": {},
   "outputs": [],
   "source": [
    "# Print results\n",
    "#print(\"Observed probability of up/down?: {: .2f}\"\n",
    "       #.format(np.count_nonzero(y==0)/len(y)))\n",
    "# Print results\n",
    "#print('Best CV accuracy: {:.2f}'.format(grid4.best_score_))\n",
    "#print('Test score:       {:.2f}'.format(grid4.score(X1_test_s, y1_test_s)))\n",
    "#print('Best parameters: {}'.format(grid4.best_params_))"
   ]
  },
  {
   "cell_type": "code",
   "execution_count": null,
   "metadata": {},
   "outputs": [],
   "source": [
    "# Predict   classes\n",
    "#y_pred4 = grid4.predict(X1_test_s)"
   ]
  },
  {
   "cell_type": "code",
   "execution_count": null,
   "metadata": {},
   "outputs": [],
   "source": [
    "#print(metrics.classification_report(y1_test_s, y_pred4))\n",
    "#print(metrics.confusion_matrix(y1_test_s, y_pred4))"
   ]
  },
  {
   "cell_type": "markdown",
   "metadata": {},
   "source": [
    "### 2.2 Version 2"
   ]
  },
  {
   "cell_type": "markdown",
   "metadata": {},
   "source": [
    "#### 2.2.1 Version 2 with random parameters (1)"
   ]
  },
  {
   "cell_type": "code",
   "execution_count": null,
   "metadata": {},
   "outputs": [],
   "source": [
    "# Create pipeline object with standard scaler and SVC estimator\n",
    "pipe5 = Pipeline([('scaler', StandardScaler()), \n",
    "                 ('classifier', SVC(random_state=0))])"
   ]
  },
  {
   "cell_type": "code",
   "execution_count": null,
   "metadata": {},
   "outputs": [],
   "source": [
    "# Define parameter grid\n",
    "param_grid5 = [{'scaler': [StandardScaler()],\n",
    "               'classifier': [SVC(kernel='rbf')],\n",
    "               'classifier__gamma': [1, 10],\n",
    "               'classifier__C': [10, 100]},\n",
    "              {'scaler': [StandardScaler(), None],\n",
    "               'classifier': [LogisticRegression()],\n",
    "               'classifier__C': [10, 100]}]"
   ]
  },
  {
   "cell_type": "code",
   "execution_count": null,
   "metadata": {},
   "outputs": [],
   "source": [
    "# Run grid search\n",
    "grid5 = GridSearchCV(pipe5, param_grid5, cv=5, n_jobs=-1)\n",
    "grid5.fit(X2_train_s, y2_train_s)"
   ]
  },
  {
   "cell_type": "code",
   "execution_count": null,
   "metadata": {},
   "outputs": [],
   "source": [
    "# Print results\n",
    "print(\"Observed probability of up/down?: {: .2f}\"\n",
    "       .format(np.count_nonzero(y==0)/len(y)))\n",
    "# Print results\n",
    "print('Best CV accuracy: {:.2f}'.format(grid5.best_score_))\n",
    "print('Test score:       {:.2f}'.format(grid5.score(X2_test_s, y2_test_s)))\n",
    "print('Best parameters: {}'.format(grid5.best_params_))"
   ]
  },
  {
   "cell_type": "code",
   "execution_count": null,
   "metadata": {},
   "outputs": [],
   "source": [
    "# Predict   classes\n",
    "y_pred5 = grid5.predict(X2_test_s)"
   ]
  },
  {
   "cell_type": "code",
   "execution_count": null,
   "metadata": {},
   "outputs": [],
   "source": [
    "print(metrics.classification_report(y2_test_s, y_pred5))\n",
    "print(metrics.confusion_matrix(y2_test_s, y_pred5))"
   ]
  },
  {
   "cell_type": "markdown",
   "metadata": {},
   "source": [
    "#### 2.2.2 Version 2 with other parameters (2)"
   ]
  },
  {
   "cell_type": "code",
   "execution_count": null,
   "metadata": {},
   "outputs": [],
   "source": [
    "# Create pipeline object with standard scaler and SVC estimator\n",
    "pipe6 = Pipeline([('scaler', StandardScaler()), \n",
    "                 ('classifier', SVC(random_state=0))])"
   ]
  },
  {
   "cell_type": "code",
   "execution_count": null,
   "metadata": {},
   "outputs": [],
   "source": [
    "# Define parameter grid\n",
    "param_grid2 = [{'scaler': [StandardScaler()],\n",
    "               'classifier': [SVC(kernel='linear')],\n",
    "               'classifier__gamma': [1, 10],\n",
    "               'classifier__C': [10, 100]},\n",
    "              {'scaler': [StandardScaler(), None],\n",
    "               'classifier': [LogisticRegression()],\n",
    "               'classifier__C': [10, 100]}]"
   ]
  },
  {
   "cell_type": "code",
   "execution_count": null,
   "metadata": {},
   "outputs": [],
   "source": [
    "# Run grid search\n",
    "grid6 = GridSearchCV(pipe6, param_grid6, cv=5, n_jobs=-1)\n",
    "grid6.fit(X2_train_s, y2_train_s)"
   ]
  },
  {
   "cell_type": "code",
   "execution_count": null,
   "metadata": {},
   "outputs": [],
   "source": [
    "# Print results\n",
    "print(\"Observed probability of up/down?: {: .2f}\"\n",
    "       .format(np.count_nonzero(y==0)/len(y)))\n",
    "# Print results\n",
    "print('Best CV accuracy: {:.2f}'.format(grid6.best_score_))\n",
    "print('Test score:       {:.2f}'.format(grid6.score(X2_test_s, y2_test_s)))\n",
    "print('Best parameters: {}'.format(grid6.best_params_))"
   ]
  },
  {
   "cell_type": "code",
   "execution_count": null,
   "metadata": {},
   "outputs": [],
   "source": [
    "# Predict   classes\n",
    "y_pred6 = grid6.predict(X2_test_s)"
   ]
  },
  {
   "cell_type": "code",
   "execution_count": null,
   "metadata": {},
   "outputs": [],
   "source": [
    "print(metrics.classification_report(y2_test_s, y_pred6))\n",
    "print(metrics.confusion_matrix(y2_test_s, y_pred6))"
   ]
  },
  {
   "cell_type": "markdown",
   "metadata": {},
   "source": [
    "#### 2.2.3 Version 2 with other parameters (3)"
   ]
  },
  {
   "cell_type": "code",
   "execution_count": null,
   "metadata": {},
   "outputs": [],
   "source": [
    "# Create pipeline object with standard scaler and SVC estimator\n",
    "pipe7 = Pipeline([('scaler', StandardScaler()), \n",
    "                 ('classifier', SVC(random_state=0))])"
   ]
  },
  {
   "cell_type": "code",
   "execution_count": null,
   "metadata": {},
   "outputs": [],
   "source": [
    "# Define parameter grid\n",
    "param_grid7 = [{'scaler': [StandardScaler()],\n",
    "               'classifier': [SVC(kernel= \"poly\")],\n",
    "               'classifier__gamma': [1, 10],\n",
    "               'classifier__C': [10, 100]},\n",
    "              {'scaler': [StandardScaler(), None],\n",
    "               'classifier': [LogisticRegression()],\n",
    "               'classifier__C': [10, 100]}]"
   ]
  },
  {
   "cell_type": "code",
   "execution_count": null,
   "metadata": {},
   "outputs": [],
   "source": [
    "# Run grid search\n",
    "grid7 = GridSearchCV(pipe7, param_grid7, cv=5, n_jobs=-1)\n",
    "grid7.fit(X2_train_s, y2_train_s)"
   ]
  },
  {
   "cell_type": "code",
   "execution_count": null,
   "metadata": {},
   "outputs": [],
   "source": [
    "# Print results\n",
    "print(\"Observed probability of up/down?: {: .2f}\"\n",
    "       .format(np.count_nonzero(y==0)/len(y)))\n",
    "# Print results\n",
    "print('Best CV accuracy: {:.2f}'.format(grid7.best_score_))\n",
    "print('Test score:       {:.2f}'.format(grid7.score(X2_test_s, y2_test_s)))\n",
    "print('Best parameters: {}'.format(grid7.best_params_))"
   ]
  },
  {
   "cell_type": "code",
   "execution_count": null,
   "metadata": {},
   "outputs": [],
   "source": [
    "# Predict   classes\n",
    "y_pred7 = grid7.predict(X2_test_s)"
   ]
  },
  {
   "cell_type": "code",
   "execution_count": null,
   "metadata": {},
   "outputs": [],
   "source": [
    "print(metrics.classification_report(y2_test_s, y_pred7))\n",
    "print(metrics.confusion_matrix(y2_test_s, y_pred7))"
   ]
  },
  {
   "cell_type": "markdown",
   "metadata": {},
   "source": [
    "#### Best SVM with balanced data"
   ]
  },
  {
   "cell_type": "code",
   "execution_count": null,
   "metadata": {},
   "outputs": [],
   "source": [
    "# how can I automatically choose the best svm and use it for further \"research\"???"
   ]
  },
  {
   "cell_type": "markdown",
   "metadata": {},
   "source": [
    "### 3 Evaluation"
   ]
  },
  {
   "cell_type": "code",
   "execution_count": null,
   "metadata": {},
   "outputs": [],
   "source": [
    "# Choose the best parameters and maybe there is a more efficient way (faster) to get to them..."
   ]
  }
 ],
 "metadata": {
  "kernelspec": {
   "display_name": "Python 3",
   "language": "python",
   "name": "python3"
  },
  "language_info": {
   "codemirror_mode": {
    "name": "ipython",
    "version": 3
   },
   "file_extension": ".py",
   "mimetype": "text/x-python",
   "name": "python",
   "nbconvert_exporter": "python",
   "pygments_lexer": "ipython3",
   "version": "3.6.4"
  }
 },
 "nbformat": 4,
 "nbformat_minor": 2
}
