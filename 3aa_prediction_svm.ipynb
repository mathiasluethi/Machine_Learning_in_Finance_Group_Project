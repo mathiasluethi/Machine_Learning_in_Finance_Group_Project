{
 "cells": [
  {
   "cell_type": "markdown",
   "metadata": {},
   "source": [
    "# Introduction to Machine Learning, UZH 2018, Group Project\n",
    "### Group 2: Barbara Capl, Mathias Lüthi, Pamela Matias, Stefanie Rentsch\n",
    "##       \n",
    "# 3. Support Vector Machines (SVM)\n",
    "\n",
    "\n",
    "In this section we use the feature matrices and response vectors with features selected in chapter 2.  \n",
    "\n",
    "#### We use two different versions (created in chapter 1, features-selected in chapter 2):\n",
    "Version 1: Feature Matrix consists only of the Ratios                                                                        \n",
    "Version 2: Feature Matrix consists of Ratios + dummy variables for seasonality + other market data\n",
    "####  "
   ]
  },
  {
   "cell_type": "code",
   "execution_count": 1,
   "metadata": {},
   "outputs": [],
   "source": [
    "# hide unnecessary warnings (\"depreciation\" of packages etc.)\n",
    "import warnings\n",
    "warnings.filterwarnings('ignore')\n",
    "\n",
    "# Load packages\n",
    "import numpy as np\n",
    "import pandas as pd\n",
    "import matplotlib.pyplot as plt\n",
    "import statsmodels.api as sm\n",
    "import statsmodels.formula.api as smf\n",
    "plt.style.use('seaborn-whitegrid')\n",
    "from sklearn.pipeline import Pipeline\n",
    "from sklearn.model_selection import GridSearchCV\n",
    "from sklearn.preprocessing import StandardScaler\n",
    "from sklearn import metrics\n",
    "from sklearn.svm import SVC\n",
    "from sklearn.linear_model import LogisticRegression\n",
    "from sklearn.model_selection import train_test_split"
   ]
  },
  {
   "cell_type": "markdown",
   "metadata": {},
   "source": [
    "## 3.0. Choose which Feature Matrix (Version 1 or 2) you want to load in by choosing the Case"
   ]
  },
  {
   "cell_type": "markdown",
   "metadata": {},
   "source": [
    "#### 1) Choose the Dataset Version you want\n",
    "VERSION = 1; Feature Matrix with only ratios                                  \n",
    "VERSION = 2;  Feature Matrix with ratios + saisonality + other market data\n"
   ]
  },
  {
   "cell_type": "code",
   "execution_count": 2,
   "metadata": {},
   "outputs": [],
   "source": [
    "### Chose which dataset version you want the selection of features and the prediction to be based on \n",
    "VERSION = 2\n",
    "\"\"\"\n",
    "INSERT NUMBER 1 or 2\n",
    "\"\"\"\n",
    "\n",
    "\n",
    "# Define sel_state variable for easier printing out    \n",
    "if VERSION == 1:\n",
    "    sel_version = 'Based on Dataset with only the Ratios Dataset as predicive Features'\n",
    "elif VERSION == 2:\n",
    "    sel_version = 'Based on Dataset with Ratios + Seasonality + other Market Data as predictive Features'\n",
    "else: raise ValueError('VERSION must be either 1 or 2')"
   ]
  },
  {
   "cell_type": "markdown",
   "metadata": {},
   "source": [
    "#### 2) Choose with which method you want to have the features been pre-selected\n",
    "SELECTION  = RF ; Features pre-selected with Random Forest Classifier                                                           \n",
    "SELECTION = PCA; Features pre-selected with Principal Component Analysis (PCA)"
   ]
  },
  {
   "cell_type": "code",
   "execution_count": 3,
   "metadata": {},
   "outputs": [],
   "source": [
    "### Choose whether you want the datasets with features selected with RF or PCA\n",
    "SELECTION = 'RF'\n",
    "\"\"\"\n",
    "INSERT 'RF' OR 'PCA'\n",
    "\"\"\"\n",
    "\n",
    "\n",
    "# Define sel_state variable for easier printing out    \n",
    "if SELECTION == 'RF':\n",
    "    sel_feat = 'Random Forest (RF)'\n",
    "elif SELECTION == 'PCA':\n",
    "    sel_feat = 'Principal Component Analysis (PCA)'\n",
    "else: raise ValueError('SELECTION must be either RF or PCA')"
   ]
  },
  {
   "cell_type": "markdown",
   "metadata": {},
   "source": [
    "## 3.1. Preparation"
   ]
  },
  {
   "cell_type": "markdown",
   "metadata": {},
   "source": [
    "### 3.1.1. Import the Response Vector and the Feature Matrix"
   ]
  },
  {
   "cell_type": "code",
   "execution_count": 4,
   "metadata": {},
   "outputs": [
    {
     "data": {
      "text/html": [
       "<div>\n",
       "<style scoped>\n",
       "    .dataframe tbody tr th:only-of-type {\n",
       "        vertical-align: middle;\n",
       "    }\n",
       "\n",
       "    .dataframe tbody tr th {\n",
       "        vertical-align: top;\n",
       "    }\n",
       "\n",
       "    .dataframe thead th {\n",
       "        text-align: right;\n",
       "    }\n",
       "</style>\n",
       "<table border=\"1\" class=\"dataframe\">\n",
       "  <thead>\n",
       "    <tr style=\"text-align: right;\">\n",
       "      <th></th>\n",
       "      <th>RET</th>\n",
       "      <th>RETX</th>\n",
       "      <th>sprtrn</th>\n",
       "      <th>ewretx</th>\n",
       "      <th>vwretx</th>\n",
       "      <th>ewretd</th>\n",
       "      <th>pe_inc</th>\n",
       "      <th>pe_op_dil</th>\n",
       "      <th>ALTPRC</th>\n",
       "      <th>debt_ebitda</th>\n",
       "      <th>cash_ratio</th>\n",
       "      <th>ps</th>\n",
       "      <th>SHRENDDT</th>\n",
       "      <th>VOL</th>\n",
       "      <th>int_debt</th>\n",
       "    </tr>\n",
       "  </thead>\n",
       "  <tbody>\n",
       "    <tr>\n",
       "      <th>0</th>\n",
       "      <td>0.024042</td>\n",
       "      <td>0.024042</td>\n",
       "      <td>0.037655</td>\n",
       "      <td>0.032156</td>\n",
       "      <td>0.038183</td>\n",
       "      <td>0.033697</td>\n",
       "      <td>18.484</td>\n",
       "      <td>15.633</td>\n",
       "      <td>29.39</td>\n",
       "      <td>1.704</td>\n",
       "      <td>1.4810</td>\n",
       "      <td>3.703</td>\n",
       "      <td>20140929.0</td>\n",
       "      <td>4611190.0</td>\n",
       "      <td>0.045</td>\n",
       "    </tr>\n",
       "    <tr>\n",
       "      <th>1</th>\n",
       "      <td>-0.057168</td>\n",
       "      <td>-0.066454</td>\n",
       "      <td>-0.014999</td>\n",
       "      <td>-0.015631</td>\n",
       "      <td>-0.017055</td>\n",
       "      <td>-0.013012</td>\n",
       "      <td>39.232</td>\n",
       "      <td>17.296</td>\n",
       "      <td>32.17</td>\n",
       "      <td>3.055</td>\n",
       "      <td>0.3210</td>\n",
       "      <td>0.689</td>\n",
       "      <td>20130730.0</td>\n",
       "      <td>1296447.0</td>\n",
       "      <td>0.070</td>\n",
       "    </tr>\n",
       "    <tr>\n",
       "      <th>2</th>\n",
       "      <td>0.026373</td>\n",
       "      <td>0.026373</td>\n",
       "      <td>0.043117</td>\n",
       "      <td>0.042687</td>\n",
       "      <td>0.043937</td>\n",
       "      <td>0.044257</td>\n",
       "      <td>13.062</td>\n",
       "      <td>9.209</td>\n",
       "      <td>56.82</td>\n",
       "      <td>8.714</td>\n",
       "      <td>0.4785</td>\n",
       "      <td>2.034</td>\n",
       "      <td>20140330.0</td>\n",
       "      <td>3473222.0</td>\n",
       "      <td>0.052</td>\n",
       "    </tr>\n",
       "  </tbody>\n",
       "</table>\n",
       "</div>"
      ],
      "text/plain": [
       "        RET      RETX    sprtrn    ewretx    vwretx    ewretd  pe_inc  \\\n",
       "0  0.024042  0.024042  0.037655  0.032156  0.038183  0.033697  18.484   \n",
       "1 -0.057168 -0.066454 -0.014999 -0.015631 -0.017055 -0.013012  39.232   \n",
       "2  0.026373  0.026373  0.043117  0.042687  0.043937  0.044257  13.062   \n",
       "\n",
       "   pe_op_dil  ALTPRC  debt_ebitda  cash_ratio     ps    SHRENDDT        VOL  \\\n",
       "0     15.633   29.39        1.704      1.4810  3.703  20140929.0  4611190.0   \n",
       "1     17.296   32.17        3.055      0.3210  0.689  20130730.0  1296447.0   \n",
       "2      9.209   56.82        8.714      0.4785  2.034  20140330.0  3473222.0   \n",
       "\n",
       "   int_debt  \n",
       "0     0.045  \n",
       "1     0.070  \n",
       "2     0.052  "
      ]
     },
     "metadata": {},
     "output_type": "display_data"
    },
    {
     "data": {
      "text/html": [
       "<div>\n",
       "<style scoped>\n",
       "    .dataframe tbody tr th:only-of-type {\n",
       "        vertical-align: middle;\n",
       "    }\n",
       "\n",
       "    .dataframe tbody tr th {\n",
       "        vertical-align: top;\n",
       "    }\n",
       "\n",
       "    .dataframe thead th {\n",
       "        text-align: right;\n",
       "    }\n",
       "</style>\n",
       "<table border=\"1\" class=\"dataframe\">\n",
       "  <thead>\n",
       "    <tr style=\"text-align: right;\">\n",
       "      <th></th>\n",
       "      <th>0</th>\n",
       "    </tr>\n",
       "  </thead>\n",
       "  <tbody>\n",
       "    <tr>\n",
       "      <th>0</th>\n",
       "      <td>1</td>\n",
       "    </tr>\n",
       "    <tr>\n",
       "      <th>1</th>\n",
       "      <td>0</td>\n",
       "    </tr>\n",
       "    <tr>\n",
       "      <th>2</th>\n",
       "      <td>1</td>\n",
       "    </tr>\n",
       "  </tbody>\n",
       "</table>\n",
       "</div>"
      ],
      "text/plain": [
       "   0\n",
       "0  1\n",
       "1  0\n",
       "2  1"
      ]
     },
     "metadata": {},
     "output_type": "display_data"
    }
   ],
   "source": [
    "# import Data (already splitted to train/test-data and selected features-> bc_randomforest_feature_selection)\n",
    "if VERSION == 1:\n",
    "    if SELECTION == 'RF':\n",
    "        X_train_s = pd.read_csv('Data/generated_splits/features_selected_randomforest/X1_train_f.csv', sep=',', header=0)\n",
    "        X_test_s = pd.read_csv('Data/generated_splits/features_selected_randomforest/X1_test_f.csv', sep=',', header=0)\n",
    "        y_train_s = pd.read_csv('Data/generated_splits/features_selected_randomforest/y1_train_f.csv', sep=',', header=0)\n",
    "        y_test_s = pd.read_csv('Data/generated_splits/features_selected_randomforest/y1_test_f.csv', sep=',', header=0)\n",
    "    elif SELECTION == 'PCA':\n",
    "        X_train_s = pd.read_csv('Data/generated_splits/features_selected_pca/X1_train_p.csv', sep=',', header=0)\n",
    "        X_test_s = pd.read_csv('Data/generated_splits/features_selected_pca/X1_test_p.csv', sep=',', header=0)\n",
    "        y_train_s = pd.read_csv('Data/generated_splits/features_selected_pca/y1_train_p.csv', sep=',', header=0)\n",
    "        y_test_s = pd.read_csv('Data/generated_splits/features_selected_pca/y1_test_p.csv', sep=',', header=0)\n",
    "elif VERSION == 2:\n",
    "    if SELECTION == 'RF':\n",
    "        X_train_s = pd.read_csv('Data/generated_splits/features_selected_randomforest/X2_train_f.csv', sep=',', header=0)\n",
    "        X_test_s = pd.read_csv('Data/generated_splits/features_selected_randomforest/X2_test_f.csv', sep=',', header=0)\n",
    "        y_train_s = pd.read_csv('Data/generated_splits/features_selected_randomforest/y2_train_f.csv', sep=',', header=0)\n",
    "        y_test_s = pd.read_csv('Data/generated_splits/features_selected_randomforest/y2_test_f.csv', sep=',', header=0)\n",
    "    elif SELECTION == 'PCA':\n",
    "        X_train_s = pd.read_csv('Data/generated_splits/features_selected_pca/X2_train_p.csv', sep=',', header=0)\n",
    "        X_test_s = pd.read_csv('Data/generated_splits/features_selected_pca/X2_test_p.csv', sep=',', header=0)\n",
    "        y_train_s = pd.read_csv('Data/generated_splits/features_selected_pca/y2_train_p.csv', sep=',', header=0)\n",
    "        y_test_s = pd.read_csv('Data/generated_splits/features_selected_pca/y2_test_p.csv', sep=',', header=0)\n",
    "else: raise ValueError('VERSION value must be either 1 or 2, SELECTION must be either RF or PCA')   \n",
    "\n",
    "display(X_train_s.head(3))\n",
    "display(y_train_s.head(3))"
   ]
  },
  {
   "cell_type": "markdown",
   "metadata": {},
   "source": [
    "### 3.1.2. Print out Shape and Form of Feature Matrix and Response Vector"
   ]
  },
  {
   "cell_type": "markdown",
   "metadata": {},
   "source": [
    "### Train Set"
   ]
  },
  {
   "cell_type": "code",
   "execution_count": 5,
   "metadata": {},
   "outputs": [
    {
     "name": "stdout",
     "output_type": "stream",
     "text": [
      "Features Selected with Random Forest (RF)\n",
      "Version 2; Based on Dataset with Ratios + Seasonality + other Market Data as predictive Features\n",
      "\n",
      "Shape (rows, columns) of Feature Matrix X (Train) =(2836, 15)\n",
      "\n",
      "Feature Matrix X (Train) with Selected Features\n"
     ]
    },
    {
     "data": {
      "text/html": [
       "<div>\n",
       "<style scoped>\n",
       "    .dataframe tbody tr th:only-of-type {\n",
       "        vertical-align: middle;\n",
       "    }\n",
       "\n",
       "    .dataframe tbody tr th {\n",
       "        vertical-align: top;\n",
       "    }\n",
       "\n",
       "    .dataframe thead th {\n",
       "        text-align: right;\n",
       "    }\n",
       "</style>\n",
       "<table border=\"1\" class=\"dataframe\">\n",
       "  <thead>\n",
       "    <tr style=\"text-align: right;\">\n",
       "      <th></th>\n",
       "      <th>RET</th>\n",
       "      <th>RETX</th>\n",
       "      <th>sprtrn</th>\n",
       "      <th>ewretx</th>\n",
       "      <th>vwretx</th>\n",
       "      <th>ewretd</th>\n",
       "      <th>pe_inc</th>\n",
       "      <th>pe_op_dil</th>\n",
       "      <th>ALTPRC</th>\n",
       "      <th>debt_ebitda</th>\n",
       "      <th>cash_ratio</th>\n",
       "      <th>ps</th>\n",
       "      <th>SHRENDDT</th>\n",
       "      <th>VOL</th>\n",
       "      <th>int_debt</th>\n",
       "    </tr>\n",
       "  </thead>\n",
       "  <tbody>\n",
       "    <tr>\n",
       "      <th>0</th>\n",
       "      <td>0.024042</td>\n",
       "      <td>0.024042</td>\n",
       "      <td>0.037655</td>\n",
       "      <td>0.032156</td>\n",
       "      <td>0.038183</td>\n",
       "      <td>0.033697</td>\n",
       "      <td>18.484</td>\n",
       "      <td>15.633</td>\n",
       "      <td>29.39</td>\n",
       "      <td>1.704</td>\n",
       "      <td>1.4810</td>\n",
       "      <td>3.703</td>\n",
       "      <td>20140929.0</td>\n",
       "      <td>4611190.0</td>\n",
       "      <td>0.045</td>\n",
       "    </tr>\n",
       "    <tr>\n",
       "      <th>1</th>\n",
       "      <td>-0.057168</td>\n",
       "      <td>-0.066454</td>\n",
       "      <td>-0.014999</td>\n",
       "      <td>-0.015631</td>\n",
       "      <td>-0.017055</td>\n",
       "      <td>-0.013012</td>\n",
       "      <td>39.232</td>\n",
       "      <td>17.296</td>\n",
       "      <td>32.17</td>\n",
       "      <td>3.055</td>\n",
       "      <td>0.3210</td>\n",
       "      <td>0.689</td>\n",
       "      <td>20130730.0</td>\n",
       "      <td>1296447.0</td>\n",
       "      <td>0.070</td>\n",
       "    </tr>\n",
       "    <tr>\n",
       "      <th>2</th>\n",
       "      <td>0.026373</td>\n",
       "      <td>0.026373</td>\n",
       "      <td>0.043117</td>\n",
       "      <td>0.042687</td>\n",
       "      <td>0.043937</td>\n",
       "      <td>0.044257</td>\n",
       "      <td>13.062</td>\n",
       "      <td>9.209</td>\n",
       "      <td>56.82</td>\n",
       "      <td>8.714</td>\n",
       "      <td>0.4785</td>\n",
       "      <td>2.034</td>\n",
       "      <td>20140330.0</td>\n",
       "      <td>3473222.0</td>\n",
       "      <td>0.052</td>\n",
       "    </tr>\n",
       "  </tbody>\n",
       "</table>\n",
       "</div>"
      ],
      "text/plain": [
       "        RET      RETX    sprtrn    ewretx    vwretx    ewretd  pe_inc  \\\n",
       "0  0.024042  0.024042  0.037655  0.032156  0.038183  0.033697  18.484   \n",
       "1 -0.057168 -0.066454 -0.014999 -0.015631 -0.017055 -0.013012  39.232   \n",
       "2  0.026373  0.026373  0.043117  0.042687  0.043937  0.044257  13.062   \n",
       "\n",
       "   pe_op_dil  ALTPRC  debt_ebitda  cash_ratio     ps    SHRENDDT        VOL  \\\n",
       "0     15.633   29.39        1.704      1.4810  3.703  20140929.0  4611190.0   \n",
       "1     17.296   32.17        3.055      0.3210  0.689  20130730.0  1296447.0   \n",
       "2      9.209   56.82        8.714      0.4785  2.034  20140330.0  3473222.0   \n",
       "\n",
       "   int_debt  \n",
       "0     0.045  \n",
       "1     0.070  \n",
       "2     0.052  "
      ]
     },
     "metadata": {},
     "output_type": "display_data"
    },
    {
     "name": "stdout",
     "output_type": "stream",
     "text": [
      "\n",
      "Response Vector y (Train) after Feature Selection\n"
     ]
    },
    {
     "data": {
      "text/html": [
       "<div>\n",
       "<style scoped>\n",
       "    .dataframe tbody tr th:only-of-type {\n",
       "        vertical-align: middle;\n",
       "    }\n",
       "\n",
       "    .dataframe tbody tr th {\n",
       "        vertical-align: top;\n",
       "    }\n",
       "\n",
       "    .dataframe thead th {\n",
       "        text-align: right;\n",
       "    }\n",
       "</style>\n",
       "<table border=\"1\" class=\"dataframe\">\n",
       "  <thead>\n",
       "    <tr style=\"text-align: right;\">\n",
       "      <th></th>\n",
       "      <th>0</th>\n",
       "    </tr>\n",
       "  </thead>\n",
       "  <tbody>\n",
       "    <tr>\n",
       "      <th>0</th>\n",
       "      <td>1</td>\n",
       "    </tr>\n",
       "    <tr>\n",
       "      <th>1</th>\n",
       "      <td>0</td>\n",
       "    </tr>\n",
       "    <tr>\n",
       "      <th>2</th>\n",
       "      <td>1</td>\n",
       "    </tr>\n",
       "  </tbody>\n",
       "</table>\n",
       "</div>"
      ],
      "text/plain": [
       "   0\n",
       "0  1\n",
       "1  0\n",
       "2  1"
      ]
     },
     "metadata": {},
     "output_type": "display_data"
    },
    {
     "name": "stdout",
     "output_type": "stream",
     "text": [
      "\n"
     ]
    }
   ],
   "source": [
    "print('Features Selected with ' + str(sel_feat))\n",
    "print('Version ' + str(VERSION) + '; ' + str(sel_version))\n",
    "\n",
    "print(\"\")\n",
    "print('Shape (rows, columns) of Feature Matrix X (Train) ' + '=' + str(X_train_s.shape))\n",
    "print(\"\")\n",
    "\n",
    "print('Feature Matrix X (Train) with Selected Features')\n",
    "display(X_train_s[0:3])\n",
    "print(\"\")\n",
    "\n",
    "print('Response Vector y (Train) after Feature Selection')\n",
    "display(y_train_s[0:3])\n",
    "print(\"\")"
   ]
  },
  {
   "cell_type": "markdown",
   "metadata": {},
   "source": [
    "### Test Set"
   ]
  },
  {
   "cell_type": "code",
   "execution_count": 6,
   "metadata": {},
   "outputs": [
    {
     "name": "stdout",
     "output_type": "stream",
     "text": [
      "Features Selected with Random Forest (RF)\n",
      "Version 2; Based on Dataset with Ratios + Seasonality + other Market Data as predictive Features\n",
      "\n",
      "Shape (rows, columns) of Feature Matrix X (Test) =(710, 15)\n",
      "\n",
      "Feature Matrix X (Train) with Selected Features\n"
     ]
    },
    {
     "data": {
      "text/html": [
       "<div>\n",
       "<style scoped>\n",
       "    .dataframe tbody tr th:only-of-type {\n",
       "        vertical-align: middle;\n",
       "    }\n",
       "\n",
       "    .dataframe tbody tr th {\n",
       "        vertical-align: top;\n",
       "    }\n",
       "\n",
       "    .dataframe thead th {\n",
       "        text-align: right;\n",
       "    }\n",
       "</style>\n",
       "<table border=\"1\" class=\"dataframe\">\n",
       "  <thead>\n",
       "    <tr style=\"text-align: right;\">\n",
       "      <th></th>\n",
       "      <th>RET</th>\n",
       "      <th>RETX</th>\n",
       "      <th>sprtrn</th>\n",
       "      <th>ewretx</th>\n",
       "      <th>vwretx</th>\n",
       "      <th>ewretd</th>\n",
       "      <th>pe_inc</th>\n",
       "      <th>pe_op_dil</th>\n",
       "      <th>ALTPRC</th>\n",
       "      <th>debt_ebitda</th>\n",
       "      <th>cash_ratio</th>\n",
       "      <th>ps</th>\n",
       "      <th>SHRENDDT</th>\n",
       "      <th>VOL</th>\n",
       "      <th>int_debt</th>\n",
       "    </tr>\n",
       "  </thead>\n",
       "  <tbody>\n",
       "    <tr>\n",
       "      <th>0</th>\n",
       "      <td>-0.017073</td>\n",
       "      <td>-0.017073</td>\n",
       "      <td>-0.015514</td>\n",
       "      <td>-0.046891</td>\n",
       "      <td>-0.026823</td>\n",
       "      <td>-0.044988</td>\n",
       "      <td>16.224</td>\n",
       "      <td>16.224</td>\n",
       "      <td>100.75</td>\n",
       "      <td>0.346</td>\n",
       "      <td>0.859</td>\n",
       "      <td>3.318</td>\n",
       "      <td>20141009.0</td>\n",
       "      <td>15283673.0</td>\n",
       "      <td>0.018</td>\n",
       "    </tr>\n",
       "    <tr>\n",
       "      <th>1</th>\n",
       "      <td>0.050202</td>\n",
       "      <td>0.050202</td>\n",
       "      <td>0.029749</td>\n",
       "      <td>0.049754</td>\n",
       "      <td>0.035682</td>\n",
       "      <td>0.051828</td>\n",
       "      <td>18.555</td>\n",
       "      <td>16.489</td>\n",
       "      <td>75.52</td>\n",
       "      <td>6.228</td>\n",
       "      <td>0.399</td>\n",
       "      <td>2.379</td>\n",
       "      <td>20131030.0</td>\n",
       "      <td>746229.0</td>\n",
       "      <td>0.018</td>\n",
       "    </tr>\n",
       "    <tr>\n",
       "      <th>2</th>\n",
       "      <td>0.025838</td>\n",
       "      <td>0.025838</td>\n",
       "      <td>-0.036974</td>\n",
       "      <td>-0.012292</td>\n",
       "      <td>-0.038109</td>\n",
       "      <td>-0.011388</td>\n",
       "      <td>15.550</td>\n",
       "      <td>9.520</td>\n",
       "      <td>18.66</td>\n",
       "      <td>1.467</td>\n",
       "      <td>1.592</td>\n",
       "      <td>3.293</td>\n",
       "      <td>20100225.0</td>\n",
       "      <td>10148052.0</td>\n",
       "      <td>0.038</td>\n",
       "    </tr>\n",
       "  </tbody>\n",
       "</table>\n",
       "</div>"
      ],
      "text/plain": [
       "        RET      RETX    sprtrn    ewretx    vwretx    ewretd  pe_inc  \\\n",
       "0 -0.017073 -0.017073 -0.015514 -0.046891 -0.026823 -0.044988  16.224   \n",
       "1  0.050202  0.050202  0.029749  0.049754  0.035682  0.051828  18.555   \n",
       "2  0.025838  0.025838 -0.036974 -0.012292 -0.038109 -0.011388  15.550   \n",
       "\n",
       "   pe_op_dil  ALTPRC  debt_ebitda  cash_ratio     ps    SHRENDDT         VOL  \\\n",
       "0     16.224  100.75        0.346       0.859  3.318  20141009.0  15283673.0   \n",
       "1     16.489   75.52        6.228       0.399  2.379  20131030.0    746229.0   \n",
       "2      9.520   18.66        1.467       1.592  3.293  20100225.0  10148052.0   \n",
       "\n",
       "   int_debt  \n",
       "0     0.018  \n",
       "1     0.018  \n",
       "2     0.038  "
      ]
     },
     "metadata": {},
     "output_type": "display_data"
    },
    {
     "name": "stdout",
     "output_type": "stream",
     "text": [
      "\n",
      "Response Vector y (Test) after Feature Selection\n"
     ]
    },
    {
     "data": {
      "text/html": [
       "<div>\n",
       "<style scoped>\n",
       "    .dataframe tbody tr th:only-of-type {\n",
       "        vertical-align: middle;\n",
       "    }\n",
       "\n",
       "    .dataframe tbody tr th {\n",
       "        vertical-align: top;\n",
       "    }\n",
       "\n",
       "    .dataframe thead th {\n",
       "        text-align: right;\n",
       "    }\n",
       "</style>\n",
       "<table border=\"1\" class=\"dataframe\">\n",
       "  <thead>\n",
       "    <tr style=\"text-align: right;\">\n",
       "      <th></th>\n",
       "      <th>0</th>\n",
       "    </tr>\n",
       "  </thead>\n",
       "  <tbody>\n",
       "    <tr>\n",
       "      <th>0</th>\n",
       "      <td>0</td>\n",
       "    </tr>\n",
       "    <tr>\n",
       "      <th>1</th>\n",
       "      <td>1</td>\n",
       "    </tr>\n",
       "    <tr>\n",
       "      <th>2</th>\n",
       "      <td>1</td>\n",
       "    </tr>\n",
       "  </tbody>\n",
       "</table>\n",
       "</div>"
      ],
      "text/plain": [
       "   0\n",
       "0  0\n",
       "1  1\n",
       "2  1"
      ]
     },
     "metadata": {},
     "output_type": "display_data"
    },
    {
     "name": "stdout",
     "output_type": "stream",
     "text": [
      "\n"
     ]
    }
   ],
   "source": [
    "print('Features Selected with ' + str(sel_feat))\n",
    "print('Version ' + str(VERSION) + '; ' + str(sel_version))\n",
    "\n",
    "print(\"\")\n",
    "print('Shape (rows, columns) of Feature Matrix X (Test) ' + '=' + str(X_test_s.shape))\n",
    "print(\"\")\n",
    "\n",
    "print('Feature Matrix X (Train) with Selected Features')\n",
    "display(X_test_s[0:3])\n",
    "print(\"\")\n",
    "\n",
    "print('Response Vector y (Test) after Feature Selection')\n",
    "display(y_test_s[0:3])\n",
    "print(\"\")"
   ]
  },
  {
   "cell_type": "markdown",
   "metadata": {},
   "source": [
    "## 3.2. SVM\n",
    "\n",
    "### Two different SVM tests are applied:\n",
    "#### => SVM1 = SVM with random parameters\n",
    "#### => SVM2 = SVM with other parameters"
   ]
  },
  {
   "cell_type": "markdown",
   "metadata": {},
   "source": [
    "### 3.2.1. SVM1 : SVM with random parameters\n",
    "\n",
    "### Kernel: rbf"
   ]
  },
  {
   "cell_type": "code",
   "execution_count": 7,
   "metadata": {},
   "outputs": [],
   "source": [
    "# Create pipeline object with standard scaler and SVC estimator\n",
    "# Standardscaler standardizes the input variables\n",
    "pipe1 = Pipeline([('scaler', StandardScaler()), \n",
    "                 ('classifier', SVC(random_state=0))])"
   ]
  },
  {
   "cell_type": "code",
   "execution_count": 8,
   "metadata": {},
   "outputs": [],
   "source": [
    "# Define parameter grid\n",
    "param_grid1 = [{'scaler': [StandardScaler()],\n",
    "               'classifier': [SVC(kernel='rbf')],\n",
    "               'classifier__gamma': [1, 10],\n",
    "               'classifier__C': [10, 100]},\n",
    "              {'scaler': [StandardScaler(), None],\n",
    "               'classifier': [LogisticRegression()],\n",
    "               'classifier__C': [10, 100]}]"
   ]
  },
  {
   "cell_type": "code",
   "execution_count": 9,
   "metadata": {},
   "outputs": [
    {
     "data": {
      "text/plain": [
       "GridSearchCV(cv=5, error_score='raise',\n",
       "       estimator=Pipeline(memory=None,\n",
       "     steps=[('scaler', StandardScaler(copy=True, with_mean=True, with_std=True)), ('classifier', SVC(C=1.0, cache_size=200, class_weight=None, coef0=0.0,\n",
       "  decision_function_shape='ovr', degree=3, gamma='auto', kernel='rbf',\n",
       "  max_iter=-1, probability=False, random_state=0, shrinking=True,\n",
       "  tol=0.001, verbose=False))]),\n",
       "       fit_params=None, iid=True, n_jobs=-1,\n",
       "       param_grid=[{'scaler': [StandardScaler(copy=True, with_mean=True, with_std=True)], 'classifier': [SVC(C=1.0, cache_size=200, class_weight=None, coef0=0.0,\n",
       "  decision_function_shape='ovr', degree=3, gamma='auto', kernel='rbf',\n",
       "  max_iter=-1, probability=False, random_state=None, shrinking=True,\n",
       "  tol...olver='liblinear', tol=0.0001,\n",
       "          verbose=0, warm_start=False)], 'classifier__C': [10, 100]}],\n",
       "       pre_dispatch='2*n_jobs', refit=True, return_train_score='warn',\n",
       "       scoring=None, verbose=0)"
      ]
     },
     "execution_count": 9,
     "metadata": {},
     "output_type": "execute_result"
    }
   ],
   "source": [
    "# Run grid search\n",
    "grid1 = GridSearchCV(pipe1, param_grid1, cv=5, n_jobs=-1)\n",
    "grid1.fit(X_train_s, y_train_s)"
   ]
  },
  {
   "cell_type": "code",
   "execution_count": 10,
   "metadata": {},
   "outputs": [
    {
     "name": "stdout",
     "output_type": "stream",
     "text": [
      "\n",
      "Best CV accuracy: 0.99\n",
      "Test score:       0.99\n",
      "\n",
      "Best parameters: {'classifier': LogisticRegression(C=100, class_weight=None, dual=False, fit_intercept=True,\n",
      "          intercept_scaling=1, max_iter=100, multi_class='ovr', n_jobs=1,\n",
      "          penalty='l2', random_state=None, solver='liblinear', tol=0.0001,\n",
      "          verbose=0, warm_start=False), 'classifier__C': 100, 'scaler': StandardScaler(copy=True, with_mean=True, with_std=True)}\n"
     ]
    }
   ],
   "source": [
    "# Print results\n",
    "print(\"\")\n",
    "print('Best CV accuracy: {:.2f}'.format(grid1.best_score_))\n",
    "print('Test score:       {:.2f}'.format(grid1.score(X_test_s, y_test_s)))\n",
    "print(\"\")\n",
    "print('Best parameters: {}'.format(grid1.best_params_))"
   ]
  },
  {
   "cell_type": "code",
   "execution_count": 11,
   "metadata": {},
   "outputs": [
    {
     "data": {
      "text/plain": [
       "array([0, 1, 1, 1, 1, 0, 0, 0, 0, 0, 1, 0, 0, 0, 0, 0, 1, 0, 1, 0])"
      ]
     },
     "metadata": {},
     "output_type": "display_data"
    }
   ],
   "source": [
    "# Predict classes\n",
    "y_pred1 = grid1.predict(X_test_s)\n",
    "display(y_pred1[0:20])"
   ]
  },
  {
   "cell_type": "code",
   "execution_count": 12,
   "metadata": {},
   "outputs": [
    {
     "name": "stdout",
     "output_type": "stream",
     "text": [
      "\n",
      "Metrics of Classification with SVM1 (random parameters), kernel rbf:\n",
      "\n",
      "             precision    recall  f1-score   support\n",
      "\n",
      "          0       0.98      1.00      0.99       307\n",
      "          1       1.00      0.99      0.99       403\n",
      "\n",
      "avg / total       0.99      0.99      0.99       710\n",
      "\n",
      "\n",
      "Confusion Matrix with SVM1 (random parameters), kernel rbf:\n",
      "\n",
      "[[307   0]\n",
      " [  5 398]]\n"
     ]
    }
   ],
   "source": [
    "print(\"\")\n",
    "print('Metrics of Classification with SVM1 (random parameters), kernel rbf:')\n",
    "print(\"\")\n",
    "print(metrics.classification_report(y_test_s, y_pred1))\n",
    "print(\"\")\n",
    "print('Confusion Matrix with SVM1 (random parameters), kernel rbf:')\n",
    "print(\"\")\n",
    "print(metrics.confusion_matrix(y_test_s, y_pred1))"
   ]
  },
  {
   "cell_type": "markdown",
   "metadata": {},
   "source": [
    "### 3.2.1. SVM2 : SVM with other parameters\n",
    "\n",
    "### Kernel: linear"
   ]
  },
  {
   "cell_type": "code",
   "execution_count": 13,
   "metadata": {},
   "outputs": [],
   "source": [
    "# Create pipeline object with standard scaler and SVC estimator\n",
    "# Standardscaler standardizes the input variables\n",
    "pipe2 = Pipeline([('scaler', StandardScaler()), \n",
    "                 ('classifier', SVC(random_state=0))])"
   ]
  },
  {
   "cell_type": "code",
   "execution_count": 14,
   "metadata": {},
   "outputs": [],
   "source": [
    "# Define parameter grid\n",
    "param_grid2 = [{'scaler': [StandardScaler()],\n",
    "               'classifier': [SVC(kernel='linear')],\n",
    "               'classifier__gamma': [1, 10],\n",
    "               'classifier__C': [10, 100]},\n",
    "              {'scaler': [StandardScaler(), None],\n",
    "               'classifier': [LogisticRegression()],\n",
    "               'classifier__C': [10, 100]}]"
   ]
  },
  {
   "cell_type": "code",
   "execution_count": 15,
   "metadata": {},
   "outputs": [
    {
     "data": {
      "text/plain": [
       "GridSearchCV(cv=5, error_score='raise',\n",
       "       estimator=Pipeline(memory=None,\n",
       "     steps=[('scaler', StandardScaler(copy=True, with_mean=True, with_std=True)), ('classifier', SVC(C=1.0, cache_size=200, class_weight=None, coef0=0.0,\n",
       "  decision_function_shape='ovr', degree=3, gamma='auto', kernel='rbf',\n",
       "  max_iter=-1, probability=False, random_state=0, shrinking=True,\n",
       "  tol=0.001, verbose=False))]),\n",
       "       fit_params=None, iid=True, n_jobs=-1,\n",
       "       param_grid=[{'scaler': [StandardScaler(copy=True, with_mean=True, with_std=True)], 'classifier': [SVC(C=100, cache_size=200, class_weight=None, coef0=0.0,\n",
       "  decision_function_shape='ovr', degree=3, gamma=1, kernel='linear',\n",
       "  max_iter=-1, probability=False, random_state=None, shrinking=True,\n",
       "  tol=0...olver='liblinear', tol=0.0001,\n",
       "          verbose=0, warm_start=False)], 'classifier__C': [10, 100]}],\n",
       "       pre_dispatch='2*n_jobs', refit=True, return_train_score='warn',\n",
       "       scoring=None, verbose=0)"
      ]
     },
     "execution_count": 15,
     "metadata": {},
     "output_type": "execute_result"
    }
   ],
   "source": [
    "# Run grid search\n",
    "grid2 = GridSearchCV(pipe2, param_grid2, cv=5, n_jobs=-1)\n",
    "grid2.fit(X_train_s, y_train_s)"
   ]
  },
  {
   "cell_type": "code",
   "execution_count": 16,
   "metadata": {},
   "outputs": [
    {
     "name": "stdout",
     "output_type": "stream",
     "text": [
      "\n",
      "Best CV accuracy: 0.99\n",
      "Test score:       0.99\n",
      "\n",
      "Best parameters: {'classifier': SVC(C=100, cache_size=200, class_weight=None, coef0=0.0,\n",
      "  decision_function_shape='ovr', degree=3, gamma=1, kernel='linear',\n",
      "  max_iter=-1, probability=False, random_state=None, shrinking=True,\n",
      "  tol=0.001, verbose=False), 'classifier__C': 100, 'classifier__gamma': 1, 'scaler': StandardScaler(copy=True, with_mean=True, with_std=True)}\n"
     ]
    }
   ],
   "source": [
    "# Print results\n",
    "print(\"\")\n",
    "print('Best CV accuracy: {:.2f}'.format(grid2.best_score_))\n",
    "print('Test score:       {:.2f}'.format(grid2.score(X_test_s, y_test_s)))\n",
    "print(\"\")\n",
    "print('Best parameters: {}'.format(grid2.best_params_))"
   ]
  },
  {
   "cell_type": "code",
   "execution_count": 17,
   "metadata": {},
   "outputs": [
    {
     "data": {
      "text/plain": [
       "array([0, 1, 1, 1, 1, 0, 0, 0, 0, 0, 1, 0, 0, 0, 0, 0, 1, 0, 1, 0])"
      ]
     },
     "metadata": {},
     "output_type": "display_data"
    }
   ],
   "source": [
    "# Predict   classes\n",
    "y_pred2 = grid2.predict(X_test_s)\n",
    "display(y_pred2[0:20])"
   ]
  },
  {
   "cell_type": "code",
   "execution_count": 18,
   "metadata": {},
   "outputs": [
    {
     "name": "stdout",
     "output_type": "stream",
     "text": [
      "\n",
      "Metrics of Classification with SVM2 (random parameters), kernel linear:\n",
      "\n",
      "             precision    recall  f1-score   support\n",
      "\n",
      "          0       0.99      1.00      0.99       307\n",
      "          1       1.00      0.99      0.99       403\n",
      "\n",
      "avg / total       0.99      0.99      0.99       710\n",
      "\n",
      "[[306   1]\n",
      " [  4 399]]\n"
     ]
    }
   ],
   "source": [
    "print(\"\")\n",
    "print('Metrics of Classification with SVM2 (random parameters), kernel linear:')\n",
    "print(\"\")\n",
    "print(metrics.classification_report(y_test_s, y_pred2))\n",
    "print(metrics.confusion_matrix(y_test_s, y_pred2))"
   ]
  },
  {
   "cell_type": "markdown",
   "metadata": {},
   "source": [
    "### Kernel: poly"
   ]
  },
  {
   "cell_type": "code",
   "execution_count": 19,
   "metadata": {},
   "outputs": [],
   "source": [
    "# Create pipeline object with standard scaler and SVC estimator\n",
    "pipe3 = Pipeline([('scaler', StandardScaler()), \n",
    "                 ('classifier', SVC(random_state=0))])"
   ]
  },
  {
   "cell_type": "code",
   "execution_count": 20,
   "metadata": {},
   "outputs": [],
   "source": [
    "# Define parameter grid\n",
    "param_grid3 = [{'scaler': [StandardScaler()],\n",
    "               'classifier': [SVC(kernel= \"poly\")],\n",
    "               'classifier__gamma': [1, 10],\n",
    "               'classifier__C': [10, 100]},\n",
    "              {'scaler': [StandardScaler(), None],\n",
    "               'classifier': [LogisticRegression()],\n",
    "               'classifier__C': [10, 100]}]"
   ]
  },
  {
   "cell_type": "code",
   "execution_count": 21,
   "metadata": {},
   "outputs": [
    {
     "data": {
      "text/plain": [
       "GridSearchCV(cv=5, error_score='raise',\n",
       "       estimator=Pipeline(memory=None,\n",
       "     steps=[('scaler', StandardScaler(copy=True, with_mean=True, with_std=True)), ('classifier', SVC(C=1.0, cache_size=200, class_weight=None, coef0=0.0,\n",
       "  decision_function_shape='ovr', degree=3, gamma='auto', kernel='rbf',\n",
       "  max_iter=-1, probability=False, random_state=0, shrinking=True,\n",
       "  tol=0.001, verbose=False))]),\n",
       "       fit_params=None, iid=True, n_jobs=-1,\n",
       "       param_grid=[{'scaler': [StandardScaler(copy=True, with_mean=True, with_std=True)], 'classifier': [SVC(C=1.0, cache_size=200, class_weight=None, coef0=0.0,\n",
       "  decision_function_shape='ovr', degree=3, gamma='auto', kernel='poly',\n",
       "  max_iter=-1, probability=False, random_state=None, shrinking=True,\n",
       "  to...olver='liblinear', tol=0.0001,\n",
       "          verbose=0, warm_start=False)], 'classifier__C': [10, 100]}],\n",
       "       pre_dispatch='2*n_jobs', refit=True, return_train_score='warn',\n",
       "       scoring=None, verbose=0)"
      ]
     },
     "execution_count": 21,
     "metadata": {},
     "output_type": "execute_result"
    }
   ],
   "source": [
    "# Run grid search\n",
    "grid3 = GridSearchCV(pipe3, param_grid3, cv=5, n_jobs=-1)\n",
    "grid3.fit(X_train_s, y_train_s)"
   ]
  },
  {
   "cell_type": "code",
   "execution_count": 22,
   "metadata": {},
   "outputs": [
    {
     "name": "stdout",
     "output_type": "stream",
     "text": [
      "\n",
      "Best CV accuracy: 0.99\n",
      "Test score:       0.99\n",
      "\n",
      "Best parameters: {'classifier': LogisticRegression(C=100, class_weight=None, dual=False, fit_intercept=True,\n",
      "          intercept_scaling=1, max_iter=100, multi_class='ovr', n_jobs=1,\n",
      "          penalty='l2', random_state=None, solver='liblinear', tol=0.0001,\n",
      "          verbose=0, warm_start=False), 'classifier__C': 100, 'scaler': StandardScaler(copy=True, with_mean=True, with_std=True)}\n"
     ]
    }
   ],
   "source": [
    "# Print results\n",
    "print(\"\")\n",
    "print('Best CV accuracy: {:.2f}'.format(grid3.best_score_))\n",
    "print('Test score:       {:.2f}'.format(grid3.score(X_test_s, y_test_s)))\n",
    "print(\"\")\n",
    "print('Best parameters: {}'.format(grid3.best_params_))"
   ]
  },
  {
   "cell_type": "code",
   "execution_count": 23,
   "metadata": {},
   "outputs": [
    {
     "data": {
      "text/plain": [
       "array([0, 1, 1, 1, 1, 0, 0, 0, 0, 0, 1, 0, 0, 0, 0, 0, 1, 0, 1, 0])"
      ]
     },
     "metadata": {},
     "output_type": "display_data"
    }
   ],
   "source": [
    "# Predict   classes\n",
    "y_pred3 = grid3.predict(X_test_s)\n",
    "display(y_pred3[0:20])"
   ]
  },
  {
   "cell_type": "code",
   "execution_count": 24,
   "metadata": {},
   "outputs": [
    {
     "name": "stdout",
     "output_type": "stream",
     "text": [
      "\n",
      "Metrics of Classification with SVM2 (random parameters), kernel poly:\n",
      "\n",
      "             precision    recall  f1-score   support\n",
      "\n",
      "          0       0.98      1.00      0.99       307\n",
      "          1       1.00      0.99      0.99       403\n",
      "\n",
      "avg / total       0.99      0.99      0.99       710\n",
      "\n",
      "[[307   0]\n",
      " [  5 398]]\n"
     ]
    }
   ],
   "source": [
    "print(\"\")\n",
    "print('Metrics of Classification with SVM2 (random parameters), kernel poly:')\n",
    "print(\"\")\n",
    "print(metrics.classification_report(y_test_s, y_pred3))\n",
    "print(metrics.confusion_matrix(y_test_s, y_pred3))"
   ]
  }
 ],
 "metadata": {
  "kernelspec": {
   "display_name": "Python 3",
   "language": "python",
   "name": "python3"
  },
  "language_info": {
   "codemirror_mode": {
    "name": "ipython",
    "version": 3
   },
   "file_extension": ".py",
   "mimetype": "text/x-python",
   "name": "python",
   "nbconvert_exporter": "python",
   "pygments_lexer": "ipython3",
   "version": "3.6.2"
  }
 },
 "nbformat": 4,
 "nbformat_minor": 2
}
