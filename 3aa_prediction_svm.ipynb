{
 "cells": [
  {
   "cell_type": "markdown",
   "metadata": {},
   "source": [
    "# Introduction to Machine Learning, UZH 2018, Group Project\n",
    "### Group 2: Barbara Capl, Mathias Lüthi, Pamela Matias, Stefanie Rentsch\n",
    "##       \n",
    "# 3. Support Vector Machines (SVM)\n",
    "\n",
    "\n",
    "In this section we use the feature matrices and response vectors with features selected in chapter 2.  \n",
    "\n",
    "#### We use two different versions (created in chapter 1, features-selected in chapter 2):\n",
    "Version 1: Feature Matrix consists only of the Ratios                                                                        \n",
    "Version 2: Feature Matrix consists of Ratios + dummy variables for seasonality + other market data\n",
    "####  We will do Classification and Prediction with SVM\n"
   ]
  },
  {
   "cell_type": "code",
   "execution_count": 1,
   "metadata": {},
   "outputs": [],
   "source": [
    "# hide unnecessary warnings (\"depreciation\" of packages etc.)\n",
    "import warnings\n",
    "warnings.filterwarnings('ignore')\n",
    "\n",
    "# Load packages\n",
    "import numpy as np\n",
    "import pandas as pd\n",
    "import matplotlib.pyplot as plt\n",
    "import statsmodels.api as sm\n",
    "import statsmodels.formula.api as smf\n",
    "plt.style.use('seaborn-whitegrid')\n",
    "from sklearn.pipeline import Pipeline\n",
    "from sklearn.model_selection import GridSearchCV\n",
    "from sklearn.preprocessing import StandardScaler\n",
    "from sklearn import metrics\n",
    "from sklearn.svm import SVC\n",
    "from sklearn.linear_model import LogisticRegression\n",
    "from sklearn.model_selection import train_test_split"
   ]
  },
  {
   "cell_type": "markdown",
   "metadata": {},
   "source": [
    "## 3.0. SETTINGS"
   ]
  },
  {
   "cell_type": "markdown",
   "metadata": {},
   "source": [
    "### (1) Choose the Dataset Version you want\n",
    "\n",
    "##### Whole Feature Matrix (Features not pre-selected)\n",
    "VERSION = 1; Feature Matrix with only ratios                                  \n",
    "VERSION = 2;  Feature Matrix with ratios + saisonality + other market data\n",
    "\n",
    "##### Reduced Feature Matrix (Features pre-selected)\n",
    "VERSION = 1.1; Reduced Feature Matrix with only ratios                                  \n",
    "VERSION = 2.1;  Reduced Feature Matrix with ratios + saisonality + other market data\n",
    "\n"
   ]
  },
  {
   "cell_type": "code",
   "execution_count": 2,
   "metadata": {},
   "outputs": [],
   "source": [
    "### Chose which dataset version you want the selection of features and the prediction to be based on \n",
    "VERSION = 1.1\n",
    "\"\"\"\n",
    "INSERT NUMBER 1, 2, 1.1 or 2.1\n",
    "\"\"\"\n",
    "\n",
    "\n",
    "\n",
    "# Defining sel_state variable for easier printing out    \n",
    "if VERSION == 1:\n",
    "    sel_version = 'Based on whole original Dataset with only the Ratios Dataset as predicive Features.'\n",
    "elif VERSION == 2:\n",
    "    sel_version = 'Based on whole original Dataset with Ratios + Seasonality + other Market Data as predictive Features.'\n",
    "elif VERSION == 1.1:\n",
    "    sel_version = 'Based on reduced Dataset with only the Ratios Dataset as predicive Features.'\n",
    "elif VERSION == 2.1:\n",
    "    sel_version = 'Based on reduced Dataset with Ratios + Seasonality + other Market Data as predictive Features.'\n",
    "else: raise ValueError('VERSION must be either 1, 2, 1.1 or 2.1')"
   ]
  },
  {
   "cell_type": "markdown",
   "metadata": {},
   "source": [
    "### (2) If you chose VERSION 1.1. or VERSION 2.1:  (Reduced Feature Matrix)                                                                  \n",
    "### => Choose with which method you want to have the features been pre-selected /reduced\n",
    "\n",
    "##### You have the choice between:\n",
    "mySELECTION  = RF ; Features pre-selected with Random Forest Classifier                                                           \n",
    "mySELECTION = PCA; Features pre-selected with Principal Component Analysis (PCA)                                         \n",
    "\n",
    "##### By Default;\n",
    "If VERSION 1 or VERSION 2 was chosen above: SELECTION = none by Default; no features pre-selected. You don't need to define variable mySELECTION."
   ]
  },
  {
   "cell_type": "code",
   "execution_count": 15,
   "metadata": {},
   "outputs": [],
   "source": [
    "### Choose whether you want the datasets with features selected with RF or PCA or the original file\n",
    "mySELECTION = 'RF'\n",
    "\"\"\"\n",
    "INSERT WISHED METHOD 'RF', 'PCA'\n",
    "\"\"\"\n",
    "\n",
    "\n",
    "\n",
    "# This is the control loop. If something has been chosen wrong, it returns an error with explanation.\n",
    "if VERSION == 1 or VERSION == 2:\n",
    "    SELECTION = 'none'\n",
    "elif VERSION == 1.1 or VERSION == 2.1:\n",
    "    SELECTION = mySELECTION\n",
    "    if mySELECTION is not 'RF' and mySELECTION is not 'PCA':\n",
    "        raise ValueError('Because VERSION '+str(VERSION)+' is chosen, mySELECTION must be set as either RF or PCA.')\n",
    "else: raise ValueError('VERSION must be either 1, 2, 1.1 or 2.1. mySELECTION must be chosen as either RF or PCA.')\n",
    "\n",
    "# Defining of sel_feat (Selected Feature Selection Method) variable and briefing for later.   \n",
    "if SELECTION == 'RF':\n",
    "    sel_feat = 'Random Forest (RF)'\n",
    "    briefing = ('Chosen VERSION '+str(VERSION)+', Feature Matrix reduced, Features pre-selected with '+str(sel_feat)+'.')\n",
    "elif SELECTION == 'PCA':\n",
    "    sel_feat = 'Principal Component Analysis (PCA)'\n",
    "    briefing = ('Chosen VERSION '+str(VERSION)+', Feature Matrix reduced, Features pre-selected with '+str(sel_feat)+'.')\n",
    "elif SELECTION == 'none':\n",
    "    sel_feat = 'No Feature Selection Method available.'\n",
    "    briefing = ('Chosen VERSION '+str(VERSION)+' has no Feature Selection Method. Feature Matrix is whole, not reduced.'+' SELECTION is therefore \"none\" by Default.')\n",
    "else: raise ValueError('mySELECTION must be chosen as either RF or PCA')\n",
    "\n",
    "#print(sel_feat)"
   ]
  },
  {
   "cell_type": "markdown",
   "metadata": {},
   "source": [
    "### (3) SUMMARY OF SETTINGS"
   ]
  },
  {
   "cell_type": "code",
   "execution_count": 16,
   "metadata": {},
   "outputs": [
    {
     "name": "stdout",
     "output_type": "stream",
     "text": [
      "Chosen VERSION 1.1, Feature Matrix reduced, Features pre-selected with Random Forest (RF). \n",
      "\n",
      "VERSION 1.1 is Based on reduced Dataset with only the Ratios Dataset as predicive Features. \n",
      "\n",
      "You are now done with the Settings. You can run the whole Code now by Default.\n"
     ]
    }
   ],
   "source": [
    "print(briefing, '\\n')\n",
    "print('VERSION '+str(VERSION)+' is '+str(sel_version),'\\n')\n",
    "print('You are now done with the Settings. You can run the whole Code now by Default.')"
   ]
  },
  {
   "cell_type": "markdown",
   "metadata": {},
   "source": [
    "## 3.1. Preparation"
   ]
  },
  {
   "cell_type": "markdown",
   "metadata": {},
   "source": [
    "### 3.1.1. Import the Response Vector and the Feature Matrix"
   ]
  },
  {
   "cell_type": "code",
   "execution_count": 17,
   "metadata": {},
   "outputs": [],
   "source": [
    "####################### NEW COMMENT\n",
    "# In version 1 und 2; ganze Feature matrix und ganzen Response vector rein? ODER gesplittet?\n",
    "# dann müsste in DataPrep split gemacht werden für datenset ohne feature pre-selection\n",
    "# abgespeichert in generated_splits ohne Unterordner\n",
    "# hier eingelesen als X_train und y_train und X_test und y_test\n",
    "#######################\n",
    "\n",
    "\n",
    "### import Data (already splitted to train/test-data and selected features-> bc_randomforest_feature_selection)\n",
    "if VERSION == 1: \n",
    "# features not pre-selected, only ratios\n",
    "    X = pd.read_csv('Data/generated_datasets/features_ratios_1.csv', sep=',', header=0)\n",
    "    y = pd.read_csv('Data/generated_datasets/response_1.csv', sep=',', header=0)\n",
    "elif VERSION == 2: \n",
    "# features not pre-selected, ratios + seasonality + market data\n",
    "    X = pd.read_csv('Data/generated_datasets/features_additional_1.csv', sep=',', header=0)\n",
    "    y = pd.read_csv('Data/generated_datasets/response_1.csv', sep=',', header=0)\n",
    "elif VERSION == 1.1: \n",
    "# features pre-selected, only ratios\n",
    "    if SELECTION == 'RF':\n",
    "        X_train_s = pd.read_csv('Data/generated_splits/features_selected_randomforest/X1_train_f.csv', sep=',', header=0)\n",
    "        X_test_s = pd.read_csv('Data/generated_splits/features_selected_randomforest/X1_test_f.csv', sep=',', header=0)\n",
    "        y_train_s = pd.read_csv('Data/generated_splits/features_selected_randomforest/y1_train_f.csv', sep=',', header=0)\n",
    "        y_test_s = pd.read_csv('Data/generated_splits/features_selected_randomforest/y1_test_f.csv', sep=',', header=0)\n",
    "    elif SELECTION == 'PCA':\n",
    "        X_train_s = pd.read_csv('Data/generated_splits/features_selected_pca/X1_train_p.csv', sep=',', header=0)\n",
    "        X_test_s = pd.read_csv('Data/generated_splits/features_selected_pca/X1_test_p.csv', sep=',', header=0)\n",
    "        y_train_s = pd.read_csv('Data/generated_splits/features_selected_pca/y1_train_p.csv', sep=',', header=0)\n",
    "        y_test_s = pd.read_csv('Data/generated_splits/features_selected_pca/y1_test_p.csv', sep=',', header=0)\n",
    "elif VERSION == 2.1: \n",
    "# features pre-selected, ratios + seasonality + market data\n",
    "    if SELECTION == 'RF':\n",
    "        X_train_s = pd.read_csv('Data/generated_splits/features_selected_randomforest/X2_train_f.csv', sep=',', header=0)\n",
    "        X_test_s = pd.read_csv('Data/generated_splits/features_selected_randomforest/X2_test_f.csv', sep=',', header=0)\n",
    "        y_train_s = pd.read_csv('Data/generated_splits/features_selected_randomforest/y2_train_f.csv', sep=',', header=0)\n",
    "        y_test_s = pd.read_csv('Data/generated_splits/features_selected_randomforest/y2_test_f.csv', sep=',', header=0)\n",
    "    elif SELECTION == 'PCA':\n",
    "        X_train_s = pd.read_csv('Data/generated_splits/features_selected_pca/X2_train_p.csv', sep=',', header=0)\n",
    "        X_test_s = pd.read_csv('Data/generated_splits/features_selected_pca/X2_test_p.csv', sep=',', header=0)\n",
    "        y_train_s = pd.read_csv('Data/generated_splits/features_selected_pca/y2_train_p.csv', sep=',', header=0)\n",
    "        y_test_s = pd.read_csv('Data/generated_splits/features_selected_pca/y2_test_p.csv', sep=',', header=0)\n",
    "else: raise ValueError('VERSION value must be either 1, 2, 1.1 or 2.1, mySELECTION must be chosen as either RF or PCA.')   "
   ]
  },
  {
   "cell_type": "markdown",
   "metadata": {},
   "source": [
    "#### Train-Test-split for original files"
   ]
  },
  {
   "cell_type": "code",
   "execution_count": 29,
   "metadata": {},
   "outputs": [
    {
     "name": "stdout",
     "output_type": "stream",
     "text": [
      "No Train/Test split needed for chosen VERSION 1.1. Loaded Datasets were already pre-splitted and imputed in\n",
      "Feature Selection (Chapter 2).\n"
     ]
    }
   ],
   "source": [
    "####################### NEW COMMENT\n",
    "# Split could also be already done in Datapreparation file because there we have more space etc.^ maybe\n",
    "# but it can also be made here doesnt matterrr\n",
    "#######################\n",
    "\n",
    "\n",
    "# For VERSION == 1 or 2 -> train-test-split for the importet sets must be done\n",
    "if VERSION == 1:\n",
    "    # import package imputer\n",
    "    from sklearn.preprocessing import Imputer\n",
    "    # # Train/test split, into 20% test size and 80% train size because it is a relatively small dataset\n",
    "    X_train, X_test, y_train, y_test = train_test_split(X, y, test_size=0.2, random_state=0)\n",
    "\n",
    "    # Use a median fill for train\n",
    "    imp = Imputer(missing_values=np.nan, strategy = 'median' , axis=0)\n",
    "    imputed_dataset = pd.DataFrame(imp.fit_transform(X_train))\n",
    "    imputed_dataset.columns = X_train.columns\n",
    "    imputed_dataset.index = X_train.index\n",
    "    X_train = imputed_dataset\n",
    "\n",
    "    # Use a median fill for the test set\n",
    "    imputed_dataset = pd.DataFrame(imp.fit_transform(X_test))\n",
    "    imputed_dataset.columns = X_test.columns\n",
    "    imputed_dataset.index = X_test.index\n",
    "    X_test = imputed_dataset\n",
    "\n",
    "    # Extract the feature labels\n",
    "    feature_labels = list(X)\n",
    "    print('Type of feature_labels = ' + str(type(feature_labels)), '\\n')\n",
    "    \n",
    "elif VERSION == 2:\n",
    "    # import package imputer\n",
    "    from sklearn.preprocessing import Imputer\n",
    "    \n",
    "    # # Train/test split, into 20% test size and 80% train size because it is a relatively small dataset\n",
    "    X_train, X_test, y_train, y_test = train_test_split(X, y, test_size=0.2, random_state=0)\n",
    "\n",
    "    # Use a median fill for train\n",
    "    imp = Imputer(missing_values=np.nan, strategy = 'median' , axis=0)\n",
    "    imputed_dataset = pd.DataFrame(imp.fit_transform(X_train))\n",
    "    imputed_dataset.columns = X_train.columns\n",
    "    imputed_dataset.index = X_train.index\n",
    "    X_train = imputed_dataset\n",
    "\n",
    "    # Use a median fill for the test set\n",
    "    imputed_dataset = pd.DataFrame(imp.fit_transform(X_test))\n",
    "    imputed_dataset.columns = X_test.columns\n",
    "    imputed_dataset.index = X_test.index\n",
    "    X_test = imputed_dataset\n",
    "\n",
    "    # Extract the feature labels\n",
    "    feature_labels = list(X)\n",
    "    print('Type of feature_labels = ' + str(type(feature_labels)), '\\n')\n",
    "\n",
    "else: print('No Train/Test split needed for chosen VERSION '+str(VERSION)+\n",
    "            '. Loaded Datasets were already pre-splitted and imputed in'+'\\n'+'Feature Selection (Chapter 2).')"
   ]
  },
  {
   "cell_type": "markdown",
   "metadata": {},
   "source": [
    "### 3.1.2. Print out Shape and Form of Feature Matrix and Response Vector"
   ]
  },
  {
   "cell_type": "markdown",
   "metadata": {},
   "source": [
    "### Train Set"
   ]
  },
  {
   "cell_type": "code",
   "execution_count": null,
   "metadata": {},
   "outputs": [],
   "source": [
    "print('Features Selected with ' + str(sel_feat))\n",
    "print('Version ' + str(VERSION) + '; ' + str(sel_version))\n",
    "\n",
    "print(\"\")\n",
    "if VERSION = 1:\n",
    "    print('Shape (rows, columns) of Feature Matrix X (Train) ' + '=' + str(X_train.shape))\n",
    "    print(\"\")\n",
    "    print('Feature Matrix X (Train) with Selected Features')\n",
    "    display(X_train[0:3])\n",
    "    print(\"\")\n",
    "    print('Response Vector y (Train) after Feature Selection')\n",
    "    display(y_train[0:3])\n",
    "    print(\"\")\n",
    "elif VERSION = 2:\n",
    "    print('Shape (rows, columns) of Feature Matrix X (Train) ' + '=' + str(X_train.shape))\n",
    "    print(\"\")\n",
    "    print('Feature Matrix X (Train) with Selected Features')\n",
    "    display(X_train[0:3])\n",
    "    print(\"\")\n",
    "    print('Response Vector y (Train) after Feature Selection')\n",
    "    display(y_train[0:3])\n",
    "    print(\"\")\n",
    "else:\n",
    "    print('Shape (rows, columns) of Feature Matrix X (Train) ' + '=' + str(X_train_s.shape))\n",
    "    print(\"\")\n",
    "    print('Feature Matrix X (Train) with Selected Features')\n",
    "    display(X_train_s[0:3])\n",
    "    print(\"\")\n",
    "    print('Response Vector y (Train) after Feature Selection')\n",
    "    display(y_train_s[0:3])\n",
    "    print(\"\")"
   ]
  },
  {
   "cell_type": "markdown",
   "metadata": {},
   "source": [
    "### Test Set"
   ]
  },
  {
   "cell_type": "code",
   "execution_count": null,
   "metadata": {},
   "outputs": [],
   "source": [
    "print('Features Selected with ' + str(sel_feat))\n",
    "print('Version ' + str(VERSION) + '; ' + str(sel_version))\n",
    "\n",
    "print(\"\")\n",
    "if VERSION = 1:\n",
    "    print('Shape (rows, columns) of Feature Matrix X (Test) ' + '=' + str(X_test.shape))\n",
    "    print(\"\")\n",
    "    print('Feature Matrix X (Test) with Selected Features')\n",
    "    display(X_test[0:3])\n",
    "    print(\"\")\n",
    "    print('Response Vector y (Test) after Feature Selection')\n",
    "    display(y_test[0:3])\n",
    "    print(\"\")\n",
    "elif VERSION = 2:\n",
    "    print('Shape (rows, columns) of Feature Matrix X (Test) ' + '=' + str(X_test.shape))\n",
    "    print(\"\")\n",
    "    print('Feature Matrix X (Test) with Selected Features')\n",
    "    display(X_test[0:3])\n",
    "    print(\"\")\n",
    "    print('Response Vector y (Test) after Feature Selection')\n",
    "    display(y_test[0:3])\n",
    "    print(\"\")\n",
    "else:\n",
    "    print('Shape (rows, columns) of Feature Matrix X (Test) ' + '=' + str(X_test_s.shape))\n",
    "    print(\"\")\n",
    "    print('Feature Matrix X (Test) with Selected Features')\n",
    "    display(X_test_s[0:3])\n",
    "    print(\"\")\n",
    "    print('Response Vector y (Test) after Feature Selection')\n",
    "    display(y_test_s[0:3])\n",
    "    print(\"\")"
   ]
  },
  {
   "cell_type": "markdown",
   "metadata": {},
   "source": [
    "## 3.2. SVM\n",
    "\n",
    "### Two different SVM tests are applied:\n",
    "#### => SVM1 = SVM with random parameters\n",
    "#### => SVM2 = SVM with other parameters"
   ]
  },
  {
   "cell_type": "markdown",
   "metadata": {},
   "source": [
    "### 3.2.1. SVM1 : SVM with random parameters\n",
    "\n",
    "### Kernel: rbf"
   ]
  },
  {
   "cell_type": "code",
   "execution_count": null,
   "metadata": {},
   "outputs": [],
   "source": [
    "# Create pipeline object with standard scaler and SVC estimator\n",
    "# Standardscaler standardizes the input variables\n",
    "pipe1 = Pipeline([('scaler', StandardScaler()), \n",
    "                 ('classifier', SVC(random_state=0))])"
   ]
  },
  {
   "cell_type": "code",
   "execution_count": null,
   "metadata": {},
   "outputs": [],
   "source": [
    "# Define parameter grid\n",
    "param_grid1 = [{'scaler': [StandardScaler()],\n",
    "               'classifier': [SVC(kernel='rbf')],\n",
    "               'classifier__gamma': [1, 10],\n",
    "               'classifier__C': [10, 100]},\n",
    "              {'scaler': [StandardScaler(), None],\n",
    "               'classifier': [LogisticRegression()],\n",
    "               'classifier__C': [10, 100]}]"
   ]
  },
  {
   "cell_type": "code",
   "execution_count": null,
   "metadata": {},
   "outputs": [],
   "source": [
    "# Run grid search\n",
    "if VERSION == 1:\n",
    "    grid1 = GridSearchCV(pipe1, param_grid1, cv=5, n_jobs=-1)\n",
    "    grid1.fit(X_train, y_train)\n",
    "elif VERSION == 2:\n",
    "    grid1 = GridSearchCV(pipe1, param_grid1, cv=5, n_jobs=-1)\n",
    "    grid1.fit(X_train, y_train)\n",
    "else: \n",
    "    grid1 = GridSearchCV(pipe1, param_grid1, cv=5, n_jobs=-1)\n",
    "    grid1.fit(X_train_s, y_train_s)"
   ]
  },
  {
   "cell_type": "code",
   "execution_count": null,
   "metadata": {},
   "outputs": [],
   "source": [
    "# Print results\n",
    "print(\"\")\n",
    "print('Best CV accuracy: {:.2f}'.format(grid1.best_score_))\n",
    "if VERSION == 1:\n",
    "    print('Test score:       {:.2f}'.format(grid1.score(X_test, y_test)))\n",
    "elif VERSION == 2:\n",
    "    print('Test score:       {:.2f}'.format(grid1.score(X_test, y_test)))\n",
    "else: \n",
    "    print('Test score:       {:.2f}'.format(grid1.score(X_test_s, y_test_s)))\n",
    "print(\"\")\n",
    "print('Best parameters: {}'.format(grid1.best_params_))"
   ]
  },
  {
   "cell_type": "code",
   "execution_count": null,
   "metadata": {},
   "outputs": [],
   "source": [
    "# Predict classes\n",
    "if VERSION == 1:\n",
    "    y_pred1 = grid1.predict(X_test)\n",
    "elif VERSION == 2:\n",
    "    y_pred1 = grid1.predict(X_test)\n",
    "else:\n",
    "    y_pred1 = grid1.predict(X_test_s)\n",
    "    \n",
    "display(y_pred1[0:20])"
   ]
  },
  {
   "cell_type": "code",
   "execution_count": null,
   "metadata": {},
   "outputs": [],
   "source": [
    "print(\"\")\n",
    "print('Metrics of Classification with SVM1 (random parameters), kernel rbf:')\n",
    "print(\"\")\n",
    "if VERSION == 1:\n",
    "    print(metrics.classification_report(y_test, y_pred1))\n",
    "elif VERSION == 2:\n",
    "    print(metrics.classification_report(y_test, y_pred1))\n",
    "else:\n",
    "    print(metrics.classification_report(y_test_s, y_pred1))\n",
    "    \n",
    "print(\"\")\n",
    "print('Confusion Matrix with SVM1 (random parameters), kernel rbf:')\n",
    "print(\"\")\n",
    "if VERSION == 1:\n",
    "    print(metrics.confusion_matrix(y_test, y_pred1))\n",
    "elif VERSION == 2:\n",
    "    print(metrics.confusion_matrix(y_test, y_pred1))\n",
    "else: \n",
    "    print(metrics.confusion_matrix(y_test_s, y_pred1))"
   ]
  },
  {
   "cell_type": "markdown",
   "metadata": {},
   "source": [
    "### 3.2.1. SVM2 : SVM with other parameters\n",
    "\n",
    "### Kernel: linear"
   ]
  },
  {
   "cell_type": "code",
   "execution_count": null,
   "metadata": {},
   "outputs": [],
   "source": [
    "# Create pipeline object with standard scaler and SVC estimator\n",
    "# Standardscaler standardizes the input variables\n",
    "pipe2 = Pipeline([('scaler', StandardScaler()), \n",
    "                 ('classifier', SVC(random_state=0))])"
   ]
  },
  {
   "cell_type": "code",
   "execution_count": null,
   "metadata": {},
   "outputs": [],
   "source": [
    "# Define parameter grid\n",
    "param_grid2 = [{'scaler': [StandardScaler()],\n",
    "               'classifier': [SVC(kernel='linear')],\n",
    "               'classifier__gamma': [1, 10],\n",
    "               'classifier__C': [10, 100]},\n",
    "              {'scaler': [StandardScaler(), None],\n",
    "               'classifier': [LogisticRegression()],\n",
    "               'classifier__C': [10, 100]}]"
   ]
  },
  {
   "cell_type": "code",
   "execution_count": null,
   "metadata": {},
   "outputs": [],
   "source": [
    "# Run grid search\n",
    "if VERSION == 1:\n",
    "    grid2 = GridSearchCV(pipe2, param_grid2, cv=5, n_jobs=-1)\n",
    "    grid2.fit(X_train, y_train)\n",
    "elif VERSION == 2:\n",
    "    grid2 = GridSearchCV(pipe2, param_grid2, cv=5, n_jobs=-1)\n",
    "    grid2.fit(X_train, y_train)\n",
    "else: \n",
    "    grid2 = GridSearchCV(pipe2, param_grid2, cv=5, n_jobs=-1)\n",
    "    grid2.fit(X_train_s, y_train_s)"
   ]
  },
  {
   "cell_type": "code",
   "execution_count": null,
   "metadata": {},
   "outputs": [],
   "source": [
    "# Print results\n",
    "print(\"\")\n",
    "print('Best CV accuracy: {:.2f}'.format(grid2.best_score_))\n",
    "if VERSION == 1:\n",
    "    print('Test score:       {:.2f}'.format(grid2.score(X_test, y_test)))\n",
    "elif VERSION == 2:\n",
    "    print('Test score:       {:.2f}'.format(grid2.score(X_test, y_test)))\n",
    "else: \n",
    "    print('Test score:       {:.2f}'.format(grid2.score(X_test_s, y_test_s)))\n",
    "print(\"\")\n",
    "print('Best parameters: {}'.format(grid2.best_params_))"
   ]
  },
  {
   "cell_type": "code",
   "execution_count": null,
   "metadata": {},
   "outputs": [],
   "source": [
    "# Predict classes\n",
    "if VERSION == 1:\n",
    "    y_pred2 = grid2.predict(X_test)\n",
    "elif VERSION == 2:\n",
    "    y_pred2 = grid2.predict(X_test)\n",
    "else:\n",
    "    y_pred2 = grid2.predict(X_test_s)\n",
    "    \n",
    "display(y_pred2[0:20])"
   ]
  },
  {
   "cell_type": "code",
   "execution_count": null,
   "metadata": {},
   "outputs": [],
   "source": [
    "print(\"\")\n",
    "print('Metrics of Classification with SVM2 (random parameters), kernel linear:')\n",
    "print(\"\")\n",
    "if VERSION == 1:\n",
    "    print(metrics.classification_report(y_test, y_pred2))\n",
    "elif VERSION == 2:\n",
    "    print(metrics.classification_report(y_test, y_pred2))\n",
    "else:\n",
    "    print(metrics.classification_report(y_test_s, y_pred2))\n",
    "    \n",
    "print(\"\")\n",
    "print('Confusion Matrix with SVM2 (random parameters), kernel linear:')\n",
    "print(\"\")\n",
    "if VERSION == 1:\n",
    "    print(metrics.confusion_matrix(y_test, y_pred2))\n",
    "elif VERSION == 2:\n",
    "    print(metrics.confusion_matrix(y_test, y_pred2))\n",
    "else: \n",
    "    print(metrics.confusion_matrix(y_test_s, y_pred2))"
   ]
  },
  {
   "cell_type": "markdown",
   "metadata": {},
   "source": [
    "### Kernel: poly"
   ]
  },
  {
   "cell_type": "code",
   "execution_count": null,
   "metadata": {},
   "outputs": [],
   "source": [
    "# Create pipeline object with standard scaler and SVC estimator\n",
    "pipe3 = Pipeline([('scaler', StandardScaler()), \n",
    "                 ('classifier', SVC(random_state=0))])"
   ]
  },
  {
   "cell_type": "code",
   "execution_count": null,
   "metadata": {},
   "outputs": [],
   "source": [
    "# Define parameter grid\n",
    "param_grid3 = [{'scaler': [StandardScaler()],\n",
    "               'classifier': [SVC(kernel= \"poly\")],\n",
    "               'classifier__gamma': [1, 10],\n",
    "               'classifier__C': [10, 100]},\n",
    "              {'scaler': [StandardScaler(), None],\n",
    "               'classifier': [LogisticRegression()],\n",
    "               'classifier__C': [10, 100]}]"
   ]
  },
  {
   "cell_type": "code",
   "execution_count": null,
   "metadata": {},
   "outputs": [],
   "source": [
    "# Run grid search\n",
    "if VERSION == 1:\n",
    "    grid3 = GridSearchCV(pipe3, param_grid3, cv=5, n_jobs=-1)\n",
    "    grid3.fit(X_train, y_train)\n",
    "elif VERSION == 2:\n",
    "    grid3 = GridSearchCV(pipe3, param_grid3, cv=5, n_jobs=-1)\n",
    "    grid3.fit(X_train, y_train)\n",
    "else: \n",
    "    grid3 = GridSearchCV(pipe3, param_grid3, cv=5, n_jobs=-1)\n",
    "    grid3.fit(X_train_s, y_train_s)"
   ]
  },
  {
   "cell_type": "code",
   "execution_count": null,
   "metadata": {},
   "outputs": [],
   "source": [
    "# Print results\n",
    "print(\"\")\n",
    "print('Best CV accuracy: {:.2f}'.format(grid3.best_score_))\n",
    "if VERSION == 1:\n",
    "    print('Test score:       {:.2f}'.format(grid3.score(X_test, y_test)))\n",
    "elif VERSION == 2:\n",
    "    print('Test score:       {:.2f}'.format(grid3.score(X_test, y_test)))\n",
    "else: \n",
    "    print('Test score:       {:.2f}'.format(grid3.score(X_test_s, y_test_s)))\n",
    "print(\"\")\n",
    "print('Best parameters: {}'.format(grid3.best_params_))"
   ]
  },
  {
   "cell_type": "code",
   "execution_count": null,
   "metadata": {},
   "outputs": [],
   "source": [
    "# Predict classes\n",
    "if VERSION == 1:\n",
    "    y_pred3 = grid3.predict(X_test)\n",
    "elif VERSION == 2:\n",
    "    y_pred3 = grid3.predict(X_test)\n",
    "else:\n",
    "    y_pred3 = grid3.predict(X_test_s)\n",
    "    \n",
    "display(y_pred3[0:20])"
   ]
  },
  {
   "cell_type": "code",
   "execution_count": null,
   "metadata": {},
   "outputs": [],
   "source": [
    "print(\"\")\n",
    "print('Metrics of Classification with SVM3 (random parameters), kernel poly:')\n",
    "print(\"\")\n",
    "if VERSION == 1:\n",
    "    print(metrics.classification_report(y_test, y_pred3))\n",
    "elif VERSION == 2:\n",
    "    print(metrics.classification_report(y_test, y_pred3))\n",
    "else:\n",
    "    print(metrics.classification_report(y_test_s, y_pred3))\n",
    "    \n",
    "print(\"\")\n",
    "print('Confusion Matrix with SVM3 (random parameters), kernel poly:')\n",
    "print(\"\")\n",
    "if VERSION == 1:\n",
    "    print(metrics.confusion_matrix(y_test, y_pred3))\n",
    "elif VERSION == 2:\n",
    "    print(metrics.confusion_matrix(y_test, y_pred3))\n",
    "else: \n",
    "    print(metrics.confusion_matrix(y_test_s, y_pred3))"
   ]
  }
 ],
 "metadata": {
  "kernelspec": {
   "display_name": "Python 3",
   "language": "python",
   "name": "python3"
  },
  "language_info": {
   "codemirror_mode": {
    "name": "ipython",
    "version": 3
   },
   "file_extension": ".py",
   "mimetype": "text/x-python",
   "name": "python",
   "nbconvert_exporter": "python",
   "pygments_lexer": "ipython3",
   "version": "3.6.4"
  }
 },
 "nbformat": 4,
 "nbformat_minor": 2
}
