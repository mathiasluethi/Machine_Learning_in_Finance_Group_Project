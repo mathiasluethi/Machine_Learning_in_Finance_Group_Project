{
 "cells": [
  {
   "cell_type": "markdown",
   "metadata": {},
   "source": [
    "### Introduction to Machine Learning, UZH FS18, Group Project\n",
    "\n",
    "### Group 2: Barbara Capl, Mathias Lüthi, Pamela Matias, Stefanie Rentsch\n",
    "\n",
    "\n",
    "#     \n",
    "# III.     Feature Exraction with PCA"
   ]
  },
  {
   "cell_type": "code",
   "execution_count": 1,
   "metadata": {},
   "outputs": [],
   "source": [
    "# hide unnecessary warnings (\"depreciation\" of packages etc.)\n",
    "import warnings\n",
    "warnings.filterwarnings('ignore')\n",
    "\n",
    "# import packages\n",
    "import numpy as np\n",
    "import pandas as pd\n",
    "import matplotlib as pl\n",
    "import matplotlib.pyplot as plt\n",
    "import statsmodels.api as sm\n",
    "import statsmodels.formula.api as smf\n",
    "import datetime as dt\n",
    "import sklearn as skl\n",
    "from sklearn.svm import SVR\n",
    "from sklearn.model_selection import train_test_split\n",
    "from sklearn.preprocessing import Imputer\n",
    "from sklearn import preprocessing\n",
    "from sklearn.ensemble import RandomForestClassifier\n",
    "from sklearn import neural_network\n",
    "from sklearn import neighbors\n",
    "from sklearn.svm import SVR\n",
    "from sklearn import neighbors\n",
    "from functools import reduce\n",
    "from functools import reduce\n",
    "from pandas.core import datetools\n",
    "\n",
    "from sklearn.decomposition import PCA\n",
    "from sklearn.preprocessing import StandardScaler\n",
    "from sklearn.pipeline import Pipeline\n",
    "\n",
    "from sklearn.tree import DecisionTreeClassifier"
   ]
  },
  {
   "cell_type": "markdown",
   "metadata": {},
   "source": [
    "# Import datasets\n"
   ]
  },
  {
   "cell_type": "code",
   "execution_count": 2,
   "metadata": {},
   "outputs": [
    {
     "name": "stdout",
     "output_type": "stream",
     "text": [
      "Shape of Imputed Dataset = (3519, 94)\n",
      "Shape of Dataset with Nans dropped = (1430, 94)\n"
     ]
    }
   ],
   "source": [
    "# Import imputed dataset\n",
    "imputed_dataset = pd.read_csv('Data/generated/imputed_dataset_ml.csv', sep = ',')\n",
    "# Import dataset wit dropped Nans\n",
    "dropnan_dataset = pd.read_csv('Data/generated/dropnan_dataset_ml.csv', sep = ',')\n",
    "\n",
    "print('Shape of Imputed Dataset = ' + str(imputed_dataset.shape))\n",
    "print('Shape of Dataset with Nans dropped = ' + str(dropnan_dataset.shape))\n",
    "\n"
   ]
  },
  {
   "cell_type": "markdown",
   "metadata": {},
   "source": [
    "# Prepare Data for Version 1: Imputed Dataset"
   ]
  },
  {
   "cell_type": "markdown",
   "metadata": {},
   "source": [
    "### Feature Matrix and Response Vector "
   ]
  },
  {
   "cell_type": "code",
   "execution_count": 3,
   "metadata": {},
   "outputs": [
    {
     "data": {
      "text/html": [
       "<div>\n",
       "<style scoped>\n",
       "    .dataframe tbody tr th:only-of-type {\n",
       "        vertical-align: middle;\n",
       "    }\n",
       "\n",
       "    .dataframe tbody tr th {\n",
       "        vertical-align: top;\n",
       "    }\n",
       "\n",
       "    .dataframe thead th {\n",
       "        text-align: right;\n",
       "    }\n",
       "</style>\n",
       "<table border=\"1\" class=\"dataframe\">\n",
       "  <thead>\n",
       "    <tr style=\"text-align: right;\">\n",
       "      <th></th>\n",
       "      <th>Unnamed: 0</th>\n",
       "      <th>PERMNO</th>\n",
       "      <th>DATE</th>\n",
       "      <th>NAICS</th>\n",
       "      <th>BIDLO</th>\n",
       "      <th>ASKHI</th>\n",
       "      <th>PRC</th>\n",
       "      <th>VOL</th>\n",
       "      <th>BID</th>\n",
       "      <th>ASK</th>\n",
       "      <th>...</th>\n",
       "      <th>sale_nwc</th>\n",
       "      <th>rd_sale</th>\n",
       "      <th>adv_sale</th>\n",
       "      <th>staff_sale</th>\n",
       "      <th>accrual</th>\n",
       "      <th>ptb</th>\n",
       "      <th>PEG_trailing</th>\n",
       "      <th>divyield</th>\n",
       "      <th>PEG_1yrforward</th>\n",
       "      <th>PEG_ltgforward</th>\n",
       "    </tr>\n",
       "  </thead>\n",
       "  <tbody>\n",
       "    <tr>\n",
       "      <th>0</th>\n",
       "      <td>1</td>\n",
       "      <td>10107.0</td>\n",
       "      <td>1.138752e+18</td>\n",
       "      <td>511210.0</td>\n",
       "      <td>26.39</td>\n",
       "      <td>28.0400</td>\n",
       "      <td>26.87</td>\n",
       "      <td>11088149.0</td>\n",
       "      <td>26.87</td>\n",
       "      <td>26.88</td>\n",
       "      <td>...</td>\n",
       "      <td>1.323</td>\n",
       "      <td>0.151</td>\n",
       "      <td>0.025</td>\n",
       "      <td>0.0</td>\n",
       "      <td>0.036</td>\n",
       "      <td>6.281</td>\n",
       "      <td>10.280</td>\n",
       "      <td>0.0134</td>\n",
       "      <td>14.555</td>\n",
       "      <td>1.838</td>\n",
       "    </tr>\n",
       "    <tr>\n",
       "      <th>1</th>\n",
       "      <td>2</td>\n",
       "      <td>10107.0</td>\n",
       "      <td>1.141171e+18</td>\n",
       "      <td>511210.0</td>\n",
       "      <td>26.85</td>\n",
       "      <td>27.8900</td>\n",
       "      <td>27.21</td>\n",
       "      <td>14514337.0</td>\n",
       "      <td>27.24</td>\n",
       "      <td>27.24</td>\n",
       "      <td>...</td>\n",
       "      <td>1.323</td>\n",
       "      <td>0.151</td>\n",
       "      <td>0.025</td>\n",
       "      <td>0.0</td>\n",
       "      <td>0.036</td>\n",
       "      <td>6.293</td>\n",
       "      <td>10.410</td>\n",
       "      <td>0.0132</td>\n",
       "      <td>14.739</td>\n",
       "      <td>1.842</td>\n",
       "    </tr>\n",
       "    <tr>\n",
       "      <th>2</th>\n",
       "      <td>3</td>\n",
       "      <td>10107.0</td>\n",
       "      <td>1.143850e+18</td>\n",
       "      <td>511210.0</td>\n",
       "      <td>24.15</td>\n",
       "      <td>27.7400</td>\n",
       "      <td>24.15</td>\n",
       "      <td>14689919.0</td>\n",
       "      <td>24.16</td>\n",
       "      <td>24.16</td>\n",
       "      <td>...</td>\n",
       "      <td>1.323</td>\n",
       "      <td>0.151</td>\n",
       "      <td>0.025</td>\n",
       "      <td>0.0</td>\n",
       "      <td>0.036</td>\n",
       "      <td>5.573</td>\n",
       "      <td>9.239</td>\n",
       "      <td>0.0149</td>\n",
       "      <td>13.081</td>\n",
       "      <td>1.666</td>\n",
       "    </tr>\n",
       "    <tr>\n",
       "      <th>3</th>\n",
       "      <td>4</td>\n",
       "      <td>10107.0</td>\n",
       "      <td>1.146442e+18</td>\n",
       "      <td>511210.0</td>\n",
       "      <td>22.56</td>\n",
       "      <td>24.2900</td>\n",
       "      <td>22.65</td>\n",
       "      <td>23651189.0</td>\n",
       "      <td>22.70</td>\n",
       "      <td>22.70</td>\n",
       "      <td>...</td>\n",
       "      <td>1.388</td>\n",
       "      <td>0.150</td>\n",
       "      <td>0.025</td>\n",
       "      <td>0.0</td>\n",
       "      <td>0.024</td>\n",
       "      <td>5.496</td>\n",
       "      <td>0.709</td>\n",
       "      <td>0.0159</td>\n",
       "      <td>-5.842</td>\n",
       "      <td>1.480</td>\n",
       "    </tr>\n",
       "    <tr>\n",
       "      <th>4</th>\n",
       "      <td>5</td>\n",
       "      <td>10107.0</td>\n",
       "      <td>1.149120e+18</td>\n",
       "      <td>511210.0</td>\n",
       "      <td>21.51</td>\n",
       "      <td>23.4702</td>\n",
       "      <td>23.30</td>\n",
       "      <td>19980809.0</td>\n",
       "      <td>23.38</td>\n",
       "      <td>23.31</td>\n",
       "      <td>...</td>\n",
       "      <td>1.388</td>\n",
       "      <td>0.150</td>\n",
       "      <td>0.025</td>\n",
       "      <td>0.0</td>\n",
       "      <td>0.024</td>\n",
       "      <td>5.577</td>\n",
       "      <td>0.730</td>\n",
       "      <td>0.0155</td>\n",
       "      <td>-6.010</td>\n",
       "      <td>1.522</td>\n",
       "    </tr>\n",
       "  </tbody>\n",
       "</table>\n",
       "<p>5 rows × 93 columns</p>\n",
       "</div>"
      ],
      "text/plain": [
       "   Unnamed: 0   PERMNO          DATE     NAICS  BIDLO    ASKHI    PRC  \\\n",
       "0           1  10107.0  1.138752e+18  511210.0  26.39  28.0400  26.87   \n",
       "1           2  10107.0  1.141171e+18  511210.0  26.85  27.8900  27.21   \n",
       "2           3  10107.0  1.143850e+18  511210.0  24.15  27.7400  24.15   \n",
       "3           4  10107.0  1.146442e+18  511210.0  22.56  24.2900  22.65   \n",
       "4           5  10107.0  1.149120e+18  511210.0  21.51  23.4702  23.30   \n",
       "\n",
       "          VOL    BID    ASK       ...        sale_nwc  rd_sale  adv_sale  \\\n",
       "0  11088149.0  26.87  26.88       ...           1.323    0.151     0.025   \n",
       "1  14514337.0  27.24  27.24       ...           1.323    0.151     0.025   \n",
       "2  14689919.0  24.16  24.16       ...           1.323    0.151     0.025   \n",
       "3  23651189.0  22.70  22.70       ...           1.388    0.150     0.025   \n",
       "4  19980809.0  23.38  23.31       ...           1.388    0.150     0.025   \n",
       "\n",
       "   staff_sale  accrual    ptb  PEG_trailing  divyield  PEG_1yrforward  \\\n",
       "0         0.0    0.036  6.281        10.280    0.0134          14.555   \n",
       "1         0.0    0.036  6.293        10.410    0.0132          14.739   \n",
       "2         0.0    0.036  5.573         9.239    0.0149          13.081   \n",
       "3         0.0    0.024  5.496         0.709    0.0159          -5.842   \n",
       "4         0.0    0.024  5.577         0.730    0.0155          -6.010   \n",
       "\n",
       "   PEG_ltgforward  \n",
       "0           1.838  \n",
       "1           1.842  \n",
       "2           1.666  \n",
       "3           1.480  \n",
       "4           1.522  \n",
       "\n",
       "[5 rows x 93 columns]"
      ]
     },
     "metadata": {},
     "output_type": "display_data"
    }
   ],
   "source": [
    "# Extract labels of features\n",
    "labels_of_features_1 = imputed_dataset.columns[:-1]\n",
    "type(labels_of_features_1)\n",
    "\n",
    "# X1 is the feature matrix\n",
    "X1 = imputed_dataset.iloc[:, :-1]\n",
    "\n",
    "display(X1.head())"
   ]
  },
  {
   "cell_type": "code",
   "execution_count": 4,
   "metadata": {},
   "outputs": [
    {
     "data": {
      "text/plain": [
       "0    1.0\n",
       "1    0.0\n",
       "2    0.0\n",
       "3    1.0\n",
       "4    1.0\n",
       "Name: NEXT_DAY_PREDICTION, dtype: float64"
      ]
     },
     "metadata": {},
     "output_type": "display_data"
    }
   ],
   "source": [
    "# y1 is the response vector\n",
    "y1 = imputed_dataset.iloc[:, -1]\n",
    "display(y1.head())"
   ]
  },
  {
   "cell_type": "markdown",
   "metadata": {},
   "source": [
    "### Train - / Test - Split"
   ]
  },
  {
   "cell_type": "code",
   "execution_count": 5,
   "metadata": {},
   "outputs": [],
   "source": [
    "# Do the train - test- split\n",
    "X1_train, X1_test, y1_train, y1_test = train_test_split(X1, y1, test_size = 0.2, random_state = 0, stratify = y1)\n"
   ]
  },
  {
   "cell_type": "code",
   "execution_count": 6,
   "metadata": {},
   "outputs": [
    {
     "data": {
      "text/plain": [
       "0.5602131438721136"
      ]
     },
     "metadata": {},
     "output_type": "display_data"
    },
    {
     "data": {
      "text/plain": [
       "0.5610795454545454"
      ]
     },
     "metadata": {},
     "output_type": "display_data"
    }
   ],
   "source": [
    "# Check if there is the approximately same percentage of '1' i both training and test response vector\n",
    "display(y1_train.sum() / y1_train.size)\n",
    "display(y1_test.sum() / y1_test.size)\n"
   ]
  },
  {
   "cell_type": "markdown",
   "metadata": {},
   "source": [
    "### Standardize Variables"
   ]
  },
  {
   "cell_type": "code",
   "execution_count": 7,
   "metadata": {},
   "outputs": [],
   "source": [
    "# Standardization with sklearn StandardScaler\n",
    "standard_scaler_1 = preprocessing.StandardScaler().fit(X1_train)\n",
    "X1_train = standard_scaler_1.transform(X1_train)\n",
    "X1_test = standard_scaler_1.transform(X1_test)\n"
   ]
  },
  {
   "cell_type": "code",
   "execution_count": 8,
   "metadata": {},
   "outputs": [
    {
     "name": "stdout",
     "output_type": "stream",
     "text": [
      "Sum of all Ones (Train) = 0.5602131438721136\n",
      "Score (Prediction) =  0.53125\n",
      "\n",
      "\n"
     ]
    }
   ],
   "source": [
    "# PIPELINE\n",
    "# # https://stats.stackexchange.com/questions/144439/applying-pca-to-test-data-for-classification-purposes\n",
    "\n",
    "\n",
    "# predict labels using the trained classifier \n",
    "\n",
    "pipe_1 = Pipeline([('pca', PCA(n_components = 1)),\n",
    "                 ('tree', RandomForestClassifier())])\n",
    "\n",
    "pipe_1.fit(X1_train, y1_train)\n",
    "\n",
    "prediction_1 = pipe_1.predict(X1_test)\n",
    "\n",
    "print('Sum of all Ones (Train) = ' + str(y1_train.sum() / y1_train.size))\n",
    "print('Score (Prediction) =  ' + str(prediction_1.sum() / prediction_1.size))\n",
    "print(\"\")\n",
    "print(\"\")\n"
   ]
  },
  {
   "cell_type": "markdown",
   "metadata": {},
   "source": [
    "###   \n",
    "# Feature Extraction with Principal Component Analysis (PCA)\n",
    "###   \n",
    "## Feature Extraction \n",
    "## for Version 1: Imputed Dataset\n",
    "###   "
   ]
  },
  {
   "cell_type": "markdown",
   "metadata": {},
   "source": [
    "## Run PCA on whole Training Set for all possible PCAs (= number of columns)"
   ]
  },
  {
   "cell_type": "code",
   "execution_count": 9,
   "metadata": {},
   "outputs": [
    {
     "name": "stdout",
     "output_type": "stream",
     "text": [
      "\n",
      "Explained Variance, first 10 rows: \n",
      "[0.16214649 0.11216581 0.09743374 0.05947607 0.05223017 0.04726131\n",
      " 0.03826923 0.03356937 0.03135616 0.02775493]\n",
      "\n",
      "Explained Variance in Total = 1.0000000000000002\n",
      "\n",
      "Cumulative explained Variance, first 10 rows: \n",
      "[0.16214649 0.2743123  0.37174604 0.43122212 0.48345229 0.5307136\n",
      " 0.56898282 0.6025522  0.63390836 0.66166328]\n",
      "\n",
      "Maximal number (q_1) of PCs is: 93\n"
     ]
    }
   ],
   "source": [
    "# Run PCA for all possible PCAs\n",
    "pca_a1 = PCA().fit(X1_train)\n",
    "\n",
    "# Define maximal number of principal components => the \"1\" in shape[1] refers to columns (\"0\" would be rows)\n",
    "q_a1 = X1_train.shape[1]\n",
    "\n",
    "# Get the amount of variance that each PC explains\n",
    "# The eigenvalues represent the variance in the direction of the eigenvector\n",
    "# These numbers for each component are proportional to the Eigenvalues \n",
    "# This means that the ratio of the eigenvalue of the first principal component \n",
    "# to the eigenvalue of the second principal component is 0.16214649\n",
    "# SEE => https://stackoverflow.com/questions/37757172/finding-and-utilizing-eigenvalues-and-eigenvectors-from-pca-in-scikit-learn?rpca.q=1\n",
    "expl_var_a1 = pca_a1.explained_variance_ratio_\n",
    "\n",
    "# Get cumulative sum of the PCA 1-q_a1\n",
    "sum_expl_var_a1 = np.cumsum(expl_var_a1)[:q_a1]\n",
    "\n",
    "# because we run PCA for all possible PCAs, sum of al explained Variance of the training set should be 1\n",
    "\n",
    "print(\"\")\n",
    "print('Explained Variance, first 10 rows: ')\n",
    "print(expl_var_a1[0:10])\n",
    "print(\"\")\n",
    "print('Explained Variance in Total = ' + str(expl_var_a1.sum()))\n",
    "print(\"\")\n",
    "print('Cumulative explained Variance, first 10 rows: ')\n",
    "print(sum_expl_var_a1[0:10])\n",
    "print(\"\")\n",
    "print('Maximal number (q_1) of PCs is: ' + str(q_a1))"
   ]
  },
  {
   "cell_type": "code",
   "execution_count": 10,
   "metadata": {},
   "outputs": [
    {
     "data": {
      "text/plain": [
       "Text(0,0.5,'Ratio of Cum. explained Variance')"
      ]
     },
     "execution_count": 10,
     "metadata": {},
     "output_type": "execute_result"
    },
    {
     "data": {
      "image/png": "[encoded data removed]",
      "text/plain": [
       "<matplotlib.figure.Figure at 0x7f1a5bff3e48>"
      ]
     },
     "metadata": {},
     "output_type": "display_data"
    }
   ],
   "source": [
    "# Plot curve with cumulative sum\n",
    "plt.plot(sum_expl_var_a1)\n",
    "plt.title('Cumulative explained Variance')\n",
    "plt.xlabel('Number of Components')\n",
    "plt.ylabel('Ratio of Cum. explained Variance')\n"
   ]
  },
  {
   "cell_type": "code",
   "execution_count": 11,
   "metadata": {},
   "outputs": [
    {
     "data": {
      "text/plain": [
       "([<matplotlib.axis.XTick at 0x7f1a518364a8>,\n",
       "  <matplotlib.axis.XTick at 0x7f1a5185b470>,\n",
       "  <matplotlib.axis.XTick at 0x7f1a517c9400>,\n",
       "  <matplotlib.axis.XTick at 0x7f1a517e51d0>,\n",
       "  <matplotlib.axis.XTick at 0x7f1a517e5828>,\n",
       "  <matplotlib.axis.XTick at 0x7f1a517e5e80>,\n",
       "  <matplotlib.axis.XTick at 0x7f1a517ea518>,\n",
       "  <matplotlib.axis.XTick at 0x7f1a517eab70>,\n",
       "  <matplotlib.axis.XTick at 0x7f1a517f3208>,\n",
       "  <matplotlib.axis.XTick at 0x7f1a517f3898>,\n",
       "  <matplotlib.axis.XTick at 0x7f1a517f3f28>,\n",
       "  <matplotlib.axis.XTick at 0x7f1a517f85f8>,\n",
       "  <matplotlib.axis.XTick at 0x7f1a517f8c88>,\n",
       "  <matplotlib.axis.XTick at 0x7f1a517fe358>,\n",
       "  <matplotlib.axis.XTick at 0x7f1a517fe9e8>,\n",
       "  <matplotlib.axis.XTick at 0x7f1a517850b8>,\n",
       "  <matplotlib.axis.XTick at 0x7f1a51785748>,\n",
       "  <matplotlib.axis.XTick at 0x7f1a51785dd8>,\n",
       "  <matplotlib.axis.XTick at 0x7f1a5178a4a8>],\n",
       " <a list of 19 Text xticklabel objects>)"
      ]
     },
     "execution_count": 11,
     "metadata": {},
     "output_type": "execute_result"
    },
    {
     "data": {
      "image/png": "[encoded data removed]",
      "text/plain": [
       "<matplotlib.figure.Figure at 0x7f1a8cb50550>"
      ]
     },
     "metadata": {},
     "output_type": "display_data"
    }
   ],
   "source": [
    "# Plot curve with explained variance\n",
    "plt.plot(expl_var_a1)\n",
    "plt.title('Explained Variance by single components')\n",
    "plt.xlabel('Number of Components')\n",
    "plt.ylabel('Ratio of Variance explained')\n",
    "plt.xticks(range(-1, q_a1 + 1, 5))"
   ]
  },
  {
   "cell_type": "code",
   "execution_count": 12,
   "metadata": {},
   "outputs": [
    {
     "data": {
      "image/png": "[encoded data removed]",
      "text/plain": [
       "<matplotlib.figure.Figure at 0x7f1a517dec88>"
      ]
     },
     "metadata": {},
     "output_type": "display_data"
    }
   ],
   "source": [
    "# Plot Feature Importances (both cumulative and idividual)\n",
    "plt.figure(figsize = (12, 6))\n",
    "plt.plot(expl_var_a1) #range(0, q_1 + 1), align = 'center')\n",
    "plt.xticks(range(0, q_a1 + 1, 1))\n",
    "plt.xlim([0, 30])\n",
    "plt.xlabel('Principal Components Version a1')\n",
    "plt.ylabel('Explained Variance Ratio')\n",
    "plt.step(range(1, q_a1 + 1), sum_expl_var_a1, where = 'mid')\n",
    "\n",
    "plt.tight_layout();\n",
    "\n",
    "########  =>>> plt.bar(range(0, q_1), expl_var_1, alogn = 'center') gives ERROR MESSAGE."
   ]
  },
  {
   "cell_type": "markdown",
   "metadata": {},
   "source": [
    "### Choose number of Principal Components  and get them for further use"
   ]
  },
  {
   "cell_type": "code",
   "execution_count": 13,
   "metadata": {},
   "outputs": [
    {
     "name": "stdout",
     "output_type": "stream",
     "text": [
      "\n",
      "Explained Variance, first 10 rows: \n",
      "[0.16214649 0.11216581 0.09743374 0.05947605 0.05223016 0.04726126\n",
      " 0.03826889 0.03356824 0.03135146 0.02775339]\n",
      "\n",
      "Explained Variance in Total = 0.6616554897565036\n",
      "\n",
      "Cumulative explained Variance, first 10 rows: \n",
      "[0.16214649 0.2743123  0.37174604 0.43122209 0.48345225 0.53071351\n",
      " 0.5689824  0.60255064 0.6339021  0.66165549]\n",
      "\n"
     ]
    }
   ],
   "source": [
    "# Define number of principal components we wish to extract\n",
    "q_1 = 10\n",
    "\n",
    "# Create PCA object\n",
    "pca_1 = PCA(n_components = q_1)\n",
    "\n",
    "# Fit PCA object to find first principal components\n",
    "pca_1.fit(X1_train)\n",
    "\n",
    "pca_1\n",
    "\n",
    "# Get the amount of variance that each PC explains\n",
    "# The eigenvalues represent the variance in the direction of the eigenvector\n",
    "# These numbers for each component are proportional to the Eigenvalues \n",
    "# This means that the ratio of the eigenvalue of the first principal component \n",
    "# to the eigenvalue of the second principal component is 0.16214649\n",
    "# SEE => https://stackoverflow.com/questions/37757172/finding-and-utilizing-eigenvalues-and-eigenvectors-from-pca-in-scikit-learn?rpca.q=1\n",
    "expl_var_1 = pca_1.explained_variance_ratio_\n",
    "\n",
    "# Get cumulative sum of the PCA 1-q_1\n",
    "sum_expl_var_1 = np.cumsum(expl_var_1)[:q_1]\n",
    "\n",
    "# because we run PCA for only q_1 components, sum of al explained Variance of the training set should be LESS than 1\n",
    "\n",
    "print(\"\")\n",
    "print('Explained Variance, first 10 rows: ')\n",
    "print(expl_var_1[0:10])\n",
    "print(\"\")\n",
    "print('Explained Variance in Total = ' + str(expl_var_1.sum()))\n",
    "print(\"\")\n",
    "print('Cumulative explained Variance, first 10 rows: ')\n",
    "print(sum_expl_var_1[0:10])\n",
    "print(\"\")"
   ]
  },
  {
   "cell_type": "markdown",
   "metadata": {},
   "source": [
    "### Extract q_1 number of features out of Training Set"
   ]
  },
  {
   "cell_type": "code",
   "execution_count": 39,
   "metadata": {},
   "outputs": [
    {
     "data": {
      "text/plain": [
       "array([[ 4.31588675e+00,  1.70672318e+00, -4.33759985e-01, ...,\n",
       "        -5.47525480e-01,  1.63984993e+00, -1.47766412e+00],\n",
       "       [ 5.24855901e+00,  2.40443438e+00,  1.64361757e+00, ...,\n",
       "        -3.05245021e-02,  1.90952320e+00, -6.37551656e-01],\n",
       "       [-2.45572812e+00,  5.91317731e+00, -2.26734862e-01, ...,\n",
       "        -3.97421013e-01, -1.15410555e-01,  1.33016342e+00],\n",
       "       ...,\n",
       "       [ 2.87437349e+00, -2.12139288e+00, -2.21536944e+00, ...,\n",
       "        -9.60183532e-01,  1.58392336e+00,  9.76376602e-03],\n",
       "       [-2.12665993e+00,  2.52635620e+00, -1.47265657e+00, ...,\n",
       "         3.01172797e-01,  4.49059862e-01, -7.35953405e-01],\n",
       "       [ 4.34957149e+00,  5.66862512e-03,  2.45509809e+00, ...,\n",
       "         6.22805677e-01, -6.27927061e-01,  1.25790238e+00]])"
      ]
     },
     "metadata": {},
     "output_type": "display_data"
    },
    {
     "data": {
      "text/plain": [
       "(2815, 10)"
      ]
     },
     "metadata": {},
     "output_type": "display_data"
    },
    {
     "data": {
      "text/plain": [
       "(2815, 93)"
      ]
     },
     "metadata": {},
     "output_type": "display_data"
    }
   ],
   "source": [
    "# Extract q_1 number of features according to pca analysis\n",
    "# WEBSITE => https://www.analyticsvidhya.com/blog/2016/03/practical-guide-principal-component-analysis-python/\n",
    "X1_train_transformed = pca_1.fit_transform(X1_train)\n",
    "display(X1_train_transformed)\n",
    "len(X1_train_transformed)\n",
    "display(X1_train_transformed.shape)\n",
    "display(X1_train.shape)\n",
    "\n",
    "# This gives the Eigenvalues?"
   ]
  },
  {
   "cell_type": "markdown",
   "metadata": {},
   "source": [
    "## Transform new data (Test set) using the already fitted pca_1\n",
    "##    \n",
    "## (((NOT SURE IT ITS CORRECT)))\n",
    "##   "
   ]
  },
  {
   "cell_type": "markdown",
   "metadata": {},
   "source": [
    "#### PCA components\n",
    "\n",
    "### Dont know how to use this "
   ]
  },
  {
   "cell_type": "code",
   "execution_count": 15,
   "metadata": {},
   "outputs": [
    {
     "name": "stdout",
     "output_type": "stream",
     "text": [
      "[[-3.70390688e-02 -3.18185285e-02 -9.66550246e-03 -5.97540687e-02\n",
      "   5.86715357e-02  5.94328409e-02  5.90505380e-02  6.35052469e-02\n",
      "   5.90644685e-02  5.90584062e-02  4.38984175e-02  1.30710497e-01\n",
      "   1.30797078e-01  5.90505380e-02 -9.79236734e-03 -4.18708470e-03\n",
      "  -4.18272698e-03 -3.39775887e-03 -3.41085547e-03 -5.06782936e-03\n",
      "  -4.91636643e-03  5.60745390e-03  5.59867211e-02 -9.27691316e-02\n",
      "  -7.22840383e-02 -4.17449667e-02 -3.75518874e-02 -7.07607383e-04\n",
      "   8.31548460e-03  1.63773262e-01  6.61872976e-02 -5.06771861e-02\n",
      "   1.54453136e-01  6.49904010e-02  6.16923727e-02  1.01418249e-01\n",
      "   1.51902572e-01  1.35997774e-01  2.06322123e-01  2.52060752e-02\n",
      "   1.76681987e-01  2.78652057e-02 -5.02910978e-06  1.03718206e-01\n",
      "   6.28974926e-05  4.44599753e-02  1.33369312e-01  1.52463626e-01\n",
      "   2.22894068e-01 -2.19513443e-01 -1.91141268e-01 -2.20604852e-01\n",
      "   3.48236739e-02  3.45788933e-02  1.81118543e-01 -1.04277808e-01\n",
      "  -7.20055832e-02 -1.92442243e-01 -1.57119440e-01 -4.22206675e-02\n",
      "   9.23066436e-02 -1.10758126e-01  1.04090767e-01  1.12432958e-01\n",
      "   2.14686615e-01  5.13257216e-02 -1.13182587e-01 -1.18654526e-01\n",
      "  -2.21487104e-01 -2.29405085e-01 -1.24215933e-01  5.79296832e-02\n",
      "   4.77119378e-02  1.50619028e-01  1.51659271e-01  1.31592197e-01\n",
      "  -9.37174976e-02  4.54821050e-02  4.41506980e-02 -1.02442928e-02\n",
      "   5.05404256e-02 -1.29771106e-02 -7.40691120e-02 -9.49790801e-03\n",
      "   1.08458764e-01  1.02601195e-01 -1.11999123e-01  7.56423424e-02\n",
      "   2.33535168e-02  1.14793632e-02 -1.78702801e-03  7.98247564e-03\n",
      "  -4.99264451e-04]\n",
      " [-6.82531219e-02 -7.71967300e-02 -2.59782467e-02 -7.85488011e-02\n",
      "   1.19602033e-02  9.03473780e-03  1.09731770e-02 -9.68032454e-02\n",
      "   1.09718507e-02  1.09749227e-02 -8.62716668e-02  1.85125881e-04\n",
      "   1.81959345e-04  1.09731770e-02 -6.45338346e-03  8.68560044e-04\n",
      "   8.83873706e-04  7.17398457e-04  6.81316819e-04  5.35631115e-04\n",
      "   5.32238255e-03  4.38807997e-03  1.06479926e-02 -1.38103525e-01\n",
      "  -1.52371225e-01  9.23653275e-03  8.77516769e-03 -1.93936993e-02\n",
      "  -9.83624199e-03 -1.41359888e-01 -7.41284760e-03 -2.77878029e-02\n",
      "  -1.77681988e-01 -2.60253156e-01 -2.53799481e-01 -1.89663114e-01\n",
      "  -1.73188783e-01 -1.90461017e-01  9.84070105e-02  1.14393366e-01\n",
      "   1.31711798e-01  8.94867109e-02  9.89891865e-02  1.22945652e-01\n",
      "   9.92436846e-02 -4.07392037e-02 -8.57063263e-02  1.41248498e-01\n",
      "   4.23992084e-02 -4.68477907e-02 -1.30091578e-01 -4.52135369e-02\n",
      "  -1.06272915e-02 -1.01789912e-02 -8.58045368e-02  1.61960984e-01\n",
      "   2.98540060e-02 -8.24786616e-02 -1.71957662e-01 -1.17660900e-01\n",
      "   4.65108827e-02  1.52444267e-02 -1.01384757e-01 -9.73540852e-02\n",
      "   2.64586030e-02 -1.06021766e-01 -1.77754460e-01 -3.31345005e-02\n",
      "  -2.91593364e-02 -3.13519276e-02 -6.84554873e-02 -1.31200257e-02\n",
      "  -1.28450247e-02 -1.55927445e-01 -1.60292640e-01 -1.16187219e-01\n",
      "  -1.63620665e-01  1.11401399e-02  2.58174183e-01  1.61596694e-01\n",
      "   1.31959158e-01  2.62683511e-01  1.75384563e-01  9.39748005e-03\n",
      "  -6.11131771e-02 -4.80657804e-02 -1.25498625e-01  6.41606013e-02\n",
      "   1.20985806e-01  1.05165035e-04 -3.61158354e-03 -6.19093829e-03\n",
      "  -2.67638571e-02]\n",
      " [-2.69203097e-02 -5.00425749e-03  4.41920610e-02  2.47828322e-02\n",
      "   2.97878748e-01  2.95898862e-01  2.98650555e-01 -1.21853313e-01\n",
      "   2.98634986e-01  2.98652050e-01 -1.58645224e-01  1.57858910e-01\n",
      "   1.58072228e-01  2.98650555e-01 -1.02183037e-01  3.71311418e-03\n",
      "   3.78705042e-03 -1.83650483e-03 -1.80350654e-03  5.68412062e-03\n",
      "   6.12136175e-03  5.05030684e-03  4.37168398e-02 -6.29277041e-02\n",
      "   7.94866619e-02 -4.57768451e-02 -4.10638338e-02 -3.41395570e-02\n",
      "  -2.64239593e-02  2.57742846e-02  1.67171053e-02 -9.63940691e-02\n",
      "   5.45440166e-02  4.38986346e-02  8.86774804e-02 -6.78211583e-02\n",
      "   5.99621865e-02 -5.90740030e-03  2.38697132e-02  1.60720230e-01\n",
      "   9.84903829e-02  3.97632288e-02  1.20567963e-01  1.21203124e-01\n",
      "   1.19981412e-01  5.49729052e-02  1.40921097e-01 -4.12576431e-02\n",
      "  -5.78605201e-02  7.32474502e-02  1.13452378e-01  6.62156678e-02\n",
      "  -7.98290203e-03 -8.24027802e-03 -2.10371452e-02 -1.29925247e-02\n",
      "   5.18832579e-02  3.65393685e-02  7.17640519e-02  7.86670104e-02\n",
      "   6.29432841e-02 -8.68293868e-02  1.88025596e-03  5.70206679e-03\n",
      "  -1.12670984e-02  4.18232875e-02  8.27564252e-02  6.15305341e-02\n",
      "   9.55297099e-02  9.02344910e-02  1.09360268e-01 -2.92505078e-02\n",
      "  -3.22753593e-02 -5.15883324e-02 -3.83708606e-02 -5.13284504e-02\n",
      "   1.21770803e-01  8.60553399e-02 -3.97822020e-04 -3.82713869e-02\n",
      "  -5.41373345e-02  5.11669330e-02  7.62344290e-02 -2.83351341e-03\n",
      "  -1.16343989e-01 -4.72336079e-02  1.10836711e-01 -6.44086922e-02\n",
      "   1.26969404e-01 -5.52270140e-02 -1.21545072e-01  6.76464771e-03\n",
      "  -5.39492661e-02]\n",
      " [-4.38047031e-03  3.37601403e-03 -5.36123553e-02 -6.19361119e-03\n",
      "  -2.72124889e-02 -1.65966574e-02 -3.09042492e-02  4.44260895e-02\n",
      "  -3.09699829e-02 -3.08819507e-02  9.68803112e-03 -9.94359125e-03\n",
      "  -9.94446664e-03 -3.09042492e-02 -8.85339414e-02 -4.11228474e-01\n",
      "  -4.11259905e-01 -3.98914254e-01 -3.99077272e-01 -4.08124430e-01\n",
      "  -2.49799708e-01 -2.46147331e-01 -1.82452796e-02 -3.40006659e-02\n",
      "   2.08509099e-02 -5.14824826e-02 -4.84719054e-02 -4.69085868e-03\n",
      "  -5.30678820e-03 -1.25451479e-02 -2.85692300e-02 -3.52470723e-02\n",
      "   9.96882880e-03  8.24015388e-03  1.94052114e-02  1.06921140e-02\n",
      "   8.14907669e-03 -6.10739711e-03  3.97014797e-03  4.16400246e-02\n",
      "   2.74735383e-02  1.95694252e-02  2.78429080e-02  3.25984525e-02\n",
      "   2.75784131e-02  3.43483078e-03  1.90113229e-02  1.54135071e-02\n",
      "   4.69009702e-03  1.55616169e-03  1.78904839e-02 -1.41841794e-03\n",
      "   3.54647094e-02  3.50707800e-02  4.27615803e-03  1.18930515e-02\n",
      "  -8.13150310e-03  8.31262991e-04  6.28458183e-03  4.53825686e-02\n",
      "   5.72860946e-02 -3.59099303e-02 -3.55136030e-02 -3.39579960e-02\n",
      "  -4.99859395e-03  2.30512907e-02  1.53342288e-02  1.39069036e-03\n",
      "   1.70601047e-02  9.25541820e-03  3.20480182e-02  2.02049453e-02\n",
      "   1.68492591e-02 -6.99577984e-03 -1.08876683e-02 -9.01447164e-03\n",
      "   1.55311434e-02 -3.81576409e-02  6.16369334e-03  4.53764352e-03\n",
      "  -3.29082228e-02  1.58782715e-02  1.86215333e-02  2.83550875e-03\n",
      "   7.45835783e-03  9.07720578e-05  1.47586852e-02 -2.25702959e-02\n",
      "   4.23391737e-03 -7.13422312e-03  1.16526504e-02  3.25871801e-03\n",
      "  -1.20793879e-02]\n",
      " [-1.87435160e-01 -1.87230448e-01 -5.37610840e-03 -1.25011193e-01\n",
      "  -7.28396877e-02 -7.39590128e-02 -7.33070348e-02  1.52337832e-01\n",
      "  -7.32984394e-02 -7.33133733e-02  1.74987268e-01 -1.11876891e-01\n",
      "  -1.11559770e-01 -7.33070348e-02  3.69424153e-02  3.69275107e-02\n",
      "   3.70043242e-02  3.65194642e-02  3.66309410e-02  3.61761654e-02\n",
      "   1.74341076e-02  1.15201678e-02  1.68533382e-02 -2.09414545e-01\n",
      "   4.16271972e-02  7.34986421e-02  5.94164603e-02  8.42767951e-02\n",
      "   7.88234871e-02  8.95943419e-02 -1.71793740e-04  4.72243455e-02\n",
      "   1.00951558e-01  5.08976458e-02  3.45643530e-02  1.67033634e-01\n",
      "   6.66638420e-02  4.84207379e-02  5.90642795e-02  2.73641821e-01\n",
      "   1.09522745e-01 -1.34432454e-01  2.84603621e-01  1.38289547e-01\n",
      "   2.84842306e-01  1.25482027e-01 -3.28893321e-02  7.96876837e-02\n",
      "  -1.14033755e-01  1.33529348e-01  6.80280449e-02  1.29035562e-01\n",
      "   9.11126243e-02  9.18815573e-02  6.15902311e-02 -4.07135921e-03\n",
      "  -2.63624070e-02  8.77126958e-02 -3.12923381e-03  2.26089574e-02\n",
      "   2.55607533e-02  5.59350845e-02 -3.73393900e-02 -1.29147678e-02\n",
      "   2.65832299e-02  7.52529651e-02 -3.16843136e-02  4.52117022e-02\n",
      "   1.06968018e-01  8.90885079e-02  1.48980278e-01  1.27122628e-02\n",
      "   1.05149075e-02  6.40430781e-02  5.31999983e-02  5.18643940e-02\n",
      "  -3.59410652e-02 -5.83885700e-02 -6.68775016e-02 -8.04911416e-02\n",
      "  -2.04364416e-02  4.46528672e-02  2.08383343e-01 -2.23010759e-02\n",
      "   2.22199983e-01 -4.76508400e-02  2.41336621e-02  4.65172489e-02\n",
      "   2.83166936e-01  9.92975662e-03  7.32805695e-02  2.03357575e-02\n",
      "   6.64804026e-02]\n",
      " [-1.86185573e-02 -5.81275758e-02  1.17000361e-01  1.55442556e-01\n",
      "   6.29069643e-02  5.87699118e-02  5.86999723e-02 -4.38247582e-02\n",
      "   5.87145662e-02  5.87004368e-02 -1.45691847e-02 -9.71969762e-02\n",
      "  -9.78604479e-02  5.86999723e-02 -7.89632899e-04 -5.21098751e-02\n",
      "  -5.21895415e-02 -5.51308492e-02 -5.51524548e-02 -4.80836858e-02\n",
      "  -4.19949358e-02 -3.45804379e-02 -2.74227242e-02 -3.81655670e-02\n",
      "  -1.31933718e-01  6.12260202e-02  5.27301337e-02  7.99282210e-02\n",
      "   7.60264937e-02  1.70329051e-02 -5.13423282e-02  1.33796747e-01\n",
      "   2.19609237e-02  5.98000644e-02  3.53158140e-03 -1.17164699e-02\n",
      "   5.29696470e-02  9.21608368e-02  1.12226570e-01  4.09281492e-03\n",
      "   1.68395344e-02 -1.57799212e-02  1.08115021e-02  2.29535688e-03\n",
      "   1.09137040e-02  6.07453578e-02  1.40760213e-02 -4.52654440e-02\n",
      "  -9.25690948e-02  5.88059527e-02 -4.26638808e-02  7.75681088e-02\n",
      "  -5.73169005e-02 -5.65815324e-02 -1.55683688e-01 -1.12423707e-01\n",
      "   1.56477380e-01  9.40337479e-02 -6.89354483e-02 -2.02662386e-01\n",
      "  -3.54723500e-01  2.72652093e-01  3.07054142e-01  3.00167931e-01\n",
      "   5.10516034e-02 -1.16372369e-01 -1.21033936e-01 -3.69847621e-02\n",
      "  -2.34041635e-02  9.39085967e-03 -2.89067278e-02 -1.14988842e-03\n",
      "   2.85343148e-04 -7.76496123e-02 -5.49527648e-02 -1.08749561e-01\n",
      "  -8.27800754e-02  3.11360587e-01 -6.36819170e-02 -1.53170569e-02\n",
      "   1.75631061e-01 -1.14387257e-01 -3.69386509e-02  2.02531181e-02\n",
      "  -3.02523967e-02 -4.86548298e-02 -7.42094551e-03  1.81163056e-01\n",
      "  -2.28845459e-04  4.86736165e-02  1.57958679e-01  7.60253606e-03\n",
      "   8.08346647e-02]\n",
      " [ 3.58170566e-01  3.74996223e-01 -9.48803650e-03  2.41774755e-01\n",
      "  -6.34203037e-02 -6.08546656e-02 -6.16139541e-02  2.04975739e-02\n",
      "  -6.16071466e-02 -6.16315974e-02 -6.59248634e-02 -2.22007777e-04\n",
      "   6.42447504e-05 -6.16139541e-02  4.41849825e-02 -4.09537046e-04\n",
      "  -3.73181103e-04 -5.47368087e-03 -5.40603961e-03 -4.96191469e-05\n",
      "   1.50874293e-02  2.27984585e-02  4.74053595e-02 -8.07786690e-02\n",
      "   7.57411907e-02  3.27187837e-02  2.46819924e-02  1.25298438e-02\n",
      "   2.41183739e-02  1.61618086e-02  1.42044219e-02 -1.04539224e-01\n",
      "   5.32795783e-03  9.45229333e-03  4.09763446e-02 -4.33860956e-02\n",
      "   1.46150558e-02 -3.25010378e-02  4.59923205e-02  5.32927315e-02\n",
      "   1.89194496e-02  9.50080757e-02  8.50798253e-02 -4.93815852e-03\n",
      "   8.47137530e-02 -1.76968674e-01 -9.00744190e-03  1.08714379e-01\n",
      "  -5.98492788e-02  8.25938260e-02  5.43093279e-02  7.63324895e-02\n",
      "  -3.62011338e-02 -3.61581196e-02  1.54722933e-01  5.14841391e-02\n",
      "  -2.94236995e-01  4.08132051e-02  4.76508038e-02 -1.57335597e-01\n",
      "   8.63415146e-02  1.30300857e-01  1.47466439e-01  1.41836922e-01\n",
      "   7.65786329e-02  7.57576018e-02  6.56766182e-02  4.49754535e-02\n",
      "  -7.23143322e-03  4.59467559e-02  8.47196231e-02  6.14022135e-02\n",
      "   6.43078939e-02  1.65919136e-01  8.40582252e-02  1.10178041e-01\n",
      "   8.24778611e-02  1.49556229e-01  1.42194276e-01  2.32377048e-01\n",
      "   1.74509777e-01  9.64530582e-02  1.23703622e-01 -2.91780153e-02\n",
      "  -3.96917115e-02 -5.33702516e-02  1.15825937e-01  4.12450540e-02\n",
      "   9.49449291e-02  7.01069660e-03 -1.82635998e-01  4.45051342e-02\n",
      "  -4.16283788e-02]\n",
      " [-6.54556524e-02 -4.74084746e-02 -6.34214114e-02  1.59412296e-02\n",
      "  -3.72771730e-02 -3.41901597e-02 -3.68754214e-02  8.58731022e-02\n",
      "  -3.68883147e-02 -3.68727630e-02  6.47378543e-02 -3.36326657e-02\n",
      "  -3.37384627e-02 -3.68754214e-02 -6.87205304e-03  9.98594448e-03\n",
      "   9.82463482e-03  2.13703344e-02  2.11648148e-02  6.43309037e-03\n",
      "  -6.31630041e-03 -3.22688323e-03 -4.73091120e-02 -1.27390426e-03\n",
      "  -2.94014711e-02 -2.86584050e-02 -2.41380942e-02 -5.00283009e-01\n",
      "  -4.83244566e-01 -1.96393435e-02  1.92715361e-02 -1.53046874e-01\n",
      "   5.65007955e-02  3.60278129e-02  3.28825114e-02  7.09042942e-03\n",
      "   6.05445525e-02  3.05335261e-02  6.23995376e-02  4.30754750e-02\n",
      "   4.00466067e-02  6.54189888e-02  8.61044359e-04  2.55985375e-02\n",
      "   4.45031709e-04  3.01007283e-02 -6.51860306e-03  9.10125188e-03\n",
      "  -5.20332007e-02  6.05647604e-02  2.88662912e-02  5.90785434e-02\n",
      "   8.27682318e-02  8.28859487e-02  8.06830056e-03 -2.93989554e-02\n",
      "   4.59126340e-02  3.20204695e-02 -8.52059146e-03 -5.70051058e-03\n",
      "  -1.12037231e-02  2.86656083e-02  7.92454890e-02  7.97390805e-02\n",
      "   4.78974393e-02 -1.71950055e-01 -2.30388198e-02  3.65541836e-01\n",
      "   2.31839946e-02  3.14519989e-02 -2.34597816e-01  1.74795658e-02\n",
      "   8.88811270e-03  9.68489903e-03  1.25021559e-02 -5.50392844e-03\n",
      "  -3.14686991e-03  5.87085244e-02 -1.89557449e-03 -2.03450171e-02\n",
      "   3.43576743e-02  5.27556060e-02 -3.97882011e-02  3.33186429e-03\n",
      "   2.25922274e-02 -4.89863316e-02  4.35190638e-02  1.18873912e-02\n",
      "  -1.59509988e-02 -1.00813398e-01  6.60097090e-02 -1.10820692e-01\n",
      "  -3.51048240e-01]\n",
      " [-3.21401985e-02 -4.84677050e-02  7.70342507e-02 -2.28149957e-01\n",
      "   9.07407317e-02  9.37175934e-02  9.45944231e-02  1.26804057e-01\n",
      "   9.45844977e-02  9.45758740e-02  6.97753256e-02  1.88034474e-01\n",
      "   1.88161829e-01  9.45944231e-02 -1.68783011e-02 -4.30172815e-02\n",
      "  -4.30109749e-02 -4.46735913e-02 -4.46788961e-02 -3.97541422e-02\n",
      "   6.51815525e-03 -1.45254465e-02  1.09469749e-01 -2.00442712e-02\n",
      "   1.45497090e-01  1.88135795e-01  1.81386834e-01 -2.34242807e-02\n",
      "  -7.06351198e-02 -3.14274675e-02 -8.30627279e-03  1.89522529e-01\n",
      "  -1.56580820e-01 -9.97575816e-02 -1.34012986e-01 -2.13987102e-02\n",
      "  -1.87762992e-01 -1.29582884e-01 -4.47481290e-02 -1.05592834e-01\n",
      "  -1.05534040e-01 -2.17231138e-01 -8.17868856e-02 -3.42944622e-02\n",
      "  -8.12475110e-02  5.31258565e-02 -1.53749245e-01 -4.79210289e-03\n",
      "  -7.12833189e-02  6.22706775e-02  1.52599354e-02  6.84903143e-02\n",
      "  -2.00885123e-01 -2.00333838e-01  1.80548584e-01  3.29991158e-02\n",
      "  -6.21097993e-02  6.12722609e-02  9.05806964e-02 -1.21780850e-01\n",
      "   4.73347296e-02  6.98156499e-02 -4.25069932e-02  2.24880280e-02\n",
      "   6.85768634e-02 -5.94185156e-02 -4.17769945e-02  1.43091704e-01\n",
      "  -9.02116287e-03  2.84290314e-02 -7.89303675e-02  1.14041006e-01\n",
      "   1.19446181e-01  1.71864588e-01  1.82194238e-01  2.28870573e-01\n",
      "   2.41497990e-02 -1.20706648e-02 -4.58247827e-03 -3.84847216e-02\n",
      "   3.99711367e-02 -4.72989833e-03 -1.50323337e-02 -2.44010936e-02\n",
      "   9.69140581e-02 -8.18934323e-02 -4.54853776e-02  1.95305410e-01\n",
      "   1.35587520e-03  5.45400024e-03  1.14433079e-01 -1.64166129e-02\n",
      "   1.02935243e-02]\n",
      " [-4.04226632e-02  8.46230510e-03 -9.10003946e-02 -1.83842876e-02\n",
      "   4.41479460e-02  4.89581424e-02  4.76594756e-02  2.47830682e-01\n",
      "   4.76152935e-02  4.76671777e-02  1.90791346e-01 -4.27649387e-02\n",
      "  -4.30973774e-02  4.76594756e-02 -7.05632542e-02  3.05461924e-02\n",
      "   3.01041526e-02  4.56711537e-02  4.53264946e-02  2.55137036e-02\n",
      "   1.09065116e-02  7.08063962e-04 -1.12814211e-01  1.29529168e-01\n",
      "  -3.79519261e-02 -1.10551401e-01 -1.03381909e-01  8.41008647e-02\n",
      "   7.72624835e-02 -1.76864386e-01 -2.40347340e-01  5.96451398e-02\n",
      "  -9.96361154e-02  4.40229329e-02  2.31787776e-02  2.07665260e-02\n",
      "  -8.74628400e-02 -1.10462533e-01  1.19138229e-01 -4.39467999e-02\n",
      "   9.65231815e-02  4.77751251e-02 -5.93986291e-02 -9.86391433e-03\n",
      "  -5.95762712e-02 -1.93103871e-02  4.90452048e-02  7.98698316e-02\n",
      "  -3.17596014e-03 -9.78135084e-03  9.19788539e-02 -3.16850293e-03\n",
      "   2.44753580e-01  2.45435631e-01 -8.73850558e-03  4.99615886e-02\n",
      "   7.50805352e-03  3.06172907e-02  1.23274712e-01  1.20268054e-01\n",
      "   1.13077262e-01 -7.44334581e-02  1.01592095e-01  1.55085933e-01\n",
      "   1.70486066e-01 -1.09306203e-01  1.14769339e-01 -7.15805292e-02\n",
      "   1.05733646e-02  4.06582802e-02  9.85895889e-02  3.04798186e-01\n",
      "   2.96204050e-01 -6.14417607e-02 -7.54128248e-02 -7.08348466e-02\n",
      "   1.28852024e-01 -9.01452877e-03  1.01756763e-01  1.24131258e-01\n",
      "  -9.61427246e-02  3.72170820e-02 -2.45400875e-02  4.19838623e-02\n",
      "  -7.19115273e-04 -1.62399034e-01 -2.30390170e-02  2.04294461e-01\n",
      "  -1.14620839e-01  1.11623452e-02  8.41950886e-02 -1.43660907e-02\n",
      "   3.95998388e-02]]\n"
     ]
    }
   ],
   "source": [
    "# Print PCA components: every row is a principal component in the p-dimensional space\n",
    "# Principal axes in feature space, representing the directions of maximum variance in the data. \n",
    "# The components are sorted by explained_variance_ \n",
    "# SEE SKLEARN DOCUMENTATION\n",
    "\n",
    "print(pca_1.components_)"
   ]
  },
  {
   "cell_type": "markdown",
   "metadata": {},
   "source": [
    "## Prediction with RandomForest"
   ]
  },
  {
   "cell_type": "code",
   "execution_count": 40,
   "metadata": {},
   "outputs": [
    {
     "data": {
      "text/plain": [
       "array([1., 1., 1., 1.])"
      ]
     },
     "metadata": {},
     "output_type": "display_data"
    },
    {
     "name": "stdout",
     "output_type": "stream",
     "text": [
      "Sum of all Ones (Train) = 0.5602131438721136\n",
      "Score (Prediction) =  0.7670454545454546\n",
      "\n"
     ]
    }
   ],
   "source": [
    "\n",
    "X1_train_transformed = pca_1.fit_transform(X1_train)\n",
    "X1_test_transformed = pca_1.transform(X1_test)\n",
    "\n",
    "\n",
    "my_forest_1 = RandomForestClassifier(random_state = 1)\n",
    "my_forest_1.max_depth = 8\n",
    "my_forest_1.fit(X1_train_transformed, y1_train)\n",
    "\n",
    "prediction_1 = my_forest_1.predict(X1_test_transformed)\n",
    "\n",
    "display(prediction_1[1:5])\n",
    "\n",
    "\n",
    "print('Sum of all Ones (Train) = ' + str(y1_train.sum() / y1_train.size))\n",
    "print('Score (Prediction) =  ' + str(prediction_1.sum() / prediction_1.size))\n",
    "print(\"\")\n"
   ]
  },
  {
   "cell_type": "code",
   "execution_count": null,
   "metadata": {},
   "outputs": [],
   "source": []
  },
  {
   "cell_type": "markdown",
   "metadata": {},
   "source": [
    "# Prepare Data for Version 2: Dataset with rows dropped where Nan"
   ]
  },
  {
   "cell_type": "markdown",
   "metadata": {},
   "source": [
    "### Feature Matrix and Response Vector "
   ]
  },
  {
   "cell_type": "code",
   "execution_count": 17,
   "metadata": {},
   "outputs": [
    {
     "data": {
      "text/html": [
       "<div>\n",
       "<style scoped>\n",
       "    .dataframe tbody tr th:only-of-type {\n",
       "        vertical-align: middle;\n",
       "    }\n",
       "\n",
       "    .dataframe tbody tr th {\n",
       "        vertical-align: top;\n",
       "    }\n",
       "\n",
       "    .dataframe thead th {\n",
       "        text-align: right;\n",
       "    }\n",
       "</style>\n",
       "<table border=\"1\" class=\"dataframe\">\n",
       "  <thead>\n",
       "    <tr style=\"text-align: right;\">\n",
       "      <th></th>\n",
       "      <th>Unnamed: 0</th>\n",
       "      <th>PERMNO</th>\n",
       "      <th>DATE</th>\n",
       "      <th>NAICS</th>\n",
       "      <th>BIDLO</th>\n",
       "      <th>ASKHI</th>\n",
       "      <th>PRC</th>\n",
       "      <th>VOL</th>\n",
       "      <th>BID</th>\n",
       "      <th>ASK</th>\n",
       "      <th>...</th>\n",
       "      <th>sale_nwc</th>\n",
       "      <th>rd_sale</th>\n",
       "      <th>adv_sale</th>\n",
       "      <th>staff_sale</th>\n",
       "      <th>accrual</th>\n",
       "      <th>ptb</th>\n",
       "      <th>PEG_trailing</th>\n",
       "      <th>divyield</th>\n",
       "      <th>PEG_1yrforward</th>\n",
       "      <th>PEG_ltgforward</th>\n",
       "    </tr>\n",
       "  </thead>\n",
       "  <tbody>\n",
       "    <tr>\n",
       "      <th>0</th>\n",
       "      <td>73</td>\n",
       "      <td>10107</td>\n",
       "      <td>1328054400000000000</td>\n",
       "      <td>511210.0</td>\n",
       "      <td>29.890</td>\n",
       "      <td>31.87</td>\n",
       "      <td>31.740</td>\n",
       "      <td>9870347.0</td>\n",
       "      <td>31.73</td>\n",
       "      <td>31.74</td>\n",
       "      <td>...</td>\n",
       "      <td>1.556</td>\n",
       "      <td>0.130</td>\n",
       "      <td>0.027</td>\n",
       "      <td>0.0</td>\n",
       "      <td>0.053</td>\n",
       "      <td>4.085</td>\n",
       "      <td>0.783</td>\n",
       "      <td>0.0252</td>\n",
       "      <td>-20.961</td>\n",
       "      <td>1.367</td>\n",
       "    </tr>\n",
       "    <tr>\n",
       "      <th>1</th>\n",
       "      <td>74</td>\n",
       "      <td>10107</td>\n",
       "      <td>1330560000000000000</td>\n",
       "      <td>511210.0</td>\n",
       "      <td>31.555</td>\n",
       "      <td>32.85</td>\n",
       "      <td>32.255</td>\n",
       "      <td>9445449.0</td>\n",
       "      <td>32.24</td>\n",
       "      <td>32.25</td>\n",
       "      <td>...</td>\n",
       "      <td>1.556</td>\n",
       "      <td>0.130</td>\n",
       "      <td>0.027</td>\n",
       "      <td>0.0</td>\n",
       "      <td>0.053</td>\n",
       "      <td>4.155</td>\n",
       "      <td>0.796</td>\n",
       "      <td>0.0248</td>\n",
       "      <td>-21.784</td>\n",
       "      <td>1.468</td>\n",
       "    </tr>\n",
       "    <tr>\n",
       "      <th>2</th>\n",
       "      <td>76</td>\n",
       "      <td>10107</td>\n",
       "      <td>1335830400000000000</td>\n",
       "      <td>511210.0</td>\n",
       "      <td>29.060</td>\n",
       "      <td>32.01</td>\n",
       "      <td>29.190</td>\n",
       "      <td>10123951.0</td>\n",
       "      <td>29.19</td>\n",
       "      <td>29.20</td>\n",
       "      <td>...</td>\n",
       "      <td>1.508</td>\n",
       "      <td>0.132</td>\n",
       "      <td>0.027</td>\n",
       "      <td>0.0</td>\n",
       "      <td>0.060</td>\n",
       "      <td>3.497</td>\n",
       "      <td>0.636</td>\n",
       "      <td>0.0274</td>\n",
       "      <td>9.552</td>\n",
       "      <td>1.347</td>\n",
       "    </tr>\n",
       "    <tr>\n",
       "      <th>3</th>\n",
       "      <td>77</td>\n",
       "      <td>10107</td>\n",
       "      <td>1338508800000000000</td>\n",
       "      <td>511210.0</td>\n",
       "      <td>28.450</td>\n",
       "      <td>30.93</td>\n",
       "      <td>30.590</td>\n",
       "      <td>9679085.0</td>\n",
       "      <td>30.58</td>\n",
       "      <td>30.59</td>\n",
       "      <td>...</td>\n",
       "      <td>1.508</td>\n",
       "      <td>0.132</td>\n",
       "      <td>0.027</td>\n",
       "      <td>0.0</td>\n",
       "      <td>0.060</td>\n",
       "      <td>3.656</td>\n",
       "      <td>0.667</td>\n",
       "      <td>0.0262</td>\n",
       "      <td>-30.032</td>\n",
       "      <td>1.089</td>\n",
       "    </tr>\n",
       "    <tr>\n",
       "      <th>4</th>\n",
       "      <td>79</td>\n",
       "      <td>10107</td>\n",
       "      <td>1343779200000000000</td>\n",
       "      <td>511210.0</td>\n",
       "      <td>29.190</td>\n",
       "      <td>30.90</td>\n",
       "      <td>30.820</td>\n",
       "      <td>6689457.0</td>\n",
       "      <td>30.81</td>\n",
       "      <td>30.82</td>\n",
       "      <td>...</td>\n",
       "      <td>1.407</td>\n",
       "      <td>0.133</td>\n",
       "      <td>0.022</td>\n",
       "      <td>0.0</td>\n",
       "      <td>0.127</td>\n",
       "      <td>3.785</td>\n",
       "      <td>1.441</td>\n",
       "      <td>0.0260</td>\n",
       "      <td>1.451</td>\n",
       "      <td>1.767</td>\n",
       "    </tr>\n",
       "  </tbody>\n",
       "</table>\n",
       "<p>5 rows × 93 columns</p>\n",
       "</div>"
      ],
      "text/plain": [
       "   Unnamed: 0  PERMNO                 DATE     NAICS   BIDLO  ASKHI     PRC  \\\n",
       "0          73   10107  1328054400000000000  511210.0  29.890  31.87  31.740   \n",
       "1          74   10107  1330560000000000000  511210.0  31.555  32.85  32.255   \n",
       "2          76   10107  1335830400000000000  511210.0  29.060  32.01  29.190   \n",
       "3          77   10107  1338508800000000000  511210.0  28.450  30.93  30.590   \n",
       "4          79   10107  1343779200000000000  511210.0  29.190  30.90  30.820   \n",
       "\n",
       "          VOL    BID    ASK       ...        sale_nwc  rd_sale  adv_sale  \\\n",
       "0   9870347.0  31.73  31.74       ...           1.556    0.130     0.027   \n",
       "1   9445449.0  32.24  32.25       ...           1.556    0.130     0.027   \n",
       "2  10123951.0  29.19  29.20       ...           1.508    0.132     0.027   \n",
       "3   9679085.0  30.58  30.59       ...           1.508    0.132     0.027   \n",
       "4   6689457.0  30.81  30.82       ...           1.407    0.133     0.022   \n",
       "\n",
       "   staff_sale  accrual    ptb  PEG_trailing  divyield  PEG_1yrforward  \\\n",
       "0         0.0    0.053  4.085         0.783    0.0252         -20.961   \n",
       "1         0.0    0.053  4.155         0.796    0.0248         -21.784   \n",
       "2         0.0    0.060  3.497         0.636    0.0274           9.552   \n",
       "3         0.0    0.060  3.656         0.667    0.0262         -30.032   \n",
       "4         0.0    0.127  3.785         1.441    0.0260           1.451   \n",
       "\n",
       "   PEG_ltgforward  \n",
       "0           1.367  \n",
       "1           1.468  \n",
       "2           1.347  \n",
       "3           1.089  \n",
       "4           1.767  \n",
       "\n",
       "[5 rows x 93 columns]"
      ]
     },
     "metadata": {},
     "output_type": "display_data"
    }
   ],
   "source": [
    "# Extract labels of features\n",
    "labels_of_features_2 = dropnan_dataset.columns[:-1]\n",
    "type(labels_of_features_2)\n",
    "\n",
    "# X2 is the feature matrix\n",
    "X2 = dropnan_dataset.iloc[:, :-1]\n",
    "\n",
    "display(X2.head())"
   ]
  },
  {
   "cell_type": "code",
   "execution_count": 18,
   "metadata": {},
   "outputs": [
    {
     "data": {
      "text/plain": [
       "0    1.0\n",
       "1    0.0\n",
       "2    1.0\n",
       "3    0.0\n",
       "4    0.0\n",
       "Name: NEXT_DAY_PREDICTION, dtype: float64"
      ]
     },
     "metadata": {},
     "output_type": "display_data"
    }
   ],
   "source": [
    "# y2 is the response vector\n",
    "y2 = dropnan_dataset.iloc[:, -1]\n",
    "display(y2.head())"
   ]
  },
  {
   "cell_type": "markdown",
   "metadata": {},
   "source": [
    "### Train - / Test - Split"
   ]
  },
  {
   "cell_type": "code",
   "execution_count": 19,
   "metadata": {},
   "outputs": [],
   "source": [
    "# Do the train - test- split\n",
    "X2_train, X2_test, y2_train, y2_test = train_test_split(X2, y2, test_size = 0.2, random_state = 0, stratify = y2)\n"
   ]
  },
  {
   "cell_type": "code",
   "execution_count": 20,
   "metadata": {},
   "outputs": [
    {
     "data": {
      "text/plain": [
       "0.5725524475524476"
      ]
     },
     "metadata": {},
     "output_type": "display_data"
    },
    {
     "data": {
      "text/plain": [
       "0.5734265734265734"
      ]
     },
     "metadata": {},
     "output_type": "display_data"
    }
   ],
   "source": [
    "# Check if there is the approximately same percentage of '1' i both training and test response vector\n",
    "display(y2_train.sum() / y2_train.size)\n",
    "display(y2_test.sum() / y2_test.size)\n"
   ]
  },
  {
   "cell_type": "markdown",
   "metadata": {},
   "source": [
    "### Standardize Variables"
   ]
  },
  {
   "cell_type": "code",
   "execution_count": 21,
   "metadata": {},
   "outputs": [],
   "source": [
    "# Standardization with sklearn StandardScaler\n",
    "standard_scaler_2 = preprocessing.StandardScaler().fit(X2_train)\n",
    "X2_train = standard_scaler_2.transform(X2_train)\n",
    "X2_test = standard_scaler_2.transform(X2_test)\n"
   ]
  },
  {
   "cell_type": "markdown",
   "metadata": {},
   "source": [
    "###   \n",
    "## Feature Extraction \n",
    "## for Version 2: Dataset with rows dropped where Nan\n",
    "###   "
   ]
  },
  {
   "cell_type": "markdown",
   "metadata": {},
   "source": [
    "### Run PCA on whole Training Set for all possible PCAs (= number of columns)"
   ]
  },
  {
   "cell_type": "code",
   "execution_count": 22,
   "metadata": {},
   "outputs": [
    {
     "name": "stdout",
     "output_type": "stream",
     "text": [
      "\n",
      "Explained Variance, first 10 rows: \n",
      "[0.21706937 0.10834824 0.09389473 0.06581307 0.06190083 0.05694969\n",
      " 0.05041091 0.04141501 0.03428958 0.02498159]\n",
      "\n",
      "Explained Variance in Total = 1.0000000000000002\n",
      "\n",
      "Cumulative explained Variance, first 10 rows: \n",
      "[0.21706937 0.32541762 0.41931235 0.48512542 0.54702625 0.60397595\n",
      " 0.65438686 0.69580187 0.73009144 0.75507304]\n",
      "\n",
      "Maximal number (q_2) of PCs is: 93\n"
     ]
    }
   ],
   "source": [
    "# Run PCA for all possible PCAs\n",
    "pca_2 = PCA().fit(X2_train)\n",
    "\n",
    "# Define maximal number of principal components => the \"1\" in shape[1] refers to columns (\"0\" would be rows)\n",
    "q_2 = X2_train.shape[1]\n",
    "\n",
    "# Get the amount of variance that each PC explains\n",
    "expl_var_2 = pca_2.explained_variance_ratio_\n",
    "\n",
    "# Get cumulative sum of the PCA 1-q\n",
    "sum_expl_var_2 = np.cumsum(expl_var_2)[:q_2]\n",
    "\n",
    "\n",
    "print(\"\")\n",
    "print('Explained Variance, first 10 rows: ')\n",
    "print(expl_var_2[0:10])\n",
    "print(\"\")\n",
    "print('Explained Variance in Total = ' + str(expl_var_2.sum()))\n",
    "print(\"\")\n",
    "print('Cumulative explained Variance, first 10 rows: ')\n",
    "print(sum_expl_var_2[0:10])\n",
    "print(\"\")\n",
    "print('Maximal number (q_2) of PCs is: ' + str(q_2))"
   ]
  },
  {
   "cell_type": "code",
   "execution_count": 23,
   "metadata": {},
   "outputs": [
    {
     "data": {
      "text/plain": [
       "Text(0,0.5,'Ratio of Cum. explained Variance')"
      ]
     },
     "execution_count": 23,
     "metadata": {},
     "output_type": "execute_result"
    },
    {
     "data": {
      "image/png": "[encoded data removed]",
      "text/plain": [
       "<matplotlib.figure.Figure at 0x7f1a5172d860>"
      ]
     },
     "metadata": {},
     "output_type": "display_data"
    }
   ],
   "source": [
    "# Plot curve with cumulative sum\n",
    "plt.plot(sum_expl_var_2)\n",
    "plt.title('Cumulative explained Variance')\n",
    "plt.xlabel('Number of Components')\n",
    "plt.ylabel('Ratio of Cum. explained Variance')\n"
   ]
  },
  {
   "cell_type": "code",
   "execution_count": 24,
   "metadata": {},
   "outputs": [
    {
     "data": {
      "text/plain": [
       "([<matplotlib.axis.XTick at 0x7f1a536d7c50>,\n",
       "  <matplotlib.axis.XTick at 0x7f1a536dee48>,\n",
       "  <matplotlib.axis.XTick at 0x7f1a53688748>],\n",
       " <a list of 3 Text xticklabel objects>)"
      ]
     },
     "execution_count": 24,
     "metadata": {},
     "output_type": "execute_result"
    },
    {
     "data": {
      "image/png": "[encoded data removed]",
      "text/plain": [
       "<matplotlib.figure.Figure at 0x7f1a536a5240>"
      ]
     },
     "metadata": {},
     "output_type": "display_data"
    }
   ],
   "source": [
    "# Plot curve with explained variance\n",
    "plt.plot(expl_var_1)\n",
    "plt.title('Explained Variance by single components')\n",
    "plt.xlabel('Number of Components')\n",
    "plt.ylabel('Ratio of Variance explained')\n",
    "plt.xticks(range(-1, q_1 + 1, 5))"
   ]
  },
  {
   "cell_type": "code",
   "execution_count": 25,
   "metadata": {},
   "outputs": [
    {
     "data": {
      "text/plain": [
       "1144"
      ]
     },
     "execution_count": 25,
     "metadata": {},
     "output_type": "execute_result"
    }
   ],
   "source": [
    "# Extract q_1 number of features according to pca analysis\n",
    "# WEBSITE => https://www.analyticsvidhya.com/blog/2016/03/practical-guide-principal-component-analysis-python/\n",
    "X2_train_extracted = pca_2.fit_transform(X2_train)\n",
    "\n",
    "len(X2_train_extracted)"
   ]
  },
  {
   "cell_type": "code",
   "execution_count": 26,
   "metadata": {},
   "outputs": [
    {
     "data": {
      "image/png": "[encoded data removed]",
      "text/plain": [
       "<matplotlib.figure.Figure at 0x7f1a53688710>"
      ]
     },
     "metadata": {},
     "output_type": "display_data"
    }
   ],
   "source": [
    "# Plot Feature Importances (both cumulative and idividual)\n",
    "plt.figure(figsize = (12, 6))\n",
    "plt.plot(expl_var_2) #range(0, q_2 + 1), align = 'center')\n",
    "plt.xticks(range(0, q_2 + 1, 1))\n",
    "plt.xlim([0, 30])\n",
    "plt.xlabel('Principal Components Version 2')\n",
    "plt.ylabel('Explained Variance Ratio')\n",
    "plt.step(range(1, q_2 + 1), sum_expl_var_2, where = 'mid')\n",
    "\n",
    "plt.tight_layout();\n",
    "\n",
    "########  =>>> plt.bar(range(0, q_2), expl_var_2, alogn = 'center') gives ERROR MESSAGE."
   ]
  },
  {
   "cell_type": "markdown",
   "metadata": {},
   "source": [
    "### Choose number of Principal Components  and get them for further use"
   ]
  },
  {
   "cell_type": "code",
   "execution_count": 27,
   "metadata": {},
   "outputs": [
    {
     "name": "stdout",
     "output_type": "stream",
     "text": [
      "\n",
      "Explained Variance, first 10 rows: \n",
      "[0.21706937 0.10834824 0.09389473 0.06581307 0.06190083 0.05694969\n",
      " 0.05041091 0.04141501 0.03428958 0.02498155]\n",
      "\n",
      "Explained Variance in Total = 0.848461881726987\n",
      "\n",
      "Cumulative explained Variance, first 10 rows: \n",
      "[0.21706937 0.32541762 0.41931235 0.48512542 0.54702625 0.60397595\n",
      " 0.65438686 0.69580186 0.73009144 0.75507299]\n",
      "\n"
     ]
    }
   ],
   "source": [
    "# Define number of principal components we wish to extract\n",
    "q_2 = 15\n",
    "\n",
    "# Create PCA object\n",
    "pca_2 = PCA(n_components = q_2)\n",
    "\n",
    "# Fit PCA object to find first principal components\n",
    "pca_2.fit(X2_train)\n",
    "\n",
    "pca_2\n",
    "\n",
    "# Get the amount of variance that each PC explains\n",
    "# The eigenvalues represent the variance in the direction of the eigenvector\n",
    "# These numbers for each component are proportional to the Eigenvalues \n",
    "# This means that the ratio of the eigenvalue of the first principal component \n",
    "# to the eigenvalue of the second principal component is 0.16214649\n",
    "# SEE => https://stackoverflow.com/questions/37757172/finding-and-utilizing-eigenvalues-and-eigenvectors-from-pca-in-scikit-learn?rpca.q=1\n",
    "expl_var_2 = pca_2.explained_variance_ratio_\n",
    "\n",
    "# Get cumulative sum of the PCA 1-q_2\n",
    "sum_expl_var_2 = np.cumsum(expl_var_2)[:q_2]\n",
    "\n",
    "# because we run PCA for only q_2 components, sum of al explained Variance of the training set should be LESS than 1\n",
    "\n",
    "print(\"\")\n",
    "print('Explained Variance, first 10 rows: ')\n",
    "print(expl_var_2[0:10])\n",
    "print(\"\")\n",
    "print('Explained Variance in Total = ' + str(expl_var_2.sum()))\n",
    "print(\"\")\n",
    "print('Cumulative explained Variance, first 10 rows: ')\n",
    "print(sum_expl_var_2[0:10])\n",
    "print(\"\")"
   ]
  },
  {
   "cell_type": "markdown",
   "metadata": {},
   "source": [
    "### Extract q_2 number of features out of Training Set"
   ]
  },
  {
   "cell_type": "code",
   "execution_count": 28,
   "metadata": {},
   "outputs": [
    {
     "data": {
      "text/plain": [
       "array([[-10.254509  ,  -2.95849927,   2.21537498, ...,  -1.00640293,\n",
       "         -1.36490339,  -0.145899  ],\n",
       "       [ -0.93634257,  -5.79333345,  -2.31945344, ...,   0.88222393,\n",
       "          0.21511245,   0.74738875],\n",
       "       [  7.60996106,  -0.54309225,  -0.17030508, ...,   1.54202399,\n",
       "         -0.23448722,   0.15670464],\n",
       "       ...,\n",
       "       [ -2.27781704,  -1.43696758,   3.79231791, ...,   0.21382942,\n",
       "         -0.44943151,   1.04168889],\n",
       "       [  4.06552266,   2.683452  ,  -0.36246011, ...,  -0.65682263,\n",
       "          0.85415913,   0.14633698],\n",
       "       [ -6.63701627,  -0.63234267,   3.544298  , ...,  -0.61270952,\n",
       "         -0.86670566,   0.97814525]])"
      ]
     },
     "metadata": {},
     "output_type": "display_data"
    },
    {
     "data": {
      "text/plain": [
       "1144"
      ]
     },
     "execution_count": 28,
     "metadata": {},
     "output_type": "execute_result"
    }
   ],
   "source": [
    "# Extract q_2 number of features according to pca analysis\n",
    "# WEBSITE => https://www.analyticsvidhya.com/blog/2016/03/practical-guide-principal-component-analysis-python/\n",
    "X2_train_extracted = pca_2.fit_transform(X2_train)\n",
    "display(X2_train_extracted)\n",
    "len(X2_train_extracted)\n",
    "\n",
    "# This gives the Eigenvalues?"
   ]
  },
  {
   "cell_type": "markdown",
   "metadata": {},
   "source": [
    "## Transform new data (Test set) using the already fitted pca_2\n",
    "##    \n",
    "## (((NOT SURE IT ITS CORRECT)))\n",
    "##   "
   ]
  },
  {
   "cell_type": "code",
   "execution_count": 29,
   "metadata": {},
   "outputs": [],
   "source": [
    "# Use the fitted pca_1 on another dataset, lilke X_test to transform it\n",
    "X2_test_transformed = pca_2.transform(X2_test)\n"
   ]
  },
  {
   "cell_type": "markdown",
   "metadata": {},
   "source": [
    "#### PCA components\n",
    "\n",
    "### Dont know how to use this "
   ]
  },
  {
   "cell_type": "code",
   "execution_count": 30,
   "metadata": {},
   "outputs": [
    {
     "name": "stdout",
     "output_type": "stream",
     "text": [
      "[[-0.06857736 -0.06763221  0.02522969 ... -0.06945914 -0.00787033\n",
      "  -0.04264266]\n",
      " [ 0.07196869  0.02422862  0.11523395 ...  0.10375749  0.00113693\n",
      "   0.07833752]\n",
      " [-0.09288517 -0.10013465  0.08751868 ...  0.02504752  0.02877135\n",
      "  -0.00211094]\n",
      " ...\n",
      " [-0.12477416 -0.15082534 -0.03339231 ...  0.00855883 -0.14349697\n",
      "   0.1906719 ]\n",
      " [-0.01244268 -0.03297462 -0.09356515 ...  0.12476191  0.1307732\n",
      "   0.00071452]\n",
      " [ 0.0110054   0.06910985  0.19747007 ...  0.00631275 -0.20982801\n",
      "   0.06818013]]\n"
     ]
    }
   ],
   "source": [
    "# Print PCA components: every row is a principal component in the p-dimensional space\n",
    "# Principal axes in feature space, representing the directions of maximum variance in the data. \n",
    "# The components are sorted by explained_variance_ \n",
    "# SEE SKLEARN DOCUMENTATION\n",
    "\n",
    "print(pca_2.components_)"
   ]
  },
  {
   "cell_type": "markdown",
   "metadata": {},
   "source": [
    "## Pipelines and Other"
   ]
  },
  {
   "cell_type": "code",
   "execution_count": 31,
   "metadata": {},
   "outputs": [],
   "source": [
    "# https://stats.stackexchange.com/questions/144439/applying-pca-to-test-data-for-classification-purposes\n",
    "\n"
   ]
  }
 ],
 "metadata": {
  "kernelspec": {
   "display_name": "Python 3",
   "language": "python",
   "name": "python3"
  },
  "language_info": {
   "codemirror_mode": {
    "name": "ipython",
    "version": 3
   },
   "file_extension": ".py",
   "mimetype": "text/x-python",
   "name": "python",
   "nbconvert_exporter": "python",
   "pygments_lexer": "ipython3",
   "version": "3.6.4"
  }
 },
 "nbformat": 4,
 "nbformat_minor": 2
}
