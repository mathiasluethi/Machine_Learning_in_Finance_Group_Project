{
 "cells": [
  {
   "cell_type": "markdown",
   "metadata": {},
   "source": [
    "# Introduction to Machine Learning, UZH 2018, Group Project\n",
    "### Group 2: Barbara Capl, Mathias Lüthi, Pamela Matias, Stefanie Rentsch\n",
    "##       \n",
    "# 3. Support Vector Classifier (SVC)\n",
    "\n",
    "###   \n",
    "In this section we use the feature matrices and response vectors with features selected in chapter 2. \n"
   ]
  },
  {
   "cell_type": "code",
   "execution_count": 1,
   "metadata": {},
   "outputs": [],
   "source": [
    "# hide unnecessary warnings (\"depreciation\" of packages etc.)\n",
    "import warnings\n",
    "warnings.filterwarnings('ignore')\n",
    "\n",
    "# Load packages\n",
    "import numpy as np\n",
    "import pandas as pd\n",
    "import matplotlib.pyplot as plt\n",
    "import statsmodels.api as sm\n",
    "import statsmodels.formula.api as smf\n",
    "plt.style.use('seaborn-whitegrid')\n",
    "from sklearn.pipeline import Pipeline\n",
    "from sklearn.model_selection import GridSearchCV\n",
    "from sklearn.preprocessing import StandardScaler\n",
    "from sklearn import metrics\n",
    "from sklearn.svm import SVC\n",
    "from sklearn.linear_model import LogisticRegression\n",
    "from sklearn.model_selection import train_test_split"
   ]
  },
  {
   "cell_type": "markdown",
   "metadata": {},
   "source": [
    "## 3.0. SETTINGS"
   ]
  },
  {
   "cell_type": "markdown",
   "metadata": {},
   "source": [
    "### (1) Choose the Dataset Version you want\n",
    "\n",
    "##### Whole Feature Matrix (Features not pre-selected)\n",
    "VERSION = 1; Feature Matrix with only ratios                                  \n",
    "VERSION = 2;  Feature Matrix with ratios + saisonality + other market data\n",
    "\n",
    "##### Reduced Feature Matrix (Features pre-selected)\n",
    "VERSION = 1.1; Reduced Feature Matrix with only ratios                                  \n",
    "VERSION = 2.1;  Reduced Feature Matrix with ratios + saisonality + other market data\n",
    "\n"
   ]
  },
  {
   "cell_type": "code",
   "execution_count": 2,
   "metadata": {},
   "outputs": [],
   "source": [
    "### Chose which dataset version you want the selection of features and the prediction to be based on \n",
    "VERSION = 2\n",
    "\"\"\"\n",
    "INSERT NUMBER 1, 2, 1.1 or 2.1\n",
    "\"\"\"\n",
    "\n",
    "\n",
    "\n",
    "# Defining sel_state variable for easier printing out    \n",
    "if VERSION == 1:\n",
    "    sel_version = 'Based on whole original Dataset with only the Ratios Dataset as predicive Features.'\n",
    "elif VERSION == 2:\n",
    "    sel_version = 'Based on whole original Dataset with Ratios + Seasonality + other Market Data as predictive Features.'\n",
    "elif VERSION == 1.1:\n",
    "    sel_version = 'Based on reduced Dataset with only the Ratios Dataset as predicive Features.'\n",
    "elif VERSION == 2.1:\n",
    "    sel_version = 'Based on reduced Dataset with Ratios + Seasonality + other Market Data as predictive Features.'\n",
    "else: raise ValueError('VERSION must be either 1, 2, 1.1 or 2.1')"
   ]
  },
  {
   "cell_type": "markdown",
   "metadata": {},
   "source": [
    "### (2) If you chose VERSION 1.1. or VERSION 2.1:  (Reduced Feature Matrix)                                                                  \n",
    "### => Choose with which method you want to have the features been pre-selected /reduced\n",
    "\n",
    "##### You have the choice between:\n",
    "mySELECTION  = RF ; Features pre-selected with Random Forest Classifier                                                           \n",
    "mySELECTION = PCA; Features pre-selected with Principal Component Analysis (PCA)                                         \n",
    "\n",
    "##### By Default;\n",
    "If VERSION 1 or VERSION 2 was chosen above: SELECTION = none by Default; no features pre-selected. You don't need to define variable mySELECTION."
   ]
  },
  {
   "cell_type": "code",
   "execution_count": 3,
   "metadata": {},
   "outputs": [
    {
     "name": "stdout",
     "output_type": "stream",
     "text": [
      "You chose SELECTION method No Feature Selection Method available..\n"
     ]
    }
   ],
   "source": [
    "### Choose whether you want the datasets with features selected with RF or PCA or the original file\n",
    "mySELECTION = 'RF'\n",
    "\"\"\"\n",
    "INSERT WISHED METHOD 'RF', 'PCA'\n",
    "\"\"\"\n",
    "\n",
    "\n",
    "\n",
    "# This is the control loop. If something has been chosen wrong, it returns an error with explanation.\n",
    "if VERSION == 1 or VERSION == 2:\n",
    "    SELECTION = 'none'\n",
    "elif VERSION == 1.1 or VERSION == 2.1:\n",
    "    SELECTION = mySELECTION\n",
    "    if mySELECTION is not 'RF' and mySELECTION is not 'PCA':\n",
    "        raise ValueError('Because VERSION '+str(VERSION)+' is chosen, mySELECTION must be set as either RF or PCA.')\n",
    "else: raise ValueError('VERSION must be either 1, 2, 1.1 or 2.1. mySELECTION must be chosen as either RF or PCA.')\n",
    "\n",
    "# Defining of sel_feat (Selected Feature Selection Method) variable and briefing for later.   \n",
    "if SELECTION == 'RF':\n",
    "    sel_feat = 'Random Forest (RF)'\n",
    "    briefing = ('You chose dataset VERSION '+str(VERSION)+' and SELECTION method '+str(SELECTION)+'.'+'\\n'+'Features therefore pre-selected with '+str(sel_feat)+'.')\n",
    "elif SELECTION == 'PCA':\n",
    "    sel_feat = 'Principal Component Analysis (PCA)'\n",
    "    briefing = ('You chose dataset VERSION '+str(VERSION)+' and SELECTION method '+str(SELECTION)+'.'+'\\n'+'Features therefore pre-selected with '+str(sel_feat)+'.')\n",
    "elif SELECTION == 'none':\n",
    "    sel_feat = 'No Feature Selection Method available.'\n",
    "    briefing = ('You chose VERSION '+str(VERSION)+'. This Version has no Feature Selection Method because Feature Matrix is whole, not reduced.'+'\\n'+'SELECTION is therefore \"none\" by Default.')\n",
    "else: raise ValueError('mySELECTION must be chosen as either RF or PCA')\n",
    "print('You chose SELECTION method '+str(sel_feat)+'.')\n",
    "#print(sel_feat)"
   ]
  },
  {
   "cell_type": "markdown",
   "metadata": {},
   "source": [
    "### (3) SUMMARY OF SETTINGS"
   ]
  },
  {
   "cell_type": "code",
   "execution_count": 4,
   "metadata": {},
   "outputs": [
    {
     "name": "stdout",
     "output_type": "stream",
     "text": [
      "You chose VERSION 2. This Version has no Feature Selection Method because Feature Matrix is whole, not reduced.\n",
      "SELECTION is therefore \"none\" by Default. \n",
      "\n",
      "VERSION 2 is Based on whole original Dataset with Ratios + Seasonality + other Market Data as predictive Features. \n",
      "\n",
      "You are now done with the Settings. You can run the whole Code now by Default.\n"
     ]
    }
   ],
   "source": [
    "print(briefing, '\\n')\n",
    "print('VERSION '+str(VERSION)+' is '+str(sel_version),'\\n')\n",
    "print('You are now done with the Settings. You can run the whole Code now by Default.')"
   ]
  },
  {
   "cell_type": "markdown",
   "metadata": {},
   "source": [
    "## 3.1. Preparation"
   ]
  },
  {
   "cell_type": "markdown",
   "metadata": {},
   "source": [
    "### 3.1.1. Import the Response Vector and the Feature Matrix"
   ]
  },
  {
   "cell_type": "code",
   "execution_count": 5,
   "metadata": {},
   "outputs": [],
   "source": [
    "####################### NEW COMMENT\n",
    "# In version 1 und 2; ganze Feature matrix und ganzen Response vector rein? ODER gesplittet?\n",
    "# dann müsste in DataPrep split gemacht werden für datenset ohne feature pre-selection\n",
    "# abgespeichert in generated_splits ohne Unterordner\n",
    "# hier eingelesen als X_train und y_train und X_test und y_test\n",
    "#######################\n",
    "\n",
    "\n",
    "### import Data (already splitted to train/test-data and selected features-> bc_randomforest_feature_selection)\n",
    "if VERSION == 1: \n",
    "# features not pre-selected, only ratios\n",
    "    X = pd.read_csv('Data/generated_datasets/features_ratios_1.csv', sep=',', header=0)\n",
    "    y = pd.read_csv('Data/generated_datasets/response_1.csv', sep=',', header=0)\n",
    "elif VERSION == 2: \n",
    "# features not pre-selected, ratios + seasonality + market data\n",
    "    X = pd.read_csv('Data/generated_datasets/features_additional_1.csv', sep=',', header=0)\n",
    "    y = pd.read_csv('Data/generated_datasets/response_1.csv', sep=',', header=0)\n",
    "elif VERSION == 1.1: \n",
    "# features pre-selected, only ratios\n",
    "    if SELECTION == 'RF':\n",
    "        X_train_s = pd.read_csv('Data/generated_splits/features_selected_randomforest/X1_train_f.csv', sep=',', header=0)\n",
    "        X_test_s = pd.read_csv('Data/generated_splits/features_selected_randomforest/X1_test_f.csv', sep=',', header=0)\n",
    "        y_train_s = pd.read_csv('Data/generated_splits/features_selected_randomforest/y1_train_f.csv', sep=',', header=0)\n",
    "        y_test_s = pd.read_csv('Data/generated_splits/features_selected_randomforest/y1_test_f.csv', sep=',', header=0)\n",
    "    elif SELECTION == 'PCA':\n",
    "        X_train_s = pd.read_csv('Data/generated_splits/features_selected_pca/X1_train_p.csv', sep=',', header=0)\n",
    "        X_test_s = pd.read_csv('Data/generated_splits/features_selected_pca/X1_test_p.csv', sep=',', header=0)\n",
    "        y_train_s = pd.read_csv('Data/generated_splits/features_selected_pca/y1_train_p.csv', sep=',', header=0)\n",
    "        y_test_s = pd.read_csv('Data/generated_splits/features_selected_pca/y1_test_p.csv', sep=',', header=0)\n",
    "elif VERSION == 2.1: \n",
    "# features pre-selected, ratios + seasonality + market data\n",
    "    if SELECTION == 'RF':\n",
    "        X_train_s = pd.read_csv('Data/generated_splits/features_selected_randomforest/X2_train_f.csv', sep=',', header=0)\n",
    "        X_test_s = pd.read_csv('Data/generated_splits/features_selected_randomforest/X2_test_f.csv', sep=',', header=0)\n",
    "        y_train_s = pd.read_csv('Data/generated_splits/features_selected_randomforest/y2_train_f.csv', sep=',', header=0)\n",
    "        y_test_s = pd.read_csv('Data/generated_splits/features_selected_randomforest/y2_test_f.csv', sep=',', header=0)\n",
    "    elif SELECTION == 'PCA':\n",
    "        X_train_s = pd.read_csv('Data/generated_splits/features_selected_pca/X2_train_p.csv', sep=',', header=0)\n",
    "        X_test_s = pd.read_csv('Data/generated_splits/features_selected_pca/X2_test_p.csv', sep=',', header=0)\n",
    "        y_train_s = pd.read_csv('Data/generated_splits/features_selected_pca/y2_train_p.csv', sep=',', header=0)\n",
    "        y_test_s = pd.read_csv('Data/generated_splits/features_selected_pca/y2_test_p.csv', sep=',', header=0)\n",
    "else: raise ValueError('VERSION value must be either 1, 2, 1.1 or 2.1, mySELECTION must be chosen as either RF or PCA.')   "
   ]
  },
  {
   "cell_type": "markdown",
   "metadata": {},
   "source": [
    "#### Train-Test-split for whole original files. Automatically executed only if VERSION = 1 or 2."
   ]
  },
  {
   "cell_type": "code",
   "execution_count": 7,
   "metadata": {},
   "outputs": [
    {
     "name": "stdout",
     "output_type": "stream",
     "text": [
      "Type of feature_labels = <class 'list'> \n",
      "\n"
     ]
    }
   ],
   "source": [
    "####################### NEW COMMENT\n",
    "# Split could also be already done in Datapreparation file because there we have more space etc.^ maybe\n",
    "# but it can also be made here doesnt matterrr\n",
    "#######################\n",
    "\n",
    "# For VERSION == 1 or 2 -> train-test-split for the importet sets must be done\n",
    "if VERSION == 1 or VERSION == 2:\n",
    "    # import package imputer\n",
    "    from sklearn.preprocessing import Imputer\n",
    "    # # Train/test split, into 20% test size and 80% train size because it is a relatively small dataset\n",
    "    X_train, X_test, y_train, y_test = train_test_split(X, y, test_size=0.2, random_state=0)\n",
    "\n",
    "    # Use a median fill for train\n",
    "    imp = Imputer(missing_values=np.nan, strategy = 'median' , axis=0)\n",
    "    imputed_dataset = pd.DataFrame(imp.fit_transform(X_train))\n",
    "    imputed_dataset.columns = X_train.columns\n",
    "    imputed_dataset.index = X_train.index\n",
    "    X_train = imputed_dataset\n",
    "\n",
    "    # Use a median fill for the test set\n",
    "    imputed_dataset = pd.DataFrame(imp.fit_transform(X_test))\n",
    "    imputed_dataset.columns = X_test.columns\n",
    "    imputed_dataset.index = X_test.index\n",
    "    X_test = imputed_dataset\n",
    "\n",
    "    from sklearn.preprocessing import StandardScaler\n",
    "\n",
    "    # Create StandardScaler object\n",
    "    sc = StandardScaler()\n",
    "    # Standardize features; equal results as if done in two\n",
    "    X_train = sc.fit_transform(X_train)\n",
    "    # Transform test set\n",
    "    X_test = sc.transform(X_test)\n",
    "    # Extract the feature labels\n",
    "    feature_labels = list(X)\n",
    "    print('Type of feature_labels = ' + str(type(feature_labels)), '\\n')\n",
    "\n",
    "else: print('No Train/Test split, no Imputing, no Standardization needed for chosen VERSION '+str(VERSION)+\n",
    "            '. '+'\\n'+'Loaded Datasets were already pre-splitted and imputed in Feature Selection (Chapter 2).')"
   ]
  },
  {
   "cell_type": "markdown",
   "metadata": {},
   "source": [
    "### 3.1.2. Print out Shape and Form of Feature Matrix and Response Vector"
   ]
  },
  {
   "cell_type": "markdown",
   "metadata": {},
   "source": [
    "### Train Set"
   ]
  },
  {
   "cell_type": "code",
   "execution_count": 8,
   "metadata": {},
   "outputs": [
    {
     "name": "stdout",
     "output_type": "stream",
     "text": [
      "Features Selected with No Feature Selection Method available..\n",
      "Version 2; Based on whole original Dataset with Ratios + Seasonality + other Market Data as predictive Features. \n",
      "\n",
      "Shape (rows, columns) of Feature Matrix X (Train) = (2836, 181)\n",
      "\n",
      "Feature Matrix X (Train) with no Feature pre-Selection:\n"
     ]
    },
    {
     "data": {
      "text/plain": [
       "array([[-1.87812057e-02,  1.21605547e+00, -6.71474133e-01,\n",
       "        -6.76218700e-01, -6.63754158e-01,  2.04574269e-01,\n",
       "         2.07933331e-01, -6.63455289e-01, -6.63541225e-01,\n",
       "         1.41176053e+00, -2.97856791e-01, -2.96856332e-01,\n",
       "        -6.63754158e-01,  2.81006837e-01,  1.22248594e+00,\n",
       "         2.38055330e-01,  7.53839454e-01,  7.49793910e-01,\n",
       "         5.43443238e-01,  5.48570118e-01,  7.55928513e-01,\n",
       "         2.76508951e-02,  5.67382933e-01, -8.05319486e-02,\n",
       "         1.23634084e-02, -4.04993347e-03,  1.17909817e-01,\n",
       "         1.56047361e-01,  1.07519673e+00, -8.67226163e-02,\n",
       "         3.55257520e-01,  9.59162541e-01,  1.27935349e+00,\n",
       "         8.44437880e-01,  1.71517070e+00,  7.87996186e-01,\n",
       "         1.26445442e+00, -5.32257587e-01, -8.39995110e-01,\n",
       "        -7.01856534e-01,  4.68159736e-02, -4.13132102e-01,\n",
       "        -7.64817619e-01, -4.12965966e-01,  1.71937712e-02,\n",
       "        -2.75053301e-01, -4.31463325e-01,  2.10523283e-01,\n",
       "        -1.35659866e-01, -2.65681957e-01, -1.62992659e-01,\n",
       "        -6.02289987e-02, -5.84559430e-02,  6.96040440e-02,\n",
       "        -5.01927575e-01, -7.97046738e-01, -4.69344316e-02,\n",
       "        -2.26813416e-01, -3.65415828e-01, -1.73209121e+00,\n",
       "         3.85029028e-01,  1.55520745e-01,  3.50811941e-01,\n",
       "        -3.83649217e-01,  1.04123685e+00, -1.72102798e-01,\n",
       "        -2.73155226e-01, -1.96164488e-01, -4.44910418e-01,\n",
       "        -3.06496589e-01, -1.33538975e-01, -1.09024088e-01,\n",
       "         1.43398511e+00,  1.54473512e+00,  1.54708520e+00,\n",
       "         4.13390861e-02, -5.20231671e-01, -9.66061383e-01,\n",
       "        -3.68771307e-01, -7.54664917e-01, -8.82857981e-01,\n",
       "        -5.59059383e-01, -6.25791421e-02,  1.52934557e+00,\n",
       "         9.05310864e-01, -5.77361017e-01,  2.11873802e-01,\n",
       "        -6.56788238e-01, -1.58990706e-01,  7.49904538e-01,\n",
       "         2.14150047e+00,  1.10917188e+00, -2.87128452e-01,\n",
       "        -3.04055789e-01, -2.97784526e-01, -3.04747282e-01,\n",
       "        -3.00582543e-01, -3.01975030e-01, -3.02669671e-01,\n",
       "         3.25928686e+00, -3.03363255e-01, -3.04055789e-01,\n",
       "        -3.01975030e-01, -3.02669671e-01, -1.83105698e-01,\n",
       "        -1.13389342e-01, -1.54359045e-01, -2.63403870e-01,\n",
       "        -1.86168965e-01,  2.99180166e+00, -6.51865921e-02,\n",
       "        -1.33965956e-01, -8.63714972e-02, -1.68170637e-01,\n",
       "        -8.42749828e-02, -1.68170637e-01, -2.51728185e-01,\n",
       "        -8.21265118e-02, -2.65653214e-02, -1.69275912e-01,\n",
       "        -1.92168421e-01, -7.53243577e-02, -1.90186724e-01,\n",
       "        -1.62544017e-01, -1.79997169e-01, -1.22605921e-01,\n",
       "        -7.76563408e-02, -1.61397658e-01, -1.88187101e-01,\n",
       "        -1.88187101e-01, -8.21265118e-02, -1.68170637e-01,\n",
       "        -7.76563408e-02, -1.88187101e-01, -1.26977373e-01,\n",
       "        -1.16538103e-01, -1.55552116e-01, -8.42749828e-02,\n",
       "        -8.21265118e-02, -1.87180385e-01, -1.85152765e-01,\n",
       "        -3.25414829e-02, -7.99218923e-02, -1.41929154e-01,\n",
       "        -1.68170637e-01, -1.50728487e-01, -1.18082644e-01,\n",
       "         4.07576276e-01, -4.07576276e-01,  0.00000000e+00,\n",
       "         0.00000000e+00, -1.86168965e-01, -1.97047808e-01,\n",
       "        -1.90186724e-01, -1.89189189e-01, -1.82074666e-01,\n",
       "        -1.91179778e-01, -1.83105698e-01, -1.88187101e-01,\n",
       "        -1.86168965e-01, -1.84131703e-01, -1.85152765e-01,\n",
       "        -1.76840966e-01, -1.79997169e-01, -1.92168421e-01,\n",
       "        -1.71467457e-01, -1.88187101e-01, -1.92168421e-01,\n",
       "        -1.93152721e-01, -1.89189189e-01, -1.88187101e-01,\n",
       "        -1.93152721e-01,  5.34244014e+00, -1.83105698e-01,\n",
       "        -1.82074666e-01, -1.85152765e-01, -1.85152765e-01,\n",
       "        -1.87180385e-01, -1.86168965e-01, -1.55552116e-01,\n",
       "        -1.88187101e-01],\n",
       "       [-1.87812057e-02,  8.51399562e-01, -6.02895815e-01,\n",
       "        -5.99412692e-01, -6.20282285e-01, -5.76698507e-01,\n",
       "        -9.51203145e-01, -6.20287574e-01, -6.20384262e-01,\n",
       "        -6.09795117e-01, -2.97856791e-01, -2.96856332e-01,\n",
       "        -6.20282285e-01,  2.81006837e-01,  8.65167856e-01,\n",
       "        -1.05362769e+00, -4.68293080e-01, -4.72658662e-01,\n",
       "        -3.56475039e-01, -3.72289113e-01, -4.54137887e-01,\n",
       "         2.30534727e-01,  2.16202172e-01, -3.45398209e-01,\n",
       "         1.52634610e-01,  1.00170438e-01,  9.71876908e-01,\n",
       "         1.01247133e+00, -1.02269414e+00, -2.20211300e-01,\n",
       "         3.35580831e+00, -1.44512760e+00, -1.10283356e+00,\n",
       "        -1.16318083e+00, -1.27522836e+00, -1.45765584e+00,\n",
       "        -1.20411520e+00, -8.57626440e-01, -1.07517848e+00,\n",
       "        -1.01105706e+00,  6.57836688e-01, -7.06433533e-01,\n",
       "        -1.06520993e+00, -6.84907038e-01, -1.64406163e-01,\n",
       "        -1.36025664e+00, -8.71586725e-01, -9.64245435e-01,\n",
       "         5.69311105e-01,  3.83212380e-02,  5.80871071e-01,\n",
       "        -5.81321204e-02, -5.61911275e-02, -6.90531144e-01,\n",
       "         8.98920716e-01,  1.01944136e+00,  4.71160026e-01,\n",
       "         4.49555089e-02, -8.52665246e-01, -1.50015854e+00,\n",
       "         9.70887380e-01, -6.96456787e-01, -8.07640359e-01,\n",
       "        -8.58166069e-01, -1.18545886e+00, -3.32754418e-01,\n",
       "         1.02660463e-01,  3.84118409e-01,  3.41432054e-01,\n",
       "        -1.52737884e-01, -1.61327043e-01, -1.26280062e-01,\n",
       "        -6.14542809e-01, -1.02098715e-01,  5.38546147e-01,\n",
       "        -1.97714116e-01, -3.66938909e-01,  3.26572298e-02,\n",
       "        -3.35139802e-01,  7.67515616e-01, -9.12310093e-02,\n",
       "         1.29122704e-02, -5.48465810e-02, -2.09571708e-01,\n",
       "        -7.52554396e-01, -5.77361017e-01,  1.85693065e-01,\n",
       "        -5.11647435e-01, -2.48833630e-01,  1.09181993e+00,\n",
       "         1.59481805e-01,  1.03886079e+00, -2.87128452e-01,\n",
       "        -3.04055789e-01, -2.97784526e-01, -3.04747282e-01,\n",
       "        -3.00582543e-01,  3.31153208e+00, -3.02669671e-01,\n",
       "        -3.06815584e-01, -3.03363255e-01, -3.04055789e-01,\n",
       "        -3.01975030e-01, -3.02669671e-01, -1.83105698e-01,\n",
       "        -1.13389342e-01, -1.54359045e-01, -2.63403870e-01,\n",
       "         5.37146457e+00, -3.34246756e-01, -6.51865921e-02,\n",
       "        -1.33965956e-01, -8.63714972e-02, -1.68170637e-01,\n",
       "        -8.42749828e-02, -1.68170637e-01, -2.51728185e-01,\n",
       "        -8.21265118e-02, -2.65653214e-02, -1.69275912e-01,\n",
       "        -1.92168421e-01, -7.53243577e-02, -1.90186724e-01,\n",
       "        -1.62544017e-01, -1.79997169e-01, -1.22605921e-01,\n",
       "        -7.76563408e-02, -1.61397658e-01, -1.88187101e-01,\n",
       "        -1.88187101e-01, -8.21265118e-02, -1.68170637e-01,\n",
       "        -7.76563408e-02, -1.88187101e-01, -1.26977373e-01,\n",
       "        -1.16538103e-01, -1.55552116e-01, -8.42749828e-02,\n",
       "        -8.21265118e-02, -1.87180385e-01, -1.85152765e-01,\n",
       "        -3.25414829e-02, -7.99218923e-02, -1.41929154e-01,\n",
       "        -1.68170637e-01, -1.50728487e-01, -1.18082644e-01,\n",
       "         4.07576276e-01, -4.07576276e-01,  0.00000000e+00,\n",
       "         0.00000000e+00, -1.86168965e-01, -1.97047808e-01,\n",
       "        -1.90186724e-01, -1.89189189e-01, -1.82074666e-01,\n",
       "        -1.91179778e-01, -1.83105698e-01, -1.88187101e-01,\n",
       "         5.37146457e+00, -1.84131703e-01, -1.85152765e-01,\n",
       "        -1.76840966e-01, -1.79997169e-01, -1.92168421e-01,\n",
       "        -1.71467457e-01, -1.88187101e-01, -1.92168421e-01,\n",
       "        -1.93152721e-01, -1.89189189e-01, -1.88187101e-01,\n",
       "        -1.93152721e-01, -1.87180385e-01, -1.83105698e-01,\n",
       "        -1.82074666e-01, -1.85152765e-01, -1.85152765e-01,\n",
       "        -1.87180385e-01, -1.86168965e-01, -1.55552116e-01,\n",
       "        -1.88187101e-01],\n",
       "       [-1.87812057e-02,  1.19463877e+00, -2.35262897e-01,\n",
       "        -2.44557025e-01, -2.34821253e-01, -6.36406178e-02,\n",
       "         2.41204445e-01, -2.34437014e-01, -2.34629816e-01,\n",
       "         4.05552337e-01, -2.97856791e-01, -2.96856332e-01,\n",
       "        -2.34821253e-01,  2.81006837e-01,  1.20143426e+00,\n",
       "         2.71326559e-01,  8.86332120e-01,  8.77133641e-01,\n",
       "         7.46897326e-01,  7.51503312e-01,  8.81453310e-01,\n",
       "        -3.68903323e-01,  2.05377592e+00,  2.66181397e-01,\n",
       "        -4.99646691e-01, -4.06642636e-01, -1.05254322e-01,\n",
       "        -6.77588253e-02, -8.65085980e-02, -8.20910375e-01,\n",
       "        -1.97679030e-01,  4.73049233e-01,  2.41700051e+00,\n",
       "         2.59699028e+00,  2.00862108e+00,  5.62450349e-01,\n",
       "         2.42312310e-01, -1.71322602e+00, -9.13909884e-01,\n",
       "        -1.27608608e+00,  3.66426809e-01, -5.81243898e-01,\n",
       "        -1.65598149e+00, -5.84718222e-01,  4.16023645e-02,\n",
       "        -1.26275424e-01, -1.54535588e+00, -9.55943182e-01,\n",
       "         9.95775026e-01,  1.45911395e+00,  9.44252778e-01,\n",
       "        -5.96418727e-02, -5.81204148e-02, -1.51265426e-01,\n",
       "        -2.64860941e-01, -1.94002107e-01, -2.70685596e-03,\n",
       "         1.18332734e+00,  1.60000598e+00, -6.50751664e-02,\n",
       "        -9.55935643e-01, -1.43906141e-01, -1.63774092e-01,\n",
       "        -1.03373730e+00,  1.34961834e+00,  4.23070564e+00,\n",
       "         2.50459323e-01,  1.70821847e+00,  1.82040779e+00,\n",
       "         1.40211916e+00, -1.24263608e-01, -1.02693794e-01,\n",
       "        -3.36402164e-01, -2.21478863e-01, -2.81086988e-01,\n",
       "        -2.28444846e-01, -5.27126516e-01, -1.43683142e+00,\n",
       "        -6.05419270e-01, -1.40183730e+00, -1.09826050e+00,\n",
       "        -6.04756589e-01, -5.30700647e-02, -7.22966333e-01,\n",
       "        -6.65411851e-02,  2.48126663e+00, -4.99335713e-02,\n",
       "        -9.39006466e-01,  1.67981495e-01,  8.16153659e-02,\n",
       "        -2.65413338e-02,  1.08383771e-01, -2.87128452e-01,\n",
       "         3.28887012e+00, -2.97784526e-01, -3.04747282e-01,\n",
       "        -3.00582543e-01, -3.01975030e-01, -3.02669671e-01,\n",
       "        -3.06815584e-01, -3.03363255e-01, -3.04055789e-01,\n",
       "        -3.01975030e-01, -3.02669671e-01, -1.83105698e-01,\n",
       "        -1.13389342e-01, -1.54359045e-01, -2.63403870e-01,\n",
       "        -1.86168965e-01, -3.34246756e-01, -6.51865921e-02,\n",
       "        -1.33965956e-01, -8.63714972e-02, -1.68170637e-01,\n",
       "        -8.42749828e-02, -1.68170637e-01, -2.51728185e-01,\n",
       "        -8.21265118e-02, -2.65653214e-02, -1.69275912e-01,\n",
       "        -1.92168421e-01, -7.53243577e-02, -1.90186724e-01,\n",
       "        -1.62544017e-01, -1.79997169e-01, -1.22605921e-01,\n",
       "        -7.76563408e-02, -1.61397658e-01, -1.88187101e-01,\n",
       "        -1.88187101e-01, -8.21265118e-02, -1.68170637e-01,\n",
       "        -7.76563408e-02,  5.31386050e+00, -1.26977373e-01,\n",
       "        -1.16538103e-01, -1.55552116e-01, -8.42749828e-02,\n",
       "        -8.21265118e-02, -1.87180385e-01, -1.85152765e-01,\n",
       "        -3.25414829e-02, -7.99218923e-02, -1.41929154e-01,\n",
       "        -1.68170637e-01, -1.50728487e-01, -1.18082644e-01,\n",
       "         4.07576276e-01, -4.07576276e-01,  0.00000000e+00,\n",
       "         0.00000000e+00, -1.86168965e-01, -1.97047808e-01,\n",
       "        -1.90186724e-01, -1.89189189e-01, -1.82074666e-01,\n",
       "        -1.91179778e-01, -1.83105698e-01, -1.88187101e-01,\n",
       "        -1.86168965e-01, -1.84131703e-01, -1.85152765e-01,\n",
       "        -1.76840966e-01, -1.79997169e-01, -1.92168421e-01,\n",
       "        -1.71467457e-01,  5.31386050e+00, -1.92168421e-01,\n",
       "        -1.93152721e-01, -1.89189189e-01, -1.88187101e-01,\n",
       "        -1.93152721e-01, -1.87180385e-01, -1.83105698e-01,\n",
       "        -1.82074666e-01, -1.85152765e-01, -1.85152765e-01,\n",
       "        -1.87180385e-01, -1.86168965e-01, -1.55552116e-01,\n",
       "        -1.88187101e-01]])"
      ]
     },
     "metadata": {},
     "output_type": "display_data"
    },
    {
     "name": "stdout",
     "output_type": "stream",
     "text": [
      "\n",
      "Response Vector y (Train) after no Feature pre-Selection:\n"
     ]
    },
    {
     "data": {
      "text/html": [
       "<div>\n",
       "<style scoped>\n",
       "    .dataframe tbody tr th:only-of-type {\n",
       "        vertical-align: middle;\n",
       "    }\n",
       "\n",
       "    .dataframe tbody tr th {\n",
       "        vertical-align: top;\n",
       "    }\n",
       "\n",
       "    .dataframe thead th {\n",
       "        text-align: right;\n",
       "    }\n",
       "</style>\n",
       "<table border=\"1\" class=\"dataframe\">\n",
       "  <thead>\n",
       "    <tr style=\"text-align: right;\">\n",
       "      <th></th>\n",
       "      <th>0</th>\n",
       "    </tr>\n",
       "  </thead>\n",
       "  <tbody>\n",
       "    <tr>\n",
       "      <th>1530</th>\n",
       "      <td>0</td>\n",
       "    </tr>\n",
       "    <tr>\n",
       "      <th>1397</th>\n",
       "      <td>1</td>\n",
       "    </tr>\n",
       "    <tr>\n",
       "      <th>2238</th>\n",
       "      <td>0</td>\n",
       "    </tr>\n",
       "  </tbody>\n",
       "</table>\n",
       "</div>"
      ],
      "text/plain": [
       "      0\n",
       "1530  0\n",
       "1397  1\n",
       "2238  0"
      ]
     },
     "metadata": {},
     "output_type": "display_data"
    },
    {
     "name": "stdout",
     "output_type": "stream",
     "text": [
      "\n"
     ]
    }
   ],
   "source": [
    "# print status\n",
    "print('Features Selected with ' + str(sel_feat)+'.')\n",
    "print('Version ' + str(VERSION) + '; ' + str(sel_version), '\\n')\n",
    "\n",
    "# print properties and head\n",
    "if VERSION == 1 or VERSION == 2:\n",
    "    print('Shape (rows, columns) of Feature Matrix X (Train) ' + '= ' + str(X_train.shape)+'\\n')\n",
    "    print('Feature Matrix X (Train) with no Feature pre-Selection:')\n",
    "    display(X_train[0:3])\n",
    "    print(\"\")\n",
    "    print('Response Vector y (Train) after no Feature pre-Selection:')\n",
    "    display(y_train[0:3])\n",
    "    print(\"\")\n",
    "else:\n",
    "    print('Shape (rows, columns) of Feature Matrix X (Train) ' + '= ' + str(X_train_s.shape), '\\n')\n",
    "    print('Feature Matrix X (Train) with Selected Features:'+'\\n')\n",
    "    display(X_train_s[0:3])\n",
    "    print(\"\")\n",
    "    print('Response Vector y (Train) after Feature Selection:')\n",
    "    display(y_train_s[0:3])"
   ]
  },
  {
   "cell_type": "markdown",
   "metadata": {},
   "source": [
    "### Test Set"
   ]
  },
  {
   "cell_type": "code",
   "execution_count": 9,
   "metadata": {},
   "outputs": [
    {
     "name": "stdout",
     "output_type": "stream",
     "text": [
      "Features Selected with No Feature Selection Method available.\n",
      "Version 2; Based on whole original Dataset with Ratios + Seasonality + other Market Data as predictive Features. \n",
      "\n",
      "Shape (rows, columns) of Feature Matrix X (Test) = (710, 181)\n",
      "\n",
      "Feature Matrix X (Test) with no Feature pre-Selection:\n"
     ]
    },
    {
     "data": {
      "text/plain": [
       "array([[-1.87812057e-02,  1.21891579e+00,  4.88047397e-01,\n",
       "         4.22434687e-01,  4.52128163e-01,  2.72003939e+00,\n",
       "        -3.78914301e-01,  4.52492722e-01,  4.52128808e-01,\n",
       "         1.22474333e+00, -2.97856791e-01, -2.96856332e-01,\n",
       "         4.52128163e-01,  2.81006837e-01,  1.22602374e+00,\n",
       "        -3.48794336e-01, -6.91585380e-01, -6.88830803e-01,\n",
       "        -9.72540183e-01, -9.74671760e-01, -4.65973345e-01,\n",
       "         3.75224439e-02, -6.29081754e-01, -4.70631827e-01,\n",
       "         6.56422107e-02,  3.29880938e-02,  2.48904600e-02,\n",
       "         6.27603856e-02,  8.07217971e-01, -3.81393731e-02,\n",
       "        -2.94346259e-01,  1.09054452e+00,  5.23467211e-01,\n",
       "         6.05827459e-01, -2.17875423e-01,  1.03315470e+00,\n",
       "         6.28026313e-01,  1.37175274e+00,  3.02324126e-01,\n",
       "         1.27702683e+00, -6.59878506e-02,  2.16392920e-01,\n",
       "         7.97222422e-01,  2.16792307e-01,  8.13890257e-01,\n",
       "         2.80552392e+00,  1.60801497e-01,  8.20738835e-01,\n",
       "        -7.62300730e-01, -6.85797483e-01, -7.82879101e-01,\n",
       "        -6.24936272e-02, -6.01335841e-02,  3.19157860e-01,\n",
       "        -9.49121453e-01, -1.05751673e-01, -7.98803218e-01,\n",
       "        -4.99990470e-01, -1.17567329e+00,  2.46584355e-01,\n",
       "        -2.78943770e-01,  7.87301185e-01,  1.31154153e+00,\n",
       "         1.78489279e+00,  7.28320347e-01, -2.37945169e-01,\n",
       "        -3.60515890e-01, -8.60852170e-01, -7.70855485e-01,\n",
       "        -3.98788952e-01,  2.97277493e-01,  1.62783818e-01,\n",
       "         3.35550313e-01,  3.76952390e-01, -1.41207667e-02,\n",
       "        -2.37143302e-01,  1.61666081e+00,  5.74346000e-02,\n",
       "        -1.67080471e-01, -3.86060023e-01, -1.78482662e-01,\n",
       "        -3.20283915e-01, -5.09943912e-02, -2.09571708e-01,\n",
       "        -5.81051094e-01, -5.77361017e-01,  1.15438035e+00,\n",
       "         2.56293323e-01, -1.86836758e-01, -5.47819784e-01,\n",
       "         1.42037041e-01, -1.38917300e-01, -2.87128452e-01,\n",
       "        -3.04055789e-01, -2.97784526e-01, -3.04747282e-01,\n",
       "        -3.00582543e-01, -3.01975030e-01, -3.02669671e-01,\n",
       "        -3.06815584e-01,  3.29637813e+00, -3.04055789e-01,\n",
       "        -3.01975030e-01, -3.02669671e-01, -1.83105698e-01,\n",
       "        -1.13389342e-01, -1.54359045e-01, -2.63403870e-01,\n",
       "        -1.86168965e-01, -3.34246756e-01, -6.51865921e-02,\n",
       "        -1.33965956e-01, -8.63714972e-02, -1.68170637e-01,\n",
       "        -8.42749828e-02, -1.68170637e-01,  3.97253887e+00,\n",
       "        -8.21265118e-02, -2.65653214e-02, -1.69275912e-01,\n",
       "        -1.92168421e-01, -7.53243577e-02, -1.90186724e-01,\n",
       "        -1.62544017e-01, -1.79997169e-01, -1.22605921e-01,\n",
       "        -7.76563408e-02, -1.61397658e-01, -1.88187101e-01,\n",
       "        -1.88187101e-01, -8.21265118e-02, -1.68170637e-01,\n",
       "        -7.76563408e-02, -1.88187101e-01, -1.26977373e-01,\n",
       "        -1.16538103e-01, -1.55552116e-01, -8.42749828e-02,\n",
       "        -8.21265118e-02, -1.87180385e-01, -1.85152765e-01,\n",
       "        -3.25414829e-02, -7.99218923e-02, -1.41929154e-01,\n",
       "        -1.68170637e-01, -1.50728487e-01, -1.18082644e-01,\n",
       "        -2.45352848e+00,  2.45352848e+00,  0.00000000e+00,\n",
       "         0.00000000e+00, -1.86168965e-01,  5.07491054e+00,\n",
       "        -1.90186724e-01, -1.89189189e-01, -1.82074666e-01,\n",
       "        -1.91179778e-01, -1.83105698e-01, -1.88187101e-01,\n",
       "        -1.86168965e-01, -1.84131703e-01, -1.85152765e-01,\n",
       "        -1.76840966e-01, -1.79997169e-01, -1.92168421e-01,\n",
       "        -1.71467457e-01, -1.88187101e-01, -1.92168421e-01,\n",
       "        -1.93152721e-01, -1.89189189e-01, -1.88187101e-01,\n",
       "        -1.93152721e-01, -1.87180385e-01, -1.83105698e-01,\n",
       "        -1.82074666e-01, -1.85152765e-01, -1.85152765e-01,\n",
       "        -1.87180385e-01, -1.86168965e-01, -1.55552116e-01,\n",
       "        -1.88187101e-01],\n",
       "       [-1.87812057e-02,  8.62125788e-01,  6.56182445e-02,\n",
       "         4.04885291e-02,  5.75974604e-02, -7.06382873e-01,\n",
       "         5.81323434e-01,  5.80399002e-02,  5.77742430e-02,\n",
       "        -6.61296530e-01, -2.97856791e-01, -2.96856332e-01,\n",
       "         5.75974604e-02,  2.81006837e-01,  8.75746237e-01,\n",
       "         6.11446727e-01,  6.93889123e-01,  6.94445166e-01,\n",
       "         8.92763889e-01,  8.87684955e-01,  5.74236999e-01,\n",
       "         6.94874591e-02, -7.06668202e-01,  4.83114063e-01,\n",
       "         8.05182345e-02,  4.95956695e-02,  1.20832107e-01,\n",
       "         1.58978058e-01,  1.53628214e-01, -2.93961954e-01,\n",
       "        -4.64480582e-01,  1.32123199e-02,  1.18800821e-01,\n",
       "         2.93165529e-01, -9.11908851e-01,  8.19396532e-02,\n",
       "        -3.16972995e-01, -1.26735018e+00,  7.38602786e-02,\n",
       "        -9.84554158e-01,  3.38225853e-01, -4.11400434e-02,\n",
       "        -8.94987623e-01, -4.08360773e-02,  4.25787082e-02,\n",
       "        -1.43778704e-01, -1.42581619e+00, -1.65333239e+00,\n",
       "         1.83129618e+00,  7.47662026e-01,  1.76506793e+00,\n",
       "        -6.24936272e-02, -6.02174662e-02, -4.09424546e-01,\n",
       "        -2.37921551e-01, -9.10432675e-02,  1.04611851e+00,\n",
       "         6.83240334e-01, -7.32221570e-01, -1.66545708e-01,\n",
       "         8.73244321e-01, -1.88151351e-01, -2.32216569e-01,\n",
       "        -1.01475663e+00,  9.05186198e-01,  7.39961545e-01,\n",
       "         1.08615474e+00,  1.50775711e+00,  1.66965820e+00,\n",
       "         7.66657462e-01, -1.45649772e-01, -1.14753136e-01,\n",
       "        -4.76796966e-01, -2.59741731e-01, -4.18473113e-01,\n",
       "         1.77562873e-01, -3.76811073e-01, -1.09566609e+00,\n",
       "        -5.97220056e-01, -1.30585835e+00, -8.76495882e-01,\n",
       "        -2.15876391e-01, -5.01251013e-02, -7.22966333e-01,\n",
       "        -7.52554396e-01,  1.47223483e+00, -2.37528340e-02,\n",
       "         2.91618598e-01, -1.64945208e-01, -1.05292207e+00,\n",
       "         1.94697404e-01, -7.37246433e-02, -2.87128452e-01,\n",
       "        -3.04055789e-01, -2.97784526e-01, -3.04747282e-01,\n",
       "        -3.00582543e-01, -3.01975030e-01, -3.02669671e-01,\n",
       "        -3.06815584e-01,  3.29637813e+00, -3.04055789e-01,\n",
       "        -3.01975030e-01, -3.02669671e-01, -1.83105698e-01,\n",
       "        -1.13389342e-01, -1.54359045e-01, -2.63403870e-01,\n",
       "        -1.86168965e-01, -3.34246756e-01, -6.51865921e-02,\n",
       "        -1.33965956e-01, -8.63714972e-02, -1.68170637e-01,\n",
       "        -8.42749828e-02, -1.68170637e-01, -2.51728185e-01,\n",
       "        -8.21265118e-02, -2.65653214e-02, -1.69275912e-01,\n",
       "        -1.92168421e-01, -7.53243577e-02, -1.90186724e-01,\n",
       "        -1.62544017e-01, -1.79997169e-01, -1.22605921e-01,\n",
       "        -7.76563408e-02, -1.61397658e-01, -1.88187101e-01,\n",
       "        -1.88187101e-01, -8.21265118e-02, -1.68170637e-01,\n",
       "        -7.76563408e-02, -1.88187101e-01,  7.87541886e+00,\n",
       "        -1.16538103e-01, -1.55552116e-01, -8.42749828e-02,\n",
       "        -8.21265118e-02, -1.87180385e-01, -1.85152765e-01,\n",
       "        -3.25414829e-02, -7.99218923e-02, -1.41929154e-01,\n",
       "        -1.68170637e-01, -1.50728487e-01, -1.18082644e-01,\n",
       "         4.07576276e-01, -4.07576276e-01,  0.00000000e+00,\n",
       "         0.00000000e+00,  5.37146457e+00, -1.97047808e-01,\n",
       "        -1.90186724e-01, -1.89189189e-01, -1.82074666e-01,\n",
       "        -1.91179778e-01, -1.83105698e-01, -1.88187101e-01,\n",
       "        -1.86168965e-01, -1.84131703e-01, -1.85152765e-01,\n",
       "        -1.76840966e-01, -1.79997169e-01, -1.92168421e-01,\n",
       "        -1.71467457e-01, -1.88187101e-01, -1.92168421e-01,\n",
       "        -1.93152721e-01, -1.89189189e-01, -1.88187101e-01,\n",
       "        -1.93152721e-01, -1.87180385e-01, -1.83105698e-01,\n",
       "        -1.82074666e-01, -1.85152765e-01, -1.85152765e-01,\n",
       "        -1.87180385e-01, -1.86168965e-01, -1.55552116e-01,\n",
       "        -1.88187101e-01],\n",
       "       [-1.87812057e-02, -2.39278774e-01, -8.29386917e-01,\n",
       "        -8.17476262e-01, -8.31543078e-01,  1.50959235e+00,\n",
       "         2.33568218e-01, -8.31434009e-01, -8.31478101e-01,\n",
       "         2.09280167e+00, -2.97856791e-01, -2.96856332e-01,\n",
       "        -8.31543078e-01,  2.81006837e-01, -2.03143515e-01,\n",
       "         2.63690305e-01, -9.56415802e-01, -9.38597263e-01,\n",
       "        -3.25186266e-01, -3.07946322e-01, -9.59155724e-01,\n",
       "        -1.81343895e-01,  4.28544028e-01, -8.24734145e-01,\n",
       "        -4.68520228e-01, -3.87152236e-01,  2.54111882e-03,\n",
       "         3.49394026e-02,  7.89816753e-01, -2.21962878e-01,\n",
       "         6.81992755e-01,  5.78154813e-01,  1.53895079e+00,\n",
       "         1.31343078e+00,  1.99464725e+00,  6.11482053e-01,\n",
       "         7.05169114e-01,  7.02773267e-02, -6.92165562e-01,\n",
       "        -2.07135694e-01, -9.30817169e-01, -4.27439489e-01,\n",
       "        -5.64556075e-01, -4.27278654e-01,  7.96797701e-02,\n",
       "        -3.00073857e-02, -1.85080362e-02,  2.52034545e-01,\n",
       "        -1.74824920e-01, -2.15014758e-01, -2.05743449e-01,\n",
       "        -6.08161246e-02, -5.91269994e-02,  7.80975843e-01,\n",
       "        -6.63563917e-01, -7.82338332e-01,  1.36294096e-01,\n",
       "        -2.74488646e-01,  7.25611761e-02, -7.24633689e-01,\n",
       "         5.73805608e-01, -7.49659304e-02,  4.15533397e-02,\n",
       "         3.51851903e-01,  1.05030690e+00, -2.56022007e-01,\n",
       "        -2.37991184e-01, -3.70249357e-01, -4.04167285e-01,\n",
       "        -3.35651319e-01, -1.27208907e-01, -9.37661956e-02,\n",
       "         1.63000804e+00,  1.45443475e+00,  1.31758793e+00,\n",
       "         1.57257805e-01, -5.32963628e-01, -8.44080484e-01,\n",
       "        -4.03384754e-01, -8.92006233e-01, -8.19236985e-01,\n",
       "        -5.32427899e-01, -6.28782992e-02,  1.95993461e+00,\n",
       "         7.90975329e-01, -5.77361017e-01,  9.71115185e-01,\n",
       "        -5.08191701e-01, -1.86836758e-01,  6.64425690e-01,\n",
       "        -2.47127930e-01,  1.15927863e+00,  3.48276178e+00,\n",
       "        -3.04055789e-01, -2.97784526e-01, -3.04747282e-01,\n",
       "        -3.00582543e-01, -3.01975030e-01, -3.02669671e-01,\n",
       "        -3.06815584e-01, -3.03363255e-01, -3.04055789e-01,\n",
       "        -3.01975030e-01, -3.02669671e-01, -1.83105698e-01,\n",
       "        -1.13389342e-01, -1.54359045e-01, -2.63403870e-01,\n",
       "        -1.86168965e-01,  2.99180166e+00, -6.51865921e-02,\n",
       "        -1.33965956e-01, -8.63714972e-02, -1.68170637e-01,\n",
       "        -8.42749828e-02, -1.68170637e-01, -2.51728185e-01,\n",
       "        -8.21265118e-02, -2.65653214e-02, -1.69275912e-01,\n",
       "        -1.92168421e-01, -7.53243577e-02, -1.90186724e-01,\n",
       "        -1.62544017e-01, -1.79997169e-01, -1.22605921e-01,\n",
       "        -7.76563408e-02, -1.61397658e-01, -1.88187101e-01,\n",
       "        -1.88187101e-01, -8.21265118e-02, -1.68170637e-01,\n",
       "        -7.76563408e-02, -1.88187101e-01, -1.26977373e-01,\n",
       "        -1.16538103e-01, -1.55552116e-01, -8.42749828e-02,\n",
       "        -8.21265118e-02, -1.87180385e-01, -1.85152765e-01,\n",
       "        -3.25414829e-02, -7.99218923e-02, -1.41929154e-01,\n",
       "        -1.68170637e-01, -1.50728487e-01, -1.18082644e-01,\n",
       "         4.07576276e-01, -4.07576276e-01,  0.00000000e+00,\n",
       "         0.00000000e+00, -1.86168965e-01, -1.97047808e-01,\n",
       "        -1.90186724e-01, -1.89189189e-01, -1.82074666e-01,\n",
       "        -1.91179778e-01, -1.83105698e-01, -1.88187101e-01,\n",
       "        -1.86168965e-01, -1.84131703e-01, -1.85152765e-01,\n",
       "        -1.76840966e-01, -1.79997169e-01, -1.92168421e-01,\n",
       "        -1.71467457e-01, -1.88187101e-01, -1.92168421e-01,\n",
       "        -1.93152721e-01, -1.89189189e-01, -1.88187101e-01,\n",
       "        -1.93152721e-01,  5.34244014e+00, -1.83105698e-01,\n",
       "        -1.82074666e-01, -1.85152765e-01, -1.85152765e-01,\n",
       "        -1.87180385e-01, -1.86168965e-01, -1.55552116e-01,\n",
       "        -1.88187101e-01]])"
      ]
     },
     "metadata": {},
     "output_type": "display_data"
    },
    {
     "name": "stdout",
     "output_type": "stream",
     "text": [
      "\n",
      "Response Vector y (Test) after no Feature pre-Selection:\n"
     ]
    },
    {
     "data": {
      "text/html": [
       "<div>\n",
       "<style scoped>\n",
       "    .dataframe tbody tr th:only-of-type {\n",
       "        vertical-align: middle;\n",
       "    }\n",
       "\n",
       "    .dataframe tbody tr th {\n",
       "        vertical-align: top;\n",
       "    }\n",
       "\n",
       "    .dataframe thead th {\n",
       "        text-align: right;\n",
       "    }\n",
       "</style>\n",
       "<table border=\"1\" class=\"dataframe\">\n",
       "  <thead>\n",
       "    <tr style=\"text-align: right;\">\n",
       "      <th></th>\n",
       "      <th>0</th>\n",
       "    </tr>\n",
       "  </thead>\n",
       "  <tbody>\n",
       "    <tr>\n",
       "      <th>817</th>\n",
       "      <td>1</td>\n",
       "    </tr>\n",
       "    <tr>\n",
       "      <th>2592</th>\n",
       "      <td>0</td>\n",
       "    </tr>\n",
       "    <tr>\n",
       "      <th>1475</th>\n",
       "      <td>1</td>\n",
       "    </tr>\n",
       "  </tbody>\n",
       "</table>\n",
       "</div>"
      ],
      "text/plain": [
       "      0\n",
       "817   1\n",
       "2592  0\n",
       "1475  1"
      ]
     },
     "metadata": {},
     "output_type": "display_data"
    },
    {
     "name": "stdout",
     "output_type": "stream",
     "text": [
      "\n"
     ]
    }
   ],
   "source": [
    "# print status\n",
    "print('Features Selected with ' + str(sel_feat))\n",
    "print('Version ' + str(VERSION) + '; ' + str(sel_version),'\\n')\n",
    "\n",
    "# print properties and head\n",
    "if VERSION == 1 or VERSION == 2:\n",
    "    print('Shape (rows, columns) of Feature Matrix X (Test) ' + '= ' + str(X_test.shape)+'\\n')\n",
    "    print('Feature Matrix X (Test) with no Feature pre-Selection:')\n",
    "    display(X_test[0:3])\n",
    "    print(\"\")\n",
    "    print('Response Vector y (Test) after no Feature pre-Selection:')\n",
    "    display(y_test[0:3])\n",
    "    print(\"\")\n",
    "else:\n",
    "    print('Shape (rows, columns) of Feature Matrix X (Test) ' + '= ' + str(X_test_s.shape)+'\\n')\n",
    "    print('Feature Matrix X (Test) with Selected Features:')\n",
    "    display(X_test_s[0:3])\n",
    "    print(\"\")\n",
    "    print('Response Vector y (Test) after Feature Selection:')\n",
    "    display(y_test_s[0:3])"
   ]
  },
  {
   "cell_type": "markdown",
   "metadata": {},
   "source": [
    "### Define Variables for further use"
   ]
  },
  {
   "cell_type": "code",
   "execution_count": 10,
   "metadata": {},
   "outputs": [],
   "source": [
    "if VERSION == 1 or VERSION == 2:\n",
    "    feature_train = X_train\n",
    "    feature_test = X_test\n",
    "    response_train = y_train\n",
    "    response_test = y_test\n",
    "if VERSION == 1.1 or VERSION == 2.1:\n",
    "    feature_train = X_train_s\n",
    "    feature_test = X_test_s\n",
    "    response_train = y_train_s\n",
    "    response_test = y_test_s"
   ]
  },
  {
   "cell_type": "markdown",
   "metadata": {},
   "source": [
    "## 3.2. SVC\n",
    "\n",
    "### Two different SVC tests are applied:\n",
    "#### => SVC1 = SVC with random parameters\n",
    "#### => SVC2 = SVC with other parameters"
   ]
  },
  {
   "cell_type": "markdown",
   "metadata": {},
   "source": [
    "### 3.2.1. Kernel: rbf"
   ]
  },
  {
   "cell_type": "code",
   "execution_count": 24,
   "metadata": {},
   "outputs": [
    {
     "data": {
      "text/plain": [
       "SVC(C=1.0, cache_size=200, class_weight=None, coef0=0.0,\n",
       "  decision_function_shape='ovr', degree=3, gamma='auto', kernel='rbf',\n",
       "  max_iter=-1, probability=False, random_state=None, shrinking=True,\n",
       "  tol=0.001, verbose=False)"
      ]
     },
     "metadata": {},
     "output_type": "display_data"
    },
    {
     "name": "stdout",
     "output_type": "stream",
     "text": [
      "Observed probability of DOWN: 0.42\n",
      "Train score: 0.68\n",
      "Test score:  0.63\n"
     ]
    }
   ],
   "source": [
    "# Create svm object\n",
    "svm_rbf = SVC(kernel='rbf', C=1.0)\n",
    "display(svm_rbf)\n",
    "\n",
    "# Fit linear SVM to standardized training set\n",
    "svm_rbf.fit(feature_train, response_train)\n",
    "\n",
    "# Print results\n",
    "print(\"Observed probability of DOWN: {:.2f}\".format(np.count_nonzero(y==0) / len(y)))\n",
    "print(\"Train score: {:.2f}\".format(svm_rbf.score(feature_train, response_train)))\n",
    "print(\"Test score:  {:.2f}\".format(svm_rbf.score(feature_test, response_test)))"
   ]
  },
  {
   "cell_type": "code",
   "execution_count": 25,
   "metadata": {},
   "outputs": [
    {
     "name": "stdout",
     "output_type": "stream",
     "text": [
      "Predicted  Down   UP\n",
      "True                \n",
      "(0,)        129  581\n"
     ]
    }
   ],
   "source": [
    "# Predict classes\n",
    "prediction_rbf = svm_rbf.predict(feature_test)\n",
    "\n",
    "# Manual confusion matrix as pandas DataFrame\n",
    "confm = pd.DataFrame({'Predicted': prediction_rbf,\n",
    "                      'True': response_test})\n",
    "\n",
    "confm.replace(to_replace={0:'Down', 1:'UP'}, inplace=True)\n",
    "\n",
    "print(confm.groupby(['True','Predicted'], sort=False).size().unstack('Predicted'))"
   ]
  },
  {
   "cell_type": "code",
   "execution_count": null,
   "metadata": {},
   "outputs": [],
   "source": []
  },
  {
   "cell_type": "markdown",
   "metadata": {},
   "source": [
    "### 3.2.1. Kernel: linear"
   ]
  },
  {
   "cell_type": "code",
   "execution_count": 22,
   "metadata": {},
   "outputs": [
    {
     "data": {
      "text/plain": [
       "SVC(C=1.0, cache_size=200, class_weight=None, coef0=0.0,\n",
       "  decision_function_shape='ovr', degree=3, gamma='auto', kernel='linear',\n",
       "  max_iter=-1, probability=False, random_state=None, shrinking=True,\n",
       "  tol=0.001, verbose=False)"
      ]
     },
     "metadata": {},
     "output_type": "display_data"
    },
    {
     "name": "stdout",
     "output_type": "stream",
     "text": [
      "Observed probability of DOWN: 0.42\n",
      "Train score: 0.71\n",
      "Test score:  0.71\n"
     ]
    }
   ],
   "source": [
    "# Create svm object\n",
    "svm_linear = SVC(kernel='linear', C=1.0)\n",
    "display(svm_linear)\n",
    "\n",
    "# Fit linear SVM to standardized training set\n",
    "svm_linear.fit(feature_train, response_train)\n",
    "\n",
    "# Print results\n",
    "print(\"Observed probability of DOWN: {:.2f}\".format(np.count_nonzero(y==0) / len(y)))\n",
    "print(\"Train score: {:.2f}\".format(svm_linear.score(feature_train, response_train)))\n",
    "print(\"Test score:  {:.2f}\".format(svm_linear.score(feature_test, response_test)))"
   ]
  },
  {
   "cell_type": "code",
   "execution_count": 23,
   "metadata": {},
   "outputs": [
    {
     "name": "stdout",
     "output_type": "stream",
     "text": [
      "Predicted  Down   UP\n",
      "True                \n",
      "(0,)        245  465\n"
     ]
    }
   ],
   "source": [
    "# Predict classes\n",
    "prediction_linear = svm_linear.predict(feature_test)\n",
    "\n",
    "# Manual confusion matrix as pandas DataFrame\n",
    "confm = pd.DataFrame({'Predicted': prediction_linear,\n",
    "                      'True': response_test})\n",
    "\n",
    "confm.replace(to_replace={0:'Down', 1:'UP'}, inplace=True)\n",
    "\n",
    "print(confm.groupby(['True','Predicted'], sort=False).size().unstack('Predicted'))"
   ]
  },
  {
   "cell_type": "code",
   "execution_count": null,
   "metadata": {},
   "outputs": [],
   "source": []
  },
  {
   "cell_type": "markdown",
   "metadata": {},
   "source": [
    "### Kernel: poly"
   ]
  },
  {
   "cell_type": "code",
   "execution_count": 26,
   "metadata": {},
   "outputs": [
    {
     "data": {
      "text/plain": [
       "SVC(C=1.0, cache_size=200, class_weight=None, coef0=0.0,\n",
       "  decision_function_shape='ovr', degree=3, gamma='auto', kernel='poly',\n",
       "  max_iter=-1, probability=False, random_state=1, shrinking=True,\n",
       "  tol=0.001, verbose=False)"
      ]
     },
     "metadata": {},
     "output_type": "display_data"
    },
    {
     "name": "stdout",
     "output_type": "stream",
     "text": [
      "Observed probability of DOWN: 0.42\n",
      "Train score: 0.67\n",
      "Test score:  0.60\n"
     ]
    }
   ],
   "source": [
    "# create svm object\n",
    "svm_poly = SVC(kernel='poly', random_state=1)\n",
    "display(svm_poly)\n",
    "\n",
    "# Fit polynomial SVM to standardized training set\n",
    "svm_poly.fit(feature_train, response_train)\n",
    "\n",
    "# Print results\n",
    "print(\"Observed probability of DOWN: {:.2f}\".format(np.count_nonzero(y==0) / len(y)))\n",
    "print(\"Train score: {:.2f}\".format(svm_poly.score(feature_train, response_train)))\n",
    "print(\"Test score:  {:.2f}\".format(svm_poly.score(feature_test, response_test)))"
   ]
  },
  {
   "cell_type": "code",
   "execution_count": 27,
   "metadata": {},
   "outputs": [
    {
     "name": "stdout",
     "output_type": "stream",
     "text": [
      "Predicted   UP  DOWN\n",
      "True                \n",
      "(0,)       642    68\n"
     ]
    }
   ],
   "source": [
    "# Predict classes\n",
    "prediction_poly = svm_poly.predict(feature_test)\n",
    "\n",
    "# Manual confusion matrix as pandas DataFrame\n",
    "confm = pd.DataFrame({'Predicted': prediction_poly,'True': response_test})\n",
    "confm.replace(to_replace={0:'DOWN', 1:'UP'}, inplace=True)\n",
    "print(confm.groupby(['True','Predicted'], sort=False).size().unstack('Predicted'))"
   ]
  },
  {
   "cell_type": "code",
   "execution_count": 28,
   "metadata": {},
   "outputs": [
    {
     "name": "stdout",
     "output_type": "stream",
     "text": [
      "             precision    recall  f1-score   support\n",
      "\n",
      "          0       0.65      0.14      0.24       305\n",
      "          1       0.59      0.94      0.73       405\n",
      "\n",
      "avg / total       0.62      0.60      0.52       710\n",
      "\n",
      "[[ 44 261]\n",
      " [ 24 381]]\n",
      "Test score: 0.58\n"
     ]
    }
   ],
   "source": [
    "# Initiate and fit a polynomial SVM to training set\n",
    "svm_poly = SVC(kernel='poly', random_state=1, class_weight='balanced')\n",
    "svm_poly.fit(feature_train, response_train)\n",
    "\n",
    "# print metrics\n",
    "print(metrics.classification_report(response_test, prediction_poly))\n",
    "print(metrics.confusion_matrix(response_test, prediction_poly))\n",
    "print(\"Test score: {:.2f}\".format(svm_poly.score(feature_test, response_test)))"
   ]
  },
  {
   "cell_type": "code",
   "execution_count": null,
   "metadata": {},
   "outputs": [],
   "source": [
    "from sklearn.utils import resample\n",
    "\n",
    "# Upsampling\n",
    "X_upsampled, y_upsampled = resample(X[y==1], y[y==1],\n",
    "                                    replace=True,\n",
    "                                    n_samples=X[y==0].shape[0],\n",
    "                                    random_state=1)\n",
    "print('No. of default samples BEFORE upsampling:  {:.0f}'.format(y.sum()))"
   ]
  }
 ],
 "metadata": {
  "kernelspec": {
   "display_name": "Python 3",
   "language": "python",
   "name": "python3"
  },
  "language_info": {
   "codemirror_mode": {
    "name": "ipython",
    "version": 3
   },
   "file_extension": ".py",
   "mimetype": "text/x-python",
   "name": "python",
   "nbconvert_exporter": "python",
   "pygments_lexer": "ipython3",
   "version": "3.6.4"
  }
 },
 "nbformat": 4,
 "nbformat_minor": 2
}
