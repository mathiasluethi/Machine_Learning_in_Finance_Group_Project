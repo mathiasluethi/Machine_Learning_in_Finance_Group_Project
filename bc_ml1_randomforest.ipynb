{
 "cells": [
  {
   "cell_type": "markdown",
   "metadata": {},
   "source": [
    "## Introduction to Machine Learning, UZH FS18, Group Project\n",
    "\n",
    "## Group 2: Barbara Capl, Mathias Lüthi, Pamela Matias, Stefanie Rentsch"
   ]
  },
  {
   "cell_type": "code",
   "execution_count": 1,
   "metadata": {},
   "outputs": [
    {
     "name": "stderr",
     "output_type": "stream",
     "text": [
      "/home/andy/anaconda3/lib/python3.6/site-packages/statsmodels/compat/pandas.py:56: FutureWarning: The pandas.core.datetools module is deprecated and will be removed in a future version. Please use the pandas.tseries module instead.\n",
      "  from pandas.core import datetools\n"
     ]
    }
   ],
   "source": [
    "import numpy as np\n",
    "import pandas as pd\n",
    "import matplotlib as pl\n",
    "import matplotlib.pyplot as plt\n",
    "import statsmodels.api as sm\n",
    "import statsmodels.formula.api as smf\n",
    "import sklearn as skl\n",
    "from sklearn.svm import SVR\n",
    "from sklearn.preprocessing import Imputer\n",
    "from sklearn import preprocessing\n",
    "from sklearn.ensemble import RandomForestClassifier\n",
    "from sklearn import neural_network\n",
    "from sklearn import neighbors\n",
    "from functools import reduce\n",
    "from sklearn.svm import SVR\n",
    "from sklearn import neighbors\n",
    "from functools import reduce\n",
    "from sklearn.model_selection import train_test_split\n",
    "import os\n",
    "import datetime as dt",
    "from pandas.core import datetools\n"
   ]
  },
  {
   "cell_type": "markdown",
   "metadata": {},
   "source": [
    "# Import datasets\n"
   ]
  },
  {
   "cell_type": "markdown",
   "metadata": {},
   "source": [
    "### Market Data from Wharton"
   ]
  },
  {
   "cell_type": "code",
   "execution_count": 2,
   "metadata": {},
   "outputs": [
    {
     "data": {
      "text/html": [
       "<div>\n",
       "<style scoped>\n",
       "    .dataframe tbody tr th:only-of-type {\n",
       "        vertical-align: middle;\n",
       "    }\n",
       "\n",
       "    .dataframe tbody tr th {\n",
       "        vertical-align: top;\n",
       "    }\n",
       "\n",
       "    .dataframe thead th {\n",
       "        text-align: right;\n",
       "    }\n",
       "</style>\n",
       "<table border=\"1\" class=\"dataframe\">\n",
       "  <thead>\n",
       "    <tr style=\"text-align: right;\">\n",
       "      <th></th>\n",
       "      <th>PERMNO_w</th>\n",
       "      <th>DATE_w</th>\n",
       "      <th>NAICS</th>\n",
       "      <th>DCLRDT</th>\n",
       "      <th>DLAMT</th>\n",
       "      <th>DLPDT</th>\n",
       "      <th>PAYDT</th>\n",
       "      <th>RCRDDT</th>\n",
       "      <th>SHRFLG</th>\n",
       "      <th>DISTCD</th>\n",
       "      <th>...</th>\n",
       "      <th>CFACSHR</th>\n",
       "      <th>ALTPRC</th>\n",
       "      <th>SPREAD</th>\n",
       "      <th>ALTPRCDT</th>\n",
       "      <th>RETX</th>\n",
       "      <th>vwretd</th>\n",
       "      <th>vwretx</th>\n",
       "      <th>ewretd</th>\n",
       "      <th>ewretx</th>\n",
       "      <th>sprtrn</th>\n",
       "    </tr>\n",
       "  </thead>\n",
       "  <tbody>\n",
       "    <tr>\n",
       "      <th>0</th>\n",
       "      <td>10107</td>\n",
       "      <td>31/01/2006</td>\n",
       "      <td>511210.0</td>\n",
       "      <td>NaN</td>\n",
       "      <td>NaN</td>\n",
       "      <td>NaN</td>\n",
       "      <td>NaN</td>\n",
       "      <td>NaN</td>\n",
       "      <td>0.0</td>\n",
       "      <td>NaN</td>\n",
       "      <td>...</td>\n",
       "      <td>1.0</td>\n",
       "      <td>28.15</td>\n",
       "      <td>0.02</td>\n",
       "      <td>31/01/2006</td>\n",
       "      <td>0.076482</td>\n",
       "      <td>0.040044</td>\n",
       "      <td>0.038938</td>\n",
       "      <td>0.076354</td>\n",
       "      <td>0.075150</td>\n",
       "      <td>0.025467</td>\n",
       "    </tr>\n",
       "    <tr>\n",
       "      <th>1</th>\n",
       "      <td>10107</td>\n",
       "      <td>28/02/2006</td>\n",
       "      <td>511210.0</td>\n",
       "      <td>14/12/2005</td>\n",
       "      <td>NaN</td>\n",
       "      <td>NaN</td>\n",
       "      <td>09/03/2006</td>\n",
       "      <td>17/02/2006</td>\n",
       "      <td>0.0</td>\n",
       "      <td>1232.0</td>\n",
       "      <td>...</td>\n",
       "      <td>1.0</td>\n",
       "      <td>26.87</td>\n",
       "      <td>-0.01</td>\n",
       "      <td>28/02/2006</td>\n",
       "      <td>-0.045471</td>\n",
       "      <td>-0.001637</td>\n",
       "      <td>-0.003552</td>\n",
       "      <td>0.004836</td>\n",
       "      <td>0.003476</td>\n",
       "      <td>0.000453</td>\n",
       "    </tr>\n",
       "    <tr>\n",
       "      <th>2</th>\n",
       "      <td>10107</td>\n",
       "      <td>31/03/2006</td>\n",
       "      <td>511210.0</td>\n",
       "      <td>NaN</td>\n",
       "      <td>NaN</td>\n",
       "      <td>NaN</td>\n",
       "      <td>NaN</td>\n",
       "      <td>NaN</td>\n",
       "      <td>0.0</td>\n",
       "      <td>NaN</td>\n",
       "      <td>...</td>\n",
       "      <td>1.0</td>\n",
       "      <td>27.21</td>\n",
       "      <td>0.00</td>\n",
       "      <td>31/03/2006</td>\n",
       "      <td>0.012653</td>\n",
       "      <td>0.019053</td>\n",
       "      <td>0.017585</td>\n",
       "      <td>0.036978</td>\n",
       "      <td>0.035232</td>\n",
       "      <td>0.011065</td>\n",
       "    </tr>\n",
       "    <tr>\n",
       "      <th>3</th>\n",
       "      <td>10107</td>\n",
       "      <td>28/04/2006</td>\n",
       "      <td>511210.0</td>\n",
       "      <td>NaN</td>\n",
       "      <td>NaN</td>\n",
       "      <td>NaN</td>\n",
       "      <td>NaN</td>\n",
       "      <td>NaN</td>\n",
       "      <td>0.0</td>\n",
       "      <td>NaN</td>\n",
       "      <td>...</td>\n",
       "      <td>1.0</td>\n",
       "      <td>24.15</td>\n",
       "      <td>0.00</td>\n",
       "      <td>28/04/2006</td>\n",
       "      <td>-0.112459</td>\n",
       "      <td>0.012965</td>\n",
       "      <td>0.011494</td>\n",
       "      <td>0.009791</td>\n",
       "      <td>0.008497</td>\n",
       "      <td>0.012187</td>\n",
       "    </tr>\n",
       "    <tr>\n",
       "      <th>4</th>\n",
       "      <td>10107</td>\n",
       "      <td>31/05/2006</td>\n",
       "      <td>511210.0</td>\n",
       "      <td>27/03/2006</td>\n",
       "      <td>NaN</td>\n",
       "      <td>NaN</td>\n",
       "      <td>08/06/2006</td>\n",
       "      <td>17/05/2006</td>\n",
       "      <td>0.0</td>\n",
       "      <td>1232.0</td>\n",
       "      <td>...</td>\n",
       "      <td>1.0</td>\n",
       "      <td>22.65</td>\n",
       "      <td>0.00</td>\n",
       "      <td>31/05/2006</td>\n",
       "      <td>-0.062112</td>\n",
       "      <td>-0.031045</td>\n",
       "      <td>-0.033025</td>\n",
       "      <td>-0.044331</td>\n",
       "      <td>-0.045982</td>\n",
       "      <td>-0.030917</td>\n",
       "    </tr>\n",
       "  </tbody>\n",
       "</table>\n",
       "<p>5 rows × 38 columns</p>\n",
       "</div>"
      ],
      "text/plain": [
       "   PERMNO_w      DATE_w     NAICS      DCLRDT  DLAMT  DLPDT       PAYDT  \\\n",
       "0     10107  31/01/2006  511210.0         NaN    NaN    NaN         NaN   \n",
       "1     10107  28/02/2006  511210.0  14/12/2005    NaN    NaN  09/03/2006   \n",
       "2     10107  31/03/2006  511210.0         NaN    NaN    NaN         NaN   \n",
       "3     10107  28/04/2006  511210.0         NaN    NaN    NaN         NaN   \n",
       "4     10107  31/05/2006  511210.0  27/03/2006    NaN    NaN  08/06/2006   \n",
       "\n",
       "       RCRDDT  SHRFLG  DISTCD    ...     CFACSHR  ALTPRC  SPREAD    ALTPRCDT  \\\n",
       "0         NaN     0.0     NaN    ...         1.0   28.15    0.02  31/01/2006   \n",
       "1  17/02/2006     0.0  1232.0    ...         1.0   26.87   -0.01  28/02/2006   \n",
       "2         NaN     0.0     NaN    ...         1.0   27.21    0.00  31/03/2006   \n",
       "3         NaN     0.0     NaN    ...         1.0   24.15    0.00  28/04/2006   \n",
       "4  17/05/2006     0.0  1232.0    ...         1.0   22.65    0.00  31/05/2006   \n",
       "\n",
       "        RETX    vwretd    vwretx    ewretd    ewretx    sprtrn  \n",
       "0   0.076482  0.040044  0.038938  0.076354  0.075150  0.025467  \n",
       "1  -0.045471 -0.001637 -0.003552  0.004836  0.003476  0.000453  \n",
       "2   0.012653  0.019053  0.017585  0.036978  0.035232  0.011065  \n",
       "3  -0.112459  0.012965  0.011494  0.009791  0.008497  0.012187  \n",
       "4  -0.062112 -0.031045 -0.033025 -0.044331 -0.045982 -0.030917  \n",
       "\n",
       "[5 rows x 38 columns]"
      ]
     },
     "metadata": {},
     "output_type": "display_data"
    }
   ],
   "source": [
    "# Import \"big\" wharton file -> wharton_ml\n",
    "wharton = pd.read_csv('Data/wharton_ml3.csv', sep = ',')\n",
    "\n",
    "# Rename  columns in wharton file\n",
    "wharton.rename(columns = {'date': 'DATE_w', 'PERMNO': 'PERMNO_w'}, inplace = True)\n",
    "\n",
    "# SPREAD seems to contain no data (nan), so I'm calculating spread via BID - ASK \n",
    "wharton['SPREAD'] = wharton['BID'] - wharton['ASK']\n",
    "\n",
    "display(wharton.head())"
   ]
  },
  {
   "cell_type": "code",
   "execution_count": 3,
   "metadata": {},
   "outputs": [
    {
     "data": {
      "text/html": [
       "<div>\n",
       "<style scoped>\n",
       "    .dataframe tbody tr th:only-of-type {\n",
       "        vertical-align: middle;\n",
       "    }\n",
       "\n",
       "    .dataframe tbody tr th {\n",
       "        vertical-align: top;\n",
       "    }\n",
       "\n",
       "    .dataframe thead th {\n",
       "        text-align: right;\n",
       "    }\n",
       "</style>\n",
       "<table border=\"1\" class=\"dataframe\">\n",
       "  <thead>\n",
       "    <tr style=\"text-align: right;\">\n",
       "      <th></th>\n",
       "      <th>PERMNO_w</th>\n",
       "      <th>DATE_w</th>\n",
       "      <th>NAICS</th>\n",
       "      <th>BIDLO</th>\n",
       "      <th>ASKHI</th>\n",
       "      <th>PRC</th>\n",
       "      <th>VOL</th>\n",
       "      <th>BID</th>\n",
       "      <th>ASK</th>\n",
       "      <th>SHROUT</th>\n",
       "      <th>CFACPR</th>\n",
       "      <th>CFACSHR</th>\n",
       "      <th>ALTPRC</th>\n",
       "      <th>SPREAD</th>\n",
       "      <th>vwretd</th>\n",
       "      <th>vwretx</th>\n",
       "      <th>ewretd</th>\n",
       "      <th>ewretx</th>\n",
       "      <th>sprtrn</th>\n",
       "    </tr>\n",
       "  </thead>\n",
       "  <tbody>\n",
       "    <tr>\n",
       "      <th>0</th>\n",
       "      <td>10107</td>\n",
       "      <td>31/01/2006</td>\n",
       "      <td>511210.0</td>\n",
       "      <td>26.28</td>\n",
       "      <td>28.15</td>\n",
       "      <td>28.15</td>\n",
       "      <td>13948013.0</td>\n",
       "      <td>28.15</td>\n",
       "      <td>28.13</td>\n",
       "      <td>10333369.0</td>\n",
       "      <td>1.0</td>\n",
       "      <td>1.0</td>\n",
       "      <td>28.15</td>\n",
       "      <td>0.02</td>\n",
       "      <td>0.040044</td>\n",
       "      <td>0.038938</td>\n",
       "      <td>0.076354</td>\n",
       "      <td>0.075150</td>\n",
       "      <td>0.025467</td>\n",
       "    </tr>\n",
       "    <tr>\n",
       "      <th>1</th>\n",
       "      <td>10107</td>\n",
       "      <td>28/02/2006</td>\n",
       "      <td>511210.0</td>\n",
       "      <td>26.39</td>\n",
       "      <td>28.04</td>\n",
       "      <td>26.87</td>\n",
       "      <td>11088149.0</td>\n",
       "      <td>26.87</td>\n",
       "      <td>26.88</td>\n",
       "      <td>10333369.0</td>\n",
       "      <td>1.0</td>\n",
       "      <td>1.0</td>\n",
       "      <td>26.87</td>\n",
       "      <td>-0.01</td>\n",
       "      <td>-0.001637</td>\n",
       "      <td>-0.003552</td>\n",
       "      <td>0.004836</td>\n",
       "      <td>0.003476</td>\n",
       "      <td>0.000453</td>\n",
       "    </tr>\n",
       "    <tr>\n",
       "      <th>2</th>\n",
       "      <td>10107</td>\n",
       "      <td>31/03/2006</td>\n",
       "      <td>511210.0</td>\n",
       "      <td>26.85</td>\n",
       "      <td>27.89</td>\n",
       "      <td>27.21</td>\n",
       "      <td>14514337.0</td>\n",
       "      <td>27.24</td>\n",
       "      <td>27.24</td>\n",
       "      <td>10225000.0</td>\n",
       "      <td>1.0</td>\n",
       "      <td>1.0</td>\n",
       "      <td>27.21</td>\n",
       "      <td>0.00</td>\n",
       "      <td>0.019053</td>\n",
       "      <td>0.017585</td>\n",
       "      <td>0.036978</td>\n",
       "      <td>0.035232</td>\n",
       "      <td>0.011065</td>\n",
       "    </tr>\n",
       "    <tr>\n",
       "      <th>3</th>\n",
       "      <td>10107</td>\n",
       "      <td>28/04/2006</td>\n",
       "      <td>511210.0</td>\n",
       "      <td>24.15</td>\n",
       "      <td>27.74</td>\n",
       "      <td>24.15</td>\n",
       "      <td>14689919.0</td>\n",
       "      <td>24.16</td>\n",
       "      <td>24.16</td>\n",
       "      <td>10201203.0</td>\n",
       "      <td>1.0</td>\n",
       "      <td>1.0</td>\n",
       "      <td>24.15</td>\n",
       "      <td>0.00</td>\n",
       "      <td>0.012965</td>\n",
       "      <td>0.011494</td>\n",
       "      <td>0.009791</td>\n",
       "      <td>0.008497</td>\n",
       "      <td>0.012187</td>\n",
       "    </tr>\n",
       "    <tr>\n",
       "      <th>4</th>\n",
       "      <td>10107</td>\n",
       "      <td>31/05/2006</td>\n",
       "      <td>511210.0</td>\n",
       "      <td>22.56</td>\n",
       "      <td>24.29</td>\n",
       "      <td>22.65</td>\n",
       "      <td>23651189.0</td>\n",
       "      <td>22.70</td>\n",
       "      <td>22.70</td>\n",
       "      <td>10201203.0</td>\n",
       "      <td>1.0</td>\n",
       "      <td>1.0</td>\n",
       "      <td>22.65</td>\n",
       "      <td>0.00</td>\n",
       "      <td>-0.031045</td>\n",
       "      <td>-0.033025</td>\n",
       "      <td>-0.044331</td>\n",
       "      <td>-0.045982</td>\n",
       "      <td>-0.030917</td>\n",
       "    </tr>\n",
       "  </tbody>\n",
       "</table>\n",
       "</div>"
      ],
      "text/plain": [
       "   PERMNO_w      DATE_w     NAICS  BIDLO  ASKHI    PRC         VOL    BID  \\\n",
       "0     10107  31/01/2006  511210.0  26.28  28.15  28.15  13948013.0  28.15   \n",
       "1     10107  28/02/2006  511210.0  26.39  28.04  26.87  11088149.0  26.87   \n",
       "2     10107  31/03/2006  511210.0  26.85  27.89  27.21  14514337.0  27.24   \n",
       "3     10107  28/04/2006  511210.0  24.15  27.74  24.15  14689919.0  24.16   \n",
       "4     10107  31/05/2006  511210.0  22.56  24.29  22.65  23651189.0  22.70   \n",
       "\n",
       "     ASK      SHROUT  CFACPR  CFACSHR  ALTPRC  SPREAD    vwretd    vwretx  \\\n",
       "0  28.13  10333369.0     1.0      1.0   28.15    0.02  0.040044  0.038938   \n",
       "1  26.88  10333369.0     1.0      1.0   26.87   -0.01 -0.001637 -0.003552   \n",
       "2  27.24  10225000.0     1.0      1.0   27.21    0.00  0.019053  0.017585   \n",
       "3  24.16  10201203.0     1.0      1.0   24.15    0.00  0.012965  0.011494   \n",
       "4  22.70  10201203.0     1.0      1.0   22.65    0.00 -0.031045 -0.033025   \n",
       "\n",
       "     ewretd    ewretx    sprtrn  \n",
       "0  0.076354  0.075150  0.025467  \n",
       "1  0.004836  0.003476  0.000453  \n",
       "2  0.036978  0.035232  0.011065  \n",
       "3  0.009791  0.008497  0.012187  \n",
       "4 -0.044331 -0.045982 -0.030917  "
      ]
     },
     "metadata": {},
     "output_type": "display_data"
    }
   ],
   "source": [
    "# REMOVE DATA THAT IS (PBLY) NOT NEEDED\n",
    "wharton = wharton.drop(['RET', 'RETX', 'DLAMT', 'DLPDT', 'DCLRDT', 'DLRETX', 'DLRET', 'DLPRC', 'PAYDT', 'RCRDDT', \n",
    "                           'SHRFLG', 'DISTCD', 'DIVAMT', 'FACPR', \n",
    "                           'ACPERM', 'ACCOMP', 'SHRENDDT', 'FACSHR', 'ALTPRCDT'], axis = 1)\n",
    "\n",
    "display(wharton.head())"
   ]
  },
  {
   "cell_type": "markdown",
   "metadata": {},
   "source": [
    "### Financial Ratios (from OLAT)"
   ]
  },
  {
   "cell_type": "code",
   "execution_count": 4,
   "metadata": {},
   "outputs": [
    {
     "data": {
      "text/html": [
       "<div>\n",
       "<style scoped>\n",
       "    .dataframe tbody tr th:only-of-type {\n",
       "        vertical-align: middle;\n",
       "    }\n",
       "\n",
       "    .dataframe tbody tr th {\n",
       "        vertical-align: top;\n",
       "    }\n",
       "\n",
       "    .dataframe thead th {\n",
       "        text-align: right;\n",
       "    }\n",
       "</style>\n",
       "<table border=\"1\" class=\"dataframe\">\n",
       "  <thead>\n",
       "    <tr style=\"text-align: right;\">\n",
       "      <th></th>\n",
       "      <th>PERMNO_r</th>\n",
       "      <th>DATE_r</th>\n",
       "      <th>CAPEI</th>\n",
       "      <th>bm</th>\n",
       "      <th>evm</th>\n",
       "      <th>pe_op_basic</th>\n",
       "      <th>pe_op_dil</th>\n",
       "      <th>pe_exi</th>\n",
       "      <th>pe_inc</th>\n",
       "      <th>ps</th>\n",
       "      <th>...</th>\n",
       "      <th>sale_nwc</th>\n",
       "      <th>rd_sale</th>\n",
       "      <th>adv_sale</th>\n",
       "      <th>staff_sale</th>\n",
       "      <th>accrual</th>\n",
       "      <th>ptb</th>\n",
       "      <th>PEG_trailing</th>\n",
       "      <th>divyield</th>\n",
       "      <th>PEG_1yrforward</th>\n",
       "      <th>PEG_ltgforward</th>\n",
       "    </tr>\n",
       "  </thead>\n",
       "  <tbody>\n",
       "    <tr>\n",
       "      <th>0</th>\n",
       "      <td>10107</td>\n",
       "      <td>31/01/2006</td>\n",
       "      <td>33.861</td>\n",
       "      <td>0.176</td>\n",
       "      <td>15.245</td>\n",
       "      <td>23.074</td>\n",
       "      <td>23.264</td>\n",
       "      <td>23.856</td>\n",
       "      <td>23.856</td>\n",
       "      <td>7.211</td>\n",
       "      <td>...</td>\n",
       "      <td>1.296</td>\n",
       "      <td>0.151</td>\n",
       "      <td>0.025</td>\n",
       "      <td>0.0</td>\n",
       "      <td>0.055</td>\n",
       "      <td>6.019</td>\n",
       "      <td>11.538</td>\n",
       "      <td>1.14%</td>\n",
       "      <td>15.506</td>\n",
       "      <td>2.109</td>\n",
       "    </tr>\n",
       "    <tr>\n",
       "      <th>1</th>\n",
       "      <td>10107</td>\n",
       "      <td>28/02/2006</td>\n",
       "      <td>31.756</td>\n",
       "      <td>0.163</td>\n",
       "      <td>14.951</td>\n",
       "      <td>21.496</td>\n",
       "      <td>21.846</td>\n",
       "      <td>22.392</td>\n",
       "      <td>22.392</td>\n",
       "      <td>6.713</td>\n",
       "      <td>...</td>\n",
       "      <td>1.323</td>\n",
       "      <td>0.151</td>\n",
       "      <td>0.025</td>\n",
       "      <td>0.0</td>\n",
       "      <td>0.036</td>\n",
       "      <td>6.281</td>\n",
       "      <td>10.280</td>\n",
       "      <td>1.34%</td>\n",
       "      <td>14.555</td>\n",
       "      <td>1.838</td>\n",
       "    </tr>\n",
       "    <tr>\n",
       "      <th>2</th>\n",
       "      <td>10107</td>\n",
       "      <td>31/03/2006</td>\n",
       "      <td>31.820</td>\n",
       "      <td>0.163</td>\n",
       "      <td>14.951</td>\n",
       "      <td>21.768</td>\n",
       "      <td>22.122</td>\n",
       "      <td>22.675</td>\n",
       "      <td>22.675</td>\n",
       "      <td>6.727</td>\n",
       "      <td>...</td>\n",
       "      <td>1.323</td>\n",
       "      <td>0.151</td>\n",
       "      <td>0.025</td>\n",
       "      <td>0.0</td>\n",
       "      <td>0.036</td>\n",
       "      <td>6.293</td>\n",
       "      <td>10.410</td>\n",
       "      <td>1.32%</td>\n",
       "      <td>14.739</td>\n",
       "      <td>1.842</td>\n",
       "    </tr>\n",
       "    <tr>\n",
       "      <th>3</th>\n",
       "      <td>10107</td>\n",
       "      <td>30/04/2006</td>\n",
       "      <td>28.176</td>\n",
       "      <td>0.163</td>\n",
       "      <td>14.951</td>\n",
       "      <td>19.320</td>\n",
       "      <td>19.634</td>\n",
       "      <td>20.125</td>\n",
       "      <td>20.125</td>\n",
       "      <td>5.957</td>\n",
       "      <td>...</td>\n",
       "      <td>1.323</td>\n",
       "      <td>0.151</td>\n",
       "      <td>0.025</td>\n",
       "      <td>0.0</td>\n",
       "      <td>0.036</td>\n",
       "      <td>5.573</td>\n",
       "      <td>9.239</td>\n",
       "      <td>1.49%</td>\n",
       "      <td>13.081</td>\n",
       "      <td>1.666</td>\n",
       "    </tr>\n",
       "    <tr>\n",
       "      <th>4</th>\n",
       "      <td>10107</td>\n",
       "      <td>31/05/2006</td>\n",
       "      <td>25.921</td>\n",
       "      <td>0.151</td>\n",
       "      <td>15.120</td>\n",
       "      <td>17.695</td>\n",
       "      <td>17.835</td>\n",
       "      <td>17.976</td>\n",
       "      <td>17.976</td>\n",
       "      <td>5.419</td>\n",
       "      <td>...</td>\n",
       "      <td>1.388</td>\n",
       "      <td>0.150</td>\n",
       "      <td>0.025</td>\n",
       "      <td>0.0</td>\n",
       "      <td>0.024</td>\n",
       "      <td>5.496</td>\n",
       "      <td>0.709</td>\n",
       "      <td>1.59%</td>\n",
       "      <td>-5.842</td>\n",
       "      <td>1.480</td>\n",
       "    </tr>\n",
       "  </tbody>\n",
       "</table>\n",
       "<p>5 rows × 73 columns</p>\n",
       "</div>"
      ],
      "text/plain": [
       "  PERMNO_r      DATE_r   CAPEI     bm     evm  pe_op_basic  pe_op_dil  pe_exi  \\\n",
       "0    10107  31/01/2006  33.861  0.176  15.245       23.074     23.264  23.856   \n",
       "1    10107  28/02/2006  31.756  0.163  14.951       21.496     21.846  22.392   \n",
       "2    10107  31/03/2006  31.820  0.163  14.951       21.768     22.122  22.675   \n",
       "3    10107  30/04/2006  28.176  0.163  14.951       19.320     19.634  20.125   \n",
       "4    10107  31/05/2006  25.921  0.151  15.120       17.695     17.835  17.976   \n",
       "\n",
       "   pe_inc     ps       ...        sale_nwc  rd_sale  adv_sale  staff_sale  \\\n",
       "0  23.856  7.211       ...           1.296    0.151     0.025         0.0   \n",
       "1  22.392  6.713       ...           1.323    0.151     0.025         0.0   \n",
       "2  22.675  6.727       ...           1.323    0.151     0.025         0.0   \n",
       "3  20.125  5.957       ...           1.323    0.151     0.025         0.0   \n",
       "4  17.976  5.419       ...           1.388    0.150     0.025         0.0   \n",
       "\n",
       "   accrual    ptb  PEG_trailing  divyield  PEG_1yrforward  PEG_ltgforward  \n",
       "0    0.055  6.019        11.538     1.14%          15.506           2.109  \n",
       "1    0.036  6.281        10.280     1.34%          14.555           1.838  \n",
       "2    0.036  6.293        10.410     1.32%          14.739           1.842  \n",
       "3    0.036  5.573         9.239     1.49%          13.081           1.666  \n",
       "4    0.024  5.496         0.709     1.59%          -5.842           1.480  \n",
       "\n",
       "[5 rows x 73 columns]"
      ]
     },
     "metadata": {},
     "output_type": "display_data"
    }
   ],
   "source": [
    "# Import financial ratios (downloaded from OLAT)\n",
    "ratios_all = pd.read_csv('Data/Ratios.csv', sep = ',', converters = {'permno': str})\n",
    "\n",
    "# Rename columns in ratios file\n",
    "ratios_all.rename(columns = {'permno': 'PERMNO_r', 'public_date': 'DATE_r'}, inplace = True)\n",
    "\n",
    "# REMOVE DATA THAT IS (PBLY) NOT NEEDED\n",
    "ratios_all = ratios_all.drop(['adate', 'qdate'], axis = 1)\n",
    "\n",
    "display(ratios_all.head())"
   ]
  },
  {
   "cell_type": "markdown",
   "metadata": {},
   "source": [
    "# Data preparation"
   ]
  },
  {
   "cell_type": "markdown",
   "metadata": {},
   "source": [
    "### Convert Date and the PERMNO - Code, then rename columns"
   ]
  },
  {
   "cell_type": "code",
   "execution_count": 5,
   "metadata": {},
   "outputs": [
    {
     "name": "stderr",
     "output_type": "stream",
     "text": [
      "/home/andy/anaconda3/lib/python3.6/site-packages/ipykernel_launcher.py:8: FutureWarning: convert_objects is deprecated.  To re-infer data dtypes for object columns, use Series.infer_objects()\n",
      "For all other conversions use the data-type specific converters pd.to_datetime, pd.to_timedelta and pd.to_numeric.\n",
      "  \n"
     ]
    }
   ],
   "source": [
    "### DATE\n",
    "# set date as datetime64\n",
    "wharton['DATE_w'] = pd.to_datetime(wharton['DATE_w']).dt.date.astype('datetime64[ns]')\n",
    "ratios_all['DATE_r'] = pd.to_datetime(ratios_all['DATE_r']).dt.date.astype('datetime64[ns]')\n",
    "\n",
    "### PERMNO\n",
    "# set PERMNO column as integer (int64) for ratios_all, because its type 'O'\n",
    "ratios_all['PERMNO_r'] = ratios_all['PERMNO_r'].convert_objects(convert_numeric = True)\n",
    "\n",
    "### RENAME COLUMNS AND SET PERMNO AND DATE AS INDEX\n",
    "wharton.rename(columns = {'PERMNO_w': 'PERMNO', 'DATE_w': 'DATE'}, inplace = True)\n",
    "ratios_all.rename(columns = {'PERMNO_r': 'PERMNO', 'DATE_r': 'DATE'}, inplace = True)\n"
   ]
  },
  {
   "cell_type": "markdown",
   "metadata": {},
   "source": [
    "### Calculate Returns for each Company (PERMNO-group)"
   ]
  },
  {
   "cell_type": "code",
   "execution_count": 6,
   "metadata": {},
   "outputs": [
    {
     "name": "stderr",
     "output_type": "stream",
     "text": [
      "/home/andy/anaconda3/lib/python3.6/site-packages/ipykernel_launcher.py:8: SettingWithCopyWarning: \n",
      "A value is trying to be set on a copy of a slice from a DataFrame.\n",
      "Try using .loc[row_indexer,col_indexer] = value instead\n",
      "\n",
      "See the caveats in the documentation: http://pandas.pydata.org/pandas-docs/stable/indexing.html#indexing-view-versus-copy\n",
      "  \n"
     ]
    },
    {
     "data": {
      "text/plain": [
       "0         NaN\n",
       "1   -0.046537\n",
       "2    0.012574\n",
       "3   -0.119300\n",
       "4   -0.064125\n",
       "Name: PRC_RET, dtype: float64"
      ]
     },
     "metadata": {},
     "output_type": "display_data"
    }
   ],
   "source": [
    "# make empty dataframe\n",
    "grouped_by_permno = pd.DataFrame()\n",
    "\n",
    "# Now follows a typical split-change-merge pattern to calculate the values for each PERMNO\n",
    "# For each permno in df, do:\n",
    "for df_key in wharton.groupby('PERMNO').groups:\n",
    "    permno_group = wharton.groupby('PERMNO').get_group(df_key)\n",
    "    permno_group['PRC_RET'] = np.log(permno_group['PRC']/ permno_group['PRC'].shift(1))\n",
    "    grouped_by_permno = pd.concat([grouped_by_permno, permno_group])\n",
    "wharton = grouped_by_permno\n",
    "\n",
    "# Delete unused variables\n",
    "del df_key, permno_group, grouped_by_permno\n",
    "\n",
    "display(wharton['PRC_RET'].head())"
   ]
  },
  {
   "cell_type": "markdown",
   "metadata": {},
   "source": [
    "### Convert calculated returns to movement"
   ]
  },
  {
   "cell_type": "code",
   "execution_count": 7,
   "metadata": {},
   "outputs": [
    {
     "data": {
      "text/plain": [
       "0   -1\n",
       "1    0\n",
       "2    1\n",
       "3    0\n",
       "4    0\n",
       "Name: PRC_MOV, dtype: int64"
      ]
     },
     "metadata": {},
     "output_type": "display_data"
    }
   ],
   "source": [
    "### Set 0, 1 for PRC_RET\n",
    "def set_mov(mydata):\n",
    "    if mydata['PRC_RET'] > 0:\n",
    "        return 'UP'\n",
    "    elif mydata['PRC_RET'] < 0:\n",
    "        return 'DOWN'\n",
    "    elif mydata['PRC_RET'] == 0:\n",
    "        return 'UP'\n",
    "\n",
    "wharton = wharton.assign(MOVEMENT = wharton.apply(set_mov, axis = 1))\n",
    "wharton['PRC_MOV'] = wharton['MOVEMENT'].factorize()[0]\n",
    "wharton = wharton.drop('MOVEMENT', axis =1)\n",
    "\n",
    "display(wharton.PRC_MOV.head())"
   ]
  },
  {
   "cell_type": "markdown",
   "metadata": {},
   "source": [
    "### Set all dates to first day of month"
   ]
  },
  {
   "cell_type": "code",
   "execution_count": 8,
   "metadata": {},
   "outputs": [],
   "source": [
    "# Because wharton and ratios dataset have sometimes differing \"end\" dates of month\n",
    "wharton['DATE'] = wharton['DATE'].apply(lambda dt: dt.replace(day=1))\n",
    "ratios_all['DATE'] = ratios_all['DATE'].apply(lambda dt: dt.replace(day=1))\n"
   ]
  },
  {
   "cell_type": "markdown",
   "metadata": {},
   "source": [
    "## Join the two prepared datasets (outer join)"
   ]
  },
  {
   "cell_type": "code",
   "execution_count": 9,
   "metadata": {},
   "outputs": [
    {
     "data": {
      "text/html": [
       "<div>\n",
       "<style scoped>\n",
       "    .dataframe tbody tr th:only-of-type {\n",
       "        vertical-align: middle;\n",
       "    }\n",
       "\n",
       "    .dataframe tbody tr th {\n",
       "        vertical-align: top;\n",
       "    }\n",
       "\n",
       "    .dataframe thead th {\n",
       "        text-align: right;\n",
       "    }\n",
       "</style>\n",
       "<table border=\"1\" class=\"dataframe\">\n",
       "  <thead>\n",
       "    <tr style=\"text-align: right;\">\n",
       "      <th></th>\n",
       "      <th>PERMNO</th>\n",
       "      <th>DATE</th>\n",
       "      <th>NAICS</th>\n",
       "      <th>BIDLO</th>\n",
       "      <th>ASKHI</th>\n",
       "      <th>PRC</th>\n",
       "      <th>VOL</th>\n",
       "      <th>BID</th>\n",
       "      <th>ASK</th>\n",
       "      <th>SHROUT</th>\n",
       "      <th>...</th>\n",
       "      <th>sale_nwc</th>\n",
       "      <th>rd_sale</th>\n",
       "      <th>adv_sale</th>\n",
       "      <th>staff_sale</th>\n",
       "      <th>accrual</th>\n",
       "      <th>ptb</th>\n",
       "      <th>PEG_trailing</th>\n",
       "      <th>divyield</th>\n",
       "      <th>PEG_1yrforward</th>\n",
       "      <th>PEG_ltgforward</th>\n",
       "    </tr>\n",
       "  </thead>\n",
       "  <tbody>\n",
       "    <tr>\n",
       "      <th>0</th>\n",
       "      <td>10107</td>\n",
       "      <td>2006-01-01</td>\n",
       "      <td>511210.0</td>\n",
       "      <td>26.28</td>\n",
       "      <td>28.15</td>\n",
       "      <td>28.15</td>\n",
       "      <td>13948013.0</td>\n",
       "      <td>28.15</td>\n",
       "      <td>28.13</td>\n",
       "      <td>10333369.0</td>\n",
       "      <td>...</td>\n",
       "      <td>1.296</td>\n",
       "      <td>0.151</td>\n",
       "      <td>0.025</td>\n",
       "      <td>0.0</td>\n",
       "      <td>0.055</td>\n",
       "      <td>6.019</td>\n",
       "      <td>11.538</td>\n",
       "      <td>1.14%</td>\n",
       "      <td>15.506</td>\n",
       "      <td>2.109</td>\n",
       "    </tr>\n",
       "    <tr>\n",
       "      <th>1</th>\n",
       "      <td>10107</td>\n",
       "      <td>2006-02-01</td>\n",
       "      <td>511210.0</td>\n",
       "      <td>26.39</td>\n",
       "      <td>28.04</td>\n",
       "      <td>26.87</td>\n",
       "      <td>11088149.0</td>\n",
       "      <td>26.87</td>\n",
       "      <td>26.88</td>\n",
       "      <td>10333369.0</td>\n",
       "      <td>...</td>\n",
       "      <td>1.323</td>\n",
       "      <td>0.151</td>\n",
       "      <td>0.025</td>\n",
       "      <td>0.0</td>\n",
       "      <td>0.036</td>\n",
       "      <td>6.281</td>\n",
       "      <td>10.280</td>\n",
       "      <td>1.34%</td>\n",
       "      <td>14.555</td>\n",
       "      <td>1.838</td>\n",
       "    </tr>\n",
       "    <tr>\n",
       "      <th>2</th>\n",
       "      <td>10107</td>\n",
       "      <td>2006-03-01</td>\n",
       "      <td>511210.0</td>\n",
       "      <td>26.85</td>\n",
       "      <td>27.89</td>\n",
       "      <td>27.21</td>\n",
       "      <td>14514337.0</td>\n",
       "      <td>27.24</td>\n",
       "      <td>27.24</td>\n",
       "      <td>10225000.0</td>\n",
       "      <td>...</td>\n",
       "      <td>1.323</td>\n",
       "      <td>0.151</td>\n",
       "      <td>0.025</td>\n",
       "      <td>0.0</td>\n",
       "      <td>0.036</td>\n",
       "      <td>6.293</td>\n",
       "      <td>10.410</td>\n",
       "      <td>1.32%</td>\n",
       "      <td>14.739</td>\n",
       "      <td>1.842</td>\n",
       "    </tr>\n",
       "    <tr>\n",
       "      <th>3</th>\n",
       "      <td>10107</td>\n",
       "      <td>2006-04-01</td>\n",
       "      <td>511210.0</td>\n",
       "      <td>24.15</td>\n",
       "      <td>27.74</td>\n",
       "      <td>24.15</td>\n",
       "      <td>14689919.0</td>\n",
       "      <td>24.16</td>\n",
       "      <td>24.16</td>\n",
       "      <td>10201203.0</td>\n",
       "      <td>...</td>\n",
       "      <td>1.323</td>\n",
       "      <td>0.151</td>\n",
       "      <td>0.025</td>\n",
       "      <td>0.0</td>\n",
       "      <td>0.036</td>\n",
       "      <td>5.573</td>\n",
       "      <td>9.239</td>\n",
       "      <td>1.49%</td>\n",
       "      <td>13.081</td>\n",
       "      <td>1.666</td>\n",
       "    </tr>\n",
       "    <tr>\n",
       "      <th>4</th>\n",
       "      <td>10107</td>\n",
       "      <td>2006-05-01</td>\n",
       "      <td>511210.0</td>\n",
       "      <td>22.56</td>\n",
       "      <td>24.29</td>\n",
       "      <td>22.65</td>\n",
       "      <td>23651189.0</td>\n",
       "      <td>22.70</td>\n",
       "      <td>22.70</td>\n",
       "      <td>10201203.0</td>\n",
       "      <td>...</td>\n",
       "      <td>1.388</td>\n",
       "      <td>0.150</td>\n",
       "      <td>0.025</td>\n",
       "      <td>0.0</td>\n",
       "      <td>0.024</td>\n",
       "      <td>5.496</td>\n",
       "      <td>0.709</td>\n",
       "      <td>1.59%</td>\n",
       "      <td>-5.842</td>\n",
       "      <td>1.480</td>\n",
       "    </tr>\n",
       "  </tbody>\n",
       "</table>\n",
       "<p>5 rows × 92 columns</p>\n",
       "</div>"
      ],
      "text/plain": [
       "   PERMNO       DATE     NAICS  BIDLO  ASKHI    PRC         VOL    BID    ASK  \\\n",
       "0   10107 2006-01-01  511210.0  26.28  28.15  28.15  13948013.0  28.15  28.13   \n",
       "1   10107 2006-02-01  511210.0  26.39  28.04  26.87  11088149.0  26.87  26.88   \n",
       "2   10107 2006-03-01  511210.0  26.85  27.89  27.21  14514337.0  27.24  27.24   \n",
       "3   10107 2006-04-01  511210.0  24.15  27.74  24.15  14689919.0  24.16  24.16   \n",
       "4   10107 2006-05-01  511210.0  22.56  24.29  22.65  23651189.0  22.70  22.70   \n",
       "\n",
       "       SHROUT       ...        sale_nwc  rd_sale  adv_sale  staff_sale  \\\n",
       "0  10333369.0       ...           1.296    0.151     0.025         0.0   \n",
       "1  10333369.0       ...           1.323    0.151     0.025         0.0   \n",
       "2  10225000.0       ...           1.323    0.151     0.025         0.0   \n",
       "3  10201203.0       ...           1.323    0.151     0.025         0.0   \n",
       "4  10201203.0       ...           1.388    0.150     0.025         0.0   \n",
       "\n",
       "   accrual    ptb  PEG_trailing  divyield  PEG_1yrforward  PEG_ltgforward  \n",
       "0    0.055  6.019        11.538     1.14%          15.506           2.109  \n",
       "1    0.036  6.281        10.280     1.34%          14.555           1.838  \n",
       "2    0.036  6.293        10.410     1.32%          14.739           1.842  \n",
       "3    0.036  5.573         9.239     1.49%          13.081           1.666  \n",
       "4    0.024  5.496         0.709     1.59%          -5.842           1.480  \n",
       "\n",
       "[5 rows x 92 columns]"
      ]
     },
     "metadata": {},
     "output_type": "display_data"
    }
   ],
   "source": [
    "# Set index\n",
    "wharton = wharton.set_index(['PERMNO', 'DATE'])\n",
    "ratios_all = ratios_all.set_index(['PERMNO', 'DATE'])\n",
    "\n",
    "# join datasets\n",
    "joined_dataset = wharton.join(ratios_all, how = 'outer')\n",
    "\n",
    "# reset index\n",
    "joined_dataset = joined_dataset.reset_index()\n",
    "\n",
    "display(joined_dataset.head())\n",
    "\n"
   ]
  },
  {
   "cell_type": "markdown",
   "metadata": {},
   "source": [
    "### Extract all rows of each PERMNO-Group except for first one (because it is Nan)"
   ]
  },
  {
   "cell_type": "code",
   "execution_count": 10,
   "metadata": {},
   "outputs": [
    {
     "data": {
      "text/plain": [
       "1   -0.046537\n",
       "2    0.012574\n",
       "3   -0.119300\n",
       "4   -0.064125\n",
       "5    0.028294\n",
       "Name: PRC_RET, dtype: float64"
      ]
     },
     "metadata": {},
     "output_type": "display_data"
    }
   ],
   "source": [
    "# Prepare empty dataframe\n",
    "grouped_by_permno = pd.DataFrame()\n",
    "\n",
    "# Group by PERMNO-Code and then remove first (0) row because it is nan in every PRC_RET group\n",
    "for df_key in joined_dataset.groupby('PERMNO').groups:\n",
    "    permno_group = joined_dataset.groupby('PERMNO').get_group(df_key)\n",
    "    permno_group = permno_group[1:]\n",
    "    grouped_by_permno = pd.concat([grouped_by_permno, permno_group])\n",
    "joined_dataset = grouped_by_permno\n",
    "\n",
    "# Delete unused variables\n",
    "del df_key, permno_group, grouped_by_permno\n",
    "\n",
    "display(joined_dataset['PRC_RET'].head())"
   ]
  },
  {
   "cell_type": "markdown",
   "metadata": {},
   "source": [
    "### Prepare column \"divyield\""
   ]
  },
  {
   "cell_type": "code",
   "execution_count": 11,
   "metadata": {},
   "outputs": [
    {
     "data": {
      "text/plain": [
       "1    1.34%\n",
       "2    1.32%\n",
       "3    1.49%\n",
       "4    1.59%\n",
       "5    1.55%\n",
       "Name: divyield, dtype: object"
      ]
     },
     "metadata": {},
     "output_type": "display_data"
    },
    {
     "data": {
      "text/plain": [
       "1    0.0134\n",
       "2    0.0132\n",
       "3    0.0149\n",
       "4    0.0159\n",
       "5    0.0155\n",
       "Name: divyield, dtype: float64"
      ]
     },
     "metadata": {},
     "output_type": "display_data"
    }
   ],
   "source": [
    "display(joined_dataset['divyield'].head())\n",
    "\n",
    "# Remove percentages in row \"divyield\" and divide with 100 (so its decimal percentage) with string split\n",
    "joined_dataset['divyield'] = joined_dataset['divyield'].str.rstrip('%').astype('float')/100\n",
    "\n",
    "display(joined_dataset['divyield'].head())\n"
   ]
  },
  {
   "cell_type": "markdown",
   "metadata": {},
   "source": [
    "### Prepare Response Column with lagged Returns"
   ]
  },
  {
   "cell_type": "code",
   "execution_count": 12,
   "metadata": {},
   "outputs": [
    {
     "name": "stderr",
     "output_type": "stream",
     "text": [
      "/home/andy/anaconda3/lib/python3.6/site-packages/ipykernel_launcher.py:8: SettingWithCopyWarning: \n",
      "A value is trying to be set on a copy of a slice from a DataFrame.\n",
      "Try using .loc[row_indexer,col_indexer] = value instead\n",
      "\n",
      "See the caveats in the documentation: http://pandas.pydata.org/pandas-docs/stable/indexing.html#indexing-view-versus-copy\n",
      "  \n"
     ]
    },
    {
     "data": {
      "text/plain": [
       "1    1.0\n",
       "2    0.0\n",
       "3    0.0\n",
       "4    1.0\n",
       "5    1.0\n",
       "Name: NEXT_DAY_PREDICTION, dtype: float64"
      ]
     },
     "metadata": {},
     "output_type": "display_data"
    }
   ],
   "source": [
    "# New Column with lagged movement of prices, because we want to have lagged prices as response vector later\n",
    "# because we want to forecast prices of tomorrow, not of today with our model\n",
    "joined_dataset['NEXT_DAY_PREDICTION'] = joined_dataset['PRC_MOV']\n",
    "grouped_by_permno = pd.DataFrame()\n",
    "\n",
    "for df_key in joined_dataset.groupby('PERMNO').groups:\n",
    "    permno_group = joined_dataset.groupby('PERMNO').get_group(df_key)\n",
    "    permno_group['NEXT_DAY_PREDICTION'] = permno_group['NEXT_DAY_PREDICTION'].shift(-1)\n",
    "    permno_group = permno_group[pd.notnull(permno_group['NEXT_DAY_PREDICTION'])]\n",
    "    grouped_by_permno = pd.concat([grouped_by_permno, permno_group])\n",
    "joined_dataset = grouped_by_permno\n",
    "\n",
    "# Delete unused variables\n",
    "del df_key, permno_group, grouped_by_permno\n",
    "\n",
    "display(joined_dataset['NEXT_DAY_PREDICTION'].head())"
   ]
  },
  {
   "cell_type": "markdown",
   "metadata": {},
   "source": [
    "### Change Datatype of \"Date\""
   ]
  },
  {
   "cell_type": "code",
   "execution_count": 13,
   "metadata": {},
   "outputs": [],
   "source": [
    "# Make date numeric because RF can not use otherwise\n",
    "joined_dataset['DATE'] = joined_dataset['DATE'].astype('int64')\n"
   ]
  },
  {
   "cell_type": "markdown",
   "metadata": {},
   "source": [
    "# Random Forest"
   ]
  },
  {
   "cell_type": "markdown",
   "metadata": {},
   "source": [
    "#### -----------------------------------------------------------------------------------------------------------------------------------------------------------------------------------------\n",
    "### 1. Run Forest without removing Features below\n",
    "### 2. Remove Features that are \"useless\"\n",
    "### 3. Run the Forest again and see the score changing depending on what columns are removed\n",
    "#### -----------------------------------------------------------------------------------------------------------------------------------------------------------------------------------------\n",
    "\n",
    "\n",
    "\n",
    "####   \n"
   ]
  },
  {
   "cell_type": "markdown",
   "metadata": {},
   "source": [
    "### Remove Variables found \"unnecessary\" in the Random Forest Analysis"
   ]
  },
  {
   "cell_type": "code",
   "execution_count": 14,
   "metadata": {},
   "outputs": [
    {
     "data": {
      "text/plain": [
       "73899"
      ]
     },
     "metadata": {},
     "output_type": "display_data"
    }
   ],
   "source": [
    "# Remove a lot of variables that were foud useless in the RF process\n",
    "joined_dataset = joined_dataset.drop(['debt_at', 'cash_conversion', 'at_turn', 'adv_sale', 'rect_turn',\n",
    "       'de_ratio', 'divyield', 'pretret_earnat', 'gpm', 'sale_nwc',\n",
    "       'pretret_noa', 'npm', 'intcov_ratio', 'efftax', 'roe', 'roa', 'PRC_MOV',\n",
    "       'sale_invcap', 'debt_ebitda', 'short_debt', 'debt_capital', 'NAICS',\n",
    "       'ocf_lct', 'int_totdebt', 'PERMNO', 'totdebt_invcap', 'equity_invcap',\n",
    "       'lt_debt', 'staff_sale', 'cash_debt', 'CFACPR', 'dltt_be','BID', 'pcf', 'SHROUT', 'ALTPRC', 'GProf', 'pe_op_dil', 'cfm',\n",
    "       'accrual', 'bm', 'lt_ppent', 'evm', 'ASK', 'curr_debt', 'int_debt',\n",
    "       'quick_ratio', 'inv_turn', 'roce', 'ASKHI', 'opmbd', 'ptpm',\n",
    "       'sale_equity', 'fcf_ocf', 'capital_ratio', 'aftret_eq', 'cash_lt',\n",
    "       'cash_ratio', 'pay_turn', 'curr_ratio', 'rect_act', 'opmad',\n",
    "       'debt_invcap', 'profit_lct', 'invt_act', 'intcov', 'aftret_invcapx',\n",
    "       'debt_assets', 'aftret_equity', 'SPREAD', 'rd_sale', 'CFACSHR'], axis = 1)\n",
    "\n",
    "display(joined_dataset.size)"
   ]
  },
  {
   "cell_type": "markdown",
   "metadata": {},
   "source": [
    "### Fill missing Values"
   ]
  },
  {
   "cell_type": "code",
   "execution_count": 15,
   "metadata": {},
   "outputs": [],
   "source": [
    "### Fill missing value with sklearn IMPUTER (fills with mean)\n",
    "imp = Imputer(missing_values=np.nan, strategy = 'mean' , axis=0)\n",
    "imputed_dataset = pd.DataFrame(imp.fit_transform(joined_dataset))\n",
    "imputed_dataset.columns = joined_dataset.columns\n",
    "imputed_dataset.index = joined_dataset.index\n"
   ]
  },
  {
   "cell_type": "markdown",
   "metadata": {},
   "source": [
    "### Feature Matrix and Response Vector "
   ]
  },
  {
   "cell_type": "code",
   "execution_count": 16,
   "metadata": {},
   "outputs": [
    {
     "data": {
      "text/html": [
       "<div>\n",
       "<style scoped>\n",
       "    .dataframe tbody tr th:only-of-type {\n",
       "        vertical-align: middle;\n",
       "    }\n",
       "\n",
       "    .dataframe tbody tr th {\n",
       "        vertical-align: top;\n",
       "    }\n",
       "\n",
       "    .dataframe thead th {\n",
       "        text-align: right;\n",
       "    }\n",
       "</style>\n",
       "<table border=\"1\" class=\"dataframe\">\n",
       "  <thead>\n",
       "    <tr style=\"text-align: right;\">\n",
       "      <th></th>\n",
       "      <th>DATE</th>\n",
       "      <th>BIDLO</th>\n",
       "      <th>PRC</th>\n",
       "      <th>VOL</th>\n",
       "      <th>vwretd</th>\n",
       "      <th>vwretx</th>\n",
       "      <th>ewretd</th>\n",
       "      <th>ewretx</th>\n",
       "      <th>sprtrn</th>\n",
       "      <th>PRC_RET</th>\n",
       "      <th>CAPEI</th>\n",
       "      <th>pe_op_basic</th>\n",
       "      <th>pe_exi</th>\n",
       "      <th>pe_inc</th>\n",
       "      <th>ps</th>\n",
       "      <th>dpr</th>\n",
       "      <th>ptb</th>\n",
       "      <th>PEG_trailing</th>\n",
       "      <th>PEG_1yrforward</th>\n",
       "      <th>PEG_ltgforward</th>\n",
       "    </tr>\n",
       "  </thead>\n",
       "  <tbody>\n",
       "    <tr>\n",
       "      <th>1</th>\n",
       "      <td>1.138752e+18</td>\n",
       "      <td>26.39</td>\n",
       "      <td>26.87</td>\n",
       "      <td>11088149.0</td>\n",
       "      <td>-0.001637</td>\n",
       "      <td>-0.003552</td>\n",
       "      <td>0.004836</td>\n",
       "      <td>0.003476</td>\n",
       "      <td>0.000453</td>\n",
       "      <td>-0.046537</td>\n",
       "      <td>31.756</td>\n",
       "      <td>21.496</td>\n",
       "      <td>22.392</td>\n",
       "      <td>22.392</td>\n",
       "      <td>6.713</td>\n",
       "      <td>0.264</td>\n",
       "      <td>6.281</td>\n",
       "      <td>10.280</td>\n",
       "      <td>14.555</td>\n",
       "      <td>1.838</td>\n",
       "    </tr>\n",
       "    <tr>\n",
       "      <th>2</th>\n",
       "      <td>1.141171e+18</td>\n",
       "      <td>26.85</td>\n",
       "      <td>27.21</td>\n",
       "      <td>14514337.0</td>\n",
       "      <td>0.019053</td>\n",
       "      <td>0.017585</td>\n",
       "      <td>0.036978</td>\n",
       "      <td>0.035232</td>\n",
       "      <td>0.011065</td>\n",
       "      <td>0.012574</td>\n",
       "      <td>31.820</td>\n",
       "      <td>21.768</td>\n",
       "      <td>22.675</td>\n",
       "      <td>22.675</td>\n",
       "      <td>6.727</td>\n",
       "      <td>0.264</td>\n",
       "      <td>6.293</td>\n",
       "      <td>10.410</td>\n",
       "      <td>14.739</td>\n",
       "      <td>1.842</td>\n",
       "    </tr>\n",
       "    <tr>\n",
       "      <th>3</th>\n",
       "      <td>1.143850e+18</td>\n",
       "      <td>24.15</td>\n",
       "      <td>24.15</td>\n",
       "      <td>14689919.0</td>\n",
       "      <td>0.012965</td>\n",
       "      <td>0.011494</td>\n",
       "      <td>0.009791</td>\n",
       "      <td>0.008497</td>\n",
       "      <td>0.012187</td>\n",
       "      <td>-0.119300</td>\n",
       "      <td>28.176</td>\n",
       "      <td>19.320</td>\n",
       "      <td>20.125</td>\n",
       "      <td>20.125</td>\n",
       "      <td>5.957</td>\n",
       "      <td>0.264</td>\n",
       "      <td>5.573</td>\n",
       "      <td>9.239</td>\n",
       "      <td>13.081</td>\n",
       "      <td>1.666</td>\n",
       "    </tr>\n",
       "    <tr>\n",
       "      <th>4</th>\n",
       "      <td>1.146442e+18</td>\n",
       "      <td>22.56</td>\n",
       "      <td>22.65</td>\n",
       "      <td>23651189.0</td>\n",
       "      <td>-0.031045</td>\n",
       "      <td>-0.033025</td>\n",
       "      <td>-0.044331</td>\n",
       "      <td>-0.045982</td>\n",
       "      <td>-0.030917</td>\n",
       "      <td>-0.064125</td>\n",
       "      <td>25.921</td>\n",
       "      <td>17.695</td>\n",
       "      <td>17.976</td>\n",
       "      <td>17.976</td>\n",
       "      <td>5.419</td>\n",
       "      <td>0.259</td>\n",
       "      <td>5.496</td>\n",
       "      <td>0.709</td>\n",
       "      <td>-5.842</td>\n",
       "      <td>1.480</td>\n",
       "    </tr>\n",
       "    <tr>\n",
       "      <th>5</th>\n",
       "      <td>1.149120e+18</td>\n",
       "      <td>21.51</td>\n",
       "      <td>23.30</td>\n",
       "      <td>19980809.0</td>\n",
       "      <td>-0.000386</td>\n",
       "      <td>-0.001881</td>\n",
       "      <td>-0.008479</td>\n",
       "      <td>-0.010474</td>\n",
       "      <td>0.000087</td>\n",
       "      <td>0.028294</td>\n",
       "      <td>26.301</td>\n",
       "      <td>18.203</td>\n",
       "      <td>18.492</td>\n",
       "      <td>18.492</td>\n",
       "      <td>5.498</td>\n",
       "      <td>0.259</td>\n",
       "      <td>5.577</td>\n",
       "      <td>0.730</td>\n",
       "      <td>-6.010</td>\n",
       "      <td>1.522</td>\n",
       "    </tr>\n",
       "  </tbody>\n",
       "</table>\n",
       "</div>"
      ],
      "text/plain": [
       "           DATE  BIDLO    PRC         VOL    vwretd    vwretx    ewretd  \\\n",
       "1  1.138752e+18  26.39  26.87  11088149.0 -0.001637 -0.003552  0.004836   \n",
       "2  1.141171e+18  26.85  27.21  14514337.0  0.019053  0.017585  0.036978   \n",
       "3  1.143850e+18  24.15  24.15  14689919.0  0.012965  0.011494  0.009791   \n",
       "4  1.146442e+18  22.56  22.65  23651189.0 -0.031045 -0.033025 -0.044331   \n",
       "5  1.149120e+18  21.51  23.30  19980809.0 -0.000386 -0.001881 -0.008479   \n",
       "\n",
       "     ewretx    sprtrn   PRC_RET   CAPEI  pe_op_basic  pe_exi  pe_inc     ps  \\\n",
       "1  0.003476  0.000453 -0.046537  31.756       21.496  22.392  22.392  6.713   \n",
       "2  0.035232  0.011065  0.012574  31.820       21.768  22.675  22.675  6.727   \n",
       "3  0.008497  0.012187 -0.119300  28.176       19.320  20.125  20.125  5.957   \n",
       "4 -0.045982 -0.030917 -0.064125  25.921       17.695  17.976  17.976  5.419   \n",
       "5 -0.010474  0.000087  0.028294  26.301       18.203  18.492  18.492  5.498   \n",
       "\n",
       "     dpr    ptb  PEG_trailing  PEG_1yrforward  PEG_ltgforward  \n",
       "1  0.264  6.281        10.280          14.555           1.838  \n",
       "2  0.264  6.293        10.410          14.739           1.842  \n",
       "3  0.264  5.573         9.239          13.081           1.666  \n",
       "4  0.259  5.496         0.709          -5.842           1.480  \n",
       "5  0.259  5.577         0.730          -6.010           1.522  "
      ]
     },
     "metadata": {},
     "output_type": "display_data"
    }
   ],
   "source": [
    "# Extract labels of features\n",
    "labels_of_features = imputed_dataset.columns[:-1]\n",
    "\n",
    "# X1 is the feature matrix\n",
    "X1 = imputed_dataset.iloc[:, :-1]\n",
    "display(X1.head())\n"
   ]
  },
  {
   "cell_type": "code",
   "execution_count": 17,
   "metadata": {},
   "outputs": [
    {
     "data": {
      "text/plain": [
       "1    1.0\n",
       "2    0.0\n",
       "3    0.0\n",
       "4    1.0\n",
       "5    1.0\n",
       "Name: NEXT_DAY_PREDICTION, dtype: float64"
      ]
     },
     "metadata": {},
     "output_type": "display_data"
    }
   ],
   "source": [
    "# y1 is the response vector\n",
    "y1 = imputed_dataset.iloc[:, -1]\n",
    "display(y1.head())"
   ]
  },
  {
   "cell_type": "markdown",
   "metadata": {},
   "source": [
    "### Train - / Test - Split"
   ]
  },
  {
   "cell_type": "code",
   "execution_count": 18,
   "metadata": {},
   "outputs": [],
   "source": [
    "# Do the train - test- split\n",
    "X1_train, X1_test, y1_train, y1_test = train_test_split(X1, y1, test_size = 0.2, random_state = 0, stratify = y1)\n"
   ]
  },
  {
   "cell_type": "code",
   "execution_count": 19,
   "metadata": {},
   "outputs": [
    {
     "data": {
      "text/plain": [
       "0.5602131438721136"
      ]
     },
     "metadata": {},
     "output_type": "display_data"
    },
    {
     "data": {
      "text/plain": [
       "0.5610795454545454"
      ]
     },
     "metadata": {},
     "output_type": "display_data"
    }
   ],
   "source": [
    "# Check if there is the approximately same percentage of '1' i both training and test response vector\n",
    "display(y1_train.sum() / y1_train.size)\n",
    "display(y1_test.sum() / y1_test.size)\n"
   ]
  },
  {
   "cell_type": "markdown",
   "metadata": {},
   "source": [
    "### Standardize Variables"
   ]
  },
  {
   "cell_type": "code",
   "execution_count": 21,
   "metadata": {},
   "outputs": [],
   "source": [
    "# Standardization with sklearn StandardScaler\n",
    "standard_scaler = preprocessing.StandardScaler().fit(X1_train)\n",
    "X1_train = standard_scaler.transform(X1_train)\n",
    "X1_test = standard_scaler.transform(X1_test)\n"
   ]
  },
  {
   "cell_type": "markdown",
   "metadata": {},
   "source": [
    "### Feature Selection with Random Forest"
   ]
  },
  {
   "cell_type": "code",
   "execution_count": 23,
   "metadata": {},
   "outputs": [],
   "source": [
    "my_rainy_forest = RandomForestClassifier(random_state = 1)\n",
    "my_rainy_forest.max_depth = 8\n",
    "my_rainy_forest.fit(X1_train, y1_train)\n",
    "\n",
    "# Check features for their importance for the prediction\n",
    "features_importances = my_rainy_forest.feature_importances_\n",
    "\n"
   ]
  },
  {
   "cell_type": "code",
   "execution_count": 25,
   "metadata": {},
   "outputs": [],
   "source": [
    "# sort features in line with their importance for the prediction\n",
    "indices = np.argsort(features_importances)[::-1]\n",
    "\n"
   ]
  },
  {
   "cell_type": "code",
   "execution_count": 26,
   "metadata": {},
   "outputs": [
    {
     "name": "stdout",
     "output_type": "stream",
     "text": [
      " 1 vwretx  0.0973\n",
      " 2 ewretd  0.0914\n",
      " 3 sprtrn  0.0905\n",
      " 4 vwretd  0.0881\n",
      " 5 DATE    0.0786\n",
      " 6 ewretx  0.0698\n",
      " 7 PEG_ltgforward 0.0478\n",
      " 8 BIDLO   0.0433\n",
      " 9 PRC_RET 0.0404\n",
      "10 ptb     0.0380\n",
      "11 PEG_1yrforward 0.0370\n",
      "12 CAPEI   0.0370\n",
      "13 PRC     0.0366\n",
      "14 VOL     0.0348\n",
      "15 ps      0.0316\n"
     ]
    }
   ],
   "source": [
    "# print best 15 features and delete features above and start the RF again\n",
    "i = 0\n",
    "n = 15\n",
    "for i in range(n):\n",
    "    print('{0:2d} {1:7s} {2:6.4f}'.format(i+1, labels_of_features[indices[i]], features_importances[indices[i]]))\n",
    "del i,n"
   ]
  },
  {
   "cell_type": "markdown",
   "metadata": {},
   "source": [
    "### Prediction of Response Vector with Random Forest"
   ]
  },
  {
   "cell_type": "code",
   "execution_count": 34,
   "metadata": {},
   "outputs": [
    {
     "data": {
      "text/plain": [
       "array([1., 0., 1., 1.])"
      ]
     },
     "metadata": {},
     "output_type": "display_data"
    }
   ],
   "source": [
    "# Test prediction of y1 with the test feature matrix: gives the prediction vector\n",
    "prediction1 = my_rainy_forest.predict(X1_test)\n",
    "\n",
    "display(prediction1[1:5])\n",
    "\n"
   ]
  },
  {
   "cell_type": "code",
   "execution_count": 35,
   "metadata": {},
   "outputs": [
    {
     "data": {
      "text/plain": [
       "2890    0.0\n",
       "478     1.0\n",
       "2816    0.0\n",
       "1331    1.0\n",
       "Name: NEXT_DAY_PREDICTION, dtype: float64"
      ]
     },
     "metadata": {},
     "output_type": "display_data"
    }
   ],
   "source": [
    "# For comparison:\n",
    "\n",
    "display(y1_test[1:5])"
   ]
  },
  {
   "cell_type": "markdown",
   "metadata": {},
   "source": [
    "### Assess Results of Prediction"
   ]
  },
  {
   "cell_type": "code",
   "execution_count": 44,
   "metadata": {},
   "outputs": [
    {
     "name": "stdout",
     "output_type": "stream",
     "text": [
      "Ratioof Ones (Test)    =  0.5610795454545454\n",
      "Ratio of Ones (Train)  =  0.5602131438721136\n",
      "Score (Prediction)     =  0.6860795454545454\n"
     ]
    }
   ],
   "source": [
    "# Calculate percentage of of ones in the test response vector\n",
    "y_test_score = print('Ratioof Ones (Test)    =  ' + str(y1_test.sum() / y1_test.size))\n",
    "# Just to be sure the ones are distributed ca.the same in test and train response vector, check this:\n",
    "y_train_score = print('Ratio of Ones (Train)  =  ' + str(y1_train.sum() / y1_train.size))\n",
    "# Calculate precentage of ones predicted with the model\n",
    "prediction_score = print('Score (Prediction)     =  ' + str(prediction1.sum() / prediction1.size))\n"
   ]
  },
  {
   "cell_type": "code",
   "execution_count": 45,
   "metadata": {},
   "outputs": [
    {
     "data": {
      "text/plain": [
       "0.125"
      ]
     },
     "execution_count": 45,
     "metadata": {},
     "output_type": "execute_result"
    }
   ],
   "source": [
    "# Calculate the score surplus above the test-set response vector score\n",
    "(prediction1.sum()/prediction1.size) - (y1_test.sum()/y1_test.size)\n"
   ]
  },
  {
   "cell_type": "markdown",
   "metadata": {},
   "source": [
    "### Cross Validation: tbc"
   ]
  },
  {
   "cell_type": "raw",
   "metadata": {},
   "source": []
  }
 ],
 "metadata": {
  "kernelspec": {
   "display_name": "Python 3",
   "language": "python",
   "name": "python3"
  },
  "language_info": {
   "codemirror_mode": {
    "name": "ipython",
    "version": 3
   },
   "file_extension": ".py",
   "mimetype": "text/x-python",
   "name": "python",
   "nbconvert_exporter": "python",
   "pygments_lexer": "ipython3",
   "version": "3.6.4"
  }
 },
 "nbformat": 4,
 "nbformat_minor": 2
}
