{
 "cells": [
  {
   "cell_type": "markdown",
   "metadata": {},
   "source": [
    "# Introduction to Machine Learning, UZH 2018, Group Project\n",
    "### Group 2: Barbara Capl, Mathias Lüthi, Pamela Matias, Stefanie Rentsch\n",
    "##    \n",
    "###   \n",
    "# 3. Classification/ Prediction \n",
    "# B. with RandomForestClassifier (RF)\n",
    "###   \n",
    "In this section we use the selected features matrices, pre-selected with the RandomForestClassifier in chapter 2 or with PCA in chapter 2i and the response vector that we prepared in chapter 1.  \n",
    "\n",
    "#### We use two different versions (created in chapter 1, features-selected in chapter 2):\n",
    "Version 1: Feature Matrix consists only of the Ratios                                                                        \n",
    "Version 2: Feature Matrix consists of Ratios + dummy variables for seasonality + other market data\n",
    "####  We will do Classification and Prediction with RandomForestClassifier\n"
   ]
  },
  {
   "cell_type": "code",
   "execution_count": 112,
   "metadata": {},
   "outputs": [],
   "source": [
    "# hide unnecessary warnings (\"depreciation\" of packages etc.)\n",
    "import warnings\n",
    "warnings.filterwarnings('ignore')\n",
    "\n",
    "# import packages\n",
    "import numpy as np\n",
    "import pandas as pd\n",
    "import matplotlib.pyplot as plt\n",
    "from sklearn import preprocessing\n",
    "from sklearn.model_selection import train_test_split\n",
    "from sklearn.preprocessing import Imputer\n",
    "from sklearn.ensemble import RandomForestClassifier"
   ]
  },
  {
   "cell_type": "markdown",
   "metadata": {},
   "source": [
    "###   \n",
    "###   \n",
    "## 3.0. SETTINGS"
   ]
  },
  {
   "cell_type": "markdown",
   "metadata": {},
   "source": [
    "### (1) Choose the Dataset Version you want\n",
    "\n",
    "##### Whole Feature Matrix (Features not pre-selected)\n",
    "VERSION = 1; Feature Matrix with only ratios                                  \n",
    "VERSION = 2;  Feature Matrix with ratios + saisonality + other market data\n",
    "\n",
    "##### Reduced Feature Matrix (Features pre-selected)\n",
    "VERSION = 1.1; Reduced Feature Matrix with only ratios                                  \n",
    "VERSION = 2.1;  Reduced Feature Matrix with ratios + saisonality + other market data\n",
    "\n"
   ]
  },
  {
   "cell_type": "code",
   "execution_count": 113,
   "metadata": {},
   "outputs": [],
   "source": [
    "### Chose which dataset version you want the selection of features and the prediction to be based on \n",
    "VERSION = 1\n",
    "\"\"\"\n",
    "INSERT NUMBER 1, 2, 1.1 or 2.1\n",
    "\"\"\"\n",
    "\n",
    "\n",
    "\n",
    "# Defining sel_state variable for easier printing out    \n",
    "if VERSION == 1:\n",
    "    sel_version = 'Based on whole original Dataset with only the Ratios Dataset as predicive Features.'\n",
    "elif VERSION == 2:\n",
    "    sel_version = 'Based on whole original Dataset with Ratios + Seasonality + other Market Data as predictive Features.'\n",
    "elif VERSION == 1.1:\n",
    "    sel_version = 'Based on reduced Dataset with only the Ratios Dataset as predicive Features.'\n",
    "elif VERSION == 2.1:\n",
    "    sel_version = 'Based on reduced Dataset with Ratios + Seasonality + other Market Data as predictive Features.'\n",
    "else: raise ValueError('VERSION must be either 1, 2, 1.1 or 2.1')"
   ]
  },
  {
   "cell_type": "markdown",
   "metadata": {},
   "source": [
    "### (2) If you chose VERSION 1.1. or VERSION 2.1:  (Reduced Feature Matrix)                                                                  \n",
    "### => Choose with which method you want to have the features been pre-selected /reduced\n",
    "\n",
    "##### You have the choice between:\n",
    "mySELECTION  = RF ; Features pre-selected with Random Forest Classifier                                                           \n",
    "mySELECTION = PCA; Features pre-selected with Principal Component Analysis (PCA)                                         \n",
    "\n",
    "##### By Default;\n",
    "If VERSION 1 or VERSION 2 was chosen above: SELECTION = none by Default; no features pre-selected. You don't need to define variable mySELECTION."
   ]
  },
  {
   "cell_type": "code",
   "execution_count": 114,
   "metadata": {},
   "outputs": [
    {
     "name": "stdout",
     "output_type": "stream",
     "text": [
      "You chose SELECTION method No Feature Selection Method available..\n"
     ]
    }
   ],
   "source": [
    "### Choose whether you want the datasets with features selected with RF or PCA or the original file\n",
    "mySELECTION = 'RF'\n",
    "\"\"\"\n",
    "INSERT WISHED METHOD 'RF', 'PCA'\n",
    "\"\"\"\n",
    "\n",
    "\n",
    "\n",
    "# This is the control loop. If something has been chosen wrong, it returns an error with explanation.\n",
    "if VERSION == 1 or VERSION == 2:\n",
    "    SELECTION = 'none'\n",
    "elif VERSION == 1.1 or VERSION == 2.1:\n",
    "    SELECTION = mySELECTION\n",
    "    if mySELECTION is not 'RF' and mySELECTION is not 'PCA':\n",
    "        raise ValueError('Because VERSION '+str(VERSION)+' is chosen, mySELECTION must be set as either RF or PCA.')\n",
    "else: raise ValueError('VERSION must be either 1, 2, 1.1 or 2.1. mySELECTION must be chosen as either RF or PCA.')\n",
    "\n",
    "# Defining of sel_feat (Selected Feature Selection Method) variable and briefing for later.   \n",
    "if SELECTION == 'RF':\n",
    "    sel_feat = 'Random Forest (RF)'\n",
    "    briefing = ('You chose dataset VERSION '+str(VERSION)+' and SELECTION method '+str(SELECTION)+'.'+'\\n'+'Features therefore pre-selected with '+str(sel_feat)+'.')\n",
    "elif SELECTION == 'PCA':\n",
    "    sel_feat = 'Principal Component Analysis (PCA)'\n",
    "    briefing = ('You chose dataset VERSION '+str(VERSION)+' and SELECTION method '+str(SELECTION)+'.'+'\\n'+'Features therefore pre-selected with '+str(sel_feat)+'.')\n",
    "elif SELECTION == 'none':\n",
    "    sel_feat = 'No Feature Selection Method available.'\n",
    "    briefing = ('You chose VERSION '+str(VERSION)+'. This Version has no Feature Selection Method because Feature Matrix is whole, not reduced.'+'\\n'+'SELECTION is therefore \"none\" by Default.')\n",
    "else: raise ValueError('mySELECTION must be chosen as either RF or PCA')\n",
    "print('You chose SELECTION method '+str(sel_feat)+'.')\n",
    "#print(sel_feat)"
   ]
  },
  {
   "cell_type": "markdown",
   "metadata": {},
   "source": [
    "### (3) SUMMARY OF SETTINGS"
   ]
  },
  {
   "cell_type": "code",
   "execution_count": 115,
   "metadata": {},
   "outputs": [
    {
     "name": "stdout",
     "output_type": "stream",
     "text": [
      "You chose VERSION 1. This Version has no Feature Selection Method because Feature Matrix is whole, not reduced.\n",
      "SELECTION is therefore \"none\" by Default. \n",
      "\n",
      "VERSION 1 is Based on whole original Dataset with only the Ratios Dataset as predicive Features. \n",
      "\n",
      "You are now done with the Settings. You can run the whole Code now by Default.\n"
     ]
    }
   ],
   "source": [
    "print(briefing, '\\n')\n",
    "print('VERSION '+str(VERSION)+' is '+str(sel_version),'\\n')\n",
    "print('You are now done with the Settings. You can run the whole Code now by Default.')"
   ]
  },
  {
   "cell_type": "markdown",
   "metadata": {},
   "source": [
    "###  \n",
    "###   \n",
    "## 3.1. Preparation\n",
    "\n",
    "Note: No Standardization needed for RF."
   ]
  },
  {
   "cell_type": "markdown",
   "metadata": {},
   "source": [
    "### 3.1.1. Import the Response Vector and the Feature Matrix"
   ]
  },
  {
   "cell_type": "code",
   "execution_count": 116,
   "metadata": {},
   "outputs": [],
   "source": [
    "####################### NEW COMMENT\n",
    "# In version 1 und 2; ganze Feature matrix und ganzen Response vector rein? ODER gesplittet?\n",
    "# dann müsste in DataPrep split gemacht werden für datenset ohne feature pre-selection\n",
    "# abgespeichert in generated_splits ohne Unterordner\n",
    "# hier eingelesen als X_train und y_train und X_test und y_test\n",
    "#######################\n",
    "\n",
    "\n",
    "### import Data (already splitted to train/test-data and selected features-> bc_randomforest_feature_selection)\n",
    "if VERSION == 1: \n",
    "# features not pre-selected, only ratios\n",
    "    X = pd.read_csv('Data/generated_datasets/features_ratios_1.csv', sep=',', header=0)\n",
    "    y = pd.read_csv('Data/generated_datasets/response_1.csv', sep=',', header=0)\n",
    "elif VERSION == 2: \n",
    "# features not pre-selected, ratios + seasonality + market data\n",
    "    X = pd.read_csv('Data/generated_datasets/features_additional_1.csv', sep=',', header=0)\n",
    "    y = pd.read_csv('Data/generated_datasets/response_1.csv', sep=',', header=0)\n",
    "elif VERSION == 1.1: \n",
    "# features pre-selected, only ratios\n",
    "    if SELECTION == 'RF':\n",
    "        X_train_s = pd.read_csv('Data/generated_splits/features_selected_randomforest/X1_train_f.csv', sep=',', header=0)\n",
    "        X_test_s = pd.read_csv('Data/generated_splits/features_selected_randomforest/X1_test_f.csv', sep=',', header=0)\n",
    "        y_train_s = pd.read_csv('Data/generated_splits/features_selected_randomforest/y1_train_f.csv', sep=',', header=0)\n",
    "        y_test_s = pd.read_csv('Data/generated_splits/features_selected_randomforest/y1_test_f.csv', sep=',', header=0)\n",
    "    elif SELECTION == 'PCA':\n",
    "        X_train_s = pd.read_csv('Data/generated_splits/features_selected_pca/X1_train_p.csv', sep=',', header=0)\n",
    "        X_test_s = pd.read_csv('Data/generated_splits/features_selected_pca/X1_test_p.csv', sep=',', header=0)\n",
    "        y_train_s = pd.read_csv('Data/generated_splits/features_selected_pca/y1_train_p.csv', sep=',', header=0)\n",
    "        y_test_s = pd.read_csv('Data/generated_splits/features_selected_pca/y1_test_p.csv', sep=',', header=0)\n",
    "elif VERSION == 2.1: \n",
    "# features pre-selected, ratios + seasonality + market data\n",
    "    if SELECTION == 'RF':\n",
    "        X_train_s = pd.read_csv('Data/generated_splits/features_selected_randomforest/X2_train_f.csv', sep=',', header=0)\n",
    "        X_test_s = pd.read_csv('Data/generated_splits/features_selected_randomforest/X2_test_f.csv', sep=',', header=0)\n",
    "        y_train_s = pd.read_csv('Data/generated_splits/features_selected_randomforest/y2_train_f.csv', sep=',', header=0)\n",
    "        y_test_s = pd.read_csv('Data/generated_splits/features_selected_randomforest/y2_test_f.csv', sep=',', header=0)\n",
    "    elif SELECTION == 'PCA':\n",
    "        X_train_s = pd.read_csv('Data/generated_splits/features_selected_pca/X2_train_p.csv', sep=',', header=0)\n",
    "        X_test_s = pd.read_csv('Data/generated_splits/features_selected_pca/X2_test_p.csv', sep=',', header=0)\n",
    "        y_train_s = pd.read_csv('Data/generated_splits/features_selected_pca/y2_train_p.csv', sep=',', header=0)\n",
    "        y_test_s = pd.read_csv('Data/generated_splits/features_selected_pca/y2_test_p.csv', sep=',', header=0)\n",
    "else: raise ValueError('VERSION value must be either 1, 2, 1.1 or 2.1, mySELECTION must be chosen as either RF or PCA.')"
   ]
  },
  {
   "cell_type": "markdown",
   "metadata": {},
   "source": [
    "#### Train-Test-split for whole original files. Automatically executed only if VERSION = 1 or 2."
   ]
  },
  {
   "cell_type": "code",
   "execution_count": 117,
   "metadata": {},
   "outputs": [
    {
     "name": "stdout",
     "output_type": "stream",
     "text": [
      "Type of feature_labels = <class 'list'> \n",
      "\n"
     ]
    }
   ],
   "source": [
    "####################### NEW COMMENT\n",
    "# Split could also be already done in Datapreparation file because there we have more space etc.^ maybe\n",
    "# but it can also be made here doesnt matterrr\n",
    "#######################\n",
    "\n",
    "\n",
    "# For VERSION == 1 or 2 -> train-test-split for the importet sets must be done\n",
    "if VERSION == 1 or VERSION == 2:\n",
    "    # import package imputer\n",
    "    from sklearn.preprocessing import Imputer\n",
    "    # # Train/test split, into 20% test size and 80% train size because it is a relatively small dataset\n",
    "    X_train, X_test, y_train, y_test = train_test_split(X, y, test_size=0.2, random_state=0)\n",
    "\n",
    "    # Use a median fill for train\n",
    "    imp = Imputer(missing_values=np.nan, strategy = 'median' , axis=0)\n",
    "    imputed_dataset = pd.DataFrame(imp.fit_transform(X_train))\n",
    "    imputed_dataset.columns = X_train.columns\n",
    "    imputed_dataset.index = X_train.index\n",
    "    X_train = imputed_dataset\n",
    "\n",
    "    # Use a median fill for the test set\n",
    "    imputed_dataset = pd.DataFrame(imp.fit_transform(X_test))\n",
    "    imputed_dataset.columns = X_test.columns\n",
    "    imputed_dataset.index = X_test.index\n",
    "    X_test = imputed_dataset\n",
    "    \n",
    "    # Extract the feature labels\n",
    "    feature_labels = list(X)\n",
    "    print('Type of feature_labels = ' + str(type(feature_labels)), '\\n')\n",
    "    \n",
    "else: print('No Train/Test split needed for chosen VERSION '+str(VERSION)+\n",
    "            '. Loaded Datasets were already pre-splitted and imputed in'+'\\n'+'Feature Selection (Chapter 2).')"
   ]
  },
  {
   "cell_type": "markdown",
   "metadata": {},
   "source": [
    "### 3.1.2. Print out Shape and Form of Feature Matrix and Response Vector"
   ]
  },
  {
   "cell_type": "markdown",
   "metadata": {},
   "source": [
    "### Train Set"
   ]
  },
  {
   "cell_type": "code",
   "execution_count": 118,
   "metadata": {},
   "outputs": [
    {
     "name": "stdout",
     "output_type": "stream",
     "text": [
      "Features Selected with No Feature Selection Method available..\n",
      "Version 1; Based on whole original Dataset with only the Ratios Dataset as predicive Features. \n",
      "\n",
      "Shape (rows, columns) of Feature Matrix X (Train) = (2836, 71)\n",
      "\n",
      "Feature Matrix X (Train) with no Feature pre-Selection:\n"
     ]
    },
    {
     "data": {
      "text/html": [
       "<div>\n",
       "<style scoped>\n",
       "    .dataframe tbody tr th:only-of-type {\n",
       "        vertical-align: middle;\n",
       "    }\n",
       "\n",
       "    .dataframe tbody tr th {\n",
       "        vertical-align: top;\n",
       "    }\n",
       "\n",
       "    .dataframe thead th {\n",
       "        text-align: right;\n",
       "    }\n",
       "</style>\n",
       "<table border=\"1\" class=\"dataframe\">\n",
       "  <thead>\n",
       "    <tr style=\"text-align: right;\">\n",
       "      <th></th>\n",
       "      <th>CAPEI</th>\n",
       "      <th>bm</th>\n",
       "      <th>evm</th>\n",
       "      <th>pe_op_basic</th>\n",
       "      <th>pe_op_dil</th>\n",
       "      <th>pe_exi</th>\n",
       "      <th>pe_inc</th>\n",
       "      <th>ps</th>\n",
       "      <th>pcf</th>\n",
       "      <th>dpr</th>\n",
       "      <th>...</th>\n",
       "      <th>sale_nwc</th>\n",
       "      <th>rd_sale</th>\n",
       "      <th>adv_sale</th>\n",
       "      <th>staff_sale</th>\n",
       "      <th>accrual</th>\n",
       "      <th>ptb</th>\n",
       "      <th>PEG_trailing</th>\n",
       "      <th>divyield</th>\n",
       "      <th>PEG_1yrforward</th>\n",
       "      <th>PEG_ltgforward</th>\n",
       "    </tr>\n",
       "  </thead>\n",
       "  <tbody>\n",
       "    <tr>\n",
       "      <th>1530</th>\n",
       "      <td>20.773</td>\n",
       "      <td>0.547</td>\n",
       "      <td>10.644</td>\n",
       "      <td>15.468</td>\n",
       "      <td>15.633</td>\n",
       "      <td>18.484</td>\n",
       "      <td>18.484</td>\n",
       "      <td>3.703</td>\n",
       "      <td>9.957</td>\n",
       "      <td>0.623</td>\n",
       "      <td>...</td>\n",
       "      <td>1.4240</td>\n",
       "      <td>0.136</td>\n",
       "      <td>0.058</td>\n",
       "      <td>0.000</td>\n",
       "      <td>0.048</td>\n",
       "      <td>1.811</td>\n",
       "      <td>1.181</td>\n",
       "      <td>0.0354</td>\n",
       "      <td>13.678</td>\n",
       "      <td>5.963</td>\n",
       "    </tr>\n",
       "    <tr>\n",
       "      <th>1397</th>\n",
       "      <td>25.089</td>\n",
       "      <td>0.461</td>\n",
       "      <td>9.246</td>\n",
       "      <td>17.203</td>\n",
       "      <td>17.296</td>\n",
       "      <td>39.232</td>\n",
       "      <td>39.232</td>\n",
       "      <td>0.689</td>\n",
       "      <td>8.509</td>\n",
       "      <td>2.175</td>\n",
       "      <td>...</td>\n",
       "      <td>4.9910</td>\n",
       "      <td>0.031</td>\n",
       "      <td>0.000</td>\n",
       "      <td>0.000</td>\n",
       "      <td>0.047</td>\n",
       "      <td>2.189</td>\n",
       "      <td>0.668</td>\n",
       "      <td>0.0398</td>\n",
       "      <td>1.521</td>\n",
       "      <td>5.702</td>\n",
       "    </tr>\n",
       "    <tr>\n",
       "      <th>2238</th>\n",
       "      <td>12.337</td>\n",
       "      <td>0.911</td>\n",
       "      <td>12.474</td>\n",
       "      <td>9.135</td>\n",
       "      <td>9.209</td>\n",
       "      <td>13.062</td>\n",
       "      <td>13.062</td>\n",
       "      <td>2.034</td>\n",
       "      <td>1.993</td>\n",
       "      <td>0.337</td>\n",
       "      <td>...</td>\n",
       "      <td>5.8105</td>\n",
       "      <td>0.000</td>\n",
       "      <td>0.024</td>\n",
       "      <td>0.291</td>\n",
       "      <td>0.038</td>\n",
       "      <td>1.076</td>\n",
       "      <td>3.048</td>\n",
       "      <td>0.0268</td>\n",
       "      <td>0.380</td>\n",
       "      <td>2.248</td>\n",
       "    </tr>\n",
       "  </tbody>\n",
       "</table>\n",
       "<p>3 rows × 71 columns</p>\n",
       "</div>"
      ],
      "text/plain": [
       "       CAPEI     bm     evm  pe_op_basic  pe_op_dil  pe_exi  pe_inc     ps  \\\n",
       "1530  20.773  0.547  10.644       15.468     15.633  18.484  18.484  3.703   \n",
       "1397  25.089  0.461   9.246       17.203     17.296  39.232  39.232  0.689   \n",
       "2238  12.337  0.911  12.474        9.135      9.209  13.062  13.062  2.034   \n",
       "\n",
       "        pcf    dpr       ...        sale_nwc  rd_sale  adv_sale  staff_sale  \\\n",
       "1530  9.957  0.623       ...          1.4240    0.136     0.058       0.000   \n",
       "1397  8.509  2.175       ...          4.9910    0.031     0.000       0.000   \n",
       "2238  1.993  0.337       ...          5.8105    0.000     0.024       0.291   \n",
       "\n",
       "      accrual    ptb  PEG_trailing  divyield  PEG_1yrforward  PEG_ltgforward  \n",
       "1530    0.048  1.811         1.181    0.0354          13.678           5.963  \n",
       "1397    0.047  2.189         0.668    0.0398           1.521           5.702  \n",
       "2238    0.038  1.076         3.048    0.0268           0.380           2.248  \n",
       "\n",
       "[3 rows x 71 columns]"
      ]
     },
     "metadata": {},
     "output_type": "display_data"
    },
    {
     "name": "stdout",
     "output_type": "stream",
     "text": [
      "\n",
      "Response Vector y (Train) after no Feature pre-Selection:\n"
     ]
    },
    {
     "data": {
      "text/html": [
       "<div>\n",
       "<style scoped>\n",
       "    .dataframe tbody tr th:only-of-type {\n",
       "        vertical-align: middle;\n",
       "    }\n",
       "\n",
       "    .dataframe tbody tr th {\n",
       "        vertical-align: top;\n",
       "    }\n",
       "\n",
       "    .dataframe thead th {\n",
       "        text-align: right;\n",
       "    }\n",
       "</style>\n",
       "<table border=\"1\" class=\"dataframe\">\n",
       "  <thead>\n",
       "    <tr style=\"text-align: right;\">\n",
       "      <th></th>\n",
       "      <th>0</th>\n",
       "    </tr>\n",
       "  </thead>\n",
       "  <tbody>\n",
       "    <tr>\n",
       "      <th>1530</th>\n",
       "      <td>0</td>\n",
       "    </tr>\n",
       "    <tr>\n",
       "      <th>1397</th>\n",
       "      <td>1</td>\n",
       "    </tr>\n",
       "    <tr>\n",
       "      <th>2238</th>\n",
       "      <td>0</td>\n",
       "    </tr>\n",
       "  </tbody>\n",
       "</table>\n",
       "</div>"
      ],
      "text/plain": [
       "      0\n",
       "1530  0\n",
       "1397  1\n",
       "2238  0"
      ]
     },
     "metadata": {},
     "output_type": "display_data"
    },
    {
     "name": "stdout",
     "output_type": "stream",
     "text": [
      "\n"
     ]
    }
   ],
   "source": [
    "# print status\n",
    "print('Features Selected with ' + str(sel_feat)+'.')\n",
    "print('Version ' + str(VERSION) + '; ' + str(sel_version), '\\n')\n",
    "\n",
    "# print properties and head\n",
    "if VERSION == 1 or VERSION == 2:\n",
    "    print('Shape (rows, columns) of Feature Matrix X (Train) ' + '= ' + str(X_train.shape)+'\\n')\n",
    "    print('Feature Matrix X (Train) with no Feature pre-Selection:')\n",
    "    display(X_train[0:3])\n",
    "    print(\"\")\n",
    "    print('Response Vector y (Train) after no Feature pre-Selection:')\n",
    "    display(y_train[0:3])\n",
    "    print(\"\")\n",
    "else:\n",
    "    print('Shape (rows, columns) of Feature Matrix X (Train) ' + '= ' + str(X_train_s.shape), '\\n')\n",
    "    print('Feature Matrix X (Train) with Selected Features:'+'\\n')\n",
    "    display(X_train_s[0:3])\n",
    "    print(\"\")\n",
    "    print('Response Vector y (Train) after Feature Selection:')\n",
    "    display(y_train_s[0:3])\n",
    "    print(\"\")"
   ]
  },
  {
   "cell_type": "markdown",
   "metadata": {},
   "source": [
    "### Test Set"
   ]
  },
  {
   "cell_type": "code",
   "execution_count": 119,
   "metadata": {},
   "outputs": [
    {
     "name": "stdout",
     "output_type": "stream",
     "text": [
      "Features Selected with No Feature Selection Method available.\n",
      "Version 1; Based on whole original Dataset with only the Ratios Dataset as predicive Features. \n",
      "\n",
      "Shape (rows, columns) of Feature Matrix X (Test) = (710, 71)\n",
      "\n",
      "Feature Matrix X (Test) with no Feature pre-Selection:\n"
     ]
    },
    {
     "data": {
      "text/html": [
       "<div>\n",
       "<style scoped>\n",
       "    .dataframe tbody tr th:only-of-type {\n",
       "        vertical-align: middle;\n",
       "    }\n",
       "\n",
       "    .dataframe tbody tr th {\n",
       "        vertical-align: top;\n",
       "    }\n",
       "\n",
       "    .dataframe thead th {\n",
       "        text-align: right;\n",
       "    }\n",
       "</style>\n",
       "<table border=\"1\" class=\"dataframe\">\n",
       "  <thead>\n",
       "    <tr style=\"text-align: right;\">\n",
       "      <th></th>\n",
       "      <th>CAPEI</th>\n",
       "      <th>bm</th>\n",
       "      <th>evm</th>\n",
       "      <th>pe_op_basic</th>\n",
       "      <th>pe_op_dil</th>\n",
       "      <th>pe_exi</th>\n",
       "      <th>pe_inc</th>\n",
       "      <th>ps</th>\n",
       "      <th>pcf</th>\n",
       "      <th>dpr</th>\n",
       "      <th>...</th>\n",
       "      <th>sale_nwc</th>\n",
       "      <th>rd_sale</th>\n",
       "      <th>adv_sale</th>\n",
       "      <th>staff_sale</th>\n",
       "      <th>accrual</th>\n",
       "      <th>ptb</th>\n",
       "      <th>PEG_trailing</th>\n",
       "      <th>divyield</th>\n",
       "      <th>PEG_1yrforward</th>\n",
       "      <th>PEG_ltgforward</th>\n",
       "    </tr>\n",
       "  </thead>\n",
       "  <tbody>\n",
       "    <tr>\n",
       "      <th>817</th>\n",
       "      <td>20.983</td>\n",
       "      <td>0.254</td>\n",
       "      <td>8.585</td>\n",
       "      <td>16.127</td>\n",
       "      <td>16.224</td>\n",
       "      <td>16.224</td>\n",
       "      <td>16.224</td>\n",
       "      <td>3.318</td>\n",
       "      <td>10.484</td>\n",
       "      <td>0.287</td>\n",
       "      <td>...</td>\n",
       "      <td>6.768</td>\n",
       "      <td>0.031</td>\n",
       "      <td>0.006</td>\n",
       "      <td>0.000</td>\n",
       "      <td>0.084</td>\n",
       "      <td>4.189</td>\n",
       "      <td>1.022</td>\n",
       "      <td>0.0187</td>\n",
       "      <td>1.414</td>\n",
       "      <td>1.330</td>\n",
       "    </tr>\n",
       "    <tr>\n",
       "      <th>2592</th>\n",
       "      <td>21.663</td>\n",
       "      <td>0.235</td>\n",
       "      <td>13.619</td>\n",
       "      <td>16.311</td>\n",
       "      <td>16.489</td>\n",
       "      <td>18.555</td>\n",
       "      <td>18.555</td>\n",
       "      <td>2.379</td>\n",
       "      <td>7.709</td>\n",
       "      <td>0.199</td>\n",
       "      <td>...</td>\n",
       "      <td>7.169</td>\n",
       "      <td>0.000</td>\n",
       "      <td>0.000</td>\n",
       "      <td>0.195</td>\n",
       "      <td>0.039</td>\n",
       "      <td>4.281</td>\n",
       "      <td>1.147</td>\n",
       "      <td>0.0122</td>\n",
       "      <td>1.737</td>\n",
       "      <td>1.572</td>\n",
       "    </tr>\n",
       "    <tr>\n",
       "      <th>1475</th>\n",
       "      <td>16.327</td>\n",
       "      <td>0.513</td>\n",
       "      <td>6.716</td>\n",
       "      <td>9.520</td>\n",
       "      <td>9.520</td>\n",
       "      <td>15.681</td>\n",
       "      <td>15.550</td>\n",
       "      <td>3.293</td>\n",
       "      <td>8.490</td>\n",
       "      <td>0.792</td>\n",
       "      <td>...</td>\n",
       "      <td>1.286</td>\n",
       "      <td>0.162</td>\n",
       "      <td>0.054</td>\n",
       "      <td>0.000</td>\n",
       "      <td>0.077</td>\n",
       "      <td>2.198</td>\n",
       "      <td>1.022</td>\n",
       "      <td>0.0343</td>\n",
       "      <td>-0.973</td>\n",
       "      <td>6.149</td>\n",
       "    </tr>\n",
       "  </tbody>\n",
       "</table>\n",
       "<p>3 rows × 71 columns</p>\n",
       "</div>"
      ],
      "text/plain": [
       "       CAPEI     bm     evm  pe_op_basic  pe_op_dil  pe_exi  pe_inc     ps  \\\n",
       "817   20.983  0.254   8.585       16.127     16.224  16.224  16.224  3.318   \n",
       "2592  21.663  0.235  13.619       16.311     16.489  18.555  18.555  2.379   \n",
       "1475  16.327  0.513   6.716        9.520      9.520  15.681  15.550  3.293   \n",
       "\n",
       "         pcf    dpr       ...        sale_nwc  rd_sale  adv_sale  staff_sale  \\\n",
       "817   10.484  0.287       ...           6.768    0.031     0.006       0.000   \n",
       "2592   7.709  0.199       ...           7.169    0.000     0.000       0.195   \n",
       "1475   8.490  0.792       ...           1.286    0.162     0.054       0.000   \n",
       "\n",
       "      accrual    ptb  PEG_trailing  divyield  PEG_1yrforward  PEG_ltgforward  \n",
       "817     0.084  4.189         1.022    0.0187           1.414           1.330  \n",
       "2592    0.039  4.281         1.147    0.0122           1.737           1.572  \n",
       "1475    0.077  2.198         1.022    0.0343          -0.973           6.149  \n",
       "\n",
       "[3 rows x 71 columns]"
      ]
     },
     "metadata": {},
     "output_type": "display_data"
    },
    {
     "name": "stdout",
     "output_type": "stream",
     "text": [
      "\n",
      "Response Vector y (Test) after no Feature pre-Selection:\n"
     ]
    },
    {
     "data": {
      "text/html": [
       "<div>\n",
       "<style scoped>\n",
       "    .dataframe tbody tr th:only-of-type {\n",
       "        vertical-align: middle;\n",
       "    }\n",
       "\n",
       "    .dataframe tbody tr th {\n",
       "        vertical-align: top;\n",
       "    }\n",
       "\n",
       "    .dataframe thead th {\n",
       "        text-align: right;\n",
       "    }\n",
       "</style>\n",
       "<table border=\"1\" class=\"dataframe\">\n",
       "  <thead>\n",
       "    <tr style=\"text-align: right;\">\n",
       "      <th></th>\n",
       "      <th>0</th>\n",
       "    </tr>\n",
       "  </thead>\n",
       "  <tbody>\n",
       "    <tr>\n",
       "      <th>817</th>\n",
       "      <td>1</td>\n",
       "    </tr>\n",
       "    <tr>\n",
       "      <th>2592</th>\n",
       "      <td>0</td>\n",
       "    </tr>\n",
       "    <tr>\n",
       "      <th>1475</th>\n",
       "      <td>1</td>\n",
       "    </tr>\n",
       "  </tbody>\n",
       "</table>\n",
       "</div>"
      ],
      "text/plain": [
       "      0\n",
       "817   1\n",
       "2592  0\n",
       "1475  1"
      ]
     },
     "metadata": {},
     "output_type": "display_data"
    },
    {
     "name": "stdout",
     "output_type": "stream",
     "text": [
      "\n"
     ]
    }
   ],
   "source": [
    "# print status\n",
    "print('Features Selected with ' + str(sel_feat))\n",
    "print('Version ' + str(VERSION) + '; ' + str(sel_version),'\\n')\n",
    "\n",
    "# print properties and head\n",
    "if VERSION == 1 or VERSION == 2:\n",
    "    print('Shape (rows, columns) of Feature Matrix X (Test) ' + '= ' + str(X_test.shape)+'\\n')\n",
    "    print('Feature Matrix X (Test) with no Feature pre-Selection:')\n",
    "    display(X_test[0:3])\n",
    "    print(\"\")\n",
    "    print('Response Vector y (Test) after no Feature pre-Selection:')\n",
    "    display(y_test[0:3])\n",
    "    print(\"\")\n",
    "else:\n",
    "    print('Shape (rows, columns) of Feature Matrix X (Test) ' + '= ' + str(X_test_s.shape)+'\\n')\n",
    "    print('Feature Matrix X (Test) with Selected Features:')\n",
    "    display(X_test_s[0:3])\n",
    "    print(\"\")\n",
    "    print('Response Vector y (Test) after Feature Selection:')\n",
    "    display(y_test_s[0:3])"
   ]
  },
  {
   "cell_type": "markdown",
   "metadata": {},
   "source": [
    "###   \n",
    "###   \n",
    "## 3.2. Random Forest Classification and Prediction"
   ]
  },
  {
   "cell_type": "markdown",
   "metadata": {},
   "source": [
    "### 3.2.1. FItting Forest for single random_state and Prediction"
   ]
  },
  {
   "cell_type": "code",
   "execution_count": 120,
   "metadata": {},
   "outputs": [
    {
     "name": "stdout",
     "output_type": "stream",
     "text": [
      "Ratio of Ones (Test) =  57.042254%\n",
      "Ratio of Ones (Training) =  58.074753%\n",
      "Score (Prediction) =  81.267606%\n",
      "\n",
      "EVALUATION: Our Model predicts 24.23 percentage points better than always guessing \"UP\" for the Test Set.\n"
     ]
    }
   ],
   "source": [
    "# Define Variables\n",
    "if VERSION == 1 or VERSION == 2: \n",
    "    feature_train = X_train\n",
    "    feature_test = X_test\n",
    "    response_train = y_train\n",
    "    response_test = y_test\n",
    "else:\n",
    "    feature_train = X_train_s\n",
    "    feature_test = X_test_s\n",
    "    response_train = y_train_s\n",
    "    response_test = y_test_s\n",
    "    \n",
    "# Fit forest\n",
    "# the '_o' stands for 'prediction with forest with only ONE random state'\n",
    "forest_o = RandomForestClassifier(random_state = 0)\n",
    "forest_o.max_depth = 6\n",
    "forest_o.fit(feature_train, response_train)\n",
    "\n",
    "# Test prediction of y_test with the X_test feature matrix: gives the prediction vector\n",
    "prediction_o = forest_o.predict(feature_test)\n",
    "\n",
    "# Extract labels of features\n",
    "feature_labels = feature_train.columns[:]\n",
    "#display(feature_labels)\n",
    "\n",
    "# Generate feature iportances\n",
    "feature_importances_o = forest_o.feature_importances_\n",
    "\n",
    "# sort features in line with their importance for the prediction (therefore ::-1)\n",
    "indices_o = np.argsort(feature_importances_o)[::-1]\n",
    "\n",
    "# Calculate percentage of of ones in the test response vector\n",
    "print('Ratio of Ones (Test) =  ' + str(round(response_test['0'].sum() / response_test.size, 8)*100)+'%')\n",
    "# Just to be sure the ones are distributed ca.the same in test and train response vector, check this:\n",
    "print('Ratio of Ones (Training) =  ' + str(round(response_train['0'].sum() / response_train.size, 8)*100)+'%')\n",
    "# Calculate precentage of ones predicted with the model\n",
    "print('Score (Prediction) =  ' + str(round(prediction_o.sum() / prediction_o.size, 8)*100)+'%'+'\\n')\n",
    "\n",
    "# Calculate the score surplus above the test-set response vector score\n",
    "print('EVALUATION: Our Model predicts '+str(round((prediction_o.sum()/prediction_o.size) \n",
    "                                       - (response_test['0'].sum()/response_test['0'].size),4)*100)+\n",
    "      ' percentage points better than always guessing \"UP\" for the Test Set.')"
   ]
  },
  {
   "cell_type": "markdown",
   "metadata": {},
   "source": [
    "### 3.2.2. Fitting Forest and Prediction for multiple random_states"
   ]
  },
  {
   "cell_type": "markdown",
   "metadata": {},
   "source": [
    "### Fit and predict with loop"
   ]
  },
  {
   "cell_type": "code",
   "execution_count": 121,
   "metadata": {},
   "outputs": [
    {
     "name": "stdout",
     "output_type": "stream",
     "text": [
      "Predictions for random states 0 to 10 are: \n",
      "\n"
     ]
    },
    {
     "data": {
      "text/html": [
       "<div>\n",
       "<style scoped>\n",
       "    .dataframe tbody tr th:only-of-type {\n",
       "        vertical-align: middle;\n",
       "    }\n",
       "\n",
       "    .dataframe tbody tr th {\n",
       "        vertical-align: top;\n",
       "    }\n",
       "\n",
       "    .dataframe thead th {\n",
       "        text-align: right;\n",
       "    }\n",
       "</style>\n",
       "<table border=\"1\" class=\"dataframe\">\n",
       "  <thead>\n",
       "    <tr style=\"text-align: right;\">\n",
       "      <th></th>\n",
       "      <th>0</th>\n",
       "      <th>1</th>\n",
       "      <th>2</th>\n",
       "      <th>3</th>\n",
       "      <th>4</th>\n",
       "      <th>5</th>\n",
       "      <th>6</th>\n",
       "      <th>7</th>\n",
       "      <th>8</th>\n",
       "      <th>9</th>\n",
       "    </tr>\n",
       "  </thead>\n",
       "  <tbody>\n",
       "    <tr>\n",
       "      <th>0</th>\n",
       "      <td>1</td>\n",
       "      <td>1</td>\n",
       "      <td>1</td>\n",
       "      <td>1</td>\n",
       "      <td>1</td>\n",
       "      <td>1</td>\n",
       "      <td>1</td>\n",
       "      <td>1</td>\n",
       "      <td>1</td>\n",
       "      <td>1</td>\n",
       "    </tr>\n",
       "    <tr>\n",
       "      <th>1</th>\n",
       "      <td>0</td>\n",
       "      <td>1</td>\n",
       "      <td>1</td>\n",
       "      <td>1</td>\n",
       "      <td>1</td>\n",
       "      <td>1</td>\n",
       "      <td>1</td>\n",
       "      <td>1</td>\n",
       "      <td>1</td>\n",
       "      <td>1</td>\n",
       "    </tr>\n",
       "    <tr>\n",
       "      <th>2</th>\n",
       "      <td>1</td>\n",
       "      <td>1</td>\n",
       "      <td>1</td>\n",
       "      <td>1</td>\n",
       "      <td>1</td>\n",
       "      <td>1</td>\n",
       "      <td>1</td>\n",
       "      <td>1</td>\n",
       "      <td>1</td>\n",
       "      <td>0</td>\n",
       "    </tr>\n",
       "    <tr>\n",
       "      <th>3</th>\n",
       "      <td>1</td>\n",
       "      <td>1</td>\n",
       "      <td>1</td>\n",
       "      <td>0</td>\n",
       "      <td>1</td>\n",
       "      <td>1</td>\n",
       "      <td>1</td>\n",
       "      <td>1</td>\n",
       "      <td>1</td>\n",
       "      <td>1</td>\n",
       "    </tr>\n",
       "    <tr>\n",
       "      <th>4</th>\n",
       "      <td>1</td>\n",
       "      <td>1</td>\n",
       "      <td>1</td>\n",
       "      <td>1</td>\n",
       "      <td>1</td>\n",
       "      <td>1</td>\n",
       "      <td>1</td>\n",
       "      <td>1</td>\n",
       "      <td>1</td>\n",
       "      <td>1</td>\n",
       "    </tr>\n",
       "  </tbody>\n",
       "</table>\n",
       "</div>"
      ],
      "text/plain": [
       "   0  1  2  3  4  5  6  7  8  9\n",
       "0  1  1  1  1  1  1  1  1  1  1\n",
       "1  0  1  1  1  1  1  1  1  1  1\n",
       "2  1  1  1  1  1  1  1  1  1  0\n",
       "3  1  1  1  0  1  1  1  1  1  1\n",
       "4  1  1  1  1  1  1  1  1  1  1"
      ]
     },
     "metadata": {},
     "output_type": "display_data"
    },
    {
     "name": "stdout",
     "output_type": "stream",
     "text": [
      "\n",
      "At the end of the loop, rs = 10\n"
     ]
    }
   ],
   "source": [
    "# Define Variables\n",
    "if VERSION == 1 or VERSION == 2: \n",
    "    feature_train = X_train\n",
    "    feature_test = X_test\n",
    "    response_train = y_train\n",
    "    response_test = y_test\n",
    "else:\n",
    "    feature_train = X_train_s\n",
    "    feature_test = X_test_s\n",
    "    response_train = y_train_s\n",
    "    response_test = y_test_s\n",
    "\n",
    "# rs = first random state we choose\n",
    "# i = number of random states we want to have tried out and the number of predictions we want to make\n",
    "rs = 0\n",
    "i = 10\n",
    "\n",
    "df_prediction = pd.DataFrame()\n",
    "\n",
    "# Loop until random_state = rs = 10\n",
    "while rs < i:\n",
    "    forest_m = RandomForestClassifier(random_state = rs)\n",
    "    forest_m.max_depth = 6\n",
    "    forest_m.fit(feature_train, response_train)\n",
    "    df_prediction[rs] = forest_m.predict(feature_test)\n",
    "    rs += 1\n",
    "\n",
    "# Generate feature iportances\n",
    "feature_importances_m = forest_m.feature_importances_\n",
    "\n",
    "# sort features in line with their importance for the prediction (therefore ::-1)\n",
    "indices_m = np.argsort(feature_importances_m)[::-1]\n",
    "print('Predictions for random states 0 to 10 are: '+'\\n')\n",
    "display(df_prediction.head())\n",
    "print(\"\")\n",
    "print('At the end of the loop, rs = ' + str(rs))\n",
    "\n",
    "del rs, i"
   ]
  },
  {
   "cell_type": "markdown",
   "metadata": {},
   "source": [
    "### Reduce all predictions into one representative one, then make a new column with rounded bools"
   ]
  },
  {
   "cell_type": "code",
   "execution_count": 122,
   "metadata": {},
   "outputs": [
    {
     "data": {
      "text/html": [
       "<div>\n",
       "<style scoped>\n",
       "    .dataframe tbody tr th:only-of-type {\n",
       "        vertical-align: middle;\n",
       "    }\n",
       "\n",
       "    .dataframe tbody tr th {\n",
       "        vertical-align: top;\n",
       "    }\n",
       "\n",
       "    .dataframe thead th {\n",
       "        text-align: right;\n",
       "    }\n",
       "</style>\n",
       "<table border=\"1\" class=\"dataframe\">\n",
       "  <thead>\n",
       "    <tr style=\"text-align: right;\">\n",
       "      <th></th>\n",
       "      <th>sum_prediction/col</th>\n",
       "      <th>resulting_prediction</th>\n",
       "    </tr>\n",
       "  </thead>\n",
       "  <tbody>\n",
       "    <tr>\n",
       "      <th>0</th>\n",
       "      <td>1.0</td>\n",
       "      <td>1.0</td>\n",
       "    </tr>\n",
       "    <tr>\n",
       "      <th>1</th>\n",
       "      <td>0.9</td>\n",
       "      <td>1.0</td>\n",
       "    </tr>\n",
       "    <tr>\n",
       "      <th>2</th>\n",
       "      <td>0.9</td>\n",
       "      <td>1.0</td>\n",
       "    </tr>\n",
       "    <tr>\n",
       "      <th>3</th>\n",
       "      <td>0.9</td>\n",
       "      <td>1.0</td>\n",
       "    </tr>\n",
       "    <tr>\n",
       "      <th>4</th>\n",
       "      <td>1.0</td>\n",
       "      <td>1.0</td>\n",
       "    </tr>\n",
       "  </tbody>\n",
       "</table>\n",
       "</div>"
      ],
      "text/plain": [
       "   sum_prediction/col  resulting_prediction\n",
       "0                 1.0                   1.0\n",
       "1                 0.9                   1.0\n",
       "2                 0.9                   1.0\n",
       "3                 0.9                   1.0\n",
       "4                 1.0                   1.0"
      ]
     },
     "metadata": {},
     "output_type": "display_data"
    }
   ],
   "source": [
    "# Make new column where sum of row is set relative to the numer of columns\n",
    "# with this we kno, how many percent there was an \"UP\" predicted of how many times it could have been predicted\n",
    "# the _m after the name stands for \"multiple\"\n",
    "\n",
    "prediction_m = pd.DataFrame()\n",
    "prediction_m['sum_prediction/col'] = df_prediction.sum(axis=1)/len(df_prediction.columns)\n",
    "#display(res_prediction.head(5))\n",
    "\n",
    "prediction_m['resulting_prediction'] = prediction_m['sum_prediction/col'].round()\n",
    "display(prediction_m.head())"
   ]
  },
  {
   "cell_type": "markdown",
   "metadata": {},
   "source": [
    "### Print Results of Prediction for multiple random states"
   ]
  },
  {
   "cell_type": "code",
   "execution_count": 123,
   "metadata": {},
   "outputs": [
    {
     "name": "stdout",
     "output_type": "stream",
     "text": [
      "Ratio of Ones (Test) =  56.99999999999999%\n",
      "Ratio of Ones (Training) =  58.0748%\n",
      "Score (Prediction) =  84.0%\n",
      "\n",
      "EVALUATION: Our Model predicts 26.5 percentage points better than always guessing \"UP\" for the Test Set.\n"
     ]
    }
   ],
   "source": [
    "# Calculate percentage of of ones in the test response vector\n",
    "print('Ratio of Ones (Test) =  ' + str(round(response_test['0'].sum() / response_test['0'].size, 2)*100)+'%')\n",
    "# Just to be sure the ones are distributed ca.the same in test and train response vector, check this:\n",
    "print('Ratio of Ones (Training) =  ' + str(round(response_train['0'].sum() / response_train['0'].size, 6)*100)+'%')\n",
    "# Calculate precentage of ones predicted with the model\n",
    "print('Score (Prediction) =  ' \n",
    "      + str(round(prediction_m.resulting_prediction.sum() / prediction_m.resulting_prediction.size, 2)*100)+'%'+'\\n')\n",
    "\n",
    "# Calculate the score surplus above the test-set response vector score\n",
    "print('EVALUATION: Our Model predicts '\n",
    "      +str(round((prediction_m.resulting_prediction.sum()/prediction_m.resulting_prediction.size) \n",
    "                                       - (response_test['0'].sum()/response_test['0'].size),3)*100)+\n",
    "      ' percentage points better than always guessing \"UP\" for the Test Set.')"
   ]
  },
  {
   "cell_type": "markdown",
   "metadata": {},
   "source": [
    "###   \n",
    "###   \n",
    "## 3.3. Cross-Validation"
   ]
  },
  {
   "cell_type": "markdown",
   "metadata": {},
   "source": [
    "### 3.3.1. kFold with stratifying"
   ]
  },
  {
   "cell_type": "code",
   "execution_count": 124,
   "metadata": {},
   "outputs": [
    {
     "name": "stdout",
     "output_type": "stream",
     "text": [
      "Forest fitted and response Vector predicted with one random_state in 3.2.1.:\n",
      "[0.5528169  0.61267606 0.57495591 0.5696649  0.60070671]\n",
      "CV accuracy on train set:  0.582 +/-  0.022 \n",
      "\n",
      "Forest fitted and response Vector predicted with multiple (i) random_states in 3.2.2.:\n",
      "[0.56338028 0.58626761 0.53968254 0.56790123 0.55123675]\n",
      "CV accuracy on train set:  0.562 +/-  0.016\n"
     ]
    }
   ],
   "source": [
    "# Import necessary function\n",
    "from sklearn.model_selection import StratifiedKFold, cross_val_score\n",
    "\n",
    "# Create k-Fold CV and LogReg object\n",
    "wished_splits = 5\n",
    "kFold = StratifiedKFold(wished_splits, random_state=0)\n",
    "\n",
    "# Run CV and print results\n",
    "scores_o = cross_val_score(forest_o, feature_train, response_train, cv=kFold)\n",
    "scores_m = cross_val_score(forest_m, feature_train, response_train, cv=kFold)\n",
    "\n",
    "# Print Results\n",
    "print('Forest fitted and response Vector predicted with one random_state in 3.2.1.:')\n",
    "print(scores_o)\n",
    "print('CV accuracy on train set: {0: .3f} +/- {1: .3f}'.format(np.mean(scores_o), np.std(scores_o)),'\\n')\n",
    "print('Forest fitted and response Vector predicted with multiple (i) random_states in 3.2.2.:')\n",
    "print(scores_m)\n",
    "print('CV accuracy on train set: {0: .3f} +/- {1: .3f}'.format(np.mean(scores_m), np.std(scores_m)))"
   ]
  },
  {
   "cell_type": "markdown",
   "metadata": {},
   "source": [
    "### 3.3.2. kFold with shuffle"
   ]
  },
  {
   "cell_type": "code",
   "execution_count": 125,
   "metadata": {},
   "outputs": [
    {
     "name": "stdout",
     "output_type": "stream",
     "text": [
      "Forest fitted and response Vector predicted with one random_state in 3.2.1.:\n",
      "[0.61443662 0.58730159 0.55555556 0.55731922 0.56261023]\n",
      "CV accuracy on train set:  0.575 +/-  0.023 \n",
      "\n",
      "Forest fitted and response Vector predicted with multiple (i) random_states in 3.2.2.:\n",
      "[0.57394366 0.61022928 0.59611993 0.55555556 0.57671958]\n",
      "CV accuracy on train set:  0.583 +/-  0.019\n"
     ]
    }
   ],
   "source": [
    "# Import necessary function\n",
    "from sklearn.model_selection import KFold\n",
    "\n",
    "# Create k-Fold CV\n",
    "wished_splits = 5\n",
    "kFold = KFold(wished_splits, shuffle=True, random_state=0)\n",
    "\n",
    "# Run CV\n",
    "scores_o = cross_val_score(forest_o, feature_train, response_train, cv=kFold)\n",
    "scores_m = cross_val_score(forest_m, feature_train, response_train, cv=kFold)\n",
    "\n",
    "# Print Results\n",
    "print('Forest fitted and response Vector predicted with one random_state in 3.2.1.:')\n",
    "print(scores_o)\n",
    "print('CV accuracy on train set: {0: .3f} +/- {1: .3f}'.format(np.mean(scores_o), np.std(scores_o)),'\\n')\n",
    "print('Forest fitted and response Vector predicted with multiple (i) random_states in 3.2.2.:')\n",
    "print(scores_m)\n",
    "print('CV accuracy on train set: {0: .3f} +/- {1: .3f}'.format(np.mean(scores_m), np.std(scores_m)))"
   ]
  },
  {
   "cell_type": "markdown",
   "metadata": {},
   "source": [
    "### 3.3.3. ROC-Area under the ROC Curve"
   ]
  },
  {
   "cell_type": "code",
   "execution_count": 126,
   "metadata": {},
   "outputs": [
    {
     "name": "stdout",
     "output_type": "stream",
     "text": [
      "Forest fitted and response Vector predicted with one random_state in 3.2.1.:\n",
      "CV AUC on train set:  0.558 +/-  0.020 \n",
      "\n",
      "Forest fitted and response Vector predicted with multiple (i) random_states in 3.2.2.:\n",
      "CV AUC on train set:  0.567 +/-  0.011\n"
     ]
    }
   ],
   "source": [
    "# Run CV\n",
    "scores_o = cross_val_score(forest_o, feature_train, response_train, cv=kFold, scoring='roc_auc')\n",
    "scores_m = cross_val_score(forest_m, feature_train, response_train, cv=kFold, scoring='roc_auc')\n",
    "\n",
    "# Print Reuslts\n",
    "print('Forest fitted and response Vector predicted with one random_state in 3.2.1.:')\n",
    "print('CV AUC on train set: {0: .3f} +/- {1: .3f}'.format(np.mean(scores_o), np.std(scores_o)),'\\n')\n",
    "print('Forest fitted and response Vector predicted with multiple (i) random_states in 3.2.2.:')\n",
    "print('CV AUC on train set: {0: .3f} +/- {1: .3f}'.format(np.mean(scores_m), np.std(scores_m)))"
   ]
  },
  {
   "cell_type": "markdown",
   "metadata": {},
   "source": [
    "### 3.3.4. Cross Validation Function (fit time, score time, accuracy, recall, roc_auc)"
   ]
  },
  {
   "cell_type": "code",
   "execution_count": 127,
   "metadata": {},
   "outputs": [
    {
     "data": {
      "text/plain": [
       "{'fit_time': array([0.09075952, 0.09116626, 0.08450937, 0.09208989, 0.05903864]),\n",
       " 'score_time': array([0.00902152, 0.00850129, 0.00657153, 0.01059937, 0.00532484]),\n",
       " 'test_accuracy': array([0.57394366, 0.61022928, 0.59611993, 0.55555556, 0.57671958]),\n",
       " 'test_recall': array([0.82789318, 0.82544379, 0.8030303 , 0.81114551, 0.88714734]),\n",
       " 'test_roc_auc': array([0.57271957, 0.57575386, 0.55630354, 0.55023347, 0.5787744 ]),\n",
       " 'train_accuracy': array([0.69312169, 0.70074923, 0.69898634, 0.69766417, 0.69678272]),\n",
       " 'train_recall': array([0.91679389, 0.9052712 , 0.92634776, 0.92749245, 0.91415663]),\n",
       " 'train_roc_auc': array([0.78685278, 0.77111862, 0.78397475, 0.77698253, 0.78009087])}"
      ]
     },
     "execution_count": 127,
     "metadata": {},
     "output_type": "execute_result"
    }
   ],
   "source": [
    "# Import necessary function\n",
    "from sklearn.model_selection import cross_validate\n",
    "\n",
    "# Definitions\n",
    "measures = ['accuracy', 'recall', 'roc_auc']\n",
    "number_of_jobs = 2\n",
    "\n",
    "# Calculate scores\n",
    "scores_o = cross_validate(forest_o, feature_train, response_train, cv=kFold, scoring=measures, n_jobs=number_of_jobs)\n",
    "scores_o\n",
    "scores_m = cross_validate(forest_m, feature_train, response_train, cv=kFold, scoring=measures, n_jobs=number_of_jobs)\n",
    "scores_m"
   ]
  },
  {
   "cell_type": "code",
   "execution_count": 128,
   "metadata": {},
   "outputs": [
    {
     "name": "stdout",
     "output_type": "stream",
     "text": [
      "Forest fitted and response Vector predicted with one random_state in 3.2.1.:\n",
      "Train set accuracy (CV=5):     0.7075093488418007\n",
      "Validation set scores (CV=5):  0.5754446431676479\n",
      "Test set accuracy:             0.7915492957746478 \n",
      "\n",
      "Forest fitted and response Vector predicted with multiple (i) random_states in 3.2.2.:\n",
      "Train set accuracy (CV=5):     0.6974608304709671\n",
      "Validation set scores (CV=5):  0.5825136001192339\n",
      "Test set accuracy:             0.8070422535211268\n"
     ]
    }
   ],
   "source": [
    "# Print results\n",
    "print('Forest fitted and response Vector predicted with one random_state in 3.2.1.:')\n",
    "print('Train set accuracy (CV=5):    ', scores_o['train_accuracy'].mean())\n",
    "print('Validation set scores (CV=5): ', scores_o['test_accuracy'].mean())\n",
    "print('Test set accuracy:            ', forest_o.fit(feature_test, response_test).score(feature_test, response_test),'\\n')\n",
    "\n",
    "print('Forest fitted and response Vector predicted with multiple (i) random_states in 3.2.2.:')\n",
    "print('Train set accuracy (CV=5):    ', scores_m['train_accuracy'].mean())\n",
    "print('Validation set scores (CV=5): ', scores_m['test_accuracy'].mean())\n",
    "print('Test set accuracy:            ', forest_m.fit(feature_test, response_test).score(feature_test, response_test))"
   ]
  },
  {
   "cell_type": "markdown",
   "metadata": {},
   "source": [
    "### 3.3.5. Leave-one-out Cross-Validation"
   ]
  },
  {
   "cell_type": "code",
   "execution_count": 129,
   "metadata": {},
   "outputs": [
    {
     "name": "stdout",
     "output_type": "stream",
     "text": [
      "Forest fitted and response Vector predicted with one random_state in 3.2.1.:\n",
      "LOOCV accuracy on train set: 0.5793363684836553 \n",
      "\n",
      "Forest fitted and response Vector predicted with multiple (i) random_states in 3.2.2.:\n",
      "LOOCV accuracy on train set: 0.5895596794821601\n"
     ]
    }
   ],
   "source": [
    "# Import necessary function\n",
    "from sklearn.model_selection import LeaveOneOut\n",
    "\n",
    "# Create objects\n",
    "loocv = LeaveOneOut()\n",
    "\n",
    "# Calculate & print scores\n",
    "scores_o = cross_val_score(forest_o, feature_train, response_train)\n",
    "scores_m = cross_val_score(forest_m, feature_train, response_train)\n",
    "\n",
    "# Print results\n",
    "print('Forest fitted and response Vector predicted with one random_state in 3.2.1.:')\n",
    "print('LOOCV accuracy on train set:', np.mean(scores_o),'\\n')\n",
    "print('Forest fitted and response Vector predicted with multiple (i) random_states in 3.2.2.:')\n",
    "print('LOOCV accuracy on train set:', np.mean(scores_m))"
   ]
  },
  {
   "cell_type": "markdown",
   "metadata": {},
   "source": [
    "###   \n",
    "###   \n",
    "## 3.4. Precision Metrics"
   ]
  },
  {
   "cell_type": "markdown",
   "metadata": {},
   "source": [
    "### 3.4.1. Confusion Matrix"
   ]
  },
  {
   "cell_type": "code",
   "execution_count": 130,
   "metadata": {},
   "outputs": [
    {
     "name": "stdout",
     "output_type": "stream",
     "text": [
      "Forest fitted and response Vector predicted with one random_state in 3.2.1.:\n",
      "[[ 76 229]\n",
      " [ 57 348]] \n",
      "\n",
      "Forest fitted and response Vector predicted with multiple (i) random_states in 3.2.2.:\n",
      "[[ 66 239]\n",
      " [ 51 354]]\n"
     ]
    }
   ],
   "source": [
    "# Import necessary function\n",
    "from sklearn import metrics\n",
    "\n",
    "# Make and print Confusion Matrix\n",
    "confm_o = metrics.confusion_matrix(response_test, prediction_o)\n",
    "print('Forest fitted and response Vector predicted with one random_state in 3.2.1.:')\n",
    "print(confm_o,'\\n')\n",
    "\n",
    "print('Forest fitted and response Vector predicted with multiple (i) random_states in 3.2.2.:')\n",
    "confm_m = metrics.confusion_matrix(response_test, prediction_m.resulting_prediction)\n",
    "print(confm_m)\n",
    "\n",
    "\n",
    "# Define Variables\n",
    "TP_o = confm_o[1, 1]  # True positives\n",
    "TN_o = confm_o[0, 0]  # True negatives\n",
    "FP_o = confm_o[0, 1]  # False positives\n",
    "FN_o = confm_o[1, 0]  # False negatives\n",
    "\n",
    "TP_m = confm_m[1, 1]  # True positives\n",
    "TN_m = confm_m[0, 0]  # True negatives\n",
    "FP_m = confm_m[0, 1]  # False positives\n",
    "FN_m = confm_m[1, 0]  # False negatives\n"
   ]
  },
  {
   "cell_type": "markdown",
   "metadata": {},
   "source": [
    "### 3.4.2. Score\n",
    "\n",
    "# THE LAST VERSION GIVES A DIFFERENT NUMBER BUT SHOULD BE THE SAME (SEE LDA ML)"
   ]
  },
  {
   "cell_type": "code",
   "execution_count": 131,
   "metadata": {},
   "outputs": [
    {
     "name": "stdout",
     "output_type": "stream",
     "text": [
      "Score for Forest fitted and response Vector predicted with one random_state in 3.2.1.:\n",
      "0.5971830985915493\n",
      "0.5971830985915493\n",
      "0.7915492957746478 \n",
      "\n",
      "Score for Forest fitted and response Vector predicted with multiple (i) random_states in 3.2.2.:\n",
      "0.5915492957746479\n",
      "0.5915492957746479\n",
      "0.8070422535211268\n"
     ]
    }
   ],
   "source": [
    "print('Score for Forest fitted and response Vector predicted with one random_state in 3.2.1.:')\n",
    "print((TP_o + TN_o) / (TP_o + TN_o + FP_o + FN_o))\n",
    "print(metrics.accuracy_score(response_test,  prediction_o))\n",
    "print(forest_o.score(feature_test, response_test),'\\n')\n",
    "print('Score for Forest fitted and response Vector predicted with multiple (i) random_states in 3.2.2.:')\n",
    "print((TP_m + TN_m) / (TP_m + TN_m + FP_m + FN_m))\n",
    "print(metrics.accuracy_score(response_test,  prediction_m.resulting_prediction))\n",
    "print(forest_m.score(feature_test, response_test))"
   ]
  },
  {
   "cell_type": "markdown",
   "metadata": {},
   "source": [
    "### 3.4.3. Error Rate"
   ]
  },
  {
   "cell_type": "code",
   "execution_count": 132,
   "metadata": {},
   "outputs": [
    {
     "name": "stdout",
     "output_type": "stream",
     "text": [
      "Error Rate for Forest fitted and response Vector predicted with one random_state in 3.2.1.:\n",
      "0.4028169014084507\n",
      "0.4028169014084507\n",
      "0.20845070422535217 \n",
      "\n",
      "Error Rate for Forest fitted and response Vector predicted with multiple (i) random_states in 3.2.2.:\n",
      "0.4084507042253521\n",
      "0.4084507042253521\n",
      "0.1929577464788732\n"
     ]
    }
   ],
   "source": [
    "print('Error Rate for Forest fitted and response Vector predicted with one random_state in 3.2.1.:')\n",
    "print((FP_o + FN_o) / (TP_o + TN_o + FP_o + FN_o))\n",
    "print(1 - metrics.accuracy_score(response_test, prediction_o))\n",
    "print(1 - forest_o.score(feature_test,response_test),'\\n')\n",
    "\n",
    "print('Error Rate for Forest fitted and response Vector predicted with multiple (i) random_states in 3.2.2.:')\n",
    "print((FP_m + FN_m) / (TP_m + TN_m + FP_m + FN_m))\n",
    "print(1 - metrics.accuracy_score(response_test, prediction_m.resulting_prediction))\n",
    "print(1 - forest_m.score(feature_test,response_test))\n"
   ]
  },
  {
   "cell_type": "markdown",
   "metadata": {},
   "source": [
    "### 3.4.4. Specifity\n",
    "\n",
    "Fraction of correctly predicted negatives ('price down')"
   ]
  },
  {
   "cell_type": "code",
   "execution_count": 133,
   "metadata": {},
   "outputs": [
    {
     "name": "stdout",
     "output_type": "stream",
     "text": [
      "Specifity for Forest fitted and response Vector predicted with one random_state in 3.2.1.:\n",
      "0.24918032786885247 \n",
      "\n",
      "Specifity for Forest fitted and response Vector predicted with multiple (i) random_states in 3.2.2.:\n",
      "0.21639344262295082\n"
     ]
    }
   ],
   "source": [
    "print('Specifity for Forest fitted and response Vector predicted with one random_state in 3.2.1.:')\n",
    "print(TN_o / (TN_o + FP_o),'\\n')\n",
    "\n",
    "print('Specifity for Forest fitted and response Vector predicted with multiple (i) random_states in 3.2.2.:')\n",
    "print(TN_m / (TN_m + FP_m))"
   ]
  },
  {
   "cell_type": "markdown",
   "metadata": {},
   "source": [
    "### 3.4.5. Sensitivity / Recall\n",
    "\n",
    "Fraction of correctly predicted 'positives' ('price up')\n",
    "###### True Positive Rate"
   ]
  },
  {
   "cell_type": "code",
   "execution_count": 134,
   "metadata": {},
   "outputs": [
    {
     "name": "stdout",
     "output_type": "stream",
     "text": [
      "Recall for Forest fitted and response Vector predicted with one random_state in 3.2.1.:\n",
      "0.8592592592592593\n",
      "0.8592592592592593 \n",
      "\n",
      "Recall for Forest fitted and response Vector predicted with multiple (i) random_states in 3.2.2.:\n",
      "0.8740740740740741\n",
      "0.8740740740740741\n"
     ]
    }
   ],
   "source": [
    "print('Recall for Forest fitted and response Vector predicted with one random_state in 3.2.1.:')\n",
    "print(TP_o / (TP_o + FN_o))\n",
    "print(metrics.recall_score(response_test, prediction_o),'\\n')\n",
    "\n",
    "print('Recall for Forest fitted and response Vector predicted with multiple (i) random_states in 3.2.2.:')\n",
    "print(TP_m / (TP_m + FN_m))\n",
    "print(metrics.recall_score(response_test, prediction_m.resulting_prediction))"
   ]
  },
  {
   "cell_type": "markdown",
   "metadata": {},
   "source": [
    "### 3.4.5. Precision\n",
    "\n",
    "How precise a positive (up) is predicted."
   ]
  },
  {
   "cell_type": "code",
   "execution_count": 135,
   "metadata": {},
   "outputs": [
    {
     "name": "stdout",
     "output_type": "stream",
     "text": [
      "Precision for Forest fitted and response Vector predicted with one random_state in 3.2.1.:\n",
      "0.6031195840554593\n",
      "0.6031195840554593 \n",
      "\n",
      "Precision for Forest fitted and response Vector predicted with multiple (i) random_states in 3.2.2.:\n",
      "0.596964586846543\n",
      "0.596964586846543\n"
     ]
    }
   ],
   "source": [
    "print('Precision for Forest fitted and response Vector predicted with one random_state in 3.2.1.:')\n",
    "print(TP_o / (TP_o + FP_o))\n",
    "print(metrics.precision_score(response_test, prediction_o),'\\n')\n",
    "\n",
    "print('Precision for Forest fitted and response Vector predicted with multiple (i) random_states in 3.2.2.:')\n",
    "print(TP_m / (TP_m + FP_m))\n",
    "print(metrics.precision_score(response_test, prediction_m.resulting_prediction))"
   ]
  },
  {
   "cell_type": "markdown",
   "metadata": {},
   "source": [
    "### 3.4.6. F-Score"
   ]
  },
  {
   "cell_type": "code",
   "execution_count": 136,
   "metadata": {},
   "outputs": [
    {
     "name": "stdout",
     "output_type": "stream",
     "text": [
      "F-Score for Forest fitted and response Vector predicted with one random_state in 3.2.1.:\n",
      "0.7087576374745417\n",
      "0.7087576374745418 \n",
      "\n",
      "Classification Report for this Forest:\n",
      "             precision    recall  f1-score   support\n",
      "\n",
      "          0       0.57      0.25      0.35       305\n",
      "          1       0.60      0.86      0.71       405\n",
      "\n",
      "avg / total       0.59      0.60      0.55       710\n",
      " \n",
      "\n",
      "F-Score for Forest fitted and response Vector predicted with multiple (i) random_states in 3.2.2.:\n",
      "0.7094188376753507\n",
      "0.7094188376753507 \n",
      "\n",
      "Classification Report for this Forest:\n",
      "             precision    recall  f1-score   support\n",
      "\n",
      "          0       0.56      0.22      0.31       305\n",
      "          1       0.60      0.87      0.71       405\n",
      "\n",
      "avg / total       0.58      0.59      0.54       710\n",
      "\n"
     ]
    }
   ],
   "source": [
    "print('F-Score for Forest fitted and response Vector predicted with one random_state in 3.2.1.:')\n",
    "print(metrics.f1_score(response_test, prediction_o))\n",
    "print(((1+1**2) * TP_o)/((1+1**2) * TP_o + FN_o + FP_o),'\\n')\n",
    "\n",
    "print('Classification Report for this Forest:')\n",
    "print(metrics.classification_report(response_test, prediction_o),'\\n')\n",
    "\n",
    "print('F-Score for Forest fitted and response Vector predicted with multiple (i) random_states in 3.2.2.:')\n",
    "print(metrics.f1_score(response_test, prediction_m.resulting_prediction))\n",
    "print(((1+1**2) * TP_m)/((1+1**2) * TP_m + FN_m + FP_m),'\\n')\n",
    "\n",
    "print('Classification Report for this Forest:')\n",
    "print(metrics.classification_report(response_test, prediction_m.resulting_prediction))"
   ]
  }
 ],
 "metadata": {
  "kernelspec": {
   "display_name": "Python 3",
   "language": "python",
   "name": "python3"
  },
  "language_info": {
   "codemirror_mode": {
    "name": "ipython",
    "version": 3
   },
   "file_extension": ".py",
   "mimetype": "text/x-python",
   "name": "python",
   "nbconvert_exporter": "python",
   "pygments_lexer": "ipython3",
   "version": "3.6.4"
  }
 },
 "nbformat": 4,
 "nbformat_minor": 2
}
