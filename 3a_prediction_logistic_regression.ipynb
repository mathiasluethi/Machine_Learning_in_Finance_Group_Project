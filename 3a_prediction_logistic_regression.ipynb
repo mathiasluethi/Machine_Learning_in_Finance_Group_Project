{
 "cells": [
  {
   "cell_type": "markdown",
   "metadata": {},
   "source": [
    "# Introduction to Machine Learning, UZH 2018, Group Project\n",
    "### Group 2: Barbara Capl, Mathias Lüthi, Pamela Matias, Stefanie Rentsch\n",
    "##       \n",
    "# 3. Prediction with Multiple Logistic Regression\n",
    "\n",
    "In this section we use the feature matrices and response vectors with features selected in chapter 2.  \n",
    "\n",
    "#### We use two different versions (created in chapter 1, features-selected in chapter 2):\n",
    "Version 1: Feature Matrix consists only of the Ratios                                                                        \n",
    "Version 2: Feature Matrix consists of Ratios + dummy variables for seasonality + other market data\n",
    "####  "
   ]
  },
  {
   "cell_type": "code",
   "execution_count": 1,
   "metadata": {},
   "outputs": [],
   "source": [
    "# hide unnecessary warnings (\"depreciation\" of packages etc.)\n",
    "import warnings\n",
    "warnings.filterwarnings('ignore')\n",
    "\n",
    "# Load Packages\n",
    "import pandas as pd\n",
    "import numpy as np\n",
    "import matplotlib.pyplot as plt\n",
    "import statsmodels.api as sm\n",
    "import statsmodels.formula.api as smf\n",
    "plt.style.use(\"seaborn-whitegrid\")\n",
    "%matplotlib inline"
   ]
  },
  {
   "cell_type": "markdown",
   "metadata": {},
   "source": [
    "## 3.0. Choose which Feature Matrix (Version 1 or 2) you want to load in by choosing the Case\n",
    "\n"
   ]
  },
  {
   "cell_type": "markdown",
   "metadata": {},
   "source": [
    "#### 1) Choose the Dataset Version you want\n",
    "VERSION = 1; Feature Matrix with only ratios                                  \n",
    "VERSION = 2;  Feature Matrix with ratios + saisonality + other market data\n"
   ]
  },
  {
   "cell_type": "code",
   "execution_count": 2,
   "metadata": {},
   "outputs": [],
   "source": [
    "### Choose which dataset version you want the selection of features and the prediction to be based on \n",
    "VERSION = 1\n",
    "\"\"\"\n",
    "INSERT NUMBER 1 or 2\n",
    "\"\"\"\n",
    "\n",
    "\n",
    "# Define sel_state variable for easier printing out    \n",
    "if VERSION == 1:\n",
    "    sel_version = 'Based on Dataset with only the Ratios Dataset as predicive Features'\n",
    "elif VERSION == 2:\n",
    "    sel_version = 'Based on Dataset with Ratios + Seasonality + other Market Data as predictive Features'\n",
    "else: raise ValueError('VERSION must be either 1 or 2')"
   ]
  },
  {
   "cell_type": "markdown",
   "metadata": {},
   "source": [
    "#### 2) Choose with which method you want to have the features been pre-selected\n",
    "SELECTON  = RF ; Features pre-selected with Random Forest Classifier                                                           \n",
    "SELECTION = PCA; Features pre-selected with Principal Component Analysis (PCA)"
   ]
  },
  {
   "cell_type": "code",
   "execution_count": 3,
   "metadata": {},
   "outputs": [],
   "source": [
    "### Choose whether you want the datasets with features selected with RF or PCA\n",
    "SELECTION = 'RF'\n",
    "\"\"\"\n",
    "INSERT 'RF' OR 'PCA'\n",
    "\"\"\"\n",
    "\n",
    "\n",
    "# Define sel_state variable for easier printing out    \n",
    "if SELECTION == 'RF':\n",
    "    sel_feat = 'Random Forest (RF)'\n",
    "elif SELECTION == 'PCA':\n",
    "    sel_feat = 'Principal Component Analysis (PCA)'\n",
    "else: raise ValueError('SELECTION must be either RF or PCA')"
   ]
  },
  {
   "cell_type": "markdown",
   "metadata": {},
   "source": [
    "## 3.1. Preparation"
   ]
  },
  {
   "cell_type": "markdown",
   "metadata": {},
   "source": [
    "### 3.1.1. Import the Response Vector and the Feature Matrix"
   ]
  },
  {
   "cell_type": "code",
   "execution_count": 4,
   "metadata": {},
   "outputs": [],
   "source": [
    "# import Data (already splitted to train/test-data and selected features-> bc_randomforest_feature_selection)\n",
    "if VERSION == 1:\n",
    "    if SELECTION == 'RF':\n",
    "        X_train_s = pd.read_csv('Data/generated_splits/features_selected_randomforest/X1_train_f.csv', sep=',')\n",
    "        X_test_s = pd.read_csv('Data/generated_splits/features_selected_randomforest/X1_test_f.csv', sep=',')\n",
    "        y_train_s = pd.read_csv('Data/generated_splits/features_selected_randomforest/y1_train_f.csv', sep=',')\n",
    "        y_test_s = pd.read_csv('Data/generated_splits/features_selected_randomforest/y1_test_f.csv', sep=',')\n",
    "    elif SELECTION == 'PCA':\n",
    "        X_train_s = pd.read_csv('Data/generated_splits/features_selected_pca/X1_train_p.csv', sep=',', header=0)\n",
    "        X_test_s = pd.read_csv('Data/generated_splits/features_selected_pca/X1_test_p.csv', sep=',', header=0)\n",
    "        y_train_s = pd.read_csv('Data/generated_splits/features_selected_pca/y1_train_p.csv', sep=',', header=0)\n",
    "        y_test_s = pd.read_csv('Data/generated_splits/features_selected_pca/y1_test_p.csv', sep=',', header=0)\n",
    "elif VERSION == 2:\n",
    "    if SELECTION == 'RF':\n",
    "        X_train_s = pd.read_csv('Data/generated_splits/features_selected_randomforest/X2_train_f.csv', sep=',', header=0)\n",
    "        X_test_s = pd.read_csv('Data/generated_splits/features_selected_randomforest/X2_test_f.csv', sep=',', header=0)\n",
    "        y_train_s = pd.read_csv('Data/generated_splits/features_selected_randomforest/y2_train_f.csv', sep=',', header=0)\n",
    "        y_test_s = pd.read_csv('Data/generated_splits/features_selected_randomforest/y2_test_f.csv', sep=',', header=0)\n",
    "    elif SELECTION == 'PCA':\n",
    "        X_train_s = pd.read_csv('Data/generated_splits/features_selected_pca/X2_train_p.csv', sep=',', header=0)\n",
    "        X_test_s = pd.read_csv('Data/generated_splits/features_selected_pca/X2_test_p.csv', sep=',', header=0)\n",
    "        y_train_s = pd.read_csv('Data/generated_splits/features_selected_pca/y2_train_p.csv', sep=',', header=0)\n",
    "        y_test_s = pd.read_csv('Data/generated_splits/features_selected_pca/y2_test_p.csv', sep=',', header=0)\n",
    "else: raise ValueError('_VERSION_ value must be either 1 or 2, _SELECTION_ must be either RF or PCA')   "
   ]
  },
  {
   "cell_type": "markdown",
   "metadata": {},
   "source": [
    "### 3.1.2. Print out Shape and Form of Feature Matrix and Response Vector"
   ]
  },
  {
   "cell_type": "markdown",
   "metadata": {},
   "source": [
    "### Train Set"
   ]
  },
  {
   "cell_type": "code",
   "execution_count": 5,
   "metadata": {},
   "outputs": [
    {
     "name": "stdout",
     "output_type": "stream",
     "text": [
      "Features Selected with Random Forest (RF)\n",
      "Version 1; Based on Dataset with only the Ratios Dataset as predicive Features\n",
      "\n",
      "Shape (rows, columns) of Feature Matrix X (Train) =(2836, 15)\n",
      "\n",
      "Feature Matrix X (Train) with Selected Features\n"
     ]
    },
    {
     "data": {
      "text/html": [
       "<div>\n",
       "<style scoped>\n",
       "    .dataframe tbody tr th:only-of-type {\n",
       "        vertical-align: middle;\n",
       "    }\n",
       "\n",
       "    .dataframe tbody tr th {\n",
       "        vertical-align: top;\n",
       "    }\n",
       "\n",
       "    .dataframe thead th {\n",
       "        text-align: right;\n",
       "    }\n",
       "</style>\n",
       "<table border=\"1\" class=\"dataframe\">\n",
       "  <thead>\n",
       "    <tr style=\"text-align: right;\">\n",
       "      <th></th>\n",
       "      <th>CAPEI</th>\n",
       "      <th>pcf</th>\n",
       "      <th>pe_op_basic</th>\n",
       "      <th>bm</th>\n",
       "      <th>ptb</th>\n",
       "      <th>PEG_ltgforward</th>\n",
       "      <th>evm</th>\n",
       "      <th>ps</th>\n",
       "      <th>pe_exi</th>\n",
       "      <th>divyield</th>\n",
       "      <th>PEG_1yrforward</th>\n",
       "      <th>pe_inc</th>\n",
       "      <th>invt_act</th>\n",
       "      <th>pe_op_dil</th>\n",
       "      <th>roce</th>\n",
       "    </tr>\n",
       "  </thead>\n",
       "  <tbody>\n",
       "    <tr>\n",
       "      <th>0</th>\n",
       "      <td>20.773</td>\n",
       "      <td>9.957</td>\n",
       "      <td>15.468</td>\n",
       "      <td>0.547</td>\n",
       "      <td>1.811</td>\n",
       "      <td>5.963</td>\n",
       "      <td>10.644</td>\n",
       "      <td>3.703</td>\n",
       "      <td>18.484</td>\n",
       "      <td>0.0354</td>\n",
       "      <td>13.678</td>\n",
       "      <td>18.484</td>\n",
       "      <td>0.108</td>\n",
       "      <td>15.633</td>\n",
       "      <td>0.140</td>\n",
       "    </tr>\n",
       "    <tr>\n",
       "      <th>1</th>\n",
       "      <td>25.089</td>\n",
       "      <td>8.509</td>\n",
       "      <td>17.203</td>\n",
       "      <td>0.461</td>\n",
       "      <td>2.189</td>\n",
       "      <td>5.702</td>\n",
       "      <td>9.246</td>\n",
       "      <td>0.689</td>\n",
       "      <td>39.232</td>\n",
       "      <td>0.0398</td>\n",
       "      <td>1.521</td>\n",
       "      <td>39.232</td>\n",
       "      <td>0.368</td>\n",
       "      <td>17.296</td>\n",
       "      <td>0.105</td>\n",
       "    </tr>\n",
       "    <tr>\n",
       "      <th>2</th>\n",
       "      <td>12.337</td>\n",
       "      <td>1.993</td>\n",
       "      <td>9.135</td>\n",
       "      <td>0.911</td>\n",
       "      <td>1.076</td>\n",
       "      <td>2.248</td>\n",
       "      <td>12.474</td>\n",
       "      <td>2.034</td>\n",
       "      <td>13.062</td>\n",
       "      <td>0.0268</td>\n",
       "      <td>0.380</td>\n",
       "      <td>13.062</td>\n",
       "      <td>0.152</td>\n",
       "      <td>9.209</td>\n",
       "      <td>0.075</td>\n",
       "    </tr>\n",
       "  </tbody>\n",
       "</table>\n",
       "</div>"
      ],
      "text/plain": [
       "    CAPEI    pcf  pe_op_basic     bm    ptb  PEG_ltgforward     evm     ps  \\\n",
       "0  20.773  9.957       15.468  0.547  1.811           5.963  10.644  3.703   \n",
       "1  25.089  8.509       17.203  0.461  2.189           5.702   9.246  0.689   \n",
       "2  12.337  1.993        9.135  0.911  1.076           2.248  12.474  2.034   \n",
       "\n",
       "   pe_exi  divyield  PEG_1yrforward  pe_inc  invt_act  pe_op_dil   roce  \n",
       "0  18.484    0.0354          13.678  18.484     0.108     15.633  0.140  \n",
       "1  39.232    0.0398           1.521  39.232     0.368     17.296  0.105  \n",
       "2  13.062    0.0268           0.380  13.062     0.152      9.209  0.075  "
      ]
     },
     "metadata": {},
     "output_type": "display_data"
    },
    {
     "name": "stdout",
     "output_type": "stream",
     "text": [
      "\n",
      "Response Vector y (Train) after Feature Selection\n"
     ]
    },
    {
     "data": {
      "text/html": [
       "<div>\n",
       "<style scoped>\n",
       "    .dataframe tbody tr th:only-of-type {\n",
       "        vertical-align: middle;\n",
       "    }\n",
       "\n",
       "    .dataframe tbody tr th {\n",
       "        vertical-align: top;\n",
       "    }\n",
       "\n",
       "    .dataframe thead th {\n",
       "        text-align: right;\n",
       "    }\n",
       "</style>\n",
       "<table border=\"1\" class=\"dataframe\">\n",
       "  <thead>\n",
       "    <tr style=\"text-align: right;\">\n",
       "      <th></th>\n",
       "      <th>0</th>\n",
       "    </tr>\n",
       "  </thead>\n",
       "  <tbody>\n",
       "    <tr>\n",
       "      <th>0</th>\n",
       "      <td>0</td>\n",
       "    </tr>\n",
       "    <tr>\n",
       "      <th>1</th>\n",
       "      <td>1</td>\n",
       "    </tr>\n",
       "    <tr>\n",
       "      <th>2</th>\n",
       "      <td>0</td>\n",
       "    </tr>\n",
       "  </tbody>\n",
       "</table>\n",
       "</div>"
      ],
      "text/plain": [
       "   0\n",
       "0  0\n",
       "1  1\n",
       "2  0"
      ]
     },
     "metadata": {},
     "output_type": "display_data"
    },
    {
     "name": "stdout",
     "output_type": "stream",
     "text": [
      "\n"
     ]
    }
   ],
   "source": [
    "print('Features Selected with ' + str(sel_feat))\n",
    "print('Version ' + str(VERSION) + '; ' + str(sel_version))\n",
    "\n",
    "print(\"\")\n",
    "print('Shape (rows, columns) of Feature Matrix X (Train) ' + '=' + str(X_train_s.shape))\n",
    "print(\"\")\n",
    "\n",
    "print('Feature Matrix X (Train) with Selected Features')\n",
    "display(X_train_s[0:3])\n",
    "print(\"\")\n",
    "\n",
    "print('Response Vector y (Train) after Feature Selection')\n",
    "display(y_train_s[0:3])\n",
    "print(\"\")"
   ]
  },
  {
   "cell_type": "markdown",
   "metadata": {},
   "source": [
    "### Test Set"
   ]
  },
  {
   "cell_type": "code",
   "execution_count": 6,
   "metadata": {},
   "outputs": [
    {
     "name": "stdout",
     "output_type": "stream",
     "text": [
      "Features Selected with Random Forest (RF)\n",
      "Version 1; Based on Dataset with only the Ratios Dataset as predicive Features\n",
      "\n",
      "Shape (rows, columns) of Feature Matrix X (Test) =(710, 15)\n",
      "\n",
      "Feature Matrix X (Train) with Selected Features\n"
     ]
    },
    {
     "data": {
      "text/html": [
       "<div>\n",
       "<style scoped>\n",
       "    .dataframe tbody tr th:only-of-type {\n",
       "        vertical-align: middle;\n",
       "    }\n",
       "\n",
       "    .dataframe tbody tr th {\n",
       "        vertical-align: top;\n",
       "    }\n",
       "\n",
       "    .dataframe thead th {\n",
       "        text-align: right;\n",
       "    }\n",
       "</style>\n",
       "<table border=\"1\" class=\"dataframe\">\n",
       "  <thead>\n",
       "    <tr style=\"text-align: right;\">\n",
       "      <th></th>\n",
       "      <th>CAPEI</th>\n",
       "      <th>pcf</th>\n",
       "      <th>pe_op_basic</th>\n",
       "      <th>bm</th>\n",
       "      <th>ptb</th>\n",
       "      <th>PEG_ltgforward</th>\n",
       "      <th>evm</th>\n",
       "      <th>ps</th>\n",
       "      <th>pe_exi</th>\n",
       "      <th>divyield</th>\n",
       "      <th>PEG_1yrforward</th>\n",
       "      <th>pe_inc</th>\n",
       "      <th>invt_act</th>\n",
       "      <th>pe_op_dil</th>\n",
       "      <th>roce</th>\n",
       "    </tr>\n",
       "  </thead>\n",
       "  <tbody>\n",
       "    <tr>\n",
       "      <th>0</th>\n",
       "      <td>20.983</td>\n",
       "      <td>10.484</td>\n",
       "      <td>16.127</td>\n",
       "      <td>0.254</td>\n",
       "      <td>4.189</td>\n",
       "      <td>1.330</td>\n",
       "      <td>8.585</td>\n",
       "      <td>3.318</td>\n",
       "      <td>16.224</td>\n",
       "      <td>0.0187</td>\n",
       "      <td>1.414</td>\n",
       "      <td>16.224</td>\n",
       "      <td>0.025</td>\n",
       "      <td>16.224</td>\n",
       "      <td>0.364</td>\n",
       "    </tr>\n",
       "    <tr>\n",
       "      <th>1</th>\n",
       "      <td>21.663</td>\n",
       "      <td>7.709</td>\n",
       "      <td>16.311</td>\n",
       "      <td>0.235</td>\n",
       "      <td>4.281</td>\n",
       "      <td>1.572</td>\n",
       "      <td>13.619</td>\n",
       "      <td>2.379</td>\n",
       "      <td>18.555</td>\n",
       "      <td>0.0122</td>\n",
       "      <td>1.737</td>\n",
       "      <td>18.555</td>\n",
       "      <td>0.157</td>\n",
       "      <td>16.489</td>\n",
       "      <td>0.108</td>\n",
       "    </tr>\n",
       "    <tr>\n",
       "      <th>2</th>\n",
       "      <td>16.327</td>\n",
       "      <td>8.490</td>\n",
       "      <td>9.520</td>\n",
       "      <td>0.513</td>\n",
       "      <td>2.198</td>\n",
       "      <td>6.149</td>\n",
       "      <td>6.716</td>\n",
       "      <td>3.293</td>\n",
       "      <td>15.681</td>\n",
       "      <td>0.0343</td>\n",
       "      <td>-0.973</td>\n",
       "      <td>15.550</td>\n",
       "      <td>0.078</td>\n",
       "      <td>9.520</td>\n",
       "      <td>0.196</td>\n",
       "    </tr>\n",
       "  </tbody>\n",
       "</table>\n",
       "</div>"
      ],
      "text/plain": [
       "    CAPEI     pcf  pe_op_basic     bm    ptb  PEG_ltgforward     evm     ps  \\\n",
       "0  20.983  10.484       16.127  0.254  4.189           1.330   8.585  3.318   \n",
       "1  21.663   7.709       16.311  0.235  4.281           1.572  13.619  2.379   \n",
       "2  16.327   8.490        9.520  0.513  2.198           6.149   6.716  3.293   \n",
       "\n",
       "   pe_exi  divyield  PEG_1yrforward  pe_inc  invt_act  pe_op_dil   roce  \n",
       "0  16.224    0.0187           1.414  16.224     0.025     16.224  0.364  \n",
       "1  18.555    0.0122           1.737  18.555     0.157     16.489  0.108  \n",
       "2  15.681    0.0343          -0.973  15.550     0.078      9.520  0.196  "
      ]
     },
     "metadata": {},
     "output_type": "display_data"
    },
    {
     "name": "stdout",
     "output_type": "stream",
     "text": [
      "\n",
      "Response Vector y (Test) after Feature Selection\n"
     ]
    },
    {
     "data": {
      "text/html": [
       "<div>\n",
       "<style scoped>\n",
       "    .dataframe tbody tr th:only-of-type {\n",
       "        vertical-align: middle;\n",
       "    }\n",
       "\n",
       "    .dataframe tbody tr th {\n",
       "        vertical-align: top;\n",
       "    }\n",
       "\n",
       "    .dataframe thead th {\n",
       "        text-align: right;\n",
       "    }\n",
       "</style>\n",
       "<table border=\"1\" class=\"dataframe\">\n",
       "  <thead>\n",
       "    <tr style=\"text-align: right;\">\n",
       "      <th></th>\n",
       "      <th>0</th>\n",
       "    </tr>\n",
       "  </thead>\n",
       "  <tbody>\n",
       "    <tr>\n",
       "      <th>0</th>\n",
       "      <td>1</td>\n",
       "    </tr>\n",
       "    <tr>\n",
       "      <th>1</th>\n",
       "      <td>0</td>\n",
       "    </tr>\n",
       "    <tr>\n",
       "      <th>2</th>\n",
       "      <td>1</td>\n",
       "    </tr>\n",
       "  </tbody>\n",
       "</table>\n",
       "</div>"
      ],
      "text/plain": [
       "   0\n",
       "0  1\n",
       "1  0\n",
       "2  1"
      ]
     },
     "metadata": {},
     "output_type": "display_data"
    },
    {
     "name": "stdout",
     "output_type": "stream",
     "text": [
      "\n"
     ]
    }
   ],
   "source": [
    "print('Features Selected with ' + str(sel_feat))\n",
    "print('Version ' + str(VERSION) + '; ' + str(sel_version))\n",
    "\n",
    "print(\"\")\n",
    "print('Shape (rows, columns) of Feature Matrix X (Test) ' + '=' + str(X_test_s.shape))\n",
    "print(\"\")\n",
    "\n",
    "print('Feature Matrix X (Train) with Selected Features')\n",
    "display(X_test_s[0:3])\n",
    "print(\"\")\n",
    "\n",
    "print('Response Vector y (Test) after Feature Selection')\n",
    "display(y_test_s[0:3])\n",
    "print(\"\")"
   ]
  },
  {
   "cell_type": "markdown",
   "metadata": {},
   "source": [
    "## 3.2. Simple Logistic Regression (statsmodels) (SLM)"
   ]
  },
  {
   "cell_type": "markdown",
   "metadata": {},
   "source": [
    "### 3.2.1. Preparation and fitting (on Training Set) , define BEST FEATURE (SLM)"
   ]
  },
  {
   "cell_type": "code",
   "execution_count": 7,
   "metadata": {},
   "outputs": [
    {
     "name": "stdout",
     "output_type": "stream",
     "text": [
      "Features Selected with Random Forest (RF)\n",
      "Version 1; Based on Dataset with only the Ratios Dataset as predicive Features\n",
      "\n",
      "Optimization terminated successfully.\n",
      "         Current function value: 0.676629\n",
      "         Iterations 6\n",
      "\n"
     ]
    }
   ],
   "source": [
    "print('Features Selected with ' + str(sel_feat))\n",
    "print('Version ' + str(VERSION) + '; ' + str(sel_version))\n",
    "print(\"\")\n",
    "\n",
    "# Run Simple Logistic Regression\n",
    "# Logistic Regression (with the most important feature from feature selection)\n",
    "# Assign \"best_feature\" to matrix X and response to y, acording to chosen Version of datasets and feature Selection method\n",
    "if VERSION == 1:\n",
    "    if SELECTION == 'RF':\n",
    "        best_feature = 'CAPEI'\n",
    "        logReg = sm.Logit(endog = y_train_s, exog= sm.add_constant(X_train_s[[best_feature]])).fit()\n",
    "    elif SELECTION == 'PCA':\n",
    "        best_feature = None\n",
    "        print('ERROR: PCA best feature not defined! Thus no Simple Regression possible.')\n",
    "elif VERSION == 2:\n",
    "    if SELECTION == 'RF':\n",
    "        best_feature = 'RET'\n",
    "        logReg = sm.Logit(endog = y_train_s, exog= sm.add_constant(X_train_s[[best_feature]])).fit()\n",
    "    elif SELECTION == 'PCA':\n",
    "        best_feature = None\n",
    "        print('ERROR: PCA best feature not defined! Thus no Simple Regression possible.')\n",
    "else: raise ValueError('VERSION value must be either 1 or 2, SELECTION must be either RF or PCA')\n",
    "print(\"\")"
   ]
  },
  {
   "cell_type": "markdown",
   "metadata": {},
   "source": [
    "### 3.2.2. Summary (SLM)"
   ]
  },
  {
   "cell_type": "code",
   "execution_count": 8,
   "metadata": {},
   "outputs": [],
   "source": [
    "# Workaround solution for error (\"AttributeError: module 'scipy.stats' has no attribute 'chisqprob'\")\n",
    "from scipy import stats\n",
    "stats.chisqprob = lambda chisq, df: stats.chi2.sf(chisq, df)"
   ]
  },
  {
   "cell_type": "code",
   "execution_count": 9,
   "metadata": {},
   "outputs": [
    {
     "name": "stdout",
     "output_type": "stream",
     "text": [
      "                           Logit Regression Results                           \n",
      "==============================================================================\n",
      "Dep. Variable:                      0   No. Observations:                 2836\n",
      "Model:                          Logit   Df Residuals:                     2834\n",
      "Method:                           MLE   Df Model:                            1\n",
      "Date:                Wed, 11 Apr 2018   Pseudo R-squ.:                0.005030\n",
      "Time:                        09:53:42   Log-Likelihood:                -1918.9\n",
      "converged:                       True   LL-Null:                       -1928.6\n",
      "                                        LLR p-value:                 1.060e-05\n",
      "==============================================================================\n",
      "                 coef    std err          z      P>|z|      [0.025      0.975]\n",
      "------------------------------------------------------------------------------\n",
      "const          0.0841      0.077      1.094      0.274      -0.067       0.235\n",
      "CAPEI          0.0121      0.003      3.577      0.000       0.005       0.019\n",
      "==============================================================================\n",
      "\n",
      "logReg pvalues: \n",
      "\n",
      "const    0.274153\n",
      "CAPEI    0.000347\n",
      "dtype: float64\n"
     ]
    }
   ],
   "source": [
    "# LogReg with only one feature as exogen variable\n",
    "if SELECTION == 'RF':\n",
    "    print(logReg.summary())\n",
    "    print(\"\")\n",
    "    print('logReg pvalues: ')\n",
    "    print(\"\")\n",
    "    print(logReg.pvalues)\n",
    "elif SELECTION == 'PCA':\n",
    "    print('ERROR: PCA best feature not defined! Thus no Simple Regression possible.')\n",
    "else: raise ValueError('VERSION value must be either 1 or 2, SELECTION must be either RF or PCA')"
   ]
  },
  {
   "cell_type": "markdown",
   "metadata": {},
   "source": [
    "### 3.2.3. Assessing Output (SLM)\n",
    "\n",
    "### Hypothesis testing / Confidence Interval"
   ]
  },
  {
   "cell_type": "code",
   "execution_count": 10,
   "metadata": {},
   "outputs": [
    {
     "name": "stdout",
     "output_type": "stream",
     "text": [
      "\n",
      "99% Confidence Interval (Significance Level 1%)\n"
     ]
    }
   ],
   "source": [
    "significance_level = 0.01\n",
    "\n",
    "if SELECTION == 'RF':\n",
    "    print(\"\")\n",
    "    print(str(int(100 - significance_level*100)) + '% Confidence Interval (Significance Level ' \n",
    "          + str(int(significance_level*100)) + '%)')\n",
    "    logReg.conf_int(alpha=significance_level)\n",
    "elif SELECTION == 'PCA':\n",
    "    print('ERROR: PCA best feature not defined! Thus no Simple Regression possible.')\n",
    "else: raise ValueError('VERSION value must be either 1 or 2, SELECTION must be either RF or PCA')"
   ]
  },
  {
   "cell_type": "markdown",
   "metadata": {},
   "source": [
    "### Confusion Matrix"
   ]
  },
  {
   "cell_type": "code",
   "execution_count": 11,
   "metadata": {},
   "outputs": [],
   "source": [
    "if SELECTION == 'RF':\n",
    "    logReg.pred_table(threshold=0.5)\n",
    "elif SELECTION == 'PCA':\n",
    "    print('ERROR: PCA best feature not defined! Thus no Simple Regression possible.')\n",
    "else: raise ValueError('VERSION value must be either 1 or 2, SELECTION must be either RF or PCA')\n"
   ]
  },
  {
   "cell_type": "markdown",
   "metadata": {},
   "source": [
    "### 3.2.2. Prediction (SML)\n",
    "\n",
    "### A: In-sample Prediction of probability for returns going UP in the next period (predict y_train)\n"
   ]
  },
  {
   "cell_type": "markdown",
   "metadata": {},
   "source": [
    "#### For whole Training Set"
   ]
  },
  {
   "cell_type": "code",
   "execution_count": 12,
   "metadata": {},
   "outputs": [
    {
     "name": "stdout",
     "output_type": "stream",
     "text": [
      "Features Selected with Random Forest (RF)\n",
      "Version 1; Based on Dataset with only the Ratios Dataset as predicive Features\n",
      "\n",
      "Predicted probability of price going UP for whole Feature Train Set is: \n"
     ]
    },
    {
     "data": {
      "text/plain": [
       "0    0.582867\n",
       "1    0.595464\n",
       "2    0.557944\n",
       "dtype: float64"
      ]
     },
     "metadata": {},
     "output_type": "display_data"
    },
    {
     "data": {
      "text/html": [
       "<div>\n",
       "<style scoped>\n",
       "    .dataframe tbody tr th:only-of-type {\n",
       "        vertical-align: middle;\n",
       "    }\n",
       "\n",
       "    .dataframe tbody tr th {\n",
       "        vertical-align: top;\n",
       "    }\n",
       "\n",
       "    .dataframe thead th {\n",
       "        text-align: right;\n",
       "    }\n",
       "</style>\n",
       "<table border=\"1\" class=\"dataframe\">\n",
       "  <thead>\n",
       "    <tr style=\"text-align: right;\">\n",
       "      <th></th>\n",
       "      <th>0</th>\n",
       "    </tr>\n",
       "  </thead>\n",
       "  <tbody>\n",
       "    <tr>\n",
       "      <th>0</th>\n",
       "      <td>0</td>\n",
       "    </tr>\n",
       "    <tr>\n",
       "      <th>1</th>\n",
       "      <td>1</td>\n",
       "    </tr>\n",
       "    <tr>\n",
       "      <th>2</th>\n",
       "      <td>0</td>\n",
       "    </tr>\n",
       "  </tbody>\n",
       "</table>\n",
       "</div>"
      ],
      "text/plain": [
       "   0\n",
       "0  0\n",
       "1  1\n",
       "2  0"
      ]
     },
     "metadata": {},
     "output_type": "display_data"
    }
   ],
   "source": [
    "print('Features Selected with ' + str(sel_feat))\n",
    "print('Version ' + str(VERSION) + '; ' + str(sel_version))\n",
    "print(\"\")\n",
    "\n",
    "# X must include 1 in first column for intercept\n",
    "# we wish to get the probability of 'UP' (=1) for the whole test set\n",
    "if SELECTION == 'RF':\n",
    "    pred_train_all = logReg.predict(sm.add_constant(X_train_s[best_feature]))\n",
    "    print('Predicted probability of price going UP for whole Feature Train Set is: ')\n",
    "    display(pred_train_all.head(3))\n",
    "    display(y_train_s.head(3))\n",
    "elif SELECTION == 'PCA':\n",
    "    print('ERROR: PCA best feature not defined! Thus no Simple Regression possible.')\n",
    "else: raise ValueError('VERSION value must be either 1 or 2, SELECTION must be either RF or PCA')"
   ]
  },
  {
   "cell_type": "markdown",
   "metadata": {},
   "source": [
    "### B: New-sample Prediction of probability for returns going UP in the next period (predict y_test)\n",
    "\n",
    "#### For chosen value of predictive variable\n"
   ]
  },
  {
   "cell_type": "code",
   "execution_count": 13,
   "metadata": {},
   "outputs": [
    {
     "name": "stdout",
     "output_type": "stream",
     "text": [
      "\n",
      "Features Selected with Random Forest (RF)\n",
      "Version 1; Based on Dataset with only the Ratios Dataset as predicive Features\n",
      "\n",
      "Chosen best feature = CAPEI\n",
      "Chosen value of best feature = 15\n",
      "\n",
      "Predicted probability of price going UP with chosen CAPEI value is: 56.5849%\n",
      "Ratio of \"UP\" (Train)  =  58.0748%\n"
     ]
    }
   ],
   "source": [
    "# X must include 1 in first column for intercept\n",
    "# we wish to get the probability of 'UP' (=1) for a best_feature_value of USD 15\n",
    "\n",
    "# Print Text\n",
    "print(\"\")\n",
    "print('Features Selected with ' + str(sel_feat))\n",
    "print('Version ' + str(VERSION) + '; ' + str(sel_version))\n",
    "print(\"\")\n",
    "print('Chosen best feature = ' + str(best_feature))\n",
    "\n",
    "# Loop for Version differenciation\n",
    "if VERSION == 1:\n",
    "    if SELECTION == 'RF':\n",
    "        best_feature_value = 15\n",
    "        print('Chosen value of best feature = ' + str(best_feature_value))\n",
    "        print(\"\")\n",
    "        pred_test_one = logReg.predict([1, best_feature_value])\n",
    "        ratio_response_train = y_train_s.sum() / y_train_s.size\n",
    "        print('Predicted probability of price going UP with chosen ' + str(best_feature) + ' value is: '\n",
    "              + str(\"%.4f\" % round(float(pred_test_one*100),4)) + '%')\n",
    "        print('Ratio of \"UP\" (Train)  =  ' + str(\"%.4f\" % round(float(ratio_response_train*100),4)) + '%')\n",
    "    elif SELECTION == 'PCA':\n",
    "        print('ERROR: PCA best feature not defined! Thus no Simple Regression possible.')  \n",
    "elif VERSION == 2:\n",
    "        if SELECTION == 'RF':\n",
    "            best_feature_value = 0.02\n",
    "            print('Chosen value of best feature = ' + str(best_feature_value))\n",
    "            print(\"\")\n",
    "            pred_test_one = logReg.predict([1, best_feature_value])\n",
    "            ratio_response_train = y_train_s.sum() / y_train_s.size\n",
    "            print('Predicted probability of price going UP with chosen ' + str(best_feature) + ' value is: '\n",
    "                  + str(\"%.4f\" % round(float(pred_test_one*100),4)) + '%')\n",
    "            print('Ratio of \"UP\" (Train)  =  ' + str(\"%.4f\" % round(float(ratio_response_train*100),4)) + '%')\n",
    "        elif SELECTION == 'PCA':\n",
    "            print('ERROR: PCA best feature not defined! Thus no Simple Regression possible.')\n",
    "else: raise ValueError('VERSION value must be either 1 or 2, SELECTION must be either RF or PCA')"
   ]
  },
  {
   "cell_type": "markdown",
   "metadata": {},
   "source": [
    "#### For whole Test Set"
   ]
  },
  {
   "cell_type": "code",
   "execution_count": 14,
   "metadata": {},
   "outputs": [
    {
     "name": "stdout",
     "output_type": "stream",
     "text": [
      "\n",
      "Features Selected with Random Forest (RF)\n",
      "Version 1; Based on Dataset with only the Ratios Dataset as predicive Features\n",
      "\n",
      "\n",
      "Predicted probability of price going UP for whole Feature Test Set is: \n"
     ]
    },
    {
     "data": {
      "text/plain": [
       "0    0.583482\n",
       "1    0.585474\n",
       "2    0.569776\n",
       "dtype: float64"
      ]
     },
     "metadata": {},
     "output_type": "display_data"
    },
    {
     "data": {
      "text/html": [
       "<div>\n",
       "<style scoped>\n",
       "    .dataframe tbody tr th:only-of-type {\n",
       "        vertical-align: middle;\n",
       "    }\n",
       "\n",
       "    .dataframe tbody tr th {\n",
       "        vertical-align: top;\n",
       "    }\n",
       "\n",
       "    .dataframe thead th {\n",
       "        text-align: right;\n",
       "    }\n",
       "</style>\n",
       "<table border=\"1\" class=\"dataframe\">\n",
       "  <thead>\n",
       "    <tr style=\"text-align: right;\">\n",
       "      <th></th>\n",
       "      <th>0</th>\n",
       "    </tr>\n",
       "  </thead>\n",
       "  <tbody>\n",
       "    <tr>\n",
       "      <th>0</th>\n",
       "      <td>1</td>\n",
       "    </tr>\n",
       "    <tr>\n",
       "      <th>1</th>\n",
       "      <td>0</td>\n",
       "    </tr>\n",
       "    <tr>\n",
       "      <th>2</th>\n",
       "      <td>1</td>\n",
       "    </tr>\n",
       "  </tbody>\n",
       "</table>\n",
       "</div>"
      ],
      "text/plain": [
       "   0\n",
       "0  1\n",
       "1  0\n",
       "2  1"
      ]
     },
     "metadata": {},
     "output_type": "display_data"
    }
   ],
   "source": [
    "print(\"\")\n",
    "print('Features Selected with ' + str(sel_feat))\n",
    "print('Version ' + str(VERSION) + '; ' + str(sel_version))\n",
    "print(\"\")\n",
    "\n",
    "# we wish to get the probability of 'UP' (=1) for the whole test set\n",
    "if SELECTION == 'RF':\n",
    "    pred_test_all = logReg.predict(sm.add_constant(X_test_s[[best_feature]]))\n",
    "    print(\"\")\n",
    "    print('Predicted probability of price going UP for whole Feature Test Set is: ')\n",
    "    display(pred_test_all.head(3))\n",
    "    display(y_test_s.head(3))\n",
    "elif SELECTION == 'PCA':\n",
    "    print('ERROR: PCA best feature not defined! Thus no Simple Regression possible.')\n",
    "else: raise ValueError('VERSION value must be either 1 or 2, SELECTION must be either RF or PCA')    "
   ]
  },
  {
   "cell_type": "markdown",
   "metadata": {},
   "source": [
    "### 3.2.3. Plot Results (SLM)"
   ]
  },
  {
   "cell_type": "code",
   "execution_count": 15,
   "metadata": {},
   "outputs": [
    {
     "name": "stdout",
     "output_type": "stream",
     "text": [
      "\n",
      "Features Selected with Random Forest (RF)\n",
      "Version 1; Based on Dataset with only the Ratios Dataset as predicive Features\n",
      "\n",
      "Chosen best feature = CAPEI\n",
      "\n"
     ]
    },
    {
     "data": {
      "image/png": "[encoded data removed]",
      "text/plain": [
       "<matplotlib.figure.Figure at 0x7f454bd03400>"
      ]
     },
     "metadata": {},
     "output_type": "display_data"
    }
   ],
   "source": [
    "print(\"\")\n",
    "print('Features Selected with ' + str(sel_feat))\n",
    "print('Version ' + str(VERSION) + '; ' + str(sel_version))\n",
    "print(\"\")\n",
    "print('Chosen best feature = ' + str(best_feature))\n",
    "print(\"\")\n",
    "\n",
    "# Plot scatter and log.Reg\n",
    "if SELECTION == 'RF':\n",
    "    \n",
    "    # Transfer best_feature column an prediction for response vector in a newly made dataframe \"res\"\n",
    "    res = pd.DataFrame()\n",
    "    res['best_feature'] = X_train_s[best_feature]\n",
    "    res['pred'] = logReg.predict()\n",
    "\n",
    "    # Sort results by values of the best_feature column\n",
    "    res = res.sort_values('best_feature')\n",
    "    plt.figure(figsize =(8,5))\n",
    "    plt.scatter(X_train_s[best_feature], y_train_s, marker ='.')\n",
    "    plt.plot(res.best_feature, res.pred, c = 'k')\n",
    "    plt.axhline(y=0, color = \"gray\", linestyle = \"dashed\")\n",
    "    plt.axhline(y=1, color = \"gray\", linestyle = \"dashed\")\n",
    "    plt.ylabel(\"Probability of UP (=1)\", fontsize =12)\n",
    "    plt.xlabel(str(best_feature), fontsize =12)\n",
    "    plt.title(str(best_feature) + ' vs. probability of returns going UP in the next period');\n",
    "    \n",
    "elif SELECTION == 'PCA':\n",
    "    print('ERROR: PCA best feature not defined! Thus no Simple Regression possible.')\n",
    "    \n",
    "else: raise ValueError('VERSION value must be either 1 or 2, SELECTION must be either RF or PCA')  "
   ]
  },
  {
   "cell_type": "markdown",
   "metadata": {},
   "source": [
    "## 3.3. Multiple Logistic Regression with n pre-selected features (MLR1)"
   ]
  },
  {
   "cell_type": "markdown",
   "metadata": {},
   "source": [
    "### 3.3.1. Preparation and fitting (on Training Set) (MLR1)"
   ]
  },
  {
   "cell_type": "code",
   "execution_count": 16,
   "metadata": {},
   "outputs": [
    {
     "name": "stdout",
     "output_type": "stream",
     "text": [
      "Optimization terminated successfully.\n",
      "         Current function value: 0.651438\n",
      "         Iterations 8\n"
     ]
    }
   ],
   "source": [
    "## Multiple Log. Regression (with all n best features chosen in Chapter 2 in the feature selection process)\n",
    "logReg_m = sm.Logit(endog = y_train_s, exog = sm.add_constant(X_train_s)).fit() "
   ]
  },
  {
   "cell_type": "markdown",
   "metadata": {},
   "source": [
    "### 3.3.2. Summary (MLR1)"
   ]
  },
  {
   "cell_type": "code",
   "execution_count": 17,
   "metadata": {},
   "outputs": [
    {
     "name": "stdout",
     "output_type": "stream",
     "text": [
      "\n",
      "Features Selected with Random Forest (RF)\n",
      "Version 1; Based on Dataset with only the Ratios Dataset as predicive Features\n",
      "\n",
      "Multiple Logistic Regression with all selected features\n",
      "\n",
      "                           Logit Regression Results                           \n",
      "==============================================================================\n",
      "Dep. Variable:                      0   No. Observations:                 2836\n",
      "Model:                          Logit   Df Residuals:                     2820\n",
      "Method:                           MLE   Df Model:                           15\n",
      "Date:                Wed, 11 Apr 2018   Pseudo R-squ.:                 0.04207\n",
      "Time:                        09:53:43   Log-Likelihood:                -1847.5\n",
      "converged:                       True   LL-Null:                       -1928.6\n",
      "                                        LLR p-value:                 8.580e-27\n",
      "==============================================================================\n",
      "==================================================================================\n",
      "                     coef    std err          z      P>|z|      [0.025      0.975]\n",
      "----------------------------------------------------------------------------------\n",
      "const             -0.2339      0.327     -0.715      0.474      -0.875       0.407\n",
      "CAPEI              0.0079      0.003      2.405      0.016       0.001       0.014\n",
      "pcf                0.0031      0.004      0.709      0.479      -0.006       0.012\n",
      "pe_op_basic       -0.0885      0.116     -0.761      0.446      -0.316       0.139\n",
      "bm                 1.7783      0.272      6.543      0.000       1.246       2.311\n",
      "ptb                0.1538      0.026      5.893      0.000       0.103       0.205\n",
      "PEG_ltgforward     0.0128      0.013      0.979      0.328      -0.013       0.038\n",
      "evm               -0.0705      0.010     -6.771      0.000      -0.091      -0.050\n",
      "ps                 0.2310      0.042      5.501      0.000       0.149       0.313\n",
      "pe_exi             0.0095      0.004      2.331      0.020       0.002       0.017\n",
      "divyield         -18.9882      3.653     -5.199      0.000     -26.147     -11.829\n",
      "PEG_1yrforward     0.0120      0.007      1.835      0.067      -0.001       0.025\n",
      "pe_inc            -0.0127      0.004     -3.303      0.001      -0.020      -0.005\n",
      "invt_act           0.1775      0.258      0.689      0.491      -0.328       0.683\n",
      "pe_op_dil          0.1029      0.117      0.878      0.380      -0.127       0.333\n",
      "roce              -1.7212      0.520     -3.308      0.001      -2.741      -0.701\n",
      "==================================================================================\n"
     ]
    }
   ],
   "source": [
    "print(\"\")\n",
    "print('Features Selected with ' + str(sel_feat))\n",
    "print('Version ' + str(VERSION) + '; ' + str(sel_version))\n",
    "print(\"\")\n",
    "print(\"Multiple Logistic Regression with all selected features\")\n",
    "print(\"\")\n",
    "\n",
    "# Workaround solution for error (\"AttributeError: module 'scipy.stats' has no attribute 'chisqprob'\")\n",
    "from scipy import stats\n",
    "stats.chisqprob = lambda chisq, df: stats.chi2.sf(chisq, df)\n",
    "\n",
    "# Run Multiple Logistic Regression\n",
    "print(logReg_m.summary().tables[0])\n",
    "print(logReg_m.summary().tables[1])"
   ]
  },
  {
   "cell_type": "markdown",
   "metadata": {},
   "source": [
    "### 3.3.3. Assessing Output (MLR1)\n",
    "\n",
    "### Hypothesis testing / Confidence Interval"
   ]
  },
  {
   "cell_type": "code",
   "execution_count": 18,
   "metadata": {},
   "outputs": [
    {
     "name": "stdout",
     "output_type": "stream",
     "text": [
      "\n",
      "99% Confidence Interval (Significance Level 1%)\n"
     ]
    },
    {
     "data": {
      "text/html": [
       "<div>\n",
       "<style scoped>\n",
       "    .dataframe tbody tr th:only-of-type {\n",
       "        vertical-align: middle;\n",
       "    }\n",
       "\n",
       "    .dataframe tbody tr th {\n",
       "        vertical-align: top;\n",
       "    }\n",
       "\n",
       "    .dataframe thead th {\n",
       "        text-align: right;\n",
       "    }\n",
       "</style>\n",
       "<table border=\"1\" class=\"dataframe\">\n",
       "  <thead>\n",
       "    <tr style=\"text-align: right;\">\n",
       "      <th></th>\n",
       "      <th>0</th>\n",
       "      <th>1</th>\n",
       "    </tr>\n",
       "  </thead>\n",
       "  <tbody>\n",
       "    <tr>\n",
       "      <th>const</th>\n",
       "      <td>-1.076355</td>\n",
       "      <td>0.608485</td>\n",
       "    </tr>\n",
       "    <tr>\n",
       "      <th>CAPEI</th>\n",
       "      <td>-0.000562</td>\n",
       "      <td>0.016355</td>\n",
       "    </tr>\n",
       "    <tr>\n",
       "      <th>pcf</th>\n",
       "      <td>-0.008289</td>\n",
       "      <td>0.014581</td>\n",
       "    </tr>\n",
       "    <tr>\n",
       "      <th>pe_op_basic</th>\n",
       "      <td>-0.387846</td>\n",
       "      <td>0.210863</td>\n",
       "    </tr>\n",
       "    <tr>\n",
       "      <th>bm</th>\n",
       "      <td>1.078202</td>\n",
       "      <td>2.478454</td>\n",
       "    </tr>\n",
       "    <tr>\n",
       "      <th>ptb</th>\n",
       "      <td>0.086577</td>\n",
       "      <td>0.221048</td>\n",
       "    </tr>\n",
       "    <tr>\n",
       "      <th>PEG_ltgforward</th>\n",
       "      <td>-0.020874</td>\n",
       "      <td>0.046454</td>\n",
       "    </tr>\n",
       "    <tr>\n",
       "      <th>evm</th>\n",
       "      <td>-0.097374</td>\n",
       "      <td>-0.043704</td>\n",
       "    </tr>\n",
       "    <tr>\n",
       "      <th>ps</th>\n",
       "      <td>0.122865</td>\n",
       "      <td>0.339222</td>\n",
       "    </tr>\n",
       "    <tr>\n",
       "      <th>pe_exi</th>\n",
       "      <td>-0.000992</td>\n",
       "      <td>0.019895</td>\n",
       "    </tr>\n",
       "    <tr>\n",
       "      <th>divyield</th>\n",
       "      <td>-28.396641</td>\n",
       "      <td>-9.579708</td>\n",
       "    </tr>\n",
       "    <tr>\n",
       "      <th>PEG_1yrforward</th>\n",
       "      <td>-0.004854</td>\n",
       "      <td>0.028897</td>\n",
       "    </tr>\n",
       "    <tr>\n",
       "      <th>pe_inc</th>\n",
       "      <td>-0.022549</td>\n",
       "      <td>-0.002790</td>\n",
       "    </tr>\n",
       "    <tr>\n",
       "      <th>invt_act</th>\n",
       "      <td>-0.486404</td>\n",
       "      <td>0.841431</td>\n",
       "    </tr>\n",
       "    <tr>\n",
       "      <th>pe_op_dil</th>\n",
       "      <td>-0.198926</td>\n",
       "      <td>0.404766</td>\n",
       "    </tr>\n",
       "    <tr>\n",
       "      <th>roce</th>\n",
       "      <td>-3.061577</td>\n",
       "      <td>-0.380908</td>\n",
       "    </tr>\n",
       "  </tbody>\n",
       "</table>\n",
       "</div>"
      ],
      "text/plain": [
       "                        0         1\n",
       "const           -1.076355  0.608485\n",
       "CAPEI           -0.000562  0.016355\n",
       "pcf             -0.008289  0.014581\n",
       "pe_op_basic     -0.387846  0.210863\n",
       "bm               1.078202  2.478454\n",
       "ptb              0.086577  0.221048\n",
       "PEG_ltgforward  -0.020874  0.046454\n",
       "evm             -0.097374 -0.043704\n",
       "ps               0.122865  0.339222\n",
       "pe_exi          -0.000992  0.019895\n",
       "divyield       -28.396641 -9.579708\n",
       "PEG_1yrforward  -0.004854  0.028897\n",
       "pe_inc          -0.022549 -0.002790\n",
       "invt_act        -0.486404  0.841431\n",
       "pe_op_dil       -0.198926  0.404766\n",
       "roce            -3.061577 -0.380908"
      ]
     },
     "metadata": {},
     "output_type": "display_data"
    }
   ],
   "source": [
    "significance_level = 0.01\n",
    "\n",
    "# Print Confidence Interval with Title\n",
    "print(\"\")\n",
    "print(str(int(100 - significance_level*100)) + '% Confidence Interval (Significance Level ' \n",
    "      + str(int(significance_level*100)) + '%)')\n",
    "display(logReg_m.conf_int(alpha=significance_level))"
   ]
  },
  {
   "cell_type": "markdown",
   "metadata": {},
   "source": [
    "### Confusion Matrix"
   ]
  },
  {
   "cell_type": "code",
   "execution_count": 19,
   "metadata": {},
   "outputs": [
    {
     "data": {
      "text/plain": [
       "array([[ 364.,  825.],\n",
       "       [ 259., 1388.]])"
      ]
     },
     "execution_count": 19,
     "metadata": {},
     "output_type": "execute_result"
    }
   ],
   "source": [
    "logReg_m.pred_table(threshold=0.5)"
   ]
  },
  {
   "cell_type": "markdown",
   "metadata": {},
   "source": [
    "### 3.3.4. Prediction (MLR1)\n",
    "Multiple Logistic Regression 1 (pre-selected features with RandomForest in Chapter 2) \n",
    "\n",
    "### A: In-sample Prediction of probability for returns going UP in the next period (predict y_train)\n",
    "\n",
    "#### For whole Training Set\n"
   ]
  },
  {
   "cell_type": "code",
   "execution_count": 20,
   "metadata": {},
   "outputs": [
    {
     "name": "stdout",
     "output_type": "stream",
     "text": [
      "\n",
      "Features Selected with Random Forest (RF)\n",
      "Version 1; Based on Dataset with only the Ratios Dataset as predicive Features\n",
      "\n",
      "\n",
      "Predicted probabilities of price going UP for whole Feature Set (Train) are: \n"
     ]
    },
    {
     "data": {
      "text/plain": [
       "0    0.699485\n",
       "1    0.501512\n",
       "2    0.682452\n",
       "dtype: float64"
      ]
     },
     "metadata": {},
     "output_type": "display_data"
    },
    {
     "name": "stdout",
     "output_type": "stream",
     "text": [
      "\n",
      "Response Vector (Train): \n"
     ]
    },
    {
     "data": {
      "text/html": [
       "<div>\n",
       "<style scoped>\n",
       "    .dataframe tbody tr th:only-of-type {\n",
       "        vertical-align: middle;\n",
       "    }\n",
       "\n",
       "    .dataframe tbody tr th {\n",
       "        vertical-align: top;\n",
       "    }\n",
       "\n",
       "    .dataframe thead th {\n",
       "        text-align: right;\n",
       "    }\n",
       "</style>\n",
       "<table border=\"1\" class=\"dataframe\">\n",
       "  <thead>\n",
       "    <tr style=\"text-align: right;\">\n",
       "      <th></th>\n",
       "      <th>0</th>\n",
       "    </tr>\n",
       "  </thead>\n",
       "  <tbody>\n",
       "    <tr>\n",
       "      <th>0</th>\n",
       "      <td>0</td>\n",
       "    </tr>\n",
       "    <tr>\n",
       "      <th>1</th>\n",
       "      <td>1</td>\n",
       "    </tr>\n",
       "    <tr>\n",
       "      <th>2</th>\n",
       "      <td>0</td>\n",
       "    </tr>\n",
       "  </tbody>\n",
       "</table>\n",
       "</div>"
      ],
      "text/plain": [
       "   0\n",
       "0  0\n",
       "1  1\n",
       "2  0"
      ]
     },
     "metadata": {},
     "output_type": "display_data"
    }
   ],
   "source": [
    "print(\"\")\n",
    "print('Features Selected with ' + str(sel_feat))\n",
    "print('Version ' + str(VERSION) + '; ' + str(sel_version))\n",
    "print(\"\")\n",
    "\n",
    "# Get the probability of 'UP' (=1) for the whole training set\n",
    "pred_train_all = logReg_m.predict(sm.add_constant(X_train_s))\n",
    "\n",
    "# Print Prediction and Response Vector, with Title\n",
    "print(\"\")\n",
    "print('Predicted probabilities of price going UP for whole Feature Set (Train) are: ')\n",
    "display(pred_train_all[0:3])\n",
    "print(\"\")\n",
    "print('Response Vector (Train): ')\n",
    "display(y_train_s[0:3])"
   ]
  },
  {
   "cell_type": "markdown",
   "metadata": {},
   "source": [
    "### B: New-sample Prediction of probability for returns going UP in the next period (predict y_test)\n",
    "\n",
    "#### For whole Test Set\n"
   ]
  },
  {
   "cell_type": "code",
   "execution_count": 21,
   "metadata": {},
   "outputs": [
    {
     "name": "stdout",
     "output_type": "stream",
     "text": [
      "\n",
      "Features Selected with Random Forest (RF)\n",
      "Version 1; Based on Dataset with only the Ratios Dataset as predicive Features\n",
      "\n",
      "\n",
      "Predicted probability of price going UP for whole Feature Set (Test) is: \n"
     ]
    },
    {
     "data": {
      "text/plain": [
       "0    0.615165\n",
       "1    0.615856\n",
       "2    0.654717\n",
       "dtype: float64"
      ]
     },
     "metadata": {},
     "output_type": "display_data"
    },
    {
     "name": "stdout",
     "output_type": "stream",
     "text": [
      "\n",
      "Response Vector (Test): \n"
     ]
    },
    {
     "data": {
      "text/html": [
       "<div>\n",
       "<style scoped>\n",
       "    .dataframe tbody tr th:only-of-type {\n",
       "        vertical-align: middle;\n",
       "    }\n",
       "\n",
       "    .dataframe tbody tr th {\n",
       "        vertical-align: top;\n",
       "    }\n",
       "\n",
       "    .dataframe thead th {\n",
       "        text-align: right;\n",
       "    }\n",
       "</style>\n",
       "<table border=\"1\" class=\"dataframe\">\n",
       "  <thead>\n",
       "    <tr style=\"text-align: right;\">\n",
       "      <th></th>\n",
       "      <th>0</th>\n",
       "    </tr>\n",
       "  </thead>\n",
       "  <tbody>\n",
       "    <tr>\n",
       "      <th>0</th>\n",
       "      <td>1</td>\n",
       "    </tr>\n",
       "    <tr>\n",
       "      <th>1</th>\n",
       "      <td>0</td>\n",
       "    </tr>\n",
       "    <tr>\n",
       "      <th>2</th>\n",
       "      <td>1</td>\n",
       "    </tr>\n",
       "  </tbody>\n",
       "</table>\n",
       "</div>"
      ],
      "text/plain": [
       "   0\n",
       "0  1\n",
       "1  0\n",
       "2  1"
      ]
     },
     "metadata": {},
     "output_type": "display_data"
    }
   ],
   "source": [
    "print(\"\")\n",
    "print('Features Selected with ' + str(sel_feat))\n",
    "print('Version ' + str(VERSION) + '; ' + str(sel_version))\n",
    "print(\"\")\n",
    "\n",
    "# Get the probability of 'UP' (=1) for the whole test set\n",
    "pred_test_all = logReg_m.predict(sm.add_constant(X_test_s))\n",
    "\n",
    "# Print Prediction and Response Vector, with Title\n",
    "print(\"\")\n",
    "print('Predicted probability of price going UP for whole Feature Set (Test) is: ')\n",
    "display(pred_test_all.head(3))\n",
    "print(\"\")\n",
    "print('Response Vector (Test): ')\n",
    "display(y_test_s.head(3))"
   ]
  },
  {
   "cell_type": "code",
   "execution_count": 22,
   "metadata": {},
   "outputs": [],
   "source": [
    "# compare LogReg with only one feature as exogen variable & LogReg 1 \n",
    "# (explicitly Log-Likelihood values-> is there an improvement? (smaller values are prefered!))"
   ]
  },
  {
   "cell_type": "code",
   "execution_count": 23,
   "metadata": {},
   "outputs": [],
   "source": [
    "# Check for non significant values (p-value > 0.05) and the Log-Likelihood value"
   ]
  },
  {
   "cell_type": "markdown",
   "metadata": {},
   "source": [
    "## 3.4. Multiple Logistic Regression with only significant features (MLR2)\n",
    "\n",
    "Apply an other multiple logistic regression on a transformed dataset with only all significant values from LogReg_m (above)"
   ]
  },
  {
   "cell_type": "markdown",
   "metadata": {},
   "source": [
    "### 3.4.1. Extract significant features (MLR2)"
   ]
  },
  {
   "cell_type": "code",
   "execution_count": 24,
   "metadata": {},
   "outputs": [
    {
     "name": "stdout",
     "output_type": "stream",
     "text": [
      "\"Condition\" array with index starting with intercept:\n"
     ]
    },
    {
     "data": {
      "text/plain": [
       "(array([ 1,  4,  5,  7,  8,  9, 10, 12, 15]),)"
      ]
     },
     "metadata": {},
     "output_type": "display_data"
    },
    {
     "name": "stdout",
     "output_type": "stream",
     "text": [
      "\"Condition\" array with index starting with the first feature, leaving intercept out of the counting:\n"
     ]
    },
    {
     "data": {
      "text/plain": [
       "array([[ 0,  3,  4,  6,  7,  8,  9, 11, 14]])"
      ]
     },
     "metadata": {},
     "output_type": "display_data"
    },
    {
     "name": "stdout",
     "output_type": "stream",
     "text": [
      "\n",
      "Features that were significant in the previous MLR in chapter 3.3.:\n",
      "\n",
      "['CAPEI', 'bm', 'ptb', 'evm', 'ps', 'pe_exi', 'divyield', 'pe_inc', 'roce']\n"
     ]
    }
   ],
   "source": [
    "# extracting significant features with an alpha-boundery of 0.05\n",
    "condition = np.where(logReg_m.pvalues < 0.05)\n",
    "print('\"Condition\" array with index starting with intercept:')\n",
    "display(condition)\n",
    "\n",
    "# Subtract '1' fom every entry in the numpy array \"condition\", because in logReg index 0 starts with the intercept\n",
    "# but in the X_train_s set the index 0 starts with the first feature already\n",
    "# otherwise there would be an error \"index out of range\" when we would try to apply the condition to the X_train_s set\n",
    "condition_m = np.subtract(condition, 1)\n",
    "print('\"Condition\" array with index starting with the first feature, leaving intercept out of the counting:')\n",
    "display(condition_m)\n",
    "\n",
    "# Print Significant Features\n",
    "if SELECTION == 'RF':\n",
    "    # In one single step: extract cosen columns of X_train_s dataset, \n",
    "    # convrt np.array to list\n",
    "    # because of \"double-brackets\"; extract the only column (0), which is the \"list inside of the list\"\n",
    "    sign_features = X_train_s.columns.values[condition_m].tolist()[0]\n",
    "    print(\"\")\n",
    "    print('Features that were significant in the previous MLR in chapter 3.3.:')\n",
    "    print(\"\")\n",
    "    print(sign_features)\n",
    "elif SELECTION == 'PCA':\n",
    "    print('PCA: gives \"IndexError: index 10 is out of bounds for axis 1 with size 10\"')\n",
    "else: raise ValueError('SELECTION must be either RF or PCA')"
   ]
  },
  {
   "cell_type": "markdown",
   "metadata": {},
   "source": [
    "### 3.4.2. Preparation and fitting (on Training Set) (MLR2)"
   ]
  },
  {
   "cell_type": "code",
   "execution_count": 26,
   "metadata": {},
   "outputs": [
    {
     "name": "stdout",
     "output_type": "stream",
     "text": [
      "Optimization terminated successfully.\n",
      "         Current function value: 0.654051\n",
      "         Iterations 6\n"
     ]
    }
   ],
   "source": [
    "## Multiple Log. Regression (with significant features from logreg above)\n",
    "# Assign features to X and response vector y\n",
    "\n",
    "\n",
    "if SELECTION == 'RF':\n",
    "    logReg_mm = sm.Logit(endog = y_train_s, exog=sm.add_constant(X_train_s[sign_features])).fit()\n",
    "elif SELECTION == 'PCA':\n",
    "    print('PCA: could not define sign_features above')\n",
    "else: raise ValueError('SELECTION must be either RF or PCA')"
   ]
  },
  {
   "cell_type": "markdown",
   "metadata": {},
   "source": [
    "### 3.4.3. Summary (MLR2)"
   ]
  },
  {
   "cell_type": "code",
   "execution_count": 27,
   "metadata": {},
   "outputs": [
    {
     "name": "stdout",
     "output_type": "stream",
     "text": [
      "\n",
      "Multiple Logistic Regression with selected significant features\n",
      "\n",
      "                           Logit Regression Results                           \n",
      "==============================================================================\n",
      "Dep. Variable:                      0   No. Observations:                 2836\n",
      "Model:                          Logit   Df Residuals:                     2826\n",
      "Method:                           MLE   Df Model:                            9\n",
      "Date:                Wed, 11 Apr 2018   Pseudo R-squ.:                 0.03823\n",
      "Time:                        09:53:59   Log-Likelihood:                -1854.9\n",
      "converged:                       True   LL-Null:                       -1928.6\n",
      "                                        LLR p-value:                 2.957e-27\n",
      "==============================================================================\n",
      "==============================================================================\n",
      "                 coef    std err          z      P>|z|      [0.025      0.975]\n",
      "------------------------------------------------------------------------------\n",
      "const          0.2240      0.275      0.814      0.416      -0.316       0.764\n",
      "CAPEI          0.0086      0.003      2.511      0.012       0.002       0.015\n",
      "bm             1.6156      0.258      6.266      0.000       1.110       2.121\n",
      "ptb            0.1649      0.026      6.414      0.000       0.114       0.215\n",
      "evm           -0.0696      0.010     -6.730      0.000      -0.090      -0.049\n",
      "ps             0.2315      0.035      6.553      0.000       0.162       0.301\n",
      "pe_exi         0.0120      0.004      3.141      0.002       0.004       0.019\n",
      "divyield     -19.8671      3.556     -5.587      0.000     -26.837     -12.897\n",
      "pe_inc        -0.0134      0.004     -3.458      0.001      -0.021      -0.006\n",
      "roce          -2.2753      0.484     -4.699      0.000      -3.224      -1.326\n",
      "==============================================================================\n"
     ]
    }
   ],
   "source": [
    "if SELECTION == 'RF':\n",
    "    print(\"\")\n",
    "    print(\"Multiple Logistic Regression with selected significant features\")\n",
    "    print(\"\")\n",
    "    print(logReg_mm.summary().tables[0])\n",
    "    print(logReg_mm.summary().tables[1])\n",
    "elif SELECTION == 'PCA':\n",
    "    print('PCA: could not define sign_features above')\n",
    "else: raise ValueError('SELECTION must be either RF or PCA')"
   ]
  },
  {
   "cell_type": "markdown",
   "metadata": {},
   "source": [
    "#### compare LogReg 1 & 2 (explicitly Log-Likelihood values-> is there an improvement? (smaller values are prefered!))\n",
    "\n",
    "PREDICTION!!!!!!!!!!!!!!!!!!!!!!!!!!!!!!!!!!!!!!!!!!!!!!!!!!!!!!!!!!!!!!!!"
   ]
  },
  {
   "cell_type": "code",
   "execution_count": 33,
   "metadata": {},
   "outputs": [],
   "source": [
    "# Does the logistic regression support our choice in feature selection (with random forest)?"
   ]
  },
  {
   "cell_type": "markdown",
   "metadata": {},
   "source": [
    "# CODE DIRECTLY COPIED FROM STEFANIE FILE"
   ]
  },
  {
   "cell_type": "markdown",
   "metadata": {},
   "source": [
    "## 3. Prediction"
   ]
  },
  {
   "cell_type": "markdown",
   "metadata": {},
   "source": [
    "### 3.1 Version 1 with best LogReg Model"
   ]
  },
  {
   "cell_type": "code",
   "execution_count": null,
   "metadata": {},
   "outputs": [],
   "source": [
    "modelA = LogisticRegression()\n",
    "modelA.fit(X1_train_s, y1_train)\n",
    "\n",
    "expected = y1_test\n",
    "predicted = modelA.predict(X1_test_s)"
   ]
  },
  {
   "cell_type": "code",
   "execution_count": null,
   "metadata": {},
   "outputs": [],
   "source": [
    "print(metrics.classification_report(expected, predicted))\n",
    "print(metrics.confusion_matrix(expected, predicted))"
   ]
  },
  {
   "cell_type": "code",
   "execution_count": null,
   "metadata": {},
   "outputs": [],
   "source": [
    "# loglikelihood for \"regression\" of predicted on expected\n",
    "from sklearn.metrics import log_loss\n",
    "\n",
    "log_loss(expected, predicted)"
   ]
  },
  {
   "cell_type": "markdown",
   "metadata": {},
   "source": [
    "### 3.2 Version 2 with best LogReg Model"
   ]
  },
  {
   "cell_type": "code",
   "execution_count": null,
   "metadata": {},
   "outputs": [],
   "source": [
    "modelB = LogisticRegression()\n",
    "modelB.fit(X2_train_s, y2_train)\n",
    "\n",
    "expected = y2_test\n",
    "predicted = modelB.predict(X2_test_s)"
   ]
  },
  {
   "cell_type": "code",
   "execution_count": null,
   "metadata": {},
   "outputs": [],
   "source": [
    "print(metrics.classification_report(expected, predicted))\n",
    "print(metrics.confusion_matrix(expected, predicted))"
   ]
  },
  {
   "cell_type": "code",
   "execution_count": null,
   "metadata": {},
   "outputs": [],
   "source": [
    "# loglikelihood for \"regression\" of predicted on expected\n",
    "from sklearn.metrics import log_loss\n",
    "\n",
    "log_loss(expected, predicted)"
   ]
  }
 ],
 "metadata": {
  "kernelspec": {
   "display_name": "Python 3",
   "language": "python",
   "name": "python3"
  },
  "language_info": {
   "codemirror_mode": {
    "name": "ipython",
    "version": 3
   },
   "file_extension": ".py",
   "mimetype": "text/x-python",
   "name": "python",
   "nbconvert_exporter": "python",
   "pygments_lexer": "ipython3",
   "version": "3.6.4"
  }
 },
 "nbformat": 4,
 "nbformat_minor": 2
}
