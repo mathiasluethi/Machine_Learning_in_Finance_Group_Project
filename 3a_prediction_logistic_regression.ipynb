{
 "cells": [
  {
   "cell_type": "markdown",
   "metadata": {},
   "source": [
    "# Introduction to Machine Learning, UZH 2018, Group Project\n",
    "### Group 2: Barbara Capl, Mathias Lüthi, Pamela Matias, Stefanie Rentsch\n",
    "##       \n",
    "# 3. Prediction with Multiple Logistic Regression\n",
    "\n",
    "In this section we use the feature matrices and response vectors with features selected in chapter 2.  \n",
    "\n",
    "#### We use two different versions (created in chapter 1, features-selected in chapter 2):\n",
    "Version 1: Feature Matrix consists only of the Ratios                                                                        \n",
    "Version 2: Feature Matrix consists of Ratios + dummy variables for seasonality + other market data\n",
    "####  "
   ]
  },
  {
   "cell_type": "code",
   "execution_count": 1,
   "metadata": {},
   "outputs": [],
   "source": [
    "# hide unnecessary warnings (\"depreciation\" of packages etc.)\n",
    "import warnings\n",
    "warnings.filterwarnings('ignore')\n",
    "\n",
    "# Load Packages\n",
    "import pandas as pd\n",
    "import numpy as np\n",
    "import matplotlib.pyplot as plt\n",
    "import statsmodels.api as sm\n",
    "import statsmodels.formula.api as smf\n",
    "plt.style.use(\"seaborn-whitegrid\")\n",
    "%matplotlib inline"
   ]
  },
  {
   "cell_type": "markdown",
   "metadata": {},
   "source": [
    "## 3.0. Choose which Feature Matrix (Version 1 or 2) you want to load in by choosing the Case\n",
    "\n"
   ]
  },
  {
   "cell_type": "markdown",
   "metadata": {},
   "source": [
    "#### 1) Choose the Dataset Version you want\n",
    "VERSION = 1; Feature Matrix with only ratios                                  \n",
    "VERSION = 2;  Feature Matrix with ratios + saisonality + other market data\n"
   ]
  },
  {
   "cell_type": "code",
   "execution_count": 2,
   "metadata": {},
   "outputs": [],
   "source": [
    "### Choose which dataset version you want the selection of features and the prediction to be based on \n",
    "VERSION = 1\n",
    "\"\"\"\n",
    "INSERT NUMBER 1 or 2\n",
    "\"\"\"\n",
    "\n",
    "\n",
    "# Define sel_state variable for easier printing out    \n",
    "if VERSION == 1:\n",
    "    sel_version = 'Based on Dataset with only the Ratios Dataset as predicive Features'\n",
    "elif VERSION == 2:\n",
    "    sel_version = 'Based on Dataset with Ratios + Seasonality + other Market Data as predictive Features'\n",
    "else: raise ValueError('VERSION must be either 1 or 2')"
   ]
  },
  {
   "cell_type": "markdown",
   "metadata": {},
   "source": [
    "#### 2) Choose with which method you want to have the features been pre-selected\n",
    "SELECTON  = RF ; Features pre-selected with Random Forest Classifier                                                           \n",
    "SELECTION = PCA; Features pre-selected with Principal Component Analysis (PCA)"
   ]
  },
  {
   "cell_type": "code",
   "execution_count": 3,
   "metadata": {},
   "outputs": [],
   "source": [
    "### Choose whether you want the datasets with features selected with RF or PCA\n",
    "SELECTION = 'RF'\n",
    "\"\"\"\n",
    "INSERT 'RF' OR 'PCA'\n",
    "\"\"\"\n",
    "\n",
    "\n",
    "# Define sel_state variable for easier printing out    \n",
    "if SELECTION == 'RF':\n",
    "    sel_feat = 'Random Forest (RF)'\n",
    "elif SELECTION == 'PCA':\n",
    "    sel_feat = 'Principal Component Analysis (PCA)'\n",
    "else: raise ValueError('SELECTION must be either RF or PCA')"
   ]
  },
  {
   "cell_type": "markdown",
   "metadata": {},
   "source": [
    "## 3.1. Preparation"
   ]
  },
  {
   "cell_type": "markdown",
   "metadata": {},
   "source": [
    "### 3.1.1. Import the Response Vector and the Feature Matrix"
   ]
  },
  {
   "cell_type": "code",
   "execution_count": 4,
   "metadata": {},
   "outputs": [],
   "source": [
    "# import Data (already splitted to train/test-data and selected features-> bc_randomforest_feature_selection)\n",
    "if VERSION == 1:\n",
    "    if SELECTION == 'RF':\n",
    "        X_train_s = pd.read_csv('Data/generated_splits/features_selected_randomforest/X1_train_f.csv', sep=',')\n",
    "        X_test_s = pd.read_csv('Data/generated_splits/features_selected_randomforest/X1_test_f.csv', sep=',')\n",
    "        y_train_s = pd.read_csv('Data/generated_splits/features_selected_randomforest/y1_train_f.csv', sep=',')\n",
    "        y_test_s = pd.read_csv('Data/generated_splits/features_selected_randomforest/y1_test_f.csv', sep=',')\n",
    "    elif SELECTION == 'PCA':\n",
    "        X_train_s = pd.read_csv('Data/generated_splits/features_selected_pca/X1_train_p.csv', sep=',', header=0)\n",
    "        X_test_s = pd.read_csv('Data/generated_splits/features_selected_pca/X1_test_p.csv', sep=',', header=0)\n",
    "        y_train_s = pd.read_csv('Data/generated_splits/features_selected_pca/y1_train_p.csv', sep=',', header=0)\n",
    "        y_test_s = pd.read_csv('Data/generated_splits/features_selected_pca/y1_test_p.csv', sep=',', header=0)\n",
    "elif VERSION == 2:\n",
    "    if SELECTION == 'RF':\n",
    "        X_train_s = pd.read_csv('Data/generated_splits/features_selected_randomforest/X2_train_f.csv', sep=',', header=0)\n",
    "        X_test_s = pd.read_csv('Data/generated_splits/features_selected_randomforest/X2_test_f.csv', sep=',', header=0)\n",
    "        y_train_s = pd.read_csv('Data/generated_splits/features_selected_randomforest/y2_train_f.csv', sep=',', header=0)\n",
    "        y_test_s = pd.read_csv('Data/generated_splits/features_selected_randomforest/y2_test_f.csv', sep=',', header=0)\n",
    "    elif SELECTION == 'PCA':\n",
    "        X_train_s = pd.read_csv('Data/generated_splits/features_selected_pca/X2_train_p.csv', sep=',', header=0)\n",
    "        X_test_s = pd.read_csv('Data/generated_splits/features_selected_pca/X2_test_p.csv', sep=',', header=0)\n",
    "        y_train_s = pd.read_csv('Data/generated_splits/features_selected_pca/y2_train_p.csv', sep=',', header=0)\n",
    "        y_test_s = pd.read_csv('Data/generated_splits/features_selected_pca/y2_test_p.csv', sep=',', header=0)\n",
    "else: raise ValueError('_VERSION_ value must be either 1 or 2, _SELECTION_ must be either RF or PCA')   "
   ]
  },
  {
   "cell_type": "markdown",
   "metadata": {},
   "source": [
    "### 3.1.2. Print out Shape and Form of Feature Matrix and Response Vector"
   ]
  },
  {
   "cell_type": "markdown",
   "metadata": {},
   "source": [
    "### Train Set"
   ]
  },
  {
   "cell_type": "code",
   "execution_count": 5,
   "metadata": {},
   "outputs": [
    {
     "name": "stdout",
     "output_type": "stream",
     "text": [
      "Features Selected with Random Forest (RF)\n",
      "Version 1; Based on Dataset with only the Ratios Dataset as predicive Features\n",
      "\n",
      "Shape (rows, columns) of Feature Matrix X (Train) =(2836, 15)\n",
      "\n",
      "Feature Matrix X (Train) with Selected Features\n"
     ]
    },
    {
     "data": {
      "text/html": [
       "<div>\n",
       "<style scoped>\n",
       "    .dataframe tbody tr th:only-of-type {\n",
       "        vertical-align: middle;\n",
       "    }\n",
       "\n",
       "    .dataframe tbody tr th {\n",
       "        vertical-align: top;\n",
       "    }\n",
       "\n",
       "    .dataframe thead th {\n",
       "        text-align: right;\n",
       "    }\n",
       "</style>\n",
       "<table border=\"1\" class=\"dataframe\">\n",
       "  <thead>\n",
       "    <tr style=\"text-align: right;\">\n",
       "      <th></th>\n",
       "      <th>CAPEI</th>\n",
       "      <th>pcf</th>\n",
       "      <th>divyield</th>\n",
       "      <th>evm</th>\n",
       "      <th>pe_inc</th>\n",
       "      <th>pe_op_dil</th>\n",
       "      <th>pe_op_basic</th>\n",
       "      <th>bm</th>\n",
       "      <th>PEG_ltgforward</th>\n",
       "      <th>ptb</th>\n",
       "      <th>aftret_equity</th>\n",
       "      <th>sale_invcap</th>\n",
       "      <th>PEG_1yrforward</th>\n",
       "      <th>pe_exi</th>\n",
       "      <th>debt_assets</th>\n",
       "    </tr>\n",
       "  </thead>\n",
       "  <tbody>\n",
       "    <tr>\n",
       "      <th>0</th>\n",
       "      <td>20.773</td>\n",
       "      <td>9.957</td>\n",
       "      <td>0.0354</td>\n",
       "      <td>10.644</td>\n",
       "      <td>18.484</td>\n",
       "      <td>15.633</td>\n",
       "      <td>15.468</td>\n",
       "      <td>0.547</td>\n",
       "      <td>5.963</td>\n",
       "      <td>1.811</td>\n",
       "      <td>0.134</td>\n",
       "      <td>0.466</td>\n",
       "      <td>13.678</td>\n",
       "      <td>18.484</td>\n",
       "      <td>0.552</td>\n",
       "    </tr>\n",
       "    <tr>\n",
       "      <th>1</th>\n",
       "      <td>25.089</td>\n",
       "      <td>8.509</td>\n",
       "      <td>0.0398</td>\n",
       "      <td>9.246</td>\n",
       "      <td>39.232</td>\n",
       "      <td>17.296</td>\n",
       "      <td>17.203</td>\n",
       "      <td>0.461</td>\n",
       "      <td>5.702</td>\n",
       "      <td>2.189</td>\n",
       "      <td>0.058</td>\n",
       "      <td>1.337</td>\n",
       "      <td>1.521</td>\n",
       "      <td>39.232</td>\n",
       "      <td>0.662</td>\n",
       "    </tr>\n",
       "    <tr>\n",
       "      <th>2</th>\n",
       "      <td>12.337</td>\n",
       "      <td>1.993</td>\n",
       "      <td>0.0268</td>\n",
       "      <td>12.474</td>\n",
       "      <td>13.062</td>\n",
       "      <td>9.209</td>\n",
       "      <td>9.135</td>\n",
       "      <td>0.911</td>\n",
       "      <td>2.248</td>\n",
       "      <td>1.076</td>\n",
       "      <td>0.086</td>\n",
       "      <td>0.229</td>\n",
       "      <td>0.380</td>\n",
       "      <td>13.062</td>\n",
       "      <td>0.913</td>\n",
       "    </tr>\n",
       "  </tbody>\n",
       "</table>\n",
       "</div>"
      ],
      "text/plain": [
       "    CAPEI    pcf  divyield     evm  pe_inc  pe_op_dil  pe_op_basic     bm  \\\n",
       "0  20.773  9.957    0.0354  10.644  18.484     15.633       15.468  0.547   \n",
       "1  25.089  8.509    0.0398   9.246  39.232     17.296       17.203  0.461   \n",
       "2  12.337  1.993    0.0268  12.474  13.062      9.209        9.135  0.911   \n",
       "\n",
       "   PEG_ltgforward    ptb  aftret_equity  sale_invcap  PEG_1yrforward  pe_exi  \\\n",
       "0           5.963  1.811          0.134        0.466          13.678  18.484   \n",
       "1           5.702  2.189          0.058        1.337           1.521  39.232   \n",
       "2           2.248  1.076          0.086        0.229           0.380  13.062   \n",
       "\n",
       "   debt_assets  \n",
       "0        0.552  \n",
       "1        0.662  \n",
       "2        0.913  "
      ]
     },
     "metadata": {},
     "output_type": "display_data"
    },
    {
     "name": "stdout",
     "output_type": "stream",
     "text": [
      "\n",
      "Response Vector y (Train) after Feature Selection\n"
     ]
    },
    {
     "data": {
      "text/html": [
       "<div>\n",
       "<style scoped>\n",
       "    .dataframe tbody tr th:only-of-type {\n",
       "        vertical-align: middle;\n",
       "    }\n",
       "\n",
       "    .dataframe tbody tr th {\n",
       "        vertical-align: top;\n",
       "    }\n",
       "\n",
       "    .dataframe thead th {\n",
       "        text-align: right;\n",
       "    }\n",
       "</style>\n",
       "<table border=\"1\" class=\"dataframe\">\n",
       "  <thead>\n",
       "    <tr style=\"text-align: right;\">\n",
       "      <th></th>\n",
       "      <th>0</th>\n",
       "    </tr>\n",
       "  </thead>\n",
       "  <tbody>\n",
       "    <tr>\n",
       "      <th>0</th>\n",
       "      <td>1</td>\n",
       "    </tr>\n",
       "    <tr>\n",
       "      <th>1</th>\n",
       "      <td>0</td>\n",
       "    </tr>\n",
       "    <tr>\n",
       "      <th>2</th>\n",
       "      <td>1</td>\n",
       "    </tr>\n",
       "  </tbody>\n",
       "</table>\n",
       "</div>"
      ],
      "text/plain": [
       "   0\n",
       "0  1\n",
       "1  0\n",
       "2  1"
      ]
     },
     "metadata": {},
     "output_type": "display_data"
    },
    {
     "name": "stdout",
     "output_type": "stream",
     "text": [
      "\n"
     ]
    }
   ],
   "source": [
    "print('Features Selected with ' + str(sel_feat))\n",
    "print('Version ' + str(VERSION) + '; ' + str(sel_version))\n",
    "\n",
    "print(\"\")\n",
    "print('Shape (rows, columns) of Feature Matrix X (Train) ' + '=' + str(X_train_s.shape))\n",
    "print(\"\")\n",
    "\n",
    "print('Feature Matrix X (Train) with Selected Features')\n",
    "display(X_train_s[0:3])\n",
    "print(\"\")\n",
    "\n",
    "print('Response Vector y (Train) after Feature Selection')\n",
    "display(y_train_s[0:3])\n",
    "print(\"\")"
   ]
  },
  {
   "cell_type": "markdown",
   "metadata": {},
   "source": [
    "### Test Set"
   ]
  },
  {
   "cell_type": "code",
   "execution_count": 6,
   "metadata": {},
   "outputs": [
    {
     "name": "stdout",
     "output_type": "stream",
     "text": [
      "Features Selected with Random Forest (RF)\n",
      "Version 1; Based on Dataset with only the Ratios Dataset as predicive Features\n",
      "\n",
      "Shape (rows, columns) of Feature Matrix X (Test) =(710, 15)\n",
      "\n",
      "Feature Matrix X (Train) with Selected Features\n"
     ]
    },
    {
     "data": {
      "text/html": [
       "<div>\n",
       "<style scoped>\n",
       "    .dataframe tbody tr th:only-of-type {\n",
       "        vertical-align: middle;\n",
       "    }\n",
       "\n",
       "    .dataframe tbody tr th {\n",
       "        vertical-align: top;\n",
       "    }\n",
       "\n",
       "    .dataframe thead th {\n",
       "        text-align: right;\n",
       "    }\n",
       "</style>\n",
       "<table border=\"1\" class=\"dataframe\">\n",
       "  <thead>\n",
       "    <tr style=\"text-align: right;\">\n",
       "      <th></th>\n",
       "      <th>CAPEI</th>\n",
       "      <th>pcf</th>\n",
       "      <th>divyield</th>\n",
       "      <th>evm</th>\n",
       "      <th>pe_inc</th>\n",
       "      <th>pe_op_dil</th>\n",
       "      <th>pe_op_basic</th>\n",
       "      <th>bm</th>\n",
       "      <th>PEG_ltgforward</th>\n",
       "      <th>ptb</th>\n",
       "      <th>aftret_equity</th>\n",
       "      <th>sale_invcap</th>\n",
       "      <th>PEG_1yrforward</th>\n",
       "      <th>pe_exi</th>\n",
       "      <th>debt_assets</th>\n",
       "    </tr>\n",
       "  </thead>\n",
       "  <tbody>\n",
       "    <tr>\n",
       "      <th>0</th>\n",
       "      <td>20.983</td>\n",
       "      <td>10.484</td>\n",
       "      <td>0.0187</td>\n",
       "      <td>8.585</td>\n",
       "      <td>16.224</td>\n",
       "      <td>16.224</td>\n",
       "      <td>16.127</td>\n",
       "      <td>0.254</td>\n",
       "      <td>1.330</td>\n",
       "      <td>4.189</td>\n",
       "      <td>0.310</td>\n",
       "      <td>1.241</td>\n",
       "      <td>1.414</td>\n",
       "      <td>16.224</td>\n",
       "      <td>0.426</td>\n",
       "    </tr>\n",
       "    <tr>\n",
       "      <th>1</th>\n",
       "      <td>21.663</td>\n",
       "      <td>7.709</td>\n",
       "      <td>0.0122</td>\n",
       "      <td>13.619</td>\n",
       "      <td>18.555</td>\n",
       "      <td>16.489</td>\n",
       "      <td>16.311</td>\n",
       "      <td>0.235</td>\n",
       "      <td>1.572</td>\n",
       "      <td>4.281</td>\n",
       "      <td>0.238</td>\n",
       "      <td>0.473</td>\n",
       "      <td>1.737</td>\n",
       "      <td>18.555</td>\n",
       "      <td>0.875</td>\n",
       "    </tr>\n",
       "    <tr>\n",
       "      <th>2</th>\n",
       "      <td>16.327</td>\n",
       "      <td>8.490</td>\n",
       "      <td>0.0343</td>\n",
       "      <td>6.716</td>\n",
       "      <td>15.550</td>\n",
       "      <td>9.520</td>\n",
       "      <td>9.520</td>\n",
       "      <td>0.513</td>\n",
       "      <td>6.149</td>\n",
       "      <td>2.198</td>\n",
       "      <td>0.130</td>\n",
       "      <td>0.536</td>\n",
       "      <td>-0.973</td>\n",
       "      <td>15.681</td>\n",
       "      <td>0.519</td>\n",
       "    </tr>\n",
       "  </tbody>\n",
       "</table>\n",
       "</div>"
      ],
      "text/plain": [
       "    CAPEI     pcf  divyield     evm  pe_inc  pe_op_dil  pe_op_basic     bm  \\\n",
       "0  20.983  10.484    0.0187   8.585  16.224     16.224       16.127  0.254   \n",
       "1  21.663   7.709    0.0122  13.619  18.555     16.489       16.311  0.235   \n",
       "2  16.327   8.490    0.0343   6.716  15.550      9.520        9.520  0.513   \n",
       "\n",
       "   PEG_ltgforward    ptb  aftret_equity  sale_invcap  PEG_1yrforward  pe_exi  \\\n",
       "0           1.330  4.189          0.310        1.241           1.414  16.224   \n",
       "1           1.572  4.281          0.238        0.473           1.737  18.555   \n",
       "2           6.149  2.198          0.130        0.536          -0.973  15.681   \n",
       "\n",
       "   debt_assets  \n",
       "0        0.426  \n",
       "1        0.875  \n",
       "2        0.519  "
      ]
     },
     "metadata": {},
     "output_type": "display_data"
    },
    {
     "name": "stdout",
     "output_type": "stream",
     "text": [
      "\n",
      "Response Vector y (Test) after Feature Selection\n"
     ]
    },
    {
     "data": {
      "text/html": [
       "<div>\n",
       "<style scoped>\n",
       "    .dataframe tbody tr th:only-of-type {\n",
       "        vertical-align: middle;\n",
       "    }\n",
       "\n",
       "    .dataframe tbody tr th {\n",
       "        vertical-align: top;\n",
       "    }\n",
       "\n",
       "    .dataframe thead th {\n",
       "        text-align: right;\n",
       "    }\n",
       "</style>\n",
       "<table border=\"1\" class=\"dataframe\">\n",
       "  <thead>\n",
       "    <tr style=\"text-align: right;\">\n",
       "      <th></th>\n",
       "      <th>0</th>\n",
       "    </tr>\n",
       "  </thead>\n",
       "  <tbody>\n",
       "    <tr>\n",
       "      <th>0</th>\n",
       "      <td>0</td>\n",
       "    </tr>\n",
       "    <tr>\n",
       "      <th>1</th>\n",
       "      <td>1</td>\n",
       "    </tr>\n",
       "    <tr>\n",
       "      <th>2</th>\n",
       "      <td>1</td>\n",
       "    </tr>\n",
       "  </tbody>\n",
       "</table>\n",
       "</div>"
      ],
      "text/plain": [
       "   0\n",
       "0  0\n",
       "1  1\n",
       "2  1"
      ]
     },
     "metadata": {},
     "output_type": "display_data"
    },
    {
     "name": "stdout",
     "output_type": "stream",
     "text": [
      "\n"
     ]
    }
   ],
   "source": [
    "print('Features Selected with ' + str(sel_feat))\n",
    "print('Version ' + str(VERSION) + '; ' + str(sel_version))\n",
    "\n",
    "print(\"\")\n",
    "print('Shape (rows, columns) of Feature Matrix X (Test) ' + '=' + str(X_test_s.shape))\n",
    "print(\"\")\n",
    "\n",
    "print('Feature Matrix X (Train) with Selected Features')\n",
    "display(X_test_s[0:3])\n",
    "print(\"\")\n",
    "\n",
    "print('Response Vector y (Test) after Feature Selection')\n",
    "display(y_test_s[0:3])\n",
    "print(\"\")"
   ]
  },
  {
   "cell_type": "markdown",
   "metadata": {},
   "source": [
    "## 3.2. Simple Logistic Regression (statsmodels) (SLM)"
   ]
  },
  {
   "cell_type": "markdown",
   "metadata": {},
   "source": [
    "### 3.2.1. Preparation and fitting (on Training Set) , define BEST FEATURE (SLM)"
   ]
  },
  {
   "cell_type": "code",
   "execution_count": 7,
   "metadata": {},
   "outputs": [
    {
     "name": "stdout",
     "output_type": "stream",
     "text": [
      "Features Selected with Random Forest (RF)\n",
      "Version 1; Based on Dataset with only the Ratios Dataset as predicive Features\n",
      "\n",
      "Optimization terminated successfully.\n",
      "         Current function value: 0.685741\n",
      "         Iterations 5\n",
      "\n"
     ]
    }
   ],
   "source": [
    "print('Features Selected with ' + str(sel_feat))\n",
    "print('Version ' + str(VERSION) + '; ' + str(sel_version))\n",
    "print(\"\")\n",
    "\n",
    "# Run Simple Logistic Regression\n",
    "# Logistic Regression (with the most important feature from feature selection)\n",
    "# Assign \"best_feature\" to matrix X and response to y, acording to chosen Version of datasets and feature Selection method\n",
    "if VERSION == 1:\n",
    "    if SELECTION == 'RF':\n",
    "        best_feature = 'CAPEI'\n",
    "        logReg = sm.Logit(endog = y_train_s, exog= sm.add_constant(X_train_s[[best_feature]])).fit()\n",
    "    elif SELECTION == 'PCA':\n",
    "        best_feature = None\n",
    "        print('ERROR: PCA best feature not defined! Thus no Simple Regression possible.')\n",
    "elif VERSION == 2:\n",
    "    if SELECTION == 'RF':\n",
    "        best_feature = 'RET'\n",
    "        logReg = sm.Logit(endog = y_train_s, exog= sm.add_constant(X_train_s[[best_feature]])).fit()\n",
    "    elif SELECTION == 'PCA':\n",
    "        best_feature = None\n",
    "        print('ERROR: PCA best feature not defined! Thus no Simple Regression possible.')\n",
    "else: raise ValueError('VERSION value must be either 1 or 2, SELECTION must be either RF or PCA')\n",
    "print(\"\")"
   ]
  },
  {
   "cell_type": "markdown",
   "metadata": {},
   "source": [
    "### 3.2.2. Summary (SLM)"
   ]
  },
  {
   "cell_type": "code",
   "execution_count": 8,
   "metadata": {},
   "outputs": [],
   "source": [
    "# Workaround solution for error (\"AttributeError: module 'scipy.stats' has no attribute 'chisqprob'\")\n",
    "from scipy import stats\n",
    "stats.chisqprob = lambda chisq, df: stats.chi2.sf(chisq, df)"
   ]
  },
  {
   "cell_type": "code",
   "execution_count": 9,
   "metadata": {},
   "outputs": [
    {
     "name": "stdout",
     "output_type": "stream",
     "text": [
      "                           Logit Regression Results                           \n",
      "==============================================================================\n",
      "Dep. Variable:                      0   No. Observations:                 2836\n",
      "Model:                          Logit   Df Residuals:                     2834\n",
      "Method:                           MLE   Df Model:                            1\n",
      "Date:                Mon, 09 Apr 2018   Pseudo R-squ.:               0.0005411\n",
      "Time:                        23:38:29   Log-Likelihood:                -1944.8\n",
      "converged:                       True   LL-Null:                       -1945.8\n",
      "                                        LLR p-value:                    0.1468\n",
      "==============================================================================\n",
      "                 coef    std err          z      P>|z|      [0.025      0.975]\n",
      "------------------------------------------------------------------------------\n",
      "const          0.1835      0.055      3.338      0.001       0.076       0.291\n",
      "CAPEI          0.0027      0.002      1.372      0.170      -0.001       0.007\n",
      "==============================================================================\n",
      "\n",
      "logReg pvalues: \n",
      "\n",
      "const    0.000842\n",
      "CAPEI    0.170157\n",
      "dtype: float64\n"
     ]
    }
   ],
   "source": [
    "# LogReg with only one feature as exogen variable\n",
    "if SELECTION == 'RF':\n",
    "    print(logReg.summary())\n",
    "    print(\"\")\n",
    "    print('logReg pvalues: ')\n",
    "    print(\"\")\n",
    "    print(logReg.pvalues)\n",
    "elif SELECTION == 'PCA':\n",
    "    print('ERROR: PCA best feature not defined! Thus no Simple Regression possible.')\n",
    "else: raise ValueError('VERSION value must be either 1 or 2, SELECTION must be either RF or PCA')"
   ]
  },
  {
   "cell_type": "markdown",
   "metadata": {},
   "source": [
    "### 3.2.3. Assessing Output (SLM)\n",
    "\n",
    "### Hypothesis testing / Confidence Interval"
   ]
  },
  {
   "cell_type": "code",
   "execution_count": 10,
   "metadata": {},
   "outputs": [
    {
     "name": "stdout",
     "output_type": "stream",
     "text": [
      "\n",
      "99% Confidence Interval (Significance Level 1%)\n"
     ]
    }
   ],
   "source": [
    "significance_level = 0.01\n",
    "\n",
    "if SELECTION == 'RF':\n",
    "    print(\"\")\n",
    "    print(str(int(100 - significance_level*100)) + '% Confidence Interval (Significance Level ' \n",
    "          + str(int(significance_level*100)) + '%)')\n",
    "    logReg.conf_int(alpha=significance_level)\n",
    "elif SELECTION == 'PCA':\n",
    "    print('ERROR: PCA best feature not defined! Thus no Simple Regression possible.')\n",
    "else: raise ValueError('VERSION value must be either 1 or 2, SELECTION must be either RF or PCA')"
   ]
  },
  {
   "cell_type": "markdown",
   "metadata": {},
   "source": [
    "### Confusion Matrix"
   ]
  },
  {
   "cell_type": "code",
   "execution_count": 11,
   "metadata": {},
   "outputs": [],
   "source": [
    "if SELECTION == 'RF':\n",
    "    logReg.pred_table(threshold=0.5)\n",
    "elif SELECTION == 'PCA':\n",
    "    print('ERROR: PCA best feature not defined! Thus no Simple Regression possible.')\n",
    "else: raise ValueError('VERSION value must be either 1 or 2, SELECTION must be either RF or PCA')\n"
   ]
  },
  {
   "cell_type": "markdown",
   "metadata": {},
   "source": [
    "### 3.2.2. Prediction (SML)\n",
    "\n",
    "### A: In-sample Prediction of probability for returns going UP in the next period (predict y_train)\n"
   ]
  },
  {
   "cell_type": "markdown",
   "metadata": {},
   "source": [
    "#### For whole Training Set"
   ]
  },
  {
   "cell_type": "code",
   "execution_count": 12,
   "metadata": {},
   "outputs": [
    {
     "name": "stdout",
     "output_type": "stream",
     "text": [
      "Features Selected with Random Forest (RF)\n",
      "Version 1; Based on Dataset with only the Ratios Dataset as predicive Features\n",
      "\n",
      "Predicted probability of price going UP for whole Feature Train Set is: \n"
     ]
    },
    {
     "data": {
      "text/plain": [
       "0    0.559646\n",
       "1    0.562525\n",
       "2    0.554006\n",
       "dtype: float64"
      ]
     },
     "metadata": {},
     "output_type": "display_data"
    },
    {
     "data": {
      "text/html": [
       "<div>\n",
       "<style scoped>\n",
       "    .dataframe tbody tr th:only-of-type {\n",
       "        vertical-align: middle;\n",
       "    }\n",
       "\n",
       "    .dataframe tbody tr th {\n",
       "        vertical-align: top;\n",
       "    }\n",
       "\n",
       "    .dataframe thead th {\n",
       "        text-align: right;\n",
       "    }\n",
       "</style>\n",
       "<table border=\"1\" class=\"dataframe\">\n",
       "  <thead>\n",
       "    <tr style=\"text-align: right;\">\n",
       "      <th></th>\n",
       "      <th>0</th>\n",
       "    </tr>\n",
       "  </thead>\n",
       "  <tbody>\n",
       "    <tr>\n",
       "      <th>0</th>\n",
       "      <td>1</td>\n",
       "    </tr>\n",
       "    <tr>\n",
       "      <th>1</th>\n",
       "      <td>0</td>\n",
       "    </tr>\n",
       "    <tr>\n",
       "      <th>2</th>\n",
       "      <td>1</td>\n",
       "    </tr>\n",
       "  </tbody>\n",
       "</table>\n",
       "</div>"
      ],
      "text/plain": [
       "   0\n",
       "0  1\n",
       "1  0\n",
       "2  1"
      ]
     },
     "metadata": {},
     "output_type": "display_data"
    }
   ],
   "source": [
    "print('Features Selected with ' + str(sel_feat))\n",
    "print('Version ' + str(VERSION) + '; ' + str(sel_version))\n",
    "print(\"\")\n",
    "\n",
    "# X must include 1 in first column for intercept\n",
    "# we wish to get the probability of 'UP' (=1) for the whole test set\n",
    "if SELECTION == 'RF':\n",
    "    pred_train_all = logReg.predict(sm.add_constant(X_train_s[best_feature]))\n",
    "    print('Predicted probability of price going UP for whole Feature Train Set is: ')\n",
    "    display(pred_train_all.head(3))\n",
    "    display(y_train_s.head(3))\n",
    "elif SELECTION == 'PCA':\n",
    "    print('ERROR: PCA best feature not defined! Thus no Simple Regression possible.')\n",
    "else: raise ValueError('VERSION value must be either 1 or 2, SELECTION must be either RF or PCA')"
   ]
  },
  {
   "cell_type": "markdown",
   "metadata": {},
   "source": [
    "### B: New-sample Prediction of probability for returns going UP in the next period (predict y_test)\n",
    "\n",
    "#### For chosen value of predictive variable\n"
   ]
  },
  {
   "cell_type": "code",
   "execution_count": 13,
   "metadata": {},
   "outputs": [
    {
     "name": "stdout",
     "output_type": "stream",
     "text": [
      "\n",
      "Features Selected with Random Forest (RF)\n",
      "Version 1; Based on Dataset with only the Ratios Dataset as predicive Features\n",
      "\n",
      "Chosen best feature = CAPEI\n",
      "Chosen value of best feature = 15\n",
      "\n",
      "Predicted probability of price going UP with chosen CAPEI value is: 55.5788%\n",
      "Ratio of \"UP\" (Train)  =  55.9238%\n"
     ]
    }
   ],
   "source": [
    "# X must include 1 in first column for intercept\n",
    "# we wish to get the probability of 'UP' (=1) for a best_feature_value of USD 15\n",
    "\n",
    "# Print Text\n",
    "print(\"\")\n",
    "print('Features Selected with ' + str(sel_feat))\n",
    "print('Version ' + str(VERSION) + '; ' + str(sel_version))\n",
    "print(\"\")\n",
    "print('Chosen best feature = ' + str(best_feature))\n",
    "\n",
    "# Loop for Version differenciation\n",
    "if VERSION == 1:\n",
    "    if SELECTION == 'RF':\n",
    "        best_feature_value = 15\n",
    "        print('Chosen value of best feature = ' + str(best_feature_value))\n",
    "        print(\"\")\n",
    "        pred_test_one = logReg.predict([1, best_feature_value])\n",
    "        ratio_response_train = y_train_s.sum() / y_train_s.size\n",
    "        print('Predicted probability of price going UP with chosen ' + str(best_feature) + ' value is: '\n",
    "              + str(\"%.4f\" % round(float(pred_test_one*100),4)) + '%')\n",
    "        print('Ratio of \"UP\" (Train)  =  ' + str(\"%.4f\" % round(float(ratio_response_train*100),4)) + '%')\n",
    "    elif SELECTION == 'PCA':\n",
    "        print('ERROR: PCA best feature not defined! Thus no Simple Regression possible.')  \n",
    "elif VERSION == 2:\n",
    "        if SELECTION == 'RF':\n",
    "            best_feature_value = 0.02\n",
    "            print('Chosen value of best feature = ' + str(best_feature_value))\n",
    "            print(\"\")\n",
    "            pred_test_one = logReg.predict([1, best_feature_value])\n",
    "            ratio_response_train = y_train_s.sum() / y_train_s.size\n",
    "            print('Predicted probability of price going UP with chosen ' + str(best_feature) + ' value is: '\n",
    "                  + str(\"%.4f\" % round(float(pred_test_one*100),4)) + '%')\n",
    "            print('Ratio of \"UP\" (Train)  =  ' + str(\"%.4f\" % round(float(ratio_response_train*100),4)) + '%')\n",
    "        elif SELECTION == 'PCA':\n",
    "            print('ERROR: PCA best feature not defined! Thus no Simple Regression possible.')\n",
    "else: raise ValueError('VERSION value must be either 1 or 2, SELECTION must be either RF or PCA')"
   ]
  },
  {
   "cell_type": "markdown",
   "metadata": {},
   "source": [
    "#### For whole Test Set"
   ]
  },
  {
   "cell_type": "code",
   "execution_count": 14,
   "metadata": {},
   "outputs": [
    {
     "name": "stdout",
     "output_type": "stream",
     "text": [
      "\n",
      "Features Selected with Random Forest (RF)\n",
      "Version 1; Based on Dataset with only the Ratios Dataset as predicive Features\n",
      "\n",
      "\n",
      "Predicted probability of price going UP for whole Feature Test Set is: \n"
     ]
    },
    {
     "data": {
      "text/plain": [
       "0    0.559786\n",
       "1    0.560240\n",
       "2    0.556675\n",
       "dtype: float64"
      ]
     },
     "metadata": {},
     "output_type": "display_data"
    },
    {
     "data": {
      "text/html": [
       "<div>\n",
       "<style scoped>\n",
       "    .dataframe tbody tr th:only-of-type {\n",
       "        vertical-align: middle;\n",
       "    }\n",
       "\n",
       "    .dataframe tbody tr th {\n",
       "        vertical-align: top;\n",
       "    }\n",
       "\n",
       "    .dataframe thead th {\n",
       "        text-align: right;\n",
       "    }\n",
       "</style>\n",
       "<table border=\"1\" class=\"dataframe\">\n",
       "  <thead>\n",
       "    <tr style=\"text-align: right;\">\n",
       "      <th></th>\n",
       "      <th>0</th>\n",
       "    </tr>\n",
       "  </thead>\n",
       "  <tbody>\n",
       "    <tr>\n",
       "      <th>0</th>\n",
       "      <td>0</td>\n",
       "    </tr>\n",
       "    <tr>\n",
       "      <th>1</th>\n",
       "      <td>1</td>\n",
       "    </tr>\n",
       "    <tr>\n",
       "      <th>2</th>\n",
       "      <td>1</td>\n",
       "    </tr>\n",
       "  </tbody>\n",
       "</table>\n",
       "</div>"
      ],
      "text/plain": [
       "   0\n",
       "0  0\n",
       "1  1\n",
       "2  1"
      ]
     },
     "metadata": {},
     "output_type": "display_data"
    }
   ],
   "source": [
    "print(\"\")\n",
    "print('Features Selected with ' + str(sel_feat))\n",
    "print('Version ' + str(VERSION) + '; ' + str(sel_version))\n",
    "print(\"\")\n",
    "\n",
    "# we wish to get the probability of 'UP' (=1) for the whole test set\n",
    "if SELECTION == 'RF':\n",
    "    pred_test_all = logReg.predict(sm.add_constant(X_test_s[[best_feature]]))\n",
    "    print(\"\")\n",
    "    print('Predicted probability of price going UP for whole Feature Test Set is: ')\n",
    "    display(pred_test_all.head(3))\n",
    "    display(y_test_s.head(3))\n",
    "elif SELECTION == 'PCA':\n",
    "    print('ERROR: PCA best feature not defined! Thus no Simple Regression possible.')\n",
    "else: raise ValueError('VERSION value must be either 1 or 2, SELECTION must be either RF or PCA')    "
   ]
  },
  {
   "cell_type": "markdown",
   "metadata": {},
   "source": [
    "### 3.2.3. Plot Results (SLM)"
   ]
  },
  {
   "cell_type": "code",
   "execution_count": 15,
   "metadata": {},
   "outputs": [
    {
     "name": "stdout",
     "output_type": "stream",
     "text": [
      "\n",
      "Features Selected with Random Forest (RF)\n",
      "Version 1; Based on Dataset with only the Ratios Dataset as predicive Features\n",
      "\n",
      "Chosen best feature = CAPEI\n",
      "\n"
     ]
    },
    {
     "data": {
      "image/png": "[encoded data removed]",
      "text/plain": [
       "<matplotlib.figure.Figure at 0x7f02e80f14e0>"
      ]
     },
     "metadata": {},
     "output_type": "display_data"
    }
   ],
   "source": [
    "print(\"\")\n",
    "print('Features Selected with ' + str(sel_feat))\n",
    "print('Version ' + str(VERSION) + '; ' + str(sel_version))\n",
    "print(\"\")\n",
    "print('Chosen best feature = ' + str(best_feature))\n",
    "print(\"\")\n",
    "\n",
    "# Plot scatter and log.Reg\n",
    "if SELECTION == 'RF':\n",
    "    \n",
    "    # Transfer best_feature column an prediction for response vector in a newly made dataframe \"res\"\n",
    "    res = pd.DataFrame()\n",
    "    res['best_feature'] = X_train_s[best_feature]\n",
    "    res['pred'] = logReg.predict()\n",
    "\n",
    "    # Sort results by values of the best_feature column\n",
    "    res = res.sort_values('best_feature')\n",
    "    plt.figure(figsize =(8,5))\n",
    "    plt.scatter(X_train_s[best_feature], y_train_s, marker ='.')\n",
    "    plt.plot(res.best_feature, res.pred, c = 'k')\n",
    "    plt.axhline(y=0, color = \"gray\", linestyle = \"dashed\")\n",
    "    plt.axhline(y=1, color = \"gray\", linestyle = \"dashed\")\n",
    "    plt.ylabel(\"Probability of UP (=1)\", fontsize =12)\n",
    "    plt.xlabel(str(best_feature), fontsize =12)\n",
    "    plt.title(str(best_feature) + ' vs. probability of returns going UP in the next period');\n",
    "    \n",
    "elif SELECTION == 'PCA':\n",
    "    print('ERROR: PCA best feature not defined! Thus no Simple Regression possible.')\n",
    "    \n",
    "else: raise ValueError('VERSION value must be either 1 or 2, SELECTION must be either RF or PCA')  "
   ]
  },
  {
   "cell_type": "markdown",
   "metadata": {},
   "source": [
    "## 3.3. Multiple Logistic Regression with n pre-selected features (MLR1)"
   ]
  },
  {
   "cell_type": "markdown",
   "metadata": {},
   "source": [
    "### 3.3.1. Preparation and fitting (on Training Set) (MLR1)"
   ]
  },
  {
   "cell_type": "code",
   "execution_count": 16,
   "metadata": {},
   "outputs": [
    {
     "name": "stdout",
     "output_type": "stream",
     "text": [
      "Optimization terminated successfully.\n",
      "         Current function value: 0.668483\n",
      "         Iterations 5\n"
     ]
    }
   ],
   "source": [
    "## Multiple Log. Regression (with all n best features chosen in Chapter 2 in the feature selection process)\n",
    "logReg_m = sm.Logit(endog = y_train_s, exog = sm.add_constant(X_train_s)).fit() "
   ]
  },
  {
   "cell_type": "markdown",
   "metadata": {},
   "source": [
    "### 3.3.2. Summary (MLR1)"
   ]
  },
  {
   "cell_type": "code",
   "execution_count": 17,
   "metadata": {},
   "outputs": [
    {
     "name": "stdout",
     "output_type": "stream",
     "text": [
      "\n",
      "Features Selected with Random Forest (RF)\n",
      "Version 1; Based on Dataset with only the Ratios Dataset as predicive Features\n",
      "\n",
      "Multiple Logistic Regression with all selected features\n",
      "\n",
      "                           Logit Regression Results                           \n",
      "==============================================================================\n",
      "Dep. Variable:                      0   No. Observations:                 2836\n",
      "Model:                          Logit   Df Residuals:                     2820\n",
      "Method:                           MLE   Df Model:                           15\n",
      "Date:                Mon, 09 Apr 2018   Pseudo R-squ.:                 0.02569\n",
      "Time:                        23:38:29   Log-Likelihood:                -1895.8\n",
      "converged:                       True   LL-Null:                       -1945.8\n",
      "                                        LLR p-value:                 1.309e-14\n",
      "==============================================================================\n",
      "==================================================================================\n",
      "                     coef    std err          z      P>|z|      [0.025      0.975]\n",
      "----------------------------------------------------------------------------------\n",
      "const              0.2703      0.251      1.077      0.282      -0.222       0.762\n",
      "CAPEI              0.0012      0.002      0.642      0.521      -0.003       0.005\n",
      "pcf                0.0054      0.004      1.312      0.190      -0.003       0.013\n",
      "divyield         -19.8433      3.631     -5.465      0.000     -26.960     -12.727\n",
      "evm               -0.0371      0.010     -3.751      0.000      -0.056      -0.018\n",
      "pe_inc            -0.0045      0.003     -1.297      0.195      -0.011       0.002\n",
      "pe_op_dil         -0.0479      0.015     -3.122      0.002      -0.078      -0.018\n",
      "pe_op_basic        0.0727      0.020      3.554      0.000       0.033       0.113\n",
      "bm                 1.2418      0.255      4.879      0.000       0.743       1.741\n",
      "PEG_ltgforward     0.0081      0.013      0.629      0.529      -0.017       0.033\n",
      "ptb                0.1355      0.030      4.566      0.000       0.077       0.194\n",
      "aftret_equity     -0.4221      0.232     -1.823      0.068      -0.876       0.032\n",
      "sale_invcap       -0.0681      0.046     -1.468      0.142      -0.159       0.023\n",
      "PEG_1yrforward     0.0093      0.006      1.446      0.148      -0.003       0.022\n",
      "pe_exi             0.0028      0.004      0.752      0.452      -0.004       0.010\n",
      "debt_assets       -0.5548      0.258     -2.154      0.031      -1.060      -0.050\n",
      "==================================================================================\n"
     ]
    }
   ],
   "source": [
    "print(\"\")\n",
    "print('Features Selected with ' + str(sel_feat))\n",
    "print('Version ' + str(VERSION) + '; ' + str(sel_version))\n",
    "print(\"\")\n",
    "print(\"Multiple Logistic Regression with all selected features\")\n",
    "print(\"\")\n",
    "\n",
    "# Workaround solution for error (\"AttributeError: module 'scipy.stats' has no attribute 'chisqprob'\")\n",
    "from scipy import stats\n",
    "stats.chisqprob = lambda chisq, df: stats.chi2.sf(chisq, df)\n",
    "\n",
    "# Run Multiple Logistic Regression\n",
    "print(logReg_m.summary().tables[0])\n",
    "print(logReg_m.summary().tables[1])"
   ]
  },
  {
   "cell_type": "markdown",
   "metadata": {},
   "source": [
    "### 3.3.3. Assessing Output (MLR1)\n",
    "\n",
    "### Hypothesis testing / Confidence Interval"
   ]
  },
  {
   "cell_type": "code",
   "execution_count": 18,
   "metadata": {},
   "outputs": [
    {
     "name": "stdout",
     "output_type": "stream",
     "text": [
      "\n",
      "99% Confidence Interval (Significance Level 1%)\n"
     ]
    },
    {
     "data": {
      "text/html": [
       "<div>\n",
       "<style scoped>\n",
       "    .dataframe tbody tr th:only-of-type {\n",
       "        vertical-align: middle;\n",
       "    }\n",
       "\n",
       "    .dataframe tbody tr th {\n",
       "        vertical-align: top;\n",
       "    }\n",
       "\n",
       "    .dataframe thead th {\n",
       "        text-align: right;\n",
       "    }\n",
       "</style>\n",
       "<table border=\"1\" class=\"dataframe\">\n",
       "  <thead>\n",
       "    <tr style=\"text-align: right;\">\n",
       "      <th></th>\n",
       "      <th>0</th>\n",
       "      <th>1</th>\n",
       "    </tr>\n",
       "  </thead>\n",
       "  <tbody>\n",
       "    <tr>\n",
       "      <th>const</th>\n",
       "      <td>-0.376276</td>\n",
       "      <td>0.916838</td>\n",
       "    </tr>\n",
       "    <tr>\n",
       "      <th>CAPEI</th>\n",
       "      <td>-0.003685</td>\n",
       "      <td>0.006129</td>\n",
       "    </tr>\n",
       "    <tr>\n",
       "      <th>pcf</th>\n",
       "      <td>-0.005207</td>\n",
       "      <td>0.016013</td>\n",
       "    </tr>\n",
       "    <tr>\n",
       "      <th>divyield</th>\n",
       "      <td>-29.196333</td>\n",
       "      <td>-10.490286</td>\n",
       "    </tr>\n",
       "    <tr>\n",
       "      <th>evm</th>\n",
       "      <td>-0.062589</td>\n",
       "      <td>-0.011627</td>\n",
       "    </tr>\n",
       "    <tr>\n",
       "      <th>pe_inc</th>\n",
       "      <td>-0.013514</td>\n",
       "      <td>0.004464</td>\n",
       "    </tr>\n",
       "    <tr>\n",
       "      <th>pe_op_dil</th>\n",
       "      <td>-0.087506</td>\n",
       "      <td>-0.008390</td>\n",
       "    </tr>\n",
       "    <tr>\n",
       "      <th>pe_op_basic</th>\n",
       "      <td>0.020016</td>\n",
       "      <td>0.125444</td>\n",
       "    </tr>\n",
       "    <tr>\n",
       "      <th>bm</th>\n",
       "      <td>0.586142</td>\n",
       "      <td>1.897478</td>\n",
       "    </tr>\n",
       "    <tr>\n",
       "      <th>PEG_ltgforward</th>\n",
       "      <td>-0.024968</td>\n",
       "      <td>0.041097</td>\n",
       "    </tr>\n",
       "    <tr>\n",
       "      <th>ptb</th>\n",
       "      <td>0.059032</td>\n",
       "      <td>0.211876</td>\n",
       "    </tr>\n",
       "    <tr>\n",
       "      <th>aftret_equity</th>\n",
       "      <td>-1.018604</td>\n",
       "      <td>0.174389</td>\n",
       "    </tr>\n",
       "    <tr>\n",
       "      <th>sale_invcap</th>\n",
       "      <td>-0.187693</td>\n",
       "      <td>0.051447</td>\n",
       "    </tr>\n",
       "    <tr>\n",
       "      <th>PEG_1yrforward</th>\n",
       "      <td>-0.007237</td>\n",
       "      <td>0.025761</td>\n",
       "    </tr>\n",
       "    <tr>\n",
       "      <th>pe_exi</th>\n",
       "      <td>-0.006788</td>\n",
       "      <td>0.012388</td>\n",
       "    </tr>\n",
       "    <tr>\n",
       "      <th>debt_assets</th>\n",
       "      <td>-1.218236</td>\n",
       "      <td>0.108677</td>\n",
       "    </tr>\n",
       "  </tbody>\n",
       "</table>\n",
       "</div>"
      ],
      "text/plain": [
       "                        0          1\n",
       "const           -0.376276   0.916838\n",
       "CAPEI           -0.003685   0.006129\n",
       "pcf             -0.005207   0.016013\n",
       "divyield       -29.196333 -10.490286\n",
       "evm             -0.062589  -0.011627\n",
       "pe_inc          -0.013514   0.004464\n",
       "pe_op_dil       -0.087506  -0.008390\n",
       "pe_op_basic      0.020016   0.125444\n",
       "bm               0.586142   1.897478\n",
       "PEG_ltgforward  -0.024968   0.041097\n",
       "ptb              0.059032   0.211876\n",
       "aftret_equity   -1.018604   0.174389\n",
       "sale_invcap     -0.187693   0.051447\n",
       "PEG_1yrforward  -0.007237   0.025761\n",
       "pe_exi          -0.006788   0.012388\n",
       "debt_assets     -1.218236   0.108677"
      ]
     },
     "metadata": {},
     "output_type": "display_data"
    }
   ],
   "source": [
    "significance_level = 0.01\n",
    "\n",
    "# Print Confidence Interval with Title\n",
    "print(\"\")\n",
    "print(str(int(100 - significance_level*100)) + '% Confidence Interval (Significance Level ' \n",
    "      + str(int(significance_level*100)) + '%)')\n",
    "display(logReg_m.conf_int(alpha=significance_level))"
   ]
  },
  {
   "cell_type": "markdown",
   "metadata": {},
   "source": [
    "### Confusion Matrix"
   ]
  },
  {
   "cell_type": "code",
   "execution_count": 19,
   "metadata": {},
   "outputs": [
    {
     "data": {
      "text/plain": [
       "array([[ 361.,  889.],\n",
       "       [ 242., 1344.]])"
      ]
     },
     "execution_count": 19,
     "metadata": {},
     "output_type": "execute_result"
    }
   ],
   "source": [
    "logReg_m.pred_table(threshold=0.5)"
   ]
  },
  {
   "cell_type": "markdown",
   "metadata": {},
   "source": [
    "### 3.3.4. Prediction (MLR1)\n",
    "Multiple Logistic Regression 1 (pre-selected features with RandomForest in Chapter 2) \n",
    "\n",
    "### A: In-sample Prediction of probability for returns going UP in the next period (predict y_train)\n",
    "\n",
    "#### For whole Training Set\n"
   ]
  },
  {
   "cell_type": "code",
   "execution_count": 20,
   "metadata": {},
   "outputs": [
    {
     "name": "stdout",
     "output_type": "stream",
     "text": [
      "\n",
      "Features Selected with Random Forest (RF)\n",
      "Version 1; Based on Dataset with only the Ratios Dataset as predicive Features\n",
      "\n",
      "\n",
      "Predicted probabilities of price going UP for whole Feature Set (Train) are: \n"
     ]
    },
    {
     "data": {
      "text/plain": [
       "0    0.574531\n",
       "1    0.503615\n",
       "2    0.560209\n",
       "dtype: float64"
      ]
     },
     "metadata": {},
     "output_type": "display_data"
    },
    {
     "name": "stdout",
     "output_type": "stream",
     "text": [
      "\n",
      "Response Vector (Train): \n"
     ]
    },
    {
     "data": {
      "text/html": [
       "<div>\n",
       "<style scoped>\n",
       "    .dataframe tbody tr th:only-of-type {\n",
       "        vertical-align: middle;\n",
       "    }\n",
       "\n",
       "    .dataframe tbody tr th {\n",
       "        vertical-align: top;\n",
       "    }\n",
       "\n",
       "    .dataframe thead th {\n",
       "        text-align: right;\n",
       "    }\n",
       "</style>\n",
       "<table border=\"1\" class=\"dataframe\">\n",
       "  <thead>\n",
       "    <tr style=\"text-align: right;\">\n",
       "      <th></th>\n",
       "      <th>0</th>\n",
       "    </tr>\n",
       "  </thead>\n",
       "  <tbody>\n",
       "    <tr>\n",
       "      <th>0</th>\n",
       "      <td>1</td>\n",
       "    </tr>\n",
       "    <tr>\n",
       "      <th>1</th>\n",
       "      <td>0</td>\n",
       "    </tr>\n",
       "    <tr>\n",
       "      <th>2</th>\n",
       "      <td>1</td>\n",
       "    </tr>\n",
       "  </tbody>\n",
       "</table>\n",
       "</div>"
      ],
      "text/plain": [
       "   0\n",
       "0  1\n",
       "1  0\n",
       "2  1"
      ]
     },
     "metadata": {},
     "output_type": "display_data"
    }
   ],
   "source": [
    "print(\"\")\n",
    "print('Features Selected with ' + str(sel_feat))\n",
    "print('Version ' + str(VERSION) + '; ' + str(sel_version))\n",
    "print(\"\")\n",
    "\n",
    "# Get the probability of 'UP' (=1) for the whole training set\n",
    "pred_train_all = logReg_m.predict(sm.add_constant(X_train_s))\n",
    "\n",
    "# Print Prediction and Response Vector, with Title\n",
    "print(\"\")\n",
    "print('Predicted probabilities of price going UP for whole Feature Set (Train) are: ')\n",
    "display(pred_train_all[0:3])\n",
    "print(\"\")\n",
    "print('Response Vector (Train): ')\n",
    "display(y_train_s[0:3])"
   ]
  },
  {
   "cell_type": "markdown",
   "metadata": {},
   "source": [
    "### B: New-sample Prediction of probability for returns going UP in the next period (predict y_test)\n",
    "\n",
    "#### For whole Test Set\n"
   ]
  },
  {
   "cell_type": "code",
   "execution_count": 21,
   "metadata": {},
   "outputs": [
    {
     "name": "stdout",
     "output_type": "stream",
     "text": [
      "\n",
      "Features Selected with Random Forest (RF)\n",
      "Version 1; Based on Dataset with only the Ratios Dataset as predicive Features\n",
      "\n",
      "\n",
      "Predicted probability of price going UP for whole Feature Set (Test) is: \n"
     ]
    },
    {
     "data": {
      "text/plain": [
       "0    0.618898\n",
       "1    0.558967\n",
       "2    0.552743\n",
       "dtype: float64"
      ]
     },
     "metadata": {},
     "output_type": "display_data"
    },
    {
     "name": "stdout",
     "output_type": "stream",
     "text": [
      "\n",
      "Response Vector (Test): \n"
     ]
    },
    {
     "data": {
      "text/html": [
       "<div>\n",
       "<style scoped>\n",
       "    .dataframe tbody tr th:only-of-type {\n",
       "        vertical-align: middle;\n",
       "    }\n",
       "\n",
       "    .dataframe tbody tr th {\n",
       "        vertical-align: top;\n",
       "    }\n",
       "\n",
       "    .dataframe thead th {\n",
       "        text-align: right;\n",
       "    }\n",
       "</style>\n",
       "<table border=\"1\" class=\"dataframe\">\n",
       "  <thead>\n",
       "    <tr style=\"text-align: right;\">\n",
       "      <th></th>\n",
       "      <th>0</th>\n",
       "    </tr>\n",
       "  </thead>\n",
       "  <tbody>\n",
       "    <tr>\n",
       "      <th>0</th>\n",
       "      <td>0</td>\n",
       "    </tr>\n",
       "    <tr>\n",
       "      <th>1</th>\n",
       "      <td>1</td>\n",
       "    </tr>\n",
       "    <tr>\n",
       "      <th>2</th>\n",
       "      <td>1</td>\n",
       "    </tr>\n",
       "  </tbody>\n",
       "</table>\n",
       "</div>"
      ],
      "text/plain": [
       "   0\n",
       "0  0\n",
       "1  1\n",
       "2  1"
      ]
     },
     "metadata": {},
     "output_type": "display_data"
    }
   ],
   "source": [
    "print(\"\")\n",
    "print('Features Selected with ' + str(sel_feat))\n",
    "print('Version ' + str(VERSION) + '; ' + str(sel_version))\n",
    "print(\"\")\n",
    "\n",
    "# Get the probability of 'UP' (=1) for the whole test set\n",
    "pred_test_all = logReg_m.predict(sm.add_constant(X_test_s))\n",
    "\n",
    "# Print Prediction and Response Vector, with Title\n",
    "print(\"\")\n",
    "print('Predicted probability of price going UP for whole Feature Set (Test) is: ')\n",
    "display(pred_test_all.head(3))\n",
    "print(\"\")\n",
    "print('Response Vector (Test): ')\n",
    "display(y_test_s.head(3))"
   ]
  },
  {
   "cell_type": "code",
   "execution_count": 22,
   "metadata": {},
   "outputs": [],
   "source": [
    "# compare LogReg with only one feature as exogen variable & LogReg 1 \n",
    "# (explicitly Log-Likelihood values-> is there an improvement? (smaller values are prefered!))"
   ]
  },
  {
   "cell_type": "code",
   "execution_count": 23,
   "metadata": {},
   "outputs": [],
   "source": [
    "# Check for non significant values (p-value > 0.05) and the Log-Likelihood value"
   ]
  },
  {
   "cell_type": "markdown",
   "metadata": {},
   "source": [
    "## 3.4. Multiple Logistic Regression with only significant features (MLR2)\n",
    "\n",
    "Apply an other multiple logistic regression on a transformed dataset with only all significant values from LogReg_m (above)"
   ]
  },
  {
   "cell_type": "markdown",
   "metadata": {},
   "source": [
    "### 3.4.1. Extract significant features (MLR2)"
   ]
  },
  {
   "cell_type": "code",
   "execution_count": 74,
   "metadata": {},
   "outputs": [
    {
     "name": "stdout",
     "output_type": "stream",
     "text": [
      "\"Condition\" array with index starting with intercept:\n"
     ]
    },
    {
     "data": {
      "text/plain": [
       "(array([ 3,  4,  6,  7,  8, 10, 15]),)"
      ]
     },
     "metadata": {},
     "output_type": "display_data"
    },
    {
     "name": "stdout",
     "output_type": "stream",
     "text": [
      "\"Condition\" array with index starting with the first feature, leaving intercept out of the counting:\n"
     ]
    },
    {
     "data": {
      "text/plain": [
       "array([[ 2,  3,  5,  6,  7,  9, 14]])"
      ]
     },
     "metadata": {},
     "output_type": "display_data"
    },
    {
     "name": "stdout",
     "output_type": "stream",
     "text": [
      "\n",
      "Features that were significant in the previous MLR in chapter 3.3.:\n",
      "\n",
      "['divyield', 'evm', 'pe_op_dil', 'pe_op_basic', 'bm', 'ptb', 'debt_assets']\n"
     ]
    }
   ],
   "source": [
    "# extracting significant features with an alpha-boundery of 0.05\n",
    "condition = np.where(logReg_m.pvalues < 0.05)\n",
    "print('\"Condition\" array with index starting with intercept:')\n",
    "display(condition)\n",
    "\n",
    "# Subtract '1' fom every entry in the numpy array \"condition\", because in logReg index 0 starts with the intercept\n",
    "# but in the X_train_s set the index 0 starts with the first feature already\n",
    "# otherwise there would be an error \"index out of range\" when we would try to apply the condition to the X_train_s set\n",
    "condition_m = np.subtract(condition, 1)\n",
    "print('\"Condition\" array with index starting with the first feature, leaving intercept out of the counting:')\n",
    "display(condition_m)\n",
    "\n",
    "# Print Significant Features\n",
    "if SELECTION == 'RF':\n",
    "    # In one single step: extract cosen columns of X_train_s dataset, \n",
    "    # convrt np.array to list\n",
    "    # because of \"double-brackets\"; extract the only column (0), which is the \"list inside of the list\"\n",
    "    sign_features = X_train_s.columns.values[condition_m].tolist()[0]\n",
    "    print(\"\")\n",
    "    print('Features that were significant in the previous MLR in chapter 3.3.:')\n",
    "    print(\"\")\n",
    "    print(sign_features)\n",
    "elif SELECTION == 'PCA':\n",
    "    print('PCA: gives \"IndexError: index 10 is out of bounds for axis 1 with size 10\"')\n",
    "else: raise ValueError('SELECTION must be either RF or PCA')"
   ]
  },
  {
   "cell_type": "markdown",
   "metadata": {},
   "source": [
    "### 3.4.2. Preparation and fitting (on Training Set) (MLR2)"
   ]
  },
  {
   "cell_type": "code",
   "execution_count": 75,
   "metadata": {},
   "outputs": [
    {
     "name": "stdout",
     "output_type": "stream",
     "text": [
      "Optimization terminated successfully.\n",
      "         Current function value: 0.670870\n",
      "         Iterations 5\n"
     ]
    }
   ],
   "source": [
    "## Multiple Log. Regression (with significant features from logreg above)\n",
    "# Assign features to X and response vector y\n",
    "\n",
    "\n",
    "if SELECTION == 'RF':\n",
    "    logReg_mm = sm.Logit(endog = y_train_s, exog=sm.add_constant(X_train_s[sign_f])).fit()\n",
    "elif SELECTION == 'PCA':\n",
    "    print('PCA: could not define sign_features above')\n",
    "else: raise ValueError('SELECTION must be either RF or PCA')"
   ]
  },
  {
   "cell_type": "markdown",
   "metadata": {},
   "source": [
    "### 3.4.3. Summary (MLR2)"
   ]
  },
  {
   "cell_type": "code",
   "execution_count": 76,
   "metadata": {},
   "outputs": [
    {
     "name": "stdout",
     "output_type": "stream",
     "text": [
      "\n",
      "Multiple Logistic Regression with selected significant features\n",
      "\n",
      "                           Logit Regression Results                           \n",
      "==============================================================================\n",
      "Dep. Variable:                      0   No. Observations:                 2836\n",
      "Model:                          Logit   Df Residuals:                     2828\n",
      "Method:                           MLE   Df Model:                            7\n",
      "Date:                Tue, 10 Apr 2018   Pseudo R-squ.:                 0.02222\n",
      "Time:                        00:01:22   Log-Likelihood:                -1902.6\n",
      "converged:                       True   LL-Null:                       -1945.8\n",
      "                                        LLR p-value:                 6.596e-16\n",
      "==============================================================================\n",
      "===============================================================================\n",
      "                  coef    std err          z      P>|z|      [0.025      0.975]\n",
      "-------------------------------------------------------------------------------\n",
      "const           0.2002      0.212      0.946      0.344      -0.214       0.615\n",
      "divyield      -18.9989      3.435     -5.531      0.000     -25.731     -12.267\n",
      "evm            -0.0225      0.008     -2.742      0.006      -0.039      -0.006\n",
      "pe_op_dil      -0.0532      0.015     -3.491      0.000      -0.083      -0.023\n",
      "pe_op_basic     0.0811      0.020      4.017      0.000       0.042       0.121\n",
      "bm              1.2452      0.251      4.956      0.000       0.753       1.738\n",
      "ptb             0.0986      0.024      4.050      0.000       0.051       0.146\n",
      "debt_assets    -0.8157      0.241     -3.386      0.001      -1.288      -0.344\n",
      "===============================================================================\n"
     ]
    }
   ],
   "source": [
    "if SELECTION == 'RF':\n",
    "    print(\"\")\n",
    "    print(\"Multiple Logistic Regression with selected significant features\")\n",
    "    print(\"\")\n",
    "    print(logReg_mm.summary().tables[0])\n",
    "    print(logReg_mm.summary().tables[1])\n",
    "elif SELECTION == 'PCA':\n",
    "    print('PCA: could not define sign_features above')\n",
    "else: raise ValueError('SELECTION must be either RF or PCA')"
   ]
  },
  {
   "cell_type": "code",
   "execution_count": null,
   "metadata": {},
   "outputs": [],
   "source": [
    "# compare LogReg 1 & 2 (explicitly Log-Likelihood values-> is there an improvement? (smaller values are prefered!))"
   ]
  },
  {
   "cell_type": "code",
   "execution_count": null,
   "metadata": {},
   "outputs": [],
   "source": [
    "# Does the logistic regression support our choice in feature selection (with random forest)?"
   ]
  },
  {
   "cell_type": "markdown",
   "metadata": {},
   "source": [
    "# CODE DIRECTLY COPIED FROM STEFANIE FILE"
   ]
  },
  {
   "cell_type": "markdown",
   "metadata": {},
   "source": [
    "### 2.2.2 Multiple Logistic Regression with all selected features (for dataset number 2, because error message)"
   ]
  },
  {
   "cell_type": "code",
   "execution_count": null,
   "metadata": {},
   "outputs": [],
   "source": [
    "## Multiple Log. Regression (tried with all 15 features from feature selection, but it gives an error because it seems that\n",
    "# there are dependent columns)\n",
    "# Assign features to X and response vector y\n",
    "#X = sm.add_constant(X2_train_s)\n",
    "#y = y2_train\n",
    "\n",
    "# check for all independent columns\n",
    "import sympy \n",
    "reduced_form, inds = sympy.Matrix(X2_train_s.values).rref()\n",
    "reduced_form\n",
    "\n",
    "# independent columns\n",
    "inds\n",
    "\n",
    "# Assign features to X and response vector y-> because of inds only until column 14\n",
    "X = sm.add_constant(X2_train_s.iloc[:, 0:14])\n",
    "y = y2_train"
   ]
  },
  {
   "cell_type": "code",
   "execution_count": null,
   "metadata": {},
   "outputs": [],
   "source": [
    "# LogReg A\n",
    "print(\"Multiple Logistic Regression with all selected features\")\n",
    "print(78*\"_\")\n",
    "print(\"\")\n",
    "# Run Log.Reg\n",
    "logRegA = sm.Logit(endog = y, exog= X).fit()\n",
    "print(logRegA.summary().tables[0])\n",
    "print(logRegA.summary().tables[1])"
   ]
  },
  {
   "cell_type": "code",
   "execution_count": null,
   "metadata": {},
   "outputs": [],
   "source": [
    "# compare LogReg with only one feature as exogen variable & LogReg A \n",
    "# (explicitly Log-Likelihood values-> is there an improvement? (smaller values are prefered!))\n",
    "\n",
    "# Check for non significant values (p-value > 0.05) and the Log-Likelihood value"
   ]
  },
  {
   "cell_type": "markdown",
   "metadata": {},
   "source": [
    "### 2.2.3 Multiple Logistic Regression with only significant features (for dataset number 2, because error message)"
   ]
  },
  {
   "cell_type": "code",
   "execution_count": null,
   "metadata": {},
   "outputs": [],
   "source": [
    "# extracting significant features with an alpha-boundery of 0.05\n",
    "sign_features = (colNms_X2_train[np.where(logReg.pvalues < 0.05)])\n",
    "print(sign_features)"
   ]
  },
  {
   "cell_type": "markdown",
   "metadata": {},
   "source": [
    "### 2.2.3. Summary"
   ]
  },
  {
   "cell_type": "code",
   "execution_count": null,
   "metadata": {},
   "outputs": [],
   "source": [
    "## Multiple Log. Regression (with significant features from logreg above)\n",
    "# Assign features to X and response vector y\n",
    "X = sm.add_constant(X2_train_s[sign_features])\n",
    "y = y2_train\n",
    "logReg = sm.Logit(endog = y, exog=X).fit()\n",
    "\n",
    "# LogReg B\n",
    "print(\"Multiple Logistic Regression with selected significant features\")\n",
    "print(78*\"_\")\n",
    "print(\"\")\n",
    "print(logReg.summary().tables[0])\n",
    "print(logReg.summary().tables[1])"
   ]
  },
  {
   "cell_type": "code",
   "execution_count": null,
   "metadata": {},
   "outputs": [],
   "source": [
    "# compare LogReg A & B (explicitly Log-Likelihood values-> is there an improvement? (smaller values are prefered!))\n",
    "# Does the logistic regression support our choice in feature selection (with random forest)?"
   ]
  },
  {
   "cell_type": "markdown",
   "metadata": {},
   "source": [
    "## 3. Prediction"
   ]
  },
  {
   "cell_type": "markdown",
   "metadata": {},
   "source": [
    "### 3.1 Version 1 with best LogReg Model"
   ]
  },
  {
   "cell_type": "code",
   "execution_count": null,
   "metadata": {},
   "outputs": [],
   "source": [
    "modelA = LogisticRegression()\n",
    "modelA.fit(X1_train_s, y1_train)\n",
    "\n",
    "expected = y1_test\n",
    "predicted = modelA.predict(X1_test_s)"
   ]
  },
  {
   "cell_type": "code",
   "execution_count": null,
   "metadata": {},
   "outputs": [],
   "source": [
    "print(metrics.classification_report(expected, predicted))\n",
    "print(metrics.confusion_matrix(expected, predicted))"
   ]
  },
  {
   "cell_type": "code",
   "execution_count": null,
   "metadata": {},
   "outputs": [],
   "source": [
    "# loglikelihood for \"regression\" of predicted on expected\n",
    "from sklearn.metrics import log_loss\n",
    "\n",
    "log_loss(expected, predicted)"
   ]
  },
  {
   "cell_type": "markdown",
   "metadata": {},
   "source": [
    "### 3.2 Version 2 with best LogReg Model"
   ]
  },
  {
   "cell_type": "code",
   "execution_count": null,
   "metadata": {},
   "outputs": [],
   "source": [
    "modelB = LogisticRegression()\n",
    "modelB.fit(X2_train_s, y2_train)\n",
    "\n",
    "expected = y2_test\n",
    "predicted = modelB.predict(X2_test_s)"
   ]
  },
  {
   "cell_type": "code",
   "execution_count": null,
   "metadata": {},
   "outputs": [],
   "source": [
    "print(metrics.classification_report(expected, predicted))\n",
    "print(metrics.confusion_matrix(expected, predicted))"
   ]
  },
  {
   "cell_type": "code",
   "execution_count": null,
   "metadata": {},
   "outputs": [],
   "source": [
    "# loglikelihood for \"regression\" of predicted on expected\n",
    "from sklearn.metrics import log_loss\n",
    "\n",
    "log_loss(expected, predicted)"
   ]
  }
 ],
 "metadata": {
  "kernelspec": {
   "display_name": "Python 3",
   "language": "python",
   "name": "python3"
  },
  "language_info": {
   "codemirror_mode": {
    "name": "ipython",
    "version": 3
   },
   "file_extension": ".py",
   "mimetype": "text/x-python",
   "name": "python",
   "nbconvert_exporter": "python",
   "pygments_lexer": "ipython3",
   "version": "3.6.2"
  }
 },
 "nbformat": 4,
 "nbformat_minor": 2
}
