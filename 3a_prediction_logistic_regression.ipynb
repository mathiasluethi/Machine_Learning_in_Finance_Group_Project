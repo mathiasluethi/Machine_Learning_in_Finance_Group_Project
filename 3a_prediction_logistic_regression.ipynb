{
 "cells": [
  {
   "cell_type": "markdown",
   "metadata": {},
   "source": [
    "# Introduction to Machine Learning, UZH 2018, Group Project\n",
    "### Group 2: Barbara Capl, Mathias Lüthi, Pamela Matias, Stefanie Rentsch\n",
    "##       \n",
    "# 3. Prediction with Multiple Logistic Regression\n",
    "\n",
    "In this section we use the feature matrices and response vectors with features selected in chapter 2.  \n",
    "\n",
    "#### We use two different versions (created in chapter 1, features-selected in chapter 2):\n",
    "Version 1: Feature Matrix consists only of the Ratios                                                                        \n",
    "Version 2: Feature Matrix consists of Ratios + dummy variables for seasonality + other market data\n",
    "####  "
   ]
  },
  {
   "cell_type": "code",
   "execution_count": 1,
   "metadata": {},
   "outputs": [],
   "source": [
    "# hide unnecessary warnings (\"depreciation\" of packages etc.)\n",
    "import warnings\n",
    "warnings.filterwarnings('ignore')\n",
    "\n",
    "# Load Packages\n",
    "import pandas as pd\n",
    "import numpy as np\n",
    "import matplotlib.pyplot as plt\n",
    "import statsmodels.api as sm\n",
    "import statsmodels.formula.api as smf\n",
    "plt.style.use(\"seaborn-whitegrid\")\n",
    "%matplotlib inline"
   ]
  },
  {
   "cell_type": "markdown",
   "metadata": {},
   "source": [
    "## 3.0. Choose which Feature Matrix (Version 1 or 2) you want to load in by choosing the Case\n",
    "### Available are: Case 1 and Case 2"
   ]
  },
  {
   "cell_type": "code",
   "execution_count": 2,
   "metadata": {},
   "outputs": [],
   "source": [
    "# If case = 1, Feature Matrix Version 1 is used (see description above below title)\n",
    "# If case = 2, feature matrix Version 2 is used (see description above below title)\n",
    "\n",
    "_CASE_ = 1"
   ]
  },
  {
   "cell_type": "markdown",
   "metadata": {},
   "source": [
    "## 3.1. Preparation"
   ]
  },
  {
   "cell_type": "markdown",
   "metadata": {},
   "source": [
    "### 3.1.1. Import the Response Vector and the Feature Matrix"
   ]
  },
  {
   "cell_type": "code",
   "execution_count": 3,
   "metadata": {},
   "outputs": [],
   "source": [
    "# import Data (already splitted to train/test-data and selected features-> bc_randomforest_feature_selection)\n",
    "if _CASE_ == 1:\n",
    "    X_train_s = pd.read_csv('Data/generated_splits/X1_train_s.csv', sep=',', header=0)\n",
    "    X_test_s = pd.read_csv('Data/generated_splits/X1_test_s.csv', sep=',', header=0)\n",
    "    y_train_s = pd.read_csv('Data/generated_splits/y1_train_s.csv', sep=',', header=0)\n",
    "    y_test_s = pd.read_csv('Data/generated_splits/y1_test_s.csv', sep=',', header=0)\n",
    "elif _CASE_ == 2:\n",
    "    X_train_s = pd.read_csv('Data/generated_splits/X2_train_s.csv', sep=',', header=0)\n",
    "    X_test_s = pd.read_csv('Data/generated_splits/X2_test_s.csv', sep=',', header=0)\n",
    "    y_train_s = pd.read_csv('Data/generated_splits/y2_train_s.csv', sep=',', header=0)\n",
    "    y_test_s = pd.read_csv('Data/generated_splits/y2_test_s.csv', sep=',', header=0)\n",
    "else: raise ValueError('_CASE_ value must be either 1 or 2')\n"
   ]
  },
  {
   "cell_type": "markdown",
   "metadata": {},
   "source": [
    "### 3.1.2. Print out Shape and Form of Feature Matrix and Response Vector"
   ]
  },
  {
   "cell_type": "markdown",
   "metadata": {},
   "source": [
    "### Train Set"
   ]
  },
  {
   "cell_type": "code",
   "execution_count": 4,
   "metadata": {},
   "outputs": [
    {
     "name": "stdout",
     "output_type": "stream",
     "text": [
      "\n",
      "Shape (rows, columns) of Feature Matrix X (Train), Case 1  = (2836, 15)\n",
      "\n",
      "\n",
      "Feature Matrix X (Train) with selected Features, Case 1\n"
     ]
    },
    {
     "data": {
      "text/html": [
       "<div>\n",
       "<style scoped>\n",
       "    .dataframe tbody tr th:only-of-type {\n",
       "        vertical-align: middle;\n",
       "    }\n",
       "\n",
       "    .dataframe tbody tr th {\n",
       "        vertical-align: top;\n",
       "    }\n",
       "\n",
       "    .dataframe thead th {\n",
       "        text-align: right;\n",
       "    }\n",
       "</style>\n",
       "<table border=\"1\" class=\"dataframe\">\n",
       "  <thead>\n",
       "    <tr style=\"text-align: right;\">\n",
       "      <th></th>\n",
       "      <th>CAPEI</th>\n",
       "      <th>pcf</th>\n",
       "      <th>divyield</th>\n",
       "      <th>pe_inc</th>\n",
       "      <th>evm</th>\n",
       "      <th>bm</th>\n",
       "      <th>pe_op_dil</th>\n",
       "      <th>PEG_ltgforward</th>\n",
       "      <th>pe_op_basic</th>\n",
       "      <th>ptb</th>\n",
       "      <th>aftret_equity</th>\n",
       "      <th>accrual</th>\n",
       "      <th>pe_exi</th>\n",
       "      <th>PEG_1yrforward</th>\n",
       "      <th>fcf_ocf</th>\n",
       "    </tr>\n",
       "  </thead>\n",
       "  <tbody>\n",
       "    <tr>\n",
       "      <th>0</th>\n",
       "      <td>20.773</td>\n",
       "      <td>9.957</td>\n",
       "      <td>0.0354</td>\n",
       "      <td>18.484</td>\n",
       "      <td>10.644</td>\n",
       "      <td>0.547</td>\n",
       "      <td>15.633</td>\n",
       "      <td>5.963</td>\n",
       "      <td>15.468</td>\n",
       "      <td>1.811</td>\n",
       "      <td>0.134</td>\n",
       "      <td>0.048</td>\n",
       "      <td>18.484</td>\n",
       "      <td>13.678</td>\n",
       "      <td>0.932</td>\n",
       "    </tr>\n",
       "    <tr>\n",
       "      <th>1</th>\n",
       "      <td>25.089</td>\n",
       "      <td>8.509</td>\n",
       "      <td>0.0398</td>\n",
       "      <td>39.232</td>\n",
       "      <td>9.246</td>\n",
       "      <td>0.461</td>\n",
       "      <td>17.296</td>\n",
       "      <td>5.702</td>\n",
       "      <td>17.203</td>\n",
       "      <td>2.189</td>\n",
       "      <td>0.058</td>\n",
       "      <td>0.047</td>\n",
       "      <td>39.232</td>\n",
       "      <td>1.521</td>\n",
       "      <td>0.441</td>\n",
       "    </tr>\n",
       "    <tr>\n",
       "      <th>2</th>\n",
       "      <td>12.337</td>\n",
       "      <td>1.993</td>\n",
       "      <td>0.0268</td>\n",
       "      <td>13.062</td>\n",
       "      <td>12.474</td>\n",
       "      <td>0.911</td>\n",
       "      <td>9.209</td>\n",
       "      <td>2.248</td>\n",
       "      <td>9.135</td>\n",
       "      <td>1.076</td>\n",
       "      <td>0.086</td>\n",
       "      <td>0.038</td>\n",
       "      <td>13.062</td>\n",
       "      <td>0.380</td>\n",
       "      <td>1.000</td>\n",
       "    </tr>\n",
       "  </tbody>\n",
       "</table>\n",
       "</div>"
      ],
      "text/plain": [
       "    CAPEI    pcf  divyield  pe_inc     evm     bm  pe_op_dil  PEG_ltgforward  \\\n",
       "0  20.773  9.957    0.0354  18.484  10.644  0.547     15.633           5.963   \n",
       "1  25.089  8.509    0.0398  39.232   9.246  0.461     17.296           5.702   \n",
       "2  12.337  1.993    0.0268  13.062  12.474  0.911      9.209           2.248   \n",
       "\n",
       "   pe_op_basic    ptb  aftret_equity  accrual  pe_exi  PEG_1yrforward  fcf_ocf  \n",
       "0       15.468  1.811          0.134    0.048  18.484          13.678    0.932  \n",
       "1       17.203  2.189          0.058    0.047  39.232           1.521    0.441  \n",
       "2        9.135  1.076          0.086    0.038  13.062           0.380    1.000  "
      ]
     },
     "metadata": {},
     "output_type": "display_data"
    },
    {
     "name": "stdout",
     "output_type": "stream",
     "text": [
      "\n",
      "Response Vector y (Train) after Feature Selection, Case 1\n"
     ]
    },
    {
     "data": {
      "text/html": [
       "<div>\n",
       "<style scoped>\n",
       "    .dataframe tbody tr th:only-of-type {\n",
       "        vertical-align: middle;\n",
       "    }\n",
       "\n",
       "    .dataframe tbody tr th {\n",
       "        vertical-align: top;\n",
       "    }\n",
       "\n",
       "    .dataframe thead th {\n",
       "        text-align: right;\n",
       "    }\n",
       "</style>\n",
       "<table border=\"1\" class=\"dataframe\">\n",
       "  <thead>\n",
       "    <tr style=\"text-align: right;\">\n",
       "      <th></th>\n",
       "      <th>0</th>\n",
       "    </tr>\n",
       "  </thead>\n",
       "  <tbody>\n",
       "    <tr>\n",
       "      <th>0</th>\n",
       "      <td>1</td>\n",
       "    </tr>\n",
       "    <tr>\n",
       "      <th>1</th>\n",
       "      <td>0</td>\n",
       "    </tr>\n",
       "    <tr>\n",
       "      <th>2</th>\n",
       "      <td>1</td>\n",
       "    </tr>\n",
       "  </tbody>\n",
       "</table>\n",
       "</div>"
      ],
      "text/plain": [
       "   0\n",
       "0  1\n",
       "1  0\n",
       "2  1"
      ]
     },
     "metadata": {},
     "output_type": "display_data"
    },
    {
     "name": "stdout",
     "output_type": "stream",
     "text": [
      "\n"
     ]
    }
   ],
   "source": [
    "print(\"\")\n",
    "print('Shape (rows, columns) of Feature Matrix X (Train), Case ' + str(_CASE_), ' = ' + str(X_train_s.shape))\n",
    "print(\"\")\n",
    "print(\"\")\n",
    "print('Feature Matrix X (Train) with selected Features, Case ' + str(_CASE_))\n",
    "display(X_train_s.head(3))\n",
    "print(\"\")\n",
    "print('Response Vector y (Train) after Feature Selection, Case ' + str(_CASE_))\n",
    "display(y_train_s.head(3))\n",
    "print(\"\")"
   ]
  },
  {
   "cell_type": "markdown",
   "metadata": {},
   "source": [
    "### Test Set"
   ]
  },
  {
   "cell_type": "code",
   "execution_count": 5,
   "metadata": {},
   "outputs": [
    {
     "name": "stdout",
     "output_type": "stream",
     "text": [
      "\n",
      "Shape (rows, columns) of Feature Matrix X (Test), Case 1  = (710, 15)\n",
      "\n",
      "Feature Matrix X (Test) with selected Features, Case 1\n"
     ]
    },
    {
     "data": {
      "text/html": [
       "<div>\n",
       "<style scoped>\n",
       "    .dataframe tbody tr th:only-of-type {\n",
       "        vertical-align: middle;\n",
       "    }\n",
       "\n",
       "    .dataframe tbody tr th {\n",
       "        vertical-align: top;\n",
       "    }\n",
       "\n",
       "    .dataframe thead th {\n",
       "        text-align: right;\n",
       "    }\n",
       "</style>\n",
       "<table border=\"1\" class=\"dataframe\">\n",
       "  <thead>\n",
       "    <tr style=\"text-align: right;\">\n",
       "      <th></th>\n",
       "      <th>CAPEI</th>\n",
       "      <th>pcf</th>\n",
       "      <th>divyield</th>\n",
       "      <th>pe_inc</th>\n",
       "      <th>evm</th>\n",
       "      <th>bm</th>\n",
       "      <th>pe_op_dil</th>\n",
       "      <th>PEG_ltgforward</th>\n",
       "      <th>pe_op_basic</th>\n",
       "      <th>ptb</th>\n",
       "      <th>aftret_equity</th>\n",
       "      <th>accrual</th>\n",
       "      <th>pe_exi</th>\n",
       "      <th>PEG_1yrforward</th>\n",
       "      <th>fcf_ocf</th>\n",
       "    </tr>\n",
       "  </thead>\n",
       "  <tbody>\n",
       "    <tr>\n",
       "      <th>0</th>\n",
       "      <td>20.983</td>\n",
       "      <td>10.484</td>\n",
       "      <td>0.0187</td>\n",
       "      <td>16.224</td>\n",
       "      <td>8.585</td>\n",
       "      <td>0.254</td>\n",
       "      <td>16.224</td>\n",
       "      <td>1.330</td>\n",
       "      <td>16.127</td>\n",
       "      <td>4.189</td>\n",
       "      <td>0.310</td>\n",
       "      <td>0.084</td>\n",
       "      <td>16.224</td>\n",
       "      <td>1.414</td>\n",
       "      <td>0.863</td>\n",
       "    </tr>\n",
       "    <tr>\n",
       "      <th>1</th>\n",
       "      <td>21.663</td>\n",
       "      <td>7.709</td>\n",
       "      <td>0.0122</td>\n",
       "      <td>18.555</td>\n",
       "      <td>13.619</td>\n",
       "      <td>0.235</td>\n",
       "      <td>16.489</td>\n",
       "      <td>1.572</td>\n",
       "      <td>16.311</td>\n",
       "      <td>4.281</td>\n",
       "      <td>0.238</td>\n",
       "      <td>0.039</td>\n",
       "      <td>18.555</td>\n",
       "      <td>1.737</td>\n",
       "      <td>0.902</td>\n",
       "    </tr>\n",
       "    <tr>\n",
       "      <th>2</th>\n",
       "      <td>16.327</td>\n",
       "      <td>8.490</td>\n",
       "      <td>0.0343</td>\n",
       "      <td>15.550</td>\n",
       "      <td>6.716</td>\n",
       "      <td>0.513</td>\n",
       "      <td>9.520</td>\n",
       "      <td>6.149</td>\n",
       "      <td>9.520</td>\n",
       "      <td>2.198</td>\n",
       "      <td>0.130</td>\n",
       "      <td>0.077</td>\n",
       "      <td>15.681</td>\n",
       "      <td>-0.973</td>\n",
       "      <td>0.934</td>\n",
       "    </tr>\n",
       "  </tbody>\n",
       "</table>\n",
       "</div>"
      ],
      "text/plain": [
       "    CAPEI     pcf  divyield  pe_inc     evm     bm  pe_op_dil  PEG_ltgforward  \\\n",
       "0  20.983  10.484    0.0187  16.224   8.585  0.254     16.224           1.330   \n",
       "1  21.663   7.709    0.0122  18.555  13.619  0.235     16.489           1.572   \n",
       "2  16.327   8.490    0.0343  15.550   6.716  0.513      9.520           6.149   \n",
       "\n",
       "   pe_op_basic    ptb  aftret_equity  accrual  pe_exi  PEG_1yrforward  fcf_ocf  \n",
       "0       16.127  4.189          0.310    0.084  16.224           1.414    0.863  \n",
       "1       16.311  4.281          0.238    0.039  18.555           1.737    0.902  \n",
       "2        9.520  2.198          0.130    0.077  15.681          -0.973    0.934  "
      ]
     },
     "metadata": {},
     "output_type": "display_data"
    },
    {
     "name": "stdout",
     "output_type": "stream",
     "text": [
      "\n",
      "Response Vector y (Test) after Feature Selection, Case 1\n"
     ]
    },
    {
     "data": {
      "text/html": [
       "<div>\n",
       "<style scoped>\n",
       "    .dataframe tbody tr th:only-of-type {\n",
       "        vertical-align: middle;\n",
       "    }\n",
       "\n",
       "    .dataframe tbody tr th {\n",
       "        vertical-align: top;\n",
       "    }\n",
       "\n",
       "    .dataframe thead th {\n",
       "        text-align: right;\n",
       "    }\n",
       "</style>\n",
       "<table border=\"1\" class=\"dataframe\">\n",
       "  <thead>\n",
       "    <tr style=\"text-align: right;\">\n",
       "      <th></th>\n",
       "      <th>0</th>\n",
       "    </tr>\n",
       "  </thead>\n",
       "  <tbody>\n",
       "    <tr>\n",
       "      <th>0</th>\n",
       "      <td>0</td>\n",
       "    </tr>\n",
       "    <tr>\n",
       "      <th>1</th>\n",
       "      <td>1</td>\n",
       "    </tr>\n",
       "    <tr>\n",
       "      <th>2</th>\n",
       "      <td>1</td>\n",
       "    </tr>\n",
       "  </tbody>\n",
       "</table>\n",
       "</div>"
      ],
      "text/plain": [
       "   0\n",
       "0  0\n",
       "1  1\n",
       "2  1"
      ]
     },
     "metadata": {},
     "output_type": "display_data"
    }
   ],
   "source": [
    "print(\"\")\n",
    "print('Shape (rows, columns) of Feature Matrix X (Test), Case ' + str(_CASE_), ' = ' + str(X_test_s.shape))\n",
    "print(\"\")\n",
    "print('Feature Matrix X (Test) with selected Features, Case ' + str(_CASE_))\n",
    "display(X_test_s.head(3))\n",
    "print(\"\")\n",
    "print('Response Vector y (Test) after Feature Selection, Case ' + str(_CASE_))\n",
    "display(y_test_s.head(3))"
   ]
  },
  {
   "cell_type": "markdown",
   "metadata": {},
   "source": [
    "## 3.2. Simple Logistic Regression (statsmodels) (SLM)"
   ]
  },
  {
   "cell_type": "markdown",
   "metadata": {},
   "source": [
    "### 3.2.1. Preparation and fitting (on Training Set) (SLM)"
   ]
  },
  {
   "cell_type": "code",
   "execution_count": 54,
   "metadata": {},
   "outputs": [
    {
     "name": "stdout",
     "output_type": "stream",
     "text": [
      "Optimization terminated successfully.\n",
      "         Current function value: 0.685746\n",
      "         Iterations 5\n"
     ]
    }
   ],
   "source": [
    "## Logistic Regression (with the most important feature from feature selection)\n",
    "# Assign \"best_feature\" to matrix X and response to y\n",
    "if _CASE_ == 1:\n",
    "    best_feature = 'CAPEI'\n",
    "elif _CASE_ == 2:\n",
    "    best_feature = 'RET'\n",
    "else: raise ValueError('_CASE_ value must be either 1 or 2')\n",
    "\n",
    "logReg = sm.Logit(endog = y_train_s, exog= sm.add_constant(X_train_s[[best_feature]])).fit()"
   ]
  },
  {
   "cell_type": "code",
   "execution_count": 7,
   "metadata": {},
   "outputs": [],
   "source": [
    "# Workaround solution for error (\"AttributeError: module 'scipy.stats' has no attribute 'chisqprob'\")\n",
    "from scipy import stats\n",
    "stats.chisqprob = lambda chisq, df: stats.chi2.sf(chisq, df)"
   ]
  },
  {
   "cell_type": "markdown",
   "metadata": {},
   "source": [
    "### 3.2.2. Summary (SLM)"
   ]
  },
  {
   "cell_type": "code",
   "execution_count": 8,
   "metadata": {},
   "outputs": [
    {
     "name": "stdout",
     "output_type": "stream",
     "text": [
      "                           Logit Regression Results                           \n",
      "==============================================================================\n",
      "Dep. Variable:                      0   No. Observations:                 2836\n",
      "Model:                          Logit   Df Residuals:                     2834\n",
      "Method:                           MLE   Df Model:                            1\n",
      "Date:                Mon, 09 Apr 2018   Pseudo R-squ.:               0.0005333\n",
      "Time:                        16:26:53   Log-Likelihood:                -1944.8\n",
      "converged:                       True   LL-Null:                       -1945.8\n",
      "                                        LLR p-value:                    0.1497\n",
      "==============================================================================\n",
      "                 coef    std err          z      P>|z|      [0.025      0.975]\n",
      "------------------------------------------------------------------------------\n",
      "const          0.1839      0.055      3.349      0.001       0.076       0.291\n",
      "CAPEI          0.0027      0.002      1.363      0.173      -0.001       0.007\n",
      "==============================================================================\n",
      "\n",
      "logReg pvalues: \n",
      "\n",
      "const    0.000812\n",
      "CAPEI    0.172888\n",
      "dtype: float64\n"
     ]
    }
   ],
   "source": [
    "# LogReg with only one feature as exogen variable\n",
    "print(logReg.summary())\n",
    "print(\"\")\n",
    "print('logReg pvalues: ')\n",
    "print(\"\")\n",
    "print(logReg.pvalues)"
   ]
  },
  {
   "cell_type": "markdown",
   "metadata": {},
   "source": [
    "### 3.2.3. Assessing Output (SLM)\n",
    "\n",
    "### Hypothesis testing / Confidence Interval"
   ]
  },
  {
   "cell_type": "code",
   "execution_count": 55,
   "metadata": {},
   "outputs": [
    {
     "name": "stdout",
     "output_type": "stream",
     "text": [
      "\n",
      "99% Confidence Interval (Significance Level 1%)\n"
     ]
    },
    {
     "data": {
      "text/html": [
       "<div>\n",
       "<style scoped>\n",
       "    .dataframe tbody tr th:only-of-type {\n",
       "        vertical-align: middle;\n",
       "    }\n",
       "\n",
       "    .dataframe tbody tr th {\n",
       "        vertical-align: top;\n",
       "    }\n",
       "\n",
       "    .dataframe thead th {\n",
       "        text-align: right;\n",
       "    }\n",
       "</style>\n",
       "<table border=\"1\" class=\"dataframe\">\n",
       "  <thead>\n",
       "    <tr style=\"text-align: right;\">\n",
       "      <th></th>\n",
       "      <th>0</th>\n",
       "      <th>1</th>\n",
       "    </tr>\n",
       "  </thead>\n",
       "  <tbody>\n",
       "    <tr>\n",
       "      <th>const</th>\n",
       "      <td>0.042441</td>\n",
       "      <td>0.325312</td>\n",
       "    </tr>\n",
       "    <tr>\n",
       "      <th>CAPEI</th>\n",
       "      <td>-0.002391</td>\n",
       "      <td>0.007766</td>\n",
       "    </tr>\n",
       "  </tbody>\n",
       "</table>\n",
       "</div>"
      ],
      "text/plain": [
       "              0         1\n",
       "const  0.042441  0.325312\n",
       "CAPEI -0.002391  0.007766"
      ]
     },
     "execution_count": 55,
     "metadata": {},
     "output_type": "execute_result"
    }
   ],
   "source": [
    "significance_level = 0.01\n",
    "\n",
    "print(\"\")\n",
    "print(str(int(100 - significance_level*100)) + '% Confidence Interval (Significance Level ' + str(int(significance_level*100)) + '%)')\n",
    "logReg.conf_int(alpha=significance_level)"
   ]
  },
  {
   "cell_type": "markdown",
   "metadata": {},
   "source": [
    "### Confusion Matrix"
   ]
  },
  {
   "cell_type": "code",
   "execution_count": 10,
   "metadata": {},
   "outputs": [
    {
     "data": {
      "text/plain": [
       "array([[   0., 1250.],\n",
       "       [   2., 1584.]])"
      ]
     },
     "execution_count": 10,
     "metadata": {},
     "output_type": "execute_result"
    }
   ],
   "source": [
    "logReg.pred_table(threshold=0.5)"
   ]
  },
  {
   "cell_type": "markdown",
   "metadata": {},
   "source": [
    "### 3.2.2. Prediction (SML)\n",
    "\n",
    "### A: In-sample Prediction of probability for returns going UP in the next period (predict y_train)\n"
   ]
  },
  {
   "cell_type": "markdown",
   "metadata": {},
   "source": [
    "#### For whole Training Set"
   ]
  },
  {
   "cell_type": "code",
   "execution_count": 21,
   "metadata": {},
   "outputs": [
    {
     "name": "stdout",
     "output_type": "stream",
     "text": [
      "Active: Case 1\n",
      "\n",
      "Predicted probability of price going UP for whole Feature Train Set is: \n"
     ]
    },
    {
     "data": {
      "text/plain": [
       "0    0.559639\n",
       "1    0.562496\n",
       "2    0.554045\n",
       "dtype: float64"
      ]
     },
     "metadata": {},
     "output_type": "display_data"
    },
    {
     "data": {
      "text/html": [
       "<div>\n",
       "<style scoped>\n",
       "    .dataframe tbody tr th:only-of-type {\n",
       "        vertical-align: middle;\n",
       "    }\n",
       "\n",
       "    .dataframe tbody tr th {\n",
       "        vertical-align: top;\n",
       "    }\n",
       "\n",
       "    .dataframe thead th {\n",
       "        text-align: right;\n",
       "    }\n",
       "</style>\n",
       "<table border=\"1\" class=\"dataframe\">\n",
       "  <thead>\n",
       "    <tr style=\"text-align: right;\">\n",
       "      <th></th>\n",
       "      <th>0</th>\n",
       "    </tr>\n",
       "  </thead>\n",
       "  <tbody>\n",
       "    <tr>\n",
       "      <th>0</th>\n",
       "      <td>1</td>\n",
       "    </tr>\n",
       "    <tr>\n",
       "      <th>1</th>\n",
       "      <td>0</td>\n",
       "    </tr>\n",
       "    <tr>\n",
       "      <th>2</th>\n",
       "      <td>1</td>\n",
       "    </tr>\n",
       "  </tbody>\n",
       "</table>\n",
       "</div>"
      ],
      "text/plain": [
       "   0\n",
       "0  1\n",
       "1  0\n",
       "2  1"
      ]
     },
     "metadata": {},
     "output_type": "display_data"
    }
   ],
   "source": [
    "if _CASE_ == 1:\n",
    "    print('Active: Case ' + str(_CASE_))\n",
    "elif _CASE_ == 2:\n",
    "    print('Active: Case ' + str(_CASE_))\n",
    "else: raise ValueError('_CASE_ value must be either 1 or 2')\n",
    "\n",
    "# X must include 1 in first column for intercept\n",
    "# we wish to get the probability of 'UP' (=1) for the whole test set\n",
    "print(\"\")\n",
    "print('Predicted probability of price going UP for whole Feature Train Set is: ')\n",
    "pred_train_all = logReg.predict(sm.add_constant(X_train_s[[best_feature]]))\n",
    "display(pred_train_all.head(3))\n",
    "display(y_train_s.head(3))"
   ]
  },
  {
   "cell_type": "markdown",
   "metadata": {},
   "source": [
    "### B: New-sample Prediction of probability for returns going UP in the next period (predict y_test)\n",
    "\n",
    "#### For chosen value of predictive variable\n"
   ]
  },
  {
   "cell_type": "code",
   "execution_count": 22,
   "metadata": {},
   "outputs": [
    {
     "name": "stdout",
     "output_type": "stream",
     "text": [
      "Active: Case 1\n",
      "Chosen best feature = CAPEI\n",
      "Chosen value of best feature = 15\n",
      "\n",
      "Predicted probability of price going UP with chosen CAPEI value is: 55.5813%\n",
      "Ratio of \"UP\" (Train)  =  55.9238%\n"
     ]
    }
   ],
   "source": [
    "if _CASE_ == 1:\n",
    "    print('Active: Case ' + str(_CASE_))\n",
    "    print('Chosen best feature = ' + str(best_feature))\n",
    "    best_feature_value = 15\n",
    "    print('Chosen value of best feature = ' + str(best_feature_value))\n",
    "elif _CASE_ == 2:\n",
    "    print('Active: Case ' + str(_CASE_))\n",
    "    print('Chosen best feature = ' + str(best_feature))\n",
    "    best_feature_value = 0.02\n",
    "    print('Chosen value of best feature = ' + str(best_feature_value))\n",
    "else: raise ValueError('_CASE_ value must be either 1 or 2')\n",
    "\n",
    "# X must include 1 in first column for intercept\n",
    "# we wish to get the probability of 'UP' (=1) for a best_feature_value of USD 15\n",
    "pred_test_one = logReg.predict([1, best_feature_value])\n",
    "ratio_response_train = y_train_s.sum() / y_train_s.size\n",
    "\n",
    "print(\"\")\n",
    "print('Predicted probability of price going UP with chosen ' + str(best_feature) + ' value is: ' \n",
    "      + str(\"%.4f\" % round(float(pred_test_one*100),4)) + '%')\n",
    "print('Ratio of \"UP\" (Train)  =  ' + str(\"%.4f\" % round(float(ratio_response_train*100),4)) + '%')"
   ]
  },
  {
   "cell_type": "markdown",
   "metadata": {},
   "source": [
    "#### For whole Test Set"
   ]
  },
  {
   "cell_type": "code",
   "execution_count": 23,
   "metadata": {},
   "outputs": [
    {
     "name": "stdout",
     "output_type": "stream",
     "text": [
      "Active: Case 1\n",
      "\n",
      "Predicted probability of price going UP for whole Feature Test Set is: \n"
     ]
    },
    {
     "data": {
      "text/plain": [
       "0    0.559778\n",
       "1    0.560229\n",
       "2    0.556693\n",
       "dtype: float64"
      ]
     },
     "metadata": {},
     "output_type": "display_data"
    },
    {
     "data": {
      "text/html": [
       "<div>\n",
       "<style scoped>\n",
       "    .dataframe tbody tr th:only-of-type {\n",
       "        vertical-align: middle;\n",
       "    }\n",
       "\n",
       "    .dataframe tbody tr th {\n",
       "        vertical-align: top;\n",
       "    }\n",
       "\n",
       "    .dataframe thead th {\n",
       "        text-align: right;\n",
       "    }\n",
       "</style>\n",
       "<table border=\"1\" class=\"dataframe\">\n",
       "  <thead>\n",
       "    <tr style=\"text-align: right;\">\n",
       "      <th></th>\n",
       "      <th>0</th>\n",
       "    </tr>\n",
       "  </thead>\n",
       "  <tbody>\n",
       "    <tr>\n",
       "      <th>0</th>\n",
       "      <td>0</td>\n",
       "    </tr>\n",
       "    <tr>\n",
       "      <th>1</th>\n",
       "      <td>1</td>\n",
       "    </tr>\n",
       "    <tr>\n",
       "      <th>2</th>\n",
       "      <td>1</td>\n",
       "    </tr>\n",
       "  </tbody>\n",
       "</table>\n",
       "</div>"
      ],
      "text/plain": [
       "   0\n",
       "0  0\n",
       "1  1\n",
       "2  1"
      ]
     },
     "metadata": {},
     "output_type": "display_data"
    }
   ],
   "source": [
    "if _CASE_ == 1:\n",
    "    print('Active: Case ' + str(_CASE_))\n",
    "elif _CASE_ == 2:\n",
    "    print('Active: Case ' + str(_CASE_))\n",
    "else: raise ValueError('_CASE_ value must be either 1 or 2')\n",
    "\n",
    "# we wish to get the probability of 'UP' (=1) for the whole test set\n",
    "pred_test_all = logReg.predict(sm.add_constant(X_test_s[[best_feature]]))\n",
    "\n",
    "print(\"\")\n",
    "print('Predicted probability of price going UP for whole Feature Test Set is: ')\n",
    "display(pred_test_all.head(3))\n",
    "display(y_test_s.head(3))"
   ]
  },
  {
   "cell_type": "markdown",
   "metadata": {},
   "source": [
    "### 3.2.3. Plot Results (SLM)"
   ]
  },
  {
   "cell_type": "code",
   "execution_count": 24,
   "metadata": {},
   "outputs": [
    {
     "name": "stdout",
     "output_type": "stream",
     "text": [
      "Chosen best feature for CASE 1 is: CAPEI\n",
      "\n"
     ]
    },
    {
     "data": {
      "image/png": "[encoded data removed]",
      "text/plain": [
       "<matplotlib.figure.Figure at 0x7f83716b43c8>"
      ]
     },
     "metadata": {},
     "output_type": "display_data"
    }
   ],
   "source": [
    "print('Chosen best feature for CASE ' + str(_CASE_) + ' is: ' + str(best_feature))\n",
    "print(\"\")\n",
    "  \n",
    "# Transfer best_feature column an prediction for response vector in a newly made dataframe \"res\"\n",
    "res = pd.DataFrame()\n",
    "res['best_feature'] = X_train_s[best_feature]\n",
    "res['pred'] = logReg.predict()\n",
    "\n",
    "# Sort results by values of the best_feature column\n",
    "res = res.sort_values('best_feature')\n",
    "\n",
    "# Plot scatter and log.Reg\n",
    "plt.figure(figsize =(8,5))\n",
    "plt.scatter(X_train_s[best_feature], y_train_s, marker ='.')\n",
    "plt.plot(res.best_feature, res.pred, c = 'k')\n",
    "plt.axhline(y=0, color = \"gray\", linestyle = \"dashed\")\n",
    "plt.axhline(y=1, color = \"gray\", linestyle = \"dashed\")\n",
    "plt.ylabel(\"Probability of UP (=1)\", fontsize =12)\n",
    "plt.xlabel(str(best_feature), fontsize =12)\n",
    "plt.title(str(best_feature) + ' vs. probability of returns going UP in the next period');"
   ]
  },
  {
   "cell_type": "markdown",
   "metadata": {},
   "source": [
    "## 3.3. Multiple Logistic Regression with n pre-selected features (MLR1)"
   ]
  },
  {
   "cell_type": "markdown",
   "metadata": {},
   "source": [
    "### 3.3.1. Preparation and fitting (on Training Set) (MLR1)"
   ]
  },
  {
   "cell_type": "code",
   "execution_count": 25,
   "metadata": {},
   "outputs": [
    {
     "name": "stdout",
     "output_type": "stream",
     "text": [
      "Optimization terminated successfully.\n",
      "         Current function value: 0.669582\n",
      "         Iterations 6\n"
     ]
    }
   ],
   "source": [
    "## Multiple Log. Regression (with all n best features chosen in Chapter 2 in the feature selection process)\n",
    "logReg_m = sm.Logit(endog = y_train_s, exog=sm.add_constant(X_train_s)).fit()"
   ]
  },
  {
   "cell_type": "markdown",
   "metadata": {},
   "source": [
    "### 3.3.2. Summary (MLR1)"
   ]
  },
  {
   "cell_type": "code",
   "execution_count": 26,
   "metadata": {},
   "outputs": [
    {
     "name": "stdout",
     "output_type": "stream",
     "text": [
      "\n",
      "Multiple Logistic Regression with all selected features\n",
      "______________________________________________________________________________\n",
      "\n",
      "                           Logit Regression Results                           \n",
      "==============================================================================\n",
      "Dep. Variable:                      0   No. Observations:                 2836\n",
      "Model:                          Logit   Df Residuals:                     2820\n",
      "Method:                           MLE   Df Model:                           15\n",
      "Date:                Mon, 09 Apr 2018   Pseudo R-squ.:                 0.02409\n",
      "Time:                        16:31:44   Log-Likelihood:                -1898.9\n",
      "converged:                       True   LL-Null:                       -1945.8\n",
      "                                        LLR p-value:                 1.962e-13\n",
      "==============================================================================\n",
      "==================================================================================\n",
      "                     coef    std err          z      P>|z|      [0.025      0.975]\n",
      "----------------------------------------------------------------------------------\n",
      "const             -0.0675      0.262     -0.258      0.797      -0.581       0.446\n",
      "CAPEI              0.0017      0.002      0.878      0.380      -0.002       0.005\n",
      "pcf                0.0091      0.004      2.112      0.035       0.001       0.018\n",
      "divyield         -19.3490      3.643     -5.312      0.000     -26.488     -12.210\n",
      "pe_inc            -0.0040      0.003     -1.151      0.250      -0.011       0.003\n",
      "evm               -0.0366      0.009     -4.027      0.000      -0.054      -0.019\n",
      "bm                 1.1044      0.236      4.684      0.000       0.642       1.566\n",
      "pe_op_dil         -0.0429      0.015     -2.792      0.005      -0.073      -0.013\n",
      "PEG_ltgforward     0.0089      0.013      0.695      0.487      -0.016       0.034\n",
      "pe_op_basic        0.0648      0.021      3.143      0.002       0.024       0.105\n",
      "ptb                0.1113      0.029      3.853      0.000       0.055       0.168\n",
      "aftret_equity     -0.5339      0.259     -2.058      0.040      -1.042      -0.025\n",
      "accrual            1.0114      1.146      0.883      0.377      -1.234       3.257\n",
      "pe_exi             0.0030      0.004      0.790      0.430      -0.004       0.010\n",
      "PEG_1yrforward     0.0097      0.006      1.518      0.129      -0.003       0.022\n",
      "fcf_ocf            0.0073      0.192      0.038      0.970      -0.370       0.384\n",
      "==================================================================================\n"
     ]
    }
   ],
   "source": [
    "print(\"\")\n",
    "print(\"Multiple Logistic Regression with all selected features\")\n",
    "print(78*\"_\")  ##### <<== WAS?\n",
    "print(\"\")\n",
    "\n",
    "# Run Multiple Logistic Regression\n",
    "print(logReg_m.summary().tables[0])\n",
    "print(logReg_m.summary().tables[1])"
   ]
  },
  {
   "cell_type": "markdown",
   "metadata": {},
   "source": [
    "### 3.3.3. Assessing Output (MLR1)\n",
    "\n",
    "### Hypothesis testing / Confidence Interval"
   ]
  },
  {
   "cell_type": "code",
   "execution_count": 56,
   "metadata": {},
   "outputs": [
    {
     "name": "stdout",
     "output_type": "stream",
     "text": [
      "\n",
      "99% Confidence Interval (Significance Level 1%)\n"
     ]
    },
    {
     "data": {
      "text/html": [
       "<div>\n",
       "<style scoped>\n",
       "    .dataframe tbody tr th:only-of-type {\n",
       "        vertical-align: middle;\n",
       "    }\n",
       "\n",
       "    .dataframe tbody tr th {\n",
       "        vertical-align: top;\n",
       "    }\n",
       "\n",
       "    .dataframe thead th {\n",
       "        text-align: right;\n",
       "    }\n",
       "</style>\n",
       "<table border=\"1\" class=\"dataframe\">\n",
       "  <thead>\n",
       "    <tr style=\"text-align: right;\">\n",
       "      <th></th>\n",
       "      <th>0</th>\n",
       "      <th>1</th>\n",
       "    </tr>\n",
       "  </thead>\n",
       "  <tbody>\n",
       "    <tr>\n",
       "      <th>const</th>\n",
       "      <td>-0.742602</td>\n",
       "      <td>0.607602</td>\n",
       "    </tr>\n",
       "    <tr>\n",
       "      <th>CAPEI</th>\n",
       "      <td>-0.003235</td>\n",
       "      <td>0.006580</td>\n",
       "    </tr>\n",
       "    <tr>\n",
       "      <th>pcf</th>\n",
       "      <td>-0.002001</td>\n",
       "      <td>0.020226</td>\n",
       "    </tr>\n",
       "    <tr>\n",
       "      <th>divyield</th>\n",
       "      <td>-28.731549</td>\n",
       "      <td>-9.966473</td>\n",
       "    </tr>\n",
       "    <tr>\n",
       "      <th>pe_inc</th>\n",
       "      <td>-0.012895</td>\n",
       "      <td>0.004930</td>\n",
       "    </tr>\n",
       "    <tr>\n",
       "      <th>evm</th>\n",
       "      <td>-0.060085</td>\n",
       "      <td>-0.013209</td>\n",
       "    </tr>\n",
       "    <tr>\n",
       "      <th>bm</th>\n",
       "      <td>0.497128</td>\n",
       "      <td>1.711656</td>\n",
       "    </tr>\n",
       "    <tr>\n",
       "      <th>pe_op_dil</th>\n",
       "      <td>-0.082555</td>\n",
       "      <td>-0.003318</td>\n",
       "    </tr>\n",
       "    <tr>\n",
       "      <th>PEG_ltgforward</th>\n",
       "      <td>-0.024198</td>\n",
       "      <td>0.042092</td>\n",
       "    </tr>\n",
       "    <tr>\n",
       "      <th>pe_op_basic</th>\n",
       "      <td>0.011700</td>\n",
       "      <td>0.117929</td>\n",
       "    </tr>\n",
       "    <tr>\n",
       "      <th>ptb</th>\n",
       "      <td>0.036891</td>\n",
       "      <td>0.185663</td>\n",
       "    </tr>\n",
       "    <tr>\n",
       "      <th>aftret_equity</th>\n",
       "      <td>-1.201977</td>\n",
       "      <td>0.134272</td>\n",
       "    </tr>\n",
       "    <tr>\n",
       "      <th>accrual</th>\n",
       "      <td>-1.940024</td>\n",
       "      <td>3.962762</td>\n",
       "    </tr>\n",
       "    <tr>\n",
       "      <th>pe_exi</th>\n",
       "      <td>-0.006692</td>\n",
       "      <td>0.012609</td>\n",
       "    </tr>\n",
       "    <tr>\n",
       "      <th>PEG_1yrforward</th>\n",
       "      <td>-0.006787</td>\n",
       "      <td>0.026281</td>\n",
       "    </tr>\n",
       "    <tr>\n",
       "      <th>fcf_ocf</th>\n",
       "      <td>-0.488421</td>\n",
       "      <td>0.502946</td>\n",
       "    </tr>\n",
       "  </tbody>\n",
       "</table>\n",
       "</div>"
      ],
      "text/plain": [
       "                        0         1\n",
       "const           -0.742602  0.607602\n",
       "CAPEI           -0.003235  0.006580\n",
       "pcf             -0.002001  0.020226\n",
       "divyield       -28.731549 -9.966473\n",
       "pe_inc          -0.012895  0.004930\n",
       "evm             -0.060085 -0.013209\n",
       "bm               0.497128  1.711656\n",
       "pe_op_dil       -0.082555 -0.003318\n",
       "PEG_ltgforward  -0.024198  0.042092\n",
       "pe_op_basic      0.011700  0.117929\n",
       "ptb              0.036891  0.185663\n",
       "aftret_equity   -1.201977  0.134272\n",
       "accrual         -1.940024  3.962762\n",
       "pe_exi          -0.006692  0.012609\n",
       "PEG_1yrforward  -0.006787  0.026281\n",
       "fcf_ocf         -0.488421  0.502946"
      ]
     },
     "metadata": {},
     "output_type": "display_data"
    }
   ],
   "source": [
    "significance_level = 0.01\n",
    "\n",
    "print(\"\")\n",
    "print(str(int(100 - significance_level*100)) + '% Confidence Interval (Significance Level ' + str(int(significance_level*100)) + '%)')\n",
    "display(logReg_m.conf_int(alpha=significance_level))"
   ]
  },
  {
   "cell_type": "markdown",
   "metadata": {},
   "source": [
    "### Confusion Matrix"
   ]
  },
  {
   "cell_type": "code",
   "execution_count": 28,
   "metadata": {},
   "outputs": [
    {
     "data": {
      "text/plain": [
       "array([[ 349.,  901.],\n",
       "       [ 227., 1359.]])"
      ]
     },
     "execution_count": 28,
     "metadata": {},
     "output_type": "execute_result"
    }
   ],
   "source": [
    "logReg_m.pred_table(threshold=0.5)"
   ]
  },
  {
   "cell_type": "markdown",
   "metadata": {},
   "source": [
    "### 3.3.4. Prediction (MLR1)\n",
    "Multiple Logistic Regression 1 (pre-selected features with RandomForest in Chapter 2) \n",
    "\n",
    "### A: In-sample Prediction of probability for returns going UP in the next period (predict y_train)\n",
    "\n",
    "#### For whole Training Set\n"
   ]
  },
  {
   "cell_type": "code",
   "execution_count": 29,
   "metadata": {},
   "outputs": [
    {
     "name": "stdout",
     "output_type": "stream",
     "text": [
      "Active: Case 1\n",
      "\n",
      "Predicted probability of price going UP for whole Feature Train Set is: \n"
     ]
    },
    {
     "data": {
      "text/plain": [
       "0    0.567440\n",
       "1    0.528367\n",
       "2    0.581356\n",
       "3    0.631523\n",
       "4    0.600770\n",
       "5    0.491411\n",
       "6    0.561593\n",
       "7    0.653504\n",
       "8    0.243099\n",
       "9    0.530230\n",
       "dtype: float64"
      ]
     },
     "metadata": {},
     "output_type": "display_data"
    },
    {
     "data": {
      "text/html": [
       "<div>\n",
       "<style scoped>\n",
       "    .dataframe tbody tr th:only-of-type {\n",
       "        vertical-align: middle;\n",
       "    }\n",
       "\n",
       "    .dataframe tbody tr th {\n",
       "        vertical-align: top;\n",
       "    }\n",
       "\n",
       "    .dataframe thead th {\n",
       "        text-align: right;\n",
       "    }\n",
       "</style>\n",
       "<table border=\"1\" class=\"dataframe\">\n",
       "  <thead>\n",
       "    <tr style=\"text-align: right;\">\n",
       "      <th></th>\n",
       "      <th>0</th>\n",
       "    </tr>\n",
       "  </thead>\n",
       "  <tbody>\n",
       "    <tr>\n",
       "      <th>0</th>\n",
       "      <td>1</td>\n",
       "    </tr>\n",
       "    <tr>\n",
       "      <th>1</th>\n",
       "      <td>0</td>\n",
       "    </tr>\n",
       "    <tr>\n",
       "      <th>2</th>\n",
       "      <td>1</td>\n",
       "    </tr>\n",
       "    <tr>\n",
       "      <th>3</th>\n",
       "      <td>1</td>\n",
       "    </tr>\n",
       "    <tr>\n",
       "      <th>4</th>\n",
       "      <td>1</td>\n",
       "    </tr>\n",
       "    <tr>\n",
       "      <th>5</th>\n",
       "      <td>0</td>\n",
       "    </tr>\n",
       "    <tr>\n",
       "      <th>6</th>\n",
       "      <td>0</td>\n",
       "    </tr>\n",
       "    <tr>\n",
       "      <th>7</th>\n",
       "      <td>1</td>\n",
       "    </tr>\n",
       "    <tr>\n",
       "      <th>8</th>\n",
       "      <td>0</td>\n",
       "    </tr>\n",
       "    <tr>\n",
       "      <th>9</th>\n",
       "      <td>0</td>\n",
       "    </tr>\n",
       "  </tbody>\n",
       "</table>\n",
       "</div>"
      ],
      "text/plain": [
       "   0\n",
       "0  1\n",
       "1  0\n",
       "2  1\n",
       "3  1\n",
       "4  1\n",
       "5  0\n",
       "6  0\n",
       "7  1\n",
       "8  0\n",
       "9  0"
      ]
     },
     "metadata": {},
     "output_type": "display_data"
    }
   ],
   "source": [
    "if _CASE_ == 1:\n",
    "    print('Active: Case ' + str(_CASE_))\n",
    "elif _CASE_ == 2:\n",
    "    print('Active: Case ' + str(_CASE_))\n",
    "else: raise ValueError('_CASE_ value must be either 1 or 2')\n",
    "\n",
    "# we wish to get the probability of 'UP' (=1) for the whole training set\n",
    "pred_train_all = logReg_m.predict(sm.add_constant(X_train_s))\n",
    "\n",
    "print(\"\")\n",
    "print('Predicted probability of price going UP for whole Feature Train Set is: ')\n",
    "display(pred_train_all.head(10))\n",
    "display(y_train_s.head(10))"
   ]
  },
  {
   "cell_type": "markdown",
   "metadata": {},
   "source": [
    "### B: New-sample Prediction of probability for returns going UP in the next period (predict y_test)\n",
    "\n",
    "#### For whole Test Set\n"
   ]
  },
  {
   "cell_type": "code",
   "execution_count": 32,
   "metadata": {},
   "outputs": [
    {
     "name": "stdout",
     "output_type": "stream",
     "text": [
      "Active: Case 1\n",
      "\n",
      "Predicted probability of price going UP for whole Feature Test Set is: \n"
     ]
    },
    {
     "data": {
      "text/plain": [
       "0    0.602718\n",
       "1    0.579294\n",
       "2    0.547866\n",
       "dtype: float64"
      ]
     },
     "metadata": {},
     "output_type": "display_data"
    },
    {
     "data": {
      "text/html": [
       "<div>\n",
       "<style scoped>\n",
       "    .dataframe tbody tr th:only-of-type {\n",
       "        vertical-align: middle;\n",
       "    }\n",
       "\n",
       "    .dataframe tbody tr th {\n",
       "        vertical-align: top;\n",
       "    }\n",
       "\n",
       "    .dataframe thead th {\n",
       "        text-align: right;\n",
       "    }\n",
       "</style>\n",
       "<table border=\"1\" class=\"dataframe\">\n",
       "  <thead>\n",
       "    <tr style=\"text-align: right;\">\n",
       "      <th></th>\n",
       "      <th>0</th>\n",
       "    </tr>\n",
       "  </thead>\n",
       "  <tbody>\n",
       "    <tr>\n",
       "      <th>0</th>\n",
       "      <td>0</td>\n",
       "    </tr>\n",
       "    <tr>\n",
       "      <th>1</th>\n",
       "      <td>1</td>\n",
       "    </tr>\n",
       "    <tr>\n",
       "      <th>2</th>\n",
       "      <td>1</td>\n",
       "    </tr>\n",
       "  </tbody>\n",
       "</table>\n",
       "</div>"
      ],
      "text/plain": [
       "   0\n",
       "0  0\n",
       "1  1\n",
       "2  1"
      ]
     },
     "metadata": {},
     "output_type": "display_data"
    }
   ],
   "source": [
    "if _CASE_ == 1:\n",
    "    print('Active: Case ' + str(_CASE_))\n",
    "elif _CASE_ == 2:\n",
    "    print('Active: Case ' + str(_CASE_))\n",
    "else: raise ValueError('_CASE_ value must be either 1 or 2')\n",
    "\n",
    "# we wish to get the probability of 'UP' (=1) for the whole test set\n",
    "pred_test_all = logReg_m.predict(sm.add_constant(X_test_s))\n",
    "\n",
    "print(\"\")\n",
    "print('Predicted probability of price going UP for whole Feature Test Set is: ')\n",
    "display(pred_test_all.head(3))\n",
    "display(y_test_s.head(3))"
   ]
  },
  {
   "cell_type": "code",
   "execution_count": 33,
   "metadata": {},
   "outputs": [],
   "source": [
    "# compare LogReg with only one feature as exogen variable & LogReg 1 \n",
    "# (explicitly Log-Likelihood values-> is there an improvement? (smaller values are prefered!))"
   ]
  },
  {
   "cell_type": "code",
   "execution_count": 34,
   "metadata": {},
   "outputs": [],
   "source": [
    "# Check for non significant values (p-value > 0.05) and the Log-Likelihood value"
   ]
  },
  {
   "cell_type": "markdown",
   "metadata": {},
   "source": [
    "## 3.4. Multiple Logistic Regression with only significant features (MLR2)\n",
    "\n",
    "Apply an other multiple logistic regression on a transformed dataset with only all significant values from LogReg_m (above)"
   ]
  },
  {
   "cell_type": "markdown",
   "metadata": {},
   "source": [
    "### 3.4.1. Extract significant features (MLR2)"
   ]
  },
  {
   "cell_type": "code",
   "execution_count": 45,
   "metadata": {},
   "outputs": [
    {
     "name": "stdout",
     "output_type": "stream",
     "text": [
      "\n",
      "Features that were significant in the previous MLR in chapter 3.3.:\n",
      "\n",
      "['divyield', 'pe_inc', 'bm', 'pe_op_dil', 'PEG_ltgforward', 'ptb', 'aftret_equity', 'accrual']\n"
     ]
    }
   ],
   "source": [
    "# extracting significant features with an alpha-boundery of 0.05\n",
    "sign_features = (X_train_s.columns.values[np.where(logReg_m.pvalues < 0.05)])\n",
    "\n",
    "print(\"\")\n",
    "print('Features that were significant in the previous MLR in chapter 3.3.:')\n",
    "print(\"\")\n",
    "print(list(sign_features))"
   ]
  },
  {
   "cell_type": "markdown",
   "metadata": {},
   "source": [
    "### 3.4.2. Preparation and fitting (on Training Set) (MLR2)"
   ]
  },
  {
   "cell_type": "code",
   "execution_count": 57,
   "metadata": {},
   "outputs": [
    {
     "name": "stdout",
     "output_type": "stream",
     "text": [
      "Optimization terminated successfully.\n",
      "         Current function value: 0.675177\n",
      "         Iterations 6\n"
     ]
    }
   ],
   "source": [
    "## Multiple Log. Regression (with significant features from logreg above)\n",
    "# Assign features to X and response vector y\n",
    "logReg_mm = sm.Logit(endog = y_train_s, exog=sm.add_constant(X_train_s[sign_features])).fit()\n"
   ]
  },
  {
   "cell_type": "markdown",
   "metadata": {},
   "source": [
    "### 3.4.3. Summary (MLR2)"
   ]
  },
  {
   "cell_type": "code",
   "execution_count": 60,
   "metadata": {},
   "outputs": [
    {
     "name": "stdout",
     "output_type": "stream",
     "text": [
      "\n",
      "Multiple Logistic Regression with selected significant features\n",
      "\n",
      "                           Logit Regression Results                           \n",
      "==============================================================================\n",
      "Dep. Variable:                      0   No. Observations:                 2836\n",
      "Model:                          Logit   Df Residuals:                     2827\n",
      "Method:                           MLE   Df Model:                            8\n",
      "Date:                Mon, 09 Apr 2018   Pseudo R-squ.:                 0.01594\n",
      "Time:                        16:58:47   Log-Likelihood:                -1914.8\n",
      "converged:                       True   LL-Null:                       -1945.8\n",
      "                                        LLR p-value:                 1.865e-10\n",
      "==============================================================================\n",
      "==================================================================================\n",
      "                     coef    std err          z      P>|z|      [0.025      0.975]\n",
      "----------------------------------------------------------------------------------\n",
      "const             -0.0934      0.194     -0.481      0.631      -0.474       0.287\n",
      "divyield         -17.5726      3.449     -5.095      0.000     -24.333     -10.812\n",
      "pe_inc          2.847e-05      0.002      0.016      0.987      -0.003       0.004\n",
      "bm                 0.8337      0.226      3.683      0.000       0.390       1.277\n",
      "pe_op_dil          0.0082      0.005      1.761      0.078      -0.001       0.017\n",
      "PEG_ltgforward     0.0090      0.012      0.768      0.442      -0.014       0.032\n",
      "ptb                0.1039      0.028      3.735      0.000       0.049       0.158\n",
      "aftret_equity     -0.5273      0.254     -2.075      0.038      -1.025      -0.029\n",
      "accrual            1.7552      1.076      1.632      0.103      -0.353       3.863\n",
      "==================================================================================\n"
     ]
    }
   ],
   "source": [
    "print(\"\")\n",
    "print(\"Multiple Logistic Regression with selected significant features\")\n",
    "print(\"\")\n",
    "print(logReg_mm.summary().tables[0])\n",
    "print(logReg_mm.summary().tables[1])"
   ]
  },
  {
   "cell_type": "code",
   "execution_count": null,
   "metadata": {},
   "outputs": [],
   "source": [
    "# compare LogReg 1 & 2 (explicitly Log-Likelihood values-> is there an improvement? (smaller values are prefered!))"
   ]
  },
  {
   "cell_type": "code",
   "execution_count": null,
   "metadata": {},
   "outputs": [],
   "source": [
    "# Does the logistic regression support our choice in feature selection (with random forest)?"
   ]
  },
  {
   "cell_type": "markdown",
   "metadata": {},
   "source": [
    "# CODE DIRECTLY COPIED FROM STEFANIE FILE"
   ]
  },
  {
   "cell_type": "markdown",
   "metadata": {},
   "source": [
    "### 2.2.2 Multiple Logistic Regression with all selected features (for dataset number 2, because error message)"
   ]
  },
  {
   "cell_type": "code",
   "execution_count": null,
   "metadata": {},
   "outputs": [],
   "source": [
    "## Multiple Log. Regression (tried with all 15 features from feature selection, but it gives an error because it seems that\n",
    "# there are dependent columns)\n",
    "# Assign features to X and response vector y\n",
    "#X = sm.add_constant(X2_train_s)\n",
    "#y = y2_train\n",
    "\n",
    "# check for all independent columns\n",
    "import sympy \n",
    "reduced_form, inds = sympy.Matrix(X2_train_s.values).rref()\n",
    "reduced_form\n",
    "\n",
    "# independent columns\n",
    "inds\n",
    "\n",
    "# Assign features to X and response vector y-> because of inds only until column 14\n",
    "X = sm.add_constant(X2_train_s.iloc[:, 0:14])\n",
    "y = y2_train"
   ]
  },
  {
   "cell_type": "code",
   "execution_count": null,
   "metadata": {},
   "outputs": [],
   "source": [
    "# LogReg A\n",
    "print(\"Multiple Logistic Regression with all selected features\")\n",
    "print(78*\"_\")\n",
    "print(\"\")\n",
    "# Run Log.Reg\n",
    "logRegA = sm.Logit(endog = y, exog= X).fit()\n",
    "print(logRegA.summary().tables[0])\n",
    "print(logRegA.summary().tables[1])"
   ]
  },
  {
   "cell_type": "code",
   "execution_count": null,
   "metadata": {},
   "outputs": [],
   "source": [
    "# compare LogReg with only one feature as exogen variable & LogReg A \n",
    "# (explicitly Log-Likelihood values-> is there an improvement? (smaller values are prefered!))\n",
    "\n",
    "# Check for non significant values (p-value > 0.05) and the Log-Likelihood value"
   ]
  },
  {
   "cell_type": "markdown",
   "metadata": {},
   "source": [
    "### 2.2.3 Multiple Logistic Regression with only significant features (for dataset number 2, because error message)"
   ]
  },
  {
   "cell_type": "code",
   "execution_count": null,
   "metadata": {},
   "outputs": [],
   "source": [
    "# extracting significant features with an alpha-boundery of 0.05\n",
    "sign_features = (colNms_X2_train[np.where(logReg.pvalues < 0.05)])\n",
    "print(sign_features)"
   ]
  },
  {
   "cell_type": "markdown",
   "metadata": {},
   "source": [
    "### 2.2.3. Summary"
   ]
  },
  {
   "cell_type": "code",
   "execution_count": null,
   "metadata": {},
   "outputs": [],
   "source": [
    "## Multiple Log. Regression (with significant features from logreg above)\n",
    "# Assign features to X and response vector y\n",
    "X = sm.add_constant(X2_train_s[sign_features])\n",
    "y = y2_train\n",
    "logReg = sm.Logit(endog = y, exog=X).fit()\n",
    "\n",
    "# LogReg B\n",
    "print(\"Multiple Logistic Regression with selected significant features\")\n",
    "print(78*\"_\")\n",
    "print(\"\")\n",
    "print(logReg.summary().tables[0])\n",
    "print(logReg.summary().tables[1])"
   ]
  },
  {
   "cell_type": "code",
   "execution_count": null,
   "metadata": {},
   "outputs": [],
   "source": [
    "# compare LogReg A & B (explicitly Log-Likelihood values-> is there an improvement? (smaller values are prefered!))\n",
    "# Does the logistic regression support our choice in feature selection (with random forest)?"
   ]
  },
  {
   "cell_type": "markdown",
   "metadata": {},
   "source": [
    "## 3. Prediction"
   ]
  },
  {
   "cell_type": "markdown",
   "metadata": {},
   "source": [
    "### 3.1 Version 1 with best LogReg Model"
   ]
  },
  {
   "cell_type": "code",
   "execution_count": null,
   "metadata": {},
   "outputs": [],
   "source": [
    "modelA = LogisticRegression()\n",
    "modelA.fit(X1_train_s, y1_train)\n",
    "\n",
    "expected = y1_test\n",
    "predicted = modelA.predict(X1_test_s)"
   ]
  },
  {
   "cell_type": "code",
   "execution_count": null,
   "metadata": {},
   "outputs": [],
   "source": [
    "print(metrics.classification_report(expected, predicted))\n",
    "print(metrics.confusion_matrix(expected, predicted))"
   ]
  },
  {
   "cell_type": "code",
   "execution_count": null,
   "metadata": {},
   "outputs": [],
   "source": [
    "# loglikelihood for \"regression\" of predicted on expected\n",
    "from sklearn.metrics import log_loss\n",
    "\n",
    "log_loss(expected, predicted)"
   ]
  },
  {
   "cell_type": "markdown",
   "metadata": {},
   "source": [
    "### 3.2 Version 2 with best LogReg Model"
   ]
  },
  {
   "cell_type": "code",
   "execution_count": null,
   "metadata": {},
   "outputs": [],
   "source": [
    "modelB = LogisticRegression()\n",
    "modelB.fit(X2_train_s, y2_train)\n",
    "\n",
    "expected = y2_test\n",
    "predicted = modelB.predict(X2_test_s)"
   ]
  },
  {
   "cell_type": "code",
   "execution_count": null,
   "metadata": {},
   "outputs": [],
   "source": [
    "print(metrics.classification_report(expected, predicted))\n",
    "print(metrics.confusion_matrix(expected, predicted))"
   ]
  },
  {
   "cell_type": "code",
   "execution_count": null,
   "metadata": {},
   "outputs": [],
   "source": [
    "# loglikelihood for \"regression\" of predicted on expected\n",
    "from sklearn.metrics import log_loss\n",
    "\n",
    "log_loss(expected, predicted)"
   ]
  }
 ],
 "metadata": {
  "kernelspec": {
   "display_name": "Python 3",
   "language": "python",
   "name": "python3"
  },
  "language_info": {
   "codemirror_mode": {
    "name": "ipython",
    "version": 3
   },
   "file_extension": ".py",
   "mimetype": "text/x-python",
   "name": "python",
   "nbconvert_exporter": "python",
   "pygments_lexer": "ipython3",
   "version": "3.6.4"
  }
 },
 "nbformat": 4,
 "nbformat_minor": 2
}
