{
 "cells": [
  {
   "cell_type": "markdown",
   "metadata": {},
   "source": [
    "# Introduction to Machine Learning, UZH 2018, Group Project\n",
    "### Group 2: Barbara Capl, Mathias Lüthi, Pamela Matias, Stefanie Rentsch\n",
    "##    \n",
    "##   \n",
    "# 3. Classification/ Prediction \n",
    "# B. with RandomForestClassifier (RF)\n",
    "###       (unbalanced)\n",
    "In this section we use the selected features matrices, pre-selected with the RandomForestClassifier in chapter 2 or with PCA in chapter 2i and the response vector that we prepared in chapter 1.  \n",
    "\n",
    "#### We use two different versions (created in chapter 1, features-selected in chapter 2):\n",
    "Version 1: Feature Matrix consists only of the Ratios                                                                        \n",
    "Version 2: Feature Matrix consists of Ratios + dummy variables for seasonality + other market data\n",
    "####  We will do Classification and Prediction with RandomForestClassifier\n"
   ]
  },
  {
   "cell_type": "code",
   "execution_count": 2,
   "metadata": {},
   "outputs": [],
   "source": [
    "# hide unnecessary warnings (\"depreciation\" of packages etc.)\n",
    "import warnings\n",
    "warnings.filterwarnings('ignore')\n",
    "\n",
    "# import packages\n",
    "import numpy as np\n",
    "import pandas as pd\n",
    "import matplotlib.pyplot as plt\n",
    "from sklearn import preprocessing\n",
    "from sklearn.model_selection import train_test_split\n",
    "from sklearn.preprocessing import Imputer\n",
    "from sklearn.ensemble import RandomForestClassifier"
   ]
  },
  {
   "cell_type": "markdown",
   "metadata": {},
   "source": [
    "###   \n",
    "###    \n",
    "###    \n",
    "## 3.0. SETTINGS"
   ]
  },
  {
   "cell_type": "markdown",
   "metadata": {},
   "source": [
    "### (1) Choose the Dataset Version you want\n",
    "\n",
    "##### Whole Feature Matrix (Features not pre-selected)\n",
    "VERSION = 1; Feature Matrix with only ratios                                  \n",
    "VERSION = 2;  Feature Matrix with ratios + saisonality + other market data\n",
    "\n",
    "##### Reduced Feature Matrix (Features pre-selected)\n",
    "VERSION = 1.1; Reduced Feature Matrix with only ratios                                  \n",
    "VERSION = 2.1;  Reduced Feature Matrix with ratios + saisonality + other market data\n",
    "\n"
   ]
  },
  {
   "cell_type": "code",
   "execution_count": 3,
   "metadata": {},
   "outputs": [],
   "source": [
    "### Chose which dataset version you want the selection of features and the prediction to be based on \n",
    "VERSION = 1.1\n",
    "\"\"\"\n",
    "INSERT NUMBER 1, 2, 1.1 or 2.1\n",
    "\"\"\"\n",
    "\n",
    "\n",
    "\n",
    "# Defining sel_state variable for easier printing out    \n",
    "if VERSION == 1:\n",
    "    sel_version = 'Based on whole original Dataset with only the Ratios Dataset as predicive Features.'\n",
    "elif VERSION == 2:\n",
    "    sel_version = 'Based on whole original Dataset with Ratios + Seasonality + other Market Data as predictive Features.'\n",
    "elif VERSION == 1.1:\n",
    "    sel_version = 'Based on reduced Dataset with only the Ratios Dataset as predicive Features.'\n",
    "elif VERSION == 2.1:\n",
    "    sel_version = 'Based on reduced Dataset with Ratios + Seasonality + other Market Data as predictive Features.'\n",
    "else: raise ValueError('VERSION must be either 1, 2, 1.1 or 2.1')"
   ]
  },
  {
   "cell_type": "markdown",
   "metadata": {},
   "source": [
    "### (2) If you chose VERSION 1.1. or VERSION 2.1:  (Reduced Feature Matrix)                                                                  \n",
    "### => Choose with which method you want to have the features been pre-selected /reduced\n",
    "\n",
    "##### You have the choice between:\n",
    "mySELECTION  = RF ; Features pre-selected with Random Forest Classifier                                                           \n",
    "mySELECTION = PCA; Features pre-selected with Principal Component Analysis (PCA)                                         \n",
    "\n",
    "##### By Default;\n",
    "If VERSION 1 or VERSION 2 was chosen above: SELECTION = none by Default; no features pre-selected. You don't need to define variable mySELECTION."
   ]
  },
  {
   "cell_type": "code",
   "execution_count": 4,
   "metadata": {},
   "outputs": [
    {
     "name": "stdout",
     "output_type": "stream",
     "text": [
      "You chose SELECTION method Random Forest (RF).\n"
     ]
    }
   ],
   "source": [
    "### Choose whether you want the datasets with features selected with RF or PCA or the original file\n",
    "mySELECTION = 'RF'\n",
    "\"\"\"\n",
    "INSERT WISHED METHOD 'RF', 'PCA'\n",
    "\"\"\"\n",
    "\n",
    "\n",
    "\n",
    "# This is the control loop. If something has been chosen wrong, it returns an error with explanation.\n",
    "if VERSION == 1 or VERSION == 2:\n",
    "    SELECTION = 'none'\n",
    "elif VERSION == 1.1 or VERSION == 2.1:\n",
    "    SELECTION = mySELECTION\n",
    "    if mySELECTION is not 'RF' and mySELECTION is not 'PCA':\n",
    "        raise ValueError('Because VERSION '+str(VERSION)+' is chosen, mySELECTION must be set as either RF or PCA.')\n",
    "else: raise ValueError('VERSION must be either 1, 2, 1.1 or 2.1. mySELECTION must be chosen as either RF or PCA.')\n",
    "\n",
    "# Defining of sel_feat (Selected Feature Selection Method) variable and briefing for later.   \n",
    "if SELECTION == 'RF':\n",
    "    sel_feat = 'Random Forest (RF)'\n",
    "    briefing = ('You chose dataset VERSION '+str(VERSION)+' and SELECTION method '+str(SELECTION)+'.'+'\\n'+'Features therefore pre-selected with '+str(sel_feat)+'.')\n",
    "elif SELECTION == 'PCA':\n",
    "    sel_feat = 'Principal Component Analysis (PCA)'\n",
    "    briefing = ('You chose dataset VERSION '+str(VERSION)+' and SELECTION method '+str(SELECTION)+'.'+'\\n'+'Features therefore pre-selected with '+str(sel_feat)+'.')\n",
    "elif SELECTION == 'none':\n",
    "    sel_feat = 'No Feature Selection Method available.'\n",
    "    briefing = ('You chose VERSION '+str(VERSION)+'. This Version has no Feature Selection Method because Feature Matrix is whole, not reduced.'+'\\n'+'SELECTION is therefore \"none\" by Default.')\n",
    "else: raise ValueError('mySELECTION must be chosen as either RF or PCA')\n",
    "print('You chose SELECTION method '+str(sel_feat)+'.')\n",
    "#print(sel_feat)"
   ]
  },
  {
   "cell_type": "markdown",
   "metadata": {},
   "source": [
    "### (3) SUMMARY OF SETTINGS"
   ]
  },
  {
   "cell_type": "code",
   "execution_count": 5,
   "metadata": {},
   "outputs": [
    {
     "name": "stdout",
     "output_type": "stream",
     "text": [
      "You chose dataset VERSION 1.1 and SELECTION method RF.\n",
      "Features therefore pre-selected with Random Forest (RF). \n",
      "\n",
      "VERSION 1.1 is Based on reduced Dataset with only the Ratios Dataset as predicive Features. \n",
      "\n",
      "You are now done with the Settings. You can run the whole Code now by Default.\n"
     ]
    }
   ],
   "source": [
    "print(briefing, '\\n')\n",
    "print('VERSION '+str(VERSION)+' is '+str(sel_version),'\\n')\n",
    "print('You are now done with the Settings. You can run the whole Code now by Default.')"
   ]
  },
  {
   "cell_type": "markdown",
   "metadata": {},
   "source": [
    "###  \n",
    "###    \n",
    "###     \n",
    "## 3.1. Preparation\n",
    "\n",
    "Note: No Standardization needed for RF."
   ]
  },
  {
   "cell_type": "markdown",
   "metadata": {},
   "source": [
    "### 3.1.1. Import the Response Vector and the Feature Matrix"
   ]
  },
  {
   "cell_type": "code",
   "execution_count": 6,
   "metadata": {},
   "outputs": [],
   "source": [
    "### import Data (already splitted to train/test-data and selected features-> bc_randomforest_feature_selection)\n",
    "if VERSION == 1: \n",
    "# features not pre-selected, only ratios\n",
    "    X = pd.read_csv('Data/generated_datasets/features_ratios_1.csv', sep=',', header=0)\n",
    "    y = pd.read_csv('Data/generated_datasets/response_1.csv', sep=',', header=0)\n",
    "elif VERSION == 2: \n",
    "# features not pre-selected, ratios + seasonality + market data\n",
    "    X = pd.read_csv('Data/generated_datasets/features_additional_1.csv', sep=',', header=0)\n",
    "    y = pd.read_csv('Data/generated_datasets/response_1.csv', sep=',', header=0)\n",
    "elif VERSION == 1.1: \n",
    "# features pre-selected, only ratios\n",
    "    if SELECTION == 'RF':\n",
    "        X_train_s = pd.read_csv('Data/generated_splits/features_selected_randomforest/X1_train_f.csv', sep=',', header=0)\n",
    "        X_test_s = pd.read_csv('Data/generated_splits/features_selected_randomforest/X1_test_f.csv', sep=',', header=0)\n",
    "        y_train_s = pd.read_csv('Data/generated_splits/features_selected_randomforest/y1_train_f.csv', sep=',', header=0)\n",
    "        y_test_s = pd.read_csv('Data/generated_splits/features_selected_randomforest/y1_test_f.csv', sep=',', header=0)\n",
    "    elif SELECTION == 'PCA':\n",
    "        X_train_s = pd.read_csv('Data/generated_splits/features_selected_pca/X1_train_p.csv', sep=',', header=0)\n",
    "        X_test_s = pd.read_csv('Data/generated_splits/features_selected_pca/X1_test_p.csv', sep=',', header=0)\n",
    "        y_train_s = pd.read_csv('Data/generated_splits/features_selected_pca/y1_train_p.csv', sep=',', header=0)\n",
    "        y_test_s = pd.read_csv('Data/generated_splits/features_selected_pca/y1_test_p.csv', sep=',', header=0)\n",
    "elif VERSION == 2.1: \n",
    "# features pre-selected, ratios + seasonality + market data\n",
    "    if SELECTION == 'RF':\n",
    "        X_train_s = pd.read_csv('Data/generated_splits/features_selected_randomforest/X2_train_f.csv', sep=',', header=0)\n",
    "        X_test_s = pd.read_csv('Data/generated_splits/features_selected_randomforest/X2_test_f.csv', sep=',', header=0)\n",
    "        y_train_s = pd.read_csv('Data/generated_splits/features_selected_randomforest/y2_train_f.csv', sep=',', header=0)\n",
    "        y_test_s = pd.read_csv('Data/generated_splits/features_selected_randomforest/y2_test_f.csv', sep=',', header=0)\n",
    "    elif SELECTION == 'PCA':\n",
    "        X_train_s = pd.read_csv('Data/generated_splits/features_selected_pca/X2_train_p.csv', sep=',', header=0)\n",
    "        X_test_s = pd.read_csv('Data/generated_splits/features_selected_pca/X2_test_p.csv', sep=',', header=0)\n",
    "        y_train_s = pd.read_csv('Data/generated_splits/features_selected_pca/y2_train_p.csv', sep=',', header=0)\n",
    "        y_test_s = pd.read_csv('Data/generated_splits/features_selected_pca/y2_test_p.csv', sep=',', header=0)\n",
    "else: raise ValueError('VERSION value must be either 1, 2, 1.1 or 2.1, mySELECTION must be chosen as either RF or PCA.')"
   ]
  },
  {
   "cell_type": "markdown",
   "metadata": {},
   "source": [
    "#### Train-Test-split for whole original files. Automatically executed only if VERSION = 1 or 2."
   ]
  },
  {
   "cell_type": "code",
   "execution_count": 8,
   "metadata": {},
   "outputs": [
    {
     "name": "stdout",
     "output_type": "stream",
     "text": [
      "No Train/Test split needed for chosen VERSION 1.1. Loaded Datasets were already pre-splitted and imputed in\n",
      "Feature Selection (Chapter 2).\n"
     ]
    }
   ],
   "source": [
    "# For VERSION == 1 or 2 -> train-test-split for the importet sets must be done\n",
    "if VERSION == 1 or VERSION == 2:\n",
    "    # import package imputer\n",
    "    from sklearn.preprocessing import Imputer\n",
    "    # # Train/test split, into 20% test size and 80% train size because it is a relatively small dataset\n",
    "    X_train, X_test, y_train, y_test = train_test_split(X, y, test_size=0.2, random_state=0)\n",
    "\n",
    "    # Use a median fill for train\n",
    "    imp = Imputer(missing_values=np.nan, strategy = 'median' , axis=0)\n",
    "    imputed_dataset = pd.DataFrame(imp.fit_transform(X_train))\n",
    "    imputed_dataset.columns = X_train.columns\n",
    "    imputed_dataset.index = X_train.index\n",
    "    X_train = imputed_dataset\n",
    "\n",
    "    # Use a median fill for the test set\n",
    "    imputed_dataset = pd.DataFrame(imp.fit_transform(X_test))\n",
    "    imputed_dataset.columns = X_test.columns\n",
    "    imputed_dataset.index = X_test.index\n",
    "    X_test = imputed_dataset\n",
    "    \n",
    "    # Extract the feature labels\n",
    "    feature_labels = list(X)\n",
    "    print('Type of feature_labels = ' + str(type(feature_labels)), '\\n')\n",
    "    \n",
    "else: print('No Train/Test split needed for chosen VERSION '+str(VERSION)+\n",
    "            '. Loaded Datasets were already pre-splitted and imputed in'+'\\n'+'Feature Selection (Chapter 2).')"
   ]
  },
  {
   "cell_type": "markdown",
   "metadata": {},
   "source": [
    "### 3.1.2. Print out Shape and Form of Feature Matrix and Response Vector"
   ]
  },
  {
   "cell_type": "markdown",
   "metadata": {},
   "source": [
    "### Train Set"
   ]
  },
  {
   "cell_type": "code",
   "execution_count": 9,
   "metadata": {},
   "outputs": [
    {
     "name": "stdout",
     "output_type": "stream",
     "text": [
      "Features Selected with Random Forest (RF).\n",
      "Version 1.1; Based on reduced Dataset with only the Ratios Dataset as predicive Features. \n",
      "\n",
      "Shape (rows, columns) of Feature Matrix X (Train) = (2836, 20) \n",
      "\n",
      "Feature Matrix X (Train) with Selected Features:\n",
      "\n"
     ]
    },
    {
     "data": {
      "text/html": [
       "<div>\n",
       "<style scoped>\n",
       "    .dataframe tbody tr th:only-of-type {\n",
       "        vertical-align: middle;\n",
       "    }\n",
       "\n",
       "    .dataframe tbody tr th {\n",
       "        vertical-align: top;\n",
       "    }\n",
       "\n",
       "    .dataframe thead th {\n",
       "        text-align: right;\n",
       "    }\n",
       "</style>\n",
       "<table border=\"1\" class=\"dataframe\">\n",
       "  <thead>\n",
       "    <tr style=\"text-align: right;\">\n",
       "      <th></th>\n",
       "      <th>pe_op_dil</th>\n",
       "      <th>CAPEI</th>\n",
       "      <th>pe_op_basic</th>\n",
       "      <th>divyield</th>\n",
       "      <th>pe_exi</th>\n",
       "      <th>pcf</th>\n",
       "      <th>ptb</th>\n",
       "      <th>PEG_ltgforward</th>\n",
       "      <th>bm</th>\n",
       "      <th>evm</th>\n",
       "      <th>ps</th>\n",
       "      <th>pe_inc</th>\n",
       "      <th>PEG_1yrforward</th>\n",
       "      <th>PEG_trailing</th>\n",
       "      <th>dpr</th>\n",
       "      <th>GProf</th>\n",
       "      <th>roe</th>\n",
       "      <th>short_debt</th>\n",
       "      <th>invt_act</th>\n",
       "      <th>roce</th>\n",
       "    </tr>\n",
       "  </thead>\n",
       "  <tbody>\n",
       "    <tr>\n",
       "      <th>0</th>\n",
       "      <td>15.633</td>\n",
       "      <td>20.773</td>\n",
       "      <td>15.468</td>\n",
       "      <td>0.0354</td>\n",
       "      <td>18.484</td>\n",
       "      <td>9.957</td>\n",
       "      <td>1.811</td>\n",
       "      <td>5.963</td>\n",
       "      <td>0.547</td>\n",
       "      <td>10.644</td>\n",
       "      <td>3.703</td>\n",
       "      <td>18.484</td>\n",
       "      <td>13.678</td>\n",
       "      <td>1.181</td>\n",
       "      <td>0.623</td>\n",
       "      <td>0.245</td>\n",
       "      <td>0.102</td>\n",
       "      <td>0.173</td>\n",
       "      <td>0.108</td>\n",
       "      <td>0.140</td>\n",
       "    </tr>\n",
       "    <tr>\n",
       "      <th>1</th>\n",
       "      <td>17.296</td>\n",
       "      <td>25.089</td>\n",
       "      <td>17.203</td>\n",
       "      <td>0.0398</td>\n",
       "      <td>39.232</td>\n",
       "      <td>8.509</td>\n",
       "      <td>2.189</td>\n",
       "      <td>5.702</td>\n",
       "      <td>0.461</td>\n",
       "      <td>9.246</td>\n",
       "      <td>0.689</td>\n",
       "      <td>39.232</td>\n",
       "      <td>1.521</td>\n",
       "      <td>0.668</td>\n",
       "      <td>2.175</td>\n",
       "      <td>0.164</td>\n",
       "      <td>0.067</td>\n",
       "      <td>0.084</td>\n",
       "      <td>0.368</td>\n",
       "      <td>0.105</td>\n",
       "    </tr>\n",
       "    <tr>\n",
       "      <th>2</th>\n",
       "      <td>9.209</td>\n",
       "      <td>12.337</td>\n",
       "      <td>9.135</td>\n",
       "      <td>0.0268</td>\n",
       "      <td>13.062</td>\n",
       "      <td>1.993</td>\n",
       "      <td>1.076</td>\n",
       "      <td>2.248</td>\n",
       "      <td>0.911</td>\n",
       "      <td>12.474</td>\n",
       "      <td>2.034</td>\n",
       "      <td>13.062</td>\n",
       "      <td>0.380</td>\n",
       "      <td>3.048</td>\n",
       "      <td>0.337</td>\n",
       "      <td>0.040</td>\n",
       "      <td>0.091</td>\n",
       "      <td>0.532</td>\n",
       "      <td>0.152</td>\n",
       "      <td>0.075</td>\n",
       "    </tr>\n",
       "  </tbody>\n",
       "</table>\n",
       "</div>"
      ],
      "text/plain": [
       "   pe_op_dil   CAPEI  pe_op_basic  divyield  pe_exi    pcf    ptb  \\\n",
       "0     15.633  20.773       15.468    0.0354  18.484  9.957  1.811   \n",
       "1     17.296  25.089       17.203    0.0398  39.232  8.509  2.189   \n",
       "2      9.209  12.337        9.135    0.0268  13.062  1.993  1.076   \n",
       "\n",
       "   PEG_ltgforward     bm     evm     ps  pe_inc  PEG_1yrforward  PEG_trailing  \\\n",
       "0           5.963  0.547  10.644  3.703  18.484          13.678         1.181   \n",
       "1           5.702  0.461   9.246  0.689  39.232           1.521         0.668   \n",
       "2           2.248  0.911  12.474  2.034  13.062           0.380         3.048   \n",
       "\n",
       "     dpr  GProf    roe  short_debt  invt_act   roce  \n",
       "0  0.623  0.245  0.102       0.173     0.108  0.140  \n",
       "1  2.175  0.164  0.067       0.084     0.368  0.105  \n",
       "2  0.337  0.040  0.091       0.532     0.152  0.075  "
      ]
     },
     "metadata": {},
     "output_type": "display_data"
    },
    {
     "name": "stdout",
     "output_type": "stream",
     "text": [
      "Response Vector y (Train) after Feature Selection:\n"
     ]
    },
    {
     "data": {
      "text/html": [
       "<div>\n",
       "<style scoped>\n",
       "    .dataframe tbody tr th:only-of-type {\n",
       "        vertical-align: middle;\n",
       "    }\n",
       "\n",
       "    .dataframe tbody tr th {\n",
       "        vertical-align: top;\n",
       "    }\n",
       "\n",
       "    .dataframe thead th {\n",
       "        text-align: right;\n",
       "    }\n",
       "</style>\n",
       "<table border=\"1\" class=\"dataframe\">\n",
       "  <thead>\n",
       "    <tr style=\"text-align: right;\">\n",
       "      <th></th>\n",
       "      <th>0</th>\n",
       "    </tr>\n",
       "  </thead>\n",
       "  <tbody>\n",
       "    <tr>\n",
       "      <th>0</th>\n",
       "      <td>0</td>\n",
       "    </tr>\n",
       "    <tr>\n",
       "      <th>1</th>\n",
       "      <td>1</td>\n",
       "    </tr>\n",
       "    <tr>\n",
       "      <th>2</th>\n",
       "      <td>0</td>\n",
       "    </tr>\n",
       "  </tbody>\n",
       "</table>\n",
       "</div>"
      ],
      "text/plain": [
       "   0\n",
       "0  0\n",
       "1  1\n",
       "2  0"
      ]
     },
     "metadata": {},
     "output_type": "display_data"
    },
    {
     "name": "stdout",
     "output_type": "stream",
     "text": [
      "\n"
     ]
    }
   ],
   "source": [
    "# print status\n",
    "print('Features Selected with ' + str(sel_feat)+'.')\n",
    "print('Version ' + str(VERSION) + '; ' + str(sel_version), '\\n')\n",
    "\n",
    "# print properties and head\n",
    "if VERSION == 1 or VERSION == 2:\n",
    "    print('Shape (rows, columns) of Feature Matrix X (Train) ' + '= ' + str(X_train.shape)+'\\n')\n",
    "    print('Feature Matrix X (Train) with no Feature pre-Selection:')\n",
    "    display(X_train[0:3])\n",
    "    print('Response Vector y (Train) after no Feature pre-Selection:')\n",
    "    display(y_train[0:3])\n",
    "    print(\"\")\n",
    "else:\n",
    "    print('Shape (rows, columns) of Feature Matrix X (Train) ' + '= ' + str(X_train_s.shape), '\\n')\n",
    "    print('Feature Matrix X (Train) with Selected Features:'+'\\n')\n",
    "    display(X_train_s[0:3])\n",
    "    print('Response Vector y (Train) after Feature Selection:')\n",
    "    display(y_train_s[0:3])\n",
    "    print(\"\")"
   ]
  },
  {
   "cell_type": "markdown",
   "metadata": {},
   "source": [
    "### Test Set"
   ]
  },
  {
   "cell_type": "code",
   "execution_count": 10,
   "metadata": {},
   "outputs": [
    {
     "name": "stdout",
     "output_type": "stream",
     "text": [
      "Features Selected with Random Forest (RF)\n",
      "Version 1.1; Based on reduced Dataset with only the Ratios Dataset as predicive Features. \n",
      "\n",
      "Shape (rows, columns) of Feature Matrix X (Test) = (710, 20)\n",
      "\n",
      "Feature Matrix X (Test) with Selected Features:\n"
     ]
    },
    {
     "data": {
      "text/html": [
       "<div>\n",
       "<style scoped>\n",
       "    .dataframe tbody tr th:only-of-type {\n",
       "        vertical-align: middle;\n",
       "    }\n",
       "\n",
       "    .dataframe tbody tr th {\n",
       "        vertical-align: top;\n",
       "    }\n",
       "\n",
       "    .dataframe thead th {\n",
       "        text-align: right;\n",
       "    }\n",
       "</style>\n",
       "<table border=\"1\" class=\"dataframe\">\n",
       "  <thead>\n",
       "    <tr style=\"text-align: right;\">\n",
       "      <th></th>\n",
       "      <th>pe_op_dil</th>\n",
       "      <th>CAPEI</th>\n",
       "      <th>pe_op_basic</th>\n",
       "      <th>divyield</th>\n",
       "      <th>pe_exi</th>\n",
       "      <th>pcf</th>\n",
       "      <th>ptb</th>\n",
       "      <th>PEG_ltgforward</th>\n",
       "      <th>bm</th>\n",
       "      <th>evm</th>\n",
       "      <th>ps</th>\n",
       "      <th>pe_inc</th>\n",
       "      <th>PEG_1yrforward</th>\n",
       "      <th>PEG_trailing</th>\n",
       "      <th>dpr</th>\n",
       "      <th>GProf</th>\n",
       "      <th>roe</th>\n",
       "      <th>short_debt</th>\n",
       "      <th>invt_act</th>\n",
       "      <th>roce</th>\n",
       "    </tr>\n",
       "  </thead>\n",
       "  <tbody>\n",
       "    <tr>\n",
       "      <th>0</th>\n",
       "      <td>16.224</td>\n",
       "      <td>20.983</td>\n",
       "      <td>16.127</td>\n",
       "      <td>0.0187</td>\n",
       "      <td>16.224</td>\n",
       "      <td>10.484</td>\n",
       "      <td>4.189</td>\n",
       "      <td>1.330</td>\n",
       "      <td>0.254</td>\n",
       "      <td>8.585</td>\n",
       "      <td>3.318</td>\n",
       "      <td>16.224</td>\n",
       "      <td>1.414</td>\n",
       "      <td>1.022</td>\n",
       "      <td>0.287</td>\n",
       "      <td>0.354</td>\n",
       "      <td>0.272</td>\n",
       "      <td>0.025</td>\n",
       "      <td>0.025</td>\n",
       "      <td>0.364</td>\n",
       "    </tr>\n",
       "    <tr>\n",
       "      <th>1</th>\n",
       "      <td>16.489</td>\n",
       "      <td>21.663</td>\n",
       "      <td>16.311</td>\n",
       "      <td>0.0122</td>\n",
       "      <td>18.555</td>\n",
       "      <td>7.709</td>\n",
       "      <td>4.281</td>\n",
       "      <td>1.572</td>\n",
       "      <td>0.235</td>\n",
       "      <td>13.619</td>\n",
       "      <td>2.379</td>\n",
       "      <td>18.555</td>\n",
       "      <td>1.737</td>\n",
       "      <td>1.147</td>\n",
       "      <td>0.199</td>\n",
       "      <td>0.062</td>\n",
       "      <td>0.238</td>\n",
       "      <td>0.106</td>\n",
       "      <td>0.157</td>\n",
       "      <td>0.108</td>\n",
       "    </tr>\n",
       "    <tr>\n",
       "      <th>2</th>\n",
       "      <td>9.520</td>\n",
       "      <td>16.327</td>\n",
       "      <td>9.520</td>\n",
       "      <td>0.0343</td>\n",
       "      <td>15.681</td>\n",
       "      <td>8.490</td>\n",
       "      <td>2.198</td>\n",
       "      <td>6.149</td>\n",
       "      <td>0.513</td>\n",
       "      <td>6.716</td>\n",
       "      <td>3.293</td>\n",
       "      <td>15.550</td>\n",
       "      <td>-0.973</td>\n",
       "      <td>1.022</td>\n",
       "      <td>0.792</td>\n",
       "      <td>0.321</td>\n",
       "      <td>0.124</td>\n",
       "      <td>0.253</td>\n",
       "      <td>0.078</td>\n",
       "      <td>0.196</td>\n",
       "    </tr>\n",
       "  </tbody>\n",
       "</table>\n",
       "</div>"
      ],
      "text/plain": [
       "   pe_op_dil   CAPEI  pe_op_basic  divyield  pe_exi     pcf    ptb  \\\n",
       "0     16.224  20.983       16.127    0.0187  16.224  10.484  4.189   \n",
       "1     16.489  21.663       16.311    0.0122  18.555   7.709  4.281   \n",
       "2      9.520  16.327        9.520    0.0343  15.681   8.490  2.198   \n",
       "\n",
       "   PEG_ltgforward     bm     evm     ps  pe_inc  PEG_1yrforward  PEG_trailing  \\\n",
       "0           1.330  0.254   8.585  3.318  16.224           1.414         1.022   \n",
       "1           1.572  0.235  13.619  2.379  18.555           1.737         1.147   \n",
       "2           6.149  0.513   6.716  3.293  15.550          -0.973         1.022   \n",
       "\n",
       "     dpr  GProf    roe  short_debt  invt_act   roce  \n",
       "0  0.287  0.354  0.272       0.025     0.025  0.364  \n",
       "1  0.199  0.062  0.238       0.106     0.157  0.108  \n",
       "2  0.792  0.321  0.124       0.253     0.078  0.196  "
      ]
     },
     "metadata": {},
     "output_type": "display_data"
    },
    {
     "name": "stdout",
     "output_type": "stream",
     "text": [
      "\n",
      "Response Vector y (Test) after Feature Selection:\n"
     ]
    },
    {
     "data": {
      "text/html": [
       "<div>\n",
       "<style scoped>\n",
       "    .dataframe tbody tr th:only-of-type {\n",
       "        vertical-align: middle;\n",
       "    }\n",
       "\n",
       "    .dataframe tbody tr th {\n",
       "        vertical-align: top;\n",
       "    }\n",
       "\n",
       "    .dataframe thead th {\n",
       "        text-align: right;\n",
       "    }\n",
       "</style>\n",
       "<table border=\"1\" class=\"dataframe\">\n",
       "  <thead>\n",
       "    <tr style=\"text-align: right;\">\n",
       "      <th></th>\n",
       "      <th>0</th>\n",
       "    </tr>\n",
       "  </thead>\n",
       "  <tbody>\n",
       "    <tr>\n",
       "      <th>0</th>\n",
       "      <td>1</td>\n",
       "    </tr>\n",
       "    <tr>\n",
       "      <th>1</th>\n",
       "      <td>0</td>\n",
       "    </tr>\n",
       "    <tr>\n",
       "      <th>2</th>\n",
       "      <td>1</td>\n",
       "    </tr>\n",
       "  </tbody>\n",
       "</table>\n",
       "</div>"
      ],
      "text/plain": [
       "   0\n",
       "0  1\n",
       "1  0\n",
       "2  1"
      ]
     },
     "metadata": {},
     "output_type": "display_data"
    }
   ],
   "source": [
    "# print status\n",
    "print('Features Selected with ' + str(sel_feat))\n",
    "print('Version ' + str(VERSION) + '; ' + str(sel_version),'\\n')\n",
    "\n",
    "# print properties and head\n",
    "if VERSION == 1 or VERSION == 2:\n",
    "    print('Shape (rows, columns) of Feature Matrix X (Test) ' + '= ' + str(X_test.shape)+'\\n')\n",
    "    print('Feature Matrix X (Test) with no Feature pre-Selection:')\n",
    "    display(X_test[0:3])\n",
    "    print(\"\")\n",
    "    print('Response Vector y (Test) after no Feature pre-Selection:')\n",
    "    display(y_test[0:3])\n",
    "    print(\"\")\n",
    "else:\n",
    "    print('Shape (rows, columns) of Feature Matrix X (Test) ' + '= ' + str(X_test_s.shape)+'\\n')\n",
    "    print('Feature Matrix X (Test) with Selected Features:')\n",
    "    display(X_test_s[0:3])\n",
    "    print(\"\")\n",
    "    print('Response Vector y (Test) after Feature Selection:')\n",
    "    display(y_test_s[0:3])"
   ]
  },
  {
   "cell_type": "markdown",
   "metadata": {},
   "source": [
    "###      \n",
    "###     \n",
    "###    \n",
    "## 3.2. Random Forest Classification and Prediction"
   ]
  },
  {
   "cell_type": "markdown",
   "metadata": {},
   "source": [
    "### 3.2.1. FItting Forest for single random_state and Prediction"
   ]
  },
  {
   "cell_type": "code",
   "execution_count": 11,
   "metadata": {},
   "outputs": [
    {
     "name": "stdout",
     "output_type": "stream",
     "text": [
      "Ratio of Ones (Test) =  57.042254%\n",
      "Ratio of Ones (Training) =  58.074753%\n",
      "Score (Prediction) =  78.309859%\n",
      "\n",
      "EVALUATION: Our Model predicts 21.27 percentage points better than always guessing \"UP\" for the Test Set.\n"
     ]
    }
   ],
   "source": [
    "# Define Variables\n",
    "if VERSION == 1 or VERSION == 2: \n",
    "    feature_train = X_train\n",
    "    feature_test = X_test\n",
    "    response_train = y_train\n",
    "    response_test = y_test\n",
    "else:\n",
    "    feature_train = X_train_s\n",
    "    feature_test = X_test_s\n",
    "    response_train = y_train_s\n",
    "    response_test = y_test_s\n",
    "    \n",
    "# Fit forest\n",
    "# the '_o' stands for 'prediction with forest with only ONE random state'\n",
    "forest_o = RandomForestClassifier(random_state = 0)\n",
    "forest_o.max_depth = 6\n",
    "forest_o.fit(feature_train, response_train)\n",
    "\n",
    "# Test prediction of y_test with the X_test feature matrix: gives the prediction vector\n",
    "prediction_o = forest_o.predict(feature_test)\n",
    "\n",
    "# Extract labels of features\n",
    "feature_labels = feature_train.columns[:]\n",
    "#display(feature_labels)\n",
    "\n",
    "# Generate feature iportances\n",
    "feature_importances_o = forest_o.feature_importances_\n",
    "\n",
    "# sort features in line with their importance for the prediction (therefore ::-1)\n",
    "indices_o = np.argsort(feature_importances_o)[::-1]\n",
    "\n",
    "# Calculate percentage of of ones in the test response vector\n",
    "print('Ratio of Ones (Test) =  ' + str(round(response_test['0'].sum() / response_test.size, 8)*100)+'%')\n",
    "# Just to be sure the ones are distributed ca.the same in test and train response vector, check this:\n",
    "print('Ratio of Ones (Training) =  ' + str(round(response_train['0'].sum() / response_train.size, 8)*100)+'%')\n",
    "# Calculate precentage of ones predicted with the model\n",
    "print('Score (Prediction) =  ' + str(round(prediction_o.sum() / prediction_o.size, 8)*100)+'%'+'\\n')\n",
    "\n",
    "# Calculate the score surplus above the test-set response vector score\n",
    "print('EVALUATION: Our Model predicts '+str(round((prediction_o.sum()/prediction_o.size) \n",
    "                                       - (response_test['0'].sum()/response_test['0'].size),4)*100)+\n",
    "      ' percentage points better than always guessing \"UP\" for the Test Set.')"
   ]
  },
  {
   "cell_type": "markdown",
   "metadata": {},
   "source": [
    "### 3.2.2. Fitting Forest and Prediction for multiple random_states"
   ]
  },
  {
   "cell_type": "markdown",
   "metadata": {},
   "source": [
    "### Fit and predict with loop"
   ]
  },
  {
   "cell_type": "code",
   "execution_count": 12,
   "metadata": {},
   "outputs": [
    {
     "name": "stdout",
     "output_type": "stream",
     "text": [
      "Predictions for random states 0 to 10 are: \n",
      "\n"
     ]
    },
    {
     "data": {
      "text/html": [
       "<div>\n",
       "<style scoped>\n",
       "    .dataframe tbody tr th:only-of-type {\n",
       "        vertical-align: middle;\n",
       "    }\n",
       "\n",
       "    .dataframe tbody tr th {\n",
       "        vertical-align: top;\n",
       "    }\n",
       "\n",
       "    .dataframe thead th {\n",
       "        text-align: right;\n",
       "    }\n",
       "</style>\n",
       "<table border=\"1\" class=\"dataframe\">\n",
       "  <thead>\n",
       "    <tr style=\"text-align: right;\">\n",
       "      <th></th>\n",
       "      <th>0</th>\n",
       "      <th>1</th>\n",
       "      <th>2</th>\n",
       "      <th>3</th>\n",
       "      <th>4</th>\n",
       "      <th>5</th>\n",
       "      <th>6</th>\n",
       "      <th>7</th>\n",
       "      <th>8</th>\n",
       "      <th>9</th>\n",
       "    </tr>\n",
       "  </thead>\n",
       "  <tbody>\n",
       "    <tr>\n",
       "      <th>0</th>\n",
       "      <td>1</td>\n",
       "      <td>1</td>\n",
       "      <td>1</td>\n",
       "      <td>1</td>\n",
       "      <td>1</td>\n",
       "      <td>1</td>\n",
       "      <td>1</td>\n",
       "      <td>1</td>\n",
       "      <td>1</td>\n",
       "      <td>1</td>\n",
       "    </tr>\n",
       "    <tr>\n",
       "      <th>1</th>\n",
       "      <td>1</td>\n",
       "      <td>1</td>\n",
       "      <td>1</td>\n",
       "      <td>1</td>\n",
       "      <td>1</td>\n",
       "      <td>1</td>\n",
       "      <td>1</td>\n",
       "      <td>1</td>\n",
       "      <td>1</td>\n",
       "      <td>1</td>\n",
       "    </tr>\n",
       "    <tr>\n",
       "      <th>2</th>\n",
       "      <td>1</td>\n",
       "      <td>1</td>\n",
       "      <td>1</td>\n",
       "      <td>1</td>\n",
       "      <td>1</td>\n",
       "      <td>1</td>\n",
       "      <td>1</td>\n",
       "      <td>1</td>\n",
       "      <td>1</td>\n",
       "      <td>1</td>\n",
       "    </tr>\n",
       "    <tr>\n",
       "      <th>3</th>\n",
       "      <td>1</td>\n",
       "      <td>1</td>\n",
       "      <td>1</td>\n",
       "      <td>0</td>\n",
       "      <td>0</td>\n",
       "      <td>0</td>\n",
       "      <td>0</td>\n",
       "      <td>1</td>\n",
       "      <td>1</td>\n",
       "      <td>1</td>\n",
       "    </tr>\n",
       "    <tr>\n",
       "      <th>4</th>\n",
       "      <td>1</td>\n",
       "      <td>1</td>\n",
       "      <td>1</td>\n",
       "      <td>1</td>\n",
       "      <td>1</td>\n",
       "      <td>1</td>\n",
       "      <td>1</td>\n",
       "      <td>1</td>\n",
       "      <td>1</td>\n",
       "      <td>1</td>\n",
       "    </tr>\n",
       "  </tbody>\n",
       "</table>\n",
       "</div>"
      ],
      "text/plain": [
       "   0  1  2  3  4  5  6  7  8  9\n",
       "0  1  1  1  1  1  1  1  1  1  1\n",
       "1  1  1  1  1  1  1  1  1  1  1\n",
       "2  1  1  1  1  1  1  1  1  1  1\n",
       "3  1  1  1  0  0  0  0  1  1  1\n",
       "4  1  1  1  1  1  1  1  1  1  1"
      ]
     },
     "metadata": {},
     "output_type": "display_data"
    },
    {
     "name": "stdout",
     "output_type": "stream",
     "text": [
      "\n",
      "At the end of the loop, rs = 10\n"
     ]
    }
   ],
   "source": [
    "# Define Variables\n",
    "if VERSION == 1 or VERSION == 2: \n",
    "    feature_train = X_train\n",
    "    feature_test = X_test\n",
    "    response_train = y_train\n",
    "    response_test = y_test\n",
    "else:\n",
    "    feature_train = X_train_s\n",
    "    feature_test = X_test_s\n",
    "    response_train = y_train_s\n",
    "    response_test = y_test_s\n",
    "\n",
    "# rs = first random state we choose\n",
    "# i = number of random states we want to have tried out and the number of predictions we want to make\n",
    "rs = 0\n",
    "i = 10\n",
    "\n",
    "df_prediction = pd.DataFrame()\n",
    "\n",
    "# Loop until random_state = rs = 10\n",
    "while rs < i:\n",
    "    forest_m = RandomForestClassifier(random_state = rs)\n",
    "    forest_m.max_depth = 6\n",
    "    forest_m.fit(feature_train, response_train)\n",
    "    df_prediction[rs] = forest_m.predict(feature_test)\n",
    "    rs += 1\n",
    "\n",
    "# Generate feature iportances\n",
    "feature_importances_m = forest_m.feature_importances_\n",
    "\n",
    "# sort features in line with their importance for the prediction (therefore ::-1)\n",
    "indices_m = np.argsort(feature_importances_m)[::-1]\n",
    "print('Predictions for random states 0 to 10 are: '+'\\n')\n",
    "display(df_prediction.head())\n",
    "print(\"\")\n",
    "print('At the end of the loop, rs = ' + str(rs))\n",
    "\n",
    "del rs, i"
   ]
  },
  {
   "cell_type": "markdown",
   "metadata": {},
   "source": [
    "### Reduce all predictions into one representative one, then make a new column with rounded bools"
   ]
  },
  {
   "cell_type": "code",
   "execution_count": 13,
   "metadata": {},
   "outputs": [
    {
     "data": {
      "text/html": [
       "<div>\n",
       "<style scoped>\n",
       "    .dataframe tbody tr th:only-of-type {\n",
       "        vertical-align: middle;\n",
       "    }\n",
       "\n",
       "    .dataframe tbody tr th {\n",
       "        vertical-align: top;\n",
       "    }\n",
       "\n",
       "    .dataframe thead th {\n",
       "        text-align: right;\n",
       "    }\n",
       "</style>\n",
       "<table border=\"1\" class=\"dataframe\">\n",
       "  <thead>\n",
       "    <tr style=\"text-align: right;\">\n",
       "      <th></th>\n",
       "      <th>sum_prediction/col</th>\n",
       "      <th>resulting_prediction</th>\n",
       "    </tr>\n",
       "  </thead>\n",
       "  <tbody>\n",
       "    <tr>\n",
       "      <th>0</th>\n",
       "      <td>1.0</td>\n",
       "      <td>1.0</td>\n",
       "    </tr>\n",
       "    <tr>\n",
       "      <th>1</th>\n",
       "      <td>1.0</td>\n",
       "      <td>1.0</td>\n",
       "    </tr>\n",
       "    <tr>\n",
       "      <th>2</th>\n",
       "      <td>1.0</td>\n",
       "      <td>1.0</td>\n",
       "    </tr>\n",
       "    <tr>\n",
       "      <th>3</th>\n",
       "      <td>0.6</td>\n",
       "      <td>1.0</td>\n",
       "    </tr>\n",
       "    <tr>\n",
       "      <th>4</th>\n",
       "      <td>1.0</td>\n",
       "      <td>1.0</td>\n",
       "    </tr>\n",
       "  </tbody>\n",
       "</table>\n",
       "</div>"
      ],
      "text/plain": [
       "   sum_prediction/col  resulting_prediction\n",
       "0                 1.0                   1.0\n",
       "1                 1.0                   1.0\n",
       "2                 1.0                   1.0\n",
       "3                 0.6                   1.0\n",
       "4                 1.0                   1.0"
      ]
     },
     "metadata": {},
     "output_type": "display_data"
    }
   ],
   "source": [
    "# Make new column where sum of row is set relative to the numer of columns\n",
    "# with this we kno, how many percent there was an \"UP\" predicted of how many times it could have been predicted\n",
    "# the _m after the name stands for \"multiple\"\n",
    "\n",
    "prediction_m = pd.DataFrame()\n",
    "prediction_m['sum_prediction/col'] = df_prediction.sum(axis=1)/len(df_prediction.columns)\n",
    "#display(res_prediction.head(5))\n",
    "\n",
    "prediction_m['resulting_prediction'] = prediction_m['sum_prediction/col'].round()\n",
    "display(prediction_m.head())"
   ]
  },
  {
   "cell_type": "markdown",
   "metadata": {},
   "source": [
    "### Print Results of Prediction for multiple random states"
   ]
  },
  {
   "cell_type": "code",
   "execution_count": 14,
   "metadata": {},
   "outputs": [
    {
     "name": "stdout",
     "output_type": "stream",
     "text": [
      "Ratio of Ones (Test) =  56.99999999999999%\n",
      "Ratio of Ones (Training) =  58.0748%\n",
      "Score (Prediction) =  82.0%\n",
      "\n",
      "EVALUATION: Our Model predicts 25.1 percentage points better than always guessing \"UP\" for the Test Set.\n"
     ]
    }
   ],
   "source": [
    "# Calculate percentage of of ones in the test response vector\n",
    "print('Ratio of Ones (Test) =  ' + str(round(response_test['0'].sum() / response_test['0'].size, 2)*100)+'%')\n",
    "# Just to be sure the ones are distributed ca.the same in test and train response vector, check this:\n",
    "print('Ratio of Ones (Training) =  ' + str(round(response_train['0'].sum() / response_train['0'].size, 6)*100)+'%')\n",
    "# Calculate precentage of ones predicted with the model\n",
    "print('Score (Prediction) =  ' \n",
    "      + str(round(prediction_m.resulting_prediction.sum() / prediction_m.resulting_prediction.size, 2)*100)+'%'+'\\n')\n",
    "\n",
    "# Calculate the score surplus above the test-set response vector score\n",
    "print('EVALUATION: Our Model predicts '\n",
    "      +str(round((prediction_m.resulting_prediction.sum()/prediction_m.resulting_prediction.size) \n",
    "                                       - (response_test['0'].sum()/response_test['0'].size),3)*100)+\n",
    "      ' percentage points better than always guessing \"UP\" for the Test Set.')"
   ]
  },
  {
   "cell_type": "markdown",
   "metadata": {},
   "source": [
    "###   \n",
    "###   \n",
    "###     \n",
    "## 3.3. Cross-Validation"
   ]
  },
  {
   "cell_type": "markdown",
   "metadata": {},
   "source": [
    "### 3.3.1. kFold with stratifying"
   ]
  },
  {
   "cell_type": "code",
   "execution_count": 15,
   "metadata": {},
   "outputs": [
    {
     "name": "stdout",
     "output_type": "stream",
     "text": [
      "Forest fitted and response Vector predicted with one random_state in 3.2.1.:\n",
      "[0.58274648 0.57746479 0.56790123 0.55908289 0.58480565]\n",
      "CV accuracy on train set:  0.574 +/-  0.010 \n",
      "\n",
      "Forest fitted and response Vector predicted with multiple (i) random_states in 3.2.2.:\n",
      "[0.58626761 0.57042254 0.58553792 0.57495591 0.60070671]\n",
      "CV accuracy on train set:  0.584 +/-  0.011\n"
     ]
    }
   ],
   "source": [
    "# Import necessary function\n",
    "from sklearn.model_selection import StratifiedKFold, cross_val_score\n",
    "\n",
    "# Create k-Fold CV and LogReg object\n",
    "wished_splits = 5\n",
    "kFold = StratifiedKFold(wished_splits, random_state=0)\n",
    "\n",
    "# Run CV and print results\n",
    "scores_o = cross_val_score(forest_o, feature_train, response_train, cv=kFold)\n",
    "scores_m = cross_val_score(forest_m, feature_train, response_train, cv=kFold)\n",
    "\n",
    "# Print Results\n",
    "print('Forest fitted and response Vector predicted with one random_state in 3.2.1.:')\n",
    "print(scores_o)\n",
    "print('CV accuracy on train set: {0: .3f} +/- {1: .3f}'.format(np.mean(scores_o), np.std(scores_o)),'\\n')\n",
    "print('Forest fitted and response Vector predicted with multiple (i) random_states in 3.2.2.:')\n",
    "print(scores_m)\n",
    "print('CV accuracy on train set: {0: .3f} +/- {1: .3f}'.format(np.mean(scores_m), np.std(scores_m)))"
   ]
  },
  {
   "cell_type": "markdown",
   "metadata": {},
   "source": [
    "### 3.3.2. kFold with shuffle"
   ]
  },
  {
   "cell_type": "code",
   "execution_count": 16,
   "metadata": {},
   "outputs": [
    {
     "name": "stdout",
     "output_type": "stream",
     "text": [
      "Forest fitted and response Vector predicted with one random_state in 3.2.1.:\n",
      "[0.62852113 0.60670194 0.57319224 0.56613757 0.58553792]\n",
      "CV accuracy on train set:  0.592 +/-  0.023 \n",
      "\n",
      "Forest fitted and response Vector predicted with multiple (i) random_states in 3.2.2.:\n",
      "[0.60387324 0.60493827 0.57319224 0.55731922 0.56084656]\n",
      "CV accuracy on train set:  0.580 +/-  0.021\n"
     ]
    }
   ],
   "source": [
    "# Import necessary function\n",
    "from sklearn.model_selection import KFold\n",
    "\n",
    "# Create k-Fold CV\n",
    "wished_splits = 5\n",
    "kFold = KFold(wished_splits, shuffle=True, random_state=0)\n",
    "\n",
    "# Run CV\n",
    "scores_o = cross_val_score(forest_o, feature_train, response_train, cv=kFold)\n",
    "scores_m = cross_val_score(forest_m, feature_train, response_train, cv=kFold)\n",
    "\n",
    "# Print Results\n",
    "print('Forest fitted and response Vector predicted with one random_state in 3.2.1.:')\n",
    "print(scores_o)\n",
    "print('CV accuracy on train set: {0: .3f} +/- {1: .3f}'.format(np.mean(scores_o), np.std(scores_o)),'\\n')\n",
    "print('Forest fitted and response Vector predicted with multiple (i) random_states in 3.2.2.:')\n",
    "print(scores_m)\n",
    "print('CV accuracy on train set: {0: .3f} +/- {1: .3f}'.format(np.mean(scores_m), np.std(scores_m)))"
   ]
  },
  {
   "cell_type": "markdown",
   "metadata": {},
   "source": [
    "### 3.3.3. ROC-Area under the ROC Curve"
   ]
  },
  {
   "cell_type": "code",
   "execution_count": 17,
   "metadata": {},
   "outputs": [
    {
     "name": "stdout",
     "output_type": "stream",
     "text": [
      "Forest fitted and response Vector predicted with one random_state in 3.2.1.:\n",
      "CV AUC on train set:  0.583 +/-  0.029 \n",
      "\n",
      "Forest fitted and response Vector predicted with multiple (i) random_states in 3.2.2.:\n",
      "CV AUC on train set:  0.571 +/-  0.019\n"
     ]
    }
   ],
   "source": [
    "# Run CV\n",
    "scores_o = cross_val_score(forest_o, feature_train, response_train, cv=kFold, scoring='roc_auc')\n",
    "scores_m = cross_val_score(forest_m, feature_train, response_train, cv=kFold, scoring='roc_auc')\n",
    "\n",
    "# Print Reuslts\n",
    "print('Forest fitted and response Vector predicted with one random_state in 3.2.1.:')\n",
    "print('CV AUC on train set: {0: .3f} +/- {1: .3f}'.format(np.mean(scores_o), np.std(scores_o)),'\\n')\n",
    "print('Forest fitted and response Vector predicted with multiple (i) random_states in 3.2.2.:')\n",
    "print('CV AUC on train set: {0: .3f} +/- {1: .3f}'.format(np.mean(scores_m), np.std(scores_m)))"
   ]
  },
  {
   "cell_type": "markdown",
   "metadata": {},
   "source": [
    "### 3.3.4. Cross Validation Function (fit time, score time, accuracy, recall, roc_auc)"
   ]
  },
  {
   "cell_type": "code",
   "execution_count": 18,
   "metadata": {},
   "outputs": [
    {
     "data": {
      "text/plain": [
       "{'fit_time': array([0.04715943, 0.05414772, 0.04292369, 0.0407176 , 0.04067039]),\n",
       " 'score_time': array([0.00613165, 0.00636387, 0.00565028, 0.00565577, 0.00559044]),\n",
       " 'test_accuracy': array([0.62852113, 0.60670194, 0.57319224, 0.56613757, 0.58553792]),\n",
       " 'test_recall': array([0.87537092, 0.84023669, 0.76363636, 0.79876161, 0.84012539]),\n",
       " 'test_roc_auc': array([0.62829011, 0.59860856, 0.54624728, 0.55777673, 0.58423501]),\n",
       " 'train_accuracy': array([0.69223986, 0.70559718, 0.71970031, 0.71925959, 0.70868224]),\n",
       " 'train_recall': array([0.9259542 , 0.92055004, 0.90964313, 0.92673716, 0.90587349]),\n",
       " 'train_roc_auc': array([0.78455274, 0.79797197, 0.79843976, 0.80089436, 0.7744949 ])}"
      ]
     },
     "metadata": {},
     "output_type": "display_data"
    },
    {
     "data": {
      "text/plain": [
       "{'fit_time': array([0.05642796, 0.04418778, 0.04166937, 0.04058361, 0.0423224 ]),\n",
       " 'score_time': array([0.0057621 , 0.00588417, 0.00555396, 0.00553441, 0.00552058]),\n",
       " 'test_accuracy': array([0.60387324, 0.60493827, 0.57319224, 0.55731922, 0.56084656]),\n",
       " 'test_recall': array([0.86350148, 0.82840237, 0.78787879, 0.82043344, 0.85266458]),\n",
       " 'test_roc_auc': array([0.58030496, 0.58263998, 0.54927759, 0.54701695, 0.59460006]),\n",
       " 'train_accuracy': array([0.6984127 , 0.70736007, 0.71088585, 0.70824152, 0.71705597]),\n",
       " 'train_recall': array([0.93435115, 0.91138273, 0.91040243, 0.93806647, 0.93222892]),\n",
       " 'train_roc_auc': array([0.80350524, 0.78248345, 0.79431505, 0.79340543, 0.80926349])}"
      ]
     },
     "metadata": {},
     "output_type": "display_data"
    }
   ],
   "source": [
    "# Import necessary function\n",
    "from sklearn.model_selection import cross_validate\n",
    "\n",
    "# Definitions\n",
    "measures = ['accuracy', 'recall', 'roc_auc']\n",
    "number_of_jobs = 2\n",
    "\n",
    "# Calculate scores\n",
    "scores_o = cross_validate(forest_o, feature_train, response_train, cv=kFold, scoring=measures, n_jobs=number_of_jobs)\n",
    "display(scores_o)\n",
    "scores_m = cross_validate(forest_m, feature_train, response_train, cv=kFold, scoring=measures, n_jobs=number_of_jobs)\n",
    "display(scores_m)"
   ]
  },
  {
   "cell_type": "code",
   "execution_count": 19,
   "metadata": {},
   "outputs": [
    {
     "name": "stdout",
     "output_type": "stream",
     "text": [
      "Forest fitted and response Vector predicted with one random_state in 3.2.1.:\n",
      "Train set accuracy (CV=5):     0.7090958342757961\n",
      "Validation set scores (CV=5):  0.5920181583327123\n",
      "Test set accuracy:             0.8 \n",
      "\n",
      "Forest fitted and response Vector predicted with multiple (i) random_states in 3.2.2.:\n",
      "Train set accuracy (CV=5):     0.7083912219214115\n",
      "Validation set scores (CV=5):  0.5800339071465832\n",
      "Test set accuracy:             0.8112676056338028\n"
     ]
    }
   ],
   "source": [
    "# Print results\n",
    "print('Forest fitted and response Vector predicted with one random_state in 3.2.1.:')\n",
    "print('Train set accuracy (CV=5):    ', scores_o['train_accuracy'].mean())\n",
    "print('Validation set scores (CV=5): ', scores_o['test_accuracy'].mean())\n",
    "print('Test set accuracy:            ', forest_o.fit(feature_test, response_test).score(feature_test, response_test),'\\n')\n",
    "\n",
    "print('Forest fitted and response Vector predicted with multiple (i) random_states in 3.2.2.:')\n",
    "print('Train set accuracy (CV=5):    ', scores_m['train_accuracy'].mean())\n",
    "print('Validation set scores (CV=5): ', scores_m['test_accuracy'].mean())\n",
    "print('Test set accuracy:            ', forest_m.fit(feature_test, response_test).score(feature_test, response_test))"
   ]
  },
  {
   "cell_type": "markdown",
   "metadata": {},
   "source": [
    "### 3.3.5. Leave-one-out Cross-Validation"
   ]
  },
  {
   "cell_type": "code",
   "execution_count": 20,
   "metadata": {},
   "outputs": [
    {
     "name": "stdout",
     "output_type": "stream",
     "text": [
      "Forest fitted and response Vector predicted with one random_state in 3.2.1.:\n",
      "LOOCV accuracy on train set: 0.5927395028170221 \n",
      "\n",
      "Forest fitted and response Vector predicted with multiple (i) random_states in 3.2.2.:\n",
      "LOOCV accuracy on train set: 0.5923841590508258\n"
     ]
    }
   ],
   "source": [
    "# Import necessary function\n",
    "from sklearn.model_selection import LeaveOneOut\n",
    "\n",
    "# Create objects\n",
    "loocv = LeaveOneOut()\n",
    "\n",
    "# Calculate & print scores\n",
    "scores_o = cross_val_score(forest_o, feature_train, response_train)\n",
    "scores_m = cross_val_score(forest_m, feature_train, response_train)\n",
    "\n",
    "# Print results\n",
    "print('Forest fitted and response Vector predicted with one random_state in 3.2.1.:')\n",
    "print('LOOCV accuracy on train set:', np.mean(scores_o),'\\n')\n",
    "print('Forest fitted and response Vector predicted with multiple (i) random_states in 3.2.2.:')\n",
    "print('LOOCV accuracy on train set:', np.mean(scores_m))"
   ]
  },
  {
   "cell_type": "markdown",
   "metadata": {},
   "source": [
    "###   \n",
    "###   \n",
    "###     \n",
    "## 3.4. Precision Metrics"
   ]
  },
  {
   "cell_type": "markdown",
   "metadata": {},
   "source": [
    "### 3.4.1. Confusion Matrix"
   ]
  },
  {
   "cell_type": "code",
   "execution_count": 22,
   "metadata": {},
   "outputs": [
    {
     "name": "stdout",
     "output_type": "stream",
     "text": [
      "Forest fitted and response Vector predicted with multiple (i) random_states in 3.2.2.:\n",
      "[[ 78 227]\n",
      " [ 49 356]]\n",
      "Wrong predictions:   276\n",
      "Correct predictions: 434 \n",
      "\n",
      "Forest fitted and response Vector predicted with one random_state in 3.2.1.:\n",
      "[[ 84 221]\n",
      " [ 70 335]]\n",
      "Wrong predictions:   291\n",
      "Correct predictions: 419 \n",
      "\n"
     ]
    }
   ],
   "source": [
    "# Import necessary function\n",
    "from sklearn import metrics\n",
    "\n",
    "# Make and print Confusion Matrix\n",
    "confm_o = metrics.confusion_matrix(response_test, prediction_o)\n",
    "confm_m = metrics.confusion_matrix(response_test, prediction_m.resulting_prediction)\n",
    "\n",
    "\n",
    "# Define Variables\n",
    "TP_o = confm_o[1, 1]  # True positives\n",
    "TN_o = confm_o[0, 0]  # True negatives\n",
    "FP_o = confm_o[0, 1]  # False positives\n",
    "FN_o = confm_o[1, 0]  # False negatives\n",
    "\n",
    "TP_m = confm_m[1, 1]  # True positives\n",
    "TN_m = confm_m[0, 0]  # True negatives\n",
    "FP_m = confm_m[0, 1]  # False positives\n",
    "FN_m = confm_m[1, 0]  # False negatives\n",
    "\n",
    "\n",
    "confm_m = metrics.confusion_matrix(response_test, prediction_m.resulting_prediction)\n",
    "print('Forest fitted and response Vector predicted with multiple (i) random_states in 3.2.2.:')\n",
    "print(confm_m)\n",
    "print('Wrong predictions:   '+str(FP_m+FN_m))\n",
    "print('Correct predictions: '+str(TP_m+TN_m),'\\n')\n",
    "\n",
    "print('Forest fitted and response Vector predicted with one random_state in 3.2.1.:')\n",
    "print(confm_o)\n",
    "print('Wrong predictions:   '+str(FP_o +FN_o))\n",
    "print('Correct predictions: '+str(TP_o+TN_o),'\\n')"
   ]
  },
  {
   "cell_type": "markdown",
   "metadata": {},
   "source": [
    "### 3.4.2. Score"
   ]
  },
  {
   "cell_type": "code",
   "execution_count": 24,
   "metadata": {},
   "outputs": [
    {
     "ename": "SyntaxError",
     "evalue": "invalid syntax (<ipython-input-24-4da6a897a959>, line 2)",
     "output_type": "error",
     "traceback": [
      "\u001b[0;36m  File \u001b[0;32m\"<ipython-input-24-4da6a897a959>\"\u001b[0;36m, line \u001b[0;32m2\u001b[0m\n\u001b[0;31m    print(metrics.accuracy_score(response_test,  prediction_o)+0'\\n')\u001b[0m\n\u001b[0m                                                                   ^\u001b[0m\n\u001b[0;31mSyntaxError\u001b[0m\u001b[0;31m:\u001b[0m invalid syntax\n"
     ]
    }
   ],
   "source": [
    "print('Score for Forest fitted and response Vector predicted with one random_state in 3.2.1.:')\n",
    "print(metrics.accuracy_score(response_test,  prediction_o)+0'\\n')\n",
    "print('Score for Forest fitted and response Vector predicted with multiple (i) random_states in 3.2.2.:')\n",
    "print(metrics.accuracy_score(response_test,  prediction_m.resulting_prediction))"
   ]
  },
  {
   "cell_type": "markdown",
   "metadata": {},
   "source": [
    "### 3.4.3. Error Rate"
   ]
  },
  {
   "cell_type": "code",
   "execution_count": 25,
   "metadata": {},
   "outputs": [
    {
     "name": "stdout",
     "output_type": "stream",
     "text": [
      "Error Rate for Forest fitted and response Vector predicted with one random_state in 3.2.1.:\n",
      "0.4098591549295775\n",
      "0.19999999999999996 \n",
      "\n",
      "Error Rate for Forest fitted and response Vector predicted with multiple (i) random_states in 3.2.2.:\n",
      "0.3887323943661972\n",
      "0.18873239436619715\n"
     ]
    }
   ],
   "source": [
    "print('Error Rate for Forest fitted and response Vector predicted with one random_state in 3.2.1.:')\n",
    "print(1 - metrics.accuracy_score(response_test, prediction_o))\n",
    "print(1 - forest_o.score(feature_test,response_test),'\\n')\n",
    "print('Error Rate for Forest fitted and response Vector predicted with multiple (i) random_states in 3.2.2.:')\n",
    "print(1 - metrics.accuracy_score(response_test, prediction_m.resulting_prediction))\n",
    "print(1 - forest_m.score(feature_test,response_test))"
   ]
  },
  {
   "cell_type": "markdown",
   "metadata": {},
   "source": [
    "### 3.4.4. Specifity\n",
    "\n",
    "Fraction of correctly predicted negatives ('price down')"
   ]
  },
  {
   "cell_type": "code",
   "execution_count": 26,
   "metadata": {},
   "outputs": [
    {
     "name": "stdout",
     "output_type": "stream",
     "text": [
      "Specifity for Forest fitted and response Vector predicted with one random_state in 3.2.1.:\n",
      "0.2754098360655738 \n",
      "\n",
      "Specifity for Forest fitted and response Vector predicted with multiple (i) random_states in 3.2.2.:\n",
      "0.25573770491803277\n"
     ]
    }
   ],
   "source": [
    "print('Specifity for Forest fitted and response Vector predicted with one random_state in 3.2.1.:')\n",
    "print(TN_o / (TN_o + FP_o),'\\n')\n",
    "\n",
    "print('Specifity for Forest fitted and response Vector predicted with multiple (i) random_states in 3.2.2.:')\n",
    "print(TN_m / (TN_m + FP_m))"
   ]
  },
  {
   "cell_type": "markdown",
   "metadata": {},
   "source": [
    "### 3.4.5. Sensitivity / Recall\n",
    "\n",
    "Fraction of correctly predicted 'positives' ('price up')\n",
    "###### True Positive Rate"
   ]
  },
  {
   "cell_type": "code",
   "execution_count": 29,
   "metadata": {},
   "outputs": [
    {
     "name": "stdout",
     "output_type": "stream",
     "text": [
      "Recall for Forest fitted and response Vector predicted with one random_state in 3.2.1.:\n",
      "0.8271604938271605\n",
      "0.8271604938271605 \n",
      "\n",
      "Recall for Forest fitted and response Vector predicted with multiple (i) random_states in 3.2.2.:\n",
      "0.8790123456790123\n",
      "0.8790123456790123\n"
     ]
    }
   ],
   "source": [
    "print('Recall for Forest fitted and response Vector predicted with one random_state in 3.2.1.:')\n",
    "print(TP_o / (TP_o + FN_o))\n",
    "print(metrics.recall_score(response_test, prediction_o),'\\n')\n",
    "print('Recall for Forest fitted and response Vector predicted with multiple (i) random_states in 3.2.2.:')\n",
    "print(TP_m / (TP_m + FN_m))\n",
    "print(metrics.recall_score(response_test, prediction_m.resulting_prediction))"
   ]
  },
  {
   "cell_type": "markdown",
   "metadata": {},
   "source": [
    "### 3.4.5. Precision\n",
    "\n",
    "How precise a positive (up) is predicted."
   ]
  },
  {
   "cell_type": "code",
   "execution_count": 30,
   "metadata": {},
   "outputs": [
    {
     "name": "stdout",
     "output_type": "stream",
     "text": [
      "Precision for Forest fitted and response Vector predicted with one random_state in 3.2.1.:\n",
      "0.6025179856115108\n",
      "0.6025179856115108 \n",
      "\n",
      "Precision for Forest fitted and response Vector predicted with multiple (i) random_states in 3.2.2.:\n",
      "0.6106346483704974\n",
      "0.6106346483704974\n"
     ]
    }
   ],
   "source": [
    "print('Precision for Forest fitted and response Vector predicted with one random_state in 3.2.1.:')\n",
    "print(TP_o / (TP_o + FP_o))\n",
    "print(metrics.precision_score(response_test, prediction_o),'\\n')\n",
    "print('Precision for Forest fitted and response Vector predicted with multiple (i) random_states in 3.2.2.:')\n",
    "print(TP_m / (TP_m + FP_m))\n",
    "print(metrics.precision_score(response_test, prediction_m.resulting_prediction))"
   ]
  },
  {
   "cell_type": "markdown",
   "metadata": {},
   "source": [
    "### 3.4.6. F-Score"
   ]
  },
  {
   "cell_type": "code",
   "execution_count": 32,
   "metadata": {},
   "outputs": [
    {
     "name": "stdout",
     "output_type": "stream",
     "text": [
      "F-Score for Forest fitted and response Vector predicted with one random_state in 3.2.1.:\n",
      "0.6971904266389177\n",
      "Classification Report for this Forest:\n",
      "             precision    recall  f1-score   support\n",
      "\n",
      "          0       0.55      0.28      0.37       305\n",
      "          1       0.60      0.83      0.70       405\n",
      "\n",
      "avg / total       0.58      0.59      0.55       710\n",
      " \n",
      "\n",
      "F-Score for Forest fitted and response Vector predicted with multiple (i) random_states in 3.2.2.:\n",
      "0.7206477732793521\n",
      "Classification Report for this Forest:\n",
      "             precision    recall  f1-score   support\n",
      "\n",
      "          0       0.61      0.26      0.36       305\n",
      "          1       0.61      0.88      0.72       405\n",
      "\n",
      "avg / total       0.61      0.61      0.57       710\n",
      "\n"
     ]
    }
   ],
   "source": [
    "print('F-Score for Forest fitted and response Vector predicted with one random_state in 3.2.1.:')\n",
    "print(metrics.f1_score(response_test, prediction_o))\n",
    "\n",
    "print('Classification Report for this Forest:')\n",
    "print(metrics.classification_report(response_test, prediction_o),'\\n')\n",
    "\n",
    "print('F-Score for Forest fitted and response Vector predicted with multiple (i) random_states in 3.2.2.:')\n",
    "print(metrics.f1_score(response_test, prediction_m.resulting_prediction))\n",
    "\n",
    "print('Classification Report for this Forest:')\n",
    "print(metrics.classification_report(response_test, prediction_m.resulting_prediction))"
   ]
  }
 ],
 "metadata": {
  "kernelspec": {
   "display_name": "Python 3",
   "language": "python",
   "name": "python3"
  },
  "language_info": {
   "codemirror_mode": {
    "name": "ipython",
    "version": 3
   },
   "file_extension": ".py",
   "mimetype": "text/x-python",
   "name": "python",
   "nbconvert_exporter": "python",
   "pygments_lexer": "ipython3",
   "version": "3.6.4"
  }
 },
 "nbformat": 4,
 "nbformat_minor": 2
}
