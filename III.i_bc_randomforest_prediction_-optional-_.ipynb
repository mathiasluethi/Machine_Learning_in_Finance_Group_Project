{
 "cells": [
  {
   "cell_type": "markdown",
   "metadata": {},
   "source": [
    "### Introduction to Machine Learning, UZH FS18, Group Project\n",
    "\n",
    "### Group 2: Barbara Capl, Mathias Lüthi, Pamela Matias, Stefanie Rentsch\n",
    "\n",
    "\n",
    "#     \n",
    "# II.i Prediction / Classification with Random Forest\n",
    "# (OPTIONAL)"
   ]
  },
  {
   "cell_type": "code",
   "execution_count": null,
   "metadata": {},
   "outputs": [],
   "source": [
    "# hide unnecessary warnings (\"depreciation\" of packages etc.)\n",
    "import warnings\n",
    "warnings.filterwarnings('ignore')from sklearn import preprocessing\n",
    "\n",
    "\n",
    "# import packages\n",
    "import numpy as np\n",
    "import pandas as pd\n",
    "import matplotlib.pyplot as plt\n",
    "from sklearn.ensemble import RandomForestClassifier"
   ]
  },
  {
   "cell_type": "markdown",
   "metadata": {},
   "source": [
    "# A. Features pre-selected with RandomForestClassifier"
   ]
  },
  {
   "cell_type": "markdown",
   "metadata": {},
   "source": [
    "## A.1. Prediction of Response Vector with Random Forest"
   ]
  },
  {
   "cell_type": "markdown",
   "metadata": {},
   "source": [
    "#### Version 1: only ratios as predictive features"
   ]
  },
  {
   "cell_type": "code",
   "execution_count": 1,
   "metadata": {},
   "outputs": [
    {
     "ename": "NameError",
     "evalue": "name 'RandomForestClassifier' is not defined",
     "output_type": "error",
     "traceback": [
      "\u001b[0;31m---------------------------------------\u001b[0m",
      "\u001b[0;31mNameError\u001b[0mTraceback (most recent call last)",
      "\u001b[0;32m<ipython-input-1-c11ae4a4a8f4>\u001b[0m in \u001b[0;36m<module>\u001b[0;34m()\u001b[0m\n\u001b[1;32m      1\u001b[0m \u001b[0;31m# Test prediction of y1_s_test with the test feature matrix: gives the prediction vector\u001b[0m\u001b[0;34m\u001b[0m\u001b[0;34m\u001b[0m\u001b[0m\n\u001b[1;32m      2\u001b[0m \u001b[0;34m\u001b[0m\u001b[0m\n\u001b[0;32m----> 3\u001b[0;31m \u001b[0mforest_1_s\u001b[0m \u001b[0;34m=\u001b[0m \u001b[0mRandomForestClassifier\u001b[0m\u001b[0;34m(\u001b[0m\u001b[0mrandom_state\u001b[0m \u001b[0;34m=\u001b[0m \u001b[0;36m1\u001b[0m\u001b[0;34m)\u001b[0m\u001b[0;34m\u001b[0m\u001b[0m\n\u001b[0m\u001b[1;32m      4\u001b[0m \u001b[0mforest_1_s\u001b[0m\u001b[0;34m.\u001b[0m\u001b[0mmax_depth\u001b[0m \u001b[0;34m=\u001b[0m \u001b[0;36m8\u001b[0m\u001b[0;34m\u001b[0m\u001b[0m\n\u001b[1;32m      5\u001b[0m \u001b[0mforest_1_s\u001b[0m\u001b[0;34m.\u001b[0m\u001b[0mfit\u001b[0m\u001b[0;34m(\u001b[0m\u001b[0mX1_s_train\u001b[0m\u001b[0;34m,\u001b[0m \u001b[0my1_s_train\u001b[0m\u001b[0;34m)\u001b[0m\u001b[0;34m\u001b[0m\u001b[0m\n",
      "\u001b[0;31mNameError\u001b[0m: name 'RandomForestClassifier' is not defined"
     ]
    }
   ],
   "source": [
    "# Import feature-selected Feature Matrix X and response Vector y\n",
    "X1_train_s = pd.read_csv('Data/generated_splits/X1_train_s.csv')\n",
    "y1_train = pd.read_csv('Data/generated_splits/y1_train.csv')\n",
    "\n",
    "X1_test_s = pd.read_csv('Data/generated_splits/X1_test_s.csv')\n",
    "y1_test = pd.read_csv('Data/generated_splits/y1_test.csv')\n",
    "\n",
    "feature_labels_1_s = pd.read_csv('Data/generated_splits/feature_labels_1_s.csv')\n",
    "\n",
    "\n",
    "# Test prediction of y1_s_test with the test feature matrix: gives the prediction vector\n",
    "forest_1_s = RandomForestClassifier(random_state = 1)\n",
    "forest_1_s.max_depth = 8\n",
    "forest_1_s.fit(X1_train_s, y1_train)\n",
    "\n",
    "prediction_1_s = forest_1_s.predict(X1_test_s)\n",
    "\n",
    "\n",
    "print(\"\")\n",
    "print('Predicted Response Vector (First 10)')\n",
    "display(prediction_1_s[0:10])\n",
    "\n",
    "print(\"\")\n",
    "print('For Comparison: Test-Response-Vector (First 10)')\n",
    "display(np.array(y1_test[0:10]))"
   ]
  },
  {
   "cell_type": "markdown",
   "metadata": {},
   "source": [
    "#### Version 2: ratios + seasonality + other market data"
   ]
  },
  {
   "cell_type": "code",
   "execution_count": null,
   "metadata": {},
   "outputs": [],
   "source": [
    "# Import feature-selected Feature Matrix X and response Vector y\n",
    "X2_train_s = pd.read_csv('Data/generated_splits/X2_train_s.csv')\n",
    "y2_train = pd.read_csv('Data/generated_splits/y2_train.csv')\n",
    "\n",
    "X2_test_s = pd.read_csv('Data/generated_splits/X2_test_s.csv')\n",
    "y2_test = pd.read_csv('Data/generated_splits/y2_test.csv')\n",
    "\n",
    "feature_labels_2_s = pd.read_csv('Data/generated_splits/feature_labels_2_s.csv')\n",
    "\n",
    "\n",
    "# Test prediction of y2_s_test with the test feature matrix: gives the prediction vector\n",
    "forest_2_s = RandomForestClassifier(random_state = 1)\n",
    "forest_2_s.max_depth = 8\n",
    "forest_2_s.fit(X2_train_s, y2_train)\n",
    "\n",
    "prediction_2_s = forest_2_s.predict(X2_test_s)\n",
    "\n",
    "\n",
    "print(\"\")\n",
    "print('Predicted Response Vector (First 10)')\n",
    "display(prediction_2_s[0:10])\n",
    "\n",
    "print(\"\")\n",
    "print('For Comparison: Test-Response-Vector (First 10)')\n",
    "display(np.array(y2_test[0:10]))"
   ]
  },
  {
   "cell_type": "markdown",
   "metadata": {},
   "source": [
    "## A.2. Cross-Validation of Prediction-Results"
   ]
  },
  {
   "cell_type": "markdown",
   "metadata": {},
   "source": [
    "#### Version 1: only ratios as predictive features"
   ]
  },
  {
   "cell_type": "code",
   "execution_count": null,
   "metadata": {},
   "outputs": [],
   "source": [
    "# Calculate percentage of of ones in the test response vector\n",
    "print('Ratio of Ones (Test 1)   =  ' + str(y1_test_s.sum() / y1_test_s.size))\n",
    "\n",
    "# Just to be sure the ones are distributed ca.the same in test and train response vector, check this:\n",
    "print('Ratio of Ones (Train 1)  =  ' + str(y1_train.sum() / y1_train.size))\n",
    "\n",
    "# Calculate precentage of ones predicted with the model\n",
    "print('Score (Prediction 1)     =  ' + str(prediction_1_s.sum() / prediction_1_s.size))\n",
    "\n",
    "# Calculate the score surplus above the test-set response vector score\n",
    "print('Score Surplus Prediction over Guess = ' + str((prediction_1_s.sum()/prediction_1_s.size) - \n",
    "                                                     (y1_test.sum()/y1_test.size)))\n"
   ]
  },
  {
   "cell_type": "markdown",
   "metadata": {},
   "source": [
    "#### Version 2: ratios + seasonality + other market data"
   ]
  },
  {
   "cell_type": "code",
   "execution_count": null,
   "metadata": {},
   "outputs": [],
   "source": [
    "# Calculate percentage of of ones in the test response vector\n",
    "print('Ratio of Ones (Test 2)   =  ' + str(y2_test.sum() / y2_test.size))\n",
    "\n",
    "# Just to be sure the ones are distributed ca.the same in test and train response vector, check this:\n",
    "print('Ratio of Ones (Train 2)  =  ' + str(y2_train.sum() / y2_train.size))\n",
    "\n",
    "# Calculate precentage of ones predicted with the model\n",
    "print('Score (Prediction 2)     =  ' + str(prediction_2_s.sum() / prediction_2_s.size))\n",
    "\n",
    "# Calculate the score surplus above the test-set response vector score\n",
    "print('Score Surplus Prediction over Guess = ' + str((prediction_2_s.sum()/prediction_2_s.size) - \n",
    "                                                     (y2_test.sum()/y2_test.size)))\n"
   ]
  },
  {
   "cell_type": "markdown",
   "metadata": {},
   "source": [
    "# B. Features pre-selected with PCA"
   ]
  },
  {
   "cell_type": "markdown",
   "metadata": {},
   "source": [
    "#### Version 1: only ratios as predictive features"
   ]
  },
  {
   "cell_type": "code",
   "execution_count": null,
   "metadata": {},
   "outputs": [],
   "source": [
    "# Import\n",
    "X1_train_pca = pd.read_csv('Data/generated_splits/X1_train_pca.csv')\n",
    "y1_train = pd.read_csv('Data/generated_splits/X1_train.csv')\n",
    "\n",
    "X1_test_pca = pd.read_csv('Data/generated_splits/X1_test_pca.csv')\n",
    "y1_test = pd.read_csv('Data/generated_splits/X1_test.csv')\n",
    "\n",
    "# Make Forest\n",
    "forest_1 = RandomForestClassifier(random_state = 1)\n",
    "forest_1.max_depth = 8\n",
    "forest_1.fit(X1_train_pca, y1_train)\n",
    "\n",
    "prediction_1 = forest_1.predict(X1_test_pca)\n",
    "\n",
    "display(prediction_1[1:5])\n",
    "\n",
    "\n",
    "print('Sum of all Ones (Train) = ' + str(y1_train.sum() / y1_train.size))\n",
    "print('Score (Prediction) =  ' + str(prediction_1.sum() / prediction_1.size))\n",
    "print(\"\")\n"
   ]
  },
  {
   "cell_type": "markdown",
   "metadata": {},
   "source": [
    "#### Version 2: ratios + seasonality + other market data"
   ]
  },
  {
   "cell_type": "code",
   "execution_count": null,
   "metadata": {},
   "outputs": [],
   "source": [
    "# Import\n",
    "X2_train_pca = pd.read_csv('Data/generated_splits/X2_train_pca.csv')\n",
    "y2_train = pd.read_csv('Data/generated_splits/X2_train.csv')\n",
    "\n",
    "X2_test_pca = pd.read_csv('Data/generated_splits/X2_test_pca.csv')\n",
    "y2_test = pd.read_csv('Data/generated_splits/X2_test.csv')\n",
    "\n",
    "# Make Forest\n",
    "forest_2 = RandomForestClassifier(random_state = 1)\n",
    "forest_2.max_depth = 8\n",
    "forest_2.fit(X2_train_pca, y2_train)\n",
    "\n",
    "prediction_2 = forest_2.predict(X2_test_pca)\n",
    "\n",
    "display(prediction_2[1:5])\n",
    "\n",
    "\n",
    "print('Sum of all Ones (Train) = ' + str(y2_train.sum() / y2_train.size))\n",
    "print('Score (Prediction) =  ' + str(prediction_2.sum() / prediction_2.size))\n",
    "print(\"\")"
   ]
  }
 ],
 "metadata": {
  "kernelspec": {
   "display_name": "Python 3",
   "language": "python",
   "name": "python3"
  },
  "language_info": {
   "codemirror_mode": {
    "name": "ipython",
    "version": 3
   },
   "file_extension": ".py",
   "mimetype": "text/x-python",
   "name": "python",
   "nbconvert_exporter": "python",
   "pygments_lexer": "ipython3",
   "version": "3.6.4"
  }
 },
 "nbformat": 4,
 "nbformat_minor": 2
}
