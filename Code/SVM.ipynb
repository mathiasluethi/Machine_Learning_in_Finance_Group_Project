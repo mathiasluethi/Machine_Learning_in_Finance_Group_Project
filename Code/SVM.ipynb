{
 "cells": [
  {
   "cell_type": "code",
   "execution_count": 1,
   "metadata": {},
   "outputs": [
    {
     "name": "stderr",
     "output_type": "stream",
     "text": [
      "C:\\ProgramData\\Anaconda3\\lib\\site-packages\\statsmodels\\compat\\pandas.py:56: FutureWarning: The pandas.core.datetools module is deprecated and will be removed in a future version. Please use the pandas.tseries module instead.\n",
      "  from pandas.core import datetools\n"
     ]
    }
   ],
   "source": [
    "# import packages\n",
    "import numpy as np\n",
    "import pandas as pd\n",
    "import matplotlib.pyplot as plt\n",
    "import statsmodels.api as sm\n",
    "import statsmodels.formula.api as smf\n",
    "plt.style.use('seaborn-whitegrid')\n",
    "from sklearn.pipeline import Pipeline\n",
    "from sklearn.model_selection import GridSearchCV\n",
    "from sklearn.preprocessing import StandardScaler\n",
    "from sklearn import metrics\n",
    "from sklearn.svm import SVC\n",
    "from sklearn.linear_model import LogisticRegression\n",
    "from sklearn.model_selection import train_test_split"
   ]
  },
  {
   "cell_type": "code",
   "execution_count": 2,
   "metadata": {},
   "outputs": [
    {
     "data": {
      "text/html": [
       "<div>\n",
       "<style scoped>\n",
       "    .dataframe tbody tr th:only-of-type {\n",
       "        vertical-align: middle;\n",
       "    }\n",
       "\n",
       "    .dataframe tbody tr th {\n",
       "        vertical-align: top;\n",
       "    }\n",
       "\n",
       "    .dataframe thead th {\n",
       "        text-align: right;\n",
       "    }\n",
       "</style>\n",
       "<table border=\"1\" class=\"dataframe\">\n",
       "  <thead>\n",
       "    <tr style=\"text-align: right;\">\n",
       "      <th></th>\n",
       "      <th></th>\n",
       "      <th>ewretx</th>\n",
       "      <th>vwretx</th>\n",
       "      <th>RETX</th>\n",
       "      <th>ewretd</th>\n",
       "      <th>sprtrn</th>\n",
       "      <th>VOL</th>\n",
       "      <th>vwretd</th>\n",
       "      <th>RET</th>\n",
       "      <th>SHRENDDT</th>\n",
       "      <th>ALTPRC</th>\n",
       "      <th>ALTPRCDT</th>\n",
       "      <th>PEG_trailing</th>\n",
       "      <th>SHROUT</th>\n",
       "      <th>staff_sale</th>\n",
       "      <th>ASKHI</th>\n",
       "      <th>PREDICTION</th>\n",
       "    </tr>\n",
       "    <tr>\n",
       "      <th>PERMNO</th>\n",
       "      <th>DATE</th>\n",
       "      <th></th>\n",
       "      <th></th>\n",
       "      <th></th>\n",
       "      <th></th>\n",
       "      <th></th>\n",
       "      <th></th>\n",
       "      <th></th>\n",
       "      <th></th>\n",
       "      <th></th>\n",
       "      <th></th>\n",
       "      <th></th>\n",
       "      <th></th>\n",
       "      <th></th>\n",
       "      <th></th>\n",
       "      <th></th>\n",
       "      <th></th>\n",
       "    </tr>\n",
       "  </thead>\n",
       "  <tbody>\n",
       "    <tr>\n",
       "      <th rowspan=\"5\" valign=\"top\">10107</th>\n",
       "      <th>2006-02-01</th>\n",
       "      <td>0.003476</td>\n",
       "      <td>-0.003552</td>\n",
       "      <td>-0.045471</td>\n",
       "      <td>0.004836</td>\n",
       "      <td>0.000453</td>\n",
       "      <td>11088149.0</td>\n",
       "      <td>-0.001637</td>\n",
       "      <td>-0.042273</td>\n",
       "      <td>20060330.0</td>\n",
       "      <td>26.87</td>\n",
       "      <td>20060228.0</td>\n",
       "      <td>10.280</td>\n",
       "      <td>10333369.0</td>\n",
       "      <td>0.0</td>\n",
       "      <td>28.0400</td>\n",
       "      <td>1.0</td>\n",
       "    </tr>\n",
       "    <tr>\n",
       "      <th>2006-03-01</th>\n",
       "      <td>0.035232</td>\n",
       "      <td>0.017585</td>\n",
       "      <td>0.012653</td>\n",
       "      <td>0.036978</td>\n",
       "      <td>0.011065</td>\n",
       "      <td>14514337.0</td>\n",
       "      <td>0.019053</td>\n",
       "      <td>0.012653</td>\n",
       "      <td>20060423.0</td>\n",
       "      <td>27.21</td>\n",
       "      <td>20060331.0</td>\n",
       "      <td>10.410</td>\n",
       "      <td>10225000.0</td>\n",
       "      <td>0.0</td>\n",
       "      <td>27.8900</td>\n",
       "      <td>0.0</td>\n",
       "    </tr>\n",
       "    <tr>\n",
       "      <th>2006-04-01</th>\n",
       "      <td>0.008497</td>\n",
       "      <td>0.011494</td>\n",
       "      <td>-0.112459</td>\n",
       "      <td>0.009791</td>\n",
       "      <td>0.012187</td>\n",
       "      <td>14689919.0</td>\n",
       "      <td>0.012965</td>\n",
       "      <td>-0.112459</td>\n",
       "      <td>20060629.0</td>\n",
       "      <td>24.15</td>\n",
       "      <td>20060428.0</td>\n",
       "      <td>9.239</td>\n",
       "      <td>10201203.0</td>\n",
       "      <td>0.0</td>\n",
       "      <td>27.7400</td>\n",
       "      <td>0.0</td>\n",
       "    </tr>\n",
       "    <tr>\n",
       "      <th>2006-05-01</th>\n",
       "      <td>-0.045982</td>\n",
       "      <td>-0.033025</td>\n",
       "      <td>-0.062112</td>\n",
       "      <td>-0.044331</td>\n",
       "      <td>-0.030917</td>\n",
       "      <td>23651189.0</td>\n",
       "      <td>-0.031045</td>\n",
       "      <td>-0.058385</td>\n",
       "      <td>20060629.0</td>\n",
       "      <td>22.65</td>\n",
       "      <td>20060531.0</td>\n",
       "      <td>0.709</td>\n",
       "      <td>10201203.0</td>\n",
       "      <td>0.0</td>\n",
       "      <td>24.2900</td>\n",
       "      <td>1.0</td>\n",
       "    </tr>\n",
       "    <tr>\n",
       "      <th>2006-06-01</th>\n",
       "      <td>-0.010474</td>\n",
       "      <td>-0.001881</td>\n",
       "      <td>0.028698</td>\n",
       "      <td>-0.008479</td>\n",
       "      <td>0.000087</td>\n",
       "      <td>19980809.0</td>\n",
       "      <td>-0.000386</td>\n",
       "      <td>0.028698</td>\n",
       "      <td>20060817.0</td>\n",
       "      <td>23.30</td>\n",
       "      <td>20060630.0</td>\n",
       "      <td>0.730</td>\n",
       "      <td>10062000.0</td>\n",
       "      <td>0.0</td>\n",
       "      <td>23.4702</td>\n",
       "      <td>1.0</td>\n",
       "    </tr>\n",
       "  </tbody>\n",
       "</table>\n",
       "</div>"
      ],
      "text/plain": [
       "                     ewretx    vwretx      RETX    ewretd    sprtrn  \\\n",
       "PERMNO DATE                                                           \n",
       "10107  2006-02-01  0.003476 -0.003552 -0.045471  0.004836  0.000453   \n",
       "       2006-03-01  0.035232  0.017585  0.012653  0.036978  0.011065   \n",
       "       2006-04-01  0.008497  0.011494 -0.112459  0.009791  0.012187   \n",
       "       2006-05-01 -0.045982 -0.033025 -0.062112 -0.044331 -0.030917   \n",
       "       2006-06-01 -0.010474 -0.001881  0.028698 -0.008479  0.000087   \n",
       "\n",
       "                          VOL    vwretd       RET    SHRENDDT  ALTPRC  \\\n",
       "PERMNO DATE                                                             \n",
       "10107  2006-02-01  11088149.0 -0.001637 -0.042273  20060330.0   26.87   \n",
       "       2006-03-01  14514337.0  0.019053  0.012653  20060423.0   27.21   \n",
       "       2006-04-01  14689919.0  0.012965 -0.112459  20060629.0   24.15   \n",
       "       2006-05-01  23651189.0 -0.031045 -0.058385  20060629.0   22.65   \n",
       "       2006-06-01  19980809.0 -0.000386  0.028698  20060817.0   23.30   \n",
       "\n",
       "                     ALTPRCDT  PEG_trailing      SHROUT  staff_sale    ASKHI  \\\n",
       "PERMNO DATE                                                                    \n",
       "10107  2006-02-01  20060228.0        10.280  10333369.0         0.0  28.0400   \n",
       "       2006-03-01  20060331.0        10.410  10225000.0         0.0  27.8900   \n",
       "       2006-04-01  20060428.0         9.239  10201203.0         0.0  27.7400   \n",
       "       2006-05-01  20060531.0         0.709  10201203.0         0.0  24.2900   \n",
       "       2006-06-01  20060630.0         0.730  10062000.0         0.0  23.4702   \n",
       "\n",
       "                   PREDICTION  \n",
       "PERMNO DATE                    \n",
       "10107  2006-02-01         1.0  \n",
       "       2006-03-01         0.0  \n",
       "       2006-04-01         0.0  \n",
       "       2006-05-01         1.0  \n",
       "       2006-06-01         1.0  "
      ]
     },
     "execution_count": 2,
     "metadata": {},
     "output_type": "execute_result"
    }
   ],
   "source": [
    "# read Data\n",
    "data_bereinigt = pd.read_csv(\"../Data/data_bereinigt.csv\")\n",
    "data_bereinigt = data_bereinigt.set_index([\"PERMNO\", \"DATE\"])\n",
    "data_bereinigt.head()"
   ]
  },
  {
   "cell_type": "code",
   "execution_count": 3,
   "metadata": {},
   "outputs": [],
   "source": [
    "# Create pipeline object with standard scaler and SVC estimator\n",
    "pipe = Pipeline([('scaler', StandardScaler()), \n",
    "                 ('classifier', SVC(random_state=0))])"
   ]
  },
  {
   "cell_type": "code",
   "execution_count": 4,
   "metadata": {},
   "outputs": [],
   "source": [
    "# Define parameter grid\n",
    "param_grid = [{'scaler': [StandardScaler()],\n",
    "               'classifier': [SVC(kernel='rbf')],\n",
    "               'classifier__gamma': [1, 10],\n",
    "               'classifier__C': [10, 100]},\n",
    "              {'scaler': [StandardScaler(), None],\n",
    "               'classifier': [LogisticRegression()],\n",
    "               'classifier__C': [10, 100]}]"
   ]
  },
  {
   "cell_type": "code",
   "execution_count": 5,
   "metadata": {},
   "outputs": [],
   "source": [
    "# Assign features & response to X and y (p.117)\n",
    "X = data_bereinigt.drop([\"PREDICTION\"], axis=1)\n",
    "y = data_bereinigt['PREDICTION']# Train/Test split (p. 104ff) "
   ]
  },
  {
   "cell_type": "code",
   "execution_count": 6,
   "metadata": {},
   "outputs": [],
   "source": [
    "# Train/Test split (p. 104ff) \n",
    "from sklearn.model_selection import train_test_split\n",
    "X_train, X_test, y_train, y_test = train_test_split(X, y, test_size = 0.3, random_state =0, stratify =y)"
   ]
  },
  {
   "cell_type": "code",
   "execution_count": null,
   "metadata": {},
   "outputs": [],
   "source": [
    "# Variablen standardisieren\n",
    "sc = StandardScaler ()\n",
    "X_train_std =  sc.fit_transform(X_train )\n",
    "X_test_std = sc.transform(X_test)"
   ]
  },
  {
   "cell_type": "code",
   "execution_count": null,
   "metadata": {},
   "outputs": [],
   "source": [
    "# Run grid search\n",
    "grid = GridSearchCV(pipe, param_grid, cv=5, n_jobs=-1)\n",
    "grid.fit(X_train_std, y_train)"
   ]
  },
  {
   "cell_type": "code",
   "execution_count": null,
   "metadata": {},
   "outputs": [],
   "source": [
    "# Print results\n",
    "print('Best CV accuracy: {:.2f}'.format(grid.best_score_))\n",
    "print('Test score:       {:.2f}'.format(grid.score(X_test_std, y_test)))\n",
    "print('Best parameters: {}'.format(grid.best_params_))"
   ]
  },
  {
   "cell_type": "code",
   "execution_count": null,
   "metadata": {},
   "outputs": [],
   "source": [
    "# SVA (Daten skalieren)\n",
    "    #  Create object\n",
    "svm_linear = SVC(kernel = \"linear\", C=1.0)\n",
    "svm_linear\n",
    "\n",
    "# Fit linear SVM to standardized training set\n",
    "svm_linear.fit(X_train_std, y_train)"
   ]
  },
  {
   "cell_type": "code",
   "execution_count": null,
   "metadata": {},
   "outputs": [],
   "source": [
    "# Print results\n",
    "print(\"Observed probability of up/down?: {: .2f}\"\n",
    "       .format(np.count_nonzero(y==0)/len(y)))\n",
    "print(\"Train score: {: .2f}\"\n",
    "       .format(svm_linear.score(X_train_std, y_train)))\n",
    "print(\"Test score: {: .2f}\"\n",
    "       .format(svm_linear.score(X_test_std, y_test)))"
   ]
  },
  {
   "cell_type": "code",
   "execution_count": null,
   "metadata": {},
   "outputs": [],
   "source": [
    "# Predict   classes\n",
    "y_pred = svm_linear.predict(X_test_std)"
   ]
  },
  {
   "cell_type": "code",
   "execution_count": null,
   "metadata": {},
   "outputs": [],
   "source": [
    "# Confusion Matrix\n",
    "print (\"Confusion matrix: \\n\", metrics.confusion_matrix(y_test, y_pred))"
   ]
  },
  {
   "cell_type": "code",
   "execution_count": null,
   "metadata": {},
   "outputs": [],
   "source": []
  }
 ],
 "metadata": {
  "kernelspec": {
   "display_name": "Python 3",
   "language": "python",
   "name": "python3"
  },
  "language_info": {
   "codemirror_mode": {
    "name": "ipython",
    "version": 3
   },
   "file_extension": ".py",
   "mimetype": "text/x-python",
   "name": "python",
   "nbconvert_exporter": "python",
   "pygments_lexer": "ipython3",
   "version": "3.6.4"
  }
 },
 "nbformat": 4,
 "nbformat_minor": 2
}
