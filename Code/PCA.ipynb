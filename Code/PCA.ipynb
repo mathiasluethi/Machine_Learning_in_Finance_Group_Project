{
 "cells": [
  {
   "cell_type": "code",
   "execution_count": 1,
   "metadata": {},
   "outputs": [
    {
     "name": "stderr",
     "output_type": "stream",
     "text": [
      "C:\\ProgramData\\Anaconda3\\lib\\site-packages\\statsmodels\\compat\\pandas.py:56: FutureWarning: The pandas.core.datetools module is deprecated and will be removed in a future version. Please use the pandas.tseries module instead.\n",
      "  from pandas.core import datetools\n"
     ]
    }
   ],
   "source": [
    "# import packages\n",
    "import numpy as np\n",
    "import pandas as pd\n",
    "import matplotlib.pyplot as plt\n",
    "import statsmodels.api as sm\n",
    "import statsmodels.formula.api as smf\n",
    "plt.style.use('seaborn-whitegrid')\n",
    "from sklearn.pipeline import Pipeline\n",
    "from sklearn.model_selection import GridSearchCV\n",
    "from sklearn.preprocessing import StandardScaler\n",
    "from sklearn import metrics\n",
    "from sklearn.svm import SVC\n",
    "from sklearn.linear_model import LogisticRegression\n",
    "from sklearn.model_selection import train_test_split"
   ]
  },
  {
   "cell_type": "code",
   "execution_count": 2,
   "metadata": {},
   "outputs": [
    {
     "data": {
      "text/html": [
       "<div>\n",
       "<style scoped>\n",
       "    .dataframe tbody tr th:only-of-type {\n",
       "        vertical-align: middle;\n",
       "    }\n",
       "\n",
       "    .dataframe tbody tr th {\n",
       "        vertical-align: top;\n",
       "    }\n",
       "\n",
       "    .dataframe thead th {\n",
       "        text-align: right;\n",
       "    }\n",
       "</style>\n",
       "<table border=\"1\" class=\"dataframe\">\n",
       "  <thead>\n",
       "    <tr style=\"text-align: right;\">\n",
       "      <th></th>\n",
       "      <th></th>\n",
       "      <th>SHRENDDT</th>\n",
       "      <th>BIDLO</th>\n",
       "      <th>ASKHI</th>\n",
       "      <th>PRC</th>\n",
       "      <th>VOL</th>\n",
       "      <th>RET</th>\n",
       "      <th>BID</th>\n",
       "      <th>ASK</th>\n",
       "      <th>SHROUT</th>\n",
       "      <th>ALTPRC</th>\n",
       "      <th>...</th>\n",
       "      <th>CFACPR_2.0</th>\n",
       "      <th>CFACPR_4.0</th>\n",
       "      <th>CFACPR_7.0</th>\n",
       "      <th>CFACPR_8.0</th>\n",
       "      <th>CFACSHR_1.0</th>\n",
       "      <th>CFACSHR_2.0</th>\n",
       "      <th>CFACSHR_4.0</th>\n",
       "      <th>CFACSHR_7.0</th>\n",
       "      <th>CFACSHR_8.0</th>\n",
       "      <th>PREDICTION</th>\n",
       "    </tr>\n",
       "    <tr>\n",
       "      <th>PERMNO</th>\n",
       "      <th>DATE</th>\n",
       "      <th></th>\n",
       "      <th></th>\n",
       "      <th></th>\n",
       "      <th></th>\n",
       "      <th></th>\n",
       "      <th></th>\n",
       "      <th></th>\n",
       "      <th></th>\n",
       "      <th></th>\n",
       "      <th></th>\n",
       "      <th></th>\n",
       "      <th></th>\n",
       "      <th></th>\n",
       "      <th></th>\n",
       "      <th></th>\n",
       "      <th></th>\n",
       "      <th></th>\n",
       "      <th></th>\n",
       "      <th></th>\n",
       "      <th></th>\n",
       "      <th></th>\n",
       "    </tr>\n",
       "  </thead>\n",
       "  <tbody>\n",
       "    <tr>\n",
       "      <th rowspan=\"3\" valign=\"top\">10107</th>\n",
       "      <th>2006-02-01</th>\n",
       "      <td>20060330.0</td>\n",
       "      <td>26.39</td>\n",
       "      <td>28.04</td>\n",
       "      <td>26.87</td>\n",
       "      <td>11088149.0</td>\n",
       "      <td>-0.042273</td>\n",
       "      <td>26.87</td>\n",
       "      <td>26.88</td>\n",
       "      <td>10333369.0</td>\n",
       "      <td>26.87</td>\n",
       "      <td>...</td>\n",
       "      <td>0.0</td>\n",
       "      <td>0.0</td>\n",
       "      <td>0.0</td>\n",
       "      <td>0.0</td>\n",
       "      <td>1.0</td>\n",
       "      <td>0.0</td>\n",
       "      <td>0.0</td>\n",
       "      <td>0.0</td>\n",
       "      <td>0.0</td>\n",
       "      <td>1.0</td>\n",
       "    </tr>\n",
       "    <tr>\n",
       "      <th>2006-03-01</th>\n",
       "      <td>20060423.0</td>\n",
       "      <td>26.85</td>\n",
       "      <td>27.89</td>\n",
       "      <td>27.21</td>\n",
       "      <td>14514337.0</td>\n",
       "      <td>0.012653</td>\n",
       "      <td>27.24</td>\n",
       "      <td>27.24</td>\n",
       "      <td>10225000.0</td>\n",
       "      <td>27.21</td>\n",
       "      <td>...</td>\n",
       "      <td>0.0</td>\n",
       "      <td>0.0</td>\n",
       "      <td>0.0</td>\n",
       "      <td>0.0</td>\n",
       "      <td>1.0</td>\n",
       "      <td>0.0</td>\n",
       "      <td>0.0</td>\n",
       "      <td>0.0</td>\n",
       "      <td>0.0</td>\n",
       "      <td>0.0</td>\n",
       "    </tr>\n",
       "    <tr>\n",
       "      <th>2006-04-01</th>\n",
       "      <td>20060629.0</td>\n",
       "      <td>24.15</td>\n",
       "      <td>27.74</td>\n",
       "      <td>24.15</td>\n",
       "      <td>14689919.0</td>\n",
       "      <td>-0.112459</td>\n",
       "      <td>24.16</td>\n",
       "      <td>24.16</td>\n",
       "      <td>10201203.0</td>\n",
       "      <td>24.15</td>\n",
       "      <td>...</td>\n",
       "      <td>0.0</td>\n",
       "      <td>0.0</td>\n",
       "      <td>0.0</td>\n",
       "      <td>0.0</td>\n",
       "      <td>1.0</td>\n",
       "      <td>0.0</td>\n",
       "      <td>0.0</td>\n",
       "      <td>0.0</td>\n",
       "      <td>0.0</td>\n",
       "      <td>0.0</td>\n",
       "    </tr>\n",
       "  </tbody>\n",
       "</table>\n",
       "<p>3 rows × 305 columns</p>\n",
       "</div>"
      ],
      "text/plain": [
       "                     SHRENDDT  BIDLO  ASKHI    PRC         VOL       RET  \\\n",
       "PERMNO DATE                                                                \n",
       "10107  2006-02-01  20060330.0  26.39  28.04  26.87  11088149.0 -0.042273   \n",
       "       2006-03-01  20060423.0  26.85  27.89  27.21  14514337.0  0.012653   \n",
       "       2006-04-01  20060629.0  24.15  27.74  24.15  14689919.0 -0.112459   \n",
       "\n",
       "                     BID    ASK      SHROUT  ALTPRC     ...      CFACPR_2.0  \\\n",
       "PERMNO DATE                                             ...                   \n",
       "10107  2006-02-01  26.87  26.88  10333369.0   26.87     ...             0.0   \n",
       "       2006-03-01  27.24  27.24  10225000.0   27.21     ...             0.0   \n",
       "       2006-04-01  24.16  24.16  10201203.0   24.15     ...             0.0   \n",
       "\n",
       "                   CFACPR_4.0  CFACPR_7.0  CFACPR_8.0  CFACSHR_1.0  \\\n",
       "PERMNO DATE                                                          \n",
       "10107  2006-02-01         0.0         0.0         0.0          1.0   \n",
       "       2006-03-01         0.0         0.0         0.0          1.0   \n",
       "       2006-04-01         0.0         0.0         0.0          1.0   \n",
       "\n",
       "                   CFACSHR_2.0  CFACSHR_4.0  CFACSHR_7.0  CFACSHR_8.0  \\\n",
       "PERMNO DATE                                                             \n",
       "10107  2006-02-01          0.0          0.0          0.0          0.0   \n",
       "       2006-03-01          0.0          0.0          0.0          0.0   \n",
       "       2006-04-01          0.0          0.0          0.0          0.0   \n",
       "\n",
       "                   PREDICTION  \n",
       "PERMNO DATE                    \n",
       "10107  2006-02-01         1.0  \n",
       "       2006-03-01         0.0  \n",
       "       2006-04-01         0.0  \n",
       "\n",
       "[3 rows x 305 columns]"
      ]
     },
     "execution_count": 2,
     "metadata": {},
     "output_type": "execute_result"
    }
   ],
   "source": [
    "# Daten einlesen\n",
    "data = pd.read_csv(\"Q:/UZH/FS18/Machine Learning/Projekt/Code/imputed_data.csv\")\n",
    "data = data.set_index([\"PERMNO\", \"DATE\"])\n",
    "\n",
    "data.head(3)"
   ]
  },
  {
   "cell_type": "code",
   "execution_count": 3,
   "metadata": {},
   "outputs": [],
   "source": [
    "# Extract labels\n",
    "feat_labels = data.columns[:-1]"
   ]
  },
  {
   "cell_type": "code",
   "execution_count": 4,
   "metadata": {},
   "outputs": [
    {
     "data": {
      "text/plain": [
       "PERMNO  DATE      \n",
       "10107   2006-02-01    1.0\n",
       "        2006-03-01    0.0\n",
       "        2006-04-01    0.0\n",
       "        2006-05-01    1.0\n",
       "        2006-06-01    1.0\n",
       "Name: PREDICTION, dtype: float64"
      ]
     },
     "metadata": {},
     "output_type": "display_data"
    }
   ],
   "source": [
    "# Assign features & response to X and y (p.117)\n",
    "X = data.drop([\"PRC_RET\", \"PREDICTION\", \"PRC_MOV\"], axis=1)\n",
    "y = data['PREDICTION']\n",
    "display(y.head())"
   ]
  },
  {
   "cell_type": "code",
   "execution_count": 5,
   "metadata": {},
   "outputs": [],
   "source": [
    "# Train/Test split (p. 104ff) \n",
    "from sklearn.model_selection import train_test_split\n",
    "X_train, X_test, y_train, y_test = train_test_split(X, y, test_size = 0.3, random_state =0, stratify =y)"
   ]
  },
  {
   "cell_type": "code",
   "execution_count": 6,
   "metadata": {},
   "outputs": [],
   "source": [
    "# Variablen standardisieren\n",
    "sc = StandardScaler ()\n",
    "X_train_std =  sc.fit_transform(X_train )\n",
    "X_test_std = sc.transform(X_test)"
   ]
  },
  {
   "cell_type": "code",
   "execution_count": 7,
   "metadata": {},
   "outputs": [],
   "source": [
    "# Feature selection (p. 146) Skript\n",
    "from sklearn.ensemble import RandomForestClassifier\n",
    "forest = RandomForestClassifier(random_state =1)\n",
    "forest.fit(X_train_std , y_train)\n",
    "importances = forest.feature_importances_   "
   ]
  },
  {
   "cell_type": "code",
   "execution_count": 9,
   "metadata": {},
   "outputs": [
    {
     "name": "stdout",
     "output_type": "stream",
     "text": [
      " 1 ewretx  0.0283\n",
      " 2 vwretx  0.0277\n",
      " 3 RETX    0.0254\n",
      " 4 ewretd  0.0249\n",
      " 5 sprtrn  0.0236\n",
      " 6 VOL     0.0236\n",
      " 7 vwretd  0.0231\n",
      " 8 RET     0.0229\n",
      " 9 SHRENDDT 0.0194\n",
      "10 ALTPRC  0.0193\n",
      "11 ALTPRCDT 0.0189\n",
      "12 PEG_trailing 0.0188\n",
      "13 SHROUT  0.0186\n",
      "14 staff_sale 0.0180\n",
      "15 ASKHI   0.0177\n"
     ]
    }
   ],
   "source": [
    "# sortieren\n",
    "indices = np.argsort(importances)[::-1]\n",
    "i = 0\n",
    "n = 15\n",
    "for i in range(n):\n",
    "    print('{0:2d} {1:7s} {2:6.4f}'.format(i+1, feat_labels[indices[i]], importances[indices[i]]))"
   ]
  },
  {
   "cell_type": "code",
   "execution_count": null,
   "metadata": {},
   "outputs": [],
   "source": []
  },
  {
   "cell_type": "code",
   "execution_count": null,
   "metadata": {},
   "outputs": [],
   "source": []
  }
 ],
 "metadata": {
  "kernelspec": {
   "display_name": "Python 3",
   "language": "python",
   "name": "python3"
  },
  "language_info": {
   "codemirror_mode": {
    "name": "ipython",
    "version": 3
   },
   "file_extension": ".py",
   "mimetype": "text/x-python",
   "name": "python",
   "nbconvert_exporter": "python",
   "pygments_lexer": "ipython3",
   "version": "3.6.4"
  }
 },
 "nbformat": 4,
 "nbformat_minor": 2
}
