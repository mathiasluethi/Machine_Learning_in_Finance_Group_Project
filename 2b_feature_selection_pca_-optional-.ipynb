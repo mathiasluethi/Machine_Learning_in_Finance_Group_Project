{
 "cells": [
  {
   "cell_type": "markdown",
   "metadata": {},
   "source": [
    "# Introduction to Machine Learning, UZH 2018, Group Project\n",
    "### Group 2: Barbara Capl, Mathias Lüthi, Pamela Matias, Stefanie Rentsch\n",
    "##       \n",
    "# 2. Feature Extraction with Principal Component Analysis (PCA)\n",
    "\n",
    "In this section we use the feature matrices and the response vector that we prepared in chapter 1.  \n",
    "\n",
    "#### We use two different versions (created in chapter 1):\n",
    "Version 1: Feature Matrix consists only of the Ratios                                                                        \n",
    "Version 2: Feature Matrix consists of Ratios + dummy variables for seasonality + other market data\n",
    "####     \n"
   ]
  },
  {
   "cell_type": "code",
   "execution_count": 1,
   "metadata": {},
   "outputs": [],
   "source": [
    "# hide unnecessary warnings (\"depreciation\" of packages etc.)\n",
    "import warnings\n",
    "warnings.filterwarnings('ignore')\n",
    "\n",
    "# import packages\n",
    "import numpy as np\n",
    "import pandas as pd\n",
    "import matplotlib as pl\n",
    "import matplotlib.pyplot as plt\n",
    "import statsmodels.api as sm\n",
    "import statsmodels.formula.api as smf\n",
    "import sklearn as skl\n",
    "from sklearn.svm import SVR\n",
    "from sklearn import preprocessing\n",
    "from sklearn.ensemble import RandomForestClassifier\n",
    "from sklearn.model_selection import train_test_split\n",
    "from sklearn.preprocessing import Imputer\n",
    "from sklearn.decomposition import PCA\n",
    "from sklearn.pipeline import Pipeline"
   ]
  },
  {
   "cell_type": "markdown",
   "metadata": {},
   "source": [
    "## 2.0. Choose which Feature Matrix (Version 1 or 2) you want to load in by choosing the Case\n",
    "### Available are: Case 1 and Case 2"
   ]
  },
  {
   "cell_type": "code",
   "execution_count": 2,
   "metadata": {},
   "outputs": [],
   "source": [
    "# If case = 1, Feature Matrix Version 1 is used (see description above below title)\n",
    "# If case = 2, feature matrix Version 2 is used (see description above below title)\n",
    "\n",
    "_CASE_ = 2"
   ]
  },
  {
   "cell_type": "markdown",
   "metadata": {},
   "source": [
    "## 2.1. Preparation\n"
   ]
  },
  {
   "cell_type": "markdown",
   "metadata": {},
   "source": [
    "### 2.1.1 Import the Response Vector and the Feature Matrices"
   ]
  },
  {
   "cell_type": "code",
   "execution_count": 3,
   "metadata": {},
   "outputs": [],
   "source": [
    "# Load in the response vector \n",
    "y = pd.read_csv('Data/generated_datasets/response_1.csv', sep=',', header=0)"
   ]
  },
  {
   "cell_type": "code",
   "execution_count": 4,
   "metadata": {},
   "outputs": [],
   "source": [
    "if _CASE_ == 1:\n",
    "    X = pd.read_csv('Data/generated_datasets/features_ratios_1.csv', sep=',', header=0)\n",
    "elif _CASE_ == 2:\n",
    "    X = pd.read_csv('Data/generated_datasets/features_additional_1.csv', sep=',', header=0)\n",
    "else: raise ValueError('_CASE_ value must be either 1 or 2')"
   ]
  },
  {
   "cell_type": "markdown",
   "metadata": {},
   "source": [
    "### 2.1.2. Train/ Test Split, fill missing values with median and standardize"
   ]
  },
  {
   "cell_type": "markdown",
   "metadata": {},
   "source": [
    "### Train/ Test Split"
   ]
  },
  {
   "cell_type": "code",
   "execution_count": 5,
   "metadata": {},
   "outputs": [
    {
     "name": "stdout",
     "output_type": "stream",
     "text": [
      "Type of feature_labels = <class 'list'>\n",
      "\n"
     ]
    }
   ],
   "source": [
    "# Train/test split, into 20% test size and 80% train size because it is a relatively small dataset\n",
    "X_train, X_test, y_train, y_test = train_test_split(X, y, test_size=0.2, random_state=0)\n",
    "\n",
    "# Extract the feature labels\n",
    "feature_labels = list(X)\n",
    "print('Type of feature_labels = ' + str(type(feature_labels)))\n",
    "print(\"\")"
   ]
  },
  {
   "cell_type": "markdown",
   "metadata": {},
   "source": [
    "### Fill missing values"
   ]
  },
  {
   "cell_type": "code",
   "execution_count": 6,
   "metadata": {},
   "outputs": [],
   "source": [
    "# Use a median fill for train\n",
    "imp = Imputer(missing_values=np.nan, strategy = 'median' , axis=0)\n",
    "imputed_dataset = pd.DataFrame(imp.fit_transform(X_train))\n",
    "imputed_dataset.columns = X_train.columns\n",
    "imputed_dataset.index = X_train.index\n",
    "X_train = imputed_dataset\n",
    "\n",
    "# Use a median fill for the test set\n",
    "imputed_dataset = pd.DataFrame(imp.fit_transform(X_test))\n",
    "imputed_dataset.columns = X_test.columns\n",
    "imputed_dataset.index = X_test.index\n",
    "X_test = imputed_dataset"
   ]
  },
  {
   "cell_type": "markdown",
   "metadata": {},
   "source": [
    "### Standardize"
   ]
  },
  {
   "cell_type": "code",
   "execution_count": 7,
   "metadata": {},
   "outputs": [],
   "source": [
    "# Standardization with sklearn StandardScaler\n",
    "standard_scaler = preprocessing.StandardScaler().fit(X_train)\n",
    "X_train = standard_scaler.transform(X_train)\n",
    "X_test = standard_scaler.transform(X_test)"
   ]
  },
  {
   "cell_type": "markdown",
   "metadata": {},
   "source": [
    "  \n",
    "## 2.2. Run PCA on whole Training Set for all possible PCAs (= number of columns)"
   ]
  },
  {
   "cell_type": "markdown",
   "metadata": {},
   "source": [
    "### 2.2.1.  Generate PCA object and show plots"
   ]
  },
  {
   "cell_type": "code",
   "execution_count": 8,
   "metadata": {},
   "outputs": [
    {
     "name": "stdout",
     "output_type": "stream",
     "text": [
      "\n",
      "Explained Variance, first 10 rows: \n",
      "[0.10034361 0.06682765 0.05833381 0.03643563 0.03484786 0.03279624\n",
      " 0.02692309 0.02387572 0.02227855 0.02150253]\n",
      "\n",
      "Explained Variance in Total = 1.0000000000000002\n",
      "\n",
      "Cumulative explained Variance, first 10 rows: \n",
      "[0.10034361 0.16717126 0.22550507 0.2619407  0.29678856 0.3295848\n",
      " 0.35650789 0.38038361 0.40266215 0.42416468]\n",
      "\n",
      "Maximal number (q_a) of PCs is: 181\n",
      "\n"
     ]
    }
   ],
   "source": [
    "# Run PCA for all possible PCAs\n",
    "pca_a = PCA().fit(X_train)\n",
    "\n",
    "# Define maximal number of principal components => the \"1\" in shape[1] refers to columns (\"0\" would be rows)\n",
    "q_a = X_train.shape[1]\n",
    "\n",
    "# Get the amount of variance that each PC explains\n",
    "# The eigenvalues represent the variance in the direction of the eigenvector\n",
    "# These numbers for each component are proportional to the Eigenvalues \n",
    "# This means that the ratio of the eigenvalue of the first principal component \n",
    "# to the eigenvalue of the second principal component is 0.16214649\n",
    "# SEE => https://stackoverflow.com/questions/37757172/finding-and-utilizing-eigenvalues-and-eigenvectors-from-pca-in-scikit-learn?rpca.q=1\n",
    "expl_var_a = pca_a.explained_variance_ratio_\n",
    "\n",
    "# Get cumulative sum of the PCA 1-q_a\n",
    "sum_expl_var_a = np.cumsum(expl_var_a)[:q_a]\n",
    "\n",
    "# because we run PCA for all possible PCAs, sum of al explained Variance of the training set should be 1\n",
    "\n",
    "print(\"\")\n",
    "print('Explained Variance, first 10 rows: ')\n",
    "print(expl_var_a[0:10])\n",
    "print(\"\")\n",
    "print('Explained Variance in Total = ' + str(expl_var_a.sum()))\n",
    "print(\"\")\n",
    "print('Cumulative explained Variance, first 10 rows: ')\n",
    "print(sum_expl_var_a[0:10])\n",
    "print(\"\")\n",
    "print('Maximal number (q_a) of PCs is: ' + str(q_a))\n",
    "print(\"\")"
   ]
  },
  {
   "cell_type": "markdown",
   "metadata": {},
   "source": [
    "### 2.2.2.  Plot cumulative explained variace"
   ]
  },
  {
   "cell_type": "code",
   "execution_count": 9,
   "metadata": {},
   "outputs": [
    {
     "data": {
      "image/png": "[encoded data removed]",
      "text/plain": [
       "<matplotlib.figure.Figure at 0x7f8b1cb4afd0>"
      ]
     },
     "metadata": {},
     "output_type": "display_data"
    }
   ],
   "source": [
    "# Plot curve with cumulative sum\n",
    "plt.plot(sum_expl_var_a)\n",
    "plt.title('Cumulative explained Variance')\n",
    "plt.xlabel('Number of Components')\n",
    "plt.ylabel('Ratio of Cum. explained Variance')\n",
    "plt.xticks(range(0, q_a + 1, 3))\n",
    "plt.show();"
   ]
  },
  {
   "cell_type": "markdown",
   "metadata": {},
   "source": [
    "### 2.1.2  Plot explained variance by single components"
   ]
  },
  {
   "cell_type": "code",
   "execution_count": 10,
   "metadata": {},
   "outputs": [
    {
     "data": {
      "image/png": "[encoded data removed]",
      "text/plain": [
       "<matplotlib.figure.Figure at 0x7f8b13cc2c88>"
      ]
     },
     "metadata": {},
     "output_type": "display_data"
    }
   ],
   "source": [
    "# Plot curve with explained variance\n",
    "plt.plot(expl_var_a)\n",
    "plt.title('Explained Variance by single components)')\n",
    "plt.xlabel('Number of Components')\n",
    "plt.ylabel('Ratio of Variance explained')\n",
    "plt.xticks(range(-1, q_a + 1, 4))\n",
    "plt.show();"
   ]
  },
  {
   "cell_type": "markdown",
   "metadata": {},
   "source": [
    "### 2.1.3 Plot feature importances"
   ]
  },
  {
   "cell_type": "code",
   "execution_count": 11,
   "metadata": {},
   "outputs": [
    {
     "data": {
      "image/png": "[encoded data removed]",
      "text/plain": [
       "<matplotlib.figure.Figure at 0x7f8b13bca9b0>"
      ]
     },
     "metadata": {},
     "output_type": "display_data"
    }
   ],
   "source": [
    "# Plot Feature Importances (both cumulative and idividual)\n",
    "plt.figure(figsize = (12, 6))\n",
    "plt.title('Feature Importances (best 30)')\n",
    "plt.bar(range(0, q_a), expl_var_a, align = 'center')\n",
    "plt.xticks(range(0, q_a + 1, 1))\n",
    "plt.xlim([0, 30])\n",
    "plt.xlabel('Principal Components Version a')\n",
    "plt.ylabel('Explained Variance Ratio')\n",
    "plt.step(range(1, q_a + 1), sum_expl_var_a, where = 'mid')\n",
    "plt.tight_layout();"
   ]
  },
  {
   "cell_type": "markdown",
   "metadata": {},
   "source": [
    "## 2.3.  Run PCA on whole Training Set for selected number 'q' of PCAs"
   ]
  },
  {
   "cell_type": "markdown",
   "metadata": {},
   "source": [
    "### 2.2.1. Choose number of Principal Components  and get them for further use"
   ]
  },
  {
   "cell_type": "code",
   "execution_count": 12,
   "metadata": {},
   "outputs": [
    {
     "name": "stdout",
     "output_type": "stream",
     "text": [
      "PCA Object; PCA(copy=True, iterated_power='auto', n_components=10, random_state=None,\n",
      "  svd_solver='auto', tol=0.0, whiten=False)\n",
      "\n",
      "Explained Variance, first 10 rows: \n",
      "[0.10034361 0.06682765 0.05833381 0.03643562 0.03484784 0.03279622\n",
      " 0.0269224  0.02387445 0.02225867 0.02147814]\n",
      "\n",
      "Explained Variance in Total = 0.4241184189912826\n",
      "\n",
      "Cumulative explained Variance, first 10 rows: \n",
      "[0.10034361 0.16717126 0.22550507 0.26194069 0.29678853 0.32958475\n",
      " 0.35650715 0.3803816  0.40264028 0.42411842]\n",
      "\n",
      "\n"
     ]
    }
   ],
   "source": [
    "# Define number of principal components we wish to extract\n",
    "q = 10\n",
    "\n",
    "# Create PCA object\n",
    "pca = PCA(n_components = q)\n",
    "\n",
    "# Fit PCA object to find first principal components\n",
    "pca.fit(X_train)\n",
    "\n",
    "print('PCA Object; ' + str(pca))\n",
    "\n",
    "# Get the amount of variance that each PC explains\n",
    "# The eigenvalues represent the variance in the direction of the eigenvector\n",
    "# These numbers for each component are proportional to the Eigenvalues \n",
    "# This means that the ratio of the eigenvalue of the first principal component \n",
    "# to the eigenvalue of the second principal component is 0.16214649\n",
    "# SEE => https://stackoverflow.com/questions/37757172/finding-and-utilizing-eigenvalues-and-eigenvectors-from-pca-in-scikit-learn?rpca.q=1\n",
    "expl_var = pca.explained_variance_ratio_\n",
    "\n",
    "# Get cumulative sum of the PCA 1-q_1\n",
    "sum_expl_var = np.cumsum(expl_var)[:q]\n",
    "\n",
    "# because we run PCA for only q_1 components, sum of al explained Variance of the training set should be LESS than 1\n",
    "\n",
    "print(\"\")\n",
    "print('Explained Variance, first 10 rows: ')\n",
    "print(expl_var[0:10])\n",
    "print(\"\")\n",
    "print('Explained Variance in Total = ' + str(expl_var.sum()))\n",
    "print(\"\")\n",
    "print('Cumulative explained Variance, first 10 rows: ')\n",
    "print(sum_expl_var[0:10])\n",
    "print(\"\")\n",
    "print(\"\")"
   ]
  },
  {
   "cell_type": "markdown",
   "metadata": {},
   "source": [
    "### 2.2.2.  Extract q_1 /q_2 number of features out of Training Set; Transform feature matrix with pca object"
   ]
  },
  {
   "cell_type": "code",
   "execution_count": 13,
   "metadata": {},
   "outputs": [
    {
     "data": {
      "text/plain": [
       "array([[ 1.6732363 , -4.59237567, -2.74509957, ..., -0.68535507,\n",
       "        -0.81511022,  0.92994685],\n",
       "       [-4.33397729,  1.30759315, -3.27532684, ..., -2.40525983,\n",
       "        -2.84737423,  1.51152318],\n",
       "       [-4.19463438, -7.11579455,  1.84433567, ...,  0.51796102,\n",
       "         2.14970677, -1.54758308],\n",
       "       ...,\n",
       "       [ 3.43128678, -2.05992232,  0.13744164, ..., -0.51081783,\n",
       "        -1.05392784,  1.11330623],\n",
       "       [-4.30182284, -2.32742361,  2.89085508, ...,  0.19554433,\n",
       "        -2.14377288, -1.74395068],\n",
       "       [ 5.22526937, -2.41720945, -3.50419383, ...,  0.23120908,\n",
       "         2.01034746,  0.05486023]])"
      ]
     },
     "metadata": {},
     "output_type": "display_data"
    },
    {
     "data": {
      "text/plain": [
       "(2836, 10)"
      ]
     },
     "metadata": {},
     "output_type": "display_data"
    },
    {
     "data": {
      "text/plain": [
       "(2836, 181)"
      ]
     },
     "metadata": {},
     "output_type": "display_data"
    }
   ],
   "source": [
    "# Extract q number of features according to pca analysis\n",
    "# WEBSITE => https://www.analyticsvidhya.com/blog/2016/03/practical-guide-principal-component-analysis-python/\n",
    "X_train_transformed = pca.fit_transform(X_train)\n",
    "\n",
    "# display properties\n",
    "display(X_train_transformed)\n",
    "len(X_train_transformed)\n",
    "display(X_train_transformed.shape)\n",
    "display(X_train.shape)\n",
    "\n",
    "# This gives the Eigenvalues?"
   ]
  },
  {
   "cell_type": "markdown",
   "metadata": {},
   "source": [
    "### 2.2.3. Transform new data (Test set) using the already fitted pca object and save the resulting feature matrices\n",
    "### (((NOT SURE IF ITS CORRECT))) "
   ]
  },
  {
   "cell_type": "markdown",
   "metadata": {},
   "source": [
    "##### PCA components (Dont know how to use this)"
   ]
  },
  {
   "cell_type": "code",
   "execution_count": 14,
   "metadata": {},
   "outputs": [],
   "source": [
    "# Print PCA components: every row is a principal component in the p-dimensional space\n",
    "# Principal axes in feature space, representing the directions of maximum variance in the data. \n",
    "# The components are sorted by explained_variance_ \n",
    "# SEE SKLEARN DOCUMENTATION\n",
    "\n",
    "#print(pca.components_)"
   ]
  },
  {
   "cell_type": "markdown",
   "metadata": {},
   "source": [
    "### Transform the Test Feature Matrix"
   ]
  },
  {
   "cell_type": "code",
   "execution_count": 15,
   "metadata": {},
   "outputs": [],
   "source": [
    "# Goal: Test Set has the same features as training set\n",
    "X_train_transformed = pca.fit_transform(X_train)\n",
    "X_test_transformed = pca.transform(X_test)"
   ]
  },
  {
   "cell_type": "markdown",
   "metadata": {},
   "source": [
    "### Save PCA- transformed Fature Matrices and the Respose Vector"
   ]
  },
  {
   "cell_type": "code",
   "execution_count": 16,
   "metadata": {},
   "outputs": [],
   "source": [
    "if _CASE_ == 1:\n",
    "    np.save('Data/generated_splits/features_selected_pca/X1_train_p.npy', X_train_transformed)\n",
    "    np.save('Data/generated_splits/features_selected_pca/X1_test_p.npy', X_test_transformed)\n",
    "    np.save('Data/generated_splits/features_selected_pca/y1_train_p.npy', y_train)\n",
    "    np.save('Data/generated_splits/features_selected_pca/y1_test_p.npy', y_test)\n",
    "elif _CASE_ == 2:\n",
    "    np.save('Data/generated_splits/features_selected_pca/X2_train_p.npy', X_train_transformed)\n",
    "    np.save('Data/generated_splits/features_selected_pca/X2_test_p.npy', X_test_transformed)\n",
    "    np.save('Data/generated_splits/features_selected_pca/y2_train_p.npy', y_train)\n",
    "    np.save('Data/generated_splits/features_selected_pca/y2_test_p.npy', y_test)\n",
    "else: raise ValueError('_CASE_ value must be either 1 or 2')\n",
    "    "
   ]
  }
 ],
 "metadata": {
  "kernelspec": {
   "display_name": "Python 3",
   "language": "python",
   "name": "python3"
  },
  "language_info": {
   "codemirror_mode": {
    "name": "ipython",
    "version": 3
   },
   "file_extension": ".py",
   "mimetype": "text/x-python",
   "name": "python",
   "nbconvert_exporter": "python",
   "pygments_lexer": "ipython3",
   "version": "3.6.4"
  }
 },
 "nbformat": 4,
 "nbformat_minor": 2
}
