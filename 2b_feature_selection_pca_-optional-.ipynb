{
 "cells": [
  {
   "cell_type": "markdown",
   "metadata": {},
   "source": [
    "# Introduction to Machine Learning, UZH 2018, Group Project\n",
    "### Group 2: Barbara Capl, Mathias Lüthi, Pamela Matias, Stefanie Rentsch\n",
    "##       \n",
    "# 2b. Feature Extraction with Principal Component Analysis (PCA)\n",
    "\n",
    "In this section we use the feature matrices and the response vector that we prepared in chapter 1.  \n",
    "\n",
    "#### We use two different versions (created in chapter 1):\n",
    "Version 1: Feature Matrix consists only of the Ratios                                                                        \n",
    "Version 2: Feature Matrix consists of Ratios + dummy variables for seasonality + other market data\n",
    "####     \n"
   ]
  },
  {
   "cell_type": "code",
   "execution_count": 1,
   "metadata": {},
   "outputs": [],
   "source": [
    "# hide unnecessary warnings (\"depreciation\" of packages etc.)\n",
    "import warnings\n",
    "warnings.filterwarnings('ignore')\n",
    "\n",
    "# import packages\n",
    "import numpy as np\n",
    "import pandas as pd\n",
    "import matplotlib as pl\n",
    "import matplotlib.pyplot as plt\n",
    "import statsmodels.api as sm\n",
    "import statsmodels.formula.api as smf\n",
    "import sklearn as skl\n",
    "from sklearn.svm import SVR\n",
    "from sklearn import preprocessing\n",
    "from sklearn.ensemble import RandomForestClassifier\n",
    "from sklearn.model_selection import train_test_split\n",
    "from sklearn.preprocessing import Imputer\n",
    "from sklearn.decomposition import PCA\n",
    "from sklearn.pipeline import Pipeline"
   ]
  },
  {
   "cell_type": "markdown",
   "metadata": {},
   "source": [
    "## 2.0. Choose which Feature Matrix (Version 1 or 2) you want to load in by choosing the Case"
   ]
  },
  {
   "cell_type": "markdown",
   "metadata": {},
   "source": [
    "#### 1) Choose the Dataset Version you want\n",
    "VERSION = 1; Feature Matrix with only ratios                                  \n",
    "VERSION = 2;  Feature Matrix with ratios + saisonality + other market data\n"
   ]
  },
  {
   "cell_type": "code",
   "execution_count": 17,
   "metadata": {},
   "outputs": [],
   "source": [
    "### Chose which dataset version you want the selection of features and the prediction to be based on \n",
    "VERSION = 2\n",
    "\"\"\"\n",
    "INSERT NUMBER 1 or 2\n",
    "\"\"\"\n",
    "\n",
    "\n",
    "# Define sel_state variable for easier printing out    \n",
    "if VERSION == 1:\n",
    "    sel_version = 'Based on Dataset with only the Ratios Dataset as predicive Features'\n",
    "elif VERSION == 2:\n",
    "    sel_version = 'Based on Dataset with Ratios + Seasonality + other Market Data as predictive Features'\n",
    "else: raise ValueError('VERSION must be either 1 or 2')"
   ]
  },
  {
   "cell_type": "markdown",
   "metadata": {},
   "source": [
    "## 2.1. Preparation\n"
   ]
  },
  {
   "cell_type": "markdown",
   "metadata": {},
   "source": [
    "### 2.1.1 Import the Response Vector and the Feature Matrices"
   ]
  },
  {
   "cell_type": "code",
   "execution_count": 3,
   "metadata": {},
   "outputs": [],
   "source": [
    "# Load in the response vector \n",
    "y = pd.read_csv('Data/generated_datasets/response_1.csv', sep=',', header=0)"
   ]
  },
  {
   "cell_type": "code",
   "execution_count": 4,
   "metadata": {},
   "outputs": [],
   "source": [
    "if VERSION == 1:\n",
    "    X = pd.read_csv('Data/generated_datasets/features_ratios_1.csv', sep=',', header=0)\n",
    "elif VERSION == 2:\n",
    "    X = pd.read_csv('Data/generated_datasets/features_additional_1.csv', sep=',', header=0)\n",
    "else: raise ValueError('VERSION value must be either 1 or 2')"
   ]
  },
  {
   "cell_type": "markdown",
   "metadata": {},
   "source": [
    "### 2.1.2. Train/ Test Split, fill missing values with median and standardize"
   ]
  },
  {
   "cell_type": "markdown",
   "metadata": {},
   "source": [
    "### Train/ Test Split"
   ]
  },
  {
   "cell_type": "code",
   "execution_count": 5,
   "metadata": {},
   "outputs": [
    {
     "name": "stdout",
     "output_type": "stream",
     "text": [
      "Type of feature_labels = <class 'list'>\n",
      "\n"
     ]
    }
   ],
   "source": [
    "# Train/test split, into 20% test size and 80% train size because it is a relatively small dataset\n",
    "X_train, X_test, y_train, y_test = train_test_split(X, y, test_size=0.2, random_state=0)\n",
    "\n",
    "# Extract the feature labels\n",
    "feature_labels = list(X)\n",
    "print('Type of feature_labels = ' + str(type(feature_labels)))\n",
    "print(\"\")"
   ]
  },
  {
   "cell_type": "markdown",
   "metadata": {},
   "source": [
    "### Fill missing values"
   ]
  },
  {
   "cell_type": "code",
   "execution_count": 6,
   "metadata": {},
   "outputs": [],
   "source": [
    "# Use a median fill for train\n",
    "imp = Imputer(missing_values=np.nan, strategy = 'median' , axis=0)\n",
    "imputed_dataset = pd.DataFrame(imp.fit_transform(X_train))\n",
    "imputed_dataset.columns = X_train.columns\n",
    "imputed_dataset.index = X_train.index\n",
    "X_train = imputed_dataset\n",
    "\n",
    "# Use a median fill for the test set\n",
    "imputed_dataset = pd.DataFrame(imp.fit_transform(X_test))\n",
    "imputed_dataset.columns = X_test.columns\n",
    "imputed_dataset.index = X_test.index\n",
    "X_test = imputed_dataset"
   ]
  },
  {
   "cell_type": "markdown",
   "metadata": {},
   "source": [
    "### Standardize"
   ]
  },
  {
   "cell_type": "code",
   "execution_count": 7,
   "metadata": {},
   "outputs": [],
   "source": [
    "# Standardization with sklearn StandardScaler\n",
    "standard_scaler = preprocessing.StandardScaler().fit(X_train)\n",
    "X_train = standard_scaler.transform(X_train)\n",
    "X_test = standard_scaler.transform(X_test)"
   ]
  },
  {
   "cell_type": "markdown",
   "metadata": {},
   "source": [
    "  \n",
    "## 2.2. Run PCA on whole Training Set for all possible PCAs (= number of columns)"
   ]
  },
  {
   "cell_type": "markdown",
   "metadata": {},
   "source": [
    "### 2.2.1.  Generate PCA object and show plots"
   ]
  },
  {
   "cell_type": "code",
   "execution_count": 8,
   "metadata": {},
   "outputs": [
    {
     "name": "stdout",
     "output_type": "stream",
     "text": [
      "\n",
      "Explained Variance, first 10 rows: \n",
      "[0.20578405 0.13680895 0.0757929  0.05987882 0.04687191 0.04132596\n",
      " 0.03515177 0.03286437 0.03234243 0.02745725]\n",
      "\n",
      "Explained Variance in Total = 0.9999999999999999\n",
      "\n",
      "Cumulative explained Variance, first 10 rows: \n",
      "[0.20578405 0.342593   0.4183859  0.47826473 0.52513663 0.5664626\n",
      " 0.60161437 0.63447874 0.66682117 0.69427841]\n",
      "\n",
      "Maximal number (q_a) of PCs is: 71\n",
      "\n"
     ]
    }
   ],
   "source": [
    "# Run PCA for all possible PCAs\n",
    "pca_a = PCA().fit(X_train)\n",
    "\n",
    "# Define maximal number of principal components => the \"1\" in shape[1] refers to columns (\"0\" would be rows)\n",
    "q_a = X_train.shape[1]\n",
    "\n",
    "# Get the amount of variance that each PC explains\n",
    "# The eigenvalues represent the variance in the direction of the eigenvector\n",
    "# These numbers for each component are proportional to the Eigenvalues \n",
    "# This means that the ratio of the eigenvalue of the first principal component \n",
    "# to the eigenvalue of the second principal component is 0.16214649\n",
    "# SEE => https://stackoverflow.com/questions/37757172/finding-and-utilizing-eigenvalues-and-eigenvectors-from-pca-in-scikit-learn?rpca.q=1\n",
    "expl_var_a = pca_a.explained_variance_ratio_\n",
    "\n",
    "# Get cumulative sum of the PCA 1-q_a\n",
    "sum_expl_var_a = np.cumsum(expl_var_a)[:q_a]\n",
    "\n",
    "# because we run PCA for all possible PCAs, sum of al explained Variance of the training set should be 1\n",
    "\n",
    "print(\"\")\n",
    "print('Explained Variance, first 10 rows: ')\n",
    "print(expl_var_a[0:10])\n",
    "print(\"\")\n",
    "print('Explained Variance in Total = ' + str(expl_var_a.sum()))\n",
    "print(\"\")\n",
    "print('Cumulative explained Variance, first 10 rows: ')\n",
    "print(sum_expl_var_a[0:10])\n",
    "print(\"\")\n",
    "print('Maximal number (q_a) of PCs is: ' + str(q_a))\n",
    "print(\"\")"
   ]
  },
  {
   "cell_type": "markdown",
   "metadata": {},
   "source": [
    "### 2.2.2.  Plot cumulative explained variace"
   ]
  },
  {
   "cell_type": "code",
   "execution_count": 9,
   "metadata": {},
   "outputs": [
    {
     "data": {
      "image/png": "[encoded data removed]",
      "text/plain": [
       "<matplotlib.figure.Figure at 0x7f1c2ef43b38>"
      ]
     },
     "metadata": {},
     "output_type": "display_data"
    }
   ],
   "source": [
    "# Plot curve with cumulative sum\n",
    "plt.figure(figsize = (12, 6))\n",
    "plt.plot(sum_expl_var_a)\n",
    "plt.title('Cumulative explained Variance')\n",
    "plt.xlabel('Number of Components')\n",
    "plt.ylabel('Ratio of Cum. explained Variance')\n",
    "plt.xticks(range(0, q_a + 1, 10))\n",
    "plt.show();"
   ]
  },
  {
   "cell_type": "markdown",
   "metadata": {},
   "source": [
    "### 2.1.2  Plot explained variance by single components"
   ]
  },
  {
   "cell_type": "code",
   "execution_count": 10,
   "metadata": {},
   "outputs": [
    {
     "data": {
      "image/png": "[encoded data removed]",
      "text/plain": [
       "<matplotlib.figure.Figure at 0x7f1c257906a0>"
      ]
     },
     "metadata": {},
     "output_type": "display_data"
    }
   ],
   "source": [
    "# Plot curve with explained variance\n",
    "plt.figure(figsize = (12, 6))\n",
    "plt.plot(expl_var_a)\n",
    "plt.title('Explained Variance by single components)')\n",
    "plt.xlabel('Number of Components')\n",
    "plt.ylabel('Ratio of Variance explained')\n",
    "plt.xticks(range(-1, q_a + 1, 10))\n",
    "plt.show();"
   ]
  },
  {
   "cell_type": "markdown",
   "metadata": {},
   "source": [
    "### 2.1.3 Plot feature importances"
   ]
  },
  {
   "cell_type": "code",
   "execution_count": 11,
   "metadata": {},
   "outputs": [
    {
     "data": {
      "image/png": "[encoded data removed]",
      "text/plain": [
       "<matplotlib.figure.Figure at 0x7f1c25752748>"
      ]
     },
     "metadata": {},
     "output_type": "display_data"
    }
   ],
   "source": [
    "# Plot Feature Importances (both cumulative and idividual)\n",
    "plt.figure(figsize = (12, 6))\n",
    "plt.title('Feature Importances (best 30)')\n",
    "plt.bar(range(0, q_a), expl_var_a, align = 'center')\n",
    "plt.xticks(range(0, q_a + 1, 1))\n",
    "plt.xlim([0, 30])\n",
    "plt.xlabel('Principal Components')\n",
    "plt.ylabel('Explained Variance Ratio')\n",
    "plt.step(range(1, q_a + 1), sum_expl_var_a, where = 'mid')\n",
    "plt.tight_layout();"
   ]
  },
  {
   "cell_type": "markdown",
   "metadata": {},
   "source": [
    "## 2.3.  Run PCA on whole Training Set for selected number 'q' of PCAs"
   ]
  },
  {
   "cell_type": "markdown",
   "metadata": {},
   "source": [
    "### 2.2.1. Choose number of Principal Components  and get them for further use"
   ]
  },
  {
   "cell_type": "code",
   "execution_count": 12,
   "metadata": {},
   "outputs": [
    {
     "name": "stdout",
     "output_type": "stream",
     "text": [
      "PCA Object; PCA(copy=True, iterated_power='auto', n_components=10, random_state=None,\n",
      "  svd_solver='auto', tol=0.0, whiten=False)\n",
      "\n",
      "Explained Variance, first 10 rows: \n",
      "[0.20578405 0.13680895 0.0757929  0.05987879 0.04687181 0.04132539\n",
      " 0.0351502  0.03285114 0.03233813 0.02745138]\n",
      "\n",
      "Explained Variance in Total = 0.6942527430423306\n",
      "\n",
      "Cumulative explained Variance, first 10 rows: \n",
      "[0.20578405 0.342593   0.4183859  0.47826469 0.52513651 0.5664619\n",
      " 0.60161209 0.63446324 0.66680137 0.69425274]\n",
      "\n",
      "\n"
     ]
    }
   ],
   "source": [
    "# Define number of principal components we wish to extract\n",
    "q = 10\n",
    "\n",
    "# Create PCA object\n",
    "pca = PCA(n_components = q)\n",
    "\n",
    "# Fit PCA object to find first principal components\n",
    "pca.fit(X_train)\n",
    "\n",
    "print('PCA Object; ' + str(pca))\n",
    "\n",
    "# Get the amount of variance that each PC explains\n",
    "# The eigenvalues represent the variance in the direction of the eigenvector\n",
    "# These numbers for each component are proportional to the Eigenvalues \n",
    "# This means that the ratio of the eigenvalue of the first principal component \n",
    "# to the eigenvalue of the second principal component is 0.16214649\n",
    "# SEE => https://stackoverflow.com/questions/37757172/finding-and-utilizing-eigenvalues-and-eigenvectors-from-pca-in-scikit-learn?rpca.q=1\n",
    "expl_var = pca.explained_variance_ratio_\n",
    "\n",
    "# Get cumulative sum of the PCA 1-q_1\n",
    "sum_expl_var = np.cumsum(expl_var)[:q]\n",
    "\n",
    "# because we run PCA for only q_1 components, sum of al explained Variance of the training set should be LESS than 1\n",
    "\n",
    "print(\"\")\n",
    "print('Explained Variance, first 10 rows: ')\n",
    "print(expl_var[0:10])\n",
    "print(\"\")\n",
    "print('Explained Variance in Total = ' + str(expl_var.sum()))\n",
    "print(\"\")\n",
    "print('Cumulative explained Variance, first 10 rows: ')\n",
    "print(sum_expl_var[0:10])\n",
    "print(\"\")\n",
    "print(\"\")"
   ]
  },
  {
   "cell_type": "markdown",
   "metadata": {},
   "source": [
    "### 2.2.2.  Extract q_1 /q_2 number of features out of Training Set; Transform feature matrix with pca object"
   ]
  },
  {
   "cell_type": "code",
   "execution_count": 13,
   "metadata": {},
   "outputs": [
    {
     "data": {
      "text/plain": [
       "array([[-1.99247604, -3.85416276, -1.35808507, ..., -1.01555337,\n",
       "        -0.43618298, -1.12293995],\n",
       "       [ 3.62335838,  1.68860044, -3.63177749, ..., -0.42787021,\n",
       "         0.27010388, -0.19130977],\n",
       "       [ 3.97035236, -6.46917603,  0.33615876, ..., -0.39588451,\n",
       "         1.36945403,  0.20055708],\n",
       "       ...,\n",
       "       [-3.54799462, -2.11626978,  0.23014679, ..., -0.19817632,\n",
       "        -0.74629309, -0.5424661 ],\n",
       "       [ 4.12163602, -2.27427451,  1.80867317, ..., -0.48352313,\n",
       "        -1.02232512,  0.48639424],\n",
       "       [-4.35305237, -1.50040167, -0.84342652, ..., -0.19024995,\n",
       "         1.13705974, -1.25613879]])"
      ]
     },
     "metadata": {},
     "output_type": "display_data"
    },
    {
     "data": {
      "text/plain": [
       "(2836, 10)"
      ]
     },
     "metadata": {},
     "output_type": "display_data"
    },
    {
     "data": {
      "text/plain": [
       "(2836, 71)"
      ]
     },
     "metadata": {},
     "output_type": "display_data"
    }
   ],
   "source": [
    "# Extract q number of features according to pca analysis\n",
    "# WEBSITE => https://www.analyticsvidhya.com/blog/2016/03/practical-guide-principal-component-analysis-python/\n",
    "X_train_transformed = pca.fit_transform(X_train)\n",
    "\n",
    "# display properties\n",
    "display(X_train_transformed)\n",
    "len(X_train_transformed)\n",
    "display(X_train_transformed.shape)\n",
    "display(X_train.shape)\n",
    "\n",
    "# This gives the Eigenvalues?"
   ]
  },
  {
   "cell_type": "markdown",
   "metadata": {},
   "source": [
    "### 2.2.3. Transform new data (Test set) using the already fitted pca object and save the resulting feature matrices"
   ]
  },
  {
   "cell_type": "markdown",
   "metadata": {},
   "source": [
    "### Transform the Test Feature Matrix and create pandas dataframe"
   ]
  },
  {
   "cell_type": "code",
   "execution_count": 14,
   "metadata": {},
   "outputs": [],
   "source": [
    "# Goal: Test Set has the same features as training set\n",
    "X_train_transformed = pca.fit_transform(X_train)\n",
    "X_test_transformed = pca.transform(X_test)\n",
    "\n",
    "# Put the X Sets into a pandas dataframe (they are numpy)\n",
    "X_train_p = pd.DataFrame(X_train_transformed)\n",
    "X_test_p = pd.DataFrame(X_test_transformed)  "
   ]
  },
  {
   "cell_type": "markdown",
   "metadata": {},
   "source": [
    "### Save PCA- transformed Fature Matrices and the Respose Vector"
   ]
  },
  {
   "cell_type": "code",
   "execution_count": 15,
   "metadata": {},
   "outputs": [],
   "source": [
    "if VERSION == 1:\n",
    "    X_train_p.to_csv('Data/generated_splits/features_selected_pca/X1_train_p.csv', index = False)\n",
    "    X_test_p.to_csv('Data/generated_splits/features_selected_pca/X1_test_p.csv', index = False)\n",
    "    y_train.to_csv('Data/generated_splits/features_selected_pca/y1_train_p.csv', index = False)\n",
    "    y_test.to_csv('Data/generated_splits/features_selected_pca/y1_test_p.csv', index = False)\n",
    "elif VERSION == 2:\n",
    "    X_train_p.to_csv('Data/generated_splits/features_selected_pca/X2_train_p.csv', index = False)\n",
    "    X_test_p.to_csv('Data/generated_splits/features_selected_pca/X2_test_p.csv', index = False)\n",
    "    y_train.to_csv('Data/generated_splits/features_selected_pca/y2_train_p.csv', index = False)\n",
    "    y_test.to_csv('Data/generated_splits/features_selected_pca/y2_test_p.csv', index = False)\n",
    "else: raise ValueError('VERSION value must be either 1 or 2')"
   ]
  },
  {
   "cell_type": "code",
   "execution_count": null,
   "metadata": {},
   "outputs": [],
   "source": []
  }
 ],
 "metadata": {
  "kernelspec": {
   "display_name": "Python 3",
   "language": "python",
   "name": "python3"
  },
  "language_info": {
   "codemirror_mode": {
    "name": "ipython",
    "version": 3
   },
   "file_extension": ".py",
   "mimetype": "text/x-python",
   "name": "python",
   "nbconvert_exporter": "python",
   "pygments_lexer": "ipython3",
   "version": "3.6.2"
  }
 },
 "nbformat": 4,
 "nbformat_minor": 2
}
