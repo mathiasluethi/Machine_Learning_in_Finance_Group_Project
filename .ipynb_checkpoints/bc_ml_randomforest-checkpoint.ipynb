{
 "cells": [
  {
   "cell_type": "markdown",
   "metadata": {},
   "source": [
    "### Introduction to Machine Learning, UZH FS18, Group Project\n",
    "\n",
    "### Group 2: Barbara Capl, Mathias Lüthi, Pamela Matias, Stefanie Rentsch\n",
    "\n",
    "\n",
    "#     \n",
    "# II.     Feature Selection & Classification with Random Forest"
   ]
  },
  {
   "cell_type": "code",
   "execution_count": 2,
   "metadata": {},
   "outputs": [],
   "source": [
    "# hide unnecessary warnings (\"depreciation\" of packages etc.)\n",
    "import warnings\n",
    "warnings.filterwarnings('ignore')\n",
    "\n",
    "# import packages\n",
    "import numpy as np\n",
    "import pandas as pd\n",
    "import matplotlib as pl\n",
    "import matplotlib.pyplot as plt\n",
    "import statsmodels.api as sm\n",
    "import statsmodels.formula.api as smf\n",
    "import datetime as dt\n",
    "import sklearn as skl\n",
    "from sklearn.svm import SVR\n",
    "from sklearn.model_selection import train_test_split\n",
    "from sklearn.preprocessing import Imputer\n",
    "from sklearn import preprocessing\n",
    "from sklearn.ensemble import RandomForestClassifier\n",
    "from sklearn import neural_network\n",
    "from sklearn import neighbors\n",
    "from sklearn.svm import SVR\n",
    "from sklearn import neighbors\n",
    "from functools import reduce\n",
    "from functools import reduce\n",
    "from pandas.core import datetools\n"
   ]
  },
  {
   "cell_type": "markdown",
   "metadata": {},
   "source": [
    "# Import datasets\n"
   ]
  },
  {
   "cell_type": "code",
   "execution_count": 2,
   "metadata": {},
   "outputs": [
    {
     "name": "stdout",
     "output_type": "stream",
     "text": [
      "Shape of Imputed Dataset = (3519, 94)\n",
      "Shape of Dataset with Nans dropped = (1430, 94)\n"
     ]
    }
   ],
   "source": [
    "# Import imputed dataset\n",
    "imputed_dataset = pd.read_csv('Data/generated/imputed_dataset_ml.csv', sep = ',')\n",
    "# Import dataset wit dropped Nans\n",
    "dropnan_dataset = pd.read_csv('Data/generated/dropnan_dataset_ml.csv', sep = ',')\n",
    "\n",
    "print('Shape of Imputed Dataset = ' + str(imputed_dataset.shape))\n",
    "print('Shape of Dataset with Nans dropped = ' + str(dropnan_dataset.shape))\n",
    "\n"
   ]
  },
  {
   "cell_type": "markdown",
   "metadata": {},
   "source": [
    "###   \n",
    "# Feature Selection with Random Forest\n",
    "###   \n",
    "## Feature Selection \n",
    "## for Version 1: Imputed Dataset\n",
    "###   \n"
   ]
  },
  {
   "cell_type": "markdown",
   "metadata": {},
   "source": [
    "### Feature Matrix and Response Vector "
   ]
  },
  {
   "cell_type": "code",
   "execution_count": 3,
   "metadata": {},
   "outputs": [
    {
     "data": {
      "text/html": [
       "<div>\n",
       "<style scoped>\n",
       "    .dataframe tbody tr th:only-of-type {\n",
       "        vertical-align: middle;\n",
       "    }\n",
       "\n",
       "    .dataframe tbody tr th {\n",
       "        vertical-align: top;\n",
       "    }\n",
       "\n",
       "    .dataframe thead th {\n",
       "        text-align: right;\n",
       "    }\n",
       "</style>\n",
       "<table border=\"1\" class=\"dataframe\">\n",
       "  <thead>\n",
       "    <tr style=\"text-align: right;\">\n",
       "      <th></th>\n",
       "      <th>Unnamed: 0</th>\n",
       "      <th>PERMNO</th>\n",
       "      <th>DATE</th>\n",
       "      <th>NAICS</th>\n",
       "      <th>BIDLO</th>\n",
       "      <th>ASKHI</th>\n",
       "      <th>PRC</th>\n",
       "      <th>VOL</th>\n",
       "      <th>BID</th>\n",
       "      <th>ASK</th>\n",
       "      <th>...</th>\n",
       "      <th>sale_nwc</th>\n",
       "      <th>rd_sale</th>\n",
       "      <th>adv_sale</th>\n",
       "      <th>staff_sale</th>\n",
       "      <th>accrual</th>\n",
       "      <th>ptb</th>\n",
       "      <th>PEG_trailing</th>\n",
       "      <th>divyield</th>\n",
       "      <th>PEG_1yrforward</th>\n",
       "      <th>PEG_ltgforward</th>\n",
       "    </tr>\n",
       "  </thead>\n",
       "  <tbody>\n",
       "    <tr>\n",
       "      <th>0</th>\n",
       "      <td>1</td>\n",
       "      <td>10107.0</td>\n",
       "      <td>1.138752e+18</td>\n",
       "      <td>511210.0</td>\n",
       "      <td>26.39</td>\n",
       "      <td>28.0400</td>\n",
       "      <td>26.87</td>\n",
       "      <td>11088149.0</td>\n",
       "      <td>26.87</td>\n",
       "      <td>26.88</td>\n",
       "      <td>...</td>\n",
       "      <td>1.323</td>\n",
       "      <td>0.151</td>\n",
       "      <td>0.025</td>\n",
       "      <td>0.0</td>\n",
       "      <td>0.036</td>\n",
       "      <td>6.281</td>\n",
       "      <td>10.280</td>\n",
       "      <td>0.0134</td>\n",
       "      <td>14.555</td>\n",
       "      <td>1.838</td>\n",
       "    </tr>\n",
       "    <tr>\n",
       "      <th>1</th>\n",
       "      <td>2</td>\n",
       "      <td>10107.0</td>\n",
       "      <td>1.141171e+18</td>\n",
       "      <td>511210.0</td>\n",
       "      <td>26.85</td>\n",
       "      <td>27.8900</td>\n",
       "      <td>27.21</td>\n",
       "      <td>14514337.0</td>\n",
       "      <td>27.24</td>\n",
       "      <td>27.24</td>\n",
       "      <td>...</td>\n",
       "      <td>1.323</td>\n",
       "      <td>0.151</td>\n",
       "      <td>0.025</td>\n",
       "      <td>0.0</td>\n",
       "      <td>0.036</td>\n",
       "      <td>6.293</td>\n",
       "      <td>10.410</td>\n",
       "      <td>0.0132</td>\n",
       "      <td>14.739</td>\n",
       "      <td>1.842</td>\n",
       "    </tr>\n",
       "    <tr>\n",
       "      <th>2</th>\n",
       "      <td>3</td>\n",
       "      <td>10107.0</td>\n",
       "      <td>1.143850e+18</td>\n",
       "      <td>511210.0</td>\n",
       "      <td>24.15</td>\n",
       "      <td>27.7400</td>\n",
       "      <td>24.15</td>\n",
       "      <td>14689919.0</td>\n",
       "      <td>24.16</td>\n",
       "      <td>24.16</td>\n",
       "      <td>...</td>\n",
       "      <td>1.323</td>\n",
       "      <td>0.151</td>\n",
       "      <td>0.025</td>\n",
       "      <td>0.0</td>\n",
       "      <td>0.036</td>\n",
       "      <td>5.573</td>\n",
       "      <td>9.239</td>\n",
       "      <td>0.0149</td>\n",
       "      <td>13.081</td>\n",
       "      <td>1.666</td>\n",
       "    </tr>\n",
       "    <tr>\n",
       "      <th>3</th>\n",
       "      <td>4</td>\n",
       "      <td>10107.0</td>\n",
       "      <td>1.146442e+18</td>\n",
       "      <td>511210.0</td>\n",
       "      <td>22.56</td>\n",
       "      <td>24.2900</td>\n",
       "      <td>22.65</td>\n",
       "      <td>23651189.0</td>\n",
       "      <td>22.70</td>\n",
       "      <td>22.70</td>\n",
       "      <td>...</td>\n",
       "      <td>1.388</td>\n",
       "      <td>0.150</td>\n",
       "      <td>0.025</td>\n",
       "      <td>0.0</td>\n",
       "      <td>0.024</td>\n",
       "      <td>5.496</td>\n",
       "      <td>0.709</td>\n",
       "      <td>0.0159</td>\n",
       "      <td>-5.842</td>\n",
       "      <td>1.480</td>\n",
       "    </tr>\n",
       "    <tr>\n",
       "      <th>4</th>\n",
       "      <td>5</td>\n",
       "      <td>10107.0</td>\n",
       "      <td>1.149120e+18</td>\n",
       "      <td>511210.0</td>\n",
       "      <td>21.51</td>\n",
       "      <td>23.4702</td>\n",
       "      <td>23.30</td>\n",
       "      <td>19980809.0</td>\n",
       "      <td>23.38</td>\n",
       "      <td>23.31</td>\n",
       "      <td>...</td>\n",
       "      <td>1.388</td>\n",
       "      <td>0.150</td>\n",
       "      <td>0.025</td>\n",
       "      <td>0.0</td>\n",
       "      <td>0.024</td>\n",
       "      <td>5.577</td>\n",
       "      <td>0.730</td>\n",
       "      <td>0.0155</td>\n",
       "      <td>-6.010</td>\n",
       "      <td>1.522</td>\n",
       "    </tr>\n",
       "  </tbody>\n",
       "</table>\n",
       "<p>5 rows × 93 columns</p>\n",
       "</div>"
      ],
      "text/plain": [
       "   Unnamed: 0   PERMNO          DATE     NAICS  BIDLO    ASKHI    PRC  \\\n",
       "0           1  10107.0  1.138752e+18  511210.0  26.39  28.0400  26.87   \n",
       "1           2  10107.0  1.141171e+18  511210.0  26.85  27.8900  27.21   \n",
       "2           3  10107.0  1.143850e+18  511210.0  24.15  27.7400  24.15   \n",
       "3           4  10107.0  1.146442e+18  511210.0  22.56  24.2900  22.65   \n",
       "4           5  10107.0  1.149120e+18  511210.0  21.51  23.4702  23.30   \n",
       "\n",
       "          VOL    BID    ASK       ...        sale_nwc  rd_sale  adv_sale  \\\n",
       "0  11088149.0  26.87  26.88       ...           1.323    0.151     0.025   \n",
       "1  14514337.0  27.24  27.24       ...           1.323    0.151     0.025   \n",
       "2  14689919.0  24.16  24.16       ...           1.323    0.151     0.025   \n",
       "3  23651189.0  22.70  22.70       ...           1.388    0.150     0.025   \n",
       "4  19980809.0  23.38  23.31       ...           1.388    0.150     0.025   \n",
       "\n",
       "   staff_sale  accrual    ptb  PEG_trailing  divyield  PEG_1yrforward  \\\n",
       "0         0.0    0.036  6.281        10.280    0.0134          14.555   \n",
       "1         0.0    0.036  6.293        10.410    0.0132          14.739   \n",
       "2         0.0    0.036  5.573         9.239    0.0149          13.081   \n",
       "3         0.0    0.024  5.496         0.709    0.0159          -5.842   \n",
       "4         0.0    0.024  5.577         0.730    0.0155          -6.010   \n",
       "\n",
       "   PEG_ltgforward  \n",
       "0           1.838  \n",
       "1           1.842  \n",
       "2           1.666  \n",
       "3           1.480  \n",
       "4           1.522  \n",
       "\n",
       "[5 rows x 93 columns]"
      ]
     },
     "metadata": {},
     "output_type": "display_data"
    }
   ],
   "source": [
    "# Extract labels of features\n",
    "labels_of_features_1 = imputed_dataset.columns[:-1]\n",
    "type(labels_of_features_1)\n",
    "\n",
    "# X1 is the feature matrix\n",
    "X1 = imputed_dataset.iloc[:, :-1]\n",
    "\n",
    "display(X1.head())\n"
   ]
  },
  {
   "cell_type": "code",
   "execution_count": 4,
   "metadata": {},
   "outputs": [
    {
     "data": {
      "text/plain": [
       "0    1.0\n",
       "1    0.0\n",
       "2    0.0\n",
       "3    1.0\n",
       "4    1.0\n",
       "Name: NEXT_DAY_PREDICTION, dtype: float64"
      ]
     },
     "metadata": {},
     "output_type": "display_data"
    }
   ],
   "source": [
    "# y1 is the response vector\n",
    "y1 = imputed_dataset.iloc[:, -1]\n",
    "display(y1.head())"
   ]
  },
  {
   "cell_type": "markdown",
   "metadata": {},
   "source": [
    "### Train - / Test - Split"
   ]
  },
  {
   "cell_type": "code",
   "execution_count": 5,
   "metadata": {},
   "outputs": [],
   "source": [
    "# Do the train - test- split\n",
    "X1_train, X1_test, y1_train, y1_test = train_test_split(X1, y1, test_size = 0.2, random_state = 0, stratify = y1)\n"
   ]
  },
  {
   "cell_type": "code",
   "execution_count": 6,
   "metadata": {},
   "outputs": [
    {
     "data": {
      "text/plain": [
       "0.5602131438721136"
      ]
     },
     "metadata": {},
     "output_type": "display_data"
    },
    {
     "data": {
      "text/plain": [
       "0.5610795454545454"
      ]
     },
     "metadata": {},
     "output_type": "display_data"
    }
   ],
   "source": [
    "# Check if there is the approximately same percentage of '1' i both training and test response vector\n",
    "display(y1_train.sum() / y1_train.size)\n",
    "display(y1_test.sum() / y1_test.size)\n"
   ]
  },
  {
   "cell_type": "markdown",
   "metadata": {},
   "source": [
    "### Standardize Variables"
   ]
  },
  {
   "cell_type": "code",
   "execution_count": 7,
   "metadata": {},
   "outputs": [],
   "source": [
    "# Standardization with sklearn StandardScaler\n",
    "standard_scaler_1 = preprocessing.StandardScaler().fit(X1_train)\n",
    "X1_train = standard_scaler_1.transform(X1_train)\n",
    "X1_test = standard_scaler_1.transform(X1_test)\n"
   ]
  },
  {
   "cell_type": "markdown",
   "metadata": {},
   "source": [
    "### Select Features according to their explanatory value / importance for the response"
   ]
  },
  {
   "cell_type": "code",
   "execution_count": 8,
   "metadata": {},
   "outputs": [],
   "source": [
    "my_forest_1 = RandomForestClassifier(random_state = 1)\n",
    "my_forest_1.max_depth = 8\n",
    "my_forest_1.fit(X1_train, y1_train)\n",
    "\n",
    "# Check features for their importance for the prediction\n",
    "features_importances_1 = my_forest_1.feature_importances_\n",
    "\n"
   ]
  },
  {
   "cell_type": "code",
   "execution_count": 9,
   "metadata": {},
   "outputs": [],
   "source": [
    "# sort features in line with their importance for the prediction\n",
    "indices_1 = np.argsort(features_importances_1)[::-1]\n",
    "\n"
   ]
  },
  {
   "cell_type": "code",
   "execution_count": 10,
   "metadata": {},
   "outputs": [
    {
     "name": "stdout",
     "output_type": "stream",
     "text": [
      " 1 vwretx  0.0663\n",
      " 2 DATE    0.0533\n",
      " 3 sprtrn  0.0453\n",
      " 4 vwretd  0.0426\n",
      " 5 ewretd  0.0383\n",
      " 6 ewretx  0.0261\n",
      " 7 divyield 0.0226\n",
      " 8 BID     0.0210\n",
      " 9 PEG_trailing 0.0189\n",
      "10 pe_op_basic 0.0181\n",
      "11 cash_lt 0.0167\n",
      "12 PEG_1yrforward 0.0166\n",
      "13 ASKHI   0.0160\n",
      "14 ptb     0.0148\n",
      "15 PEG_ltgforward 0.0148\n"
     ]
    }
   ],
   "source": [
    "# print best 15 features and delete features above and start the RF again\n",
    "i = 0\n",
    "n = 15\n",
    "for i in range(n):\n",
    "    print('{0:2d} {1:7s} {2:6.4f}'.format(i+1, labels_of_features_1[indices_1[i]], features_importances_1[indices_1[i]]))\n",
    "del i,n"
   ]
  },
  {
   "cell_type": "markdown",
   "metadata": {},
   "source": [
    "### Extract best 'n' Variables"
   ]
  },
  {
   "cell_type": "code",
   "execution_count": 11,
   "metadata": {},
   "outputs": [
    {
     "data": {
      "text/html": [
       "<div>\n",
       "<style scoped>\n",
       "    .dataframe tbody tr th:only-of-type {\n",
       "        vertical-align: middle;\n",
       "    }\n",
       "\n",
       "    .dataframe tbody tr th {\n",
       "        vertical-align: top;\n",
       "    }\n",
       "\n",
       "    .dataframe thead th {\n",
       "        text-align: right;\n",
       "    }\n",
       "</style>\n",
       "<table border=\"1\" class=\"dataframe\">\n",
       "  <thead>\n",
       "    <tr style=\"text-align: right;\">\n",
       "      <th></th>\n",
       "      <th>vwretx</th>\n",
       "      <th>DATE</th>\n",
       "      <th>sprtrn</th>\n",
       "      <th>vwretd</th>\n",
       "      <th>ewretd</th>\n",
       "      <th>ewretx</th>\n",
       "      <th>divyield</th>\n",
       "      <th>BID</th>\n",
       "      <th>PEG_trailing</th>\n",
       "      <th>pe_op_basic</th>\n",
       "      <th>cash_lt</th>\n",
       "      <th>PEG_1yrforward</th>\n",
       "      <th>ASKHI</th>\n",
       "      <th>ptb</th>\n",
       "      <th>PEG_ltgforward</th>\n",
       "      <th>NEXT_DAY_PREDICTION</th>\n",
       "    </tr>\n",
       "  </thead>\n",
       "  <tbody>\n",
       "    <tr>\n",
       "      <th>0</th>\n",
       "      <td>-0.003552</td>\n",
       "      <td>1.138752e+18</td>\n",
       "      <td>0.000453</td>\n",
       "      <td>-0.001637</td>\n",
       "      <td>0.004836</td>\n",
       "      <td>0.003476</td>\n",
       "      <td>0.0134</td>\n",
       "      <td>26.87</td>\n",
       "      <td>10.280</td>\n",
       "      <td>21.496</td>\n",
       "      <td>1.710</td>\n",
       "      <td>14.555</td>\n",
       "      <td>28.0400</td>\n",
       "      <td>6.281</td>\n",
       "      <td>1.838</td>\n",
       "      <td>1.0</td>\n",
       "    </tr>\n",
       "    <tr>\n",
       "      <th>1</th>\n",
       "      <td>0.017585</td>\n",
       "      <td>1.141171e+18</td>\n",
       "      <td>0.011065</td>\n",
       "      <td>0.019053</td>\n",
       "      <td>0.036978</td>\n",
       "      <td>0.035232</td>\n",
       "      <td>0.0132</td>\n",
       "      <td>27.24</td>\n",
       "      <td>10.410</td>\n",
       "      <td>21.768</td>\n",
       "      <td>1.710</td>\n",
       "      <td>14.739</td>\n",
       "      <td>27.8900</td>\n",
       "      <td>6.293</td>\n",
       "      <td>1.842</td>\n",
       "      <td>0.0</td>\n",
       "    </tr>\n",
       "    <tr>\n",
       "      <th>2</th>\n",
       "      <td>0.011494</td>\n",
       "      <td>1.143850e+18</td>\n",
       "      <td>0.012187</td>\n",
       "      <td>0.012965</td>\n",
       "      <td>0.009791</td>\n",
       "      <td>0.008497</td>\n",
       "      <td>0.0149</td>\n",
       "      <td>24.16</td>\n",
       "      <td>9.239</td>\n",
       "      <td>19.320</td>\n",
       "      <td>1.710</td>\n",
       "      <td>13.081</td>\n",
       "      <td>27.7400</td>\n",
       "      <td>5.573</td>\n",
       "      <td>1.666</td>\n",
       "      <td>0.0</td>\n",
       "    </tr>\n",
       "    <tr>\n",
       "      <th>3</th>\n",
       "      <td>-0.033025</td>\n",
       "      <td>1.146442e+18</td>\n",
       "      <td>-0.030917</td>\n",
       "      <td>-0.031045</td>\n",
       "      <td>-0.044331</td>\n",
       "      <td>-0.045982</td>\n",
       "      <td>0.0159</td>\n",
       "      <td>22.70</td>\n",
       "      <td>0.709</td>\n",
       "      <td>17.695</td>\n",
       "      <td>1.572</td>\n",
       "      <td>-5.842</td>\n",
       "      <td>24.2900</td>\n",
       "      <td>5.496</td>\n",
       "      <td>1.480</td>\n",
       "      <td>1.0</td>\n",
       "    </tr>\n",
       "    <tr>\n",
       "      <th>4</th>\n",
       "      <td>-0.001881</td>\n",
       "      <td>1.149120e+18</td>\n",
       "      <td>0.000087</td>\n",
       "      <td>-0.000386</td>\n",
       "      <td>-0.008479</td>\n",
       "      <td>-0.010474</td>\n",
       "      <td>0.0155</td>\n",
       "      <td>23.38</td>\n",
       "      <td>0.730</td>\n",
       "      <td>18.203</td>\n",
       "      <td>1.572</td>\n",
       "      <td>-6.010</td>\n",
       "      <td>23.4702</td>\n",
       "      <td>5.577</td>\n",
       "      <td>1.522</td>\n",
       "      <td>1.0</td>\n",
       "    </tr>\n",
       "  </tbody>\n",
       "</table>\n",
       "</div>"
      ],
      "text/plain": [
       "     vwretx          DATE    sprtrn    vwretd    ewretd    ewretx  divyield  \\\n",
       "0 -0.003552  1.138752e+18  0.000453 -0.001637  0.004836  0.003476    0.0134   \n",
       "1  0.017585  1.141171e+18  0.011065  0.019053  0.036978  0.035232    0.0132   \n",
       "2  0.011494  1.143850e+18  0.012187  0.012965  0.009791  0.008497    0.0149   \n",
       "3 -0.033025  1.146442e+18 -0.030917 -0.031045 -0.044331 -0.045982    0.0159   \n",
       "4 -0.001881  1.149120e+18  0.000087 -0.000386 -0.008479 -0.010474    0.0155   \n",
       "\n",
       "     BID  PEG_trailing  pe_op_basic  cash_lt  PEG_1yrforward    ASKHI    ptb  \\\n",
       "0  26.87        10.280       21.496    1.710          14.555  28.0400  6.281   \n",
       "1  27.24        10.410       21.768    1.710          14.739  27.8900  6.293   \n",
       "2  24.16         9.239       19.320    1.710          13.081  27.7400  5.573   \n",
       "3  22.70         0.709       17.695    1.572          -5.842  24.2900  5.496   \n",
       "4  23.38         0.730       18.203    1.572          -6.010  23.4702  5.577   \n",
       "\n",
       "   PEG_ltgforward  NEXT_DAY_PREDICTION  \n",
       "0           1.838                  1.0  \n",
       "1           1.842                  0.0  \n",
       "2           1.666                  0.0  \n",
       "3           1.480                  1.0  \n",
       "4           1.522                  1.0  "
      ]
     },
     "metadata": {},
     "output_type": "display_data"
    }
   ],
   "source": [
    "# EXtract only the n best variables + the responsa varable (NEXT_DAY_PREDICTION)\n",
    "imputed_dataset_f = imputed_dataset[['vwretx', 'DATE', 'sprtrn', 'vwretd', 'ewretd', 'ewretx', 'divyield', 'BID', 'PEG_trailing', \n",
    "                                   'pe_op_basic', 'cash_lt', 'PEG_1yrforward', 'ASKHI', 'ptb', 'PEG_ltgforward',\n",
    "                                   'NEXT_DAY_PREDICTION']]\n",
    "\n",
    "imputed_dataset_f.to_csv('Data/generated/imputed_dataset_ml_f.csv')\n",
    "\n",
    "display(imputed_dataset_f.head())"
   ]
  },
  {
   "cell_type": "markdown",
   "metadata": {},
   "source": [
    "###   \n",
    "## Feature Selection \n",
    "## for Version 2: Dataset with all rows dropped that included Nans\n",
    "###   \n"
   ]
  },
  {
   "cell_type": "markdown",
   "metadata": {},
   "source": [
    "### Feature Matrix and Response Vector "
   ]
  },
  {
   "cell_type": "code",
   "execution_count": 12,
   "metadata": {},
   "outputs": [
    {
     "data": {
      "text/html": [
       "<div>\n",
       "<style scoped>\n",
       "    .dataframe tbody tr th:only-of-type {\n",
       "        vertical-align: middle;\n",
       "    }\n",
       "\n",
       "    .dataframe tbody tr th {\n",
       "        vertical-align: top;\n",
       "    }\n",
       "\n",
       "    .dataframe thead th {\n",
       "        text-align: right;\n",
       "    }\n",
       "</style>\n",
       "<table border=\"1\" class=\"dataframe\">\n",
       "  <thead>\n",
       "    <tr style=\"text-align: right;\">\n",
       "      <th></th>\n",
       "      <th>Unnamed: 0</th>\n",
       "      <th>PERMNO</th>\n",
       "      <th>DATE</th>\n",
       "      <th>NAICS</th>\n",
       "      <th>BIDLO</th>\n",
       "      <th>ASKHI</th>\n",
       "      <th>PRC</th>\n",
       "      <th>VOL</th>\n",
       "      <th>BID</th>\n",
       "      <th>ASK</th>\n",
       "      <th>...</th>\n",
       "      <th>sale_nwc</th>\n",
       "      <th>rd_sale</th>\n",
       "      <th>adv_sale</th>\n",
       "      <th>staff_sale</th>\n",
       "      <th>accrual</th>\n",
       "      <th>ptb</th>\n",
       "      <th>PEG_trailing</th>\n",
       "      <th>divyield</th>\n",
       "      <th>PEG_1yrforward</th>\n",
       "      <th>PEG_ltgforward</th>\n",
       "    </tr>\n",
       "  </thead>\n",
       "  <tbody>\n",
       "    <tr>\n",
       "      <th>0</th>\n",
       "      <td>73</td>\n",
       "      <td>10107</td>\n",
       "      <td>1328054400000000000</td>\n",
       "      <td>511210.0</td>\n",
       "      <td>29.890</td>\n",
       "      <td>31.87</td>\n",
       "      <td>31.740</td>\n",
       "      <td>9870347.0</td>\n",
       "      <td>31.73</td>\n",
       "      <td>31.74</td>\n",
       "      <td>...</td>\n",
       "      <td>1.556</td>\n",
       "      <td>0.130</td>\n",
       "      <td>0.027</td>\n",
       "      <td>0.0</td>\n",
       "      <td>0.053</td>\n",
       "      <td>4.085</td>\n",
       "      <td>0.783</td>\n",
       "      <td>0.0252</td>\n",
       "      <td>-20.961</td>\n",
       "      <td>1.367</td>\n",
       "    </tr>\n",
       "    <tr>\n",
       "      <th>1</th>\n",
       "      <td>74</td>\n",
       "      <td>10107</td>\n",
       "      <td>1330560000000000000</td>\n",
       "      <td>511210.0</td>\n",
       "      <td>31.555</td>\n",
       "      <td>32.85</td>\n",
       "      <td>32.255</td>\n",
       "      <td>9445449.0</td>\n",
       "      <td>32.24</td>\n",
       "      <td>32.25</td>\n",
       "      <td>...</td>\n",
       "      <td>1.556</td>\n",
       "      <td>0.130</td>\n",
       "      <td>0.027</td>\n",
       "      <td>0.0</td>\n",
       "      <td>0.053</td>\n",
       "      <td>4.155</td>\n",
       "      <td>0.796</td>\n",
       "      <td>0.0248</td>\n",
       "      <td>-21.784</td>\n",
       "      <td>1.468</td>\n",
       "    </tr>\n",
       "    <tr>\n",
       "      <th>2</th>\n",
       "      <td>76</td>\n",
       "      <td>10107</td>\n",
       "      <td>1335830400000000000</td>\n",
       "      <td>511210.0</td>\n",
       "      <td>29.060</td>\n",
       "      <td>32.01</td>\n",
       "      <td>29.190</td>\n",
       "      <td>10123951.0</td>\n",
       "      <td>29.19</td>\n",
       "      <td>29.20</td>\n",
       "      <td>...</td>\n",
       "      <td>1.508</td>\n",
       "      <td>0.132</td>\n",
       "      <td>0.027</td>\n",
       "      <td>0.0</td>\n",
       "      <td>0.060</td>\n",
       "      <td>3.497</td>\n",
       "      <td>0.636</td>\n",
       "      <td>0.0274</td>\n",
       "      <td>9.552</td>\n",
       "      <td>1.347</td>\n",
       "    </tr>\n",
       "    <tr>\n",
       "      <th>3</th>\n",
       "      <td>77</td>\n",
       "      <td>10107</td>\n",
       "      <td>1338508800000000000</td>\n",
       "      <td>511210.0</td>\n",
       "      <td>28.450</td>\n",
       "      <td>30.93</td>\n",
       "      <td>30.590</td>\n",
       "      <td>9679085.0</td>\n",
       "      <td>30.58</td>\n",
       "      <td>30.59</td>\n",
       "      <td>...</td>\n",
       "      <td>1.508</td>\n",
       "      <td>0.132</td>\n",
       "      <td>0.027</td>\n",
       "      <td>0.0</td>\n",
       "      <td>0.060</td>\n",
       "      <td>3.656</td>\n",
       "      <td>0.667</td>\n",
       "      <td>0.0262</td>\n",
       "      <td>-30.032</td>\n",
       "      <td>1.089</td>\n",
       "    </tr>\n",
       "    <tr>\n",
       "      <th>4</th>\n",
       "      <td>79</td>\n",
       "      <td>10107</td>\n",
       "      <td>1343779200000000000</td>\n",
       "      <td>511210.0</td>\n",
       "      <td>29.190</td>\n",
       "      <td>30.90</td>\n",
       "      <td>30.820</td>\n",
       "      <td>6689457.0</td>\n",
       "      <td>30.81</td>\n",
       "      <td>30.82</td>\n",
       "      <td>...</td>\n",
       "      <td>1.407</td>\n",
       "      <td>0.133</td>\n",
       "      <td>0.022</td>\n",
       "      <td>0.0</td>\n",
       "      <td>0.127</td>\n",
       "      <td>3.785</td>\n",
       "      <td>1.441</td>\n",
       "      <td>0.0260</td>\n",
       "      <td>1.451</td>\n",
       "      <td>1.767</td>\n",
       "    </tr>\n",
       "  </tbody>\n",
       "</table>\n",
       "<p>5 rows × 93 columns</p>\n",
       "</div>"
      ],
      "text/plain": [
       "   Unnamed: 0  PERMNO                 DATE     NAICS   BIDLO  ASKHI     PRC  \\\n",
       "0          73   10107  1328054400000000000  511210.0  29.890  31.87  31.740   \n",
       "1          74   10107  1330560000000000000  511210.0  31.555  32.85  32.255   \n",
       "2          76   10107  1335830400000000000  511210.0  29.060  32.01  29.190   \n",
       "3          77   10107  1338508800000000000  511210.0  28.450  30.93  30.590   \n",
       "4          79   10107  1343779200000000000  511210.0  29.190  30.90  30.820   \n",
       "\n",
       "          VOL    BID    ASK       ...        sale_nwc  rd_sale  adv_sale  \\\n",
       "0   9870347.0  31.73  31.74       ...           1.556    0.130     0.027   \n",
       "1   9445449.0  32.24  32.25       ...           1.556    0.130     0.027   \n",
       "2  10123951.0  29.19  29.20       ...           1.508    0.132     0.027   \n",
       "3   9679085.0  30.58  30.59       ...           1.508    0.132     0.027   \n",
       "4   6689457.0  30.81  30.82       ...           1.407    0.133     0.022   \n",
       "\n",
       "   staff_sale  accrual    ptb  PEG_trailing  divyield  PEG_1yrforward  \\\n",
       "0         0.0    0.053  4.085         0.783    0.0252         -20.961   \n",
       "1         0.0    0.053  4.155         0.796    0.0248         -21.784   \n",
       "2         0.0    0.060  3.497         0.636    0.0274           9.552   \n",
       "3         0.0    0.060  3.656         0.667    0.0262         -30.032   \n",
       "4         0.0    0.127  3.785         1.441    0.0260           1.451   \n",
       "\n",
       "   PEG_ltgforward  \n",
       "0           1.367  \n",
       "1           1.468  \n",
       "2           1.347  \n",
       "3           1.089  \n",
       "4           1.767  \n",
       "\n",
       "[5 rows x 93 columns]"
      ]
     },
     "metadata": {},
     "output_type": "display_data"
    }
   ],
   "source": [
    "# Extract labels of features\n",
    "labels_of_features_2 = dropnan_dataset.columns[:-1]\n",
    "type(labels_of_features_2)\n",
    "\n",
    "# X2 is the feature matrix\n",
    "X2 = dropnan_dataset.iloc[:, :-1]\n",
    "\n",
    "display(X2.head())\n"
   ]
  },
  {
   "cell_type": "code",
   "execution_count": 13,
   "metadata": {},
   "outputs": [
    {
     "data": {
      "text/plain": [
       "0    1.0\n",
       "1    0.0\n",
       "2    1.0\n",
       "3    0.0\n",
       "4    0.0\n",
       "Name: NEXT_DAY_PREDICTION, dtype: float64"
      ]
     },
     "metadata": {},
     "output_type": "display_data"
    }
   ],
   "source": [
    "# y2 is the response vector\n",
    "y2 = dropnan_dataset.iloc[:, -1]\n",
    "display(y2.head())"
   ]
  },
  {
   "cell_type": "markdown",
   "metadata": {},
   "source": [
    "### Train - / Test - Split"
   ]
  },
  {
   "cell_type": "code",
   "execution_count": 14,
   "metadata": {},
   "outputs": [],
   "source": [
    "# Do the train - test- split\n",
    "X2_train, X2_test, y2_train, y2_test = train_test_split(X2, y2, test_size = 0.2, random_state = 0, stratify = y2)\n"
   ]
  },
  {
   "cell_type": "code",
   "execution_count": 15,
   "metadata": {},
   "outputs": [
    {
     "data": {
      "text/plain": [
       "0.5725524475524476"
      ]
     },
     "metadata": {},
     "output_type": "display_data"
    },
    {
     "data": {
      "text/plain": [
       "0.5734265734265734"
      ]
     },
     "metadata": {},
     "output_type": "display_data"
    }
   ],
   "source": [
    "# Check if there is the approximately same percentage of '1' i both training and test response vector\n",
    "display(y2_train.sum() / y2_train.size)\n",
    "display(y2_test.sum() / y2_test.size)\n"
   ]
  },
  {
   "cell_type": "markdown",
   "metadata": {},
   "source": [
    "### Standardize Variables"
   ]
  },
  {
   "cell_type": "code",
   "execution_count": 16,
   "metadata": {},
   "outputs": [],
   "source": [
    "# Standardization with sklearn StandardScaler\n",
    "standard_scaler_2 = preprocessing.StandardScaler().fit(X2_train)\n",
    "X2_train = standard_scaler_2.transform(X2_train)\n",
    "X2_test = standard_scaler_2.transform(X2_test)\n"
   ]
  },
  {
   "cell_type": "markdown",
   "metadata": {},
   "source": [
    "### Select Features according to their explanatory value / importance for the response"
   ]
  },
  {
   "cell_type": "code",
   "execution_count": 17,
   "metadata": {},
   "outputs": [],
   "source": [
    "my_forest_2 = RandomForestClassifier(random_state = 1)\n",
    "my_forest_2.max_depth = 8\n",
    "my_forest_2.fit(X2_train, y2_train)\n",
    "\n",
    "# Check features for their importance for the prediction\n",
    "features_importances_2 = my_forest_2.feature_importances_\n",
    "\n"
   ]
  },
  {
   "cell_type": "code",
   "execution_count": 18,
   "metadata": {},
   "outputs": [],
   "source": [
    "# sort features in line with their importance for the prediction\n",
    "indices_2 = np.argsort(features_importances_2)[::-1]\n",
    "\n"
   ]
  },
  {
   "cell_type": "code",
   "execution_count": 19,
   "metadata": {},
   "outputs": [
    {
     "name": "stdout",
     "output_type": "stream",
     "text": [
      " 1 vwretd  0.0550\n",
      " 2 ptb     0.0371\n",
      " 3 vwretx  0.0368\n",
      " 4 DATE    0.0341\n",
      " 5 CAPEI   0.0311\n",
      " 6 ewretd  0.0280\n",
      " 7 ewretx  0.0261\n",
      " 8 PEG_1yrforward 0.0249\n",
      " 9 accrual 0.0233\n",
      "10 pretret_earnat 0.0230\n",
      "11 ps      0.0209\n",
      "12 roe     0.0198\n",
      "13 pcf     0.0197\n",
      "14 pe_op_dil 0.0172\n",
      "15 BID     0.0170\n"
     ]
    }
   ],
   "source": [
    "# print best 15 features and delete features above and start the RF again\n",
    "i = 0\n",
    "n = 15\n",
    "for i in range(n):\n",
    "    print('{0:2d} {1:7s} {2:6.4f}'.format(i+1, labels_of_features_2[indices_2[i]], features_importances_2[indices_2[i]]))\n",
    "del i,n"
   ]
  },
  {
   "cell_type": "markdown",
   "metadata": {},
   "source": [
    "### Extract best 'n' Variables"
   ]
  },
  {
   "cell_type": "code",
   "execution_count": 20,
   "metadata": {},
   "outputs": [
    {
     "data": {
      "text/html": [
       "<div>\n",
       "<style scoped>\n",
       "    .dataframe tbody tr th:only-of-type {\n",
       "        vertical-align: middle;\n",
       "    }\n",
       "\n",
       "    .dataframe tbody tr th {\n",
       "        vertical-align: top;\n",
       "    }\n",
       "\n",
       "    .dataframe thead th {\n",
       "        text-align: right;\n",
       "    }\n",
       "</style>\n",
       "<table border=\"1\" class=\"dataframe\">\n",
       "  <thead>\n",
       "    <tr style=\"text-align: right;\">\n",
       "      <th></th>\n",
       "      <th>vwretx</th>\n",
       "      <th>DATE</th>\n",
       "      <th>sprtrn</th>\n",
       "      <th>vwretd</th>\n",
       "      <th>ewretd</th>\n",
       "      <th>ewretx</th>\n",
       "      <th>divyield</th>\n",
       "      <th>BID</th>\n",
       "      <th>PEG_trailing</th>\n",
       "      <th>pe_op_basic</th>\n",
       "      <th>cash_lt</th>\n",
       "      <th>PEG_1yrforward</th>\n",
       "      <th>ASKHI</th>\n",
       "      <th>ptb</th>\n",
       "      <th>PEG_ltgforward</th>\n",
       "      <th>NEXT_DAY_PREDICTION</th>\n",
       "    </tr>\n",
       "  </thead>\n",
       "  <tbody>\n",
       "    <tr>\n",
       "      <th>0</th>\n",
       "      <td>-0.003552</td>\n",
       "      <td>1.138752e+18</td>\n",
       "      <td>0.000453</td>\n",
       "      <td>-0.001637</td>\n",
       "      <td>0.004836</td>\n",
       "      <td>0.003476</td>\n",
       "      <td>0.0134</td>\n",
       "      <td>26.87</td>\n",
       "      <td>10.280</td>\n",
       "      <td>21.496</td>\n",
       "      <td>1.710</td>\n",
       "      <td>14.555</td>\n",
       "      <td>28.0400</td>\n",
       "      <td>6.281</td>\n",
       "      <td>1.838</td>\n",
       "      <td>1.0</td>\n",
       "    </tr>\n",
       "    <tr>\n",
       "      <th>1</th>\n",
       "      <td>0.017585</td>\n",
       "      <td>1.141171e+18</td>\n",
       "      <td>0.011065</td>\n",
       "      <td>0.019053</td>\n",
       "      <td>0.036978</td>\n",
       "      <td>0.035232</td>\n",
       "      <td>0.0132</td>\n",
       "      <td>27.24</td>\n",
       "      <td>10.410</td>\n",
       "      <td>21.768</td>\n",
       "      <td>1.710</td>\n",
       "      <td>14.739</td>\n",
       "      <td>27.8900</td>\n",
       "      <td>6.293</td>\n",
       "      <td>1.842</td>\n",
       "      <td>0.0</td>\n",
       "    </tr>\n",
       "    <tr>\n",
       "      <th>2</th>\n",
       "      <td>0.011494</td>\n",
       "      <td>1.143850e+18</td>\n",
       "      <td>0.012187</td>\n",
       "      <td>0.012965</td>\n",
       "      <td>0.009791</td>\n",
       "      <td>0.008497</td>\n",
       "      <td>0.0149</td>\n",
       "      <td>24.16</td>\n",
       "      <td>9.239</td>\n",
       "      <td>19.320</td>\n",
       "      <td>1.710</td>\n",
       "      <td>13.081</td>\n",
       "      <td>27.7400</td>\n",
       "      <td>5.573</td>\n",
       "      <td>1.666</td>\n",
       "      <td>0.0</td>\n",
       "    </tr>\n",
       "    <tr>\n",
       "      <th>3</th>\n",
       "      <td>-0.033025</td>\n",
       "      <td>1.146442e+18</td>\n",
       "      <td>-0.030917</td>\n",
       "      <td>-0.031045</td>\n",
       "      <td>-0.044331</td>\n",
       "      <td>-0.045982</td>\n",
       "      <td>0.0159</td>\n",
       "      <td>22.70</td>\n",
       "      <td>0.709</td>\n",
       "      <td>17.695</td>\n",
       "      <td>1.572</td>\n",
       "      <td>-5.842</td>\n",
       "      <td>24.2900</td>\n",
       "      <td>5.496</td>\n",
       "      <td>1.480</td>\n",
       "      <td>1.0</td>\n",
       "    </tr>\n",
       "    <tr>\n",
       "      <th>4</th>\n",
       "      <td>-0.001881</td>\n",
       "      <td>1.149120e+18</td>\n",
       "      <td>0.000087</td>\n",
       "      <td>-0.000386</td>\n",
       "      <td>-0.008479</td>\n",
       "      <td>-0.010474</td>\n",
       "      <td>0.0155</td>\n",
       "      <td>23.38</td>\n",
       "      <td>0.730</td>\n",
       "      <td>18.203</td>\n",
       "      <td>1.572</td>\n",
       "      <td>-6.010</td>\n",
       "      <td>23.4702</td>\n",
       "      <td>5.577</td>\n",
       "      <td>1.522</td>\n",
       "      <td>1.0</td>\n",
       "    </tr>\n",
       "  </tbody>\n",
       "</table>\n",
       "</div>"
      ],
      "text/plain": [
       "     vwretx          DATE    sprtrn    vwretd    ewretd    ewretx  divyield  \\\n",
       "0 -0.003552  1.138752e+18  0.000453 -0.001637  0.004836  0.003476    0.0134   \n",
       "1  0.017585  1.141171e+18  0.011065  0.019053  0.036978  0.035232    0.0132   \n",
       "2  0.011494  1.143850e+18  0.012187  0.012965  0.009791  0.008497    0.0149   \n",
       "3 -0.033025  1.146442e+18 -0.030917 -0.031045 -0.044331 -0.045982    0.0159   \n",
       "4 -0.001881  1.149120e+18  0.000087 -0.000386 -0.008479 -0.010474    0.0155   \n",
       "\n",
       "     BID  PEG_trailing  pe_op_basic  cash_lt  PEG_1yrforward    ASKHI    ptb  \\\n",
       "0  26.87        10.280       21.496    1.710          14.555  28.0400  6.281   \n",
       "1  27.24        10.410       21.768    1.710          14.739  27.8900  6.293   \n",
       "2  24.16         9.239       19.320    1.710          13.081  27.7400  5.573   \n",
       "3  22.70         0.709       17.695    1.572          -5.842  24.2900  5.496   \n",
       "4  23.38         0.730       18.203    1.572          -6.010  23.4702  5.577   \n",
       "\n",
       "   PEG_ltgforward  NEXT_DAY_PREDICTION  \n",
       "0           1.838                  1.0  \n",
       "1           1.842                  0.0  \n",
       "2           1.666                  0.0  \n",
       "3           1.480                  1.0  \n",
       "4           1.522                  1.0  "
      ]
     },
     "metadata": {},
     "output_type": "display_data"
    }
   ],
   "source": [
    "# Extract only the n best variables + the responsa varable (NEXT_DAY_PREDICTION)\n",
    "dropnan_dataset_f = dropnan_dataset[['vwretd', 'ptb', 'vwretx', 'DATE', 'CAPEI', 'ewretd', 'ewretx', \n",
    "                                   'PEG_1yrforward', 'accrual', 'pretret_earnat', 'ps', 'roe', 'pcf', 'pe_op_dil', 'BID',\n",
    "                                   'NEXT_DAY_PREDICTION']]\n",
    "\n",
    "dropnan_dataset_f.to_csv('Data/generated/dropnan_dataset_ml_f.csv')\n",
    "\n",
    "\n",
    "display(imputed_dataset_f.head())"
   ]
  },
  {
   "cell_type": "markdown",
   "metadata": {},
   "source": [
    "###   \n",
    "# Prediction with Random Forest\n",
    "###   \n",
    "## Prediction\n",
    "## for Version 1: Imputed Dataset\n",
    "###   \n",
    "\n"
   ]
  },
  {
   "cell_type": "markdown",
   "metadata": {},
   "source": [
    "### Feature Matrix and Response Vector with Selected Features\n"
   ]
  },
  {
   "cell_type": "code",
   "execution_count": 21,
   "metadata": {},
   "outputs": [
    {
     "data": {
      "text/html": [
       "<div>\n",
       "<style scoped>\n",
       "    .dataframe tbody tr th:only-of-type {\n",
       "        vertical-align: middle;\n",
       "    }\n",
       "\n",
       "    .dataframe tbody tr th {\n",
       "        vertical-align: top;\n",
       "    }\n",
       "\n",
       "    .dataframe thead th {\n",
       "        text-align: right;\n",
       "    }\n",
       "</style>\n",
       "<table border=\"1\" class=\"dataframe\">\n",
       "  <thead>\n",
       "    <tr style=\"text-align: right;\">\n",
       "      <th></th>\n",
       "      <th>vwretx</th>\n",
       "      <th>DATE</th>\n",
       "      <th>sprtrn</th>\n",
       "      <th>vwretd</th>\n",
       "      <th>ewretd</th>\n",
       "      <th>ewretx</th>\n",
       "      <th>divyield</th>\n",
       "      <th>BID</th>\n",
       "      <th>PEG_trailing</th>\n",
       "      <th>pe_op_basic</th>\n",
       "      <th>cash_lt</th>\n",
       "      <th>PEG_1yrforward</th>\n",
       "      <th>ASKHI</th>\n",
       "      <th>ptb</th>\n",
       "      <th>PEG_ltgforward</th>\n",
       "    </tr>\n",
       "  </thead>\n",
       "  <tbody>\n",
       "    <tr>\n",
       "      <th>0</th>\n",
       "      <td>-0.003552</td>\n",
       "      <td>1.138752e+18</td>\n",
       "      <td>0.000453</td>\n",
       "      <td>-0.001637</td>\n",
       "      <td>0.004836</td>\n",
       "      <td>0.003476</td>\n",
       "      <td>0.0134</td>\n",
       "      <td>26.87</td>\n",
       "      <td>10.280</td>\n",
       "      <td>21.496</td>\n",
       "      <td>1.710</td>\n",
       "      <td>14.555</td>\n",
       "      <td>28.0400</td>\n",
       "      <td>6.281</td>\n",
       "      <td>1.838</td>\n",
       "    </tr>\n",
       "    <tr>\n",
       "      <th>1</th>\n",
       "      <td>0.017585</td>\n",
       "      <td>1.141171e+18</td>\n",
       "      <td>0.011065</td>\n",
       "      <td>0.019053</td>\n",
       "      <td>0.036978</td>\n",
       "      <td>0.035232</td>\n",
       "      <td>0.0132</td>\n",
       "      <td>27.24</td>\n",
       "      <td>10.410</td>\n",
       "      <td>21.768</td>\n",
       "      <td>1.710</td>\n",
       "      <td>14.739</td>\n",
       "      <td>27.8900</td>\n",
       "      <td>6.293</td>\n",
       "      <td>1.842</td>\n",
       "    </tr>\n",
       "    <tr>\n",
       "      <th>2</th>\n",
       "      <td>0.011494</td>\n",
       "      <td>1.143850e+18</td>\n",
       "      <td>0.012187</td>\n",
       "      <td>0.012965</td>\n",
       "      <td>0.009791</td>\n",
       "      <td>0.008497</td>\n",
       "      <td>0.0149</td>\n",
       "      <td>24.16</td>\n",
       "      <td>9.239</td>\n",
       "      <td>19.320</td>\n",
       "      <td>1.710</td>\n",
       "      <td>13.081</td>\n",
       "      <td>27.7400</td>\n",
       "      <td>5.573</td>\n",
       "      <td>1.666</td>\n",
       "    </tr>\n",
       "    <tr>\n",
       "      <th>3</th>\n",
       "      <td>-0.033025</td>\n",
       "      <td>1.146442e+18</td>\n",
       "      <td>-0.030917</td>\n",
       "      <td>-0.031045</td>\n",
       "      <td>-0.044331</td>\n",
       "      <td>-0.045982</td>\n",
       "      <td>0.0159</td>\n",
       "      <td>22.70</td>\n",
       "      <td>0.709</td>\n",
       "      <td>17.695</td>\n",
       "      <td>1.572</td>\n",
       "      <td>-5.842</td>\n",
       "      <td>24.2900</td>\n",
       "      <td>5.496</td>\n",
       "      <td>1.480</td>\n",
       "    </tr>\n",
       "    <tr>\n",
       "      <th>4</th>\n",
       "      <td>-0.001881</td>\n",
       "      <td>1.149120e+18</td>\n",
       "      <td>0.000087</td>\n",
       "      <td>-0.000386</td>\n",
       "      <td>-0.008479</td>\n",
       "      <td>-0.010474</td>\n",
       "      <td>0.0155</td>\n",
       "      <td>23.38</td>\n",
       "      <td>0.730</td>\n",
       "      <td>18.203</td>\n",
       "      <td>1.572</td>\n",
       "      <td>-6.010</td>\n",
       "      <td>23.4702</td>\n",
       "      <td>5.577</td>\n",
       "      <td>1.522</td>\n",
       "    </tr>\n",
       "  </tbody>\n",
       "</table>\n",
       "</div>"
      ],
      "text/plain": [
       "     vwretx          DATE    sprtrn    vwretd    ewretd    ewretx  divyield  \\\n",
       "0 -0.003552  1.138752e+18  0.000453 -0.001637  0.004836  0.003476    0.0134   \n",
       "1  0.017585  1.141171e+18  0.011065  0.019053  0.036978  0.035232    0.0132   \n",
       "2  0.011494  1.143850e+18  0.012187  0.012965  0.009791  0.008497    0.0149   \n",
       "3 -0.033025  1.146442e+18 -0.030917 -0.031045 -0.044331 -0.045982    0.0159   \n",
       "4 -0.001881  1.149120e+18  0.000087 -0.000386 -0.008479 -0.010474    0.0155   \n",
       "\n",
       "     BID  PEG_trailing  pe_op_basic  cash_lt  PEG_1yrforward    ASKHI    ptb  \\\n",
       "0  26.87        10.280       21.496    1.710          14.555  28.0400  6.281   \n",
       "1  27.24        10.410       21.768    1.710          14.739  27.8900  6.293   \n",
       "2  24.16         9.239       19.320    1.710          13.081  27.7400  5.573   \n",
       "3  22.70         0.709       17.695    1.572          -5.842  24.2900  5.496   \n",
       "4  23.38         0.730       18.203    1.572          -6.010  23.4702  5.577   \n",
       "\n",
       "   PEG_ltgforward  \n",
       "0           1.838  \n",
       "1           1.842  \n",
       "2           1.666  \n",
       "3           1.480  \n",
       "4           1.522  "
      ]
     },
     "metadata": {},
     "output_type": "display_data"
    }
   ],
   "source": [
    "# Extract labels of features\n",
    "labels_of_features_1 = imputed_dataset_f.columns[:-1]\n",
    "\n",
    "# X1 is the feature matrix\n",
    "X1 = imputed_dataset_f.iloc[:, :-1]\n",
    "display(X1.head())\n"
   ]
  },
  {
   "cell_type": "code",
   "execution_count": 22,
   "metadata": {},
   "outputs": [
    {
     "data": {
      "text/plain": [
       "0    1.0\n",
       "1    0.0\n",
       "2    0.0\n",
       "3    1.0\n",
       "4    1.0\n",
       "Name: NEXT_DAY_PREDICTION, dtype: float64"
      ]
     },
     "metadata": {},
     "output_type": "display_data"
    }
   ],
   "source": [
    "# y1 is the response vector\n",
    "y1 = imputed_dataset_f.iloc[:, -1]\n",
    "display(y1.head())"
   ]
  },
  {
   "cell_type": "markdown",
   "metadata": {},
   "source": [
    "### Train - / Test - Split with Selected Features"
   ]
  },
  {
   "cell_type": "code",
   "execution_count": 23,
   "metadata": {},
   "outputs": [],
   "source": [
    "# Do the train - test- split\n",
    "X1_train, X1_test, y1_train, y1_test = train_test_split(X1, y1, test_size = 0.2, random_state = 0, stratify = y1)\n"
   ]
  },
  {
   "cell_type": "code",
   "execution_count": 24,
   "metadata": {},
   "outputs": [
    {
     "data": {
      "text/plain": [
       "0.5602131438721136"
      ]
     },
     "metadata": {},
     "output_type": "display_data"
    },
    {
     "data": {
      "text/plain": [
       "0.5610795454545454"
      ]
     },
     "metadata": {},
     "output_type": "display_data"
    }
   ],
   "source": [
    "# Check if there is the approximately same percentage of '1' i both training and test response vector\n",
    "display(y1_train.sum() / y1_train.size)\n",
    "display(y1_test.sum() / y1_test.size)\n"
   ]
  },
  {
   "cell_type": "markdown",
   "metadata": {},
   "source": [
    "### Prediction of Response Vector with Random Forest"
   ]
  },
  {
   "cell_type": "code",
   "execution_count": 25,
   "metadata": {},
   "outputs": [
    {
     "data": {
      "text/plain": [
       "array([1., 1., 0., 1.])"
      ]
     },
     "metadata": {},
     "output_type": "display_data"
    }
   ],
   "source": [
    "# Test prediction of y1 with the test feature matrix: gives the prediction vector\n",
    "\n",
    "my_forest_1 = RandomForestClassifier(random_state = 1)\n",
    "my_forest_1.max_depth = 8\n",
    "my_forest_1.fit(X1_train, y1_train)\n",
    "\n",
    "prediction_1 = my_forest_1.predict(X1_test)\n",
    "\n",
    "display(prediction_1[1:5])\n",
    "\n"
   ]
  },
  {
   "cell_type": "code",
   "execution_count": 26,
   "metadata": {},
   "outputs": [
    {
     "data": {
      "text/plain": [
       "2841    0.0\n",
       "471     1.0\n",
       "2769    0.0\n",
       "1308    1.0\n",
       "Name: NEXT_DAY_PREDICTION, dtype: float64"
      ]
     },
     "metadata": {},
     "output_type": "display_data"
    }
   ],
   "source": [
    "# For comparison:\n",
    "\n",
    "display(y1_test[1:5])"
   ]
  },
  {
   "cell_type": "markdown",
   "metadata": {},
   "source": [
    "### Assess Results of Prediction"
   ]
  },
  {
   "cell_type": "code",
   "execution_count": 27,
   "metadata": {},
   "outputs": [
    {
     "name": "stdout",
     "output_type": "stream",
     "text": [
      "Ratio of Ones (Test 1)   =  0.5610795454545454\n",
      "Ratio of Ones (Train 1)  =  0.5602131438721136\n",
      "Score (Prediction 1)     =  0.7059659090909091\n"
     ]
    }
   ],
   "source": [
    "# Calculate percentage of of ones in the test response vector\n",
    "y1_test_score = print('Ratio of Ones (Test 1)   =  ' + str(y1_test.sum() / y1_test.size))\n",
    "# Just to be sure the ones are distributed ca.the same in test and train response vector, check this:\n",
    "y1_train_score = print('Ratio of Ones (Train 1)  =  ' + str(y1_train.sum() / y1_train.size))\n",
    "# Calculate precentage of ones predicted with the model\n",
    "prediction_1_score = print('Score (Prediction 1)     =  ' + str(prediction_1.sum() / prediction_1.size))\n"
   ]
  },
  {
   "cell_type": "code",
   "execution_count": 28,
   "metadata": {},
   "outputs": [
    {
     "data": {
      "text/plain": [
       "0.14488636363636365"
      ]
     },
     "execution_count": 28,
     "metadata": {},
     "output_type": "execute_result"
    }
   ],
   "source": [
    "# Calculate the score surplus above the test-set response vector score\n",
    "(prediction_1.sum()/prediction_1.size) - (y1_test.sum()/y1_test.size)\n"
   ]
  },
  {
   "cell_type": "markdown",
   "metadata": {},
   "source": [
    "### Cross Validation: tbc"
   ]
  },
  {
   "cell_type": "raw",
   "metadata": {},
   "source": []
  },
  {
   "cell_type": "markdown",
   "metadata": {},
   "source": [
    "###   \n",
    "## Prediction\n",
    "## for Version 2: Dataset with rows dropped that included Nans\n",
    "###   \n",
    "\n"
   ]
  },
  {
   "cell_type": "markdown",
   "metadata": {},
   "source": [
    "### Feature Matrix and Response Vector with Selected Features\n"
   ]
  },
  {
   "cell_type": "code",
   "execution_count": 29,
   "metadata": {},
   "outputs": [
    {
     "data": {
      "text/html": [
       "<div>\n",
       "<style scoped>\n",
       "    .dataframe tbody tr th:only-of-type {\n",
       "        vertical-align: middle;\n",
       "    }\n",
       "\n",
       "    .dataframe tbody tr th {\n",
       "        vertical-align: top;\n",
       "    }\n",
       "\n",
       "    .dataframe thead th {\n",
       "        text-align: right;\n",
       "    }\n",
       "</style>\n",
       "<table border=\"1\" class=\"dataframe\">\n",
       "  <thead>\n",
       "    <tr style=\"text-align: right;\">\n",
       "      <th></th>\n",
       "      <th>vwretd</th>\n",
       "      <th>ptb</th>\n",
       "      <th>vwretx</th>\n",
       "      <th>DATE</th>\n",
       "      <th>CAPEI</th>\n",
       "      <th>ewretd</th>\n",
       "      <th>ewretx</th>\n",
       "      <th>PEG_1yrforward</th>\n",
       "      <th>accrual</th>\n",
       "      <th>pretret_earnat</th>\n",
       "      <th>ps</th>\n",
       "      <th>roe</th>\n",
       "      <th>pcf</th>\n",
       "      <th>pe_op_dil</th>\n",
       "      <th>BID</th>\n",
       "    </tr>\n",
       "  </thead>\n",
       "  <tbody>\n",
       "    <tr>\n",
       "      <th>0</th>\n",
       "      <td>0.041186</td>\n",
       "      <td>4.085</td>\n",
       "      <td>0.038914</td>\n",
       "      <td>1328054400000000000</td>\n",
       "      <td>14.863</td>\n",
       "      <td>0.036494</td>\n",
       "      <td>0.035003</td>\n",
       "      <td>-20.961</td>\n",
       "      <td>0.053</td>\n",
       "      <td>0.352</td>\n",
       "      <td>3.696</td>\n",
       "      <td>0.421</td>\n",
       "      <td>9.193</td>\n",
       "      <td>11.500</td>\n",
       "      <td>31.73</td>\n",
       "    </tr>\n",
       "    <tr>\n",
       "      <th>1</th>\n",
       "      <td>0.023994</td>\n",
       "      <td>4.155</td>\n",
       "      <td>0.022110</td>\n",
       "      <td>1330560000000000000</td>\n",
       "      <td>15.121</td>\n",
       "      <td>0.017608</td>\n",
       "      <td>0.015303</td>\n",
       "      <td>-21.784</td>\n",
       "      <td>0.053</td>\n",
       "      <td>0.352</td>\n",
       "      <td>3.760</td>\n",
       "      <td>0.421</td>\n",
       "      <td>9.353</td>\n",
       "      <td>11.687</td>\n",
       "      <td>32.24</td>\n",
       "    </tr>\n",
       "    <tr>\n",
       "      <th>2</th>\n",
       "      <td>-0.065531</td>\n",
       "      <td>3.497</td>\n",
       "      <td>-0.067942</td>\n",
       "      <td>1335830400000000000</td>\n",
       "      <td>13.332</td>\n",
       "      <td>-0.068434</td>\n",
       "      <td>-0.070404</td>\n",
       "      <td>9.552</td>\n",
       "      <td>0.060</td>\n",
       "      <td>0.346</td>\n",
       "      <td>3.358</td>\n",
       "      <td>0.391</td>\n",
       "      <td>8.204</td>\n",
       "      <td>10.653</td>\n",
       "      <td>29.19</td>\n",
       "    </tr>\n",
       "    <tr>\n",
       "      <th>3</th>\n",
       "      <td>0.038156</td>\n",
       "      <td>3.656</td>\n",
       "      <td>0.036055</td>\n",
       "      <td>1338508800000000000</td>\n",
       "      <td>13.939</td>\n",
       "      <td>0.034188</td>\n",
       "      <td>0.031622</td>\n",
       "      <td>-30.032</td>\n",
       "      <td>0.060</td>\n",
       "      <td>0.346</td>\n",
       "      <td>3.510</td>\n",
       "      <td>0.391</td>\n",
       "      <td>8.577</td>\n",
       "      <td>11.164</td>\n",
       "      <td>30.58</td>\n",
       "    </tr>\n",
       "    <tr>\n",
       "      <th>4</th>\n",
       "      <td>0.026265</td>\n",
       "      <td>3.785</td>\n",
       "      <td>0.023665</td>\n",
       "      <td>1343779200000000000</td>\n",
       "      <td>14.175</td>\n",
       "      <td>0.024820</td>\n",
       "      <td>0.022964</td>\n",
       "      <td>1.451</td>\n",
       "      <td>0.127</td>\n",
       "      <td>0.317</td>\n",
       "      <td>3.505</td>\n",
       "      <td>0.268</td>\n",
       "      <td>8.170</td>\n",
       "      <td>11.289</td>\n",
       "      <td>30.81</td>\n",
       "    </tr>\n",
       "  </tbody>\n",
       "</table>\n",
       "</div>"
      ],
      "text/plain": [
       "     vwretd    ptb    vwretx                 DATE   CAPEI    ewretd    ewretx  \\\n",
       "0  0.041186  4.085  0.038914  1328054400000000000  14.863  0.036494  0.035003   \n",
       "1  0.023994  4.155  0.022110  1330560000000000000  15.121  0.017608  0.015303   \n",
       "2 -0.065531  3.497 -0.067942  1335830400000000000  13.332 -0.068434 -0.070404   \n",
       "3  0.038156  3.656  0.036055  1338508800000000000  13.939  0.034188  0.031622   \n",
       "4  0.026265  3.785  0.023665  1343779200000000000  14.175  0.024820  0.022964   \n",
       "\n",
       "   PEG_1yrforward  accrual  pretret_earnat     ps    roe    pcf  pe_op_dil  \\\n",
       "0         -20.961    0.053           0.352  3.696  0.421  9.193     11.500   \n",
       "1         -21.784    0.053           0.352  3.760  0.421  9.353     11.687   \n",
       "2           9.552    0.060           0.346  3.358  0.391  8.204     10.653   \n",
       "3         -30.032    0.060           0.346  3.510  0.391  8.577     11.164   \n",
       "4           1.451    0.127           0.317  3.505  0.268  8.170     11.289   \n",
       "\n",
       "     BID  \n",
       "0  31.73  \n",
       "1  32.24  \n",
       "2  29.19  \n",
       "3  30.58  \n",
       "4  30.81  "
      ]
     },
     "metadata": {},
     "output_type": "display_data"
    }
   ],
   "source": [
    "# Extract labels of features\n",
    "labels_of_features_2 = dropnan_dataset_f.columns[:-1]\n",
    "\n",
    "# X2 is the feature matrix\n",
    "X2 = dropnan_dataset_f.iloc[:, :-1]\n",
    "display(X2.head())\n"
   ]
  },
  {
   "cell_type": "code",
   "execution_count": 30,
   "metadata": {},
   "outputs": [
    {
     "data": {
      "text/plain": [
       "0    1.0\n",
       "1    0.0\n",
       "2    1.0\n",
       "3    0.0\n",
       "4    0.0\n",
       "Name: NEXT_DAY_PREDICTION, dtype: float64"
      ]
     },
     "metadata": {},
     "output_type": "display_data"
    }
   ],
   "source": [
    "# y2 is the response vector\n",
    "y2 = dropnan_dataset_f.iloc[:, -1]\n",
    "display(y2.head())"
   ]
  },
  {
   "cell_type": "markdown",
   "metadata": {},
   "source": [
    "### Train - / Test - Split with Selected Features"
   ]
  },
  {
   "cell_type": "code",
   "execution_count": 31,
   "metadata": {},
   "outputs": [],
   "source": [
    "# Do the train - test- split\n",
    "X2_train, X2_test, y2_train, y2_test = train_test_split(X2, y2, test_size = 0.2, random_state = 0, stratify = y2)\n"
   ]
  },
  {
   "cell_type": "code",
   "execution_count": 32,
   "metadata": {},
   "outputs": [
    {
     "data": {
      "text/plain": [
       "0.5725524475524476"
      ]
     },
     "metadata": {},
     "output_type": "display_data"
    },
    {
     "data": {
      "text/plain": [
       "0.5734265734265734"
      ]
     },
     "metadata": {},
     "output_type": "display_data"
    }
   ],
   "source": [
    "# Check if there is the approximately same percentage of '1' i both training and test response vector\n",
    "display(y2_train.sum() / y2_train.size)\n",
    "display(y2_test.sum() / y2_test.size)\n"
   ]
  },
  {
   "cell_type": "markdown",
   "metadata": {},
   "source": [
    "### Prediction of Response Vector with Random Forest"
   ]
  },
  {
   "cell_type": "code",
   "execution_count": 33,
   "metadata": {},
   "outputs": [
    {
     "data": {
      "text/plain": [
       "array([1., 0., 1., 1.])"
      ]
     },
     "metadata": {},
     "output_type": "display_data"
    }
   ],
   "source": [
    "# Test prediction of y2 with the test feature matrix: gives the prediction vector\n",
    "\n",
    "my_forest_2 = RandomForestClassifier(random_state = 1)\n",
    "my_forest_2.max_depth = 8\n",
    "my_forest_2.fit(X2_train, y2_train)\n",
    "\n",
    "prediction_2 = my_forest_2.predict(X2_test)\n",
    "\n",
    "display(prediction_2[1:5])\n",
    "\n"
   ]
  },
  {
   "cell_type": "code",
   "execution_count": 34,
   "metadata": {},
   "outputs": [
    {
     "data": {
      "text/plain": [
       "109     0.0\n",
       "1087    1.0\n",
       "315     0.0\n",
       "1027    1.0\n",
       "Name: NEXT_DAY_PREDICTION, dtype: float64"
      ]
     },
     "metadata": {},
     "output_type": "display_data"
    }
   ],
   "source": [
    "# For comparison:\n",
    "\n",
    "display(y2_test[1:5])"
   ]
  },
  {
   "cell_type": "markdown",
   "metadata": {},
   "source": [
    "### Assess Results of Prediction"
   ]
  },
  {
   "cell_type": "code",
   "execution_count": 35,
   "metadata": {},
   "outputs": [
    {
     "name": "stdout",
     "output_type": "stream",
     "text": [
      "Ratio of Ones (Test 2)   =  0.5734265734265734\n",
      "Ratio of Ones (Train 2)  =  0.5725524475524476\n",
      "Score (Prediction 2)     =  0.7447552447552448\n"
     ]
    }
   ],
   "source": [
    "# Calculate percentage of of ones in the test response vector\n",
    "print('Ratio of Ones (Test 2)   =  ' + str(y2_test.sum() / y2_test.size))\n",
    "# Just to be sure the ones are distributed ca.the same in test and train response vector, check this:\n",
    "print('Ratio of Ones (Train 2)  =  ' + str(y2_train.sum() / y2_train.size))\n",
    "# Calculate precentage of ones predicted with the model\n",
    "print('Score (Prediction 2)     =  ' + str(prediction_2.sum() / prediction_2.size))\n"
   ]
  },
  {
   "cell_type": "code",
   "execution_count": 36,
   "metadata": {},
   "outputs": [
    {
     "data": {
      "text/plain": [
       "0.17132867132867136"
      ]
     },
     "execution_count": 36,
     "metadata": {},
     "output_type": "execute_result"
    }
   ],
   "source": [
    "# Calculate the score surplus above the test-set response vector score\n",
    "(prediction_2.sum()/prediction_2.size) - (y2_test.sum()/y2_test.size)\n"
   ]
  },
  {
   "cell_type": "markdown",
   "metadata": {},
   "source": [
    "# Compare Version 1 and Version 2"
   ]
  },
  {
   "cell_type": "code",
   "execution_count": 37,
   "metadata": {},
   "outputs": [
    {
     "name": "stdout",
     "output_type": "stream",
     "text": [
      "Score (Prediction 1) =  0.7059659090909091\n",
      "Version 1 Score Gain = 0.14488636363636365\n",
      "Score (Prediction 2) =  0.7447552447552448\n",
      "Version 2 Score Gain = 0.17132867132867136\n"
     ]
    }
   ],
   "source": [
    "#    \n",
    "print('Score (Prediction 1) =  ' + str(prediction_1.sum() / prediction_1.size))\n",
    "print('Version 1 Score Gain = '  + str((prediction_1.sum()/prediction_1.size) - (y1_test.sum()/y1_test.size)))\n",
    "\n",
    "#   \n",
    "print('Score (Prediction 2) =  ' + str(prediction_2.sum() / prediction_2.size))\n",
    "print('Version 2 Score Gain = '  + str((prediction_2.sum()/prediction_2.size) - (y2_test.sum()/y2_test.size)))\n"
   ]
  },
  {
   "cell_type": "markdown",
   "metadata": {},
   "source": [
    "## ==> We see: \n",
    "### Version 2, with the Dataset where we droped all rows with Nan, \n",
    "### produces a better score than Version 1, where we filled the Nans with the mean. "
   ]
  },
  {
   "cell_type": "markdown",
   "metadata": {},
   "source": [
    "# Cross Validation: tbc"
   ]
  },
  {
   "cell_type": "code",
   "execution_count": null,
   "metadata": {},
   "outputs": [],
   "source": []
  },
  {
   "cell_type": "code",
   "execution_count": null,
   "metadata": {},
   "outputs": [],
   "source": []
  }
 ],
 "metadata": {
  "kernelspec": {
   "display_name": "Python 3",
   "language": "python",
   "name": "python3"
  },
  "language_info": {
   "codemirror_mode": {
    "name": "ipython",
    "version": 3
   },
   "file_extension": ".py",
   "mimetype": "text/x-python",
   "name": "python",
   "nbconvert_exporter": "python",
   "pygments_lexer": "ipython3",
   "version": "3.6.4"
  }
 },
 "nbformat": 4,
 "nbformat_minor": 2
}
