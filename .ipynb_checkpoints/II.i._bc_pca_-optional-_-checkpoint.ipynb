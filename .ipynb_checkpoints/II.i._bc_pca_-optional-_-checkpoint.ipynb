{
 "cells": [
  {
   "cell_type": "markdown",
   "metadata": {},
   "source": [
    "### Introduction to Machine Learning, UZH FS18, Group Project\n",
    "\n",
    "### Group 2: Barbara Capl, Mathias Lüthi, Pamela Matias, Stefanie Rentsch\n",
    "\n",
    "\n",
    "#     \n",
    "# II.i     Feature Extraction with PCA"
   ]
  },
  {
   "cell_type": "code",
   "execution_count": 2,
   "metadata": {},
   "outputs": [],
   "source": [
    "# hide unnecessary warnings (\"depreciation\" of packages etc.)\n",
    "import warnings\n",
    "warnings.filterwarnings('ignore')\n",
    "\n",
    "# import packages\n",
    "import numpy as np\n",
    "import pandas as pd\n",
    "import matplotlib as pl\n",
    "import matplotlib.pyplot as plt\n",
    "import statsmodels.api as sm\n",
    "import statsmodels.formula.api as smf\n",
    "import sklearn as skl\n",
    "from sklearn.svm import SVR\n",
    "from sklearn import preprocessing\n",
    "from sklearn.ensemble import RandomForestClassifier\n",
    "from sklearn.decomposition import PCA\n",
    "from sklearn.pipeline import Pipeline"
   ]
  },
  {
   "cell_type": "markdown",
   "metadata": {},
   "source": [
    "# 1. Import datasets (pre-generated test-split)\n"
   ]
  },
  {
   "cell_type": "markdown",
   "metadata": {},
   "source": [
    "#### Version 1: only ratios as predictive features"
   ]
  },
  {
   "cell_type": "code",
   "execution_count": 24,
   "metadata": {},
   "outputs": [
    {
     "name": "stdout",
     "output_type": "stream",
     "text": [
      "Shape of Imputed Dataset = (3519, 94)\n",
      "Shape of Dataset with Nans dropped = (1430, 94)\n"
     ]
    }
   ],
   "source": [
    "# Import Feature Matrix\n",
    "X1_train = pd.read_csv('Data/generated_splits/X1_train.csv', sep = ',')\n",
    "X1_test = pd.read_csv('Data/generated_splits/X1_test.csv', sep = ',')\n",
    "\n",
    "# Import Response Vector\n",
    "y1_train = pd.read_csv('Data/generated_splits/y1_train.csv', sep = ',')\n",
    "y1_test = pd.read_csv('Data/generated_splits/y1_test.csv', sep = ',')\n",
    "\n",
    "\n",
    "### OR COULD ALSO IMPORT DATASET 1 & 2 AND THEN MAKE TRAIN-TEST SPLIT AGAIN!!\n",
    "\n",
    "#df_1 = pd.read_csv('Data/generated_datasets/df_1.csv', sep = ',')\n",
    "#print('Shape of Dataset 1 = ' + str(df_1.shape))\n",
    "\n",
    "# Extract labels of features\n",
    "#labels_of_features_1 = imputed_dataset.columns[:-1]\n",
    "#type(labels_of_features_1)\n",
    "\n",
    "# X1 is the feature matrix\n",
    "#X1 = imputed_dataset.iloc[:, :-1]\n",
    "#print(\"\")\n",
    "#print('Head of Feature Matrix X1')\n",
    "#display(X1.head())\n",
    "\n",
    "# # y1 is the response vector\n",
    "#y1 = imputed_dataset.iloc[:, -1]\n",
    "#print(\"\")\n",
    "#print('Head of Response Vector y1')\n",
    "#display(y1.head())\n",
    "\n",
    "# Do the train - test- split\n",
    "#X1_train, X1_test, y1_train, y1_test = train_test_split(X1, y1, test_size = 0.2, random_state = 0, stratify = y1)\n",
    "\n",
    "# Check if there is the approximately same percentage of '1' i both training and test response vector\n",
    "#display(y1_train.sum() / y1_train.size)\n",
    "#display(y1_test.sum() / y1_test.size)\n",
    "\n",
    "# Standardization with sklearn StandardScaler\n",
    "#standard_scaler_1 = preprocessing.StandardScaler().fit(X1_train)\n",
    "#X1_train = standard_scaler_1.transform(X1_train)\n",
    "#X1_test = standard_scaler_1.transform(X1_test)"
   ]
  },
  {
   "cell_type": "markdown",
   "metadata": {},
   "source": [
    "#### Version 2: ratios + seasonality + other market data"
   ]
  },
  {
   "cell_type": "code",
   "execution_count": 24,
   "metadata": {},
   "outputs": [
    {
     "name": "stdout",
     "output_type": "stream",
     "text": [
      "Shape of Imputed Dataset = (3519, 94)\n",
      "Shape of Dataset with Nans dropped = (1430, 94)\n"
     ]
    }
   ],
   "source": [
    "# Import Feature Matrix\n",
    "X2_train = pd.read_csv('Data/generated_splits/X2_train.csv', sep = ',')\n",
    "X2_test = pd.read_csv('Data/generated_splits/X2_test.csv', sep = ',')\n",
    "\n",
    "# Import Response Vector\n",
    "y2_train = pd.read_csv('Data/generated_splits/y2_train.csv', sep = ',')\n",
    "y2_test = pd.read_csv('Data/generated_splits/y2_test.csv', sep = ',')\n",
    "\n",
    "\n",
    "\n",
    "### OR COULD ALSO IMPORT DATASET 1 & 2 AND THEN MAKE TRAIN-TEST SPLIT AGAIN!!\n",
    "\n",
    "#df_2 = pd.read_csv('Data/generated_datasets/df_2.csv', sep = ',')\n",
    "#print('Shape of Dataset 2 = ' + str(df_2.shape))\n",
    "\n",
    "# Extract labels of features\n",
    "#feature_labels_2 = df_2.columns[:-1]\n",
    "#type(feature_labels_2)\n",
    "\n",
    "# X2 is the feature matrix\n",
    "#X2 = df_2.iloc[:, :-1]\n",
    "#print(\"\")\n",
    "#print('Head of Feature Matrix X2')\n",
    "#display(X2.head())\n",
    "\n",
    "# # y2 is the response vector\n",
    "#y2 = df_2.iloc[:, -1]\n",
    "#print(\"\")\n",
    "#print('Head of Response Vector y2')\n",
    "#display(y2.head())\n",
    "\n",
    "# Do the train - test- split\n",
    "#X2_train, X2_test, y2_train, y2_test = train_test_split(X2, y2, test_size = 0.2, random_state = 0, stratify = y2)\n",
    "\n",
    "# Check if there is the approximately same percentage of '1' i both training and test response vector\n",
    "#display(y2_train.sum() / y2_train.size)\n",
    "#display(y2_test.sum() / y2_test.size)\n",
    "\n",
    "# Standardization with sklearn StandardScaler\n",
    "#standard_scaler_2 = preprocessing.StandardScaler().fit(X2_train)\n",
    "#X2_train = standard_scaler_2.transform(X2_train)\n",
    "#X2_test = standard_scaler_2.transform(X2_test)"
   ]
  },
  {
   "cell_type": "markdown",
   "metadata": {},
   "source": [
    "  \n",
    "# 2. Generate PCA object and show plots"
   ]
  },
  {
   "cell_type": "markdown",
   "metadata": {},
   "source": [
    "## 2.1.  Run PCA on whole Training Set for all possible PCAs (= number of columns)"
   ]
  },
  {
   "cell_type": "code",
   "execution_count": 33,
   "metadata": {},
   "outputs": [
    {
     "name": "stdout",
     "output_type": "stream",
     "text": [
      "\n",
      "---Version 1: Imputed Dataset---\n",
      "\n",
      "Explained Variance, first 10 rows: \n",
      "[0.16214649 0.11216581 0.09743374 0.05947607 0.05223017 0.04726131\n",
      " 0.03826923 0.03356937 0.03135616 0.02775493]\n",
      "\n",
      "Explained Variance in Total = 1.0000000000000002\n",
      "\n",
      "Cumulative explained Variance, first 10 rows: \n",
      "[0.16214649 0.2743123  0.37174604 0.43122212 0.48345229 0.5307136\n",
      " 0.56898282 0.6025522  0.63390836 0.66166328]\n",
      "\n",
      "Maximal number (q_1) of PCs is: 93\n",
      "\n",
      "\n",
      "---Version 2: Dropnan Dataset---\n",
      "\n",
      "Explained Variance, first 10 rows: \n",
      "[0.21706937 0.10834824 0.09389473 0.06581307 0.06190083 0.05694969\n",
      " 0.05041091 0.04141501 0.03428958 0.02498159]\n",
      "\n",
      "Explained Variance in Total = 1.0000000000000002\n",
      "\n",
      "Cumulative explained Variance, first 10 rows: \n",
      "[0.21706937 0.32541762 0.41931235 0.48512542 0.54702625 0.60397595\n",
      " 0.65438686 0.69580187 0.73009144 0.75507304]\n",
      "\n",
      "Maximal number (q_2) of PCs is: 93\n",
      "\n"
     ]
    }
   ],
   "source": [
    "# Run PCA for all possible PCAs\n",
    "pca_a1 = PCA().fit(X1_train)\n",
    "pca_a2 = PCA().fit(X2_train)\n",
    "\n",
    "# Define maximal number of principal components => the \"1\" in shape[1] refers to columns (\"0\" would be rows)\n",
    "q_a1 = X1_train.shape[1]\n",
    "q_a2 = X2_train.shape[1]\n",
    "\n",
    "# Get the amount of variance that each PC explains\n",
    "# The eigenvalues represent the variance in the direction of the eigenvector\n",
    "# These numbers for each component are proportional to the Eigenvalues \n",
    "# This means that the ratio of the eigenvalue of the first principal component \n",
    "# to the eigenvalue of the second principal component is 0.16214649\n",
    "# SEE => https://stackoverflow.com/questions/37757172/finding-and-utilizing-eigenvalues-and-eigenvectors-from-pca-in-scikit-learn?rpca.q=1\n",
    "expl_var_a1 = pca_a1.explained_variance_ratio_\n",
    "expl_var_a2 = pca_a2.explained_variance_ratio_\n",
    "\n",
    "# Get cumulative sum of the PCA 1-q_a1\n",
    "sum_expl_var_a1 = np.cumsum(expl_var_a1)[:q_a1]\n",
    "sum_expl_var_a2 = np.cumsum(expl_var_a2)[:q_a2]\n",
    "\n",
    "# because we run PCA for all possible PCAs, sum of al explained Variance of the training set should be 1\n",
    "\n",
    "print(\"\")\n",
    "print('---Dataset 1---')\n",
    "print(\"\")\n",
    "print('Explained Variance, first 10 rows: ')\n",
    "print(expl_var_a1[0:10])\n",
    "print(\"\")\n",
    "print('Explained Variance in Total = ' + str(expl_var_a1.sum()))\n",
    "print(\"\")\n",
    "print('Cumulative explained Variance, first 10 rows: ')\n",
    "print(sum_expl_var_a1[0:10])\n",
    "print(\"\")\n",
    "print('Maximal number (q_1) of PCs is: ' + str(q_a1))\n",
    "print(\"\")\n",
    "print(\"\")\n",
    "print('---Dataset 2---')\n",
    "print(\"\")\n",
    "print('Explained Variance, first 10 rows: ')\n",
    "print(expl_var_a2[0:10])\n",
    "print(\"\")\n",
    "print('Explained Variance in Total = ' + str(expl_var_a2.sum()))\n",
    "print(\"\")\n",
    "print('Cumulative explained Variance, first 10 rows: ')\n",
    "print(sum_expl_var_a2[0:10])\n",
    "print(\"\")\n",
    "print('Maximal number (q_2) of PCs is: ' + str(q_a2))\n",
    "print(\"\")"
   ]
  },
  {
   "cell_type": "markdown",
   "metadata": {},
   "source": [
    "### 2.1.1  Plot cumulative explained variace"
   ]
  },
  {
   "cell_type": "code",
   "execution_count": 39,
   "metadata": {},
   "outputs": [
    {
     "data": {
      "image/png": "[encoded data removed]",
      "text/plain": [
       "<matplotlib.figure.Figure at 0x7f11c4041358>"
      ]
     },
     "metadata": {},
     "output_type": "display_data"
    },
    {
     "data": {
      "image/png": "[encoded data removed]",
      "text/plain": [
       "<matplotlib.figure.Figure at 0x7f11c4493c88>"
      ]
     },
     "metadata": {},
     "output_type": "display_data"
    }
   ],
   "source": [
    "# Plot curve with cumulative sum (Dataset 1: only ratios)\n",
    "plt.plot(sum_expl_var_a1)\n",
    "plt.title('Cumulative explained Variance (D1)')\n",
    "plt.xlabel('Number of Components')\n",
    "plt.ylabel('Ratio of Cum. explained Variance')\n",
    "plt.show();\n",
    "\n",
    "# Plot curve with cumulative sum (Dataset 2: ratios + seasonality + market)\n",
    "plt.plot(sum_expl_var_a2)\n",
    "plt.title('Cumulative explained Variance (D2)')\n",
    "plt.xlabel('Number of Components')\n",
    "plt.ylabel('Ratio of Cum. explained Variance')\n",
    "plt.show();"
   ]
  },
  {
   "cell_type": "markdown",
   "metadata": {},
   "source": [
    "### 2.1.2  Plot explained variance by single components"
   ]
  },
  {
   "cell_type": "code",
   "execution_count": 41,
   "metadata": {},
   "outputs": [
    {
     "data": {
      "image/png": "[encoded data removed]",
      "text/plain": [
       "<matplotlib.figure.Figure at 0x7f11bf77ca58>"
      ]
     },
     "metadata": {},
     "output_type": "display_data"
    },
    {
     "data": {
      "image/png": "[encoded data removed]",
      "text/plain": [
       "<matplotlib.figure.Figure at 0x7f11c468e208>"
      ]
     },
     "metadata": {},
     "output_type": "display_data"
    }
   ],
   "source": [
    "# Plot curve with explained variance (Dataset 1: only ratios)\n",
    "plt.plot(expl_var_a1)\n",
    "plt.title('Explained Variance by single components (D1)')\n",
    "plt.xlabel('Number of Components')\n",
    "plt.ylabel('Ratio of Variance explained')\n",
    "plt.xticks(range(-1, q_a1 + 1, 5))\n",
    "plt.show();\n",
    "\n",
    "# Plot curve with explained variance (Dataset 2: ratios + seasonality + market)\n",
    "plt.plot(expl_var_a2)\n",
    "plt.title('Explained Variance by single components (D2)')\n",
    "plt.xlabel('Number of Components')\n",
    "plt.ylabel('Ratio of Variance explained')\n",
    "plt.xticks(range(-1, q_a2 + 1, 5))\n",
    "plt.show();"
   ]
  },
  {
   "cell_type": "markdown",
   "metadata": {},
   "source": [
    "### 2.1.3 Plot feature importances"
   ]
  },
  {
   "cell_type": "code",
   "execution_count": 43,
   "metadata": {},
   "outputs": [
    {
     "data": {
      "image/png": "[encoded data removed]",
      "text/plain": [
       "<matplotlib.figure.Figure at 0x7f11c4056a58>"
      ]
     },
     "metadata": {},
     "output_type": "display_data"
    },
    {
     "data": {
      "image/png": "[encoded data removed]",
      "text/plain": [
       "<matplotlib.figure.Figure at 0x7f11c4253f98>"
      ]
     },
     "metadata": {},
     "output_type": "display_data"
    }
   ],
   "source": [
    "# Plot Feature Importances (both cumulative and idividual)\n",
    "plt.figure(figsize = (12, 6))\n",
    "plt.title('Feature Importances (best 30) for Dataset 1)')\n",
    "plt.plot(expl_var_a1) #range(0, q_1 + 1), align = 'center')\n",
    "plt.xticks(range(0, q_a1 + 1, 1))\n",
    "plt.xlim([0, 30])\n",
    "plt.xlabel('Principal Components Version a1')\n",
    "plt.ylabel('Explained Variance Ratio')\n",
    "plt.step(range(1, q_a1 + 1), sum_expl_var_a1, where = 'mid')\n",
    "plt.tight_layout();\n",
    "\n",
    "########  =>>> plt.bar(range(0, q_1), expl_var_1, alogn = 'center') gives ERROR MESSAGE.\n",
    "\n",
    "# Plot Feature Importances (both cumulative and idividual)\n",
    "plt.figure(figsize = (12, 6))\n",
    "plt.title('Feature Importances (best 30) for Dataset 2')\n",
    "plt.plot(expl_var_a2) #range(0, q_1 + 1), align = 'center')\n",
    "plt.xticks(range(0, q_a2 + 1, 1))\n",
    "plt.xlim([0, 30])\n",
    "plt.xlabel('Principal Components Version a2')\n",
    "plt.ylabel('Explained Variance Ratio')\n",
    "plt.step(range(1, q_a2 + 1), sum_expl_var_a2, where = 'mid')\n",
    "plt.tight_layout();\n",
    "\n",
    "########  =>>> plt.bar(range(0, q_1), expl_var_1, alogn = 'center') gives ERROR MESSAGE."
   ]
  },
  {
   "cell_type": "markdown",
   "metadata": {},
   "source": [
    "## 2.2.  Run PCA on whole Training Set for selected number 'q' of PCAs"
   ]
  },
  {
   "cell_type": "markdown",
   "metadata": {},
   "source": [
    "### 2.2.1. Choose number of Principal Components  and get them for further use"
   ]
  },
  {
   "cell_type": "code",
   "execution_count": 54,
   "metadata": {},
   "outputs": [
    {
     "name": "stdout",
     "output_type": "stream",
     "text": [
      "PCA Object 1; PCA(copy=True, iterated_power='auto', n_components=10, random_state=None,\n",
      "  svd_solver='auto', tol=0.0, whiten=False)\n",
      "PCA Object 2; PCA(copy=True, iterated_power='auto', n_components=10, random_state=None,\n",
      "  svd_solver='auto', tol=0.0, whiten=False)\n",
      "\n",
      "---Version 1: Imputed Dataset---\n",
      "\n",
      "Explained Variance, first 10 rows: \n",
      "[0.16214649 0.11216581 0.09743374 0.05947605 0.05223016 0.04726127\n",
      " 0.03826841 0.0335688  0.03135543 0.02775264]\n",
      "\n",
      "Explained Variance in Total = 0.6616588145696687\n",
      "\n",
      "Cumulative explained Variance, first 10 rows: \n",
      "[0.16214649 0.2743123  0.37174604 0.43122209 0.48345226 0.53071353\n",
      " 0.56898193 0.60255074 0.63390617 0.66165881]\n",
      "\n",
      "\n",
      "---Version 2: Dropnan Dataset---\n",
      "\n",
      "Explained Variance, first 10 rows: \n",
      "[0.21706937 0.10834824 0.09389473 0.06581307 0.06190083 0.05694969\n",
      " 0.0504109  0.04141493 0.03428939 0.02497971]\n",
      "\n",
      "Explained Variance in Total = 0.7550708720706368\n",
      "\n",
      "Cumulative explained Variance, first 10 rows: \n",
      "[0.21706937 0.32541762 0.41931235 0.48512542 0.54702625 0.60397594\n",
      " 0.65438684 0.69580177 0.73009116 0.75507087]\n",
      "\n"
     ]
    }
   ],
   "source": [
    "# Define number of principal components we wish to extract\n",
    "q_1 = 10\n",
    "q_2 = 10\n",
    "\n",
    "# Create PCA object\n",
    "pca_1 = PCA(n_components = q_1)\n",
    "pca_2 = PCA(n_components = q_2)\n",
    "\n",
    "# Fit PCA object to find first principal components\n",
    "pca_1.fit(X1_train)\n",
    "pca_2.fit(X2_train)\n",
    "\n",
    "print('PCA Object 1; ' + str(pca_1))\n",
    "print('PCA Object 2; ' + str(pca_2))\n",
    "\n",
    "# Get the amount of variance that each PC explains\n",
    "# The eigenvalues represent the variance in the direction of the eigenvector\n",
    "# These numbers for each component are proportional to the Eigenvalues \n",
    "# This means that the ratio of the eigenvalue of the first principal component \n",
    "# to the eigenvalue of the second principal component is 0.16214649\n",
    "# SEE => https://stackoverflow.com/questions/37757172/finding-and-utilizing-eigenvalues-and-eigenvectors-from-pca-in-scikit-learn?rpca.q=1\n",
    "expl_var_1 = pca_1.explained_variance_ratio_\n",
    "expl_var_2 = pca_2.explained_variance_ratio_\n",
    "\n",
    "# Get cumulative sum of the PCA 1-q_1\n",
    "sum_expl_var_1 = np.cumsum(expl_var_1)[:q_1]\n",
    "sum_expl_var_2 = np.cumsum(expl_var_2)[:q_2]\n",
    "\n",
    "# because we run PCA for only q_1 components, sum of al explained Variance of the training set should be LESS than 1\n",
    "\n",
    "print(\"\")\n",
    "print('---Version 1: Imputed Dataset---')\n",
    "print(\"\")\n",
    "print('Explained Variance, first 10 rows: ')\n",
    "print(expl_var_1[0:10])\n",
    "print(\"\")\n",
    "print('Explained Variance in Total = ' + str(expl_var_1.sum()))\n",
    "print(\"\")\n",
    "print('Cumulative explained Variance, first 10 rows: ')\n",
    "print(sum_expl_var_1[0:10])\n",
    "print(\"\")\n",
    "print(\"\")\n",
    "print('---Version 2: Dropnan Dataset---')\n",
    "print(\"\")\n",
    "print('Explained Variance, first 10 rows: ')\n",
    "print(expl_var_2[0:10])\n",
    "print(\"\")\n",
    "print('Explained Variance in Total = ' + str(expl_var_2.sum()))\n",
    "print(\"\")\n",
    "print('Cumulative explained Variance, first 10 rows: ')\n",
    "print(sum_expl_var_2[0:10])\n",
    "print(\"\")"
   ]
  },
  {
   "cell_type": "markdown",
   "metadata": {},
   "source": [
    "### 2.2.2.  Extract q_1 /q_2 number of features out of Training Set; Transform feature matrix with pca object"
   ]
  },
  {
   "cell_type": "markdown",
   "metadata": {},
   "source": [
    "#### Version 1: only ratios as predictive features"
   ]
  },
  {
   "cell_type": "code",
   "execution_count": 55,
   "metadata": {},
   "outputs": [
    {
     "data": {
      "text/plain": [
       "array([[ 4.31590536e+00,  1.70666807e+00, -4.34128348e-01, ...,\n",
       "        -5.46551000e-01,  1.62320138e+00, -1.45144532e+00],\n",
       "       [ 5.24864336e+00,  2.40429344e+00,  1.64333305e+00, ...,\n",
       "        -4.12253037e-02,  1.91134736e+00, -5.85106179e-01],\n",
       "       [-2.45572974e+00,  5.91318278e+00, -2.26706862e-01, ...,\n",
       "        -4.03657729e-01, -1.08977821e-01,  1.31563490e+00],\n",
       "       ...,\n",
       "       [ 2.87438689e+00, -2.12139305e+00, -2.21526174e+00, ...,\n",
       "        -9.63125829e-01,  1.60301654e+00, -1.82506651e-02],\n",
       "       [-2.12668723e+00,  2.52638963e+00, -1.47263273e+00, ...,\n",
       "         3.10488464e-01,  4.47773993e-01, -7.27731174e-01],\n",
       "       [ 4.34957797e+00,  5.68558602e-03,  2.45500351e+00, ...,\n",
       "         6.15230887e-01, -6.52788813e-01,  1.25758177e+00]])"
      ]
     },
     "metadata": {},
     "output_type": "display_data"
    },
    {
     "data": {
      "text/plain": [
       "(2815, 10)"
      ]
     },
     "metadata": {},
     "output_type": "display_data"
    },
    {
     "data": {
      "text/plain": [
       "(2815, 93)"
      ]
     },
     "metadata": {},
     "output_type": "display_data"
    }
   ],
   "source": [
    "# Extract q_1 number of features according to pca analysis\n",
    "# WEBSITE => https://www.analyticsvidhya.com/blog/2016/03/practical-guide-principal-component-analysis-python/\n",
    "X1_train_transformed = pca_1.fit_transform(X1_train)\n",
    "\n",
    "# display properties\n",
    "display(X1_train_transformed)\n",
    "len(X1_train_transformed)\n",
    "display(X1_train_transformed.shape)\n",
    "display(X1_train.shape)\n",
    "\n",
    "# This gives the Eigenvalues?"
   ]
  },
  {
   "cell_type": "markdown",
   "metadata": {},
   "source": [
    "#### Version 2: ratios + seasonality + other market data"
   ]
  },
  {
   "cell_type": "code",
   "execution_count": 57,
   "metadata": {},
   "outputs": [
    {
     "data": {
      "text/plain": [
       "array([[-10.25450983,  -2.95853666,   2.2152428 , ...,   1.2187406 ,\n",
       "         -0.31968455,  -0.14865221],\n",
       "       [ -0.93634349,  -5.79330528,  -2.31956235, ...,   1.25786756,\n",
       "         -1.41136721,  -0.40973971],\n",
       "       [  7.60996874,  -0.54319001,  -0.17052027, ...,   3.69958278,\n",
       "          0.71582474,  -1.28384186],\n",
       "       ...,\n",
       "       [ -2.27782101,  -1.43692964,   3.79241378, ...,  -2.57120706,\n",
       "         -2.97167423,   0.45817809],\n",
       "       [  4.0655194 ,   2.68346915,  -0.36243831, ...,   0.53148039,\n",
       "          1.77328373,  -0.67668986],\n",
       "       [ -6.63701796,  -0.63235596,   3.54439465, ...,   1.75226398,\n",
       "          0.08689571,  -0.0253776 ]])"
      ]
     },
     "metadata": {},
     "output_type": "display_data"
    },
    {
     "data": {
      "text/plain": [
       "(1144, 10)"
      ]
     },
     "metadata": {},
     "output_type": "display_data"
    },
    {
     "data": {
      "text/plain": [
       "(1144, 93)"
      ]
     },
     "metadata": {},
     "output_type": "display_data"
    }
   ],
   "source": [
    "# Extract q_2 number of features according to pca analysis\n",
    "# WEBSITE => https://www.analyticsvidhya.com/blog/2016/03/practical-guide-principal-component-analysis-python/\n",
    "X2_train_transformed = pca_2.fit_transform(X2_train)\n",
    "\n",
    "# display properties\n",
    "display(X2_train_transformed)\n",
    "len(X2_train_transformed)\n",
    "display(X2_train_transformed.shape)\n",
    "display(X2_train.shape)\n",
    "\n",
    "# This gives the Eigenvalues?"
   ]
  },
  {
   "cell_type": "markdown",
   "metadata": {},
   "source": [
    "### 2.2.3. Transform new data (Test set) using the already fitted pca_1 /pca_2     \n",
    "### (((NOT SURE IF ITS CORRECT))) "
   ]
  },
  {
   "cell_type": "markdown",
   "metadata": {},
   "source": [
    "##### PCA components (Dont know how to use this)"
   ]
  },
  {
   "cell_type": "code",
   "execution_count": 58,
   "metadata": {},
   "outputs": [],
   "source": [
    "# Print PCA components: every row is a principal component in the p-dimensional space\n",
    "# Principal axes in feature space, representing the directions of maximum variance in the data. \n",
    "# The components are sorted by explained_variance_ \n",
    "# SEE SKLEARN DOCUMENTATION\n",
    "\n",
    "#print(pca_1.components_)\n",
    "#print(pca_2.components_)"
   ]
  },
  {
   "cell_type": "code",
   "execution_count": 59,
   "metadata": {},
   "outputs": [],
   "source": [
    "# Goal: Test Set has the same features as training set\n",
    "\n",
    "# For Dataset 1\n",
    "X1_train_transformed = pca_1.fit_transform(X1_train)\n",
    "X1_test_transformed = pca_1.transform(X1_test)\n",
    "\n",
    "# For Dataset 2\n",
    "X2_train_transformed = pca_2.fit_transform(X2_train)\n",
    "X2_test_transformed = pca_2.transform(X2_test)\n",
    "\n"
   ]
  },
  {
   "cell_type": "markdown",
   "metadata": {},
   "source": [
    "### 2.2.4. Save the Test- Train sets with selected features "
   ]
  },
  {
   "cell_type": "code",
   "execution_count": null,
   "metadata": {},
   "outputs": [],
   "source": [
    "# For Dataset 1\n",
    "X1_train_transformed.to_csv('Data/generated_splits/X1_train_pca.csv')\n",
    "X1_test_transformed.to_csv('Data/generated_splits/X1_test_pca.csv')\n",
    "\n",
    "# For Dataset 2\n",
    "X2_train_transformed.to_csv('Data/generated_splits/X2_train_pca.csv')\n",
    "X2_test_transformed.to_csv('Data/generated_splits/X2_test_pca.csv')"
   ]
  }
 ],
 "metadata": {
  "kernelspec": {
   "display_name": "Python 3",
   "language": "python",
   "name": "python3"
  },
  "language_info": {
   "codemirror_mode": {
    "name": "ipython",
    "version": 3
   },
   "file_extension": ".py",
   "mimetype": "text/x-python",
   "name": "python",
   "nbconvert_exporter": "python",
   "pygments_lexer": "ipython3",
   "version": "3.6.4"
  }
 },
 "nbformat": 4,
 "nbformat_minor": 2
}
