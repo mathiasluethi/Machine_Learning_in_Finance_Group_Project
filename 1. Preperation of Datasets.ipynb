{
 "cells": [
  {
   "cell_type": "markdown",
   "metadata": {},
   "source": [
    "# ML in Finance Group Project\n",
    "### Group 2: Barbara Capl, Mathias Lüthi, Pamela Matias, Stefanie Rentsch\n",
    "## 1. Preperation of Datasets\n",
    "In this part of the code the data is imported from the Wharton data source. It's than cleaned up and put into usable attribute matrices for further feature selection."
   ]
  },
  {
   "cell_type": "code",
   "execution_count": 1,
   "metadata": {
    "collapsed": true
   },
   "outputs": [],
   "source": [
    "# Import necessary libraries\n",
    "import pandas as pd\n",
    "import numpy as np"
   ]
  },
  {
   "cell_type": "markdown",
   "metadata": {},
   "source": [
    "### Market Data from Wharton\n",
    "The financial data from the Wharton Database is loaded in. The redundant identification columns and columns which are more than 2/3 empty values are droped.  "
   ]
  },
  {
   "cell_type": "code",
   "execution_count": 2,
   "metadata": {
    "collapsed": true
   },
   "outputs": [],
   "source": [
    "# Load in data from the Wharton Database\n",
    "wharton = pd.read_csv('Data/WhartonData.csv', sep=',', header=0)\n",
    "\n",
    "# Delete unusable columns\n",
    "wharton = wharton.drop(['NAMEENDT','SHRCD','EXCHCD','SICCD','TICKER','COMNAM', 'NCUSIP', 'TSYMBOL',\n",
    "              'PERMCO', 'ISSUNO', 'HEXCD', 'HSICCD'], 1)\n",
    "wharton = wharton.drop(['DLAMT', 'DLPDT', 'DLSTCD', 'NEXTDT', 'HSICMG', 'HSICIG', 'DIVAMT',\n",
    "              'SHRCLS', 'ACPERM', 'ACCOMP', 'NWPERM', 'DLRETX', 'DLPRC', 'DLRET', 'NMSIND',\n",
    "              'MMCNT', 'NSDINX', 'DCLRDT', 'PAYDT', 'RCRDDT', 'DISTCD', 'FACPR', 'FACSHR',\n",
    "              'TRTSCD', ], 1)\n",
    "\n",
    "# Formatting data and permno\n",
    "wharton.columns.values[0] = 'permno'\n",
    "wharton['date'] = wharton.date.astype(str).str[:4] + '-' + wharton.date.astype(str).str[4:6]\n",
    "\n",
    "# Calculate SPREAD manually\n",
    "wharton['SPREAD'] = wharton['BID'] - wharton['ASK']\n",
    "\n",
    "# print(wharton.isnull().sum())\n",
    "# display(wharton.head())"
   ]
  },
  {
   "cell_type": "markdown",
   "metadata": {},
   "source": [
    "### Financial Ratios from Wharton\n",
    "The financial ratios from the Wharton Database are loaded in. The adate and qdate are dropped because they are not relevant. Formatting \"divyeld\" from percentage to float."
   ]
  },
  {
   "cell_type": "code",
   "execution_count": 3,
   "metadata": {},
   "outputs": [],
   "source": [
    "# Load in the financial ratios from OLAT\n",
    "ratios = pd.read_csv('Data/Ratios.csv', sep=',', header=0)\n",
    "\n",
    "# Delete unusable columns\n",
    "ratios = ratios.drop(['adate', 'qdate'], 1)\n",
    "\n",
    "ratios.columns.values[1] = 'date'\n",
    "ratios['date'] = ratios.date.str[6:] + '-' + ratios.date.str[3:5]\n",
    "\n",
    "# Remove percentages in row \"divyield\" and divide with 100 (so its decimal percentage) with string split\n",
    "ratios['divyield'] = ratios['divyield'].str.rstrip('%').astype('float')/100\n",
    "\n",
    "# print(ratios.isnull().sum())\n",
    "# display(ratios.head())"
   ]
  },
  {
   "cell_type": "markdown",
   "metadata": {},
   "source": [
    "### Merging the Dataset"
   ]
  },
  {
   "cell_type": "code",
   "execution_count": 4,
   "metadata": {},
   "outputs": [
    {
     "data": {
      "text/html": [
       "<div>\n",
       "<style>\n",
       "    .dataframe thead tr:only-child th {\n",
       "        text-align: right;\n",
       "    }\n",
       "\n",
       "    .dataframe thead th {\n",
       "        text-align: left;\n",
       "    }\n",
       "\n",
       "    .dataframe tbody tr th {\n",
       "        vertical-align: top;\n",
       "    }\n",
       "</style>\n",
       "<table border=\"1\" class=\"dataframe\">\n",
       "  <thead>\n",
       "    <tr style=\"text-align: right;\">\n",
       "      <th></th>\n",
       "      <th>permno</th>\n",
       "      <th>date</th>\n",
       "      <th>NAICS</th>\n",
       "      <th>PRIMEXCH</th>\n",
       "      <th>TRDSTAT</th>\n",
       "      <th>SECSTAT</th>\n",
       "      <th>CUSIP</th>\n",
       "      <th>SHRFLG</th>\n",
       "      <th>SHRENDDT</th>\n",
       "      <th>BIDLO</th>\n",
       "      <th>...</th>\n",
       "      <th>sale_nwc</th>\n",
       "      <th>rd_sale</th>\n",
       "      <th>adv_sale</th>\n",
       "      <th>staff_sale</th>\n",
       "      <th>accrual</th>\n",
       "      <th>ptb</th>\n",
       "      <th>PEG_trailing</th>\n",
       "      <th>divyield</th>\n",
       "      <th>PEG_1yrforward</th>\n",
       "      <th>PEG_ltgforward</th>\n",
       "    </tr>\n",
       "  </thead>\n",
       "  <tbody>\n",
       "    <tr>\n",
       "      <th>0</th>\n",
       "      <td>10107</td>\n",
       "      <td>2006-01</td>\n",
       "      <td>511210.0</td>\n",
       "      <td>Q</td>\n",
       "      <td>A</td>\n",
       "      <td>R</td>\n",
       "      <td>59491810</td>\n",
       "      <td>0.0</td>\n",
       "      <td>20060330.0</td>\n",
       "      <td>26.28</td>\n",
       "      <td>...</td>\n",
       "      <td>1.296</td>\n",
       "      <td>0.151</td>\n",
       "      <td>0.025</td>\n",
       "      <td>0.0</td>\n",
       "      <td>0.055</td>\n",
       "      <td>6.019</td>\n",
       "      <td>11.538</td>\n",
       "      <td>0.0114</td>\n",
       "      <td>15.506</td>\n",
       "      <td>2.109</td>\n",
       "    </tr>\n",
       "    <tr>\n",
       "      <th>1</th>\n",
       "      <td>10107</td>\n",
       "      <td>2006-02</td>\n",
       "      <td>511210.0</td>\n",
       "      <td>Q</td>\n",
       "      <td>A</td>\n",
       "      <td>R</td>\n",
       "      <td>59491810</td>\n",
       "      <td>0.0</td>\n",
       "      <td>NaN</td>\n",
       "      <td>26.39</td>\n",
       "      <td>...</td>\n",
       "      <td>1.323</td>\n",
       "      <td>0.151</td>\n",
       "      <td>0.025</td>\n",
       "      <td>0.0</td>\n",
       "      <td>0.036</td>\n",
       "      <td>6.281</td>\n",
       "      <td>10.280</td>\n",
       "      <td>0.0134</td>\n",
       "      <td>14.555</td>\n",
       "      <td>1.838</td>\n",
       "    </tr>\n",
       "    <tr>\n",
       "      <th>2</th>\n",
       "      <td>10107</td>\n",
       "      <td>2006-03</td>\n",
       "      <td>511210.0</td>\n",
       "      <td>Q</td>\n",
       "      <td>A</td>\n",
       "      <td>R</td>\n",
       "      <td>59491810</td>\n",
       "      <td>0.0</td>\n",
       "      <td>20060423.0</td>\n",
       "      <td>26.85</td>\n",
       "      <td>...</td>\n",
       "      <td>1.323</td>\n",
       "      <td>0.151</td>\n",
       "      <td>0.025</td>\n",
       "      <td>0.0</td>\n",
       "      <td>0.036</td>\n",
       "      <td>6.293</td>\n",
       "      <td>10.410</td>\n",
       "      <td>0.0132</td>\n",
       "      <td>14.739</td>\n",
       "      <td>1.842</td>\n",
       "    </tr>\n",
       "    <tr>\n",
       "      <th>3</th>\n",
       "      <td>10107</td>\n",
       "      <td>2006-04</td>\n",
       "      <td>511210.0</td>\n",
       "      <td>Q</td>\n",
       "      <td>A</td>\n",
       "      <td>R</td>\n",
       "      <td>59491810</td>\n",
       "      <td>0.0</td>\n",
       "      <td>20060629.0</td>\n",
       "      <td>24.15</td>\n",
       "      <td>...</td>\n",
       "      <td>1.323</td>\n",
       "      <td>0.151</td>\n",
       "      <td>0.025</td>\n",
       "      <td>0.0</td>\n",
       "      <td>0.036</td>\n",
       "      <td>5.573</td>\n",
       "      <td>9.239</td>\n",
       "      <td>0.0149</td>\n",
       "      <td>13.081</td>\n",
       "      <td>1.666</td>\n",
       "    </tr>\n",
       "    <tr>\n",
       "      <th>4</th>\n",
       "      <td>10107</td>\n",
       "      <td>2006-05</td>\n",
       "      <td>511210.0</td>\n",
       "      <td>Q</td>\n",
       "      <td>A</td>\n",
       "      <td>R</td>\n",
       "      <td>59491810</td>\n",
       "      <td>0.0</td>\n",
       "      <td>NaN</td>\n",
       "      <td>22.56</td>\n",
       "      <td>...</td>\n",
       "      <td>1.388</td>\n",
       "      <td>0.150</td>\n",
       "      <td>0.025</td>\n",
       "      <td>0.0</td>\n",
       "      <td>0.024</td>\n",
       "      <td>5.496</td>\n",
       "      <td>0.709</td>\n",
       "      <td>0.0159</td>\n",
       "      <td>-5.842</td>\n",
       "      <td>1.480</td>\n",
       "    </tr>\n",
       "  </tbody>\n",
       "</table>\n",
       "<p>5 rows × 99 columns</p>\n",
       "</div>"
      ],
      "text/plain": [
       "   permno     date     NAICS PRIMEXCH TRDSTAT SECSTAT     CUSIP  SHRFLG  \\\n",
       "0   10107  2006-01  511210.0        Q       A       R  59491810     0.0   \n",
       "1   10107  2006-02  511210.0        Q       A       R  59491810     0.0   \n",
       "2   10107  2006-03  511210.0        Q       A       R  59491810     0.0   \n",
       "3   10107  2006-04  511210.0        Q       A       R  59491810     0.0   \n",
       "4   10107  2006-05  511210.0        Q       A       R  59491810     0.0   \n",
       "\n",
       "     SHRENDDT  BIDLO       ...        sale_nwc  rd_sale  adv_sale staff_sale  \\\n",
       "0  20060330.0  26.28       ...           1.296    0.151     0.025        0.0   \n",
       "1         NaN  26.39       ...           1.323    0.151     0.025        0.0   \n",
       "2  20060423.0  26.85       ...           1.323    0.151     0.025        0.0   \n",
       "3  20060629.0  24.15       ...           1.323    0.151     0.025        0.0   \n",
       "4         NaN  22.56       ...           1.388    0.150     0.025        0.0   \n",
       "\n",
       "   accrual    ptb  PEG_trailing  divyield  PEG_1yrforward  PEG_ltgforward  \n",
       "0    0.055  6.019        11.538    0.0114          15.506           2.109  \n",
       "1    0.036  6.281        10.280    0.0134          14.555           1.838  \n",
       "2    0.036  6.293        10.410    0.0132          14.739           1.842  \n",
       "3    0.036  5.573         9.239    0.0149          13.081           1.666  \n",
       "4    0.024  5.496         0.709    0.0159          -5.842           1.480  \n",
       "\n",
       "[5 rows x 99 columns]"
      ]
     },
     "metadata": {},
     "output_type": "display_data"
    }
   ],
   "source": [
    "# Merging the two dataframes\n",
    "data = pd.merge(wharton, ratios, left_on=['date', 'permno'], right_on=['date', 'permno'])\n",
    "display(data.head())"
   ]
  },
  {
   "cell_type": "markdown",
   "metadata": {},
   "source": [
    "### Adding additonal Features"
   ]
  },
  {
   "cell_type": "code",
   "execution_count": 5,
   "metadata": {
    "collapsed": true
   },
   "outputs": [],
   "source": [
    "# Adding reporting period as seasonality attribute\n",
    "\n",
    "# Breakdown of categorical data\n"
   ]
  },
  {
   "cell_type": "markdown",
   "metadata": {},
   "source": [
    "### Creating of Attribute Matrices and Response Vectors"
   ]
  },
  {
   "cell_type": "code",
   "execution_count": 6,
   "metadata": {},
   "outputs": [],
   "source": [
    "# Creating a responce vector and an attribute matrix\n",
    "forcast_periods = [1, 3, 6, 12]\n",
    "for i in forcast_periods:\n",
    "    data['return_' + str(i)] = np.where((data['permno'] == data['permno'].shift(i)), data['PRC'] / data['PRC'].shift(i), None)\n",
    "\n",
    "# Creating a responce vector and an attribute matrix (for different forcast periods can be done later)\n",
    "data_1 = data.dropna(subset=['return_1'])\n",
    "response_1 = np.where(data_1.return_1 >= 1, 1, 0)\n",
    "attributes_ratios_1 = data_1.iloc[:, 28:-4]\n",
    "attributes_additional_1 = data_1.iloc[:, 2:-4]"
   ]
  },
  {
   "cell_type": "code",
   "execution_count": null,
   "metadata": {
    "collapsed": true
   },
   "outputs": [],
   "source": []
  },
  {
   "cell_type": "raw",
   "metadata": {},
   "source": []
  }
 ],
 "metadata": {
  "kernelspec": {
   "display_name": "Python 3",
   "language": "python",
   "name": "python3"
  },
  "language_info": {
   "codemirror_mode": {
    "name": "ipython",
    "version": 3
   },
   "file_extension": ".py",
   "mimetype": "text/x-python",
   "name": "python",
   "nbconvert_exporter": "python",
   "pygments_lexer": "ipython3",
   "version": "3.6.3"
  }
 },
 "nbformat": 4,
 "nbformat_minor": 2
}
