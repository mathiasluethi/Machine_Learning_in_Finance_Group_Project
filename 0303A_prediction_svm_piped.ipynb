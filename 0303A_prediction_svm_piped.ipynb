{
 "cells": [
  {
   "cell_type": "markdown",
   "metadata": {},
   "source": [
    "# Introduction to Machine Learning, UZH 2018, Group Project\n",
    "### Group 2: Barbara Capl, Mathias Lüthi, Pamela Matias, Stefanie Rentsch\n",
    "##       \n",
    "# 3. Support Vector Machines (SVM) with pipelines\n",
    "\n",
    "###   \n",
    "In this section we use the feature matrices and response vectors with features selected in chapter 2. \n"
   ]
  },
  {
   "cell_type": "code",
   "execution_count": 1,
   "metadata": {},
   "outputs": [],
   "source": [
    "# hide unnecessary warnings (\"depreciation\" of packages etc.)\n",
    "import warnings\n",
    "warnings.filterwarnings('ignore')\n",
    "\n",
    "# Load packages\n",
    "import numpy as np\n",
    "import pandas as pd\n",
    "import matplotlib.pyplot as plt\n",
    "import statsmodels.api as sm\n",
    "import statsmodels.formula.api as smf\n",
    "\n",
    "from sklearn import metrics\n",
    "from sklearn.pipeline import Pipeline\n",
    "from sklearn.model_selection import GridSearchCV, train_test_split\n",
    "from sklearn.preprocessing import StandardScaler\n",
    "from sklearn.linear_model import LogisticRegression\n",
    "from sklearn.svm import SVC\n",
    "plt.style.use('seaborn-whitegrid')"
   ]
  },
  {
   "cell_type": "markdown",
   "metadata": {},
   "source": [
    "###   \n",
    "###   \n",
    "## 3.0. SETTINGS"
   ]
  },
  {
   "cell_type": "markdown",
   "metadata": {},
   "source": [
    "### (1) Choose the Dataset Version you want\n",
    "\n",
    "##### Whole Feature Matrix (Features not pre-selected)\n",
    "VERSION = 1; Feature Matrix with only ratios                                  \n",
    "VERSION = 2;  Feature Matrix with ratios + saisonality + other market data\n",
    "\n",
    "##### Reduced Feature Matrix (Features pre-selected)\n",
    "VERSION = 1.1; Reduced Feature Matrix with only ratios                                  \n",
    "VERSION = 2.1;  Reduced Feature Matrix with ratios + saisonality + other market data\n",
    "\n"
   ]
  },
  {
   "cell_type": "code",
   "execution_count": 2,
   "metadata": {},
   "outputs": [],
   "source": [
    "### Chose which dataset version you want the selection of features and the prediction to be based on \n",
    "VERSION = 1.1\n",
    "\"\"\"\n",
    "INSERT NUMBER 1, 2, 1.1 or 2.1\n",
    "\"\"\"\n",
    "\n",
    "\n",
    "\n",
    "# Defining sel_state variable for easier printing out    \n",
    "if VERSION == 1:\n",
    "    sel_version = 'Based on whole original Dataset with only the Ratios Dataset as predicive Features.'\n",
    "elif VERSION == 2:\n",
    "    sel_version = 'Based on whole original Dataset with Ratios + Seasonality + other Market Data as predictive Features.'\n",
    "elif VERSION == 1.1:\n",
    "    sel_version = 'Based on reduced Dataset with only the Ratios Dataset as predicive Features.'\n",
    "elif VERSION == 2.1:\n",
    "    sel_version = 'Based on reduced Dataset with Ratios + Seasonality + other Market Data as predictive Features.'\n",
    "else: raise ValueError('VERSION must be either 1, 2, 1.1 or 2.1')"
   ]
  },
  {
   "cell_type": "markdown",
   "metadata": {},
   "source": [
    "### (2) If you chose VERSION 1.1. or VERSION 2.1:  (Reduced Feature Matrix)                                                                  \n",
    "### => Choose with which method you want to have the features been pre-selected /reduced\n",
    "\n",
    "##### You have the choice between:\n",
    "mySELECTION  = RF ; Features pre-selected with Random Forest Classifier                                                           \n",
    "mySELECTION = PCA; Features pre-selected with Principal Component Analysis (PCA)                                         \n",
    "\n",
    "##### By Default;\n",
    "If VERSION 1 or VERSION 2 was chosen above: SELECTION = none by Default; no features pre-selected. You don't need to define variable mySELECTION."
   ]
  },
  {
   "cell_type": "code",
   "execution_count": 3,
   "metadata": {},
   "outputs": [
    {
     "name": "stdout",
     "output_type": "stream",
     "text": [
      "You chose SELECTION method Random Forest (RF).\n"
     ]
    }
   ],
   "source": [
    "### Choose whether you want the datasets with features selected with RF or PCA or the original file\n",
    "mySELECTION = 'RF'\n",
    "\"\"\"\n",
    "INSERT WISHED METHOD 'RF', 'PCA'\n",
    "\"\"\"\n",
    "\n",
    "\n",
    "\n",
    "# This is the control loop. If something has been chosen wrong, it returns an error with explanation.\n",
    "if VERSION == 1 or VERSION == 2:\n",
    "    SELECTION = 'none'\n",
    "elif VERSION == 1.1 or VERSION == 2.1:\n",
    "    SELECTION = mySELECTION\n",
    "    if mySELECTION is not 'RF' and mySELECTION is not 'PCA':\n",
    "        raise ValueError('Because VERSION '+str(VERSION)+' is chosen, mySELECTION must be set as either RF or PCA.')\n",
    "else: raise ValueError('VERSION must be either 1, 2, 1.1 or 2.1. mySELECTION must be chosen as either RF or PCA.')\n",
    "\n",
    "# Defining of sel_feat (Selected Feature Selection Method) variable and briefing for later.   \n",
    "if SELECTION == 'RF':\n",
    "    sel_feat = 'Random Forest (RF)'\n",
    "    briefing = ('You chose dataset VERSION '+str(VERSION)+' and SELECTION method '+str(SELECTION)+'.'+'\\n'+'Features therefore pre-selected with '+str(sel_feat)+'.')\n",
    "elif SELECTION == 'PCA':\n",
    "    sel_feat = 'Principal Component Analysis (PCA)'\n",
    "    briefing = ('You chose dataset VERSION '+str(VERSION)+' and SELECTION method '+str(SELECTION)+'.'+'\\n'+'Features therefore pre-selected with '+str(sel_feat)+'.')\n",
    "elif SELECTION == 'none':\n",
    "    sel_feat = 'No Feature Selection Method available.'\n",
    "    briefing = ('You chose VERSION '+str(VERSION)+'. This Version has no Feature Selection Method because Feature Matrix is whole, not reduced.'+'\\n'+'SELECTION is therefore \"none\" by Default.')\n",
    "else: raise ValueError('mySELECTION must be chosen as either RF or PCA')\n",
    "print('You chose SELECTION method '+str(sel_feat)+'.')\n",
    "#print(sel_feat)"
   ]
  },
  {
   "cell_type": "markdown",
   "metadata": {},
   "source": [
    "### (3) SUMMARY OF SETTINGS"
   ]
  },
  {
   "cell_type": "code",
   "execution_count": 4,
   "metadata": {},
   "outputs": [
    {
     "name": "stdout",
     "output_type": "stream",
     "text": [
      "You chose dataset VERSION 1.1 and SELECTION method RF.\n",
      "Features therefore pre-selected with Random Forest (RF). \n",
      "\n",
      "VERSION 1.1 is Based on reduced Dataset with only the Ratios Dataset as predicive Features. \n",
      "\n",
      "You are now done with the Settings. You can run the whole Code now by Default.\n"
     ]
    }
   ],
   "source": [
    "print(briefing, '\\n')\n",
    "print('VERSION '+str(VERSION)+' is '+str(sel_version),'\\n')\n",
    "print('You are now done with the Settings. You can run the whole Code now by Default.')"
   ]
  },
  {
   "cell_type": "markdown",
   "metadata": {},
   "source": [
    "###    \n",
    "###    \n",
    "## 3.1. Preparation"
   ]
  },
  {
   "cell_type": "markdown",
   "metadata": {},
   "source": [
    "### 3.1.1. Import the Response Vector and the Feature Matrix"
   ]
  },
  {
   "cell_type": "code",
   "execution_count": 5,
   "metadata": {},
   "outputs": [
    {
     "data": {
      "text/plain": [
       "(710, 20)"
      ]
     },
     "metadata": {},
     "output_type": "display_data"
    }
   ],
   "source": [
    "### import Data (already splitted to train/test-data and selected features-> bc_randomforest_feature_selection)\n",
    "if VERSION == 1: \n",
    "# features not pre-selected, only ratios\n",
    "    X = pd.read_csv('Data/generated_datasets/features_ratios_1.csv', sep=',', header=0)\n",
    "    y = pd.read_csv('Data/generated_datasets/response_1.csv', sep=',', header=0)\n",
    "elif VERSION == 2: \n",
    "# features not pre-selected, ratios + seasonality + market data\n",
    "    X = pd.read_csv('Data/generated_datasets/features_additional_1.csv', sep=',', header=0)\n",
    "    y = pd.read_csv('Data/generated_datasets/response_1.csv', sep=',', header=0)\n",
    "elif VERSION == 1.1: \n",
    "# features pre-selected, only ratios\n",
    "    if SELECTION == 'RF':\n",
    "        X_train_s = pd.read_csv('Data/generated_splits/features_selected_randomforest/X1_train_f.csv', sep=',', header=0)\n",
    "        X_test_s = pd.read_csv('Data/generated_splits/features_selected_randomforest/X1_test_f.csv', sep=',', header=0)\n",
    "        y_train_s = pd.read_csv('Data/generated_splits/features_selected_randomforest/y1_train_f.csv', sep=',', header=0)\n",
    "        y_test_s = pd.read_csv('Data/generated_splits/features_selected_randomforest/y1_test_f.csv', sep=',', header=0)\n",
    "    elif SELECTION == 'PCA':\n",
    "        X_train_s = pd.read_csv('Data/generated_splits/features_selected_pca/X1_train_p.csv', sep=',', header=0)\n",
    "        X_test_s = pd.read_csv('Data/generated_splits/features_selected_pca/X1_test_p.csv', sep=',', header=0)\n",
    "        y_train_s = pd.read_csv('Data/generated_splits/features_selected_pca/y1_train_p.csv', sep=',', header=0)\n",
    "        y_test_s = pd.read_csv('Data/generated_splits/features_selected_pca/y1_test_p.csv', sep=',', header=0)\n",
    "elif VERSION == 2.1: \n",
    "# features pre-selected, ratios + seasonality + market data\n",
    "    if SELECTION == 'RF':\n",
    "        X_train_s = pd.read_csv('Data/generated_splits/features_selected_randomforest/X2_train_f.csv', sep=',', header=0)\n",
    "        X_test_s = pd.read_csv('Data/generated_splits/features_selected_randomforest/X2_test_f.csv', sep=',', header=0)\n",
    "        y_train_s = pd.read_csv('Data/generated_splits/features_selected_randomforest/y2_train_f.csv', sep=',', header=0)\n",
    "        y_test_s = pd.read_csv('Data/generated_splits/features_selected_randomforest/y2_test_f.csv', sep=',', header=0)\n",
    "    elif SELECTION == 'PCA':\n",
    "        X_train_s = pd.read_csv('Data/generated_splits/features_selected_pca/X2_train_p.csv', sep=',', header=0)\n",
    "        X_test_s = pd.read_csv('Data/generated_splits/features_selected_pca/X2_test_p.csv', sep=',', header=0)\n",
    "        y_train_s = pd.read_csv('Data/generated_splits/features_selected_pca/y2_train_p.csv', sep=',', header=0)\n",
    "        y_test_s = pd.read_csv('Data/generated_splits/features_selected_pca/y2_test_p.csv', sep=',', header=0)\n",
    "else: raise ValueError('VERSION value must be either 1, 2, 1.1 or 2.1, mySELECTION must be chosen as either RF or PCA.')\n",
    "    \n",
    "    \n",
    "display(X_test_s.shape)"
   ]
  },
  {
   "cell_type": "markdown",
   "metadata": {},
   "source": [
    "#### Train-Test-split for whole original files. Automatically executed only if VERSION = 1 or 2."
   ]
  },
  {
   "cell_type": "code",
   "execution_count": 6,
   "metadata": {},
   "outputs": [
    {
     "name": "stdout",
     "output_type": "stream",
     "text": [
      "No Train/Test split needed for chosen VERSION 1.1. Loaded Datasets were already pre-splitted and imputed in\n",
      "Feature Selection (Chapter 2).\n"
     ]
    },
    {
     "data": {
      "text/plain": [
       "(2836, 20)"
      ]
     },
     "metadata": {},
     "output_type": "display_data"
    },
    {
     "data": {
      "text/plain": [
       "(710, 20)"
      ]
     },
     "metadata": {},
     "output_type": "display_data"
    }
   ],
   "source": [
    "# For VERSION == 1 or 2 -> train-test-split for the importet sets must be done\n",
    "if VERSION == 1 or VERSION == 2:\n",
    "    # import package imputer\n",
    "    from sklearn.preprocessing import Imputer\n",
    "    # # Train/test split, into 20% test size and 80% train size because it is a relatively small dataset\n",
    "    X_train, X_test, y_train, y_test = train_test_split(X, y, test_size=0.2, random_state=0)\n",
    "\n",
    "    # Use a median fill for train\n",
    "    imp = Imputer(missing_values=np.nan, strategy = 'median' , axis=0)\n",
    "    imputed_dataset = pd.DataFrame(imp.fit_transform(X_train))\n",
    "    imputed_dataset.columns = X_train.columns\n",
    "    imputed_dataset.index = X_train.index\n",
    "    X_train = imputed_dataset\n",
    "\n",
    "    # Use a median fill for the test set\n",
    "    imputed_dataset = pd.DataFrame(imp.fit_transform(X_test))\n",
    "    imputed_dataset.columns = X_test.columns\n",
    "    imputed_dataset.index = X_test.index\n",
    "    X_test = imputed_dataset\n",
    "\n",
    "    # Extract the feature labels\n",
    "    feature_labels = list(X)\n",
    "    print('Type of feature_labels = ' + str(type(feature_labels)), '\\n')\n",
    "\n",
    "else: print('No Train/Test split needed for chosen VERSION '+str(VERSION)+\n",
    "            '. Loaded Datasets were already pre-splitted and imputed in'+'\\n'+'Feature Selection (Chapter 2).')\n",
    "display(X_train_s.shape)\n",
    "display(X_test_s.shape)   \n"
   ]
  },
  {
   "cell_type": "markdown",
   "metadata": {},
   "source": [
    "### 3.1.2. Print out Shape and Form of Feature Matrix and Response Vector"
   ]
  },
  {
   "cell_type": "markdown",
   "metadata": {},
   "source": [
    "### Train Set"
   ]
  },
  {
   "cell_type": "code",
   "execution_count": 7,
   "metadata": {},
   "outputs": [
    {
     "name": "stdout",
     "output_type": "stream",
     "text": [
      "Features Selected with Random Forest (RF).\n",
      "Version 1.1; Based on reduced Dataset with only the Ratios Dataset as predicive Features. \n",
      "\n",
      "Shape (rows, columns) of Feature Matrix X (Train) = (2836, 20) \n",
      "\n",
      "Feature Matrix X (Train) with Selected Features:\n",
      "\n"
     ]
    },
    {
     "data": {
      "text/html": [
       "<div>\n",
       "<style scoped>\n",
       "    .dataframe tbody tr th:only-of-type {\n",
       "        vertical-align: middle;\n",
       "    }\n",
       "\n",
       "    .dataframe tbody tr th {\n",
       "        vertical-align: top;\n",
       "    }\n",
       "\n",
       "    .dataframe thead th {\n",
       "        text-align: right;\n",
       "    }\n",
       "</style>\n",
       "<table border=\"1\" class=\"dataframe\">\n",
       "  <thead>\n",
       "    <tr style=\"text-align: right;\">\n",
       "      <th></th>\n",
       "      <th>pe_op_dil</th>\n",
       "      <th>CAPEI</th>\n",
       "      <th>pe_op_basic</th>\n",
       "      <th>divyield</th>\n",
       "      <th>pe_exi</th>\n",
       "      <th>pcf</th>\n",
       "      <th>ptb</th>\n",
       "      <th>PEG_ltgforward</th>\n",
       "      <th>bm</th>\n",
       "      <th>evm</th>\n",
       "      <th>ps</th>\n",
       "      <th>pe_inc</th>\n",
       "      <th>PEG_1yrforward</th>\n",
       "      <th>PEG_trailing</th>\n",
       "      <th>dpr</th>\n",
       "      <th>GProf</th>\n",
       "      <th>roe</th>\n",
       "      <th>short_debt</th>\n",
       "      <th>invt_act</th>\n",
       "      <th>roce</th>\n",
       "    </tr>\n",
       "  </thead>\n",
       "  <tbody>\n",
       "    <tr>\n",
       "      <th>0</th>\n",
       "      <td>15.633</td>\n",
       "      <td>20.773</td>\n",
       "      <td>15.468</td>\n",
       "      <td>0.0354</td>\n",
       "      <td>18.484</td>\n",
       "      <td>9.957</td>\n",
       "      <td>1.811</td>\n",
       "      <td>5.963</td>\n",
       "      <td>0.547</td>\n",
       "      <td>10.644</td>\n",
       "      <td>3.703</td>\n",
       "      <td>18.484</td>\n",
       "      <td>13.678</td>\n",
       "      <td>1.181</td>\n",
       "      <td>0.623</td>\n",
       "      <td>0.245</td>\n",
       "      <td>0.102</td>\n",
       "      <td>0.173</td>\n",
       "      <td>0.108</td>\n",
       "      <td>0.140</td>\n",
       "    </tr>\n",
       "    <tr>\n",
       "      <th>1</th>\n",
       "      <td>17.296</td>\n",
       "      <td>25.089</td>\n",
       "      <td>17.203</td>\n",
       "      <td>0.0398</td>\n",
       "      <td>39.232</td>\n",
       "      <td>8.509</td>\n",
       "      <td>2.189</td>\n",
       "      <td>5.702</td>\n",
       "      <td>0.461</td>\n",
       "      <td>9.246</td>\n",
       "      <td>0.689</td>\n",
       "      <td>39.232</td>\n",
       "      <td>1.521</td>\n",
       "      <td>0.668</td>\n",
       "      <td>2.175</td>\n",
       "      <td>0.164</td>\n",
       "      <td>0.067</td>\n",
       "      <td>0.084</td>\n",
       "      <td>0.368</td>\n",
       "      <td>0.105</td>\n",
       "    </tr>\n",
       "    <tr>\n",
       "      <th>2</th>\n",
       "      <td>9.209</td>\n",
       "      <td>12.337</td>\n",
       "      <td>9.135</td>\n",
       "      <td>0.0268</td>\n",
       "      <td>13.062</td>\n",
       "      <td>1.993</td>\n",
       "      <td>1.076</td>\n",
       "      <td>2.248</td>\n",
       "      <td>0.911</td>\n",
       "      <td>12.474</td>\n",
       "      <td>2.034</td>\n",
       "      <td>13.062</td>\n",
       "      <td>0.380</td>\n",
       "      <td>3.048</td>\n",
       "      <td>0.337</td>\n",
       "      <td>0.040</td>\n",
       "      <td>0.091</td>\n",
       "      <td>0.532</td>\n",
       "      <td>0.152</td>\n",
       "      <td>0.075</td>\n",
       "    </tr>\n",
       "  </tbody>\n",
       "</table>\n",
       "</div>"
      ],
      "text/plain": [
       "   pe_op_dil   CAPEI  pe_op_basic  divyield  pe_exi    pcf    ptb  \\\n",
       "0     15.633  20.773       15.468    0.0354  18.484  9.957  1.811   \n",
       "1     17.296  25.089       17.203    0.0398  39.232  8.509  2.189   \n",
       "2      9.209  12.337        9.135    0.0268  13.062  1.993  1.076   \n",
       "\n",
       "   PEG_ltgforward     bm     evm     ps  pe_inc  PEG_1yrforward  PEG_trailing  \\\n",
       "0           5.963  0.547  10.644  3.703  18.484          13.678         1.181   \n",
       "1           5.702  0.461   9.246  0.689  39.232           1.521         0.668   \n",
       "2           2.248  0.911  12.474  2.034  13.062           0.380         3.048   \n",
       "\n",
       "     dpr  GProf    roe  short_debt  invt_act   roce  \n",
       "0  0.623  0.245  0.102       0.173     0.108  0.140  \n",
       "1  2.175  0.164  0.067       0.084     0.368  0.105  \n",
       "2  0.337  0.040  0.091       0.532     0.152  0.075  "
      ]
     },
     "metadata": {},
     "output_type": "display_data"
    },
    {
     "name": "stdout",
     "output_type": "stream",
     "text": [
      "\n",
      "Response Vector y (Train) after Feature Selection:\n"
     ]
    },
    {
     "data": {
      "text/html": [
       "<div>\n",
       "<style scoped>\n",
       "    .dataframe tbody tr th:only-of-type {\n",
       "        vertical-align: middle;\n",
       "    }\n",
       "\n",
       "    .dataframe tbody tr th {\n",
       "        vertical-align: top;\n",
       "    }\n",
       "\n",
       "    .dataframe thead th {\n",
       "        text-align: right;\n",
       "    }\n",
       "</style>\n",
       "<table border=\"1\" class=\"dataframe\">\n",
       "  <thead>\n",
       "    <tr style=\"text-align: right;\">\n",
       "      <th></th>\n",
       "      <th>0</th>\n",
       "    </tr>\n",
       "  </thead>\n",
       "  <tbody>\n",
       "    <tr>\n",
       "      <th>0</th>\n",
       "      <td>0</td>\n",
       "    </tr>\n",
       "    <tr>\n",
       "      <th>1</th>\n",
       "      <td>1</td>\n",
       "    </tr>\n",
       "    <tr>\n",
       "      <th>2</th>\n",
       "      <td>0</td>\n",
       "    </tr>\n",
       "  </tbody>\n",
       "</table>\n",
       "</div>"
      ],
      "text/plain": [
       "   0\n",
       "0  0\n",
       "1  1\n",
       "2  0"
      ]
     },
     "metadata": {},
     "output_type": "display_data"
    }
   ],
   "source": [
    "# print status\n",
    "print('Features Selected with ' + str(sel_feat)+'.')\n",
    "print('Version ' + str(VERSION) + '; ' + str(sel_version), '\\n')\n",
    "\n",
    "# print properties and head\n",
    "if VERSION == 1 or VERSION == 2:\n",
    "    print('Shape (rows, columns) of Feature Matrix X (Train) ' + '= ' + str(X_train.shape)+'\\n')\n",
    "    print('Feature Matrix X (Train) with no Feature pre-Selection:')\n",
    "    display(X_train[0:3])\n",
    "    print(\"\")\n",
    "    print('Response Vector y (Train) after no Feature pre-Selection:')\n",
    "    display(y_train[0:3])\n",
    "    print(\"\")\n",
    "else:\n",
    "    print('Shape (rows, columns) of Feature Matrix X (Train) ' + '= ' + str(X_train_s.shape), '\\n')\n",
    "    print('Feature Matrix X (Train) with Selected Features:'+'\\n')\n",
    "    display(X_train_s[0:3])\n",
    "    print(\"\")\n",
    "    print('Response Vector y (Train) after Feature Selection:')\n",
    "    display(y_train_s[0:3])"
   ]
  },
  {
   "cell_type": "markdown",
   "metadata": {},
   "source": [
    "### Test Set"
   ]
  },
  {
   "cell_type": "code",
   "execution_count": 8,
   "metadata": {},
   "outputs": [
    {
     "name": "stdout",
     "output_type": "stream",
     "text": [
      "Features Selected with Random Forest (RF)\n",
      "Version 1.1; Based on reduced Dataset with only the Ratios Dataset as predicive Features. \n",
      "\n",
      "Shape (rows, columns) of Feature Matrix X (Test) = (710, 20)\n",
      "\n",
      "Feature Matrix X (Test) with Selected Features:\n"
     ]
    },
    {
     "data": {
      "text/html": [
       "<div>\n",
       "<style scoped>\n",
       "    .dataframe tbody tr th:only-of-type {\n",
       "        vertical-align: middle;\n",
       "    }\n",
       "\n",
       "    .dataframe tbody tr th {\n",
       "        vertical-align: top;\n",
       "    }\n",
       "\n",
       "    .dataframe thead th {\n",
       "        text-align: right;\n",
       "    }\n",
       "</style>\n",
       "<table border=\"1\" class=\"dataframe\">\n",
       "  <thead>\n",
       "    <tr style=\"text-align: right;\">\n",
       "      <th></th>\n",
       "      <th>pe_op_dil</th>\n",
       "      <th>CAPEI</th>\n",
       "      <th>pe_op_basic</th>\n",
       "      <th>divyield</th>\n",
       "      <th>pe_exi</th>\n",
       "      <th>pcf</th>\n",
       "      <th>ptb</th>\n",
       "      <th>PEG_ltgforward</th>\n",
       "      <th>bm</th>\n",
       "      <th>evm</th>\n",
       "      <th>ps</th>\n",
       "      <th>pe_inc</th>\n",
       "      <th>PEG_1yrforward</th>\n",
       "      <th>PEG_trailing</th>\n",
       "      <th>dpr</th>\n",
       "      <th>GProf</th>\n",
       "      <th>roe</th>\n",
       "      <th>short_debt</th>\n",
       "      <th>invt_act</th>\n",
       "      <th>roce</th>\n",
       "    </tr>\n",
       "  </thead>\n",
       "  <tbody>\n",
       "    <tr>\n",
       "      <th>0</th>\n",
       "      <td>16.224</td>\n",
       "      <td>20.983</td>\n",
       "      <td>16.127</td>\n",
       "      <td>0.0187</td>\n",
       "      <td>16.224</td>\n",
       "      <td>10.484</td>\n",
       "      <td>4.189</td>\n",
       "      <td>1.330</td>\n",
       "      <td>0.254</td>\n",
       "      <td>8.585</td>\n",
       "      <td>3.318</td>\n",
       "      <td>16.224</td>\n",
       "      <td>1.414</td>\n",
       "      <td>1.022</td>\n",
       "      <td>0.287</td>\n",
       "      <td>0.354</td>\n",
       "      <td>0.272</td>\n",
       "      <td>0.025</td>\n",
       "      <td>0.025</td>\n",
       "      <td>0.364</td>\n",
       "    </tr>\n",
       "    <tr>\n",
       "      <th>1</th>\n",
       "      <td>16.489</td>\n",
       "      <td>21.663</td>\n",
       "      <td>16.311</td>\n",
       "      <td>0.0122</td>\n",
       "      <td>18.555</td>\n",
       "      <td>7.709</td>\n",
       "      <td>4.281</td>\n",
       "      <td>1.572</td>\n",
       "      <td>0.235</td>\n",
       "      <td>13.619</td>\n",
       "      <td>2.379</td>\n",
       "      <td>18.555</td>\n",
       "      <td>1.737</td>\n",
       "      <td>1.147</td>\n",
       "      <td>0.199</td>\n",
       "      <td>0.062</td>\n",
       "      <td>0.238</td>\n",
       "      <td>0.106</td>\n",
       "      <td>0.157</td>\n",
       "      <td>0.108</td>\n",
       "    </tr>\n",
       "    <tr>\n",
       "      <th>2</th>\n",
       "      <td>9.520</td>\n",
       "      <td>16.327</td>\n",
       "      <td>9.520</td>\n",
       "      <td>0.0343</td>\n",
       "      <td>15.681</td>\n",
       "      <td>8.490</td>\n",
       "      <td>2.198</td>\n",
       "      <td>6.149</td>\n",
       "      <td>0.513</td>\n",
       "      <td>6.716</td>\n",
       "      <td>3.293</td>\n",
       "      <td>15.550</td>\n",
       "      <td>-0.973</td>\n",
       "      <td>1.022</td>\n",
       "      <td>0.792</td>\n",
       "      <td>0.321</td>\n",
       "      <td>0.124</td>\n",
       "      <td>0.253</td>\n",
       "      <td>0.078</td>\n",
       "      <td>0.196</td>\n",
       "    </tr>\n",
       "  </tbody>\n",
       "</table>\n",
       "</div>"
      ],
      "text/plain": [
       "   pe_op_dil   CAPEI  pe_op_basic  divyield  pe_exi     pcf    ptb  \\\n",
       "0     16.224  20.983       16.127    0.0187  16.224  10.484  4.189   \n",
       "1     16.489  21.663       16.311    0.0122  18.555   7.709  4.281   \n",
       "2      9.520  16.327        9.520    0.0343  15.681   8.490  2.198   \n",
       "\n",
       "   PEG_ltgforward     bm     evm     ps  pe_inc  PEG_1yrforward  PEG_trailing  \\\n",
       "0           1.330  0.254   8.585  3.318  16.224           1.414         1.022   \n",
       "1           1.572  0.235  13.619  2.379  18.555           1.737         1.147   \n",
       "2           6.149  0.513   6.716  3.293  15.550          -0.973         1.022   \n",
       "\n",
       "     dpr  GProf    roe  short_debt  invt_act   roce  \n",
       "0  0.287  0.354  0.272       0.025     0.025  0.364  \n",
       "1  0.199  0.062  0.238       0.106     0.157  0.108  \n",
       "2  0.792  0.321  0.124       0.253     0.078  0.196  "
      ]
     },
     "metadata": {},
     "output_type": "display_data"
    },
    {
     "name": "stdout",
     "output_type": "stream",
     "text": [
      "\n",
      "Response Vector y (Test) after Feature Selection:\n"
     ]
    },
    {
     "data": {
      "text/html": [
       "<div>\n",
       "<style scoped>\n",
       "    .dataframe tbody tr th:only-of-type {\n",
       "        vertical-align: middle;\n",
       "    }\n",
       "\n",
       "    .dataframe tbody tr th {\n",
       "        vertical-align: top;\n",
       "    }\n",
       "\n",
       "    .dataframe thead th {\n",
       "        text-align: right;\n",
       "    }\n",
       "</style>\n",
       "<table border=\"1\" class=\"dataframe\">\n",
       "  <thead>\n",
       "    <tr style=\"text-align: right;\">\n",
       "      <th></th>\n",
       "      <th>0</th>\n",
       "    </tr>\n",
       "  </thead>\n",
       "  <tbody>\n",
       "    <tr>\n",
       "      <th>0</th>\n",
       "      <td>1</td>\n",
       "    </tr>\n",
       "    <tr>\n",
       "      <th>1</th>\n",
       "      <td>0</td>\n",
       "    </tr>\n",
       "    <tr>\n",
       "      <th>2</th>\n",
       "      <td>1</td>\n",
       "    </tr>\n",
       "  </tbody>\n",
       "</table>\n",
       "</div>"
      ],
      "text/plain": [
       "   0\n",
       "0  1\n",
       "1  0\n",
       "2  1"
      ]
     },
     "metadata": {},
     "output_type": "display_data"
    }
   ],
   "source": [
    "# print status\n",
    "print('Features Selected with ' + str(sel_feat))\n",
    "print('Version ' + str(VERSION) + '; ' + str(sel_version),'\\n')\n",
    "\n",
    "# print properties and head\n",
    "if VERSION == 1 or VERSION == 2:\n",
    "    print('Shape (rows, columns) of Feature Matrix X (Test) ' + '= ' + str(X_test.shape)+'\\n')\n",
    "    print('Feature Matrix X (Test) with no Feature pre-Selection:')\n",
    "    display(X_test[0:3])\n",
    "    print(\"\")\n",
    "    print('Response Vector y (Test) after no Feature pre-Selection:')\n",
    "    display(y_test[0:3])\n",
    "    print(\"\")\n",
    "else:\n",
    "    print('Shape (rows, columns) of Feature Matrix X (Test) ' + '= ' + str(X_test_s.shape)+'\\n')\n",
    "    print('Feature Matrix X (Test) with Selected Features:')\n",
    "    display(X_test_s[0:3])\n",
    "    print(\"\")\n",
    "    print('Response Vector y (Test) after Feature Selection:')\n",
    "    display(y_test_s[0:3])"
   ]
  },
  {
   "cell_type": "markdown",
   "metadata": {},
   "source": [
    "###   \n",
    "###    \n",
    "## 3.2. SVM\n",
    "\n",
    "### Two different SVM tests are applied:\n",
    "#### => SVM1 = SVM with random parameters\n",
    "#### => SVM2 = SVM with other parameters"
   ]
  },
  {
   "cell_type": "markdown",
   "metadata": {},
   "source": [
    "### 3.2.1. SVM1 : SVM with random parameters\n",
    "\n",
    "### Kernel: rbf"
   ]
  },
  {
   "cell_type": "code",
   "execution_count": 9,
   "metadata": {},
   "outputs": [],
   "source": [
    "# Create pipeline object with standard scaler and SVC estimator\n",
    "# Standardscaler standardizes the input variables\n",
    "pipe1 = Pipeline([('scaler', StandardScaler()), \n",
    "                 ('classifier', SVC(random_state=0))])"
   ]
  },
  {
   "cell_type": "code",
   "execution_count": 10,
   "metadata": {},
   "outputs": [],
   "source": [
    "# Define parameter grid\n",
    "param_grid1 = [{'scaler': [StandardScaler()],\n",
    "               'classifier': [SVC(kernel='rbf')],\n",
    "               'classifier__gamma': [1, 10],\n",
    "               'classifier__C': [10, 100]},\n",
    "              {'scaler': [StandardScaler(), None],\n",
    "               'classifier': [LogisticRegression()],\n",
    "               'classifier__C': [10, 100]}]"
   ]
  },
  {
   "cell_type": "code",
   "execution_count": 11,
   "metadata": {},
   "outputs": [],
   "source": [
    "# Run grid search\n",
    "if VERSION == 1 or VERSION == 2:\n",
    "    grid1 = GridSearchCV(pipe1, param_grid1, cv=5, n_jobs=-1)\n",
    "    grid1.fit(X_train, y_train)\n",
    "else: \n",
    "    grid1 = GridSearchCV(pipe1, param_grid1, cv=5, n_jobs=-1)\n",
    "    grid1.fit(X_train_s, y_train_s)"
   ]
  },
  {
   "cell_type": "code",
   "execution_count": 12,
   "metadata": {},
   "outputs": [
    {
     "name": "stdout",
     "output_type": "stream",
     "text": [
      "Best CV accuracy: 0.62 \n",
      "\n",
      "Test score:       0.63\n",
      "Best parameters: {'classifier': LogisticRegression(C=100, class_weight=None, dual=False, fit_intercept=True,\n",
      "          intercept_scaling=1, max_iter=100, multi_class='ovr', n_jobs=1,\n",
      "          penalty='l2', random_state=None, solver='liblinear', tol=0.0001,\n",
      "          verbose=0, warm_start=False), 'classifier__C': 100, 'scaler': None}\n"
     ]
    }
   ],
   "source": [
    "# Print results\n",
    "print('Best CV accuracy: {:.2f}'.format(grid1.best_score_),'\\n')\n",
    "if VERSION == 1 or VERSION == 2: \n",
    "    print('Test score:       {:.2f}'.format(grid1.score(X_test, y_test)))\n",
    "else: \n",
    "    print('Test score:       {:.2f}'.format(grid1.score(X_test_s, y_test_s)))\n",
    "print('Best parameters: {}'.format(grid1.best_params_))"
   ]
  },
  {
   "cell_type": "code",
   "execution_count": 13,
   "metadata": {},
   "outputs": [
    {
     "name": "stdout",
     "output_type": "stream",
     "text": [
      "Predicted Response Vector based on Feature Test Set:\n"
     ]
    },
    {
     "data": {
      "text/plain": [
       "array([1, 1, 1, 0, 0, 0, 0, 1, 1, 1, 1, 1, 1, 0, 0, 0, 1, 1, 1, 1])"
      ]
     },
     "metadata": {},
     "output_type": "display_data"
    }
   ],
   "source": [
    "# Predict classes\n",
    "if VERSION == 1 or VERSION == 2:\n",
    "    y_pred1 = grid1.predict(X_test)\n",
    "else:\n",
    "    y_pred1 = grid1.predict(X_test_s)\n",
    "    \n",
    "print('Predicted Response Vector based on Feature Test Set:')\n",
    "display(y_pred1[0:20])"
   ]
  },
  {
   "cell_type": "code",
   "execution_count": 18,
   "metadata": {},
   "outputs": [
    {
     "name": "stdout",
     "output_type": "stream",
     "text": [
      "Metrics of Classification / Prediciton with SVM1 (random parameters), kernel rbf:\n",
      "\n",
      "             precision    recall  f1-score   support\n",
      "\n",
      "          0       0.65      0.33      0.43       305\n",
      "          1       0.63      0.86      0.73       405\n",
      "\n",
      "avg / total       0.64      0.63      0.60       710\n",
      "\n",
      "Confusion Matrix with SVM1 (random parameters), kernel rbf:\n",
      "\n",
      "[[100 205]\n",
      " [ 55 350]]\n",
      "\n",
      "Sensitivity/Recall (TRUE POS. RATE) = 0.8641975308641975\n",
      "Specificity (TRUE NEG. RATE) = 0.32786885245901637\n",
      "\n",
      "ROC(absolut numbers) = 0.596033191661607\n"
     ]
    }
   ],
   "source": [
    "# Metrics of Classification\n",
    "\n",
    "m_text = 'Metrics of Classification / Prediciton with SVM1 (random parameters), kernel rbf:'+'\\n'\n",
    "c_text = 'Confusion Matrix with SVM1 (random parameters), kernel rbf:'+'\\n'\n",
    "\n",
    "if VERSION == 1 or VERSION ==2:\n",
    "    print(m_text)\n",
    "    print(metrics.classification_report(y_test, y_pred1))\n",
    "    print(c_text)\n",
    "    cfm_matrix = metrics.confusion_matrix(y_test, y_pred1)\n",
    "    print(cfm_matrix)\n",
    "    # Compute ROC curve and ROC area (AUC) for each class\n",
    "    fpr, tpr, thresholds = metrics.roc_curve(y_test, y_pred1)\n",
    "else:\n",
    "    print(m_text)\n",
    "    print(metrics.classification_report(y_test_s, y_pred1))\n",
    "    print(c_text)\n",
    "    cfm_matrix = metrics.confusion_matrix(y_test_s, y_pred1)\n",
    "    print(cfm_matrix)\n",
    "    # Compute ROC curve and ROC area (AUC) for each class\n",
    "    fpr, tpr, thresholds = metrics.roc_curve(y_test_s, y_pred1)\n",
    "    \n",
    "print(\"\")\n",
    "print('Sensitivity/Recall (TRUE POS. RATE) = '+str(cfm_matrix[1,1]/(cfm_matrix[1,1]+cfm_matrix[1,0])))\n",
    "print('Specificity (TRUE NEG. RATE) = '+str(cfm_matrix[0,0]/(cfm_matrix[0,0]+cfm_matrix[0,1]))+'\\n')\n",
    "\n",
    "roc_auc = metrics.auc(fpr, tpr)\n",
    "print('ROC(absolut numbers) = '+str(roc_auc))"
   ]
  },
  {
   "cell_type": "markdown",
   "metadata": {},
   "source": [
    "### 3.2.1. SVM2 : SVM with other parameters\n",
    "\n",
    "### Kernel: linear"
   ]
  },
  {
   "cell_type": "code",
   "execution_count": 19,
   "metadata": {},
   "outputs": [],
   "source": [
    "# Create pipeline object with standard scaler and SVC estimator\n",
    "# Standardscaler standardizes the input variables\n",
    "pipe2 = Pipeline([('scaler', StandardScaler()), \n",
    "                 ('classifier', SVC(random_state=0))])"
   ]
  },
  {
   "cell_type": "code",
   "execution_count": 20,
   "metadata": {},
   "outputs": [],
   "source": [
    "# Define parameter grid\n",
    "param_grid2 = [{'scaler': [StandardScaler()],\n",
    "               'classifier': [SVC(kernel='linear')],\n",
    "               'classifier__gamma': [1, 10],\n",
    "               'classifier__C': [10, 100]},\n",
    "              {'scaler': [StandardScaler(), None],\n",
    "               'classifier': [LogisticRegression()],\n",
    "               'classifier__C': [10, 100]}]"
   ]
  },
  {
   "cell_type": "code",
   "execution_count": 21,
   "metadata": {},
   "outputs": [],
   "source": [
    "# Run grid search\n",
    "if VERSION == 1 or VERSION == 2:\n",
    "    grid2 = GridSearchCV(pipe2, param_grid2, cv=5, n_jobs=-1)\n",
    "    grid2.fit(X_train, y_train)\n",
    "else: \n",
    "    grid2 = GridSearchCV(pipe2, param_grid2, cv=5, n_jobs=-1)\n",
    "    grid2.fit(X_train_s, y_train_s)"
   ]
  },
  {
   "cell_type": "code",
   "execution_count": 22,
   "metadata": {},
   "outputs": [
    {
     "name": "stdout",
     "output_type": "stream",
     "text": [
      "Best CV accuracy: 0.62\n",
      "Test score:       0.63\n",
      "\n",
      "Best parameters: {'classifier': LogisticRegression(C=100, class_weight=None, dual=False, fit_intercept=True,\n",
      "          intercept_scaling=1, max_iter=100, multi_class='ovr', n_jobs=1,\n",
      "          penalty='l2', random_state=None, solver='liblinear', tol=0.0001,\n",
      "          verbose=0, warm_start=False), 'classifier__C': 100, 'scaler': None}\n"
     ]
    }
   ],
   "source": [
    "# Print results\n",
    "print('Best CV accuracy: {:.2f}'.format(grid2.best_score_))\n",
    "if VERSION == 1 or VERSION == 2:\n",
    "    print('Test score:       {:.2f}'.format(grid2.score(X_test, y_test)))\n",
    "else: \n",
    "    print('Test score:       {:.2f}'.format(grid2.score(X_test_s, y_test_s))+'\\n')\n",
    "print('Best parameters: {}'.format(grid2.best_params_))"
   ]
  },
  {
   "cell_type": "code",
   "execution_count": 23,
   "metadata": {},
   "outputs": [
    {
     "name": "stdout",
     "output_type": "stream",
     "text": [
      "Predicted Response Vector based on Feature Test Set:\n"
     ]
    },
    {
     "data": {
      "text/plain": [
       "array([1, 1, 1, 0, 0, 0, 0, 1, 1, 1, 1, 1, 1, 0, 0, 0, 1, 1, 1, 1])"
      ]
     },
     "metadata": {},
     "output_type": "display_data"
    }
   ],
   "source": [
    "# Predict classes\n",
    "if VERSION == 1 or VERSION ==2:\n",
    "    y_pred2 = grid2.predict(X_test)\n",
    "else:\n",
    "    y_pred2 = grid2.predict(X_test_s)\n",
    "\n",
    "print('Predicted Response Vector based on Feature Test Set:')\n",
    "display(y_pred2[0:20])"
   ]
  },
  {
   "cell_type": "code",
   "execution_count": 24,
   "metadata": {},
   "outputs": [
    {
     "name": "stdout",
     "output_type": "stream",
     "text": [
      "Metrics of Classification with SVM2 (random parameters), kernel linear:\n",
      "\n",
      "             precision    recall  f1-score   support\n",
      "\n",
      "          0       0.65      0.33      0.43       305\n",
      "          1       0.63      0.86      0.73       405\n",
      "\n",
      "avg / total       0.64      0.63      0.60       710\n",
      "\n",
      "Confusion Matrix with SVM2 (random parameters), kernel linear:\n",
      "\n",
      "[[100 205]\n",
      " [ 55 350]]\n",
      "\n",
      "Sensitivity/Recall (TRUE POS. RATE) = 0.8641975308641975\n",
      "Specificity (TRUE NEG. RATE) = 0.32786885245901637\n",
      "\n",
      "ROC(absolut numbers) = 0.596033191661607\n"
     ]
    }
   ],
   "source": [
    "# Metrics of Classification\n",
    "\n",
    "m_text = 'Metrics of Classification with SVM2 (random parameters), kernel linear:'+'\\n'\n",
    "c_text = 'Confusion Matrix with SVM2 (random parameters), kernel linear:'+'\\n'\n",
    "\n",
    "if VERSION == 1 or VERSION == 2:\n",
    "    print(m_text)\n",
    "    print(metrics.classification_report(y_test, y_pred2))\n",
    "    print(c_text)\n",
    "    cfm_matrix = metrics.confusion_matrix(y_test, y_pred2)\n",
    "    print(cfm_matrix)\n",
    "    # Compute ROC curve and ROC area (AUC) for each class\n",
    "    fpr, tpr, thresholds = metrics.roc_curve(y_test, y_pred2)\n",
    "else:\n",
    "    print(m_text)\n",
    "    print(metrics.classification_report(y_test_s, y_pred2))\n",
    "    print(c_text)\n",
    "    cfm_matrix = metrics.confusion_matrix(y_test_s, y_pred2)\n",
    "    print(cfm_matrix)\n",
    "    # Compute ROC curve and ROC area (AUC) for each class\n",
    "    fpr, tpr, thresholds = metrics.roc_curve(y_test_s, y_pred2)\n",
    "\n",
    "print(\"\")\n",
    "print('Sensitivity/Recall (TRUE POS. RATE) = '+str(cfm_matrix[1,1]/(cfm_matrix[1,1]+cfm_matrix[1,0])))\n",
    "print('Specificity (TRUE NEG. RATE) = '+str(cfm_matrix[0,0]/(cfm_matrix[0,0]+cfm_matrix[0,1]))+'\\n')\n",
    "\n",
    "roc_auc = metrics.auc(fpr, tpr)\n",
    "print('ROC(absolut numbers) = '+str(roc_auc))"
   ]
  },
  {
   "cell_type": "markdown",
   "metadata": {},
   "source": [
    "### Kernel: poly"
   ]
  },
  {
   "cell_type": "code",
   "execution_count": 26,
   "metadata": {},
   "outputs": [],
   "source": [
    "# Create pipeline object with standard scaler and SVC estimator\n",
    "pipe3 = Pipeline([('scaler', StandardScaler()), \n",
    "                 ('classifier', SVC(random_state=0))])"
   ]
  },
  {
   "cell_type": "code",
   "execution_count": 27,
   "metadata": {},
   "outputs": [],
   "source": [
    "# Define parameter grid\n",
    "param_grid3 = [{'scaler': [StandardScaler()],\n",
    "               'classifier': [SVC(kernel= \"poly\")],\n",
    "               'classifier__gamma': [1, 10],\n",
    "               'classifier__C': [10, 100]},\n",
    "              {'scaler': [StandardScaler(), None],\n",
    "               'classifier': [LogisticRegression()],\n",
    "               'classifier__C': [10, 100]}]"
   ]
  },
  {
   "cell_type": "code",
   "execution_count": null,
   "metadata": {},
   "outputs": [],
   "source": [
    "# Run grid search\n",
    "if VERSION == 1 or VERSION == 2:\n",
    "    grid3 = GridSearchCV(pipe3, param_grid3, cv=5, n_jobs=-1)\n",
    "    grid3.fit(X_train, y_train)\n",
    "else: \n",
    "    grid3 = GridSearchCV(pipe3, param_grid3, cv=5, n_jobs=-1)\n",
    "    grid3.fit(X_train_s, y_train_s)"
   ]
  },
  {
   "cell_type": "code",
   "execution_count": null,
   "metadata": {},
   "outputs": [],
   "source": [
    "# Print results\n",
    "print('Best CV accuracy: {:.2f}'.format(grid3.best_score_)+'\\n')\n",
    "if VERSION == 1 or VERSION ==2:\n",
    "    print('Test score:       {:.2f}'.format(grid3.score(X_test, y_test))+'\\n')\n",
    "else: \n",
    "    print('Test score:       {:.2f}'.format(grid3.score(X_test_s, y_test_s))+'\\n')\n",
    "print('Best parameters: {}'.format(grid3.best_params_))"
   ]
  },
  {
   "cell_type": "code",
   "execution_count": null,
   "metadata": {},
   "outputs": [],
   "source": [
    "# Predict classes\n",
    "if VERSION == 1 or VERSION == 2:\n",
    "    y_pred3 = grid3.predict(X_test)\n",
    "else:\n",
    "    y_pred3 = grid3.predict(X_test_s)\n",
    "\n",
    "print('Predicted Response Vector based on Feature Test Set:')\n",
    "display(y_pred3[0:20])"
   ]
  },
  {
   "cell_type": "code",
   "execution_count": null,
   "metadata": {},
   "outputs": [],
   "source": [
    "# Metrics of Classification\n",
    "\n",
    "m_text = 'Metrics of Classification with SVM3 (random parameters), kernel poly:'+'\\n'\n",
    "c_text = 'Confusion Matrix with SVM3 (random parameters), kernel poly:'+'\\n'\n",
    "\n",
    "if VERSION == 1 or VERSION == 2:\n",
    "    print(m_text)\n",
    "    print(metrics.classification_report(y_test, y_pred3))\n",
    "    print(c_text)\n",
    "    cfm_matrix = metrics.confusion_matrix(y_test, y_pred3)\n",
    "    print(cfm_matrix)\n",
    "    # Compute ROC curve and ROC area (AUC) for each class\n",
    "    fpr, tpr, thresholds = metrics.roc_curve(y_test, y_pred3)\n",
    "else:\n",
    "    print(m_text)\n",
    "    print(metrics.classification_report(y_test_s, y_pred3))\n",
    "    print(c_text)\n",
    "    cfm_matrix = metrics.confusion_matrix(y_test_s, y_pred3)\n",
    "    print(cfm_matrix)\n",
    "    # Compute ROC curve and ROC area (AUC) for each class\n",
    "    fpr, tpr, thresholds = metrics.roc_curve(y_test_s, y_pred3)\n",
    "\n",
    "print(\"\")\n",
    "print('Sensitivity/Recall (TRUE POS. RATE) = '+str(cfm_matrix[1,1]/(cfm_matrix[1,1]+cfm_matrix[1,0])))\n",
    "print('Specificity (TRUE NEG. RATE) = '+str(cfm_matrix[0,0]/(cfm_matrix[0,0]+cfm_matrix[0,1]))+'\\n')\n",
    "\n",
    "roc_auc = metrics.auc(fpr, tpr)\n",
    "print('ROC(absolut numbers) = '+str(roc_auc))"
   ]
  }
 ],
 "metadata": {
  "kernelspec": {
   "display_name": "Python 3",
   "language": "python",
   "name": "python3"
  },
  "language_info": {
   "codemirror_mode": {
    "name": "ipython",
    "version": 3
   },
   "file_extension": ".py",
   "mimetype": "text/x-python",
   "name": "python",
   "nbconvert_exporter": "python",
   "pygments_lexer": "ipython3",
   "version": "3.6.4"
  }
 },
 "nbformat": 4,
 "nbformat_minor": 2
}
