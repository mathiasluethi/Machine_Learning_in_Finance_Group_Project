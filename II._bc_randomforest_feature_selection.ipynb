{
 "cells": [
  {
   "cell_type": "markdown",
   "metadata": {},
   "source": [
    "### Introduction to Machine Learning, UZH FS18, Group Project\n",
    "\n",
    "### Group 2: Barbara Capl, Mathias Lüthi, Pamela Matias, Stefanie Rentsch\n",
    "\n",
    "\n",
    "#     \n",
    "# II. Feature Selection with RandomForestClassifier"
   ]
  },
  {
   "cell_type": "code",
   "execution_count": 1,
   "metadata": {},
   "outputs": [],
   "source": [
    "# hide unnecessary warnings (\"depreciation\" of packages etc.)\n",
    "import warnings\n",
    "warnings.filterwarnings('ignore')\n",
    "\n",
    "# import packages\n",
    "import numpy as np\n",
    "import pandas as pd\n",
    "import matplotlib.pyplot as plt\n",
    "from sklearn import preprocessing\n",
    "from sklearn.model_selection import train_test_split\n",
    "from sklearn.preprocessing import Imputer\n",
    "from sklearn.ensemble import RandomForestClassifier"
   ]
  },
  {
   "cell_type": "markdown",
   "metadata": {},
   "source": [
    "# 1. Import Standardized Feature Matrix / Response Vector / Feature Labels    \n",
    "#### -------------------------------------------------------------------------------------------------------------------------------------------------\n",
    "### Dataset Version 1: only ratios as predictive features\n",
    "### Dataset Version 2: ratios + seasonality dummy variables + other market data\n",
    "####     \n",
    "### => All Datasets modified with sklearn Imputer (All Nan filled with \"median\")\n",
    "#### -------------------------------------------------------------------------------------------------------------------------------------------------\n"
   ]
  },
  {
   "cell_type": "markdown",
   "metadata": {},
   "source": [
    "#### Version 1: only ratios as predictive features"
   ]
  },
  {
   "cell_type": "code",
   "execution_count": null,
   "metadata": {},
   "outputs": [],
   "source": [
    "# Import Feature Matrix X1 and response vector y1 and extracted feature labels of dataset 1\n",
    "\n",
    "X1_train = pd.read.csv('Data/generated_splits/X1_train.csv')\n",
    "y1_train = pd.read.csv('Data/generated_splits/y1_train.csv')\n",
    "\n",
    "X1_test = pd.read.csv('Data/generated_splits/X1_test.csv')\n",
    "y1_test = pd.read.csv('Data/generated_splits/y1_test.csv')\n",
    "\n",
    "feature_labels1 = pd.read.csv('Data/generated_splits/feature_labels_1.csv')\n",
    "\n",
    "print('Shape of Feature Matrix X1_train = ' + str(X1_train.shape))\n",
    "print(\"\")\n",
    "print('Feature Matrix X1_train')\n",
    "display(X1_train.head())\n",
    "print(\"\")\n",
    "print('Response Vector y1_train')\n",
    "display(y1_train.head())\n",
    "print(\"\")\n",
    "\n",
    "print('Shape of Feature Matrix X1_test = ' + str(X1_test.shape))\n",
    "print(\"\")\n",
    "print('Feature Matrix X1_test')\n",
    "display(X1_test.head())\n",
    "print(\"\")\n",
    "print('Response Vector y1_test')\n",
    "display(y1_test.head())\n",
    "print(\"\")\n",
    "\n",
    "print('Type of feature_labels_1 = ' + str(type(feature_labels_1)))\n",
    "print(\"\")\n",
    "\n",
    "# Check if there is the approximately same percentage of '1' in both training and test response vector\n",
    "print('Ratio of \"Ones\" (Train) =  ' + str(y1_train.sum() / y1_train.size))\n",
    "print('Ratio of \"Ones\" (Test)  =  ' + str(y1_test.sum() / y1_test.size))\n"
   ]
  },
  {
   "cell_type": "markdown",
   "metadata": {},
   "source": [
    "#### Version 2: ratios + seasonality + other market data"
   ]
  },
  {
   "cell_type": "code",
   "execution_count": null,
   "metadata": {},
   "outputs": [],
   "source": [
    "# Import Feature Matrix X2, response vector y2 and extracted feature labels of dataset 2\n",
    "\n",
    "# Train\n",
    "X2_train = pd.read.csv('Data/generated_splits/X2_train.csv')\n",
    "y2_train = pd.read.csv('Data/generated_splits/y2_train.csv')\n",
    "\n",
    "# Test\n",
    "X2_test = pd.read.csv('Data/generated_splits/X2_test.csv')\n",
    "y2_test = pd.read.csv('Data/generated_splits/y2_test.csv')\n",
    "\n",
    "feature_labels_2 = pd.read.csv('Data/generated_splits/feature_labels2.csv')\n",
    "\n",
    "\n",
    "print('Shape of Feature Matrix X2_train = ' + str(X2_train.shape))\n",
    "print(\"\")\n",
    "print('Feature Matrix X2_train')\n",
    "display(X2_train.head())\n",
    "print(\"\")\n",
    "print('Response Vector y2_train')\n",
    "display(y2_train.head())\n",
    "print(\"\")\n",
    "\n",
    "print('Shape of Feature Matrix X2_test = ' + str(X2_test.shape))\n",
    "print(\"\")\n",
    "print('Feature Matrix X2_test')\n",
    "display(X2_test.head())\n",
    "print(\"\")\n",
    "print('Response Vector y2_test')\n",
    "display(y2_test.head())\n",
    "print(\"\")\n",
    "\n",
    "print('Type of feature_labels_2 = ' + str(type(feature_labels_2)))\n",
    "print(\"\")\n",
    "\n",
    "# Check if there is the approximately same percentage of '1' in both training and test response vector\n",
    "print('Ratio of \"Ones\" (Train) =  ' + str(y2_train.sum() / y2_train.size))\n",
    "print('Ratio of \"Ones\" (Test)  =  ' + str(y2_test.sum() / y2_test.size))\n"
   ]
  },
  {
   "cell_type": "markdown",
   "metadata": {},
   "source": [
    "\n",
    "# 2. Feature Selection with Random Forest  "
   ]
  },
  {
   "cell_type": "markdown",
   "metadata": {},
   "source": [
    "## 2.1.  Fit forest and show list of best 'n' / 'm' features according to explanatory value"
   ]
  },
  {
   "cell_type": "markdown",
   "metadata": {},
   "source": [
    "#### Version 1: only ratios as predictive features"
   ]
  },
  {
   "cell_type": "code",
   "execution_count": null,
   "metadata": {},
   "outputs": [],
   "source": [
    "forest_1 = RandomForestClassifier(random_state = 1)\n",
    "forest_1.max_depth = 6\n",
    "forest_1.fit(X1_train, y1_train)\n",
    "\n",
    "# Check features for their importance for the prediction\n",
    "feature_importances_1 = forest_1.feature_importances_\n",
    "\n",
    "# sort features in line with their importance for the prediction\n",
    "indices_1 = np.argsort(feature_importances_1)[::-1]\n",
    "\n",
    "# print best n features\n",
    "n = 15\n",
    "for i in range(n):\n",
    "    print('{0:2d} {1:7s} {2:6.4f}'.format(i + 1, feature_labels_1[indices_1[i]], \n",
    "                                          features_importances_1[indices_1[i]]))\n",
    "del i\n"
   ]
  },
  {
   "cell_type": "markdown",
   "metadata": {},
   "source": [
    "#### Version 2: ratios + seasonality + other market data"
   ]
  },
  {
   "cell_type": "code",
   "execution_count": null,
   "metadata": {},
   "outputs": [],
   "source": [
    "forest_2 = RandomForestClassifier(random_state = 1)\n",
    "forest_2.max_depth = 6\n",
    "forest_2.fit(X2_train, y2_train)\n",
    "\n",
    "# Check features for their importance for the prediction\n",
    "feature_importances_2 = forest_2.feature_importances_\n",
    "\n",
    "# sort features in line with their importance for the prediction\n",
    "indices_2 = np.argsort(feature_importances_2)[::-1]\n",
    "\n",
    "# print best n features\n",
    "m = 15\n",
    "for i in range(m):\n",
    "    print('{0:2d} {1:7s} {2:6.4f}'.format(i + 1, feature_labels_2[indices_2[i]], \n",
    "                                          features_importances_2[indices_2[i]]))\n",
    "del i\n"
   ]
  },
  {
   "cell_type": "markdown",
   "metadata": {},
   "source": [
    "## 2.2.  Plots"
   ]
  },
  {
   "cell_type": "markdown",
   "metadata": {},
   "source": [
    "#### Version 1: only ratios as predictive features"
   ]
  },
  {
   "cell_type": "code",
   "execution_count": null,
   "metadata": {},
   "outputs": [],
   "source": [
    "# Get cumsum of the n most important features\n",
    "feat_imp_1 = np.sort(feature_importances_1)[::-1]\n",
    "sum_feat_imp_1 = np.cumsum(feature_importances_1)[:n]\n",
    "\n",
    "# Plot Feature Importance (both cumulative and individual)\n",
    "plt.figure(figsize = (12, 8))\n",
    "plt.title('Feature Importances: Version 1 (only ratios)')\n",
    "plt.bar(range(n), feature_importances_1[indices_1[:n]], align = 'center')\n",
    "plt.xticks(range(n), feature_labels_1[indices_1[:n]], rotation = 90)\n",
    "plt.xlim([-1, n])\n",
    "plt.xlabel('Feature')\n",
    "plt.ylabel('Relative Feature Importance')\n",
    "plt.step(range(n), sum_feat_imp_1, where = 'mid', label = 'Cumulative Feature Importance')\n",
    "plt.tight_layout();"
   ]
  },
  {
   "cell_type": "markdown",
   "metadata": {},
   "source": [
    "#### Version 2: ratios + seasonality + other market data"
   ]
  },
  {
   "cell_type": "code",
   "execution_count": null,
   "metadata": {},
   "outputs": [],
   "source": [
    "# Get cumsum of the n most important features\n",
    "feat_imp_2 = np.sort(features_importances_2)[::-1]\n",
    "sum_feat_imp_2 = np.cumsum(features_importances_2)[:m]\n",
    "\n",
    "# Plot Feature Importance (both cumulative and individual)\n",
    "plt.figure(figsize = (12, 8))\n",
    "plt.title('Feature Importances: Version 2 (ratios + seasonality + market)')\n",
    "plt.bar(range(m), feature_importances_2[indices_2[:m]], align = 'center')\n",
    "plt.xticks(range(m), feature_labels_2[indices_2[:m]], rotation = 90)\n",
    "plt.xlim([-1, m])\n",
    "plt.xlabel('Feature')\n",
    "plt.ylabel('Relative Feature Importance')\n",
    "plt.step(range(m), sum_feat_imp_2, where = 'mid', label = 'Cumulative Feature Importance')\n",
    "plt.tight_layout();"
   ]
  },
  {
   "cell_type": "markdown",
   "metadata": {},
   "source": [
    "## 2.3.  Extract best 'n' / 'm' Variables of datasets and save\n"
   ]
  },
  {
   "cell_type": "code",
   "execution_count": null,
   "metadata": {},
   "outputs": [],
   "source": [
    "#from sklearn.feature_selection import SelectFromModel\n",
    "\n",
    "#selected_1 = SelectFromModel(RandomForestClassifier(), threshold = 'median')\n",
    "#selected_1.fit(X1, y1)\n",
    "#n_features = selected_1.transform(X1).shape[1]\n",
    "#X1.head()\n",
    "\n",
    "# =====> AUTOMATED FEATURE EXTRACTION WOULD BE EXTREEEMELY COOL\n",
    "# =====> SELECTFROMMODEL ALGO CAN ONLY SELECT FEATURES ACCORDING TO THRESHOLD, NOT \"BET N FEATURES\" (?)"
   ]
  },
  {
   "cell_type": "markdown",
   "metadata": {},
   "source": [
    "#### Version 1: only ratios as predictive features"
   ]
  },
  {
   "cell_type": "code",
   "execution_count": null,
   "metadata": {},
   "outputs": [],
   "source": [
    "# Extract only the n best variables directly from the feature matrix into a new one\n",
    "X1_train_s = X1_train[['_', '_']]\n",
    "X1_test_s = X1_test[['_', '_']]\n",
    "\n",
    "feature_labels_1_s = X1_train_s.columns[:-1]\n",
    "\n",
    "# Save to csv\n",
    "X1_train_s.to_csv('Data/generated_splits/X1_train_s.csv')\n",
    "X1_test_s.to_csv('Data/generated_splits/X1_test_s.csv')\n",
    "\n",
    "feature_labels_1_s.to_csv('Data/generated_splits/feature_labels_1_s.csv')\n",
    "\n",
    "print('Feature Matrix with selected Features (Train)')\n",
    "display(X1_train_s.head())\n",
    "print(\"\")\n",
    "print('Feature Matrix with selected Features (Test)')\n",
    "display(X1_test_s.head())\n",
    "print(\"\")"
   ]
  },
  {
   "cell_type": "code",
   "execution_count": null,
   "metadata": {},
   "outputs": [],
   "source": [
    "### Maybe unnecessary, but maybe necessary for more randomness (if split again after feature selection, IDK)\n",
    "###\n",
    "\n",
    "# Load necessary Dataset\n",
    "#df_1 = pd.read_csv('Data/generated_datasets/df_1.csv', sep = ',')\n",
    "\n",
    "# Extract only the n best variables + the respons varable (NEXT_DAY_PREDICTION)\n",
    "#df_1_selected = df_1[['_', '_', 'NEXT_DAY_PREDICTION']]\n",
    "\n",
    "# Save to csv\n",
    "#df_1_selected.to_csv('Data/generated_datasets/df_1_selected.csv')\n",
    "\n",
    "#print(\"\")\n",
    "#print('Dataset 1 (only ratios) with chosen n features')\n",
    "#display(df_1_selected.head())"
   ]
  },
  {
   "cell_type": "code",
   "execution_count": null,
   "metadata": {},
   "outputs": [],
   "source": [
    "# Extract labels of features\n",
    "#feature_labels_1_s = df_1_selected.columns[:-1]\n",
    "\n",
    "# X1_s is the feature matrix wit hselected features\n",
    "#X1_s = df_1_selected.iloc[:, :-1]\n",
    "#display(X1_s.head())\n",
    "\n",
    "# y1 is the response vector\n",
    "#y1 = df_1_selected.iloc[:, -1]"
   ]
  },
  {
   "cell_type": "code",
   "execution_count": null,
   "metadata": {},
   "outputs": [],
   "source": [
    "# Do the train - test- split\n",
    "#X1_train_s, X1_test_s, y1_train_s, y1_test_s = train_test_split(X1_s, y1_s, test_size = 0.2, random_state = 0, \n",
    "                                                         #       stratify = y1_s)\n",
    "\n",
    "# Check if there is the approximately same percentage of '1' i both training and test response vector\n",
    "#display(y1_train.sum() / y1_train.size)\n",
    "#display(y1_test.sum() / y1_test.size)"
   ]
  },
  {
   "cell_type": "markdown",
   "metadata": {},
   "source": [
    "#### Version 2: ratios + seasonality + other market data"
   ]
  },
  {
   "cell_type": "code",
   "execution_count": null,
   "metadata": {},
   "outputs": [],
   "source": [
    "# Extract only the n best variables directly from the feature matrix into a new one\n",
    "X2_train_s = X2_train[['_', '_']]\n",
    "X2_test_s = X2_test[['_', '_']]\n",
    "\n",
    "feature_labels_2_s = X2_train_s.columns[:-1]\n",
    "\n",
    "# Save to csv\n",
    "X2_train_s.to_csv('Data/generated_splits/X2_train_s.csv')\n",
    "X2_test_s.to_csv('Data/generated_splits/X2_test_s.csv')\n",
    "\n",
    "feature_labels_2_s.to_csv('Data/generated_splits/feature_labels_2_s.csv')\n",
    "\n",
    "\n",
    "print('Feature Matrix with selected Features (Train)')\n",
    "display(X2_train_s.head())\n",
    "print(\"\")\n",
    "print('Feature Matrix with selected Features (Test)')\n",
    "display(X2_test_s.head())\n",
    "print(\"\")"
   ]
  },
  {
   "cell_type": "code",
   "execution_count": null,
   "metadata": {},
   "outputs": [],
   "source": [
    "### Maybe unnecessary, but maybe necessary for more randomness (if split again after feature selection, IDK)\n",
    "###\n",
    "\n",
    "# Load necessary Dataset\n",
    "#df_2 = pd.read_csv('Data/generated_datasets/df_2.csv', sep = ',')\n",
    "\n",
    "# Extract only the n best variables + the respons varable (NEXT_DAY_PREDICTION)\n",
    "#df_2_selected = df_2[['_', '_', 'NEXT_DAY_PREDICTION']]\n",
    "\n",
    "# Save to csv\n",
    "#df_2_selected.to_csv('Data/generated_datasets/df_2_selected.csv')\n",
    "\n",
    "#print(\"\")\n",
    "#print('Dataset 2 (ratios + seasonality + market) with chosen m features')\n",
    "#display(df_2_selected.head())"
   ]
  },
  {
   "cell_type": "code",
   "execution_count": null,
   "metadata": {},
   "outputs": [],
   "source": [
    "# Extract labels of features\n",
    "#feature_labels_2_s = df_2_selected.columns[:-1]\n",
    "\n",
    "# X2_s is the feature matrix with selected features\n",
    "#X2_s = df_2_selected.iloc[:, :-1]\n",
    "#display(X2_2.head())\n",
    "\n",
    "# y2_s is the response vector\n",
    "#y2_s = df_2_selected.iloc[:, -1]"
   ]
  },
  {
   "cell_type": "code",
   "execution_count": null,
   "metadata": {},
   "outputs": [],
   "source": [
    "# Do the train - test- split\n",
    "#X2_train_s, X2_test_s, y2_train_s, y2_test_s = train_test_split(X2_s, y2_s, test_size = 0.2, random_state = 0, \n",
    "                                                         #       stratify = y2_s)\n",
    "\n",
    "# Check if there is the approximately same percentage of '1' i both training and test response vector\n",
    "#display(y2_s_train.sum() / y2_s_train.size)\n",
    "#display(y2_s_test.sum() / y2_s_test.size)"
   ]
  }
 ],
 "metadata": {
  "kernelspec": {
   "display_name": "Python 3",
   "language": "python",
   "name": "python3"
  },
  "language_info": {
   "codemirror_mode": {
    "name": "ipython",
    "version": 3
   },
   "file_extension": ".py",
   "mimetype": "text/x-python",
   "name": "python",
   "nbconvert_exporter": "python",
   "pygments_lexer": "ipython3",
   "version": "3.6.4"
  }
 },
 "nbformat": 4,
 "nbformat_minor": 2
}
