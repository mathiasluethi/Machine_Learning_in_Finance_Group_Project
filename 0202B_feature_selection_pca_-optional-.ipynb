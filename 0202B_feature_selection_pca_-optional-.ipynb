{
 "cells": [
  {
   "cell_type": "markdown",
   "metadata": {},
   "source": [
    "# Introduction to Machine Learning, UZH 2018, Group Project\n",
    "### Group 2: Barbara Capl, Mathias Lüthi, Pamela Matias, Stefanie Rentsch\n",
    "###    \n",
    "###    \n",
    "# 2. Feature Selection (Extraction)\n",
    "# B. with Principal Component Analysis (PCA)\n",
    "\n",
    "###        \n",
    "In this section we use the feature matrices and the response vector that we prepared in chapter 1.  \n",
    "\n",
    "\n",
    "####  We will do Feature Selection (Extraction) and generate feature matrices with only selected n features for each Version above\n"
   ]
  },
  {
   "cell_type": "code",
   "execution_count": 1,
   "metadata": {},
   "outputs": [],
   "source": [
    "# hide unnecessary warnings (\"depreciation\" of packages etc.)\n",
    "import warnings\n",
    "warnings.filterwarnings('ignore')\n",
    "\n",
    "# import packages\n",
    "import numpy as np\n",
    "import pandas as pd\n",
    "import matplotlib.pyplot as plt\n",
    "from sklearn import preprocessing\n",
    "from sklearn.model_selection import train_test_split\n",
    "from sklearn.preprocessing import Imputer\n",
    "from sklearn.decomposition import PCA"
   ]
  },
  {
   "cell_type": "markdown",
   "metadata": {},
   "source": [
    "###    \n",
    "###    \n",
    "## 2.0. SETTINGS: choose which Feature Matrix (Version 1 or 2) you want to use"
   ]
  },
  {
   "cell_type": "markdown",
   "metadata": {},
   "source": [
    "#### Choose the Dataset Version you want\n",
    "VERSION = 1; Feature Matrix with only ratios                                  \n",
    "VERSION = 2;  Feature Matrix with ratios + saisonality + other market data\n"
   ]
  },
  {
   "cell_type": "code",
   "execution_count": 2,
   "metadata": {},
   "outputs": [
    {
     "name": "stdout",
     "output_type": "stream",
     "text": [
      "You chose Version 2 as working dataset. The following Feature Selection will be therefore based on Dataset with Ratios + Seasonality + other Market Data as predictive Features.\n"
     ]
    }
   ],
   "source": [
    "### Chose which dataset version you want the selection of features and the prediction to be based on \n",
    "VERSION = 1\n",
    "\"\"\"\n",
    "INSERT NUMBER 1 or 2\n",
    "\"\"\"\n",
    "\n",
    "\n",
    "# Defining sel_state variable for usage later and printing text according to your choise     \n",
    "if VERSION == 1:\n",
    "    sel_version = 'based on Dataset with only the Ratios Dataset as predicive Features.'\n",
    "    print('You chose Version 1 as working dataset. The following Feature Selection will be therefore ' + sel_version)\n",
    "elif VERSION == 2:\n",
    "    sel_version = 'based on Dataset with Ratios + Seasonality + other Market Data as predictive Features.'\n",
    "    print('You chose Version 2 as working dataset. The following Feature Selection will be therefore ' + sel_version)\n",
    "else: raise ValueError('VERSION must be either 1 or 2')"
   ]
  },
  {
   "cell_type": "markdown",
   "metadata": {},
   "source": [
    "###    \n",
    "###    \n",
    "## 2.1. Preparation\n"
   ]
  },
  {
   "cell_type": "markdown",
   "metadata": {},
   "source": [
    "### 2.1.1 Import the Response Vector and the Feature Matrices"
   ]
  },
  {
   "cell_type": "code",
   "execution_count": 3,
   "metadata": {},
   "outputs": [],
   "source": [
    "# Load in the response vector pre-generated in Chater 1 (Preparation of Data)\n",
    "y = pd.read_csv('Data/generated_datasets/response_1.csv', sep=',', header=0)"
   ]
  },
  {
   "cell_type": "code",
   "execution_count": 4,
   "metadata": {},
   "outputs": [],
   "source": [
    "# Load in te feature matrix according to the version you chose in section 2.0. above\n",
    "if VERSION == 1:\n",
    "    X = pd.read_csv('Data/generated_datasets/features_ratios_1.csv', sep=',', header=0)\n",
    "elif VERSION == 2:\n",
    "    X = pd.read_csv('Data/generated_datasets/features_additional_1.csv', sep=',', header=0)\n",
    "else: raise ValueError('VERSION value must be either 1 or 2')"
   ]
  },
  {
   "cell_type": "markdown",
   "metadata": {},
   "source": [
    "### 2.1.2. Train/ Test Split, fill missing values with median and standardize\n",
    "\n",
    "Note: For PCA, Standardization is needed before applying PCA algorithm."
   ]
  },
  {
   "cell_type": "markdown",
   "metadata": {},
   "source": [
    "### Train/ Test Split"
   ]
  },
  {
   "cell_type": "code",
   "execution_count": 5,
   "metadata": {},
   "outputs": [
    {
     "name": "stdout",
     "output_type": "stream",
     "text": [
      "Type of feature_labels = <class 'list'> \n",
      "\n"
     ]
    }
   ],
   "source": [
    "# Train/test split, into 20% test size and 80% train size because it is a relatively small dataset\n",
    "X_train, X_test, y_train, y_test = train_test_split(X, y, test_size=0.2, random_state=0)\n",
    "\n",
    "# Extract all the feature labels for the respective chosen version\n",
    "feature_labels = list(X)\n",
    "print('Type of feature_labels = ' + str(type(feature_labels)),'\\n')\n",
    "#display(np.array(feature_labels))"
   ]
  },
  {
   "cell_type": "markdown",
   "metadata": {},
   "source": [
    "### Filling missing values (NaN)\n",
    "We use Imputer to fill missing entries with median only AFTER the split, to circumvent the bias that both splits would include information of each other."
   ]
  },
  {
   "cell_type": "code",
   "execution_count": 6,
   "metadata": {},
   "outputs": [],
   "source": [
    "# Use a median fill for train\n",
    "imp = Imputer(missing_values=np.nan, strategy = 'median' , axis=0)\n",
    "imputed_dataset = pd.DataFrame(imp.fit_transform(X_train))\n",
    "imputed_dataset.columns = X_train.columns\n",
    "imputed_dataset.index = X_train.index\n",
    "X_train = imputed_dataset\n",
    "\n",
    "# Use a median fill for the test set\n",
    "imputed_dataset = pd.DataFrame(imp.fit_transform(X_test))\n",
    "imputed_dataset.columns = X_test.columns\n",
    "imputed_dataset.index = X_test.index\n",
    "X_test = imputed_dataset"
   ]
  },
  {
   "cell_type": "markdown",
   "metadata": {},
   "source": [
    "### Standardization"
   ]
  },
  {
   "cell_type": "code",
   "execution_count": 7,
   "metadata": {},
   "outputs": [],
   "source": [
    "# Standardization with sklearn StandardScaler\n",
    "standard_scaler = preprocessing.StandardScaler().fit(X_train)\n",
    "X_train = standard_scaler.transform(X_train)\n",
    "X_test = standard_scaler.transform(X_test)"
   ]
  },
  {
   "cell_type": "markdown",
   "metadata": {},
   "source": [
    "###   \n",
    "###  \n",
    "## 2.2. Run PCA on whole Training Set for all possible PCAs (= number of columns)"
   ]
  },
  {
   "cell_type": "markdown",
   "metadata": {},
   "source": [
    "### 2.2.1.  Generate PCA object and show plots"
   ]
  },
  {
   "cell_type": "code",
   "execution_count": 8,
   "metadata": {},
   "outputs": [
    {
     "name": "stdout",
     "output_type": "stream",
     "text": [
      "Explained Variance, first 10 rows: \n",
      "[0.10034361 0.06682765 0.05833381 0.03643563 0.03484786 0.03279624\n",
      " 0.02692309 0.02387572 0.02227855 0.02150253] \n",
      "\n",
      "Explained Variance in Total = 1.0000000000000002\n",
      "\n",
      "Cumulative explained Variance, first 10 rows: \n",
      "[0.10034361 0.16717126 0.22550507 0.2619407  0.29678856 0.3295848\n",
      " 0.35650789 0.38038361 0.40266215 0.42416468] \n",
      "\n",
      "Maximal number (q_a) of PCs is: 181 \n",
      "\n"
     ]
    }
   ],
   "source": [
    "# Run PCA for all possible PCAs\n",
    "pca_a = PCA().fit(X_train)\n",
    "\n",
    "# Define maximal number of principal components => the \"1\" in shape[1] refers to columns (\"0\" would be rows)\n",
    "q_a = X_train.shape[1]\n",
    "\n",
    "# Get the amount of variance that each PC explains\n",
    "expl_var_a = pca_a.explained_variance_ratio_\n",
    "\n",
    "# Get cumulative sum of the PCA 1-q_a\n",
    "sum_expl_var_a = np.cumsum(expl_var_a)[:q_a]\n",
    "\n",
    "# because we run PCA for all possible PCAs, sum of al Explained Variance in Total of the training set should be 1\n",
    "print('Explained Variance, first 10 rows: ')\n",
    "print(expl_var_a[0:10],'\\n')\n",
    "print('Explained Variance in Total = ' + str(expl_var_a.sum())+'\\n')\n",
    "print('Cumulative explained Variance, first 10 rows: ')\n",
    "print(sum_expl_var_a[0:10], '\\n')\n",
    "print('Maximal number (q_a) of PCs is: ' + str(q_a), '\\n')"
   ]
  },
  {
   "cell_type": "markdown",
   "metadata": {},
   "source": [
    "### 2.2.2.  Plot cumulative explained variace"
   ]
  },
  {
   "cell_type": "code",
   "execution_count": 9,
   "metadata": {},
   "outputs": [
    {
     "data": {
      "image/png": "[encoded data removed]",
      "text/plain": [
       "<matplotlib.figure.Figure at 0x7fd441892518>"
      ]
     },
     "metadata": {},
     "output_type": "display_data"
    }
   ],
   "source": [
    "# Plot curve with cumulative sum\n",
    "plt.figure(figsize = (8, 4))\n",
    "plt.plot(sum_expl_var_a)\n",
    "plt.title('Cumulative explained Variance')\n",
    "plt.xlabel('Number of Components')\n",
    "plt.ylabel('Ratio of Cum. explained Variance')\n",
    "plt.xticks(range(0, q_a + 1, 10))\n",
    "plt.show();"
   ]
  },
  {
   "cell_type": "markdown",
   "metadata": {},
   "source": [
    "### 2.1.2  Plot explained variance by single components"
   ]
  },
  {
   "cell_type": "code",
   "execution_count": 10,
   "metadata": {},
   "outputs": [
    {
     "data": {
      "image/png": "[encoded data removed]",
      "text/plain": [
       "<matplotlib.figure.Figure at 0x7fd438116cc0>"
      ]
     },
     "metadata": {},
     "output_type": "display_data"
    }
   ],
   "source": [
    "# Plot curve with explained variance\n",
    "plt.figure(figsize = (8, 4))\n",
    "plt.plot(expl_var_a)\n",
    "plt.title('Explained Variance by single components)')\n",
    "plt.xlabel('Number of Components')\n",
    "plt.ylabel('Ratio of Variance explained')\n",
    "plt.xticks(range(-1, q_a + 1, 10))\n",
    "plt.show();"
   ]
  },
  {
   "cell_type": "markdown",
   "metadata": {},
   "source": [
    "### 2.1.3 Plot feature importances"
   ]
  },
  {
   "cell_type": "code",
   "execution_count": 11,
   "metadata": {},
   "outputs": [
    {
     "data": {
      "image/png": "[encoded data removed]",
      "text/plain": [
       "<matplotlib.figure.Figure at 0x7fd4380430b8>"
      ]
     },
     "metadata": {},
     "output_type": "display_data"
    }
   ],
   "source": [
    "# Plot Feature Importances (both cumulative and idividual)\n",
    "plt.figure(figsize = (8, 4))\n",
    "plt.title('Feature Importances (best 30)')\n",
    "plt.bar(range(0, q_a), expl_var_a, align = 'center')\n",
    "plt.xticks(range(0, q_a + 1, 1))\n",
    "plt.xlim([0, 30])\n",
    "plt.xlabel('Principal Components')\n",
    "plt.ylabel('Explained Variance Ratio')\n",
    "plt.step(range(1, q_a + 1), sum_expl_var_a, where = 'mid')\n",
    "plt.tight_layout();"
   ]
  },
  {
   "cell_type": "markdown",
   "metadata": {},
   "source": [
    "###    \n",
    "###    \n",
    "## 2.3.  Run PCA on whole Training Set for SELECTED number 'q' of PCAs"
   ]
  },
  {
   "cell_type": "markdown",
   "metadata": {},
   "source": [
    "### 2.2.1. Choose number of Principal Components  and get them for further use"
   ]
  },
  {
   "cell_type": "code",
   "execution_count": 12,
   "metadata": {},
   "outputs": [
    {
     "name": "stdout",
     "output_type": "stream",
     "text": [
      "PCA Object; PCA(copy=True, iterated_power='auto', n_components=20, random_state=None,\n",
      "  svd_solver='auto', tol=0.0, whiten=False) \n",
      "\n",
      "Explained Variance, first 10 rows: \n",
      "[0.10034361 0.06682764 0.05833381 0.03643524 0.0348467  0.03279609\n",
      " 0.02692206 0.02385636 0.02227209 0.02148153] \n",
      "\n",
      "Explained Variance in Total = 0.5869167922972988 \n",
      "\n",
      "Cumulative explained Variance, first 10 rows: \n",
      "[0.10034361 0.16717125 0.22550506 0.2619403  0.29678701 0.3295831\n",
      " 0.35650516 0.38036152 0.40263361 0.42411514] \n",
      "\n"
     ]
    }
   ],
   "source": [
    "# Define number of principal components we wish to extract\n",
    "q = 20\n",
    "\n",
    "# Create PCA object\n",
    "pca = PCA(n_components = q)\n",
    "\n",
    "# Fit PCA object to find first principal components\n",
    "pca.fit(X_train)\n",
    "\n",
    "print('PCA Object; ' + str(pca), '\\n')\n",
    "\n",
    "# Get the amount of variance that each PC explains\n",
    "expl_var = pca.explained_variance_ratio_\n",
    "\n",
    "# Get cumulative sum of the PCA 1-q_1\n",
    "sum_expl_var = np.cumsum(expl_var)[:q]\n",
    "\n",
    "# because we run PCA for only q_1 components, sum of al explained Variance of the training set should be LESS than 1\n",
    "print('Explained Variance, first 10 rows: ')\n",
    "print(expl_var[0:10], '\\n')\n",
    "print('Explained Variance in Total = ' + str(expl_var.sum()), '\\n')\n",
    "print('Cumulative explained Variance, first 10 rows: ')\n",
    "print(sum_expl_var[0:10], '\\n')"
   ]
  },
  {
   "cell_type": "markdown",
   "metadata": {},
   "source": [
    "### 2.2.2. Fit PCA and reduce dimensionality of Training Set; Transform feature matrix with pca object"
   ]
  },
  {
   "cell_type": "code",
   "execution_count": 13,
   "metadata": {},
   "outputs": [
    {
     "name": "stdout",
     "output_type": "stream",
     "text": [
      "Shape of PCA-transformed X_train set (should have only q columns) = (2836, 20) \n",
      "\n",
      "Shape of untransformed X_train set (should have more than q columns) = (2836, 181)\n"
     ]
    }
   ],
   "source": [
    "# fit determines the q principal components of the training feature set\n",
    "# transform transforms the training set by applying this value to the training set, to reduce its dimensionality\n",
    "X_train_transformed = pca.fit_transform(X_train)\n",
    "\n",
    "# display properties\n",
    "print('Shape of PCA-transformed X_train set (should have only q columns) = '+ str(X_train_transformed.shape),'\\n')\n",
    "print('Shape of untransformed X_train set (should have more than q columns) = '+ str(X_train.shape))"
   ]
  },
  {
   "cell_type": "markdown",
   "metadata": {},
   "source": [
    "### 2.2.3. Transform new data (Test set) using the already fitted pca object and save the resulting feature matrices"
   ]
  },
  {
   "cell_type": "markdown",
   "metadata": {},
   "source": [
    "### Transform the Test Feature Matrix and create pandas dataframe"
   ]
  },
  {
   "cell_type": "code",
   "execution_count": 14,
   "metadata": {},
   "outputs": [
    {
     "name": "stdout",
     "output_type": "stream",
     "text": [
      "Shape of PCA-transformed X_test set (should have only q columns) = (710, 20) \n",
      "\n",
      "Shape of untransformed X_test set (should have more than q columns) = (710, 181)\n"
     ]
    }
   ],
   "source": [
    "# Goal: Test Set has the same dimensions (features) as training set\n",
    "# transform the test set with the pca object fit_transformed on the training set\n",
    "X_test_transformed = pca.transform(X_test)\n",
    "\n",
    "# Put the X Sets into a pandas dataframe (they are numpy) so they can be saved as csv & loaded in the next chapter files\n",
    "X_train_p = pd.DataFrame(X_train_transformed)\n",
    "X_test_p = pd.DataFrame(X_test_transformed)  \n",
    "\n",
    "# display properties\n",
    "print('Shape of PCA-transformed X_test set (should have only q columns) = '+ str(X_test_transformed.shape),'\\n')\n",
    "print('Shape of untransformed X_test set (should have more than q columns) = '+ str(X_test.shape))"
   ]
  },
  {
   "cell_type": "markdown",
   "metadata": {},
   "source": [
    "### Save PCA- transformed Fature Matrices and the Respose Vector"
   ]
  },
  {
   "cell_type": "code",
   "execution_count": 15,
   "metadata": {},
   "outputs": [],
   "source": [
    "if VERSION == 1:\n",
    "    X_train_p.to_csv('Data/generated_splits/features_selected_pca/X1_train_p.csv', index = False)\n",
    "    X_test_p.to_csv('Data/generated_splits/features_selected_pca/X1_test_p.csv', index = False)\n",
    "    y_train.to_csv('Data/generated_splits/features_selected_pca/y1_train_p.csv', index = False)\n",
    "    y_test.to_csv('Data/generated_splits/features_selected_pca/y1_test_p.csv', index = False)\n",
    "elif VERSION == 2:\n",
    "    X_train_p.to_csv('Data/generated_splits/features_selected_pca/X2_train_p.csv', index = False)\n",
    "    X_test_p.to_csv('Data/generated_splits/features_selected_pca/X2_test_p.csv', index = False)\n",
    "    y_train.to_csv('Data/generated_splits/features_selected_pca/y2_train_p.csv', index = False)\n",
    "    y_test.to_csv('Data/generated_splits/features_selected_pca/y2_test_p.csv', index = False)\n",
    "else: raise ValueError('VERSION value must be either 1 or 2')"
   ]
  }
 ],
 "metadata": {
  "kernelspec": {
   "display_name": "Python 3",
   "language": "python",
   "name": "python3"
  },
  "language_info": {
   "codemirror_mode": {
    "name": "ipython",
    "version": 3
   },
   "file_extension": ".py",
   "mimetype": "text/x-python",
   "name": "python",
   "nbconvert_exporter": "python",
   "pygments_lexer": "ipython3",
   "version": "3.6.4"
  }
 },
 "nbformat": 4,
 "nbformat_minor": 2
}
