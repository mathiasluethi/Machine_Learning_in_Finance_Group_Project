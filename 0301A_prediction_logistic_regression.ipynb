{
 "cells": [
  {
   "cell_type": "markdown",
   "metadata": {},
   "source": [
    "# Introduction to Machine Learning, UZH 2018, Group Project\n",
    "### Group 2: Barbara Capl, Mathias Lüthi, Pamela Matias, Stefanie Rentsch\n",
    "##       \n",
    "# 3. Classification / Prediction \n",
    "# A. with Multiple Logistic Regression\n",
    "\n",
    "In this section we use the feature matrices and response vectors with features selected in chapter 2.  \n",
    "\n",
    "#### We use two different versions (created in chapter 1, features-selected in chapter 2):\n",
    "Version 1: Feature Matrix consists only of the Ratios                                                                        \n",
    "Version 2: Feature Matrix consists of Ratios + dummy variables for seasonality + other market data\n",
    "####  We will do Classification and Prediction with Single and Multiple Regression\n"
   ]
  },
  {
   "cell_type": "code",
   "execution_count": 1,
   "metadata": {},
   "outputs": [],
   "source": [
    "# hide unnecessary warnings (\"depreciation\" of packages etc.)\n",
    "import warnings\n",
    "warnings.filterwarnings('ignore')\n",
    "\n",
    "# Load Packages\n",
    "import pandas as pd\n",
    "import numpy as np\n",
    "import matplotlib.pyplot as plt\n",
    "import statsmodels.api as sm\n",
    "import statsmodels.formula.api as smf\n",
    "from sklearn import metrics\n",
    "\n",
    "plt.style.use(\"seaborn-whitegrid\")\n",
    "%matplotlib inline "
   ]
  },
  {
   "cell_type": "markdown",
   "metadata": {},
   "source": [
    "## 3.0. SETTINGS:"
   ]
  },
  {
   "cell_type": "markdown",
   "metadata": {},
   "source": [
    "### (1) Choose the Dataset Version you want\n",
    "\n",
    "##### Reduced Feature Matrix (Features pre-selected)\n",
    "VERSION = 1; Reduced Feature Matrix with only ratios                                  \n",
    "VERSION = 2;  Reduced Feature Matrix with ratios + saisonality + other market data"
   ]
  },
  {
   "cell_type": "code",
   "execution_count": 2,
   "metadata": {},
   "outputs": [
    {
     "name": "stdout",
     "output_type": "stream",
     "text": [
      "You chose VERSION 1.1 as working dataset. \n",
      "The following Classification/ Prediction will be therefore based on reduced Dataset with only Ratios as predictive Features.\n"
     ]
    }
   ],
   "source": [
    "### Choose which dataset version you want the selection of features and the prediction to be based on \n",
    "VERSION = 1.1\n",
    "\"\"\"\n",
    "INSERT NUMBER 1.1 or 2.1\n",
    "\"\"\"\n",
    "\n",
    "\n",
    "# Defining sel_state variable for usage later and printing text according to your choise   \n",
    "if VERSION == 1.1:\n",
    "    sel_version = 'based on reduced Dataset with only Ratios as predictive Features.'\n",
    "elif VERSION == 2.1:\n",
    "    sel_version = 'based on reduced Dataset with Ratios + Seasonality + other Market   Data as predictive Features.'\n",
    "else: raise ValueError('VERSION must be either 1.1 or 2.1')\n",
    "print('You chose VERSION '+str(VERSION)+' as working dataset. '+'\\n'+'The following Classification/ Prediction will be therefore ' \n",
    "          + sel_version)"
   ]
  },
  {
   "cell_type": "markdown",
   "metadata": {},
   "source": [
    "### (2) Choose which method you want to have the features been pre-selected with\n",
    "SELECTON  = RF ; Features pre-selected with Random Forest Classifier                                                           \n",
    "SELECTION = PCA; Features pre-selected with Principal Component Analysis (PCA)"
   ]
  },
  {
   "cell_type": "code",
   "execution_count": 3,
   "metadata": {},
   "outputs": [
    {
     "name": "stdout",
     "output_type": "stream",
     "text": [
      "You chose SELECTION method Random Forest (RF).\n"
     ]
    }
   ],
   "source": [
    "### Choose whether you want the datasets with features selected with RF or PCA\n",
    "SELECTION = 'RF'\n",
    "\"\"\"\n",
    "INSERT 'RF' OR 'PCA'\n",
    "\"\"\"\n",
    "\n",
    "\n",
    "# Define sel_state variable for easier printing out    \n",
    "if SELECTION == 'RF':\n",
    "    sel_feat = 'Random Forest (RF)'\n",
    "elif SELECTION == 'PCA':\n",
    "    sel_feat = 'Principal Component Analysis (PCA)'\n",
    "else: raise ValueError('SELECTION must be either RF or PCA')\n",
    "briefing = ('You chose dataset VERSION '+str(VERSION)+' and SELECTION method '+str(SELECTION)+'.'+'\\n'+'Features therefore pre-selected with '+str(sel_feat)+'.')\n",
    "#print(sel_feat)\n",
    "print('You chose SELECTION method '+str(sel_feat)+'.')"
   ]
  },
  {
   "cell_type": "markdown",
   "metadata": {},
   "source": [
    "### (3) SUMMARY OF SETTINGS"
   ]
  },
  {
   "cell_type": "code",
   "execution_count": 4,
   "metadata": {},
   "outputs": [
    {
     "name": "stdout",
     "output_type": "stream",
     "text": [
      "You chose dataset VERSION 1.1 and SELECTION method RF.\n",
      "Features therefore pre-selected with Random Forest (RF). \n",
      "\n",
      "VERSION 1.1 is based on reduced Dataset with only Ratios as predictive Features. \n",
      "\n",
      "You are now done with the Settings. You can run the whole Code now by Default.\n"
     ]
    }
   ],
   "source": [
    "print(briefing, '\\n')\n",
    "print('VERSION '+str(VERSION)+' is '+str(sel_version),'\\n')\n",
    "print('You are now done with the Settings. You can run the whole Code now by Default.')"
   ]
  },
  {
   "cell_type": "markdown",
   "metadata": {},
   "source": [
    "## 3.1. Preparation"
   ]
  },
  {
   "cell_type": "markdown",
   "metadata": {},
   "source": [
    "### 3.1.1. Import the Response Vector and the Feature Matrix"
   ]
  },
  {
   "cell_type": "code",
   "execution_count": 5,
   "metadata": {},
   "outputs": [],
   "source": [
    "# import Data (already splitted to train/test-data and selected features-> bc_randomforest_feature_selection)\n",
    "if VERSION == 1.1:\n",
    "    if SELECTION == 'RF':\n",
    "        X_train_s = pd.read_csv('Data/generated_splits/features_selected_randomforest/X1_train_f.csv', sep=',')\n",
    "        X_test_s = pd.read_csv('Data/generated_splits/features_selected_randomforest/X1_test_f.csv', sep=',')\n",
    "        y_train_s = pd.read_csv('Data/generated_splits/features_selected_randomforest/y1_train_f.csv', sep=',')\n",
    "        y_test_s = pd.read_csv('Data/generated_splits/features_selected_randomforest/y1_test_f.csv', sep=',')\n",
    "    elif SELECTION == 'PCA':\n",
    "        X_train_s = pd.read_csv('Data/generated_splits/features_selected_pca/X1_train_p.csv', sep=',', header=0)\n",
    "        X_test_s = pd.read_csv('Data/generated_splits/features_selected_pca/X1_test_p.csv', sep=',', header=0)\n",
    "        y_train_s = pd.read_csv('Data/generated_splits/features_selected_pca/y1_train_p.csv', sep=',', header=0)\n",
    "        y_test_s = pd.read_csv('Data/generated_splits/features_selected_pca/y1_test_p.csv', sep=',', header=0)\n",
    "elif VERSION == 2.1:\n",
    "    if SELECTION == 'RF':\n",
    "        X_train_s = pd.read_csv('Data/generated_splits/features_selected_randomforest/X2_train_f.csv', sep=',', header=0)\n",
    "        X_test_s = pd.read_csv('Data/generated_splits/features_selected_randomforest/X2_test_f.csv', sep=',', header=0)\n",
    "        y_train_s = pd.read_csv('Data/generated_splits/features_selected_randomforest/y2_train_f.csv', sep=',', header=0)\n",
    "        y_test_s = pd.read_csv('Data/generated_splits/features_selected_randomforest/y2_test_f.csv', sep=',', header=0)\n",
    "    elif SELECTION == 'PCA':\n",
    "        X_train_s = pd.read_csv('Data/generated_splits/features_selected_pca/X2_train_p.csv', sep=',', header=0)\n",
    "        X_test_s = pd.read_csv('Data/generated_splits/features_selected_pca/X2_test_p.csv', sep=',', header=0)\n",
    "        y_train_s = pd.read_csv('Data/generated_splits/features_selected_pca/y2_train_p.csv', sep=',', header=0)\n",
    "        y_test_s = pd.read_csv('Data/generated_splits/features_selected_pca/y2_test_p.csv', sep=',', header=0)\n",
    "else: raise ValueError('_VERSION_ value must be either 1.1 or 2.1, _SELECTION_ must be either RF or PCA')   "
   ]
  },
  {
   "cell_type": "markdown",
   "metadata": {},
   "source": [
    "### 3.1.2. Print out Shape and Form of Feature Matrix and Response Vector"
   ]
  },
  {
   "cell_type": "markdown",
   "metadata": {},
   "source": [
    "\n",
    "### Train Set"
   ]
  },
  {
   "cell_type": "code",
   "execution_count": 6,
   "metadata": {},
   "outputs": [
    {
     "name": "stdout",
     "output_type": "stream",
     "text": [
      "Features Selected with Random Forest (RF)\n",
      "Version 1.1; based on reduced Dataset with only Ratios as predictive Features. \n",
      "\n",
      "Shape (rows, columns) of Feature Matrix X (Train) =(2836, 20) \n",
      "\n",
      "Feature Matrix X (Train) with Selected Features\n"
     ]
    },
    {
     "data": {
      "text/html": [
       "<div>\n",
       "<style scoped>\n",
       "    .dataframe tbody tr th:only-of-type {\n",
       "        vertical-align: middle;\n",
       "    }\n",
       "\n",
       "    .dataframe tbody tr th {\n",
       "        vertical-align: top;\n",
       "    }\n",
       "\n",
       "    .dataframe thead th {\n",
       "        text-align: right;\n",
       "    }\n",
       "</style>\n",
       "<table border=\"1\" class=\"dataframe\">\n",
       "  <thead>\n",
       "    <tr style=\"text-align: right;\">\n",
       "      <th></th>\n",
       "      <th>pe_op_dil</th>\n",
       "      <th>pe_op_basic</th>\n",
       "      <th>CAPEI</th>\n",
       "      <th>pe_exi</th>\n",
       "      <th>pcf</th>\n",
       "      <th>divyield</th>\n",
       "      <th>bm</th>\n",
       "      <th>PEG_ltgforward</th>\n",
       "      <th>ptb</th>\n",
       "      <th>pe_inc</th>\n",
       "      <th>PEG_1yrforward</th>\n",
       "      <th>evm</th>\n",
       "      <th>ps</th>\n",
       "      <th>fcf_ocf</th>\n",
       "      <th>invt_act</th>\n",
       "      <th>at_turn</th>\n",
       "      <th>pretret_noa</th>\n",
       "      <th>gpm</th>\n",
       "      <th>dpr</th>\n",
       "      <th>PEG_trailing</th>\n",
       "    </tr>\n",
       "  </thead>\n",
       "  <tbody>\n",
       "    <tr>\n",
       "      <th>0</th>\n",
       "      <td>15.633</td>\n",
       "      <td>15.468</td>\n",
       "      <td>20.773</td>\n",
       "      <td>18.484</td>\n",
       "      <td>9.957</td>\n",
       "      <td>0.0354</td>\n",
       "      <td>0.547</td>\n",
       "      <td>5.963</td>\n",
       "      <td>1.811</td>\n",
       "      <td>18.484</td>\n",
       "      <td>13.678</td>\n",
       "      <td>10.644</td>\n",
       "      <td>3.703</td>\n",
       "      <td>0.932</td>\n",
       "      <td>0.108</td>\n",
       "      <td>0.291</td>\n",
       "      <td>0.332</td>\n",
       "      <td>0.843</td>\n",
       "      <td>0.623</td>\n",
       "      <td>1.181</td>\n",
       "    </tr>\n",
       "    <tr>\n",
       "      <th>1</th>\n",
       "      <td>17.296</td>\n",
       "      <td>17.203</td>\n",
       "      <td>25.089</td>\n",
       "      <td>39.232</td>\n",
       "      <td>8.509</td>\n",
       "      <td>0.0398</td>\n",
       "      <td>0.461</td>\n",
       "      <td>5.702</td>\n",
       "      <td>2.189</td>\n",
       "      <td>39.232</td>\n",
       "      <td>1.521</td>\n",
       "      <td>9.246</td>\n",
       "      <td>0.689</td>\n",
       "      <td>0.441</td>\n",
       "      <td>0.368</td>\n",
       "      <td>0.815</td>\n",
       "      <td>0.146</td>\n",
       "      <td>0.201</td>\n",
       "      <td>2.175</td>\n",
       "      <td>0.668</td>\n",
       "    </tr>\n",
       "    <tr>\n",
       "      <th>2</th>\n",
       "      <td>9.209</td>\n",
       "      <td>9.135</td>\n",
       "      <td>12.337</td>\n",
       "      <td>13.062</td>\n",
       "      <td>1.993</td>\n",
       "      <td>0.0268</td>\n",
       "      <td>0.911</td>\n",
       "      <td>2.248</td>\n",
       "      <td>1.076</td>\n",
       "      <td>13.062</td>\n",
       "      <td>0.380</td>\n",
       "      <td>12.474</td>\n",
       "      <td>2.034</td>\n",
       "      <td>1.000</td>\n",
       "      <td>0.152</td>\n",
       "      <td>0.044</td>\n",
       "      <td>0.357</td>\n",
       "      <td>0.906</td>\n",
       "      <td>0.337</td>\n",
       "      <td>3.048</td>\n",
       "    </tr>\n",
       "  </tbody>\n",
       "</table>\n",
       "</div>"
      ],
      "text/plain": [
       "   pe_op_dil  pe_op_basic   CAPEI  pe_exi    pcf  divyield     bm  \\\n",
       "0     15.633       15.468  20.773  18.484  9.957    0.0354  0.547   \n",
       "1     17.296       17.203  25.089  39.232  8.509    0.0398  0.461   \n",
       "2      9.209        9.135  12.337  13.062  1.993    0.0268  0.911   \n",
       "\n",
       "   PEG_ltgforward    ptb  pe_inc  PEG_1yrforward     evm     ps  fcf_ocf  \\\n",
       "0           5.963  1.811  18.484          13.678  10.644  3.703    0.932   \n",
       "1           5.702  2.189  39.232           1.521   9.246  0.689    0.441   \n",
       "2           2.248  1.076  13.062           0.380  12.474  2.034    1.000   \n",
       "\n",
       "   invt_act  at_turn  pretret_noa    gpm    dpr  PEG_trailing  \n",
       "0     0.108    0.291        0.332  0.843  0.623         1.181  \n",
       "1     0.368    0.815        0.146  0.201  2.175         0.668  \n",
       "2     0.152    0.044        0.357  0.906  0.337         3.048  "
      ]
     },
     "metadata": {},
     "output_type": "display_data"
    },
    {
     "name": "stdout",
     "output_type": "stream",
     "text": [
      "\n",
      "Response Vector y (Train) after Feature Selection\n"
     ]
    },
    {
     "data": {
      "text/html": [
       "<div>\n",
       "<style scoped>\n",
       "    .dataframe tbody tr th:only-of-type {\n",
       "        vertical-align: middle;\n",
       "    }\n",
       "\n",
       "    .dataframe tbody tr th {\n",
       "        vertical-align: top;\n",
       "    }\n",
       "\n",
       "    .dataframe thead th {\n",
       "        text-align: right;\n",
       "    }\n",
       "</style>\n",
       "<table border=\"1\" class=\"dataframe\">\n",
       "  <thead>\n",
       "    <tr style=\"text-align: right;\">\n",
       "      <th></th>\n",
       "      <th>0</th>\n",
       "    </tr>\n",
       "  </thead>\n",
       "  <tbody>\n",
       "    <tr>\n",
       "      <th>0</th>\n",
       "      <td>0</td>\n",
       "    </tr>\n",
       "    <tr>\n",
       "      <th>1</th>\n",
       "      <td>1</td>\n",
       "    </tr>\n",
       "    <tr>\n",
       "      <th>2</th>\n",
       "      <td>0</td>\n",
       "    </tr>\n",
       "  </tbody>\n",
       "</table>\n",
       "</div>"
      ],
      "text/plain": [
       "   0\n",
       "0  0\n",
       "1  1\n",
       "2  0"
      ]
     },
     "metadata": {},
     "output_type": "display_data"
    },
    {
     "name": "stdout",
     "output_type": "stream",
     "text": [
      "\n"
     ]
    }
   ],
   "source": [
    "# print status\n",
    "print('Features Selected with ' + str(sel_feat))\n",
    "print('Version ' + str(VERSION) + '; ' + str(sel_version),'\\n')\n",
    "\n",
    "# print properties and head of datasets\n",
    "print('Shape (rows, columns) of Feature Matrix X (Train) ' + '=' + str(X_train_s.shape),'\\n')\n",
    "print('Feature Matrix X (Train) with Selected Features')\n",
    "display(X_train_s[0:3])\n",
    "print(\"\")\n",
    "print('Response Vector y (Train) after Feature Selection')\n",
    "display(y_train_s[0:3])\n",
    "print(\"\")"
   ]
  },
  {
   "cell_type": "markdown",
   "metadata": {},
   "source": [
    "### Test Set"
   ]
  },
  {
   "cell_type": "code",
   "execution_count": 7,
   "metadata": {},
   "outputs": [
    {
     "name": "stdout",
     "output_type": "stream",
     "text": [
      "Features Selected with Random Forest (RF)\n",
      "Version 1.1; based on reduced Dataset with only Ratios as predictive Features. \n",
      "\n",
      "Shape (rows, columns) of Feature Matrix X (Test) =(710, 20) \n",
      "\n",
      "Feature Matrix X (Train) with Selected Features\n"
     ]
    },
    {
     "data": {
      "text/html": [
       "<div>\n",
       "<style scoped>\n",
       "    .dataframe tbody tr th:only-of-type {\n",
       "        vertical-align: middle;\n",
       "    }\n",
       "\n",
       "    .dataframe tbody tr th {\n",
       "        vertical-align: top;\n",
       "    }\n",
       "\n",
       "    .dataframe thead th {\n",
       "        text-align: right;\n",
       "    }\n",
       "</style>\n",
       "<table border=\"1\" class=\"dataframe\">\n",
       "  <thead>\n",
       "    <tr style=\"text-align: right;\">\n",
       "      <th></th>\n",
       "      <th>pe_op_dil</th>\n",
       "      <th>pe_op_basic</th>\n",
       "      <th>CAPEI</th>\n",
       "      <th>pe_exi</th>\n",
       "      <th>pcf</th>\n",
       "      <th>divyield</th>\n",
       "      <th>bm</th>\n",
       "      <th>PEG_ltgforward</th>\n",
       "      <th>ptb</th>\n",
       "      <th>pe_inc</th>\n",
       "      <th>PEG_1yrforward</th>\n",
       "      <th>evm</th>\n",
       "      <th>ps</th>\n",
       "      <th>fcf_ocf</th>\n",
       "      <th>invt_act</th>\n",
       "      <th>at_turn</th>\n",
       "      <th>pretret_noa</th>\n",
       "      <th>gpm</th>\n",
       "      <th>dpr</th>\n",
       "      <th>PEG_trailing</th>\n",
       "    </tr>\n",
       "  </thead>\n",
       "  <tbody>\n",
       "    <tr>\n",
       "      <th>0</th>\n",
       "      <td>16.224</td>\n",
       "      <td>16.127</td>\n",
       "      <td>20.983</td>\n",
       "      <td>16.224</td>\n",
       "      <td>10.484</td>\n",
       "      <td>0.0187</td>\n",
       "      <td>0.254</td>\n",
       "      <td>1.330</td>\n",
       "      <td>4.189</td>\n",
       "      <td>16.224</td>\n",
       "      <td>1.414</td>\n",
       "      <td>8.585</td>\n",
       "      <td>3.318</td>\n",
       "      <td>0.863</td>\n",
       "      <td>0.025</td>\n",
       "      <td>0.828</td>\n",
       "      <td>1.148</td>\n",
       "      <td>0.428</td>\n",
       "      <td>0.287</td>\n",
       "      <td>1.022</td>\n",
       "    </tr>\n",
       "    <tr>\n",
       "      <th>1</th>\n",
       "      <td>16.489</td>\n",
       "      <td>16.311</td>\n",
       "      <td>21.663</td>\n",
       "      <td>18.555</td>\n",
       "      <td>7.709</td>\n",
       "      <td>0.0122</td>\n",
       "      <td>0.235</td>\n",
       "      <td>1.572</td>\n",
       "      <td>4.281</td>\n",
       "      <td>18.555</td>\n",
       "      <td>1.737</td>\n",
       "      <td>13.619</td>\n",
       "      <td>2.379</td>\n",
       "      <td>0.902</td>\n",
       "      <td>0.157</td>\n",
       "      <td>0.223</td>\n",
       "      <td>0.358</td>\n",
       "      <td>0.279</td>\n",
       "      <td>0.199</td>\n",
       "      <td>1.147</td>\n",
       "    </tr>\n",
       "    <tr>\n",
       "      <th>2</th>\n",
       "      <td>9.520</td>\n",
       "      <td>9.520</td>\n",
       "      <td>16.327</td>\n",
       "      <td>15.681</td>\n",
       "      <td>8.490</td>\n",
       "      <td>0.0343</td>\n",
       "      <td>0.513</td>\n",
       "      <td>6.149</td>\n",
       "      <td>2.198</td>\n",
       "      <td>15.550</td>\n",
       "      <td>-0.973</td>\n",
       "      <td>6.716</td>\n",
       "      <td>3.293</td>\n",
       "      <td>0.934</td>\n",
       "      <td>0.078</td>\n",
       "      <td>0.355</td>\n",
       "      <td>0.396</td>\n",
       "      <td>0.903</td>\n",
       "      <td>0.792</td>\n",
       "      <td>1.022</td>\n",
       "    </tr>\n",
       "  </tbody>\n",
       "</table>\n",
       "</div>"
      ],
      "text/plain": [
       "   pe_op_dil  pe_op_basic   CAPEI  pe_exi     pcf  divyield     bm  \\\n",
       "0     16.224       16.127  20.983  16.224  10.484    0.0187  0.254   \n",
       "1     16.489       16.311  21.663  18.555   7.709    0.0122  0.235   \n",
       "2      9.520        9.520  16.327  15.681   8.490    0.0343  0.513   \n",
       "\n",
       "   PEG_ltgforward    ptb  pe_inc  PEG_1yrforward     evm     ps  fcf_ocf  \\\n",
       "0           1.330  4.189  16.224           1.414   8.585  3.318    0.863   \n",
       "1           1.572  4.281  18.555           1.737  13.619  2.379    0.902   \n",
       "2           6.149  2.198  15.550          -0.973   6.716  3.293    0.934   \n",
       "\n",
       "   invt_act  at_turn  pretret_noa    gpm    dpr  PEG_trailing  \n",
       "0     0.025    0.828        1.148  0.428  0.287         1.022  \n",
       "1     0.157    0.223        0.358  0.279  0.199         1.147  \n",
       "2     0.078    0.355        0.396  0.903  0.792         1.022  "
      ]
     },
     "metadata": {},
     "output_type": "display_data"
    },
    {
     "name": "stdout",
     "output_type": "stream",
     "text": [
      "\n",
      "Response Vector y (Test) after Feature Selection\n"
     ]
    },
    {
     "data": {
      "text/html": [
       "<div>\n",
       "<style scoped>\n",
       "    .dataframe tbody tr th:only-of-type {\n",
       "        vertical-align: middle;\n",
       "    }\n",
       "\n",
       "    .dataframe tbody tr th {\n",
       "        vertical-align: top;\n",
       "    }\n",
       "\n",
       "    .dataframe thead th {\n",
       "        text-align: right;\n",
       "    }\n",
       "</style>\n",
       "<table border=\"1\" class=\"dataframe\">\n",
       "  <thead>\n",
       "    <tr style=\"text-align: right;\">\n",
       "      <th></th>\n",
       "      <th>0</th>\n",
       "    </tr>\n",
       "  </thead>\n",
       "  <tbody>\n",
       "    <tr>\n",
       "      <th>0</th>\n",
       "      <td>1</td>\n",
       "    </tr>\n",
       "    <tr>\n",
       "      <th>1</th>\n",
       "      <td>0</td>\n",
       "    </tr>\n",
       "    <tr>\n",
       "      <th>2</th>\n",
       "      <td>1</td>\n",
       "    </tr>\n",
       "  </tbody>\n",
       "</table>\n",
       "</div>"
      ],
      "text/plain": [
       "   0\n",
       "0  1\n",
       "1  0\n",
       "2  1"
      ]
     },
     "metadata": {},
     "output_type": "display_data"
    },
    {
     "name": "stdout",
     "output_type": "stream",
     "text": [
      "\n"
     ]
    }
   ],
   "source": [
    "# print status\n",
    "print('Features Selected with ' + str(sel_feat))\n",
    "print('Version ' + str(VERSION) + '; ' + str(sel_version),'\\n')\n",
    "\n",
    "# print properties and head of datasets\n",
    "print('Shape (rows, columns) of Feature Matrix X (Test) ' + '=' + str(X_test_s.shape),'\\n')\n",
    "print('Feature Matrix X (Train) with Selected Features')\n",
    "display(X_test_s[0:3])\n",
    "print(\"\")\n",
    "print('Response Vector y (Test) after Feature Selection')\n",
    "display(y_test_s[0:3])\n",
    "print(\"\")"
   ]
  },
  {
   "cell_type": "markdown",
   "metadata": {},
   "source": [
    "## 3.2. Simple Logistic Regression (statsmodels) (SLM)"
   ]
  },
  {
   "cell_type": "markdown",
   "metadata": {},
   "source": [
    "### 3.2.1. Preparation and fitting (on Training Set) , define BEST FEATURE (SLM)"
   ]
  },
  {
   "cell_type": "code",
   "execution_count": 8,
   "metadata": {},
   "outputs": [
    {
     "data": {
      "text/plain": [
       "'pe_op_dil'"
      ]
     },
     "execution_count": 8,
     "metadata": {},
     "output_type": "execute_result"
    }
   ],
   "source": [
    "# best feature selection taking the column name\n",
    "colNms = X_train_s.columns.values\n",
    "colNms[0]"
   ]
  },
  {
   "cell_type": "code",
   "execution_count": 9,
   "metadata": {},
   "outputs": [
    {
     "name": "stdout",
     "output_type": "stream",
     "text": [
      "Features Selected with Random Forest (RF)\n",
      "Version 1.1; based on reduced Dataset with only Ratios as predictive Features. \n",
      "\n",
      "Optimization terminated successfully.\n",
      "         Current function value: 0.676443\n",
      "         Iterations 6\n"
     ]
    }
   ],
   "source": [
    "# print status\n",
    "print('Features Selected with ' + str(sel_feat))\n",
    "print('Version ' + str(VERSION) + '; ' + str(sel_version),'\\n')\n",
    "\n",
    "# Run Simple Logistic Regression\n",
    "# Logistic Regression (with the most important feature from feature selection)\n",
    "# Assign \"best_feature\" to matrix X and response to y, acording to chosen Version of datasets and feature Selection method\n",
    "pca_error = ('ERROR: PCA best feature not defined (PCA is unlabeled)! Thus no Simple Regression available.'+'\\n'+'Proceed to Multiple Regression in chapter 3.3.')\n",
    "if VERSION == 1.1:\n",
    "    if SELECTION == 'RF':\n",
    "        best_feature = colNms[0]\n",
    "        logReg = sm.Logit(endog = y_train_s, exog= sm.add_constant(X_train_s[best_feature])).fit()\n",
    "    elif SELECTION == 'PCA':\n",
    "        best_feature = None\n",
    "        print(pca_error)\n",
    "elif VERSION == 2.1:\n",
    "    if SELECTION == 'RF':\n",
    "        best_feature = colNms[0]\n",
    "        logReg = sm.Logit(endog = y_train_s, exog= sm.add_constant(X_train_s[best_feature])).fit()\n",
    "    elif SELECTION == 'PCA':\n",
    "        best_feature = None\n",
    "        print(pca_error)\n",
    "else: raise ValueError('VERSION value must be either 1 or 2, SELECTION must be either RF or PCA')"
   ]
  },
  {
   "cell_type": "markdown",
   "metadata": {},
   "source": [
    "### 3.2.2. Summary (SLM)"
   ]
  },
  {
   "cell_type": "code",
   "execution_count": 10,
   "metadata": {},
   "outputs": [],
   "source": [
    "# Workaround solution for error (\"AttributeError: module 'scipy.stats' has no attribute 'chisqprob'\")\n",
    "from scipy import stats\n",
    "stats.chisqprob = lambda chisq, df: stats.chi2.sf(chisq, df)"
   ]
  },
  {
   "cell_type": "code",
   "execution_count": 11,
   "metadata": {},
   "outputs": [
    {
     "name": "stdout",
     "output_type": "stream",
     "text": [
      "                           Logit Regression Results                           \n",
      "==============================================================================\n",
      "Dep. Variable:                      0   No. Observations:                 2836\n",
      "Model:                          Logit   Df Residuals:                     2834\n",
      "Method:                           MLE   Df Model:                            1\n",
      "Date:                Sun, 15 Apr 2018   Pseudo R-squ.:                0.005303\n",
      "Time:                        21:33:34   Log-Likelihood:                -1918.4\n",
      "converged:                       True   LL-Null:                       -1928.6\n",
      "                                        LLR p-value:                 6.106e-06\n",
      "==============================================================================\n",
      "                 coef    std err          z      P>|z|      [0.025      0.975]\n",
      "------------------------------------------------------------------------------\n",
      "const          0.0120      0.088      0.136      0.892      -0.161       0.185\n",
      "pe_op_dil      0.0206      0.005      3.889      0.000       0.010       0.031\n",
      "============================================================================== \n",
      "\n",
      "logReg pvalues: \n",
      "\n",
      "const        0.891694\n",
      "pe_op_dil    0.000101\n",
      "dtype: float64\n"
     ]
    }
   ],
   "source": [
    "# LogReg with only one feature as exogen variable\n",
    "if SELECTION == 'RF':\n",
    "    print(logReg.summary(),'\\n')\n",
    "    print('logReg pvalues: '+'\\n')\n",
    "    print(logReg.pvalues)\n",
    "elif SELECTION == 'PCA':\n",
    "    print(pca_error)\n",
    "else: raise ValueError('VERSION value must be either 1 or 2, SELECTION must be either RF or PCA')"
   ]
  },
  {
   "cell_type": "markdown",
   "metadata": {},
   "source": [
    "### 3.2.3. Assessing Output (SLM)\n",
    "\n",
    "### Hypothesis testing / Confidence Interval"
   ]
  },
  {
   "cell_type": "code",
   "execution_count": 12,
   "metadata": {},
   "outputs": [
    {
     "name": "stdout",
     "output_type": "stream",
     "text": [
      "99% Confidence Interval (Significance Level 1%)\n"
     ]
    },
    {
     "data": {
      "text/html": [
       "<div>\n",
       "<style scoped>\n",
       "    .dataframe tbody tr th:only-of-type {\n",
       "        vertical-align: middle;\n",
       "    }\n",
       "\n",
       "    .dataframe tbody tr th {\n",
       "        vertical-align: top;\n",
       "    }\n",
       "\n",
       "    .dataframe thead th {\n",
       "        text-align: right;\n",
       "    }\n",
       "</style>\n",
       "<table border=\"1\" class=\"dataframe\">\n",
       "  <thead>\n",
       "    <tr style=\"text-align: right;\">\n",
       "      <th></th>\n",
       "      <th>0</th>\n",
       "      <th>1</th>\n",
       "    </tr>\n",
       "  </thead>\n",
       "  <tbody>\n",
       "    <tr>\n",
       "      <th>const</th>\n",
       "      <td>-0.215386</td>\n",
       "      <td>0.239428</td>\n",
       "    </tr>\n",
       "    <tr>\n",
       "      <th>pe_op_dil</th>\n",
       "      <td>0.006959</td>\n",
       "      <td>0.034256</td>\n",
       "    </tr>\n",
       "  </tbody>\n",
       "</table>\n",
       "</div>"
      ],
      "text/plain": [
       "                  0         1\n",
       "const     -0.215386  0.239428\n",
       "pe_op_dil  0.006959  0.034256"
      ]
     },
     "metadata": {},
     "output_type": "display_data"
    }
   ],
   "source": [
    "significance_level = 0.01\n",
    "\n",
    "if SELECTION == 'RF':\n",
    "    print(str(int(100 - significance_level*100)) + '% Confidence Interval (Significance Level ' \n",
    "          + str(int(significance_level*100)) + '%)')\n",
    "    display(logReg.conf_int(alpha=significance_level))\n",
    "elif SELECTION == 'PCA':\n",
    "    print(pca_error)\n",
    "else: raise ValueError('VERSION value must be either 1 or 2, SELECTION must be either RF or PCA')"
   ]
  },
  {
   "cell_type": "markdown",
   "metadata": {},
   "source": [
    "### 3.2.2. Prediction (SML)\n",
    "\n",
    "### I: In-sample Prediction of probability for returns going UP in the next period (predict y_train)\n"
   ]
  },
  {
   "cell_type": "markdown",
   "metadata": {},
   "source": [
    "#### Prediction of whole Response Vector (Train) based on all available values of the single chosen feature (Train)"
   ]
  },
  {
   "cell_type": "code",
   "execution_count": 14,
   "metadata": {},
   "outputs": [
    {
     "name": "stdout",
     "output_type": "stream",
     "text": [
      "Features Selected with Random Forest (RF)\n",
      "Version 1.1; based on reduced Dataset with only Ratios as predictive Features. \n",
      "\n",
      "Predicted probability of price going UP for whole Feature Train Set is: \n"
     ]
    },
    {
     "data": {
      "text/plain": [
       "0    0.582776\n",
       "1    0.591085\n",
       "2    0.550279\n",
       "dtype: float64"
      ]
     },
     "metadata": {},
     "output_type": "display_data"
    },
    {
     "name": "stdout",
     "output_type": "stream",
     "text": [
      "Actual Response Vector y_train is:\n"
     ]
    },
    {
     "data": {
      "text/html": [
       "<div>\n",
       "<style scoped>\n",
       "    .dataframe tbody tr th:only-of-type {\n",
       "        vertical-align: middle;\n",
       "    }\n",
       "\n",
       "    .dataframe tbody tr th {\n",
       "        vertical-align: top;\n",
       "    }\n",
       "\n",
       "    .dataframe thead th {\n",
       "        text-align: right;\n",
       "    }\n",
       "</style>\n",
       "<table border=\"1\" class=\"dataframe\">\n",
       "  <thead>\n",
       "    <tr style=\"text-align: right;\">\n",
       "      <th></th>\n",
       "      <th>0</th>\n",
       "    </tr>\n",
       "  </thead>\n",
       "  <tbody>\n",
       "    <tr>\n",
       "      <th>0</th>\n",
       "      <td>0</td>\n",
       "    </tr>\n",
       "    <tr>\n",
       "      <th>1</th>\n",
       "      <td>1</td>\n",
       "    </tr>\n",
       "    <tr>\n",
       "      <th>2</th>\n",
       "      <td>0</td>\n",
       "    </tr>\n",
       "  </tbody>\n",
       "</table>\n",
       "</div>"
      ],
      "text/plain": [
       "   0\n",
       "0  0\n",
       "1  1\n",
       "2  0"
      ]
     },
     "metadata": {},
     "output_type": "display_data"
    }
   ],
   "source": [
    "# print status\n",
    "print('Features Selected with ' + str(sel_feat))\n",
    "print('Version ' + str(VERSION) + '; ' + str(sel_version),'\\n')\n",
    "\n",
    "# X must include 1 in first column for intercept\n",
    "# we wish to get the probability of 'UP' (=1) for the whole test set\n",
    "if SELECTION == 'RF':\n",
    "    pred_train_all = logReg.predict(sm.add_constant(X_train_s[best_feature]))\n",
    "    print('Predicted probability of price going UP for whole Feature Train Set is: ')\n",
    "    display(pred_train_all.head(3))\n",
    "    print('Actual Response Vector y_train is:')\n",
    "    display(y_train_s.head(3))\n",
    "elif SELECTION == 'PCA':\n",
    "    print(pca_error)\n",
    "else: raise ValueError('VERSION value must be either 1 or 2, SELECTION must be either RF or PCA')"
   ]
  },
  {
   "cell_type": "markdown",
   "metadata": {},
   "source": [
    "### ii: New-sample Prediction of probability for returns going UP in the next period (predict y_test)\n",
    "\n",
    "#### ONE prediction For ONE specific chosen value of predictive variable\n"
   ]
  },
  {
   "cell_type": "code",
   "execution_count": 15,
   "metadata": {},
   "outputs": [
    {
     "name": "stdout",
     "output_type": "stream",
     "text": [
      "Features Selected with Random Forest (RF)\n",
      "Version 1.1; based on reduced Dataset with only Ratios as predictive Features. \n",
      "\n",
      "Chosen best feature = pe_op_dil\n",
      "Chosen value of best feature = 19.801333333333336 \n",
      "\n",
      "Predicted probability of price going UP with chosen pe_op_dil value is: 60.3503%\n",
      "\n",
      "Actual Ratio of \"UP\" (Train)  =  58.0748%\n"
     ]
    }
   ],
   "source": [
    "# print status\n",
    "print('Features Selected with ' + str(sel_feat))\n",
    "print('Version ' + str(VERSION) + '; ' + str(sel_version),'\\n')\n",
    "print('Chosen best feature = ' + str(best_feature))\n",
    "\n",
    "#### Choose value fo chosen best feature manually\n",
    "# Here: chosen median of feature values + /3 of median of feature values\n",
    "bfv = np.median(X_train_s[best_feature])+ np.median(X_train_s[best_feature])/3\n",
    "#bfv = np.mean(X_train_s[best_feature])\n",
    "#bfv = np.median(X_train_s[best_feature])\n",
    "\n",
    "# Loop for Version differenciation\n",
    "# X must include 1 in first column for intercept\n",
    "# we wish to get the probability of 'UP' (=1) for a best_feature_value of USD 15\n",
    "if VERSION == 1.1:\n",
    "    if SELECTION == 'RF':\n",
    "        best_feature_value = bfv\n",
    "        print('Chosen value of best feature = ' + str(best_feature_value),'\\n')\n",
    "        pred_test_one = logReg.predict([1, best_feature_value])\n",
    "        ratio_response_train = y_train_s.sum() / y_train_s.size\n",
    "        print('Predicted probability of price going UP with chosen ' + str(best_feature) + ' value is: '\n",
    "              + str(\"%.4f\" % round(float(pred_test_one*100),4)) + '%'+'\\n')\n",
    "        print('Actual Ratio of \"UP\" (Train)  =  ' + str(\"%.4f\" % round(float(ratio_response_train*100),4)) + '%')\n",
    "    elif SELECTION == 'PCA':\n",
    "        print(pca_error)  \n",
    "elif VERSION == 2.1:\n",
    "        if SELECTION == 'RF':\n",
    "            best_feature_value = bfv\n",
    "            print('Chosen value of best feature = ' + str(best_feature_value),'\\n')\n",
    "            pred_test_one = logReg.predict([1, best_feature_value])\n",
    "            ratio_response_train = y_train_s.sum() / y_train_s.size\n",
    "            print('Predicted probability of price going UP with chosen ' + str(best_feature) + ' value is: '\n",
    "                  + str(\"%.4f\" % round(float(pred_test_one*100),4)) + '%')\n",
    "            print('Ratio of \"UP\" (Train)  =  ' + str(\"%.4f\" % round(float(ratio_response_train*100),4)) + '%')\n",
    "        elif SELECTION == 'PCA':\n",
    "            print(pca_error)\n",
    "else: raise ValueError('VERSION value must be either 1 or 2, SELECTION must be either RF or PCA.')"
   ]
  },
  {
   "cell_type": "markdown",
   "metadata": {},
   "source": [
    "#### Prediction of whole Response Vector (Test) based on all available values of the single chosen feature (Test)"
   ]
  },
  {
   "cell_type": "code",
   "execution_count": 16,
   "metadata": {},
   "outputs": [
    {
     "name": "stdout",
     "output_type": "stream",
     "text": [
      "Features Selected with Random Forest (RF)\n",
      "Version 1.1; based on reduced Dataset with only Ratios as predictive Features. \n",
      "\n",
      "Predicted probability of price going UP for whole Feature Test Set is: \n",
      "\n"
     ]
    },
    {
     "data": {
      "text/plain": [
       "0    0.585735\n",
       "1    0.587059\n",
       "2    0.551864\n",
       "dtype: float64"
      ]
     },
     "metadata": {},
     "output_type": "display_data"
    },
    {
     "name": "stdout",
     "output_type": "stream",
     "text": [
      "Actual Response Vector y_train is:\n"
     ]
    },
    {
     "data": {
      "text/html": [
       "<div>\n",
       "<style scoped>\n",
       "    .dataframe tbody tr th:only-of-type {\n",
       "        vertical-align: middle;\n",
       "    }\n",
       "\n",
       "    .dataframe tbody tr th {\n",
       "        vertical-align: top;\n",
       "    }\n",
       "\n",
       "    .dataframe thead th {\n",
       "        text-align: right;\n",
       "    }\n",
       "</style>\n",
       "<table border=\"1\" class=\"dataframe\">\n",
       "  <thead>\n",
       "    <tr style=\"text-align: right;\">\n",
       "      <th></th>\n",
       "      <th>0</th>\n",
       "    </tr>\n",
       "  </thead>\n",
       "  <tbody>\n",
       "    <tr>\n",
       "      <th>0</th>\n",
       "      <td>1</td>\n",
       "    </tr>\n",
       "    <tr>\n",
       "      <th>1</th>\n",
       "      <td>0</td>\n",
       "    </tr>\n",
       "    <tr>\n",
       "      <th>2</th>\n",
       "      <td>1</td>\n",
       "    </tr>\n",
       "  </tbody>\n",
       "</table>\n",
       "</div>"
      ],
      "text/plain": [
       "   0\n",
       "0  1\n",
       "1  0\n",
       "2  1"
      ]
     },
     "metadata": {},
     "output_type": "display_data"
    }
   ],
   "source": [
    "# print status\n",
    "print('Features Selected with ' + str(sel_feat))\n",
    "print('Version ' + str(VERSION) + '; ' + str(sel_version),'\\n')\n",
    "\n",
    "# we wish to get the probability of 'UP' (=1) for the whole test set\n",
    "if SELECTION == 'RF':\n",
    "    pred_test_all = logReg.predict(sm.add_constant(X_test_s[best_feature]))\n",
    "    print('Predicted probability of price going UP for whole Feature Test Set is: '+'\\n')\n",
    "    display(pred_test_all.head(3))\n",
    "    print('Actual Response Vector y_train is:')\n",
    "    display(y_test_s.head(3))\n",
    "elif SELECTION == 'PCA':\n",
    "    print(pca_error)\n",
    "else: raise ValueError('VERSION value must be either 1 or 2, SELECTION must be either RF or PCA')    "
   ]
  },
  {
   "cell_type": "markdown",
   "metadata": {},
   "source": [
    "### 3.2.3. Plot Results for Training Set (SLM)"
   ]
  },
  {
   "cell_type": "code",
   "execution_count": 23,
   "metadata": {},
   "outputs": [
    {
     "name": "stdout",
     "output_type": "stream",
     "text": [
      "Features Selected with Random Forest (RF)\n",
      "Version 1.1; based on reduced Dataset with only Ratios as predictive Features. \n",
      "\n",
      "Chosen best feature = pe_op_dil\n"
     ]
    },
    {
     "data": {
      "text/plain": [
       "array([0.58277628, 0.59108472, 0.55027876, ..., 0.5900433 , 0.59439287,\n",
       "       0.56814193])"
      ]
     },
     "metadata": {},
     "output_type": "display_data"
    },
    {
     "data": {
      "image/png": "[encoded data removed]",
      "text/plain": [
       "<matplotlib.figure.Figure at 0x212ac6d8240>"
      ]
     },
     "metadata": {},
     "output_type": "display_data"
    }
   ],
   "source": [
    "# print status\n",
    "print('Features Selected with ' + str(sel_feat))\n",
    "print('Version ' + str(VERSION) + '; ' + str(sel_version),'\\n')\n",
    "print('Chosen best feature = ' + str(best_feature))\n",
    "\n",
    "display(logReg.predict())\n",
    "# Plot scatter and log.Reg\n",
    "if SELECTION == 'RF':\n",
    "    \n",
    "    # Transfer best_feature column an prediction for response vector in a newly made dataframe \"res\"\n",
    "    res = pd.DataFrame()\n",
    "    res['best_feature'] = X_train_s[best_feature]\n",
    "    res['probability'] = logReg.predict()\n",
    "    # Sort results by values of the best_feature column\n",
    "    res = res.sort_values('best_feature')\n",
    "\n",
    "    # Plot\n",
    "    plt.figure(figsize =(8,5))\n",
    "    plt.title(str(best_feature) + ' vs. probability of returns going UP in the next period');\n",
    "    plt.scatter(X_train_s[best_feature], y_train_s, marker ='.')\n",
    "    plt.plot(res.best_feature, res.probability, c = 'k')\n",
    "    plt.axhline(y=0, color = \"gray\", linestyle = \"dashed\")\n",
    "    plt.axhline(y=1, color = \"gray\", linestyle = \"dashed\")\n",
    "    plt.ylabel(\"Probability of UP (=1)\", fontsize =12)\n",
    "    plt.xlabel(str(best_feature), fontsize =12)\n",
    "    \n",
    "elif SELECTION == 'PCA':\n",
    "    print(pca_error)\n",
    "    \n",
    "else: raise ValueError('VERSION value must be either 1 or 2, SELECTION must be either RF or PCA')  "
   ]
  },
  {
   "cell_type": "markdown",
   "metadata": {},
   "source": [
    "## 3.3. Multiple Logistic Regression with n pre-selected features (MLR1)"
   ]
  },
  {
   "cell_type": "markdown",
   "metadata": {},
   "source": [
    "### 3.3.1. Preparation and fitting (on Training Set) (MLR1)"
   ]
  },
  {
   "cell_type": "code",
   "execution_count": 24,
   "metadata": {},
   "outputs": [
    {
     "name": "stdout",
     "output_type": "stream",
     "text": [
      "Optimization terminated successfully.\n",
      "         Current function value: 0.652419\n",
      "         Iterations 8\n"
     ]
    }
   ],
   "source": [
    "## Multiple Log. Regression (with all n best features chosen in Chapter 2 in the feature selection process)\n",
    "logReg_m = sm.Logit(endog = y_train_s, exog = sm.add_constant(X_train_s)).fit() "
   ]
  },
  {
   "cell_type": "markdown",
   "metadata": {},
   "source": [
    "### 3.3.2. Summary (MLR1)"
   ]
  },
  {
   "cell_type": "code",
   "execution_count": 25,
   "metadata": {},
   "outputs": [
    {
     "name": "stdout",
     "output_type": "stream",
     "text": [
      "Features Selected with Random Forest (RF)\n",
      "Version 1.1; based on reduced Dataset with only Ratios as predictive Features. \n",
      "\n",
      "Multiple Logistic Regression with all selected features\n",
      "\n",
      "                           Logit Regression Results                           \n",
      "==============================================================================\n",
      "Dep. Variable:                      0   No. Observations:                 2836\n",
      "Model:                          Logit   Df Residuals:                     2815\n",
      "Method:                           MLE   Df Model:                           20\n",
      "Date:                Sun, 15 Apr 2018   Pseudo R-squ.:                 0.04063\n",
      "Time:                        21:42:28   Log-Likelihood:                -1850.3\n",
      "converged:                       True   LL-Null:                       -1928.6\n",
      "                                        LLR p-value:                 3.218e-23\n",
      "==============================================================================\n",
      "==================================================================================\n",
      "                     coef    std err          z      P>|z|      [0.025      0.975]\n",
      "----------------------------------------------------------------------------------\n",
      "const             -0.7099      0.379     -1.874      0.061      -1.452       0.033\n",
      "pe_op_dil          0.1491      0.121      1.231      0.218      -0.088       0.387\n",
      "pe_op_basic       -0.1322      0.120     -1.105      0.269      -0.367       0.102\n",
      "CAPEI              0.0066      0.003      2.193      0.028       0.001       0.012\n",
      "pe_exi             0.0058      0.005      1.274      0.203      -0.003       0.015\n",
      "pcf                0.0025      0.004      0.580      0.562      -0.006       0.011\n",
      "divyield         -18.1198      4.615     -3.926      0.000     -27.166      -9.074\n",
      "bm                 2.0884      0.284      7.356      0.000       1.532       2.645\n",
      "PEG_ltgforward     0.0140      0.013      1.048      0.294      -0.012       0.040\n",
      "ptb                0.1370      0.025      5.475      0.000       0.088       0.186\n",
      "pe_inc            -0.0088      0.004     -2.181      0.029      -0.017      -0.001\n",
      "PEG_1yrforward     0.0120      0.007      1.835      0.066      -0.001       0.025\n",
      "evm               -0.0524      0.010     -5.290      0.000      -0.072      -0.033\n",
      "ps                 0.2602      0.054      4.845      0.000       0.155       0.365\n",
      "fcf_ocf           -0.3145      0.225     -1.397      0.163      -0.756       0.127\n",
      "invt_act           0.2513      0.316      0.796      0.426      -0.367       0.870\n",
      "at_turn            0.0008      0.126      0.007      0.995      -0.247       0.249\n",
      "pretret_noa       -0.0303      0.047     -0.649      0.516      -0.122       0.061\n",
      "gpm               -0.2332      0.284     -0.821      0.412      -0.790       0.323\n",
      "dpr                0.0942      0.131      0.720      0.471      -0.162       0.351\n",
      "PEG_trailing       0.0061      0.007      0.821      0.412      -0.008       0.021\n",
      "==================================================================================\n"
     ]
    }
   ],
   "source": [
    "# print status\n",
    "print('Features Selected with ' + str(sel_feat))\n",
    "print('Version ' + str(VERSION) + '; ' + str(sel_version),'\\n')\n",
    "print(\"Multiple Logistic Regression with all selected features\"+'\\n')\n",
    "\n",
    "# Workaround solution for error (\"AttributeError: module 'scipy.stats' has no attribute 'chisqprob'\")\n",
    "from scipy import stats\n",
    "stats.chisqprob = lambda chisq, df: stats.chi2.sf(chisq, df)\n",
    "\n",
    "# Run Multiple Logistic Regression\n",
    "print(logReg_m.summary().tables[0])\n",
    "print(logReg_m.summary().tables[1])"
   ]
  },
  {
   "cell_type": "markdown",
   "metadata": {},
   "source": [
    "### 3.3.3. Assessing Output (MLR1)\n",
    "\n",
    "### Hypothesis testing / Confidence Interval"
   ]
  },
  {
   "cell_type": "code",
   "execution_count": 26,
   "metadata": {},
   "outputs": [
    {
     "name": "stdout",
     "output_type": "stream",
     "text": [
      "99% Confidence Interval (Significance Level 1%)\n"
     ]
    },
    {
     "data": {
      "text/html": [
       "<div>\n",
       "<style scoped>\n",
       "    .dataframe tbody tr th:only-of-type {\n",
       "        vertical-align: middle;\n",
       "    }\n",
       "\n",
       "    .dataframe tbody tr th {\n",
       "        vertical-align: top;\n",
       "    }\n",
       "\n",
       "    .dataframe thead th {\n",
       "        text-align: right;\n",
       "    }\n",
       "</style>\n",
       "<table border=\"1\" class=\"dataframe\">\n",
       "  <thead>\n",
       "    <tr style=\"text-align: right;\">\n",
       "      <th></th>\n",
       "      <th>0</th>\n",
       "      <th>1</th>\n",
       "    </tr>\n",
       "  </thead>\n",
       "  <tbody>\n",
       "    <tr>\n",
       "      <th>const</th>\n",
       "      <td>-1.685629</td>\n",
       "      <td>0.265802</td>\n",
       "    </tr>\n",
       "    <tr>\n",
       "      <th>pe_op_dil</th>\n",
       "      <td>-0.162973</td>\n",
       "      <td>0.461252</td>\n",
       "    </tr>\n",
       "    <tr>\n",
       "      <th>pe_op_basic</th>\n",
       "      <td>-0.440205</td>\n",
       "      <td>0.175896</td>\n",
       "    </tr>\n",
       "    <tr>\n",
       "      <th>CAPEI</th>\n",
       "      <td>-0.001153</td>\n",
       "      <td>0.014348</td>\n",
       "    </tr>\n",
       "    <tr>\n",
       "      <th>pe_exi</th>\n",
       "      <td>-0.005902</td>\n",
       "      <td>0.017456</td>\n",
       "    </tr>\n",
       "    <tr>\n",
       "      <th>pcf</th>\n",
       "      <td>-0.008697</td>\n",
       "      <td>0.013747</td>\n",
       "    </tr>\n",
       "    <tr>\n",
       "      <th>divyield</th>\n",
       "      <td>-30.008220</td>\n",
       "      <td>-6.231341</td>\n",
       "    </tr>\n",
       "    <tr>\n",
       "      <th>bm</th>\n",
       "      <td>1.357152</td>\n",
       "      <td>2.819631</td>\n",
       "    </tr>\n",
       "    <tr>\n",
       "      <th>PEG_ltgforward</th>\n",
       "      <td>-0.020415</td>\n",
       "      <td>0.048436</td>\n",
       "    </tr>\n",
       "    <tr>\n",
       "      <th>ptb</th>\n",
       "      <td>0.072553</td>\n",
       "      <td>0.201465</td>\n",
       "    </tr>\n",
       "    <tr>\n",
       "      <th>pe_inc</th>\n",
       "      <td>-0.019259</td>\n",
       "      <td>0.001598</td>\n",
       "    </tr>\n",
       "    <tr>\n",
       "      <th>PEG_1yrforward</th>\n",
       "      <td>-0.004837</td>\n",
       "      <td>0.028821</td>\n",
       "    </tr>\n",
       "    <tr>\n",
       "      <th>evm</th>\n",
       "      <td>-0.077947</td>\n",
       "      <td>-0.026898</td>\n",
       "    </tr>\n",
       "    <tr>\n",
       "      <th>ps</th>\n",
       "      <td>0.121865</td>\n",
       "      <td>0.398471</td>\n",
       "    </tr>\n",
       "    <tr>\n",
       "      <th>fcf_ocf</th>\n",
       "      <td>-0.894475</td>\n",
       "      <td>0.265531</td>\n",
       "    </tr>\n",
       "    <tr>\n",
       "      <th>invt_act</th>\n",
       "      <td>-0.561683</td>\n",
       "      <td>1.064312</td>\n",
       "    </tr>\n",
       "    <tr>\n",
       "      <th>at_turn</th>\n",
       "      <td>-0.324795</td>\n",
       "      <td>0.326455</td>\n",
       "    </tr>\n",
       "    <tr>\n",
       "      <th>pretret_noa</th>\n",
       "      <td>-0.150639</td>\n",
       "      <td>0.090011</td>\n",
       "    </tr>\n",
       "    <tr>\n",
       "      <th>gpm</th>\n",
       "      <td>-0.964756</td>\n",
       "      <td>0.498394</td>\n",
       "    </tr>\n",
       "    <tr>\n",
       "      <th>dpr</th>\n",
       "      <td>-0.242696</td>\n",
       "      <td>0.431174</td>\n",
       "    </tr>\n",
       "    <tr>\n",
       "      <th>PEG_trailing</th>\n",
       "      <td>-0.013083</td>\n",
       "      <td>0.025326</td>\n",
       "    </tr>\n",
       "  </tbody>\n",
       "</table>\n",
       "</div>"
      ],
      "text/plain": [
       "                        0         1\n",
       "const           -1.685629  0.265802\n",
       "pe_op_dil       -0.162973  0.461252\n",
       "pe_op_basic     -0.440205  0.175896\n",
       "CAPEI           -0.001153  0.014348\n",
       "pe_exi          -0.005902  0.017456\n",
       "pcf             -0.008697  0.013747\n",
       "divyield       -30.008220 -6.231341\n",
       "bm               1.357152  2.819631\n",
       "PEG_ltgforward  -0.020415  0.048436\n",
       "ptb              0.072553  0.201465\n",
       "pe_inc          -0.019259  0.001598\n",
       "PEG_1yrforward  -0.004837  0.028821\n",
       "evm             -0.077947 -0.026898\n",
       "ps               0.121865  0.398471\n",
       "fcf_ocf         -0.894475  0.265531\n",
       "invt_act        -0.561683  1.064312\n",
       "at_turn         -0.324795  0.326455\n",
       "pretret_noa     -0.150639  0.090011\n",
       "gpm             -0.964756  0.498394\n",
       "dpr             -0.242696  0.431174\n",
       "PEG_trailing    -0.013083  0.025326"
      ]
     },
     "metadata": {},
     "output_type": "display_data"
    }
   ],
   "source": [
    "significance_level = 0.01\n",
    "\n",
    "# Print Confidence Interval with Title\n",
    "print(str(int(100 - significance_level*100)) + '% Confidence Interval (Significance Level ' \n",
    "      + str(int(significance_level*100)) + '%)')\n",
    "display(logReg_m.conf_int(alpha=significance_level))"
   ]
  },
  {
   "cell_type": "markdown",
   "metadata": {},
   "source": [
    "### 3.3.4. Prediction (MLR1)\n",
    "Multiple Logistic Regression 1 (pre-selected features with RandomForest in Chapter 2) \n",
    "\n",
    "### I: In-sample Prediction of probability for returns going UP in the next period (predict y_train)\n",
    "\n",
    "#### For whole Training Set\n"
   ]
  },
  {
   "cell_type": "code",
   "execution_count": 27,
   "metadata": {},
   "outputs": [
    {
     "name": "stdout",
     "output_type": "stream",
     "text": [
      "Features Selected with Random Forest (RF)\n",
      "Version 1.1; based on reduced Dataset with only Ratios as predictive Features. \n",
      "\n",
      "Predicted probabilities of price going UP for whole Feature Set (Train) are: \n"
     ]
    },
    {
     "data": {
      "text/plain": [
       "0    0.663467\n",
       "1    0.527418\n",
       "2    0.629615\n",
       "dtype: float64"
      ]
     },
     "metadata": {},
     "output_type": "display_data"
    },
    {
     "name": "stdout",
     "output_type": "stream",
     "text": [
      "\n",
      "Response Vector (Train): \n"
     ]
    },
    {
     "data": {
      "text/html": [
       "<div>\n",
       "<style scoped>\n",
       "    .dataframe tbody tr th:only-of-type {\n",
       "        vertical-align: middle;\n",
       "    }\n",
       "\n",
       "    .dataframe tbody tr th {\n",
       "        vertical-align: top;\n",
       "    }\n",
       "\n",
       "    .dataframe thead th {\n",
       "        text-align: right;\n",
       "    }\n",
       "</style>\n",
       "<table border=\"1\" class=\"dataframe\">\n",
       "  <thead>\n",
       "    <tr style=\"text-align: right;\">\n",
       "      <th></th>\n",
       "      <th>0</th>\n",
       "    </tr>\n",
       "  </thead>\n",
       "  <tbody>\n",
       "    <tr>\n",
       "      <th>0</th>\n",
       "      <td>0</td>\n",
       "    </tr>\n",
       "    <tr>\n",
       "      <th>1</th>\n",
       "      <td>1</td>\n",
       "    </tr>\n",
       "    <tr>\n",
       "      <th>2</th>\n",
       "      <td>0</td>\n",
       "    </tr>\n",
       "  </tbody>\n",
       "</table>\n",
       "</div>"
      ],
      "text/plain": [
       "   0\n",
       "0  0\n",
       "1  1\n",
       "2  0"
      ]
     },
     "metadata": {},
     "output_type": "display_data"
    }
   ],
   "source": [
    "# print status\n",
    "print('Features Selected with ' + str(sel_feat))\n",
    "print('Version ' + str(VERSION) + '; ' + str(sel_version),'\\n')\n",
    "\n",
    "# Get the probability of 'UP' (=1) for the whole training set\n",
    "pred_train_all = logReg_m.predict(sm.add_constant(X_train_s))\n",
    "\n",
    "# Print Prediction and Response Vector, with Title\n",
    "print('Predicted probabilities of price going UP for whole Feature Set (Train) are: ')\n",
    "display(pred_train_all[0:3])\n",
    "print(\"\")\n",
    "print('Response Vector (Train): ')\n",
    "display(y_train_s[0:3])"
   ]
  },
  {
   "cell_type": "markdown",
   "metadata": {},
   "source": [
    "### II: New-sample Prediction of probability for returns going UP in the next period (predict y_test)\n",
    "\n",
    "#### For whole Test Set\n"
   ]
  },
  {
   "cell_type": "code",
   "execution_count": 28,
   "metadata": {},
   "outputs": [
    {
     "name": "stdout",
     "output_type": "stream",
     "text": [
      "Features Selected with Random Forest (RF)\n",
      "Version 1.1; based on reduced Dataset with only Ratios as predictive Features. \n",
      "\n",
      "Predicted probability of price going UP for whole Feature Set (Test) is: \n"
     ]
    },
    {
     "data": {
      "text/plain": [
       "0    0.632378\n",
       "1    0.552146\n",
       "2    0.610365\n",
       "dtype: float64"
      ]
     },
     "metadata": {},
     "output_type": "display_data"
    },
    {
     "name": "stdout",
     "output_type": "stream",
     "text": [
      "\n",
      "Response Vector (Test): \n"
     ]
    },
    {
     "data": {
      "text/html": [
       "<div>\n",
       "<style scoped>\n",
       "    .dataframe tbody tr th:only-of-type {\n",
       "        vertical-align: middle;\n",
       "    }\n",
       "\n",
       "    .dataframe tbody tr th {\n",
       "        vertical-align: top;\n",
       "    }\n",
       "\n",
       "    .dataframe thead th {\n",
       "        text-align: right;\n",
       "    }\n",
       "</style>\n",
       "<table border=\"1\" class=\"dataframe\">\n",
       "  <thead>\n",
       "    <tr style=\"text-align: right;\">\n",
       "      <th></th>\n",
       "      <th>0</th>\n",
       "    </tr>\n",
       "  </thead>\n",
       "  <tbody>\n",
       "    <tr>\n",
       "      <th>0</th>\n",
       "      <td>1</td>\n",
       "    </tr>\n",
       "    <tr>\n",
       "      <th>1</th>\n",
       "      <td>0</td>\n",
       "    </tr>\n",
       "    <tr>\n",
       "      <th>2</th>\n",
       "      <td>1</td>\n",
       "    </tr>\n",
       "  </tbody>\n",
       "</table>\n",
       "</div>"
      ],
      "text/plain": [
       "   0\n",
       "0  1\n",
       "1  0\n",
       "2  1"
      ]
     },
     "metadata": {},
     "output_type": "display_data"
    }
   ],
   "source": [
    "# print status\n",
    "print('Features Selected with ' + str(sel_feat))\n",
    "print('Version ' + str(VERSION) + '; ' + str(sel_version),'\\n')\n",
    "\n",
    "# Get the probability of 'UP' (=1) for the whole test set\n",
    "pred_test_all = logReg_m.predict(sm.add_constant(X_test_s))\n",
    "\n",
    "# Print Prediction and Response Vector, with Title\n",
    "print('Predicted probability of price going UP for whole Feature Set (Test) is: ')\n",
    "display(pred_test_all.head(3))\n",
    "print(\"\")\n",
    "print('Response Vector (Test): ')\n",
    "display(y_test_s.head(3))"
   ]
  },
  {
   "cell_type": "markdown",
   "metadata": {},
   "source": [
    "## 3.4. Multiple Logistic Regression with only significant features (MLR2)\n",
    "\n",
    "Apply an other multiple logistic regression on a transformed dataset with only all significant values from LogReg_m (above)"
   ]
  },
  {
   "cell_type": "markdown",
   "metadata": {},
   "source": [
    "### 3.4.1. Extract significant features (MLR2)"
   ]
  },
  {
   "cell_type": "code",
   "execution_count": 30,
   "metadata": {},
   "outputs": [
    {
     "name": "stdout",
     "output_type": "stream",
     "text": [
      "\"Condition\" array with index starting with intercept:\n"
     ]
    },
    {
     "data": {
      "text/plain": [
       "(array([ 3,  6,  7,  9, 10, 12, 13], dtype=int64),)"
      ]
     },
     "metadata": {},
     "output_type": "display_data"
    },
    {
     "name": "stdout",
     "output_type": "stream",
     "text": [
      "\"Condition\" array with index starting with the first feature, leaving intercept out of the counting:\n"
     ]
    },
    {
     "data": {
      "text/plain": [
       "array([[ 2,  5,  6,  8,  9, 11, 12]], dtype=int64)"
      ]
     },
     "metadata": {},
     "output_type": "display_data"
    },
    {
     "name": "stdout",
     "output_type": "stream",
     "text": [
      "Features that were significant in the previous MLR in chapter 3.3.:\n",
      "['CAPEI', 'divyield', 'bm', 'ptb', 'pe_inc', 'evm', 'ps']\n"
     ]
    }
   ],
   "source": [
    "# extracting significant features with an alpha-boundery of 0.05\n",
    "condition = np.where(logReg_m.pvalues < 0.05)\n",
    "print('\"Condition\" array with index starting with intercept:')\n",
    "display(condition)\n",
    "\n",
    "# Subtract '1' fom every entry in the numpy array \"condition\", because in logReg index 0 starts with the intercept\n",
    "# but in the X_train_s set the index 0 starts with the first feature already\n",
    "# otherwise there would be an error \"index out of range\" when we would try to apply the condition to the X_train_s set\n",
    "condition_sub = np.subtract(condition, 1)\n",
    "print('\"Condition\" array with index starting with the first feature, leaving intercept out of the counting:')\n",
    "display(condition_sub)\n",
    "\n",
    "# extract significant features\n",
    "sign_features = X_train_s.columns.values[condition_sub].tolist()[0]\n",
    "print('Features that were significant in the previous MLR in chapter 3.3.:')\n",
    "print(sign_features)"
   ]
  },
  {
   "cell_type": "markdown",
   "metadata": {},
   "source": [
    "### 3.4.2. Preparation and fitting (on Training Set) (MLR2)"
   ]
  },
  {
   "cell_type": "code",
   "execution_count": 31,
   "metadata": {},
   "outputs": [
    {
     "name": "stdout",
     "output_type": "stream",
     "text": [
      "Optimization terminated successfully.\n",
      "         Current function value: 0.659510\n",
      "         Iterations 6\n"
     ]
    }
   ],
   "source": [
    "## Multiple Log. Regression (with significant features from logreg above)\n",
    "# Assign features to X and response vector y\n",
    "\n",
    "if SELECTION == 'RF':\n",
    "    logReg_mm = sm.Logit(endog = y_train_s, exog=sm.add_constant(X_train_s[sign_features])).fit()\n",
    "elif SELECTION == 'PCA':\n",
    "    logReg_mm = sm.Logit(endog = y_train_s, exog=sm.add_constant(X_train_s[sign_features])).fit()\n",
    "else: raise ValueError('SELECTION must be either RF or PCA')"
   ]
  },
  {
   "cell_type": "markdown",
   "metadata": {},
   "source": [
    "### 3.4.3. Summary (MLR2)"
   ]
  },
  {
   "cell_type": "code",
   "execution_count": 32,
   "metadata": {},
   "outputs": [
    {
     "name": "stdout",
     "output_type": "stream",
     "text": [
      "Multiple Logistic Regression with selected significant features\n",
      "\n",
      "                           Logit Regression Results                           \n",
      "==============================================================================\n",
      "Dep. Variable:                      0   No. Observations:                 2836\n",
      "Model:                          Logit   Df Residuals:                     2828\n",
      "Method:                           MLE   Df Model:                            7\n",
      "Date:                Sun, 15 Apr 2018   Pseudo R-squ.:                 0.03020\n",
      "Time:                        21:45:51   Log-Likelihood:                -1870.4\n",
      "converged:                       True   LL-Null:                       -1928.6\n",
      "                                        LLR p-value:                 4.097e-22\n",
      "==============================================================================\n",
      "==============================================================================\n",
      "                 coef    std err          z      P>|z|      [0.025      0.975]\n",
      "------------------------------------------------------------------------------\n",
      "const         -0.5855      0.222     -2.633      0.008      -1.021      -0.150\n",
      "CAPEI          0.0079      0.003      2.366      0.018       0.001       0.014\n",
      "divyield     -16.1231      3.394     -4.751      0.000     -22.775      -9.471\n",
      "bm             1.8172      0.248      7.322      0.000       1.331       2.304\n",
      "ptb            0.1305      0.024      5.508      0.000       0.084       0.177\n",
      "pe_inc        -0.0017      0.002     -1.043      0.297      -0.005       0.001\n",
      "evm           -0.0354      0.008     -4.296      0.000      -0.052      -0.019\n",
      "ps             0.1851      0.034      5.522      0.000       0.119       0.251\n",
      "==============================================================================\n"
     ]
    }
   ],
   "source": [
    "if SELECTION == 'RF':\n",
    "    print(\"Multiple Logistic Regression with selected significant features\"+'\\n')\n",
    "    print(logReg_mm.summary().tables[0])\n",
    "    print(logReg_mm.summary().tables[1])\n",
    "elif SELECTION == 'PCA':\n",
    "    print(\"Multiple Logistic Regression with selected significant features\"+'\\n')\n",
    "    print(logReg_mm.summary().tables[0])\n",
    "    print(logReg_mm.summary().tables[1])\n",
    "else: raise ValueError('SELECTION must be either RF or PCA')"
   ]
  },
  {
   "cell_type": "markdown",
   "metadata": {},
   "source": [
    "### 3.4.4. Assessing Output (MLR2)\n",
    "\n",
    "### Hypothesis testing / Confidence Interval"
   ]
  },
  {
   "cell_type": "code",
   "execution_count": 33,
   "metadata": {},
   "outputs": [
    {
     "name": "stdout",
     "output_type": "stream",
     "text": [
      "99% Confidence Interval (Significance Level 1%)\n"
     ]
    },
    {
     "data": {
      "text/html": [
       "<div>\n",
       "<style scoped>\n",
       "    .dataframe tbody tr th:only-of-type {\n",
       "        vertical-align: middle;\n",
       "    }\n",
       "\n",
       "    .dataframe tbody tr th {\n",
       "        vertical-align: top;\n",
       "    }\n",
       "\n",
       "    .dataframe thead th {\n",
       "        text-align: right;\n",
       "    }\n",
       "</style>\n",
       "<table border=\"1\" class=\"dataframe\">\n",
       "  <thead>\n",
       "    <tr style=\"text-align: right;\">\n",
       "      <th></th>\n",
       "      <th>0</th>\n",
       "      <th>1</th>\n",
       "    </tr>\n",
       "  </thead>\n",
       "  <tbody>\n",
       "    <tr>\n",
       "      <th>const</th>\n",
       "      <td>-1.158267</td>\n",
       "      <td>-0.012769</td>\n",
       "    </tr>\n",
       "    <tr>\n",
       "      <th>CAPEI</th>\n",
       "      <td>-0.000701</td>\n",
       "      <td>0.016526</td>\n",
       "    </tr>\n",
       "    <tr>\n",
       "      <th>divyield</th>\n",
       "      <td>-24.865198</td>\n",
       "      <td>-7.381039</td>\n",
       "    </tr>\n",
       "    <tr>\n",
       "      <th>bm</th>\n",
       "      <td>1.177936</td>\n",
       "      <td>2.456443</td>\n",
       "    </tr>\n",
       "    <tr>\n",
       "      <th>ptb</th>\n",
       "      <td>0.069471</td>\n",
       "      <td>0.191543</td>\n",
       "    </tr>\n",
       "    <tr>\n",
       "      <th>pe_inc</th>\n",
       "      <td>-0.005915</td>\n",
       "      <td>0.002506</td>\n",
       "    </tr>\n",
       "    <tr>\n",
       "      <th>evm</th>\n",
       "      <td>-0.056672</td>\n",
       "      <td>-0.014187</td>\n",
       "    </tr>\n",
       "    <tr>\n",
       "      <th>ps</th>\n",
       "      <td>0.098758</td>\n",
       "      <td>0.271465</td>\n",
       "    </tr>\n",
       "  </tbody>\n",
       "</table>\n",
       "</div>"
      ],
      "text/plain": [
       "                  0         1\n",
       "const     -1.158267 -0.012769\n",
       "CAPEI     -0.000701  0.016526\n",
       "divyield -24.865198 -7.381039\n",
       "bm         1.177936  2.456443\n",
       "ptb        0.069471  0.191543\n",
       "pe_inc    -0.005915  0.002506\n",
       "evm       -0.056672 -0.014187\n",
       "ps         0.098758  0.271465"
      ]
     },
     "metadata": {},
     "output_type": "display_data"
    }
   ],
   "source": [
    "significance_level = 0.01\n",
    "\n",
    "# Print Confidence Interval with Title\n",
    "print(str(int(100 - significance_level*100)) + '% Confidence Interval (Significance Level ' \n",
    "      + str(int(significance_level*100)) + '%)')\n",
    "display(logReg_mm.conf_int(alpha=significance_level))"
   ]
  },
  {
   "cell_type": "markdown",
   "metadata": {},
   "source": [
    "### 3.4.5. Prediction (MLR2)\n",
    "Multiple Logistic Regression 1 (pre-selected features with RandomForest in Chapter 2) \n",
    "\n",
    "### I: In-sample Prediction of probability for returns going UP in the next period (predict y_train)\n",
    "\n",
    "#### For whole Training Set\n"
   ]
  },
  {
   "cell_type": "code",
   "execution_count": 34,
   "metadata": {},
   "outputs": [
    {
     "name": "stdout",
     "output_type": "stream",
     "text": [
      "Features Selected with Random Forest (RF)\n",
      "Version 1.1; based on reduced Dataset with only Ratios as predictive Features. \n",
      "\n"
     ]
    },
    {
     "ename": "ValueError",
     "evalue": "shapes (2836,21) and (8,) not aligned: 21 (dim 1) != 8 (dim 0)",
     "output_type": "error",
     "traceback": [
      "\u001b[1;31m---------------------------------------------------------------------------\u001b[0m",
      "\u001b[1;31mValueError\u001b[0m                                Traceback (most recent call last)",
      "\u001b[1;32m<ipython-input-34-c3ea0b7a96dc>\u001b[0m in \u001b[0;36m<module>\u001b[1;34m()\u001b[0m\n\u001b[0;32m      4\u001b[0m \u001b[1;33m\u001b[0m\u001b[0m\n\u001b[0;32m      5\u001b[0m \u001b[1;31m# Get the probability of 'UP' (=1) for the whole training set\u001b[0m\u001b[1;33m\u001b[0m\u001b[1;33m\u001b[0m\u001b[0m\n\u001b[1;32m----> 6\u001b[1;33m \u001b[0mpred_train_all\u001b[0m \u001b[1;33m=\u001b[0m \u001b[0mlogReg_mm\u001b[0m\u001b[1;33m.\u001b[0m\u001b[0mpredict\u001b[0m\u001b[1;33m(\u001b[0m\u001b[0msm\u001b[0m\u001b[1;33m.\u001b[0m\u001b[0madd_constant\u001b[0m\u001b[1;33m(\u001b[0m\u001b[0mX_train_s\u001b[0m\u001b[1;33m)\u001b[0m\u001b[1;33m)\u001b[0m\u001b[1;33m\u001b[0m\u001b[0m\n\u001b[0m\u001b[0;32m      7\u001b[0m \u001b[1;33m\u001b[0m\u001b[0m\n\u001b[0;32m      8\u001b[0m \u001b[1;31m# Print Prediction and Response Vector, with Title\u001b[0m\u001b[1;33m\u001b[0m\u001b[1;33m\u001b[0m\u001b[0m\n",
      "\u001b[1;32mC:\\ProgramData\\Anaconda3\\lib\\site-packages\\statsmodels\\base\\model.py\u001b[0m in \u001b[0;36mpredict\u001b[1;34m(self, exog, transform, *args, **kwargs)\u001b[0m\n\u001b[0;32m    790\u001b[0m             \u001b[0mexog\u001b[0m \u001b[1;33m=\u001b[0m \u001b[0mnp\u001b[0m\u001b[1;33m.\u001b[0m\u001b[0matleast_2d\u001b[0m\u001b[1;33m(\u001b[0m\u001b[0mexog\u001b[0m\u001b[1;33m)\u001b[0m  \u001b[1;31m# needed in count model shape[1]\u001b[0m\u001b[1;33m\u001b[0m\u001b[0m\n\u001b[0;32m    791\u001b[0m \u001b[1;33m\u001b[0m\u001b[0m\n\u001b[1;32m--> 792\u001b[1;33m         \u001b[0mpredict_results\u001b[0m \u001b[1;33m=\u001b[0m \u001b[0mself\u001b[0m\u001b[1;33m.\u001b[0m\u001b[0mmodel\u001b[0m\u001b[1;33m.\u001b[0m\u001b[0mpredict\u001b[0m\u001b[1;33m(\u001b[0m\u001b[0mself\u001b[0m\u001b[1;33m.\u001b[0m\u001b[0mparams\u001b[0m\u001b[1;33m,\u001b[0m \u001b[0mexog\u001b[0m\u001b[1;33m,\u001b[0m \u001b[1;33m*\u001b[0m\u001b[0margs\u001b[0m\u001b[1;33m,\u001b[0m \u001b[1;33m**\u001b[0m\u001b[0mkwargs\u001b[0m\u001b[1;33m)\u001b[0m\u001b[1;33m\u001b[0m\u001b[0m\n\u001b[0m\u001b[0;32m    793\u001b[0m \u001b[1;33m\u001b[0m\u001b[0m\n\u001b[0;32m    794\u001b[0m         \u001b[1;32mif\u001b[0m \u001b[0mexog_index\u001b[0m \u001b[1;32mis\u001b[0m \u001b[1;32mnot\u001b[0m \u001b[1;32mNone\u001b[0m \u001b[1;32mand\u001b[0m \u001b[1;32mnot\u001b[0m \u001b[0mhasattr\u001b[0m\u001b[1;33m(\u001b[0m\u001b[0mpredict_results\u001b[0m\u001b[1;33m,\u001b[0m \u001b[1;34m'predicted_values'\u001b[0m\u001b[1;33m)\u001b[0m\u001b[1;33m:\u001b[0m\u001b[1;33m\u001b[0m\u001b[0m\n",
      "\u001b[1;32mC:\\ProgramData\\Anaconda3\\lib\\site-packages\\statsmodels\\discrete\\discrete_model.py\u001b[0m in \u001b[0;36mpredict\u001b[1;34m(self, params, exog, linear)\u001b[0m\n\u001b[0;32m    429\u001b[0m             \u001b[0mexog\u001b[0m \u001b[1;33m=\u001b[0m \u001b[0mself\u001b[0m\u001b[1;33m.\u001b[0m\u001b[0mexog\u001b[0m\u001b[1;33m\u001b[0m\u001b[0m\n\u001b[0;32m    430\u001b[0m         \u001b[1;32mif\u001b[0m \u001b[1;32mnot\u001b[0m \u001b[0mlinear\u001b[0m\u001b[1;33m:\u001b[0m\u001b[1;33m\u001b[0m\u001b[0m\n\u001b[1;32m--> 431\u001b[1;33m             \u001b[1;32mreturn\u001b[0m \u001b[0mself\u001b[0m\u001b[1;33m.\u001b[0m\u001b[0mcdf\u001b[0m\u001b[1;33m(\u001b[0m\u001b[0mnp\u001b[0m\u001b[1;33m.\u001b[0m\u001b[0mdot\u001b[0m\u001b[1;33m(\u001b[0m\u001b[0mexog\u001b[0m\u001b[1;33m,\u001b[0m \u001b[0mparams\u001b[0m\u001b[1;33m)\u001b[0m\u001b[1;33m)\u001b[0m\u001b[1;33m\u001b[0m\u001b[0m\n\u001b[0m\u001b[0;32m    432\u001b[0m         \u001b[1;32melse\u001b[0m\u001b[1;33m:\u001b[0m\u001b[1;33m\u001b[0m\u001b[0m\n\u001b[0;32m    433\u001b[0m             \u001b[1;32mreturn\u001b[0m \u001b[0mnp\u001b[0m\u001b[1;33m.\u001b[0m\u001b[0mdot\u001b[0m\u001b[1;33m(\u001b[0m\u001b[0mexog\u001b[0m\u001b[1;33m,\u001b[0m \u001b[0mparams\u001b[0m\u001b[1;33m)\u001b[0m\u001b[1;33m\u001b[0m\u001b[0m\n",
      "\u001b[1;31mValueError\u001b[0m: shapes (2836,21) and (8,) not aligned: 21 (dim 1) != 8 (dim 0)"
     ]
    }
   ],
   "source": [
    "# print status\n",
    "print('Features Selected with ' + str(sel_feat))\n",
    "print('Version ' + str(VERSION) + '; ' + str(sel_version),'\\n')\n",
    "\n",
    "# Get the probability of 'UP' (=1) for the whole training set\n",
    "pred_train_all = logReg_mm.predict(sm.add_constant(X_train_s))\n",
    "\n",
    "# Print Prediction and Response Vector, with Title\n",
    "print('Predicted probabilities of price going UP for whole Feature Set (Train) are: ')\n",
    "display(pred_train_all[0:3])\n",
    "print(\"\")\n",
    "print('Response Vector (Train): ')\n",
    "display(y_train_s[0:3])"
   ]
  },
  {
   "cell_type": "markdown",
   "metadata": {},
   "source": [
    "### II: New-sample Prediction of probability for returns going UP in the next period (predict y_test)\n",
    "\n",
    "#### For whole Test Set\n"
   ]
  },
  {
   "cell_type": "code",
   "execution_count": 117,
   "metadata": {},
   "outputs": [
    {
     "name": "stdout",
     "output_type": "stream",
     "text": [
      "Features Selected with Random Forest (RF)\n",
      "Version 1; based on a Dataset with only Ratios as predictive Features. \n",
      "\n",
      "Predicted probability of price going UP for whole Feature Set (Test) is: \n"
     ]
    },
    {
     "data": {
      "text/plain": [
       "0    0.632378\n",
       "1    0.552146\n",
       "2    0.610365\n",
       "dtype: float64"
      ]
     },
     "metadata": {},
     "output_type": "display_data"
    },
    {
     "name": "stdout",
     "output_type": "stream",
     "text": [
      "\n",
      "Response Vector (Test): \n"
     ]
    },
    {
     "data": {
      "text/html": [
       "<div>\n",
       "<style scoped>\n",
       "    .dataframe tbody tr th:only-of-type {\n",
       "        vertical-align: middle;\n",
       "    }\n",
       "\n",
       "    .dataframe tbody tr th {\n",
       "        vertical-align: top;\n",
       "    }\n",
       "\n",
       "    .dataframe thead th {\n",
       "        text-align: right;\n",
       "    }\n",
       "</style>\n",
       "<table border=\"1\" class=\"dataframe\">\n",
       "  <thead>\n",
       "    <tr style=\"text-align: right;\">\n",
       "      <th></th>\n",
       "      <th>0</th>\n",
       "    </tr>\n",
       "  </thead>\n",
       "  <tbody>\n",
       "    <tr>\n",
       "      <th>0</th>\n",
       "      <td>1</td>\n",
       "    </tr>\n",
       "    <tr>\n",
       "      <th>1</th>\n",
       "      <td>0</td>\n",
       "    </tr>\n",
       "    <tr>\n",
       "      <th>2</th>\n",
       "      <td>1</td>\n",
       "    </tr>\n",
       "  </tbody>\n",
       "</table>\n",
       "</div>"
      ],
      "text/plain": [
       "   0\n",
       "0  1\n",
       "1  0\n",
       "2  1"
      ]
     },
     "metadata": {},
     "output_type": "display_data"
    }
   ],
   "source": [
    "# print status\n",
    "print('Features Selected with ' + str(sel_feat))\n",
    "print('Version ' + str(VERSION) + '; ' + str(sel_version),'\\n')\n",
    "\n",
    "# Get the probability of 'UP' (=1) for the whole test set\n",
    "pred_test_all = logReg_mm.predict(sm.add_constant(X_test_s))\n",
    "\n",
    "# Print Prediction and Response Vector, with Title\n",
    "print('Predicted probability of price going UP for whole Feature Set (Test) is: ')\n",
    "display(pred_test_all.head(3))\n",
    "print(\"\")\n",
    "print('Response Vector (Test): ')\n",
    "display(y_test_s.head(3))"
   ]
  }
 ],
 "metadata": {
  "kernelspec": {
   "display_name": "Python 3",
   "language": "python",
   "name": "python3"
  },
  "language_info": {
   "codemirror_mode": {
    "name": "ipython",
    "version": 3
   },
   "file_extension": ".py",
   "mimetype": "text/x-python",
   "name": "python",
   "nbconvert_exporter": "python",
   "pygments_lexer": "ipython3",
   "version": "3.6.4"
  }
 },
 "nbformat": 4,
 "nbformat_minor": 2
}
