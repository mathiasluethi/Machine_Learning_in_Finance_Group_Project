{
 "cells": [
  {
   "cell_type": "markdown",
   "metadata": {},
   "source": [
    "### Introduction to Machine Learning, UZH FS18, Group Project\n",
    "\n",
    "### Group 2: Barbara Capl, Mathias Lüthi, Pamela Matias, Stefanie Rentsch\n",
    "\n",
    "\n",
    "#     \n",
    "# II. Feature Selection (II.i & Classification with Random Forest)"
   ]
  },
  {
   "cell_type": "code",
   "execution_count": 1,
   "metadata": {},
   "outputs": [],
   "source": [
    "# hide unnecessary warnings (\"depreciation\" of packages etc.)\n",
    "import warnings\n",
    "warnings.filterwarnings('ignore')\n",
    "\n",
    "# import packages\n",
    "import numpy as np\n",
    "import pandas as pd\n",
    "import matplotlib.pyplot as plt\n",
    "from sklearn import preprocessing\n",
    "from sklearn.model_selection import train_test_split\n",
    "from sklearn.preprocessing import Imputer\n",
    "from sklearn.ensemble import RandomForestClassifier"
   ]
  },
  {
   "cell_type": "markdown",
   "metadata": {},
   "source": [
    "# 1. Import Standardized Feature Matrix / Response Vector / Feature Labels    \n",
    "####     \n",
    "### Dataset Version 1: only ratios as predictive features\n",
    "### Dataset Version 2: ratios + seasonality dummy variables + other market data\n",
    "####     \n",
    "### => All Datasets modified with sklearn Imputer (All Nan filled with \"median\")\n",
    "###    "
   ]
  },
  {
   "cell_type": "markdown",
   "metadata": {},
   "source": [
    "#### Version 1: only ratios as predictive features"
   ]
  },
  {
   "cell_type": "code",
   "execution_count": null,
   "metadata": {},
   "outputs": [],
   "source": [
    "# Import Feature Matrix X1 and response vector y1 and extracted feature labels of dataset 1\n",
    "\n",
    "X1_train = pd.read.csv('Data/generated_splits/X1_train.csv')\n",
    "y1_train = pd.read.csv('Data/generated_splits/y1_train.csv')\n",
    "\n",
    "X1_test = pd.read.csv('Data/generated_splits/X1_test.csv')\n",
    "y1_test = pd.read.csv('Data/generated_splits/y1_test.csv')\n",
    "\n",
    "feature_labels1 = pd.read.csv('Data/generated_splits/feature_labels1.csv')\n",
    "\n",
    "print('Shape of Feature Matrix X1_train = ' + str(X1_train.shape))\n",
    "print(\"\")\n",
    "print('Feature Matrix X1_train')\n",
    "display(X1_train.head())\n",
    "print(\"\")\n",
    "print('Response Vector y1_train')\n",
    "display(y1_train.head())\n",
    "print(\"\")\n",
    "\n",
    "print('Shape of Feature Matrix X1_test = ' + str(X1_test.shape))\n",
    "print(\"\")\n",
    "print('Feature Matrix X1_test')\n",
    "display(X1_test.head())\n",
    "print(\"\")\n",
    "print('Response Vector y1_test')\n",
    "display(y1_test.head())\n",
    "print(\"\")\n",
    "\n",
    "print('Type of feature_labels1 = ' + str(type(feature_labels1)))\n",
    "print(\"\")\n",
    "\n",
    "# Check if there is the approximately same percentage of '1' in both training and test response vector\n",
    "print('Ratio of \"Ones\" (Train) =  ' + str(y1_train.sum() / y1_train.size))\n",
    "print('Ratio of \"Ones\" (Test)  =  ' + str(y1_test.sum() / y1_test.size))\n"
   ]
  },
  {
   "cell_type": "markdown",
   "metadata": {},
   "source": [
    "#### Version 2: ratios + seasonality + other market data"
   ]
  },
  {
   "cell_type": "code",
   "execution_count": null,
   "metadata": {},
   "outputs": [],
   "source": [
    "# Import Feature Matrix X2, response vector y2 and extracted feature labels of dataset 2\n",
    "\n",
    "# Train\n",
    "X2_train = pd.read.csv('Data/generated_splits/X2_train.csv')\n",
    "y2_train = pd.read.csv('Data/generated_splits/y2_train.csv')\n",
    "\n",
    "# Test\n",
    "X2_test = pd.read.csv('Data/generated_splits/X2_test.csv')\n",
    "y2_test = pd.read.csv('Data/generated_splits/y2_test.csv')\n",
    "\n",
    "feature_labels2 = pd.read.csv('Data/generated_splits/feature_labels2.csv')\n",
    "\n",
    "\n",
    "print('Shape of Feature Matrix X2_train = ' + str(X2_train.shape))\n",
    "print(\"\")\n",
    "print('Feature Matrix X2_train')\n",
    "display(X2_train.head())\n",
    "print(\"\")\n",
    "print('Response Vector y2_train')\n",
    "display(y2_train.head())\n",
    "print(\"\")\n",
    "\n",
    "print('Shape of Feature Matrix X2_test = ' + str(X2_test.shape))\n",
    "print(\"\")\n",
    "print('Feature Matrix X2_test')\n",
    "display(X2_test.head())\n",
    "print(\"\")\n",
    "print('Response Vector y2_test')\n",
    "display(y2_test.head())\n",
    "print(\"\")\n",
    "\n",
    "print('Type of feature_labels2 = ' + str(type(feature_labels2)))\n",
    "print(\"\")\n",
    "\n",
    "# Check if there is the approximately same percentage of '1' in both training and test response vector\n",
    "print('Ratio of \"Ones\" (Train) =  ' + str(y2_train.sum() / y2_train.size))\n",
    "print('Ratio of \"Ones\" (Test)  =  ' + str(y2_test.sum() / y2_test.size))\n"
   ]
  },
  {
   "cell_type": "markdown",
   "metadata": {},
   "source": [
    "###   \n",
    "# 2. Feature Selection with Random Forest\n",
    "###   "
   ]
  },
  {
   "cell_type": "markdown",
   "metadata": {},
   "source": [
    "## Select Features according to their explanatory value / importance for the response"
   ]
  },
  {
   "cell_type": "markdown",
   "metadata": {},
   "source": [
    "# --- OLD CODE ---"
   ]
  },
  {
   "cell_type": "markdown",
   "metadata": {},
   "source": [
    "## Feature Matrix and Response Vector "
   ]
  },
  {
   "cell_type": "markdown",
   "metadata": {},
   "source": [
    "## Train - / Test - Split"
   ]
  },
  {
   "cell_type": "markdown",
   "metadata": {},
   "source": [
    "#### Version 1: Imputed Dataset"
   ]
  },
  {
   "cell_type": "code",
   "execution_count": null,
   "metadata": {},
   "outputs": [],
   "source": [
    "# Do the train - test- split\n",
    "X1_train, X1_test, y1_train, y1_test = train_test_split(X1, y1, test_size = 0.2, random_state = 0, stratify = y1)\n",
    "\n",
    "# Check if there is the approximately same percentage of '1' i both training and test response vector\n",
    "display(y1_train.sum() / y1_train.size)\n",
    "display(y1_test.sum() / y1_test.size)\n"
   ]
  },
  {
   "cell_type": "markdown",
   "metadata": {},
   "source": [
    "#### Version 2: Dataset with rows dropped where Nan"
   ]
  },
  {
   "cell_type": "code",
   "execution_count": null,
   "metadata": {},
   "outputs": [],
   "source": [
    "# Do the train - test- split\n",
    "X2_train, X2_test, y2_train, y2_test = train_test_split(X2, y2, test_size = 0.2, random_state = 0, stratify = y2)\n",
    "\n",
    "# Check if there is the approximately same percentage of '1' i both training and test response vector\n",
    "display(y2_train.sum() / y2_train.size)\n",
    "display(y2_test.sum() / y2_test.size)"
   ]
  },
  {
   "cell_type": "markdown",
   "metadata": {},
   "source": [
    "## Standardize Variables"
   ]
  },
  {
   "cell_type": "markdown",
   "metadata": {},
   "source": [
    "#### Version 1: Imputed Dataset"
   ]
  },
  {
   "cell_type": "code",
   "execution_count": null,
   "metadata": {},
   "outputs": [],
   "source": [
    "# Standardization with sklearn StandardScaler\n",
    "standard_scaler_1 = preprocessing.StandardScaler().fit(X1_train)\n",
    "X1_train = standard_scaler_1.transform(X1_train)\n",
    "X1_test = standard_scaler_1.transform(X1_test)\n"
   ]
  },
  {
   "cell_type": "markdown",
   "metadata": {},
   "source": [
    "#### Version 2: Dataset with rows dropped where Nan"
   ]
  },
  {
   "cell_type": "code",
   "execution_count": null,
   "metadata": {},
   "outputs": [],
   "source": [
    "# Standardization with sklearn StandardScaler\n",
    "standard_scaler_2 = preprocessing.StandardScaler().fit(X2_train)\n",
    "X2_train = standard_scaler_2.transform(X2_train)\n",
    "X2_test = standard_scaler_2.transform(X2_test)\n"
   ]
  },
  {
   "cell_type": "markdown",
   "metadata": {},
   "source": [
    "## Select Features according to their explanatory value / importance for the response"
   ]
  },
  {
   "cell_type": "markdown",
   "metadata": {},
   "source": [
    "#### Version 1: Imputed Dataset"
   ]
  },
  {
   "cell_type": "code",
   "execution_count": null,
   "metadata": {},
   "outputs": [],
   "source": [
    "my_forest_1 = RandomForestClassifier(random_state = 1)\n",
    "my_forest_1.max_depth = 6\n",
    "my_forest_1.fit(X1_train, y1_train)\n",
    "\n",
    "# Check features for their importance for the prediction\n",
    "features_importances_1 = my_forest_1.feature_importances_\n",
    "\n",
    "# sort features in line with their importance for the prediction\n",
    "indices_1 = np.argsort(features_importances_1)[::-1]\n",
    "\n",
    "# print best n features\n",
    "n = 15\n",
    "for i in range(n):\n",
    "    print('{0:2d} {1:7s} {2:6.4f}'.format(i + 1, labels_of_features_1[indices_1[i]], \n",
    "                                          features_importances_1[indices_1[i]]))\n",
    "del i\n"
   ]
  },
  {
   "cell_type": "markdown",
   "metadata": {},
   "source": [
    "#### Version 2: Dataset with rows dropped where Nan"
   ]
  },
  {
   "cell_type": "code",
   "execution_count": null,
   "metadata": {},
   "outputs": [],
   "source": [
    "my_forest_2 = RandomForestClassifier(random_state = 1)\n",
    "my_forest_2.max_depth = 8\n",
    "my_forest_2.fit(X2_train, y2_train)\n",
    "\n",
    "# Check features for their importance for the prediction\n",
    "features_importances_2 = my_forest_2.feature_importances_\n",
    "\n",
    "# sort features in line with their importance for the prediction\n",
    "indices_2 = np.argsort(features_importances_2)[::-1]\n",
    "\n",
    "# print best m features\n",
    "m = 15\n",
    "for i in range(m):\n",
    "    print('{0:2d} {1:7s} {2:6.4f}'.format(i + 1, labels_of_features_2[indices_2[i]], \n",
    "                                          features_importances_2[indices_2[i]]))\n",
    "del i\n"
   ]
  },
  {
   "cell_type": "markdown",
   "metadata": {},
   "source": [
    "#### Version 1: Imputed Dataset"
   ]
  },
  {
   "cell_type": "code",
   "execution_count": null,
   "metadata": {},
   "outputs": [],
   "source": [
    "# Get cumsum of the n most important features\n",
    "feat_imp_1 = np.sort(features_importances_1)[::-1]\n",
    "sum_feat_imp_1 = np.cumsum(features_importances_1)[:n]\n",
    "\n",
    "# Plot Feature Importance (both cumulative and individual)\n",
    "plt.figure(figsize = (12, 8))\n",
    "plt.title('Feature Importances: Version 1 - Imputed Dataset')\n",
    "plt.bar(range(n), features_importances_1[indices_1[:n]], align = 'center')\n",
    "plt.xticks(range(n), labels_of_features_1[indices_1[:n]], rotation = 90)\n",
    "plt.xlim([-1, n])\n",
    "plt.xlabel('Feature')\n",
    "plt.ylabel('Relative Feature Importance')\n",
    "plt.step(range(n), sum_feat_imp_1, where = 'mid', label = 'Cumulative Feature Importance')\n",
    "plt.tight_layout();"
   ]
  },
  {
   "cell_type": "markdown",
   "metadata": {},
   "source": [
    "#### Version 2: Dataset with rows dropped where Nan"
   ]
  },
  {
   "cell_type": "code",
   "execution_count": null,
   "metadata": {},
   "outputs": [],
   "source": [
    "# Get cumsum of the n most important features\n",
    "feat_imp_2 = np.sort(features_importances_2)[::-1]\n",
    "sum_feat_imp_2 = np.cumsum(features_importances_2)[:m]\n",
    "\n",
    "# Plot Feature IMportance (both cumulative and individual)\n",
    "plt.figure(figsize = (12, 8))\n",
    "plt.title('Feature Importances: Version 2 - Dropnan Dataset')\n",
    "plt.bar(range(m), features_importances_2[indices_2[:m]], align = 'center')\n",
    "plt.xticks(range(m), labels_of_features_2[indices_2[:m]], rotation = 90)\n",
    "plt.xlim([-1, m])\n",
    "plt.xlabel('Feature')\n",
    "plt.ylabel('Relative Feature Importance')\n",
    "plt.step(range(m), sum_feat_imp_2, where = 'mid', label = 'Cumulative Feature Importance')\n",
    "plt.tight_layout();"
   ]
  },
  {
   "cell_type": "markdown",
   "metadata": {},
   "source": [
    "## Extract best 'n' / 'm' Variables"
   ]
  },
  {
   "cell_type": "code",
   "execution_count": null,
   "metadata": {},
   "outputs": [],
   "source": [
    "#from sklearn.feature_selection import SelectFromModel\n",
    "\n",
    "#selected_1 = SelectFromModel(RandomForestClassifier(), threshold = 'median')\n",
    "#selected_1.fit(X1, y1)\n",
    "#n_features = selected_1.transform(X1).shape[1]\n",
    "#X1.head()\n",
    "\n",
    "# =====> AUTOMATED FEATURE EXTRACTION WOULD BE EXTREEEMELY COOL\n",
    "# =====> SELECTFROMMODEL ALGO CAN ONLY SELECT FEATURES ACCORDING TO THRESHOLD, NOT \"BET N FEATURES\" (?)"
   ]
  },
  {
   "cell_type": "markdown",
   "metadata": {},
   "source": [
    "#### Version 1: Imputed Dataset"
   ]
  },
  {
   "cell_type": "code",
   "execution_count": null,
   "metadata": {},
   "outputs": [],
   "source": [
    "# Extract only the n best variables + the responsa varable (NEXT_DAY_PREDICTION)\n",
    "imputed_dataset_f = imputed_dataset[['sprtrn', 'divyield', 'BID', 'PEG_trailing', 'pe_op_basic', 'cash_lt', \n",
    "                                     'PEG_1yrforward', 'ASKHI', 'ptb', 'PEG_ltgforward',\n",
    "                                   'NEXT_DAY_PREDICTION']]\n",
    "\n",
    "imputed_dataset_f.to_csv('Data/generated/imputed_dataset_ml_f.csv')\n",
    "\n",
    "print(\"\")\n",
    "print('Imputed Dataset with chosen n features')\n",
    "display(imputed_dataset_f.head())\n",
    "\n",
    "\n"
   ]
  },
  {
   "cell_type": "markdown",
   "metadata": {},
   "source": [
    "#### Version 2: Dataset with rows dropped where Nan"
   ]
  },
  {
   "cell_type": "code",
   "execution_count": null,
   "metadata": {},
   "outputs": [],
   "source": [
    "# Extract only the n best variables + the responsa varable (NEXT_DAY_PREDICTION)\n",
    "dropnan_dataset_f = dropnan_dataset[['pretret_earnat', 'divyield', 'roe', 'pcf',\n",
    "                                     'pe_op_dil', 'CAPEI', 'PEG_1yrforward', 'ptb', 'BID', 'accrual', 'ps',                        'pe_op_basic', 'cash_lt', 'PEG_1yrforward', 'ASKHI', 'ptb', 'PEG_ltgforward',\n",
    "                                   'NEXT_DAY_PREDICTION']]\n",
    "\n",
    "dropnan_dataset_f.to_csv('Data/generated/imputed_dataset_ml_f.csv')\n",
    "\n",
    "display(dropnan_dataset_f.head())\n"
   ]
  },
  {
   "cell_type": "markdown",
   "metadata": {},
   "source": [
    "###   \n",
    "# Prediction with Random Forest\n",
    "###   \n",
    "### Prediction\n",
    "### for Version 1: Imputed Dataset\n",
    "### for Version 2: Dataset with rows dropped where Nan\n",
    "###   \n",
    "\n"
   ]
  },
  {
   "cell_type": "markdown",
   "metadata": {},
   "source": [
    "## Feature Matrix and Response Vector with Selected Features\n"
   ]
  },
  {
   "cell_type": "markdown",
   "metadata": {},
   "source": [
    "#### Version 1: Imputed Dataset"
   ]
  },
  {
   "cell_type": "code",
   "execution_count": null,
   "metadata": {},
   "outputs": [],
   "source": [
    "# Extract labels of features\n",
    "labels_of_features_1 = imputed_dataset_f.columns[:-1]\n",
    "\n",
    "# X1 is the feature matrix\n",
    "X1 = imputed_dataset_f.iloc[:, :-1]\n",
    "#display(X1.head())\n",
    "\n",
    "# y1 is the response vector\n",
    "y1 = imputed_dataset_f.iloc[:, -1]\n",
    "#display(y1.head())\n"
   ]
  },
  {
   "cell_type": "markdown",
   "metadata": {},
   "source": [
    "#### Version 2: Dataset with rows dropped where Nan"
   ]
  },
  {
   "cell_type": "code",
   "execution_count": null,
   "metadata": {},
   "outputs": [],
   "source": [
    "# Extract labels of features\n",
    "labels_of_features_2 = dropnan_dataset_f.columns[:-1]\n",
    "\n",
    "# X2 is the feature matrix\n",
    "X2 = dropnan_dataset_f.iloc[:, :-1]\n",
    "#display(X2.head())\n",
    "\n",
    "# y2 is the response vector\n",
    "y2 = dropnan_dataset_f.iloc[:, -1]\n",
    "#display(y2.head())"
   ]
  },
  {
   "cell_type": "markdown",
   "metadata": {},
   "source": [
    "## Train - / Test - Split with Selected Features"
   ]
  },
  {
   "cell_type": "markdown",
   "metadata": {},
   "source": [
    "#### Version 1: Imputed Dataset"
   ]
  },
  {
   "cell_type": "code",
   "execution_count": null,
   "metadata": {},
   "outputs": [],
   "source": [
    "# Do the train - test- split\n",
    "X1_train, X1_test, y1_train, y1_test = train_test_split(X1, y1, test_size = 0.2, random_state = 0, stratify = y1)\n",
    "\n",
    "# Check if there is the approximately same percentage of '1' i both training and test response vector\n",
    "display(y1_train.sum() / y1_train.size)\n",
    "display(y1_test.sum() / y1_test.size)"
   ]
  },
  {
   "cell_type": "markdown",
   "metadata": {},
   "source": [
    "#### Version 2: Dataset with rows dropped where Nan"
   ]
  },
  {
   "cell_type": "code",
   "execution_count": null,
   "metadata": {},
   "outputs": [],
   "source": [
    "# Do the train - test- split\n",
    "X2_train, X2_test, y2_train, y2_test = train_test_split(X2, y2, test_size = 0.2, random_state = 0, stratify = y2)\n",
    "\n",
    "# Check if there is the approximately same percentage of '1' i both training and test response vector\n",
    "display(y2_train.sum() / y2_train.size)\n",
    "display(y2_test.sum() / y2_test.size)\n"
   ]
  },
  {
   "cell_type": "markdown",
   "metadata": {},
   "source": [
    "## Standardize Variables"
   ]
  },
  {
   "cell_type": "code",
   "execution_count": null,
   "metadata": {},
   "outputs": [],
   "source": [
    "# Version 1:\n",
    "# Standardization with sklearn StandardScaler\n",
    "standard_scaler_1 = preprocessing.StandardScaler().fit(X1_train)\n",
    "X1_train = standard_scaler_1.transform(X1_train)\n",
    "X1_test = standard_scaler_1.transform(X1_test)\n",
    "\n",
    "# Version 2:\n",
    "# Standardization with sklearn StandardScaler\n",
    "standard_scaler_2 = preprocessing.StandardScaler().fit(X2_train)\n",
    "X2_train = standard_scaler_2.transform(X2_train)\n",
    "X2_test = standard_scaler_2.transform(X2_test)"
   ]
  },
  {
   "cell_type": "markdown",
   "metadata": {},
   "source": [
    "## Prediction of Response Vector with Random Forest"
   ]
  },
  {
   "cell_type": "markdown",
   "metadata": {},
   "source": [
    "#### Version 1: Imputed Dataset"
   ]
  },
  {
   "cell_type": "code",
   "execution_count": null,
   "metadata": {},
   "outputs": [],
   "source": [
    "# Test prediction of y1 with the test feature matrix: gives the prediction vector\n",
    "\n",
    "my_forest_1 = RandomForestClassifier(random_state = 1)\n",
    "my_forest_1.max_depth = 8\n",
    "my_forest_1.fit(X1_train, y1_train)\n",
    "\n",
    "prediction_1 = my_forest_1.predict(X1_test)\n",
    "\n",
    "print(\"\")\n",
    "print('Predicted response Vector (First 10)')\n",
    "display(prediction_1[0:10])\n",
    "\n",
    "\n",
    "print(\"\")\n",
    "print('For comparison: Test-Response-Vector (First 10)')\n",
    "display(np.array(y1_test[0:10]))"
   ]
  },
  {
   "cell_type": "markdown",
   "metadata": {},
   "source": [
    "#### Version 2: Dataset with rows dropped where Nan"
   ]
  },
  {
   "cell_type": "code",
   "execution_count": null,
   "metadata": {},
   "outputs": [],
   "source": [
    "# Test prediction of y2 with the test feature matrix: gives the prediction vector\n",
    "\n",
    "my_forest_2 = RandomForestClassifier(random_state = 1)\n",
    "my_forest_2.max_depth = 8\n",
    "my_forest_2.fit(X2_train, y2_train)\n",
    "\n",
    "prediction_2 = my_forest_2.predict(X2_test)\n",
    "\n",
    "print(\"\")\n",
    "print('Predicted response Vector (First 10)')\n",
    "display(prediction_2[0:10])\n",
    "\n",
    "\n",
    "print(\"\")\n",
    "print('For comparison: Test-Response-Vector (First 10)')\n",
    "display(np.array(y2_test[0:10]))"
   ]
  },
  {
   "cell_type": "markdown",
   "metadata": {},
   "source": [
    "# Cross-Validation of Prediction-Results"
   ]
  },
  {
   "cell_type": "markdown",
   "metadata": {},
   "source": [
    "#### Version 1: Imputed Dataset"
   ]
  },
  {
   "cell_type": "code",
   "execution_count": null,
   "metadata": {},
   "outputs": [],
   "source": [
    "# Calculate percentage of of ones in the test response vector\n",
    "print('Ratio of Ones (Test 1)   =  ' + str(y1_test.sum() / y1_test.size))\n",
    "\n",
    "# Just to be sure the ones are distributed ca.the same in test and train response vector, check this:\n",
    "print('Ratio of Ones (Train 1)  =  ' + str(y1_train.sum() / y1_train.size))\n",
    "\n",
    "# Calculate precentage of ones predicted with the model\n",
    "print('Score (Prediction 1)     =  ' + str(prediction_1.sum() / prediction_1.size))\n",
    "\n",
    "# Calculate the score surplus above the test-set response vector score\n",
    "print('Score Surplus Prediction over Guess = ' + str((prediction_1.sum()/prediction_1.size) - \n",
    "                                                     (y1_test.sum()/y1_test.size)))\n"
   ]
  },
  {
   "cell_type": "markdown",
   "metadata": {},
   "source": [
    "#### Version 2: Dataset with rows dropped where Nan"
   ]
  },
  {
   "cell_type": "code",
   "execution_count": null,
   "metadata": {},
   "outputs": [],
   "source": [
    "# Calculate percentage of of ones in the test response vector\n",
    "print('Ratio of Ones (Test 2)   =  ' + str(y2_test.sum() / y2_test.size))\n",
    "\n",
    "# Just to be sure the ones are distributed ca.the same in test and train response vector, check this:\n",
    "print('Ratio of Ones (Train 2)  =  ' + str(y2_train.sum() / y2_train.size))\n",
    "\n",
    "# Calculate precentage of ones predicted with the model\n",
    "print('Score (Prediction 2)     =  ' + str(prediction_2.sum() / prediction_2.size))\n",
    "\n",
    "# Calculate the score surplus above the test-set response vector score\n",
    "print('Score Surplus Prediction over Guess = ' + str((prediction_2.sum()/prediction_2.size) - \n",
    "                                                     (y2_test.sum()/y2_test.size)))\n"
   ]
  },
  {
   "cell_type": "raw",
   "metadata": {},
   "source": []
  },
  {
   "cell_type": "markdown",
   "metadata": {},
   "source": [
    "# Cross Validation: tbc"
   ]
  },
  {
   "cell_type": "code",
   "execution_count": null,
   "metadata": {},
   "outputs": [],
   "source": []
  },
  {
   "cell_type": "code",
   "execution_count": null,
   "metadata": {},
   "outputs": [],
   "source": []
  }
 ],
 "metadata": {
  "kernelspec": {
   "display_name": "Python 3",
   "language": "python",
   "name": "python3"
  },
  "language_info": {
   "codemirror_mode": {
    "name": "ipython",
    "version": 3
   },
   "file_extension": ".py",
   "mimetype": "text/x-python",
   "name": "python",
   "nbconvert_exporter": "python",
   "pygments_lexer": "ipython3",
   "version": "3.6.4"
  }
 },
 "nbformat": 4,
 "nbformat_minor": 2
}
