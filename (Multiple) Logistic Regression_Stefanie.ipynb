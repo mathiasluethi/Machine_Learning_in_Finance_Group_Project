{
 "cells": [
  {
   "cell_type": "markdown",
   "metadata": {},
   "source": [
    "# (Multiple) Logistic Regression"
   ]
  },
  {
   "cell_type": "code",
   "execution_count": null,
   "metadata": {
    "collapsed": true
   },
   "outputs": [],
   "source": [
    "# Load Packages\n",
    "import pandas as pd\n",
    "import numpy as np\n",
    "import matplotlib.pyplot as plt\n",
    "import statsmodels.api as sm\n",
    "import statsmodels.formula.api as smf\n",
    "plt.style.use(\"seaborn-whitegrid\")\n",
    "%matplotlib inline"
   ]
  },
  {
   "cell_type": "markdown",
   "metadata": {},
   "source": [
    "## 1. Import Standardized Data"
   ]
  },
  {
   "cell_type": "markdown",
   "metadata": {},
   "source": [
    "### 1.1 Version 1 with only ratios as predictive features"
   ]
  },
  {
   "cell_type": "code",
   "execution_count": null,
   "metadata": {
    "collapsed": true
   },
   "outputs": [],
   "source": [
    "# import Data (already splitted to train/test-data and selected features-> bc_randomforest_feature_selection)\n",
    "X1_train_s = pd.read_csv(\"Data/generated_splits/X1_train.csv\")\n",
    "y1_train = pd.read_csv(\"Data/generated_splits/y1_train.csv\")\n",
    "\n",
    "X1_train_s = X1_train.set_index([\"PERMNO\", \"DATE\"])\n",
    "y1_train = y1_train.set_index([\"PERMNO\", \"DATE\"])\n",
    "\n",
    "X1_train_s.head(3)\n",
    "y1_train.head(3)"
   ]
  },
  {
   "cell_type": "markdown",
   "metadata": {},
   "source": [
    "### 1.2 Version 2 with ratios + seasonality and other market data"
   ]
  },
  {
   "cell_type": "code",
   "execution_count": null,
   "metadata": {
    "collapsed": true
   },
   "outputs": [],
   "source": [
    "# import Data (already splitted to train/test-data and selected features-> bc_randomforest_feature_selection)\n",
    "X2_train_s = pd.read_csv(\"Data/generated_splits/X2_train.csv\")\n",
    "y2_train = pd.read_csv(\"Data/generated_splits/y2_train.csv\")\n",
    "\n",
    "X2_train_s = X2_train.set_index([\"PERMNO\", \"DATE\"])\n",
    "y2_train = y2_train.set_index([\"PERMNO\", \"DATE\"])\n",
    "\n",
    "X2_train_s.head(3)\n",
    "y2_train.head(3)"
   ]
  },
  {
   "cell_type": "markdown",
   "metadata": {},
   "source": [
    "# 2. Logistic Regressions"
   ]
  },
  {
   "cell_type": "markdown",
   "metadata": {},
   "source": [
    "## 2.1 Version 1"
   ]
  },
  {
   "cell_type": "markdown",
   "metadata": {},
   "source": [
    "### 2.1.1 Logistic Regression with only one exogen variable"
   ]
  },
  {
   "cell_type": "markdown",
   "metadata": {},
   "source": [
    "#### Logistic Regression"
   ]
  },
  {
   "cell_type": "code",
   "execution_count": null,
   "metadata": {
    "collapsed": true
   },
   "outputs": [],
   "source": [
    "## Logistic Regression (with most important feature from feature selection)\n",
    "# Assign features to matrix X and response to y\n",
    "X = sm.add_constant(X1_train_s[[\"_\"]])\n",
    "y = y1_train\n",
    "\n",
    "logReg = sm.Logit(endog = y, exog= X).fit()"
   ]
  },
  {
   "cell_type": "code",
   "execution_count": null,
   "metadata": {
    "collapsed": true
   },
   "outputs": [],
   "source": [
    "# Workaround solution for error (\"AttributeError: module 'scipy.stats' has no attribute 'chisqprob'\")\n",
    "from scipy import stats\n",
    "stats.chisqprob = lambda chisq, df: stats.chi2.sf(chisq, df)"
   ]
  },
  {
   "cell_type": "markdown",
   "metadata": {},
   "source": [
    "#### Summary"
   ]
  },
  {
   "cell_type": "code",
   "execution_count": null,
   "metadata": {
    "collapsed": true
   },
   "outputs": [],
   "source": [
    "# LogReg with only one feature as exogen variable\n",
    "print(logReg.summary())"
   ]
  },
  {
   "cell_type": "markdown",
   "metadata": {},
   "source": [
    "#### Plot"
   ]
  },
  {
   "cell_type": "code",
   "execution_count": null,
   "metadata": {
    "collapsed": true
   },
   "outputs": [],
   "source": [
    "## Plotting\n",
    "# Create df with sorted results\n",
    "res = pd.DataFrame()\n",
    "res[\"_\"] = X1_train_s._\n",
    "res[\"pred\"] = logReg.predict()\n",
    "res = res.sort_values(\"_\")\n",
    "\n",
    "# Plot scatter and log.Reg\n",
    "plt.figure(figsize =(8,5))\n",
    "plt.scatter(X1_train_s._, y1_train, marker =\".\")\n",
    "plt.plot(res._, res.pred, c = \"k\")\n",
    "plt.axhline(y=0, color = \"gray\", linestyle = \"dashed\")\n",
    "plt.axhline(y=1, color = \"gray\", linestyle = \"dashed\")\n",
    "plt.ylabel(\"Probability of up\", fontsize =12)\n",
    "plt.xlabel(\"_\", fontsize =12);"
   ]
  },
  {
   "cell_type": "markdown",
   "metadata": {},
   "source": [
    "### 2.1.2 Multiple Logistic Regression with all selected features"
   ]
  },
  {
   "cell_type": "markdown",
   "metadata": {},
   "source": [
    "#### Logistic Regression"
   ]
  },
  {
   "cell_type": "code",
   "execution_count": null,
   "metadata": {
    "collapsed": true
   },
   "outputs": [],
   "source": [
    "## Multiple Log. Regression (with all 15 features from feature selection)\n",
    "# Assign features to X and response vector y\n",
    "X = sm.add_constant(X1_train_s)\n",
    "y = y1_train"
   ]
  },
  {
   "cell_type": "markdown",
   "metadata": {},
   "source": [
    "#### Summary"
   ]
  },
  {
   "cell_type": "code",
   "execution_count": null,
   "metadata": {
    "collapsed": true
   },
   "outputs": [],
   "source": [
    "# LogReg 1\n",
    "print(\"Multiple Logistic Regression with all selected features\")\n",
    "print(78*\"_\")\n",
    "print(\"\")\n",
    "# Run Log.Reg\n",
    "logReg = sm.Logit(endog = y, exog=X).fit()\n",
    "print(logReg.summary().tables[0])\n",
    "print(logReg.summary().tables[1])"
   ]
  },
  {
   "cell_type": "code",
   "execution_count": null,
   "metadata": {
    "collapsed": true
   },
   "outputs": [],
   "source": [
    "# compare LogReg with only one feature as exogen variable & LogReg 1 \n",
    "# (explicitly Log-Likelihood values-> is there an improvement? (smaller values are prefered!))"
   ]
  },
  {
   "cell_type": "code",
   "execution_count": null,
   "metadata": {
    "collapsed": true
   },
   "outputs": [],
   "source": [
    "# Check for non significant values (p-value > 0.05) and the Log-Likelihood value"
   ]
  },
  {
   "cell_type": "markdown",
   "metadata": {},
   "source": [
    "### 2.1.3 Multiple Logistic Regression with only significant features"
   ]
  },
  {
   "cell_type": "code",
   "execution_count": null,
   "metadata": {
    "collapsed": true
   },
   "outputs": [],
   "source": [
    "# apply an other logistic regression on a transformed dataset with only all significant values from LogReg 1 (above)"
   ]
  },
  {
   "cell_type": "markdown",
   "metadata": {},
   "source": [
    "#### Logistic Regression"
   ]
  },
  {
   "cell_type": "code",
   "execution_count": null,
   "metadata": {
    "collapsed": true
   },
   "outputs": [],
   "source": [
    "## Multiple Log. Regression (with significant features from logreg above)\n",
    "# Assign features to X and response vector y\n",
    "X = sm.add_constant(X1_train_s[[\"_\", \"_\", \"_\", \"_\", \"_\"]])\n",
    "y = y1_train"
   ]
  },
  {
   "cell_type": "markdown",
   "metadata": {},
   "source": [
    "#### Summary"
   ]
  },
  {
   "cell_type": "code",
   "execution_count": null,
   "metadata": {
    "collapsed": true
   },
   "outputs": [],
   "source": [
    "# LogReg 2\n",
    "print(\"Multiple Logistic Regression with selected features\")\n",
    "print(78*\"_\")\n",
    "print(\"\")\n",
    "# Run Log.Reg\n",
    "logReg = sm.Logit(endog = y, exog=X).fit()\n",
    "print(logReg.summary().tables[0])\n",
    "print(logReg.summary().tables[1])"
   ]
  },
  {
   "cell_type": "code",
   "execution_count": null,
   "metadata": {
    "collapsed": true
   },
   "outputs": [],
   "source": [
    "# compare LogReg 1 & 2 (explicitly Log-Likelihood values-> is there an improvement? (smaller values are prefered!))"
   ]
  },
  {
   "cell_type": "code",
   "execution_count": null,
   "metadata": {
    "collapsed": true
   },
   "outputs": [],
   "source": [
    "# Does the logistic regression support our choice in feature selection (with random forest)?"
   ]
  },
  {
   "cell_type": "markdown",
   "metadata": {},
   "source": [
    "## 2.2 Version 2"
   ]
  },
  {
   "cell_type": "markdown",
   "metadata": {},
   "source": [
    "### 2.2.1 Logistic Regression with only one exogen variable"
   ]
  },
  {
   "cell_type": "markdown",
   "metadata": {},
   "source": [
    "#### Logistic Regression"
   ]
  },
  {
   "cell_type": "code",
   "execution_count": null,
   "metadata": {
    "collapsed": true
   },
   "outputs": [],
   "source": [
    "## Logistic Regression (with most important feature from feature selection)\n",
    "# Assign features to matrix X and response to y\n",
    "X = sm.add_constant(X2_train_s[[\"_\"]])\n",
    "y = y2_train\n",
    "\n",
    "logReg = sm.Logit(endog = y, exog= X).fit()"
   ]
  },
  {
   "cell_type": "code",
   "execution_count": null,
   "metadata": {
    "collapsed": true
   },
   "outputs": [],
   "source": [
    "# Workaround solution for error (\"AttributeError: module 'scipy.stats' has no attribute 'chisqprob'\")\n",
    "from scipy import stats\n",
    "stats.chisqprob = lambda chisq, df: stats.chi2.sf(chisq, df)"
   ]
  },
  {
   "cell_type": "markdown",
   "metadata": {},
   "source": [
    "#### Summary"
   ]
  },
  {
   "cell_type": "code",
   "execution_count": null,
   "metadata": {
    "collapsed": true
   },
   "outputs": [],
   "source": [
    "# LogReg with only one feature as exogen variable\n",
    "print(logReg.summary())"
   ]
  },
  {
   "cell_type": "markdown",
   "metadata": {},
   "source": [
    "### 2.2.2 Multiple Logistic Regression with all selected features"
   ]
  },
  {
   "cell_type": "markdown",
   "metadata": {},
   "source": [
    "#### Logistic Regression"
   ]
  },
  {
   "cell_type": "code",
   "execution_count": null,
   "metadata": {
    "collapsed": true
   },
   "outputs": [],
   "source": [
    "## Multiple Log. Regression (with all 15 features from feature selection)\n",
    "# Assign features to X and response vector y\n",
    "X = sm.add_constant(X2_train_s)\n",
    "y = y2_train"
   ]
  },
  {
   "cell_type": "markdown",
   "metadata": {},
   "source": [
    "#### Summary"
   ]
  },
  {
   "cell_type": "code",
   "execution_count": null,
   "metadata": {
    "collapsed": true
   },
   "outputs": [],
   "source": [
    "# LogReg A\n",
    "print(\"Multiple Logistic Regression with all selected features\")\n",
    "print(78*\"_\")\n",
    "print(\"\")\n",
    "# Run Log.Reg\n",
    "logReg = sm.Logit(endog = y, exog=X).fit()\n",
    "print(logReg.summary().tables[0])\n",
    "print(logReg.summary().tables[1])"
   ]
  },
  {
   "cell_type": "code",
   "execution_count": null,
   "metadata": {
    "collapsed": true
   },
   "outputs": [],
   "source": [
    "# compare LogReg with only one feature as exogen variable & LogReg A \n",
    "# (explicitly Log-Likelihood values-> is there an improvement? (smaller values are prefered!))"
   ]
  },
  {
   "cell_type": "code",
   "execution_count": null,
   "metadata": {
    "collapsed": true
   },
   "outputs": [],
   "source": [
    "# Check for non significant values (p-value > 0.05) and the Log-Likelihood value"
   ]
  },
  {
   "cell_type": "markdown",
   "metadata": {},
   "source": [
    "### 2.2.3 Multiple Logistic Regression with only significant features"
   ]
  },
  {
   "cell_type": "markdown",
   "metadata": {},
   "source": [
    "#### Logistic Regression"
   ]
  },
  {
   "cell_type": "code",
   "execution_count": null,
   "metadata": {
    "collapsed": true
   },
   "outputs": [],
   "source": [
    "## Multiple Log. Regression (with significant features from logreg above)\n",
    "# Assign features to X and response vector y\n",
    "X = sm.add_constant(X2_train_s[[\"_\", \"_\", \"_\", \"_\", \"_\"]])\n",
    "y = y2_train"
   ]
  },
  {
   "cell_type": "markdown",
   "metadata": {},
   "source": [
    "#### Summary"
   ]
  },
  {
   "cell_type": "code",
   "execution_count": null,
   "metadata": {
    "collapsed": true
   },
   "outputs": [],
   "source": [
    "# LogReg B\n",
    "print(\"Multiple Logistic Regression with selected features\")\n",
    "print(78*\"_\")\n",
    "print(\"\")\n",
    "# Run Log.Reg\n",
    "logReg = sm.Logit(endog = y, exog=X).fit()\n",
    "print(logReg.summary().tables[0])\n",
    "print(logReg.summary().tables[1])"
   ]
  },
  {
   "cell_type": "code",
   "execution_count": null,
   "metadata": {
    "collapsed": true
   },
   "outputs": [],
   "source": [
    "# compare LogReg A & B (explicitly Log-Likelihood values-> is there an improvement? (smaller values are prefered!))"
   ]
  },
  {
   "cell_type": "code",
   "execution_count": null,
   "metadata": {
    "collapsed": true
   },
   "outputs": [],
   "source": [
    "# Does the logistic regression support our choice in feature selection (with random forest)?"
   ]
  }
 ],
 "metadata": {
  "kernelspec": {
   "display_name": "Python 3",
   "language": "python",
   "name": "python3"
  },
  "language_info": {
   "codemirror_mode": {
    "name": "ipython",
    "version": 3
   },
   "file_extension": ".py",
   "mimetype": "text/x-python",
   "name": "python",
   "nbconvert_exporter": "python",
   "pygments_lexer": "ipython3",
   "version": "3.6.3"
  }
 },
 "nbformat": 4,
 "nbformat_minor": 2
}
